{
  "nbformat": 4,
  "nbformat_minor": 0,
  "metadata": {
    "colab": {
      "name": "Youtube Trending Data.ipynb",
      "provenance": [],
      "authorship_tag": "ABX9TyMQn/KmtgllTQoirDNgHuoZ",
      "include_colab_link": true
    },
    "kernelspec": {
      "name": "python3",
      "display_name": "Python 3"
    },
    "language_info": {
      "name": "python"
    }
  },
  "cells": [
    {
      "cell_type": "markdown",
      "metadata": {
        "id": "view-in-github",
        "colab_type": "text"
      },
      "source": [
        "<a href=\"https://colab.research.google.com/github/KieuSonTung/Data_Preparation/blob/main/Youtube_Trending_Data.ipynb\" target=\"_parent\"><img src=\"https://colab.research.google.com/assets/colab-badge.svg\" alt=\"Open In Colab\"/></a>"
      ]
    },
    {
      "cell_type": "code",
      "metadata": {
        "colab": {
          "base_uri": "https://localhost:8080/"
        },
        "id": "5nX5nQlSKdqV",
        "outputId": "2ff1eb45-da18-4dfe-cd60-78a5d42f22a9"
      },
      "source": [
        "from google.colab import drive\n",
        "drive.mount('/content/drive')"
      ],
      "execution_count": 2,
      "outputs": [
        {
          "output_type": "stream",
          "name": "stdout",
          "text": [
            "Drive already mounted at /content/drive; to attempt to forcibly remount, call drive.mount(\"/content/drive\", force_remount=True).\n"
          ]
        }
      ]
    },
    {
      "cell_type": "code",
      "metadata": {
        "id": "CMHie_a6OUxB"
      },
      "source": [
        "import pandas as pd\n",
        "import matplotlib.pyplot as plt\n",
        "import numpy as np\n"
      ],
      "execution_count": 3,
      "outputs": []
    },
    {
      "cell_type": "code",
      "metadata": {
        "id": "rxHSAPKBY_G_"
      },
      "source": [
        "plt.style.use('seaborn')"
      ],
      "execution_count": 4,
      "outputs": []
    },
    {
      "cell_type": "code",
      "metadata": {
        "colab": {
          "base_uri": "https://localhost:8080/",
          "height": 513
        },
        "id": "NFFXPARqNxq0",
        "outputId": "9acefc65-bc57-4e7d-ef12-b102499ce74e"
      },
      "source": [
        "# Reading the dataset\n",
        "\n",
        "US_df = pd.read_csv('/content/drive/MyDrive/Colab Notebooks/data/trending_youtube/USvideos.csv')\n",
        "\n",
        "US_df.head(5)"
      ],
      "execution_count": 5,
      "outputs": [
        {
          "output_type": "execute_result",
          "data": {
            "text/html": [
              "<div>\n",
              "<style scoped>\n",
              "    .dataframe tbody tr th:only-of-type {\n",
              "        vertical-align: middle;\n",
              "    }\n",
              "\n",
              "    .dataframe tbody tr th {\n",
              "        vertical-align: top;\n",
              "    }\n",
              "\n",
              "    .dataframe thead th {\n",
              "        text-align: right;\n",
              "    }\n",
              "</style>\n",
              "<table border=\"1\" class=\"dataframe\">\n",
              "  <thead>\n",
              "    <tr style=\"text-align: right;\">\n",
              "      <th></th>\n",
              "      <th>video_id</th>\n",
              "      <th>trending_date</th>\n",
              "      <th>title</th>\n",
              "      <th>channel_title</th>\n",
              "      <th>category_id</th>\n",
              "      <th>publish_time</th>\n",
              "      <th>tags</th>\n",
              "      <th>views</th>\n",
              "      <th>likes</th>\n",
              "      <th>dislikes</th>\n",
              "      <th>comment_count</th>\n",
              "      <th>thumbnail_link</th>\n",
              "      <th>comments_disabled</th>\n",
              "      <th>ratings_disabled</th>\n",
              "      <th>video_error_or_removed</th>\n",
              "      <th>description</th>\n",
              "    </tr>\n",
              "  </thead>\n",
              "  <tbody>\n",
              "    <tr>\n",
              "      <th>0</th>\n",
              "      <td>2kyS6SvSYSE</td>\n",
              "      <td>17.14.11</td>\n",
              "      <td>WE WANT TO TALK ABOUT OUR MARRIAGE</td>\n",
              "      <td>CaseyNeistat</td>\n",
              "      <td>22</td>\n",
              "      <td>2017-11-13T17:13:01.000Z</td>\n",
              "      <td>SHANtell martin</td>\n",
              "      <td>748374</td>\n",
              "      <td>57527</td>\n",
              "      <td>2966</td>\n",
              "      <td>15954</td>\n",
              "      <td>https://i.ytimg.com/vi/2kyS6SvSYSE/default.jpg</td>\n",
              "      <td>False</td>\n",
              "      <td>False</td>\n",
              "      <td>False</td>\n",
              "      <td>SHANTELL'S CHANNEL - https://www.youtube.com/s...</td>\n",
              "    </tr>\n",
              "    <tr>\n",
              "      <th>1</th>\n",
              "      <td>1ZAPwfrtAFY</td>\n",
              "      <td>17.14.11</td>\n",
              "      <td>The Trump Presidency: Last Week Tonight with J...</td>\n",
              "      <td>LastWeekTonight</td>\n",
              "      <td>24</td>\n",
              "      <td>2017-11-13T07:30:00.000Z</td>\n",
              "      <td>last week tonight trump presidency|\"last week ...</td>\n",
              "      <td>2418783</td>\n",
              "      <td>97185</td>\n",
              "      <td>6146</td>\n",
              "      <td>12703</td>\n",
              "      <td>https://i.ytimg.com/vi/1ZAPwfrtAFY/default.jpg</td>\n",
              "      <td>False</td>\n",
              "      <td>False</td>\n",
              "      <td>False</td>\n",
              "      <td>One year after the presidential election, John...</td>\n",
              "    </tr>\n",
              "    <tr>\n",
              "      <th>2</th>\n",
              "      <td>5qpjK5DgCt4</td>\n",
              "      <td>17.14.11</td>\n",
              "      <td>Racist Superman | Rudy Mancuso, King Bach &amp; Le...</td>\n",
              "      <td>Rudy Mancuso</td>\n",
              "      <td>23</td>\n",
              "      <td>2017-11-12T19:05:24.000Z</td>\n",
              "      <td>racist superman|\"rudy\"|\"mancuso\"|\"king\"|\"bach\"...</td>\n",
              "      <td>3191434</td>\n",
              "      <td>146033</td>\n",
              "      <td>5339</td>\n",
              "      <td>8181</td>\n",
              "      <td>https://i.ytimg.com/vi/5qpjK5DgCt4/default.jpg</td>\n",
              "      <td>False</td>\n",
              "      <td>False</td>\n",
              "      <td>False</td>\n",
              "      <td>WATCH MY PREVIOUS VIDEO ▶ \\n\\nSUBSCRIBE ► http...</td>\n",
              "    </tr>\n",
              "    <tr>\n",
              "      <th>3</th>\n",
              "      <td>puqaWrEC7tY</td>\n",
              "      <td>17.14.11</td>\n",
              "      <td>Nickelback Lyrics: Real or Fake?</td>\n",
              "      <td>Good Mythical Morning</td>\n",
              "      <td>24</td>\n",
              "      <td>2017-11-13T11:00:04.000Z</td>\n",
              "      <td>rhett and link|\"gmm\"|\"good mythical morning\"|\"...</td>\n",
              "      <td>343168</td>\n",
              "      <td>10172</td>\n",
              "      <td>666</td>\n",
              "      <td>2146</td>\n",
              "      <td>https://i.ytimg.com/vi/puqaWrEC7tY/default.jpg</td>\n",
              "      <td>False</td>\n",
              "      <td>False</td>\n",
              "      <td>False</td>\n",
              "      <td>Today we find out if Link is a Nickelback amat...</td>\n",
              "    </tr>\n",
              "    <tr>\n",
              "      <th>4</th>\n",
              "      <td>d380meD0W0M</td>\n",
              "      <td>17.14.11</td>\n",
              "      <td>I Dare You: GOING BALD!?</td>\n",
              "      <td>nigahiga</td>\n",
              "      <td>24</td>\n",
              "      <td>2017-11-12T18:01:41.000Z</td>\n",
              "      <td>ryan|\"higa\"|\"higatv\"|\"nigahiga\"|\"i dare you\"|\"...</td>\n",
              "      <td>2095731</td>\n",
              "      <td>132235</td>\n",
              "      <td>1989</td>\n",
              "      <td>17518</td>\n",
              "      <td>https://i.ytimg.com/vi/d380meD0W0M/default.jpg</td>\n",
              "      <td>False</td>\n",
              "      <td>False</td>\n",
              "      <td>False</td>\n",
              "      <td>I know it's been a while since we did this sho...</td>\n",
              "    </tr>\n",
              "  </tbody>\n",
              "</table>\n",
              "</div>"
            ],
            "text/plain": [
              "      video_id  ...                                        description\n",
              "0  2kyS6SvSYSE  ...  SHANTELL'S CHANNEL - https://www.youtube.com/s...\n",
              "1  1ZAPwfrtAFY  ...  One year after the presidential election, John...\n",
              "2  5qpjK5DgCt4  ...  WATCH MY PREVIOUS VIDEO ▶ \\n\\nSUBSCRIBE ► http...\n",
              "3  puqaWrEC7tY  ...  Today we find out if Link is a Nickelback amat...\n",
              "4  d380meD0W0M  ...  I know it's been a while since we did this sho...\n",
              "\n",
              "[5 rows x 16 columns]"
            ]
          },
          "metadata": {},
          "execution_count": 5
        }
      ]
    },
    {
      "cell_type": "markdown",
      "metadata": {
        "id": "g-rhoWa-P_Tv"
      },
      "source": [
        "Let's see some information about our dataset"
      ]
    },
    {
      "cell_type": "code",
      "metadata": {
        "colab": {
          "base_uri": "https://localhost:8080/"
        },
        "id": "0c7HrgF-O559",
        "outputId": "fa4170a1-8c8c-4543-c5c1-69bf9753d295"
      },
      "source": [
        "US_df.info()"
      ],
      "execution_count": 6,
      "outputs": [
        {
          "output_type": "stream",
          "name": "stdout",
          "text": [
            "<class 'pandas.core.frame.DataFrame'>\n",
            "RangeIndex: 40949 entries, 0 to 40948\n",
            "Data columns (total 16 columns):\n",
            " #   Column                  Non-Null Count  Dtype \n",
            "---  ------                  --------------  ----- \n",
            " 0   video_id                40949 non-null  object\n",
            " 1   trending_date           40949 non-null  object\n",
            " 2   title                   40949 non-null  object\n",
            " 3   channel_title           40949 non-null  object\n",
            " 4   category_id             40949 non-null  int64 \n",
            " 5   publish_time            40949 non-null  object\n",
            " 6   tags                    40949 non-null  object\n",
            " 7   views                   40949 non-null  int64 \n",
            " 8   likes                   40949 non-null  int64 \n",
            " 9   dislikes                40949 non-null  int64 \n",
            " 10  comment_count           40949 non-null  int64 \n",
            " 11  thumbnail_link          40949 non-null  object\n",
            " 12  comments_disabled       40949 non-null  bool  \n",
            " 13  ratings_disabled        40949 non-null  bool  \n",
            " 14  video_error_or_removed  40949 non-null  bool  \n",
            " 15  description             40379 non-null  object\n",
            "dtypes: bool(3), int64(5), object(8)\n",
            "memory usage: 4.2+ MB\n"
          ]
        }
      ]
    },
    {
      "cell_type": "markdown",
      "metadata": {
        "id": "UCJdrIEHQl-X"
      },
      "source": [
        "We can see that there are 40,949 non-null observations in each column of the dataframe except for the **\"description\"** comlumn, it only has 40,379 non-null values."
      ]
    },
    {
      "cell_type": "markdown",
      "metadata": {
        "id": "owRjFqirRCrG"
      },
      "source": [
        "## Data cleaning\n",
        "\n",
        "The **\"description\"** column has some null values. Let's take a look"
      ]
    },
    {
      "cell_type": "code",
      "metadata": {
        "colab": {
          "base_uri": "https://localhost:8080/",
          "height": 530
        },
        "id": "_gAo5s5mSaHv",
        "outputId": "1dca9074-ccbf-462c-836b-82a6cdae96a2"
      },
      "source": [
        "US_df[US_df['description'].isna()].head(5)"
      ],
      "execution_count": 7,
      "outputs": [
        {
          "output_type": "execute_result",
          "data": {
            "text/html": [
              "<div>\n",
              "<style scoped>\n",
              "    .dataframe tbody tr th:only-of-type {\n",
              "        vertical-align: middle;\n",
              "    }\n",
              "\n",
              "    .dataframe tbody tr th {\n",
              "        vertical-align: top;\n",
              "    }\n",
              "\n",
              "    .dataframe thead th {\n",
              "        text-align: right;\n",
              "    }\n",
              "</style>\n",
              "<table border=\"1\" class=\"dataframe\">\n",
              "  <thead>\n",
              "    <tr style=\"text-align: right;\">\n",
              "      <th></th>\n",
              "      <th>video_id</th>\n",
              "      <th>trending_date</th>\n",
              "      <th>title</th>\n",
              "      <th>channel_title</th>\n",
              "      <th>category_id</th>\n",
              "      <th>publish_time</th>\n",
              "      <th>tags</th>\n",
              "      <th>views</th>\n",
              "      <th>likes</th>\n",
              "      <th>dislikes</th>\n",
              "      <th>comment_count</th>\n",
              "      <th>thumbnail_link</th>\n",
              "      <th>comments_disabled</th>\n",
              "      <th>ratings_disabled</th>\n",
              "      <th>video_error_or_removed</th>\n",
              "      <th>description</th>\n",
              "    </tr>\n",
              "  </thead>\n",
              "  <tbody>\n",
              "    <tr>\n",
              "      <th>42</th>\n",
              "      <td>NZFhMSgbKKM</td>\n",
              "      <td>17.14.11</td>\n",
              "      <td>Dennis Smith Jr. and LeBron James go back and ...</td>\n",
              "      <td>Ben Rohrbach</td>\n",
              "      <td>17</td>\n",
              "      <td>2017-11-13T15:11:00.000Z</td>\n",
              "      <td>[none]</td>\n",
              "      <td>945</td>\n",
              "      <td>7</td>\n",
              "      <td>5</td>\n",
              "      <td>8</td>\n",
              "      <td>https://i.ytimg.com/vi/NZFhMSgbKKM/default.jpg</td>\n",
              "      <td>False</td>\n",
              "      <td>False</td>\n",
              "      <td>False</td>\n",
              "      <td>NaN</td>\n",
              "    </tr>\n",
              "    <tr>\n",
              "      <th>47</th>\n",
              "      <td>sbcbvuitiTc</td>\n",
              "      <td>17.14.11</td>\n",
              "      <td>Stephon Marbury and Jimmer Fredette fight in C...</td>\n",
              "      <td>NBA Highlights · YouTube</td>\n",
              "      <td>17</td>\n",
              "      <td>2017-11-10T18:23:05.000Z</td>\n",
              "      <td>NBA|\"Basketball\"|\"Sports\"</td>\n",
              "      <td>956169</td>\n",
              "      <td>2017</td>\n",
              "      <td>2425</td>\n",
              "      <td>1447</td>\n",
              "      <td>https://i.ytimg.com/vi/sbcbvuitiTc/default.jpg</td>\n",
              "      <td>False</td>\n",
              "      <td>False</td>\n",
              "      <td>False</td>\n",
              "      <td>NaN</td>\n",
              "    </tr>\n",
              "    <tr>\n",
              "      <th>175</th>\n",
              "      <td>4d07RXYLsJE</td>\n",
              "      <td>17.14.11</td>\n",
              "      <td>Sphaera - demonstrating interaction</td>\n",
              "      <td>Jenny Hanell</td>\n",
              "      <td>28</td>\n",
              "      <td>2017-11-04T20:48:16.000Z</td>\n",
              "      <td>[none]</td>\n",
              "      <td>1827</td>\n",
              "      <td>3</td>\n",
              "      <td>0</td>\n",
              "      <td>2</td>\n",
              "      <td>https://i.ytimg.com/vi/4d07RXYLsJE/default.jpg</td>\n",
              "      <td>False</td>\n",
              "      <td>False</td>\n",
              "      <td>False</td>\n",
              "      <td>NaN</td>\n",
              "    </tr>\n",
              "    <tr>\n",
              "      <th>267</th>\n",
              "      <td>NZFhMSgbKKM</td>\n",
              "      <td>17.15.11</td>\n",
              "      <td>Dennis Smith Jr. and LeBron James go back and ...</td>\n",
              "      <td>Ben Rohrbach</td>\n",
              "      <td>17</td>\n",
              "      <td>2017-11-13T15:11:00.000Z</td>\n",
              "      <td>[none]</td>\n",
              "      <td>21544</td>\n",
              "      <td>83</td>\n",
              "      <td>74</td>\n",
              "      <td>62</td>\n",
              "      <td>https://i.ytimg.com/vi/NZFhMSgbKKM/default.jpg</td>\n",
              "      <td>False</td>\n",
              "      <td>False</td>\n",
              "      <td>False</td>\n",
              "      <td>NaN</td>\n",
              "    </tr>\n",
              "    <tr>\n",
              "      <th>312</th>\n",
              "      <td>sbcbvuitiTc</td>\n",
              "      <td>17.15.11</td>\n",
              "      <td>Stephon Marbury and Jimmer Fredette fight in C...</td>\n",
              "      <td>NBA Highlights · YouTube</td>\n",
              "      <td>17</td>\n",
              "      <td>2017-11-10T18:23:05.000Z</td>\n",
              "      <td>NBA|\"Basketball\"|\"Sports\"</td>\n",
              "      <td>1015189</td>\n",
              "      <td>2133</td>\n",
              "      <td>2483</td>\n",
              "      <td>1465</td>\n",
              "      <td>https://i.ytimg.com/vi/sbcbvuitiTc/default.jpg</td>\n",
              "      <td>False</td>\n",
              "      <td>False</td>\n",
              "      <td>False</td>\n",
              "      <td>NaN</td>\n",
              "    </tr>\n",
              "  </tbody>\n",
              "</table>\n",
              "</div>"
            ],
            "text/plain": [
              "        video_id trending_date  ... video_error_or_removed description\n",
              "42   NZFhMSgbKKM      17.14.11  ...                  False         NaN\n",
              "47   sbcbvuitiTc      17.14.11  ...                  False         NaN\n",
              "175  4d07RXYLsJE      17.14.11  ...                  False         NaN\n",
              "267  NZFhMSgbKKM      17.15.11  ...                  False         NaN\n",
              "312  sbcbvuitiTc      17.15.11  ...                  False         NaN\n",
              "\n",
              "[5 rows x 16 columns]"
            ]
          },
          "metadata": {},
          "execution_count": 7
        }
      ]
    },
    {
      "cell_type": "markdown",
      "metadata": {
        "id": "ofjvjcvdS9U9"
      },
      "source": [
        "So let's get rid of those null values. We are going to replacing them with an empty string in place of each null value in the **\"description\"** column instead of removing the whole line."
      ]
    },
    {
      "cell_type": "code",
      "metadata": {
        "colab": {
          "base_uri": "https://localhost:8080/"
        },
        "id": "BSkQOr0kTbNy",
        "outputId": "ccf5bb39-1676-4fb1-dc21-bccf6bc78ec5"
      },
      "source": [
        "US_df.description = US_df.description.fillna('')\n",
        "\n",
        "US_df.info()"
      ],
      "execution_count": 8,
      "outputs": [
        {
          "output_type": "stream",
          "name": "stdout",
          "text": [
            "<class 'pandas.core.frame.DataFrame'>\n",
            "RangeIndex: 40949 entries, 0 to 40948\n",
            "Data columns (total 16 columns):\n",
            " #   Column                  Non-Null Count  Dtype \n",
            "---  ------                  --------------  ----- \n",
            " 0   video_id                40949 non-null  object\n",
            " 1   trending_date           40949 non-null  object\n",
            " 2   title                   40949 non-null  object\n",
            " 3   channel_title           40949 non-null  object\n",
            " 4   category_id             40949 non-null  int64 \n",
            " 5   publish_time            40949 non-null  object\n",
            " 6   tags                    40949 non-null  object\n",
            " 7   views                   40949 non-null  int64 \n",
            " 8   likes                   40949 non-null  int64 \n",
            " 9   dislikes                40949 non-null  int64 \n",
            " 10  comment_count           40949 non-null  int64 \n",
            " 11  thumbnail_link          40949 non-null  object\n",
            " 12  comments_disabled       40949 non-null  bool  \n",
            " 13  ratings_disabled        40949 non-null  bool  \n",
            " 14  video_error_or_removed  40949 non-null  bool  \n",
            " 15  description             40949 non-null  object\n",
            "dtypes: bool(3), int64(5), object(8)\n",
            "memory usage: 4.2+ MB\n"
          ]
        }
      ]
    },
    {
      "cell_type": "markdown",
      "metadata": {
        "id": "6BbdoiCPc70-"
      },
      "source": [
        "## Dataset collection years\n",
        "We are going to see in which years the dataset was collected"
      ]
    },
    {
      "cell_type": "code",
      "metadata": {
        "colab": {
          "base_uri": "https://localhost:8080/",
          "height": 111
        },
        "id": "gemuoC-Ca1dz",
        "outputId": "51d92b2d-e404-4a87-e4a3-8fb970c4be4e"
      },
      "source": [
        "# In ra tổng số video đc sản xuất trong mỗi năm trong dataset\n",
        "years = US_df['trending_date'].apply(lambda x: '20' + x[:2])  # in ra năm mà video được sx\n",
        "years = years.value_counts()  # đếm xem có bao nhiêu video ra mắt mỗi năm\n",
        "years = pd.DataFrame(years).reset_index().rename(columns={'index': 'year', 'trending_date': 'numbers'}).sort_values(by='year')\n",
        "years"
      ],
      "execution_count": 9,
      "outputs": [
        {
          "output_type": "execute_result",
          "data": {
            "text/html": [
              "<div>\n",
              "<style scoped>\n",
              "    .dataframe tbody tr th:only-of-type {\n",
              "        vertical-align: middle;\n",
              "    }\n",
              "\n",
              "    .dataframe tbody tr th {\n",
              "        vertical-align: top;\n",
              "    }\n",
              "\n",
              "    .dataframe thead th {\n",
              "        text-align: right;\n",
              "    }\n",
              "</style>\n",
              "<table border=\"1\" class=\"dataframe\">\n",
              "  <thead>\n",
              "    <tr style=\"text-align: right;\">\n",
              "      <th></th>\n",
              "      <th>year</th>\n",
              "      <th>numbers</th>\n",
              "    </tr>\n",
              "  </thead>\n",
              "  <tbody>\n",
              "    <tr>\n",
              "      <th>1</th>\n",
              "      <td>2017</td>\n",
              "      <td>9600</td>\n",
              "    </tr>\n",
              "    <tr>\n",
              "      <th>0</th>\n",
              "      <td>2018</td>\n",
              "      <td>31349</td>\n",
              "    </tr>\n",
              "  </tbody>\n",
              "</table>\n",
              "</div>"
            ],
            "text/plain": [
              "   year  numbers\n",
              "1  2017     9600\n",
              "0  2018    31349"
            ]
          },
          "metadata": {},
          "execution_count": 9
        }
      ]
    },
    {
      "cell_type": "code",
      "metadata": {
        "colab": {
          "base_uri": "https://localhost:8080/"
        },
        "id": "stAyV4kA1Yxy",
        "outputId": "c978b236-cc34-4d10-c844-0c59ba7087dc"
      },
      "source": [
        "US_df[\"trending_date\"].apply(lambda x: '20' + x[:2]).value_counts(normalize=True)"
      ],
      "execution_count": 10,
      "outputs": [
        {
          "output_type": "execute_result",
          "data": {
            "text/plain": [
              "2018    0.765562\n",
              "2017    0.234438\n",
              "Name: trending_date, dtype: float64"
            ]
          },
          "metadata": {},
          "execution_count": 10
        }
      ]
    },
    {
      "cell_type": "markdown",
      "metadata": {
        "id": "d8iUDRXk1cTk"
      },
      "source": [
        "So we can see that 77% of the collected dataset was in 2018 and 23% in 2017"
      ]
    },
    {
      "cell_type": "code",
      "metadata": {
        "colab": {
          "base_uri": "https://localhost:8080/",
          "height": 551
        },
        "id": "ggAVaQGYuHqv",
        "outputId": "08294c9a-3b44-45a9-bcb3-0a5888a6cea7"
      },
      "source": [
        "fig, ax = plt.subplots(figsize=(9, 9))\n",
        "plt.bar(years.year, years.numbers, color='#ff764a', width=0.8)\n",
        "ax.set(xlabel = 'Year', ylabel = 'Numbers of videos')\n",
        "plt.show()"
      ],
      "execution_count": 11,
      "outputs": [
        {
          "output_type": "display_data",
          "data": {
            "image/png": "[encoded data removed]",
            "text/plain": [
              "<Figure size 648x648 with 1 Axes>"
            ]
          },
          "metadata": {}
        }
      ]
    },
    {
      "cell_type": "markdown",
      "metadata": {
        "id": "7E_qTy4MvxrQ"
      },
      "source": [
        "## Describtion of numerical columns\n",
        "\n",
        "Now let's see some statistical information about the numerical columns of our dataset"
      ]
    },
    {
      "cell_type": "code",
      "metadata": {
        "colab": {
          "base_uri": "https://localhost:8080/",
          "height": 297
        },
        "id": "SDz5c3WT3HM_",
        "outputId": "f64cccb6-cf9e-4d14-ad18-6c7f4a7aa935"
      },
      "source": [
        "US_df.describe()"
      ],
      "execution_count": 12,
      "outputs": [
        {
          "output_type": "execute_result",
          "data": {
            "text/html": [
              "<div>\n",
              "<style scoped>\n",
              "    .dataframe tbody tr th:only-of-type {\n",
              "        vertical-align: middle;\n",
              "    }\n",
              "\n",
              "    .dataframe tbody tr th {\n",
              "        vertical-align: top;\n",
              "    }\n",
              "\n",
              "    .dataframe thead th {\n",
              "        text-align: right;\n",
              "    }\n",
              "</style>\n",
              "<table border=\"1\" class=\"dataframe\">\n",
              "  <thead>\n",
              "    <tr style=\"text-align: right;\">\n",
              "      <th></th>\n",
              "      <th>category_id</th>\n",
              "      <th>views</th>\n",
              "      <th>likes</th>\n",
              "      <th>dislikes</th>\n",
              "      <th>comment_count</th>\n",
              "    </tr>\n",
              "  </thead>\n",
              "  <tbody>\n",
              "    <tr>\n",
              "      <th>count</th>\n",
              "      <td>40949.000000</td>\n",
              "      <td>4.094900e+04</td>\n",
              "      <td>4.094900e+04</td>\n",
              "      <td>4.094900e+04</td>\n",
              "      <td>4.094900e+04</td>\n",
              "    </tr>\n",
              "    <tr>\n",
              "      <th>mean</th>\n",
              "      <td>19.972429</td>\n",
              "      <td>2.360785e+06</td>\n",
              "      <td>7.426670e+04</td>\n",
              "      <td>3.711401e+03</td>\n",
              "      <td>8.446804e+03</td>\n",
              "    </tr>\n",
              "    <tr>\n",
              "      <th>std</th>\n",
              "      <td>7.568327</td>\n",
              "      <td>7.394114e+06</td>\n",
              "      <td>2.288853e+05</td>\n",
              "      <td>2.902971e+04</td>\n",
              "      <td>3.743049e+04</td>\n",
              "    </tr>\n",
              "    <tr>\n",
              "      <th>min</th>\n",
              "      <td>1.000000</td>\n",
              "      <td>5.490000e+02</td>\n",
              "      <td>0.000000e+00</td>\n",
              "      <td>0.000000e+00</td>\n",
              "      <td>0.000000e+00</td>\n",
              "    </tr>\n",
              "    <tr>\n",
              "      <th>25%</th>\n",
              "      <td>17.000000</td>\n",
              "      <td>2.423290e+05</td>\n",
              "      <td>5.424000e+03</td>\n",
              "      <td>2.020000e+02</td>\n",
              "      <td>6.140000e+02</td>\n",
              "    </tr>\n",
              "    <tr>\n",
              "      <th>50%</th>\n",
              "      <td>24.000000</td>\n",
              "      <td>6.818610e+05</td>\n",
              "      <td>1.809100e+04</td>\n",
              "      <td>6.310000e+02</td>\n",
              "      <td>1.856000e+03</td>\n",
              "    </tr>\n",
              "    <tr>\n",
              "      <th>75%</th>\n",
              "      <td>25.000000</td>\n",
              "      <td>1.823157e+06</td>\n",
              "      <td>5.541700e+04</td>\n",
              "      <td>1.938000e+03</td>\n",
              "      <td>5.755000e+03</td>\n",
              "    </tr>\n",
              "    <tr>\n",
              "      <th>max</th>\n",
              "      <td>43.000000</td>\n",
              "      <td>2.252119e+08</td>\n",
              "      <td>5.613827e+06</td>\n",
              "      <td>1.674420e+06</td>\n",
              "      <td>1.361580e+06</td>\n",
              "    </tr>\n",
              "  </tbody>\n",
              "</table>\n",
              "</div>"
            ],
            "text/plain": [
              "        category_id         views         likes      dislikes  comment_count\n",
              "count  40949.000000  4.094900e+04  4.094900e+04  4.094900e+04   4.094900e+04\n",
              "mean      19.972429  2.360785e+06  7.426670e+04  3.711401e+03   8.446804e+03\n",
              "std        7.568327  7.394114e+06  2.288853e+05  2.902971e+04   3.743049e+04\n",
              "min        1.000000  5.490000e+02  0.000000e+00  0.000000e+00   0.000000e+00\n",
              "25%       17.000000  2.423290e+05  5.424000e+03  2.020000e+02   6.140000e+02\n",
              "50%       24.000000  6.818610e+05  1.809100e+04  6.310000e+02   1.856000e+03\n",
              "75%       25.000000  1.823157e+06  5.541700e+04  1.938000e+03   5.755000e+03\n",
              "max       43.000000  2.252119e+08  5.613827e+06  1.674420e+06   1.361580e+06"
            ]
          },
          "metadata": {},
          "execution_count": 12
        }
      ]
    },
    {
      "cell_type": "markdown",
      "metadata": {
        "id": "IGUwzLjZQsfz"
      },
      "source": [
        "From  the table above, we can see that:\n",
        "\n",
        "*   The mean number of views is 2.36e6 while the median is 6.81e5, which means **views** has right skewed distribution and half of the trending videos have less views than the average.\n",
        "*   Same things happpened to **likes**, **dislikes** and **comment_count**\n",
        "\n",
        "---\n",
        "## View histogram\n",
        "Now let's plot a histogram for the **views** column to take a look at its distribution\n",
        "\n",
        "\n"
      ]
    },
    {
      "cell_type": "code",
      "metadata": {
        "colab": {
          "base_uri": "https://localhost:8080/",
          "height": 338
        },
        "id": "RyVAjz1d3c1X",
        "outputId": "0e97cad8-1989-4e9b-97af-9f5fe8e07601"
      },
      "source": [
        "fig, ax = plt.subplots(figsize=(10, 5))\n",
        "ax.hist(US_df.views, bins = np.linspace(0, 2.3e8, 47))\n",
        "ax.set(xlabel=\"Views\", ylabel=\"Number of videos\", xticks=np.arange(0, 2.4e8, 1e7))\n",
        "plt.xticks(rotation=90)\n",
        "plt.show()"
      ],
      "execution_count": 13,
      "outputs": [
        {
          "output_type": "display_data",
          "data": {
            "image/png": "[encoded data removed]",
            "text/plain": [
              "<Figure size 720x360 with 1 Axes>"
            ]
          },
          "metadata": {}
        }
      ]
    },
    {
      "cell_type": "markdown",
      "metadata": {
        "id": "m8pY64XPU9yD"
      },
      "source": [
        "We can see that most of the trending videos have less than 0.1e8 (10 million) views so let's plot the histogram just for the videos with 10 million views or less"
      ]
    },
    {
      "cell_type": "code",
      "metadata": {
        "colab": {
          "base_uri": "https://localhost:8080/",
          "height": 334
        },
        "id": "r526poO7OM29",
        "outputId": "70234fc1-b143-46d1-e58e-889133dbcda1"
      },
      "source": [
        "fig, ax = plt.subplots(figsize=(10, 5))\n",
        "ax.hist(US_df[US_df.views < 0.1e8].views, bins = np.linspace(0, 0.1e8, 50))\n",
        "ax.set(xlabel='Views', ylabel='Number of videos')\n",
        "plt.show()"
      ],
      "execution_count": 14,
      "outputs": [
        {
          "output_type": "display_data",
          "data": {
            "image/png": "[encoded data removed]",
            "text/plain": [
              "<Figure size 720x360 with 1 Axes>"
            ]
          },
          "metadata": {}
        }
      ]
    },
    {
      "cell_type": "markdown",
      "metadata": {
        "id": "Mbry0vT8Xzqi"
      },
      "source": [
        "The percentage of videos less than 0.5e7 (5 million) views"
      ]
    },
    {
      "cell_type": "code",
      "metadata": {
        "colab": {
          "base_uri": "https://localhost:8080/"
        },
        "id": "PrqvQ-v4YRMd",
        "outputId": "5dc05100-f00b-4626-db58-c3736b7c6741"
      },
      "source": [
        "US_df[US_df['views'] < 0.5e7]['views'].count() / US_df['views'].count() * 100 "
      ],
      "execution_count": 15,
      "outputs": [
        {
          "output_type": "execute_result",
          "data": {
            "text/plain": [
              "90.81052040342865"
            ]
          },
          "metadata": {},
          "execution_count": 15
        }
      ]
    },
    {
      "cell_type": "markdown",
      "metadata": {
        "id": "cJTlPHIyYpNx"
      },
      "source": [
        "## Likes histogram\n",
        "Similarly, we plot the histogram for **likes** column"
      ]
    },
    {
      "cell_type": "code",
      "metadata": {
        "colab": {
          "base_uri": "https://localhost:8080/",
          "height": 338
        },
        "id": "kyTKrroTY3qO",
        "outputId": "52ca36f2-88f2-4ed9-e738-d9764e311b13"
      },
      "source": [
        "fig, ax = plt.subplots(figsize=(10, 5))\n",
        "ax.hist(US_df.likes, bins = np.linspace(0, 5.62e6, 50))\n",
        "ax.set(xlabel=\"Likes\", ylabel=\"Number of videos\", xticks=np.arange(0, 5.62e6, 5e5))\n",
        "plt.xticks(rotation=90)\n",
        "plt.show()"
      ],
      "execution_count": 19,
      "outputs": [
        {
          "output_type": "display_data",
          "data": {
            "image/png": "[encoded data removed]",
            "text/plain": [
              "<Figure size 720x360 with 1 Axes>"
            ]
          },
          "metadata": {}
        }
      ]
    },
    {
      "cell_type": "markdown",
      "metadata": {
        "id": "4ccTAjHGZ2BV"
      },
      "source": [
        "We can see that most of the trending videos have less than 0.1e6 (100,000) views so let's plot the histogram just for the videos with 100,000 views or less"
      ]
    },
    {
      "cell_type": "code",
      "metadata": {
        "colab": {
          "base_uri": "https://localhost:8080/",
          "height": 320
        },
        "id": "4wVSYc8baKPM",
        "outputId": "8e10405f-1153-4d99-a06e-be939b57bb28"
      },
      "source": [
        "fig, ax = plt.subplots(figsize=(10, 5))\n",
        "ax.hist(US_df.likes[US_df.likes <= 0.1e6], bins = np.linspace(0, 0.1e6, 100))\n",
        "plt.show()"
      ],
      "execution_count": 28,
      "outputs": [
        {
          "output_type": "display_data",
          "data": {
            "image/png": "[encoded data removed]",
            "text/plain": [
              "<Figure size 720x360 with 1 Axes>"
            ]
          },
          "metadata": {}
        }
      ]
    },
    {
      "cell_type": "markdown",
      "metadata": {
        "id": "4inZAMOabq_8"
      },
      "source": [
        "We can see that the vast majority of trending videos have 40,000 likes or less and we have the percentage of those videos"
      ]
    },
    {
      "cell_type": "code",
      "metadata": {
        "colab": {
          "base_uri": "https://localhost:8080/"
        },
        "id": "Gk_35Kz5b-XL",
        "outputId": "207047b7-a4d4-4d0e-c7a9-8309a4633e6c"
      },
      "source": [
        "US_df[US_df['likes'] < 40000]['likes'].count() / US_df['likes'].count() * 100"
      ],
      "execution_count": 29,
      "outputs": [
        {
          "output_type": "execute_result",
          "data": {
            "text/plain": [
              "68.4900730176561"
            ]
          },
          "metadata": {},
          "execution_count": 29
        }
      ]
    },
    {
      "cell_type": "markdown",
      "metadata": {
        "id": "brDG32BbcNKS"
      },
      "source": [
        "And similarly, the percentage of videos have 100,000 likes or less"
      ]
    },
    {
      "cell_type": "code",
      "metadata": {
        "colab": {
          "base_uri": "https://localhost:8080/"
        },
        "id": "xnGGgnlocZC_",
        "outputId": "77e59170-b16d-45e3-f15a-3eef89e6e3d9"
      },
      "source": [
        "US_df[US_df['likes'] < 100000]['likes'].count() / US_df['likes'].count() * 100"
      ],
      "execution_count": 30,
      "outputs": [
        {
          "output_type": "execute_result",
          "data": {
            "text/plain": [
              "83.91657915944222"
            ]
          },
          "metadata": {},
          "execution_count": 30
        }
      ]
    },
    {
      "cell_type": "markdown",
      "metadata": {
        "id": "QIlTtQFnchSS"
      },
      "source": [
        "## Comment count histogram\n"
      ]
    },
    {
      "cell_type": "markdown",
      "metadata": {
        "id": "TLfLcGvrcuX5"
      },
      "source": [
        "Similarly, we plot the histogram for **comment_count** column"
      ]
    },
    {
      "cell_type": "code",
      "metadata": {
        "colab": {
          "base_uri": "https://localhost:8080/",
          "height": 338
        },
        "id": "NLNhyNqYczVi",
        "outputId": "e92af5c6-f330-4134-a1d0-3e95e4dcdd86"
      },
      "source": [
        "fig, ax = plt.subplots(figsize=(10, 5))\n",
        "ax.hist(US_df.comment_count, bins = np.linspace(0, 1.36e6, 50))\n",
        "ax.set(xlabel=\"Likes\", ylabel=\"Number of videos\", xticks=np.arange(0, 1.36e6, 1e5))\n",
        "plt.xticks(rotation=90)\n",
        "plt.show()"
      ],
      "execution_count": 32,
      "outputs": [
        {
          "output_type": "display_data",
          "data": {
            "image/png": "[encoded data removed]",
            "text/plain": [
              "<Figure size 720x360 with 1 Axes>"
            ]
          },
          "metadata": {}
        }
      ]
    },
    {
      "cell_type": "markdown",
      "metadata": {
        "id": "qMsuQlVEdW3L"
      },
      "source": [
        "Let's take a closer look by eliminating entries with comment count larger than 0.1e6 (100000)"
      ]
    },
    {
      "cell_type": "code",
      "metadata": {
        "colab": {
          "base_uri": "https://localhost:8080/",
          "height": 320
        },
        "id": "5MVjiCz0dmSN",
        "outputId": "842dde5a-f9ea-44a0-d587-f89c8756bb6f"
      },
      "source": [
        "fig, ax = plt.subplots(figsize=(10, 5))\n",
        "ax.hist(US_df.comment_count[US_df.likes <= 0.1e6], bins = np.linspace(0, 0.1e6, 50))\n",
        "plt.show()"
      ],
      "execution_count": 38,
      "outputs": [
        {
          "output_type": "display_data",
          "data": {
            "image/png": "[encoded data removed]",
            "text/plain": [
              "<Figure size 720x360 with 1 Axes>"
            ]
          },
          "metadata": {}
        }
      ]
    },
    {
      "cell_type": "markdown",
      "metadata": {
        "id": "Z2aRJXWfefCE"
      },
      "source": [
        "The percetage of videos with less than 10,000 comment"
      ]
    },
    {
      "cell_type": "code",
      "metadata": {
        "colab": {
          "base_uri": "https://localhost:8080/"
        },
        "id": "A-gd9uK4lmQC",
        "outputId": "314fb0a0-9f6b-4131-bdb1-eae89a11400c"
      },
      "source": [
        "US_df[US_df['comment_count'] < 10000]['comment_count'].count() / US_df['comment_count'].count() * 100"
      ],
      "execution_count": 40,
      "outputs": [
        {
          "output_type": "execute_result",
          "data": {
            "text/plain": [
              "83.81157049012185"
            ]
          },
          "metadata": {},
          "execution_count": 40
        }
      ]
    },
    {
      "cell_type": "markdown",
      "metadata": {
        "id": "jkOIVquZly3p"
      },
      "source": [
        "The percetage of videos with less than 5,000 comment"
      ]
    },
    {
      "cell_type": "code",
      "metadata": {
        "colab": {
          "base_uri": "https://localhost:8080/"
        },
        "id": "VoyV1qNyltER",
        "outputId": "4a913c77-350b-4038-d921-d8d26796ee72"
      },
      "source": [
        "US_df[US_df['comment_count'] < 5000]['comment_count'].count() / US_df['comment_count'].count() * 100"
      ],
      "execution_count": 41,
      "outputs": [
        {
          "output_type": "execute_result",
          "data": {
            "text/plain": [
              "72.25817480280348"
            ]
          },
          "metadata": {},
          "execution_count": 41
        }
      ]
    },
    {
      "cell_type": "markdown",
      "metadata": {
        "id": "V7RRXRDQl3X5"
      },
      "source": [
        "## Description on non-numerical columns\n",
        "We now describe non-numerical columns"
      ]
    },
    {
      "cell_type": "code",
      "metadata": {
        "colab": {
          "base_uri": "https://localhost:8080/",
          "height": 190
        },
        "id": "vkgRVMn-qCiU",
        "outputId": "3a62e096-11b2-4344-adc3-a3cd4a3060e1"
      },
      "source": [
        "US_df.describe(include=['O'])"
      ],
      "execution_count": 43,
      "outputs": [
        {
          "output_type": "execute_result",
          "data": {
            "text/html": [
              "<div>\n",
              "<style scoped>\n",
              "    .dataframe tbody tr th:only-of-type {\n",
              "        vertical-align: middle;\n",
              "    }\n",
              "\n",
              "    .dataframe tbody tr th {\n",
              "        vertical-align: top;\n",
              "    }\n",
              "\n",
              "    .dataframe thead th {\n",
              "        text-align: right;\n",
              "    }\n",
              "</style>\n",
              "<table border=\"1\" class=\"dataframe\">\n",
              "  <thead>\n",
              "    <tr style=\"text-align: right;\">\n",
              "      <th></th>\n",
              "      <th>video_id</th>\n",
              "      <th>trending_date</th>\n",
              "      <th>title</th>\n",
              "      <th>channel_title</th>\n",
              "      <th>publish_time</th>\n",
              "      <th>tags</th>\n",
              "      <th>thumbnail_link</th>\n",
              "      <th>description</th>\n",
              "    </tr>\n",
              "  </thead>\n",
              "  <tbody>\n",
              "    <tr>\n",
              "      <th>count</th>\n",
              "      <td>40949</td>\n",
              "      <td>40949</td>\n",
              "      <td>40949</td>\n",
              "      <td>40949</td>\n",
              "      <td>40949</td>\n",
              "      <td>40949</td>\n",
              "      <td>40949</td>\n",
              "      <td>40949</td>\n",
              "    </tr>\n",
              "    <tr>\n",
              "      <th>unique</th>\n",
              "      <td>6351</td>\n",
              "      <td>205</td>\n",
              "      <td>6455</td>\n",
              "      <td>2207</td>\n",
              "      <td>6269</td>\n",
              "      <td>6055</td>\n",
              "      <td>6352</td>\n",
              "      <td>6902</td>\n",
              "    </tr>\n",
              "    <tr>\n",
              "      <th>top</th>\n",
              "      <td>j4KvrAUjn6c</td>\n",
              "      <td>18.03.04</td>\n",
              "      <td>WE MADE OUR MOM CRY...HER DREAM CAME TRUE!</td>\n",
              "      <td>ESPN</td>\n",
              "      <td>2018-05-18T14:00:04.000Z</td>\n",
              "      <td>[none]</td>\n",
              "      <td>https://i.ytimg.com/vi/j4KvrAUjn6c/default.jpg</td>\n",
              "      <td></td>\n",
              "    </tr>\n",
              "    <tr>\n",
              "      <th>freq</th>\n",
              "      <td>30</td>\n",
              "      <td>200</td>\n",
              "      <td>30</td>\n",
              "      <td>203</td>\n",
              "      <td>50</td>\n",
              "      <td>1535</td>\n",
              "      <td>30</td>\n",
              "      <td>570</td>\n",
              "    </tr>\n",
              "  </tbody>\n",
              "</table>\n",
              "</div>"
            ],
            "text/plain": [
              "           video_id  ... description\n",
              "count         40949  ...       40949\n",
              "unique         6351  ...        6902\n",
              "top     j4KvrAUjn6c  ...            \n",
              "freq             30  ...         570\n",
              "\n",
              "[4 rows x 8 columns]"
            ]
          },
          "metadata": {},
          "execution_count": 43
        }
      ]
    },
    {
      "cell_type": "markdown",
      "metadata": {
        "id": "3FKc7LS1rTKe"
      },
      "source": [
        "From the table above, we can see that there are 205 unique dates, which means that our dataset contains collected data about trending videos in 205 days.\n",
        "\n",
        "From the **video_id** section, we can see that there are total 40949 videos, but there are only 6351 unique videos which means some videos appeared on the the trending list **more than one day**. For example, the video with title \"WE MADE OUR MOM CRY...HER DREAM CAME TRUE!\" appeared 30 times on the trending list."
      ]
    },
    {
      "cell_type": "code",
      "metadata": {
        "colab": {
          "base_uri": "https://localhost:8080/"
        },
        "id": "_x1xB0QYq_rG",
        "outputId": "55a06ab0-a256-4a9c-bf91-013a8d140d39"
      },
      "source": [
        "US_df[US_df.title == 'WE MADE OUR MOM CRY...HER DREAM CAME TRUE!'].count()"
      ],
      "execution_count": 47,
      "outputs": [
        {
          "output_type": "execute_result",
          "data": {
            "text/plain": [
              "video_id                  30\n",
              "trending_date             30\n",
              "title                     30\n",
              "channel_title             30\n",
              "category_id               30\n",
              "publish_time              30\n",
              "tags                      30\n",
              "views                     30\n",
              "likes                     30\n",
              "dislikes                  30\n",
              "comment_count             30\n",
              "thumbnail_link            30\n",
              "comments_disabled         30\n",
              "ratings_disabled          30\n",
              "video_error_or_removed    30\n",
              "description               30\n",
              "dtype: int64"
            ]
          },
          "metadata": {},
          "execution_count": 47
        }
      ]
    },
    {
      "cell_type": "markdown",
      "metadata": {
        "id": "4uGMvJ3ixgQx"
      },
      "source": [
        "But you can see that there are 6351 unique videos but there are 6455 unique titles, which means some videos have more than one title. Our prediciton is that maybe after featuring in the trending list, it appeared agian on another day but with a modified title or maybe different videos from different channels have the same titles.\n",
        "\n",
        "The firgure for **channel_title** is much lower than **video_id**, which means there are only a few channel who always made hits.\n",
        "\n"
      ]
    },
    {
      "cell_type": "code",
      "metadata": {
        "colab": {
          "base_uri": "https://localhost:8080/",
          "height": 643
        },
        "id": "S5oKimcUzaJ8",
        "outputId": "4c73170c-3d0b-4829-9879-575a9076c339"
      },
      "source": [
        "test = pd.concat([US_df.video_id, US_df.title], axis=1, keys=['video_id', 'title']).drop_duplicates()\n",
        "groups = []\n",
        "for t in test.title:\n",
        "    if len(test[test.title == t]) != 1:\n",
        "        groups.append(t)\n",
        "\n",
        "US_df[US_df.title == 'Justice League - Movie Review']"
      ],
      "execution_count": 68,
      "outputs": [
        {
          "output_type": "execute_result",
          "data": {
            "text/html": [
              "<div>\n",
              "<style scoped>\n",
              "    .dataframe tbody tr th:only-of-type {\n",
              "        vertical-align: middle;\n",
              "    }\n",
              "\n",
              "    .dataframe tbody tr th {\n",
              "        vertical-align: top;\n",
              "    }\n",
              "\n",
              "    .dataframe thead th {\n",
              "        text-align: right;\n",
              "    }\n",
              "</style>\n",
              "<table border=\"1\" class=\"dataframe\">\n",
              "  <thead>\n",
              "    <tr style=\"text-align: right;\">\n",
              "      <th></th>\n",
              "      <th>video_id</th>\n",
              "      <th>trending_date</th>\n",
              "      <th>title</th>\n",
              "      <th>channel_title</th>\n",
              "      <th>category_id</th>\n",
              "      <th>publish_time</th>\n",
              "      <th>tags</th>\n",
              "      <th>views</th>\n",
              "      <th>likes</th>\n",
              "      <th>dislikes</th>\n",
              "      <th>comment_count</th>\n",
              "      <th>thumbnail_link</th>\n",
              "      <th>comments_disabled</th>\n",
              "      <th>ratings_disabled</th>\n",
              "      <th>video_error_or_removed</th>\n",
              "      <th>description</th>\n",
              "    </tr>\n",
              "  </thead>\n",
              "  <tbody>\n",
              "    <tr>\n",
              "      <th>408</th>\n",
              "      <td>pgjRX9oGF7g</td>\n",
              "      <td>17.16.11</td>\n",
              "      <td>Justice League - Movie Review</td>\n",
              "      <td>Jeremy Jahns</td>\n",
              "      <td>24</td>\n",
              "      <td>2017-11-15T07:55:04.000Z</td>\n",
              "      <td>Justice league|\"dceu\"|\"avengers\"|\"DC\"|\"wb\"|\"co...</td>\n",
              "      <td>593969</td>\n",
              "      <td>24672</td>\n",
              "      <td>735</td>\n",
              "      <td>5173</td>\n",
              "      <td>https://i.ytimg.com/vi/pgjRX9oGF7g/default.jpg</td>\n",
              "      <td>False</td>\n",
              "      <td>False</td>\n",
              "      <td>False</td>\n",
              "      <td>The heroes of the DCEU have come together whic...</td>\n",
              "    </tr>\n",
              "    <tr>\n",
              "      <th>630</th>\n",
              "      <td>8KT1UCsOE74</td>\n",
              "      <td>17.17.11</td>\n",
              "      <td>Justice League - Movie Review</td>\n",
              "      <td>Chris Stuckmann</td>\n",
              "      <td>24</td>\n",
              "      <td>2017-11-15T09:43:32.000Z</td>\n",
              "      <td>Justice League|\"Movie Review\"|\"Chris Stuckmann...</td>\n",
              "      <td>816696</td>\n",
              "      <td>29135</td>\n",
              "      <td>1267</td>\n",
              "      <td>8648</td>\n",
              "      <td>https://i.ytimg.com/vi/8KT1UCsOE74/default.jpg</td>\n",
              "      <td>False</td>\n",
              "      <td>False</td>\n",
              "      <td>False</td>\n",
              "      <td>FACEBOOK: https://www.facebook.com/ChrisStuckm...</td>\n",
              "    </tr>\n",
              "    <tr>\n",
              "      <th>865</th>\n",
              "      <td>8KT1UCsOE74</td>\n",
              "      <td>17.18.11</td>\n",
              "      <td>Justice League - Movie Review</td>\n",
              "      <td>Chris Stuckmann</td>\n",
              "      <td>24</td>\n",
              "      <td>2017-11-15T09:43:32.000Z</td>\n",
              "      <td>Justice League|\"Movie Review\"|\"Chris Stuckmann...</td>\n",
              "      <td>914063</td>\n",
              "      <td>31150</td>\n",
              "      <td>1471</td>\n",
              "      <td>9449</td>\n",
              "      <td>https://i.ytimg.com/vi/8KT1UCsOE74/default.jpg</td>\n",
              "      <td>False</td>\n",
              "      <td>False</td>\n",
              "      <td>False</td>\n",
              "      <td>FACEBOOK: https://www.facebook.com/ChrisStuckm...</td>\n",
              "    </tr>\n",
              "    <tr>\n",
              "      <th>1080</th>\n",
              "      <td>8KT1UCsOE74</td>\n",
              "      <td>17.19.11</td>\n",
              "      <td>Justice League - Movie Review</td>\n",
              "      <td>Chris Stuckmann</td>\n",
              "      <td>24</td>\n",
              "      <td>2017-11-15T09:43:32.000Z</td>\n",
              "      <td>Justice League|\"Movie Review\"|\"Chris Stuckmann...</td>\n",
              "      <td>987117</td>\n",
              "      <td>32742</td>\n",
              "      <td>1597</td>\n",
              "      <td>10123</td>\n",
              "      <td>https://i.ytimg.com/vi/8KT1UCsOE74/default.jpg</td>\n",
              "      <td>False</td>\n",
              "      <td>False</td>\n",
              "      <td>False</td>\n",
              "      <td>FACEBOOK: https://www.facebook.com/ChrisStuckm...</td>\n",
              "    </tr>\n",
              "    <tr>\n",
              "      <th>1305</th>\n",
              "      <td>8KT1UCsOE74</td>\n",
              "      <td>17.20.11</td>\n",
              "      <td>Justice League - Movie Review</td>\n",
              "      <td>Chris Stuckmann</td>\n",
              "      <td>24</td>\n",
              "      <td>2017-11-15T09:43:32.000Z</td>\n",
              "      <td>Justice League|\"Movie Review\"|\"Chris Stuckmann...</td>\n",
              "      <td>1048329</td>\n",
              "      <td>34097</td>\n",
              "      <td>1692</td>\n",
              "      <td>10445</td>\n",
              "      <td>https://i.ytimg.com/vi/8KT1UCsOE74/default.jpg</td>\n",
              "      <td>False</td>\n",
              "      <td>False</td>\n",
              "      <td>False</td>\n",
              "      <td>FACEBOOK: https://www.facebook.com/ChrisStuckm...</td>\n",
              "    </tr>\n",
              "    <tr>\n",
              "      <th>1558</th>\n",
              "      <td>8KT1UCsOE74</td>\n",
              "      <td>17.21.11</td>\n",
              "      <td>Justice League - Movie Review</td>\n",
              "      <td>Chris Stuckmann</td>\n",
              "      <td>24</td>\n",
              "      <td>2017-11-15T09:43:32.000Z</td>\n",
              "      <td>Justice League|\"Movie Review\"|\"Chris Stuckmann...</td>\n",
              "      <td>1088828</td>\n",
              "      <td>34989</td>\n",
              "      <td>1773</td>\n",
              "      <td>10715</td>\n",
              "      <td>https://i.ytimg.com/vi/8KT1UCsOE74/default.jpg</td>\n",
              "      <td>False</td>\n",
              "      <td>False</td>\n",
              "      <td>False</td>\n",
              "      <td>FACEBOOK: https://www.facebook.com/ChrisStuckm...</td>\n",
              "    </tr>\n",
              "    <tr>\n",
              "      <th>1789</th>\n",
              "      <td>pgjRX9oGF7g</td>\n",
              "      <td>17.22.11</td>\n",
              "      <td>Justice League - Movie Review</td>\n",
              "      <td>Jeremy Jahns</td>\n",
              "      <td>24</td>\n",
              "      <td>2017-11-15T07:55:04.000Z</td>\n",
              "      <td>Justice league|\"dceu\"|\"avengers\"|\"DC\"|\"wb\"|\"co...</td>\n",
              "      <td>968868</td>\n",
              "      <td>32181</td>\n",
              "      <td>1279</td>\n",
              "      <td>7720</td>\n",
              "      <td>https://i.ytimg.com/vi/pgjRX9oGF7g/default.jpg</td>\n",
              "      <td>False</td>\n",
              "      <td>False</td>\n",
              "      <td>False</td>\n",
              "      <td>The heroes of the DCEU have come together whic...</td>\n",
              "    </tr>\n",
              "  </tbody>\n",
              "</table>\n",
              "</div>"
            ],
            "text/plain": [
              "         video_id  ...                                        description\n",
              "408   pgjRX9oGF7g  ...  The heroes of the DCEU have come together whic...\n",
              "630   8KT1UCsOE74  ...  FACEBOOK: https://www.facebook.com/ChrisStuckm...\n",
              "865   8KT1UCsOE74  ...  FACEBOOK: https://www.facebook.com/ChrisStuckm...\n",
              "1080  8KT1UCsOE74  ...  FACEBOOK: https://www.facebook.com/ChrisStuckm...\n",
              "1305  8KT1UCsOE74  ...  FACEBOOK: https://www.facebook.com/ChrisStuckm...\n",
              "1558  8KT1UCsOE74  ...  FACEBOOK: https://www.facebook.com/ChrisStuckm...\n",
              "1789  pgjRX9oGF7g  ...  The heroes of the DCEU have come together whic...\n",
              "\n",
              "[7 rows x 16 columns]"
            ]
          },
          "metadata": {},
          "execution_count": 68
        }
      ]
    }
  ]
}