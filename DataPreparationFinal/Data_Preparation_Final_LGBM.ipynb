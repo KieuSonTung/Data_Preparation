{
  "nbformat": 4,
  "nbformat_minor": 0,
  "metadata": {
    "colab": {
      "name": "Data Preparation Final_LGBM.ipynb",
      "provenance": [],
      "collapsed_sections": [
        "C8uPdllCgKJk"
      ],
      "toc_visible": true,
      "authorship_tag": "ABX9TyM92Nxtx9CMxqywNRqXstvB",
      "include_colab_link": true
    },
    "kernelspec": {
      "name": "python3",
      "display_name": "Python 3"
    },
    "language_info": {
      "name": "python"
    }
  },
  "cells": [
    {
      "cell_type": "markdown",
      "metadata": {
        "id": "view-in-github",
        "colab_type": "text"
      },
      "source": [
        "<a href=\"https://colab.research.google.com/github/KieuSonTung/Data_Preparation/blob/main/DataPreparationFinal/Data_Preparation_Final_LGBM.ipynb\" target=\"_parent\"><img src=\"https://colab.research.google.com/assets/colab-badge.svg\" alt=\"Open In Colab\"/></a>"
      ]
    },
    {
      "cell_type": "code",
      "execution_count": 326,
      "metadata": {
        "colab": {
          "base_uri": "https://localhost:8080/"
        },
        "id": "dhAuL180TlEq",
        "outputId": "6221da82-b72e-4603-9365-18b96744237d"
      },
      "outputs": [
        {
          "output_type": "stream",
          "name": "stdout",
          "text": [
            "Drive already mounted at /content/drive; to attempt to forcibly remount, call drive.mount(\"/content/drive\", force_remount=True).\n"
          ]
        }
      ],
      "source": [
        "from google.colab import drive\n",
        "drive.mount('/content/drive')"
      ]
    },
    {
      "cell_type": "code",
      "source": [
        "!pip install lightgbm --install-option=--gpu"
      ],
      "metadata": {
        "colab": {
          "base_uri": "https://localhost:8080/"
        },
        "id": "64VUZvEVBqjX",
        "outputId": "c2d46290-acc6-4879-e937-4fa700b7efe5"
      },
      "execution_count": 327,
      "outputs": [
        {
          "output_type": "stream",
          "name": "stdout",
          "text": [
            "/usr/local/lib/python3.7/dist-packages/pip/_internal/commands/install.py:232: UserWarning: Disabling all use of wheels due to the use of --build-option / --global-option / --install-option.\n",
            "  cmdoptions.check_install_build_global(options)\n",
            "Requirement already satisfied: lightgbm in /usr/local/lib/python3.7/dist-packages (2.2.3)\n",
            "Requirement already satisfied: numpy in /usr/local/lib/python3.7/dist-packages (from lightgbm) (1.19.5)\n",
            "Requirement already satisfied: scikit-learn in /usr/local/lib/python3.7/dist-packages (from lightgbm) (1.0.1)\n",
            "Requirement already satisfied: scipy in /usr/local/lib/python3.7/dist-packages (from lightgbm) (1.4.1)\n",
            "Requirement already satisfied: joblib>=0.11 in /usr/local/lib/python3.7/dist-packages (from scikit-learn->lightgbm) (1.1.0)\n",
            "Requirement already satisfied: threadpoolctl>=2.0.0 in /usr/local/lib/python3.7/dist-packages (from scikit-learn->lightgbm) (3.0.0)\n"
          ]
        }
      ]
    },
    {
      "cell_type": "code",
      "source": [
        "import pandas as pd\n",
        "import numpy as np\n",
        "import matplotlib.pyplot as plt\n",
        "import seaborn as sns\n",
        "from lightgbm import LGBMRegressor\n",
        "sns.set()"
      ],
      "metadata": {
        "id": "Q0y22NuYUEL7"
      },
      "execution_count": 328,
      "outputs": []
    },
    {
      "cell_type": "code",
      "source": [
        "plt.style.use('seaborn')"
      ],
      "metadata": {
        "id": "9Yrov0Q5UUFe"
      },
      "execution_count": 329,
      "outputs": []
    },
    {
      "cell_type": "markdown",
      "source": [
        "## Load the dateset"
      ],
      "metadata": {
        "id": "e7iKaBe9ZMyc"
      }
    },
    {
      "cell_type": "code",
      "source": [
        "train = pd.read_csv('/content/drive/MyDrive/Colab Notebooks/data/car train.csv', sep=';')\n",
        "train.head()"
      ],
      "metadata": {
        "colab": {
          "base_uri": "https://localhost:8080/",
          "height": 414
        },
        "id": "7_eekvQ2X3Ey",
        "outputId": "9da9ce60-05fa-4fae-fcc6-6ac0ed175119"
      },
      "execution_count": 330,
      "outputs": [
        {
          "output_type": "execute_result",
          "data": {
            "text/html": [
              "<div>\n",
              "<style scoped>\n",
              "    .dataframe tbody tr th:only-of-type {\n",
              "        vertical-align: middle;\n",
              "    }\n",
              "\n",
              "    .dataframe tbody tr th {\n",
              "        vertical-align: top;\n",
              "    }\n",
              "\n",
              "    .dataframe thead th {\n",
              "        text-align: right;\n",
              "    }\n",
              "</style>\n",
              "<table border=\"1\" class=\"dataframe\">\n",
              "  <thead>\n",
              "    <tr style=\"text-align: right;\">\n",
              "      <th></th>\n",
              "      <th>name</th>\n",
              "      <th>year</th>\n",
              "      <th>selling_price</th>\n",
              "      <th>km_driven</th>\n",
              "      <th>fuel</th>\n",
              "      <th>seller_type</th>\n",
              "      <th>transmission</th>\n",
              "      <th>owner</th>\n",
              "      <th>mileage</th>\n",
              "      <th>engine</th>\n",
              "      <th>max_power</th>\n",
              "      <th>torque</th>\n",
              "      <th>seats</th>\n",
              "    </tr>\n",
              "  </thead>\n",
              "  <tbody>\n",
              "    <tr>\n",
              "      <th>0</th>\n",
              "      <td>Tata Nexon 1.5 Revotorq XM</td>\n",
              "      <td>2018</td>\n",
              "      <td>850000</td>\n",
              "      <td>9500</td>\n",
              "      <td>Diesel</td>\n",
              "      <td>Individual</td>\n",
              "      <td>Manual</td>\n",
              "      <td>First Owner</td>\n",
              "      <td>21.5 kmpl</td>\n",
              "      <td>1497 CC</td>\n",
              "      <td>108.5 bhp</td>\n",
              "      <td>260Nm@ 1500-2750rpm</td>\n",
              "      <td>5.0</td>\n",
              "    </tr>\n",
              "    <tr>\n",
              "      <th>1</th>\n",
              "      <td>Hyundai i20 Active SX Diesel</td>\n",
              "      <td>2018</td>\n",
              "      <td>750000</td>\n",
              "      <td>30000</td>\n",
              "      <td>Diesel</td>\n",
              "      <td>Individual</td>\n",
              "      <td>Manual</td>\n",
              "      <td>First Owner</td>\n",
              "      <td>21.19 kmpl</td>\n",
              "      <td>1396 CC</td>\n",
              "      <td>88.76 bhp</td>\n",
              "      <td>219.66nm@ 1500-2750rpm</td>\n",
              "      <td>5.0</td>\n",
              "    </tr>\n",
              "    <tr>\n",
              "      <th>2</th>\n",
              "      <td>Toyota Fortuner 4x2 AT</td>\n",
              "      <td>2015</td>\n",
              "      <td>1500000</td>\n",
              "      <td>80000</td>\n",
              "      <td>Diesel</td>\n",
              "      <td>Individual</td>\n",
              "      <td>Automatic</td>\n",
              "      <td>Second Owner</td>\n",
              "      <td>12.55 kmpl</td>\n",
              "      <td>2982 CC</td>\n",
              "      <td>168.5 bhp</td>\n",
              "      <td>360Nm@ 1400-3200rpm</td>\n",
              "      <td>7.0</td>\n",
              "    </tr>\n",
              "    <tr>\n",
              "      <th>3</th>\n",
              "      <td>Hyundai Verna 1.6 VTVT SX</td>\n",
              "      <td>2015</td>\n",
              "      <td>795000</td>\n",
              "      <td>35000</td>\n",
              "      <td>Petrol</td>\n",
              "      <td>Individual</td>\n",
              "      <td>Manual</td>\n",
              "      <td>First Owner</td>\n",
              "      <td>17.01 kmpl</td>\n",
              "      <td>1591 CC</td>\n",
              "      <td>121.3 bhp</td>\n",
              "      <td>154.9Nm@ 4200rpm</td>\n",
              "      <td>5.0</td>\n",
              "    </tr>\n",
              "    <tr>\n",
              "      <th>4</th>\n",
              "      <td>Volvo XC40 D4 Inscription BSIV</td>\n",
              "      <td>2019</td>\n",
              "      <td>3800000</td>\n",
              "      <td>20000</td>\n",
              "      <td>Diesel</td>\n",
              "      <td>Individual</td>\n",
              "      <td>Automatic</td>\n",
              "      <td>First Owner</td>\n",
              "      <td>18.0 kmpl</td>\n",
              "      <td>1969 CC</td>\n",
              "      <td>190 bhp</td>\n",
              "      <td>400Nm</td>\n",
              "      <td>5.0</td>\n",
              "    </tr>\n",
              "  </tbody>\n",
              "</table>\n",
              "</div>"
            ],
            "text/plain": [
              "                             name  year  ...                  torque  seats\n",
              "0      Tata Nexon 1.5 Revotorq XM  2018  ...     260Nm@ 1500-2750rpm    5.0\n",
              "1    Hyundai i20 Active SX Diesel  2018  ...  219.66nm@ 1500-2750rpm    5.0\n",
              "2          Toyota Fortuner 4x2 AT  2015  ...     360Nm@ 1400-3200rpm    7.0\n",
              "3       Hyundai Verna 1.6 VTVT SX  2015  ...        154.9Nm@ 4200rpm    5.0\n",
              "4  Volvo XC40 D4 Inscription BSIV  2019  ...                   400Nm    5.0\n",
              "\n",
              "[5 rows x 13 columns]"
            ]
          },
          "metadata": {},
          "execution_count": 330
        }
      ]
    },
    {
      "cell_type": "code",
      "source": [
        "df = train.copy()\n",
        "df = df.dropna()\n",
        "df = df.reset_index(drop=True)"
      ],
      "metadata": {
        "id": "62c1XL1Wobrn"
      },
      "execution_count": 331,
      "outputs": []
    },
    {
      "cell_type": "markdown",
      "source": [
        "## Overview"
      ],
      "metadata": {
        "id": "1RMLCHi4ZU18"
      }
    },
    {
      "cell_type": "code",
      "source": [
        "train.info()"
      ],
      "metadata": {
        "colab": {
          "base_uri": "https://localhost:8080/"
        },
        "id": "M_eRciWZZXEa",
        "outputId": "d08aec53-2175-423a-a062-0fac8b0b8fd1"
      },
      "execution_count": 332,
      "outputs": [
        {
          "output_type": "stream",
          "name": "stdout",
          "text": [
            "<class 'pandas.core.frame.DataFrame'>\n",
            "RangeIndex: 6000 entries, 0 to 5999\n",
            "Data columns (total 13 columns):\n",
            " #   Column         Non-Null Count  Dtype  \n",
            "---  ------         --------------  -----  \n",
            " 0   name           6000 non-null   object \n",
            " 1   year           6000 non-null   int64  \n",
            " 2   selling_price  6000 non-null   int64  \n",
            " 3   km_driven      6000 non-null   int64  \n",
            " 4   fuel           6000 non-null   object \n",
            " 5   seller_type    6000 non-null   object \n",
            " 6   transmission   6000 non-null   object \n",
            " 7   owner          6000 non-null   object \n",
            " 8   mileage        5841 non-null   object \n",
            " 9   engine         5841 non-null   object \n",
            " 10  max_power      5846 non-null   object \n",
            " 11  torque         5840 non-null   object \n",
            " 12  seats          5841 non-null   float64\n",
            "dtypes: float64(1), int64(3), object(9)\n",
            "memory usage: 609.5+ KB\n"
          ]
        }
      ]
    },
    {
      "cell_type": "markdown",
      "source": [
        "We are modifying some fields "
      ],
      "metadata": {
        "id": "50x21ZDgbWNq"
      }
    },
    {
      "cell_type": "markdown",
      "source": [
        "## Fuel\n"
      ],
      "metadata": {
        "id": "J4guxhOpweHV"
      }
    },
    {
      "cell_type": "code",
      "source": [
        "train['fuel'].value_counts()"
      ],
      "metadata": {
        "colab": {
          "base_uri": "https://localhost:8080/"
        },
        "id": "euKLczc9wiLt",
        "outputId": "390e43d0-80a8-4039-8095-a0b2b408ecad"
      },
      "execution_count": 333,
      "outputs": [
        {
          "output_type": "execute_result",
          "data": {
            "text/plain": [
              "Diesel    3265\n",
              "Petrol    2664\n",
              "CNG         44\n",
              "LPG         27\n",
              "Name: fuel, dtype: int64"
            ]
          },
          "metadata": {},
          "execution_count": 333
        }
      ]
    },
    {
      "cell_type": "markdown",
      "source": [
        "We are going to replace CNG and LPG with Petrol since the number of their observations is too little"
      ],
      "metadata": {
        "id": "xpu7WcnP3CqR"
      }
    },
    {
      "cell_type": "code",
      "source": [
        "train['fuel'] = train['fuel'].replace(['CNG', 'LPG'], 'Petrol')\n",
        "train.fuel.value_counts()"
      ],
      "metadata": {
        "colab": {
          "base_uri": "https://localhost:8080/"
        },
        "id": "0GVrdDqa9bMO",
        "outputId": "76ad8a73-d5aa-4f3c-e236-70bb7d91b3d3"
      },
      "execution_count": 334,
      "outputs": [
        {
          "output_type": "execute_result",
          "data": {
            "text/plain": [
              "Diesel    3265\n",
              "Petrol    2735\n",
              "Name: fuel, dtype: int64"
            ]
          },
          "metadata": {},
          "execution_count": 334
        }
      ]
    },
    {
      "cell_type": "code",
      "source": [
        "Fuel = train[['fuel']]\n",
        "Fuel = pd.get_dummies(Fuel, drop_first=True)\n",
        "Fuel.head()"
      ],
      "metadata": {
        "colab": {
          "base_uri": "https://localhost:8080/",
          "height": 206
        },
        "id": "xry9ZgeA99vd",
        "outputId": "8545d041-96b0-446b-c3a3-b2a7108b0531"
      },
      "execution_count": 335,
      "outputs": [
        {
          "output_type": "execute_result",
          "data": {
            "text/html": [
              "<div>\n",
              "<style scoped>\n",
              "    .dataframe tbody tr th:only-of-type {\n",
              "        vertical-align: middle;\n",
              "    }\n",
              "\n",
              "    .dataframe tbody tr th {\n",
              "        vertical-align: top;\n",
              "    }\n",
              "\n",
              "    .dataframe thead th {\n",
              "        text-align: right;\n",
              "    }\n",
              "</style>\n",
              "<table border=\"1\" class=\"dataframe\">\n",
              "  <thead>\n",
              "    <tr style=\"text-align: right;\">\n",
              "      <th></th>\n",
              "      <th>fuel_Petrol</th>\n",
              "    </tr>\n",
              "  </thead>\n",
              "  <tbody>\n",
              "    <tr>\n",
              "      <th>0</th>\n",
              "      <td>0</td>\n",
              "    </tr>\n",
              "    <tr>\n",
              "      <th>1</th>\n",
              "      <td>0</td>\n",
              "    </tr>\n",
              "    <tr>\n",
              "      <th>2</th>\n",
              "      <td>0</td>\n",
              "    </tr>\n",
              "    <tr>\n",
              "      <th>3</th>\n",
              "      <td>1</td>\n",
              "    </tr>\n",
              "    <tr>\n",
              "      <th>4</th>\n",
              "      <td>0</td>\n",
              "    </tr>\n",
              "  </tbody>\n",
              "</table>\n",
              "</div>"
            ],
            "text/plain": [
              "   fuel_Petrol\n",
              "0            0\n",
              "1            0\n",
              "2            0\n",
              "3            1\n",
              "4            0"
            ]
          },
          "metadata": {},
          "execution_count": 335
        }
      ]
    },
    {
      "cell_type": "code",
      "source": [
        "fig, ax = plt.subplots(figsize=(20, 10))\n",
        "ax = sns.boxplot(x='fuel', y='selling_price', data=train)\n",
        "locs, labels = plt.xticks()\n",
        "plt.setp(labels, rotation=45)\n",
        "plt.show()"
      ],
      "metadata": {
        "colab": {
          "base_uri": "https://localhost:8080/",
          "height": 600
        },
        "id": "hffPd6Mn35tw",
        "outputId": "671c3372-75ca-4115-abc6-7c4a1296efb0"
      },
      "execution_count": 336,
      "outputs": [
        {
          "output_type": "display_data",
          "data": {
            "image/png": "[encoded data removed]",
            "text/plain": [
              "<Figure size 1440x720 with 1 Axes>"
            ]
          },
          "metadata": {}
        }
      ]
    },
    {
      "cell_type": "markdown",
      "source": [
        "## Brand"
      ],
      "metadata": {
        "id": "OHZ0wPoQ3GvN"
      }
    },
    {
      "cell_type": "code",
      "source": [
        "train['brand'] = train['name'].apply(lambda x: x.split()[0])\n",
        "train.brand.value_counts()"
      ],
      "metadata": {
        "colab": {
          "base_uri": "https://localhost:8080/"
        },
        "id": "P1kGUHs63IvT",
        "outputId": "ffd39a7c-5bb4-48e1-a330-6e314002d128"
      },
      "execution_count": 337,
      "outputs": [
        {
          "output_type": "execute_result",
          "data": {
            "text/plain": [
              "Maruti           1792\n",
              "Hyundai          1034\n",
              "Mahindra          595\n",
              "Tata              546\n",
              "Toyota            366\n",
              "Honda             335\n",
              "Ford              288\n",
              "Chevrolet         170\n",
              "Renault           164\n",
              "Volkswagen        136\n",
              "BMW                83\n",
              "Skoda              77\n",
              "Nissan             60\n",
              "Jaguar             52\n",
              "Volvo              50\n",
              "Datsun             49\n",
              "Mercedes-Benz      44\n",
              "Fiat               38\n",
              "Audi               30\n",
              "Lexus              27\n",
              "Jeep               23\n",
              "Mitsubishi         12\n",
              "Land                6\n",
              "Force               5\n",
              "Isuzu               5\n",
              "Kia                 4\n",
              "Ambassador          3\n",
              "Daewoo              2\n",
              "MG                  1\n",
              "Peugeot             1\n",
              "Opel                1\n",
              "Ashok               1\n",
              "Name: brand, dtype: int64"
            ]
          },
          "metadata": {},
          "execution_count": 337
        }
      ]
    },
    {
      "cell_type": "markdown",
      "source": [
        "Since there are a lor of brands, we are going to devide those brands into two categories: Asia car and Euro car"
      ],
      "metadata": {
        "id": "SGXBTAtG7PnQ"
      }
    },
    {
      "cell_type": "code",
      "source": [
        "asia_car = ['Maruti', 'Hyundai', 'Toyota', 'Tata', 'Honda', 'Nissan', 'Datsun', \n",
        "            'Mitsubishi', 'Isuzu', 'Kia', 'Daewoo']\n",
        "train['brand'] = train['name'].apply(lambda x: 'Asia' if x.split()[0] in asia_car else 'Euro')\n",
        "'''\n",
        "1: Asia brand\n",
        "2: Euro brand\n",
        "'''\n",
        "train.brand.value_counts()"
      ],
      "metadata": {
        "colab": {
          "base_uri": "https://localhost:8080/"
        },
        "id": "MNk6cMmU3qnm",
        "outputId": "b9b4144c-ec97-4438-f613-d191513eacda"
      },
      "execution_count": 338,
      "outputs": [
        {
          "output_type": "execute_result",
          "data": {
            "text/plain": [
              "Asia    4205\n",
              "Euro    1795\n",
              "Name: brand, dtype: int64"
            ]
          },
          "metadata": {},
          "execution_count": 338
        }
      ]
    },
    {
      "cell_type": "code",
      "source": [
        "Brand = train[['brand']]\n",
        "Brand = pd.get_dummies(Brand, drop_first=True)\n",
        "Brand.head()"
      ],
      "metadata": {
        "colab": {
          "base_uri": "https://localhost:8080/",
          "height": 206
        },
        "id": "92-gUMG75VVx",
        "outputId": "a65381c5-a9c6-4369-9410-dcade8171818"
      },
      "execution_count": 339,
      "outputs": [
        {
          "output_type": "execute_result",
          "data": {
            "text/html": [
              "<div>\n",
              "<style scoped>\n",
              "    .dataframe tbody tr th:only-of-type {\n",
              "        vertical-align: middle;\n",
              "    }\n",
              "\n",
              "    .dataframe tbody tr th {\n",
              "        vertical-align: top;\n",
              "    }\n",
              "\n",
              "    .dataframe thead th {\n",
              "        text-align: right;\n",
              "    }\n",
              "</style>\n",
              "<table border=\"1\" class=\"dataframe\">\n",
              "  <thead>\n",
              "    <tr style=\"text-align: right;\">\n",
              "      <th></th>\n",
              "      <th>brand_Euro</th>\n",
              "    </tr>\n",
              "  </thead>\n",
              "  <tbody>\n",
              "    <tr>\n",
              "      <th>0</th>\n",
              "      <td>0</td>\n",
              "    </tr>\n",
              "    <tr>\n",
              "      <th>1</th>\n",
              "      <td>0</td>\n",
              "    </tr>\n",
              "    <tr>\n",
              "      <th>2</th>\n",
              "      <td>0</td>\n",
              "    </tr>\n",
              "    <tr>\n",
              "      <th>3</th>\n",
              "      <td>0</td>\n",
              "    </tr>\n",
              "    <tr>\n",
              "      <th>4</th>\n",
              "      <td>1</td>\n",
              "    </tr>\n",
              "  </tbody>\n",
              "</table>\n",
              "</div>"
            ],
            "text/plain": [
              "   brand_Euro\n",
              "0           0\n",
              "1           0\n",
              "2           0\n",
              "3           0\n",
              "4           1"
            ]
          },
          "metadata": {},
          "execution_count": 339
        }
      ]
    },
    {
      "cell_type": "code",
      "source": [
        "fig, ax = plt.subplots(figsize=(20, 10))\n",
        "ax = sns.boxplot(x='brand', y='selling_price', data=train)\n",
        "locs, labels = plt.xticks()\n",
        "plt.setp(labels, rotation=45)\n",
        "plt.show()"
      ],
      "metadata": {
        "colab": {
          "base_uri": "https://localhost:8080/",
          "height": 595
        },
        "id": "DV1FDfXC6kiD",
        "outputId": "606e801a-e14a-4db3-a539-d0435da517e2"
      },
      "execution_count": 340,
      "outputs": [
        {
          "output_type": "display_data",
          "data": {
            "image/png": "[encoded data removed]",
            "text/plain": [
              "<Figure size 1440x720 with 1 Axes>"
            ]
          },
          "metadata": {}
        }
      ]
    },
    {
      "cell_type": "markdown",
      "source": [
        "## Year"
      ],
      "metadata": {
        "id": "gxxw--adh3Hi"
      }
    },
    {
      "cell_type": "code",
      "source": [
        "train['year'].value_counts().sort_index()"
      ],
      "metadata": {
        "colab": {
          "base_uri": "https://localhost:8080/"
        },
        "id": "LM4sSbjwnmzW",
        "outputId": "29799a6e-948b-4e0c-812a-9709a8e79f26"
      },
      "execution_count": 341,
      "outputs": [
        {
          "output_type": "execute_result",
          "data": {
            "text/plain": [
              "1983      1\n",
              "1994      1\n",
              "1995      2\n",
              "1996      2\n",
              "1997     10\n",
              "1998      7\n",
              "1999     11\n",
              "2000     14\n",
              "2001      8\n",
              "2002     24\n",
              "2003     39\n",
              "2004     46\n",
              "2005     73\n",
              "2006     86\n",
              "2007    130\n",
              "2008    159\n",
              "2009    165\n",
              "2010    290\n",
              "2011    448\n",
              "2012    485\n",
              "2013    493\n",
              "2014    470\n",
              "2015    572\n",
              "2016    630\n",
              "2017    752\n",
              "2018    608\n",
              "2019    425\n",
              "2020     49\n",
              "Name: year, dtype: int64"
            ]
          },
          "metadata": {},
          "execution_count": 341
        }
      ]
    },
    {
      "cell_type": "markdown",
      "source": [
        "Since most of the cars in the dataset are quite new (mostly around 2016, 2017), we are going to devide the **year** column into two categories: Before 2015 and After 2015"
      ],
      "metadata": {
        "id": "qMA1Wvjy_uMU"
      }
    },
    {
      "cell_type": "code",
      "source": [
        "train['class_year'] = train['year'].apply(lambda x: 'before_2015' if x <= 2015 else 'after_2015')\n",
        "train['class_year'].value_counts()"
      ],
      "metadata": {
        "colab": {
          "base_uri": "https://localhost:8080/"
        },
        "id": "2MS_Y9T4oFZh",
        "outputId": "85635786-9a5d-46c2-c01a-3ab8a9f6bce2"
      },
      "execution_count": 342,
      "outputs": [
        {
          "output_type": "execute_result",
          "data": {
            "text/plain": [
              "before_2015    3536\n",
              "after_2015     2464\n",
              "Name: class_year, dtype: int64"
            ]
          },
          "metadata": {},
          "execution_count": 342
        }
      ]
    },
    {
      "cell_type": "code",
      "source": [
        "Year = train[['class_year']]\n",
        "Year = pd.get_dummies(Year, drop_first=True)\n",
        "Year.head()"
      ],
      "metadata": {
        "colab": {
          "base_uri": "https://localhost:8080/",
          "height": 206
        },
        "id": "6aYeKeE3-Fmn",
        "outputId": "d2613ad1-7cac-46da-b317-74d0ae94febf"
      },
      "execution_count": 343,
      "outputs": [
        {
          "output_type": "execute_result",
          "data": {
            "text/html": [
              "<div>\n",
              "<style scoped>\n",
              "    .dataframe tbody tr th:only-of-type {\n",
              "        vertical-align: middle;\n",
              "    }\n",
              "\n",
              "    .dataframe tbody tr th {\n",
              "        vertical-align: top;\n",
              "    }\n",
              "\n",
              "    .dataframe thead th {\n",
              "        text-align: right;\n",
              "    }\n",
              "</style>\n",
              "<table border=\"1\" class=\"dataframe\">\n",
              "  <thead>\n",
              "    <tr style=\"text-align: right;\">\n",
              "      <th></th>\n",
              "      <th>class_year_before_2015</th>\n",
              "    </tr>\n",
              "  </thead>\n",
              "  <tbody>\n",
              "    <tr>\n",
              "      <th>0</th>\n",
              "      <td>0</td>\n",
              "    </tr>\n",
              "    <tr>\n",
              "      <th>1</th>\n",
              "      <td>0</td>\n",
              "    </tr>\n",
              "    <tr>\n",
              "      <th>2</th>\n",
              "      <td>1</td>\n",
              "    </tr>\n",
              "    <tr>\n",
              "      <th>3</th>\n",
              "      <td>1</td>\n",
              "    </tr>\n",
              "    <tr>\n",
              "      <th>4</th>\n",
              "      <td>0</td>\n",
              "    </tr>\n",
              "  </tbody>\n",
              "</table>\n",
              "</div>"
            ],
            "text/plain": [
              "   class_year_before_2015\n",
              "0                       0\n",
              "1                       0\n",
              "2                       1\n",
              "3                       1\n",
              "4                       0"
            ]
          },
          "metadata": {},
          "execution_count": 343
        }
      ]
    },
    {
      "cell_type": "code",
      "source": [
        "# Year/ Price\n",
        "\n",
        "fig, ax = plt.subplots(figsize=(20, 10))\n",
        "ax = sns.boxplot(x='class_year', y='selling_price', data=train)\n",
        "locs, labels = plt.xticks()\n",
        "plt.show()"
      ],
      "metadata": {
        "colab": {
          "base_uri": "https://localhost:8080/",
          "height": 584
        },
        "id": "F8OTiHKKvTPA",
        "outputId": "15c895bb-b27f-4a1e-ccef-2cbe73139b3f"
      },
      "execution_count": 344,
      "outputs": [
        {
          "output_type": "display_data",
          "data": {
            "image/png": "[encoded data removed]",
            "text/plain": [
              "<Figure size 1440x720 with 1 Axes>"
            ]
          },
          "metadata": {}
        }
      ]
    },
    {
      "cell_type": "markdown",
      "source": [
        "## Seller Type"
      ],
      "metadata": {
        "id": "bSyLY4lo-yq8"
      }
    },
    {
      "cell_type": "code",
      "source": [
        "train.seller_type.value_counts()"
      ],
      "metadata": {
        "colab": {
          "base_uri": "https://localhost:8080/"
        },
        "id": "hC3iFMiZ-1aF",
        "outputId": "ccd44f55-9cf7-48bf-e26f-1bbe8243a08d"
      },
      "execution_count": 345,
      "outputs": [
        {
          "output_type": "execute_result",
          "data": {
            "text/plain": [
              "Individual          5006\n",
              "Dealer               820\n",
              "Trustmark Dealer     174\n",
              "Name: seller_type, dtype: int64"
            ]
          },
          "metadata": {},
          "execution_count": 345
        }
      ]
    },
    {
      "cell_type": "code",
      "source": [
        "train['seller_type'].replace({'Trustmark Dealer': 'Dealer'}, inplace=True)"
      ],
      "metadata": {
        "id": "eR8VLZaq_cmI"
      },
      "execution_count": 346,
      "outputs": []
    },
    {
      "cell_type": "code",
      "source": [
        "Seller = train[['seller_type']]\n",
        "Seller = pd.get_dummies(Seller, drop_first=True)\n",
        "Seller.head()"
      ],
      "metadata": {
        "colab": {
          "base_uri": "https://localhost:8080/",
          "height": 206
        },
        "id": "JB6dl0ltI4v4",
        "outputId": "98fd94ca-e5e4-4722-c78b-3db3d099756f"
      },
      "execution_count": 347,
      "outputs": [
        {
          "output_type": "execute_result",
          "data": {
            "text/html": [
              "<div>\n",
              "<style scoped>\n",
              "    .dataframe tbody tr th:only-of-type {\n",
              "        vertical-align: middle;\n",
              "    }\n",
              "\n",
              "    .dataframe tbody tr th {\n",
              "        vertical-align: top;\n",
              "    }\n",
              "\n",
              "    .dataframe thead th {\n",
              "        text-align: right;\n",
              "    }\n",
              "</style>\n",
              "<table border=\"1\" class=\"dataframe\">\n",
              "  <thead>\n",
              "    <tr style=\"text-align: right;\">\n",
              "      <th></th>\n",
              "      <th>seller_type_Individual</th>\n",
              "    </tr>\n",
              "  </thead>\n",
              "  <tbody>\n",
              "    <tr>\n",
              "      <th>0</th>\n",
              "      <td>1</td>\n",
              "    </tr>\n",
              "    <tr>\n",
              "      <th>1</th>\n",
              "      <td>1</td>\n",
              "    </tr>\n",
              "    <tr>\n",
              "      <th>2</th>\n",
              "      <td>1</td>\n",
              "    </tr>\n",
              "    <tr>\n",
              "      <th>3</th>\n",
              "      <td>1</td>\n",
              "    </tr>\n",
              "    <tr>\n",
              "      <th>4</th>\n",
              "      <td>1</td>\n",
              "    </tr>\n",
              "  </tbody>\n",
              "</table>\n",
              "</div>"
            ],
            "text/plain": [
              "   seller_type_Individual\n",
              "0                       1\n",
              "1                       1\n",
              "2                       1\n",
              "3                       1\n",
              "4                       1"
            ]
          },
          "metadata": {},
          "execution_count": 347
        }
      ]
    },
    {
      "cell_type": "markdown",
      "source": [
        "## Owner"
      ],
      "metadata": {
        "id": "7jPE_09EJkgJ"
      }
    },
    {
      "cell_type": "code",
      "source": [
        "train['owner'].value_counts()"
      ],
      "metadata": {
        "colab": {
          "base_uri": "https://localhost:8080/"
        },
        "id": "QcWFcgjBXCy2",
        "outputId": "7c021b7d-52b3-4e83-9553-72de3dea491f"
      },
      "execution_count": 348,
      "outputs": [
        {
          "output_type": "execute_result",
          "data": {
            "text/plain": [
              "First Owner             3904\n",
              "Second Owner            1558\n",
              "Third Owner              414\n",
              "Fourth & Above Owner     119\n",
              "Test Drive Car             5\n",
              "Name: owner, dtype: int64"
            ]
          },
          "metadata": {},
          "execution_count": 348
        }
      ]
    },
    {
      "cell_type": "code",
      "source": [
        "train['owner'].replace(['Fourth & Above Owner', 'Test Drive Car', 'Third Owner'], 'Others', inplace=True)"
      ],
      "metadata": {
        "id": "J3PxqztcXh7q"
      },
      "execution_count": 349,
      "outputs": []
    },
    {
      "cell_type": "code",
      "source": [
        "train['owner'].value_counts()"
      ],
      "metadata": {
        "colab": {
          "base_uri": "https://localhost:8080/"
        },
        "id": "lNKR-iQNYCmr",
        "outputId": "4e2ea134-192f-4247-8eae-c7eebb11b740"
      },
      "execution_count": 350,
      "outputs": [
        {
          "output_type": "execute_result",
          "data": {
            "text/plain": [
              "First Owner     3904\n",
              "Second Owner    1558\n",
              "Others           538\n",
              "Name: owner, dtype: int64"
            ]
          },
          "metadata": {},
          "execution_count": 350
        }
      ]
    },
    {
      "cell_type": "code",
      "source": [
        "Owner = train[['owner']]\n",
        "Owner = pd.get_dummies(Owner, drop_first=True)\n",
        "Owner.head()"
      ],
      "metadata": {
        "colab": {
          "base_uri": "https://localhost:8080/",
          "height": 206
        },
        "id": "gxB1-WXAYMIZ",
        "outputId": "ffbad53b-defe-49f9-c9c1-6e29816f59a5"
      },
      "execution_count": 351,
      "outputs": [
        {
          "output_type": "execute_result",
          "data": {
            "text/html": [
              "<div>\n",
              "<style scoped>\n",
              "    .dataframe tbody tr th:only-of-type {\n",
              "        vertical-align: middle;\n",
              "    }\n",
              "\n",
              "    .dataframe tbody tr th {\n",
              "        vertical-align: top;\n",
              "    }\n",
              "\n",
              "    .dataframe thead th {\n",
              "        text-align: right;\n",
              "    }\n",
              "</style>\n",
              "<table border=\"1\" class=\"dataframe\">\n",
              "  <thead>\n",
              "    <tr style=\"text-align: right;\">\n",
              "      <th></th>\n",
              "      <th>owner_Others</th>\n",
              "      <th>owner_Second Owner</th>\n",
              "    </tr>\n",
              "  </thead>\n",
              "  <tbody>\n",
              "    <tr>\n",
              "      <th>0</th>\n",
              "      <td>0</td>\n",
              "      <td>0</td>\n",
              "    </tr>\n",
              "    <tr>\n",
              "      <th>1</th>\n",
              "      <td>0</td>\n",
              "      <td>0</td>\n",
              "    </tr>\n",
              "    <tr>\n",
              "      <th>2</th>\n",
              "      <td>0</td>\n",
              "      <td>1</td>\n",
              "    </tr>\n",
              "    <tr>\n",
              "      <th>3</th>\n",
              "      <td>0</td>\n",
              "      <td>0</td>\n",
              "    </tr>\n",
              "    <tr>\n",
              "      <th>4</th>\n",
              "      <td>0</td>\n",
              "      <td>0</td>\n",
              "    </tr>\n",
              "  </tbody>\n",
              "</table>\n",
              "</div>"
            ],
            "text/plain": [
              "   owner_Others  owner_Second Owner\n",
              "0             0                   0\n",
              "1             0                   0\n",
              "2             0                   1\n",
              "3             0                   0\n",
              "4             0                   0"
            ]
          },
          "metadata": {},
          "execution_count": 351
        }
      ]
    },
    {
      "cell_type": "markdown",
      "source": [
        "## Mileage"
      ],
      "metadata": {
        "id": "iUQc_hADdQ39"
      }
    },
    {
      "cell_type": "code",
      "source": [
        "df['mileage'] = df['mileage'].apply(lambda x: float(x.split()[0]) if str(x).endswith('kmpl') else float(x.split()[0]) * 1.4) \n",
        "mean_mil = np.mean(df.mileage)\n",
        "\n",
        "train.mileage = train.mileage.fillna('0')\n",
        "train['mileage'] = train['mileage'].apply(lambda x: float(x.split()[0]) if str(x).endswith('kmpl') else float(x.split()[0]) * 1.4) \n",
        "train.mileage = train.mileage.replace(0, mean_mil)\n",
        "train.head()"
      ],
      "metadata": {
        "colab": {
          "base_uri": "https://localhost:8080/",
          "height": 434
        },
        "id": "S20hBUMdbccs",
        "outputId": "435f4c98-f41a-44fb-854f-be194205ce5a"
      },
      "execution_count": 352,
      "outputs": [
        {
          "output_type": "execute_result",
          "data": {
            "text/html": [
              "<div>\n",
              "<style scoped>\n",
              "    .dataframe tbody tr th:only-of-type {\n",
              "        vertical-align: middle;\n",
              "    }\n",
              "\n",
              "    .dataframe tbody tr th {\n",
              "        vertical-align: top;\n",
              "    }\n",
              "\n",
              "    .dataframe thead th {\n",
              "        text-align: right;\n",
              "    }\n",
              "</style>\n",
              "<table border=\"1\" class=\"dataframe\">\n",
              "  <thead>\n",
              "    <tr style=\"text-align: right;\">\n",
              "      <th></th>\n",
              "      <th>name</th>\n",
              "      <th>year</th>\n",
              "      <th>selling_price</th>\n",
              "      <th>km_driven</th>\n",
              "      <th>fuel</th>\n",
              "      <th>seller_type</th>\n",
              "      <th>transmission</th>\n",
              "      <th>owner</th>\n",
              "      <th>mileage</th>\n",
              "      <th>engine</th>\n",
              "      <th>max_power</th>\n",
              "      <th>torque</th>\n",
              "      <th>seats</th>\n",
              "      <th>brand</th>\n",
              "      <th>class_year</th>\n",
              "    </tr>\n",
              "  </thead>\n",
              "  <tbody>\n",
              "    <tr>\n",
              "      <th>0</th>\n",
              "      <td>Tata Nexon 1.5 Revotorq XM</td>\n",
              "      <td>2018</td>\n",
              "      <td>850000</td>\n",
              "      <td>9500</td>\n",
              "      <td>Diesel</td>\n",
              "      <td>Individual</td>\n",
              "      <td>Manual</td>\n",
              "      <td>First Owner</td>\n",
              "      <td>21.50</td>\n",
              "      <td>1497 CC</td>\n",
              "      <td>108.5 bhp</td>\n",
              "      <td>260Nm@ 1500-2750rpm</td>\n",
              "      <td>5.0</td>\n",
              "      <td>Asia</td>\n",
              "      <td>after_2015</td>\n",
              "    </tr>\n",
              "    <tr>\n",
              "      <th>1</th>\n",
              "      <td>Hyundai i20 Active SX Diesel</td>\n",
              "      <td>2018</td>\n",
              "      <td>750000</td>\n",
              "      <td>30000</td>\n",
              "      <td>Diesel</td>\n",
              "      <td>Individual</td>\n",
              "      <td>Manual</td>\n",
              "      <td>First Owner</td>\n",
              "      <td>21.19</td>\n",
              "      <td>1396 CC</td>\n",
              "      <td>88.76 bhp</td>\n",
              "      <td>219.66nm@ 1500-2750rpm</td>\n",
              "      <td>5.0</td>\n",
              "      <td>Asia</td>\n",
              "      <td>after_2015</td>\n",
              "    </tr>\n",
              "    <tr>\n",
              "      <th>2</th>\n",
              "      <td>Toyota Fortuner 4x2 AT</td>\n",
              "      <td>2015</td>\n",
              "      <td>1500000</td>\n",
              "      <td>80000</td>\n",
              "      <td>Diesel</td>\n",
              "      <td>Individual</td>\n",
              "      <td>Automatic</td>\n",
              "      <td>Second Owner</td>\n",
              "      <td>12.55</td>\n",
              "      <td>2982 CC</td>\n",
              "      <td>168.5 bhp</td>\n",
              "      <td>360Nm@ 1400-3200rpm</td>\n",
              "      <td>7.0</td>\n",
              "      <td>Asia</td>\n",
              "      <td>before_2015</td>\n",
              "    </tr>\n",
              "    <tr>\n",
              "      <th>3</th>\n",
              "      <td>Hyundai Verna 1.6 VTVT SX</td>\n",
              "      <td>2015</td>\n",
              "      <td>795000</td>\n",
              "      <td>35000</td>\n",
              "      <td>Petrol</td>\n",
              "      <td>Individual</td>\n",
              "      <td>Manual</td>\n",
              "      <td>First Owner</td>\n",
              "      <td>17.01</td>\n",
              "      <td>1591 CC</td>\n",
              "      <td>121.3 bhp</td>\n",
              "      <td>154.9Nm@ 4200rpm</td>\n",
              "      <td>5.0</td>\n",
              "      <td>Asia</td>\n",
              "      <td>before_2015</td>\n",
              "    </tr>\n",
              "    <tr>\n",
              "      <th>4</th>\n",
              "      <td>Volvo XC40 D4 Inscription BSIV</td>\n",
              "      <td>2019</td>\n",
              "      <td>3800000</td>\n",
              "      <td>20000</td>\n",
              "      <td>Diesel</td>\n",
              "      <td>Individual</td>\n",
              "      <td>Automatic</td>\n",
              "      <td>First Owner</td>\n",
              "      <td>18.00</td>\n",
              "      <td>1969 CC</td>\n",
              "      <td>190 bhp</td>\n",
              "      <td>400Nm</td>\n",
              "      <td>5.0</td>\n",
              "      <td>Euro</td>\n",
              "      <td>after_2015</td>\n",
              "    </tr>\n",
              "  </tbody>\n",
              "</table>\n",
              "</div>"
            ],
            "text/plain": [
              "                             name  year  ...  brand   class_year\n",
              "0      Tata Nexon 1.5 Revotorq XM  2018  ...   Asia   after_2015\n",
              "1    Hyundai i20 Active SX Diesel  2018  ...   Asia   after_2015\n",
              "2          Toyota Fortuner 4x2 AT  2015  ...   Asia  before_2015\n",
              "3       Hyundai Verna 1.6 VTVT SX  2015  ...   Asia  before_2015\n",
              "4  Volvo XC40 D4 Inscription BSIV  2019  ...   Euro   after_2015\n",
              "\n",
              "[5 rows x 15 columns]"
            ]
          },
          "metadata": {},
          "execution_count": 352
        }
      ]
    },
    {
      "cell_type": "markdown",
      "source": [
        "We can see that some observations have different measuring units, so we have to convert them "
      ],
      "metadata": {
        "id": "AquJt__gdVu9"
      }
    },
    {
      "cell_type": "markdown",
      "source": [
        "## Transmission"
      ],
      "metadata": {
        "id": "7BKzERPdcPQC"
      }
    },
    {
      "cell_type": "code",
      "source": [
        "train.transmission.value_counts()"
      ],
      "metadata": {
        "colab": {
          "base_uri": "https://localhost:8080/"
        },
        "id": "-lchjTI4cTG_",
        "outputId": "4b7a9f23-19b4-4d93-9995-c50d153f960f"
      },
      "execution_count": 353,
      "outputs": [
        {
          "output_type": "execute_result",
          "data": {
            "text/plain": [
              "Manual       5228\n",
              "Automatic     772\n",
              "Name: transmission, dtype: int64"
            ]
          },
          "metadata": {},
          "execution_count": 353
        }
      ]
    },
    {
      "cell_type": "code",
      "source": [
        "Trans = train[['transmission']]\n",
        "Trans = pd.get_dummies(Trans, drop_first=True)\n",
        "Trans.head()"
      ],
      "metadata": {
        "colab": {
          "base_uri": "https://localhost:8080/",
          "height": 206
        },
        "id": "Vywecja_eEvB",
        "outputId": "f0b45a51-aad6-42ea-b453-df6ecf25a3b7"
      },
      "execution_count": 354,
      "outputs": [
        {
          "output_type": "execute_result",
          "data": {
            "text/html": [
              "<div>\n",
              "<style scoped>\n",
              "    .dataframe tbody tr th:only-of-type {\n",
              "        vertical-align: middle;\n",
              "    }\n",
              "\n",
              "    .dataframe tbody tr th {\n",
              "        vertical-align: top;\n",
              "    }\n",
              "\n",
              "    .dataframe thead th {\n",
              "        text-align: right;\n",
              "    }\n",
              "</style>\n",
              "<table border=\"1\" class=\"dataframe\">\n",
              "  <thead>\n",
              "    <tr style=\"text-align: right;\">\n",
              "      <th></th>\n",
              "      <th>transmission_Manual</th>\n",
              "    </tr>\n",
              "  </thead>\n",
              "  <tbody>\n",
              "    <tr>\n",
              "      <th>0</th>\n",
              "      <td>1</td>\n",
              "    </tr>\n",
              "    <tr>\n",
              "      <th>1</th>\n",
              "      <td>1</td>\n",
              "    </tr>\n",
              "    <tr>\n",
              "      <th>2</th>\n",
              "      <td>0</td>\n",
              "    </tr>\n",
              "    <tr>\n",
              "      <th>3</th>\n",
              "      <td>1</td>\n",
              "    </tr>\n",
              "    <tr>\n",
              "      <th>4</th>\n",
              "      <td>0</td>\n",
              "    </tr>\n",
              "  </tbody>\n",
              "</table>\n",
              "</div>"
            ],
            "text/plain": [
              "   transmission_Manual\n",
              "0                    1\n",
              "1                    1\n",
              "2                    0\n",
              "3                    1\n",
              "4                    0"
            ]
          },
          "metadata": {},
          "execution_count": 354
        }
      ]
    },
    {
      "cell_type": "markdown",
      "source": [
        "## Engine"
      ],
      "metadata": {
        "id": "RSTEQslQfUN1"
      }
    },
    {
      "cell_type": "code",
      "source": [
        "df['engine'] = df['engine'].apply(lambda x: float(x.split()[0])) \n",
        "mean_en = np.mean(df.engine)\n",
        "\n",
        "train.engine = train.engine.fillna('0')\n",
        "train['engine'] = train['engine'].apply(lambda x: float(x.split()[0]))\n",
        "train.engine = train.engine.replace(0, mean_en)\n",
        "train.head()"
      ],
      "metadata": {
        "colab": {
          "base_uri": "https://localhost:8080/",
          "height": 434
        },
        "id": "ljfvjZTigBuR",
        "outputId": "30124f76-19d9-4246-e03f-8dedab5889c6"
      },
      "execution_count": 355,
      "outputs": [
        {
          "output_type": "execute_result",
          "data": {
            "text/html": [
              "<div>\n",
              "<style scoped>\n",
              "    .dataframe tbody tr th:only-of-type {\n",
              "        vertical-align: middle;\n",
              "    }\n",
              "\n",
              "    .dataframe tbody tr th {\n",
              "        vertical-align: top;\n",
              "    }\n",
              "\n",
              "    .dataframe thead th {\n",
              "        text-align: right;\n",
              "    }\n",
              "</style>\n",
              "<table border=\"1\" class=\"dataframe\">\n",
              "  <thead>\n",
              "    <tr style=\"text-align: right;\">\n",
              "      <th></th>\n",
              "      <th>name</th>\n",
              "      <th>year</th>\n",
              "      <th>selling_price</th>\n",
              "      <th>km_driven</th>\n",
              "      <th>fuel</th>\n",
              "      <th>seller_type</th>\n",
              "      <th>transmission</th>\n",
              "      <th>owner</th>\n",
              "      <th>mileage</th>\n",
              "      <th>engine</th>\n",
              "      <th>max_power</th>\n",
              "      <th>torque</th>\n",
              "      <th>seats</th>\n",
              "      <th>brand</th>\n",
              "      <th>class_year</th>\n",
              "    </tr>\n",
              "  </thead>\n",
              "  <tbody>\n",
              "    <tr>\n",
              "      <th>0</th>\n",
              "      <td>Tata Nexon 1.5 Revotorq XM</td>\n",
              "      <td>2018</td>\n",
              "      <td>850000</td>\n",
              "      <td>9500</td>\n",
              "      <td>Diesel</td>\n",
              "      <td>Individual</td>\n",
              "      <td>Manual</td>\n",
              "      <td>First Owner</td>\n",
              "      <td>21.50</td>\n",
              "      <td>1497.0</td>\n",
              "      <td>108.5 bhp</td>\n",
              "      <td>260Nm@ 1500-2750rpm</td>\n",
              "      <td>5.0</td>\n",
              "      <td>Asia</td>\n",
              "      <td>after_2015</td>\n",
              "    </tr>\n",
              "    <tr>\n",
              "      <th>1</th>\n",
              "      <td>Hyundai i20 Active SX Diesel</td>\n",
              "      <td>2018</td>\n",
              "      <td>750000</td>\n",
              "      <td>30000</td>\n",
              "      <td>Diesel</td>\n",
              "      <td>Individual</td>\n",
              "      <td>Manual</td>\n",
              "      <td>First Owner</td>\n",
              "      <td>21.19</td>\n",
              "      <td>1396.0</td>\n",
              "      <td>88.76 bhp</td>\n",
              "      <td>219.66nm@ 1500-2750rpm</td>\n",
              "      <td>5.0</td>\n",
              "      <td>Asia</td>\n",
              "      <td>after_2015</td>\n",
              "    </tr>\n",
              "    <tr>\n",
              "      <th>2</th>\n",
              "      <td>Toyota Fortuner 4x2 AT</td>\n",
              "      <td>2015</td>\n",
              "      <td>1500000</td>\n",
              "      <td>80000</td>\n",
              "      <td>Diesel</td>\n",
              "      <td>Individual</td>\n",
              "      <td>Automatic</td>\n",
              "      <td>Second Owner</td>\n",
              "      <td>12.55</td>\n",
              "      <td>2982.0</td>\n",
              "      <td>168.5 bhp</td>\n",
              "      <td>360Nm@ 1400-3200rpm</td>\n",
              "      <td>7.0</td>\n",
              "      <td>Asia</td>\n",
              "      <td>before_2015</td>\n",
              "    </tr>\n",
              "    <tr>\n",
              "      <th>3</th>\n",
              "      <td>Hyundai Verna 1.6 VTVT SX</td>\n",
              "      <td>2015</td>\n",
              "      <td>795000</td>\n",
              "      <td>35000</td>\n",
              "      <td>Petrol</td>\n",
              "      <td>Individual</td>\n",
              "      <td>Manual</td>\n",
              "      <td>First Owner</td>\n",
              "      <td>17.01</td>\n",
              "      <td>1591.0</td>\n",
              "      <td>121.3 bhp</td>\n",
              "      <td>154.9Nm@ 4200rpm</td>\n",
              "      <td>5.0</td>\n",
              "      <td>Asia</td>\n",
              "      <td>before_2015</td>\n",
              "    </tr>\n",
              "    <tr>\n",
              "      <th>4</th>\n",
              "      <td>Volvo XC40 D4 Inscription BSIV</td>\n",
              "      <td>2019</td>\n",
              "      <td>3800000</td>\n",
              "      <td>20000</td>\n",
              "      <td>Diesel</td>\n",
              "      <td>Individual</td>\n",
              "      <td>Automatic</td>\n",
              "      <td>First Owner</td>\n",
              "      <td>18.00</td>\n",
              "      <td>1969.0</td>\n",
              "      <td>190 bhp</td>\n",
              "      <td>400Nm</td>\n",
              "      <td>5.0</td>\n",
              "      <td>Euro</td>\n",
              "      <td>after_2015</td>\n",
              "    </tr>\n",
              "  </tbody>\n",
              "</table>\n",
              "</div>"
            ],
            "text/plain": [
              "                             name  year  ...  brand   class_year\n",
              "0      Tata Nexon 1.5 Revotorq XM  2018  ...   Asia   after_2015\n",
              "1    Hyundai i20 Active SX Diesel  2018  ...   Asia   after_2015\n",
              "2          Toyota Fortuner 4x2 AT  2015  ...   Asia  before_2015\n",
              "3       Hyundai Verna 1.6 VTVT SX  2015  ...   Asia  before_2015\n",
              "4  Volvo XC40 D4 Inscription BSIV  2019  ...   Euro   after_2015\n",
              "\n",
              "[5 rows x 15 columns]"
            ]
          },
          "metadata": {},
          "execution_count": 355
        }
      ]
    },
    {
      "cell_type": "markdown",
      "source": [
        "## Max Power"
      ],
      "metadata": {
        "id": "C8uPdllCgKJk"
      }
    },
    {
      "cell_type": "code",
      "source": [
        "df['max_power'] = df['max_power'].apply(lambda x: float(x.split()[0])) \n",
        "mean_mp = np.mean(df.max_power)\n",
        "\n",
        "train.max_power = train.max_power.fillna('0')\n",
        "train.max_power = train.max_power.apply(lambda x: x.split()[0])\n",
        "train.max_power = train.max_power.replace('bhp', '0')\n",
        "train.max_power = train.max_power.apply(lambda x: float(x))\n",
        "train.max_power = train.max_power.replace(0, mean_mp)\n",
        "train.head()\n"
      ],
      "metadata": {
        "colab": {
          "base_uri": "https://localhost:8080/",
          "height": 0
        },
        "id": "QBNig6FggwuV",
        "outputId": "5e8cd378-a05c-40e5-fd96-8fe74fd69b1c"
      },
      "execution_count": 356,
      "outputs": [
        {
          "output_type": "execute_result",
          "data": {
            "text/html": [
              "<div>\n",
              "<style scoped>\n",
              "    .dataframe tbody tr th:only-of-type {\n",
              "        vertical-align: middle;\n",
              "    }\n",
              "\n",
              "    .dataframe tbody tr th {\n",
              "        vertical-align: top;\n",
              "    }\n",
              "\n",
              "    .dataframe thead th {\n",
              "        text-align: right;\n",
              "    }\n",
              "</style>\n",
              "<table border=\"1\" class=\"dataframe\">\n",
              "  <thead>\n",
              "    <tr style=\"text-align: right;\">\n",
              "      <th></th>\n",
              "      <th>name</th>\n",
              "      <th>year</th>\n",
              "      <th>selling_price</th>\n",
              "      <th>km_driven</th>\n",
              "      <th>fuel</th>\n",
              "      <th>seller_type</th>\n",
              "      <th>transmission</th>\n",
              "      <th>owner</th>\n",
              "      <th>mileage</th>\n",
              "      <th>engine</th>\n",
              "      <th>max_power</th>\n",
              "      <th>torque</th>\n",
              "      <th>seats</th>\n",
              "      <th>brand</th>\n",
              "      <th>class_year</th>\n",
              "    </tr>\n",
              "  </thead>\n",
              "  <tbody>\n",
              "    <tr>\n",
              "      <th>0</th>\n",
              "      <td>Tata Nexon 1.5 Revotorq XM</td>\n",
              "      <td>2018</td>\n",
              "      <td>850000</td>\n",
              "      <td>9500</td>\n",
              "      <td>Diesel</td>\n",
              "      <td>Individual</td>\n",
              "      <td>Manual</td>\n",
              "      <td>First Owner</td>\n",
              "      <td>21.50</td>\n",
              "      <td>1497.0</td>\n",
              "      <td>108.50</td>\n",
              "      <td>260Nm@ 1500-2750rpm</td>\n",
              "      <td>5.0</td>\n",
              "      <td>Asia</td>\n",
              "      <td>after_2015</td>\n",
              "    </tr>\n",
              "    <tr>\n",
              "      <th>1</th>\n",
              "      <td>Hyundai i20 Active SX Diesel</td>\n",
              "      <td>2018</td>\n",
              "      <td>750000</td>\n",
              "      <td>30000</td>\n",
              "      <td>Diesel</td>\n",
              "      <td>Individual</td>\n",
              "      <td>Manual</td>\n",
              "      <td>First Owner</td>\n",
              "      <td>21.19</td>\n",
              "      <td>1396.0</td>\n",
              "      <td>88.76</td>\n",
              "      <td>219.66nm@ 1500-2750rpm</td>\n",
              "      <td>5.0</td>\n",
              "      <td>Asia</td>\n",
              "      <td>after_2015</td>\n",
              "    </tr>\n",
              "    <tr>\n",
              "      <th>2</th>\n",
              "      <td>Toyota Fortuner 4x2 AT</td>\n",
              "      <td>2015</td>\n",
              "      <td>1500000</td>\n",
              "      <td>80000</td>\n",
              "      <td>Diesel</td>\n",
              "      <td>Individual</td>\n",
              "      <td>Automatic</td>\n",
              "      <td>Second Owner</td>\n",
              "      <td>12.55</td>\n",
              "      <td>2982.0</td>\n",
              "      <td>168.50</td>\n",
              "      <td>360Nm@ 1400-3200rpm</td>\n",
              "      <td>7.0</td>\n",
              "      <td>Asia</td>\n",
              "      <td>before_2015</td>\n",
              "    </tr>\n",
              "    <tr>\n",
              "      <th>3</th>\n",
              "      <td>Hyundai Verna 1.6 VTVT SX</td>\n",
              "      <td>2015</td>\n",
              "      <td>795000</td>\n",
              "      <td>35000</td>\n",
              "      <td>Petrol</td>\n",
              "      <td>Individual</td>\n",
              "      <td>Manual</td>\n",
              "      <td>First Owner</td>\n",
              "      <td>17.01</td>\n",
              "      <td>1591.0</td>\n",
              "      <td>121.30</td>\n",
              "      <td>154.9Nm@ 4200rpm</td>\n",
              "      <td>5.0</td>\n",
              "      <td>Asia</td>\n",
              "      <td>before_2015</td>\n",
              "    </tr>\n",
              "    <tr>\n",
              "      <th>4</th>\n",
              "      <td>Volvo XC40 D4 Inscription BSIV</td>\n",
              "      <td>2019</td>\n",
              "      <td>3800000</td>\n",
              "      <td>20000</td>\n",
              "      <td>Diesel</td>\n",
              "      <td>Individual</td>\n",
              "      <td>Automatic</td>\n",
              "      <td>First Owner</td>\n",
              "      <td>18.00</td>\n",
              "      <td>1969.0</td>\n",
              "      <td>190.00</td>\n",
              "      <td>400Nm</td>\n",
              "      <td>5.0</td>\n",
              "      <td>Euro</td>\n",
              "      <td>after_2015</td>\n",
              "    </tr>\n",
              "  </tbody>\n",
              "</table>\n",
              "</div>"
            ],
            "text/plain": [
              "                             name  year  ...  brand   class_year\n",
              "0      Tata Nexon 1.5 Revotorq XM  2018  ...   Asia   after_2015\n",
              "1    Hyundai i20 Active SX Diesel  2018  ...   Asia   after_2015\n",
              "2          Toyota Fortuner 4x2 AT  2015  ...   Asia  before_2015\n",
              "3       Hyundai Verna 1.6 VTVT SX  2015  ...   Asia  before_2015\n",
              "4  Volvo XC40 D4 Inscription BSIV  2019  ...   Euro   after_2015\n",
              "\n",
              "[5 rows x 15 columns]"
            ]
          },
          "metadata": {},
          "execution_count": 356
        }
      ]
    },
    {
      "cell_type": "markdown",
      "source": [
        "## Seats"
      ],
      "metadata": {
        "id": "fp53KB8VuBZL"
      }
    },
    {
      "cell_type": "code",
      "source": [
        "train.seats = train.seats.fillna(np.random.random_integers(10))"
      ],
      "metadata": {
        "colab": {
          "base_uri": "https://localhost:8080/"
        },
        "id": "nfQUmD73uCti",
        "outputId": "0408ac92-69a5-4141-b7c8-6279d4d14c2c"
      },
      "execution_count": 357,
      "outputs": [
        {
          "output_type": "stream",
          "name": "stderr",
          "text": [
            "/usr/local/lib/python3.7/dist-packages/ipykernel_launcher.py:1: DeprecationWarning: This function is deprecated. Please call randint(1, 10 + 1) instead\n",
            "  \"\"\"Entry point for launching an IPython kernel.\n"
          ]
        }
      ]
    },
    {
      "cell_type": "markdown",
      "source": [
        "## Torque"
      ],
      "metadata": {
        "id": "BKYybr2uiM6T"
      }
    },
    {
      "cell_type": "code",
      "source": [
        "train.head()"
      ],
      "metadata": {
        "colab": {
          "base_uri": "https://localhost:8080/",
          "height": 434
        },
        "id": "h2BAEjYZiVGi",
        "outputId": "1f50ef85-1fe9-4040-82e0-15e66c2a0cc9"
      },
      "execution_count": 358,
      "outputs": [
        {
          "output_type": "execute_result",
          "data": {
            "text/html": [
              "<div>\n",
              "<style scoped>\n",
              "    .dataframe tbody tr th:only-of-type {\n",
              "        vertical-align: middle;\n",
              "    }\n",
              "\n",
              "    .dataframe tbody tr th {\n",
              "        vertical-align: top;\n",
              "    }\n",
              "\n",
              "    .dataframe thead th {\n",
              "        text-align: right;\n",
              "    }\n",
              "</style>\n",
              "<table border=\"1\" class=\"dataframe\">\n",
              "  <thead>\n",
              "    <tr style=\"text-align: right;\">\n",
              "      <th></th>\n",
              "      <th>name</th>\n",
              "      <th>year</th>\n",
              "      <th>selling_price</th>\n",
              "      <th>km_driven</th>\n",
              "      <th>fuel</th>\n",
              "      <th>seller_type</th>\n",
              "      <th>transmission</th>\n",
              "      <th>owner</th>\n",
              "      <th>mileage</th>\n",
              "      <th>engine</th>\n",
              "      <th>max_power</th>\n",
              "      <th>torque</th>\n",
              "      <th>seats</th>\n",
              "      <th>brand</th>\n",
              "      <th>class_year</th>\n",
              "    </tr>\n",
              "  </thead>\n",
              "  <tbody>\n",
              "    <tr>\n",
              "      <th>0</th>\n",
              "      <td>Tata Nexon 1.5 Revotorq XM</td>\n",
              "      <td>2018</td>\n",
              "      <td>850000</td>\n",
              "      <td>9500</td>\n",
              "      <td>Diesel</td>\n",
              "      <td>Individual</td>\n",
              "      <td>Manual</td>\n",
              "      <td>First Owner</td>\n",
              "      <td>21.50</td>\n",
              "      <td>1497.0</td>\n",
              "      <td>108.50</td>\n",
              "      <td>260Nm@ 1500-2750rpm</td>\n",
              "      <td>5.0</td>\n",
              "      <td>Asia</td>\n",
              "      <td>after_2015</td>\n",
              "    </tr>\n",
              "    <tr>\n",
              "      <th>1</th>\n",
              "      <td>Hyundai i20 Active SX Diesel</td>\n",
              "      <td>2018</td>\n",
              "      <td>750000</td>\n",
              "      <td>30000</td>\n",
              "      <td>Diesel</td>\n",
              "      <td>Individual</td>\n",
              "      <td>Manual</td>\n",
              "      <td>First Owner</td>\n",
              "      <td>21.19</td>\n",
              "      <td>1396.0</td>\n",
              "      <td>88.76</td>\n",
              "      <td>219.66nm@ 1500-2750rpm</td>\n",
              "      <td>5.0</td>\n",
              "      <td>Asia</td>\n",
              "      <td>after_2015</td>\n",
              "    </tr>\n",
              "    <tr>\n",
              "      <th>2</th>\n",
              "      <td>Toyota Fortuner 4x2 AT</td>\n",
              "      <td>2015</td>\n",
              "      <td>1500000</td>\n",
              "      <td>80000</td>\n",
              "      <td>Diesel</td>\n",
              "      <td>Individual</td>\n",
              "      <td>Automatic</td>\n",
              "      <td>Second Owner</td>\n",
              "      <td>12.55</td>\n",
              "      <td>2982.0</td>\n",
              "      <td>168.50</td>\n",
              "      <td>360Nm@ 1400-3200rpm</td>\n",
              "      <td>7.0</td>\n",
              "      <td>Asia</td>\n",
              "      <td>before_2015</td>\n",
              "    </tr>\n",
              "    <tr>\n",
              "      <th>3</th>\n",
              "      <td>Hyundai Verna 1.6 VTVT SX</td>\n",
              "      <td>2015</td>\n",
              "      <td>795000</td>\n",
              "      <td>35000</td>\n",
              "      <td>Petrol</td>\n",
              "      <td>Individual</td>\n",
              "      <td>Manual</td>\n",
              "      <td>First Owner</td>\n",
              "      <td>17.01</td>\n",
              "      <td>1591.0</td>\n",
              "      <td>121.30</td>\n",
              "      <td>154.9Nm@ 4200rpm</td>\n",
              "      <td>5.0</td>\n",
              "      <td>Asia</td>\n",
              "      <td>before_2015</td>\n",
              "    </tr>\n",
              "    <tr>\n",
              "      <th>4</th>\n",
              "      <td>Volvo XC40 D4 Inscription BSIV</td>\n",
              "      <td>2019</td>\n",
              "      <td>3800000</td>\n",
              "      <td>20000</td>\n",
              "      <td>Diesel</td>\n",
              "      <td>Individual</td>\n",
              "      <td>Automatic</td>\n",
              "      <td>First Owner</td>\n",
              "      <td>18.00</td>\n",
              "      <td>1969.0</td>\n",
              "      <td>190.00</td>\n",
              "      <td>400Nm</td>\n",
              "      <td>5.0</td>\n",
              "      <td>Euro</td>\n",
              "      <td>after_2015</td>\n",
              "    </tr>\n",
              "  </tbody>\n",
              "</table>\n",
              "</div>"
            ],
            "text/plain": [
              "                             name  year  ...  brand   class_year\n",
              "0      Tata Nexon 1.5 Revotorq XM  2018  ...   Asia   after_2015\n",
              "1    Hyundai i20 Active SX Diesel  2018  ...   Asia   after_2015\n",
              "2          Toyota Fortuner 4x2 AT  2015  ...   Asia  before_2015\n",
              "3       Hyundai Verna 1.6 VTVT SX  2015  ...   Asia  before_2015\n",
              "4  Volvo XC40 D4 Inscription BSIV  2019  ...   Euro   after_2015\n",
              "\n",
              "[5 rows x 15 columns]"
            ]
          },
          "metadata": {},
          "execution_count": 358
        }
      ]
    },
    {
      "cell_type": "code",
      "source": [
        "import re\n",
        "\n",
        "def torque_processing(torque):\n",
        "#     fix here if error\n",
        "    if type(torque) == int and torque == 0:\n",
        "        return 0,0\n",
        "#     -----------\n",
        "    element = torque.split()\n",
        "    power = []\n",
        "    for e in element:\n",
        "        tor = re.findall(\"(?:\\d+(?:\\.\\d*)?|\\.\\d+)(?:[eE][+-]?\\d+)?\", e)\n",
        "        power.append(tor)\n",
        "    power = [tor for tor in power if tor]\n",
        "    if 'kgm@' in torque:\n",
        "        # 1kgm@ = 10nm\n",
        "        power[0] = round(float(power[0][0]) * 10, 1)\n",
        "    else:\n",
        "        power[0] = round(float(power[0][0]), 1)\n",
        "    if len(power) == 2:\n",
        "        if len(power[1]) == 2:\n",
        "            power[1] = round(np.mean([float(i) for i in power[1]]), 1)\n",
        "        else:\n",
        "            power[1] = round(float(power[1][0]), 1)\n",
        "    if len(power) == 1:\n",
        "        power.append(0)\n",
        "    if power[1] < 1000:\n",
        "    # print('SMALLER THAN 1000',power[1])\n",
        "        power[1] = round(power[1] * 1000, 1)\n",
        "    return power[0], power[1]\n",
        "\n",
        "train.torque = train.torque.fillna('0')\n",
        "\n",
        "train['torque'] = train['torque'].str.replace(',','.')\n",
        "for i in range(train.shape[0]):\n",
        "    torque, rpm = torque_processing(train['torque'].iloc[i])\n",
        "    train.at[i, 'torque'] = torque\n",
        "    train.at[i, 'rpm'] = rpm\n",
        "    \n",
        "train.torque"
      ],
      "metadata": {
        "colab": {
          "base_uri": "https://localhost:8080/"
        },
        "id": "o3kHDaQYiPck",
        "outputId": "01f1568d-b4b5-419a-bc2f-9c432bce0443"
      },
      "execution_count": 359,
      "outputs": [
        {
          "output_type": "execute_result",
          "data": {
            "text/plain": [
              "0         260\n",
              "1       219.7\n",
              "2         360\n",
              "3       154.9\n",
              "4         400\n",
              "        ...  \n",
              "5995       90\n",
              "5996       77\n",
              "5997      114\n",
              "5998      180\n",
              "5999      200\n",
              "Name: torque, Length: 6000, dtype: object"
            ]
          },
          "metadata": {},
          "execution_count": 359
        }
      ]
    },
    {
      "cell_type": "code",
      "source": [
        "train.torque = train.torque.apply(lambda x: float(x))"
      ],
      "metadata": {
        "id": "7ig5JY4--rke"
      },
      "execution_count": 360,
      "outputs": []
    },
    {
      "cell_type": "code",
      "source": [
        "df = train.copy()\n",
        "mean_torque = df[df.torque!=0].torque.mean()\n",
        "train.torque = train.torque.replace(0, mean_torque)"
      ],
      "metadata": {
        "id": "4br2gszRAhGy"
      },
      "execution_count": 361,
      "outputs": []
    },
    {
      "cell_type": "code",
      "source": [
        "train.drop(columns='rpm', inplace=True)\n",
        "train.info()"
      ],
      "metadata": {
        "colab": {
          "base_uri": "https://localhost:8080/"
        },
        "id": "TLI0UIVi-keh",
        "outputId": "5dd4f08d-f7d5-4db5-bb43-f621b4742934"
      },
      "execution_count": 362,
      "outputs": [
        {
          "output_type": "stream",
          "name": "stdout",
          "text": [
            "<class 'pandas.core.frame.DataFrame'>\n",
            "RangeIndex: 6000 entries, 0 to 5999\n",
            "Data columns (total 15 columns):\n",
            " #   Column         Non-Null Count  Dtype  \n",
            "---  ------         --------------  -----  \n",
            " 0   name           6000 non-null   object \n",
            " 1   year           6000 non-null   int64  \n",
            " 2   selling_price  6000 non-null   int64  \n",
            " 3   km_driven      6000 non-null   int64  \n",
            " 4   fuel           6000 non-null   object \n",
            " 5   seller_type    6000 non-null   object \n",
            " 6   transmission   6000 non-null   object \n",
            " 7   owner          6000 non-null   object \n",
            " 8   mileage        6000 non-null   float64\n",
            " 9   engine         6000 non-null   float64\n",
            " 10  max_power      6000 non-null   float64\n",
            " 11  torque         6000 non-null   float64\n",
            " 12  seats          6000 non-null   float64\n",
            " 13  brand          6000 non-null   object \n",
            " 14  class_year     6000 non-null   object \n",
            "dtypes: float64(5), int64(3), object(7)\n",
            "memory usage: 703.2+ KB\n"
          ]
        }
      ]
    },
    {
      "cell_type": "markdown",
      "source": [
        "## Final Dataset\n"
      ],
      "metadata": {
        "id": "3OknasSxh5ej"
      }
    },
    {
      "cell_type": "code",
      "source": [
        "train.drop(columns={'name', 'fuel', 'seller_type', 'transmission', 'owner', \n",
        "                    'brand', 'class_year', 'km_driven', 'mileage', 'engine',\n",
        "                    'torque'}, inplace=True)\n",
        "train.head()"
      ],
      "metadata": {
        "colab": {
          "base_uri": "https://localhost:8080/",
          "height": 206
        },
        "id": "WiLBqd_Lh8Dv",
        "outputId": "cba0785c-7503-4b1c-9616-44f33ba081b5"
      },
      "execution_count": 363,
      "outputs": [
        {
          "output_type": "execute_result",
          "data": {
            "text/html": [
              "<div>\n",
              "<style scoped>\n",
              "    .dataframe tbody tr th:only-of-type {\n",
              "        vertical-align: middle;\n",
              "    }\n",
              "\n",
              "    .dataframe tbody tr th {\n",
              "        vertical-align: top;\n",
              "    }\n",
              "\n",
              "    .dataframe thead th {\n",
              "        text-align: right;\n",
              "    }\n",
              "</style>\n",
              "<table border=\"1\" class=\"dataframe\">\n",
              "  <thead>\n",
              "    <tr style=\"text-align: right;\">\n",
              "      <th></th>\n",
              "      <th>year</th>\n",
              "      <th>selling_price</th>\n",
              "      <th>max_power</th>\n",
              "      <th>seats</th>\n",
              "    </tr>\n",
              "  </thead>\n",
              "  <tbody>\n",
              "    <tr>\n",
              "      <th>0</th>\n",
              "      <td>2018</td>\n",
              "      <td>850000</td>\n",
              "      <td>108.50</td>\n",
              "      <td>5.0</td>\n",
              "    </tr>\n",
              "    <tr>\n",
              "      <th>1</th>\n",
              "      <td>2018</td>\n",
              "      <td>750000</td>\n",
              "      <td>88.76</td>\n",
              "      <td>5.0</td>\n",
              "    </tr>\n",
              "    <tr>\n",
              "      <th>2</th>\n",
              "      <td>2015</td>\n",
              "      <td>1500000</td>\n",
              "      <td>168.50</td>\n",
              "      <td>7.0</td>\n",
              "    </tr>\n",
              "    <tr>\n",
              "      <th>3</th>\n",
              "      <td>2015</td>\n",
              "      <td>795000</td>\n",
              "      <td>121.30</td>\n",
              "      <td>5.0</td>\n",
              "    </tr>\n",
              "    <tr>\n",
              "      <th>4</th>\n",
              "      <td>2019</td>\n",
              "      <td>3800000</td>\n",
              "      <td>190.00</td>\n",
              "      <td>5.0</td>\n",
              "    </tr>\n",
              "  </tbody>\n",
              "</table>\n",
              "</div>"
            ],
            "text/plain": [
              "   year  selling_price  max_power  seats\n",
              "0  2018         850000     108.50    5.0\n",
              "1  2018         750000      88.76    5.0\n",
              "2  2015        1500000     168.50    7.0\n",
              "3  2015         795000     121.30    5.0\n",
              "4  2019        3800000     190.00    5.0"
            ]
          },
          "metadata": {},
          "execution_count": 363
        }
      ]
    },
    {
      "cell_type": "code",
      "source": [
        "ftrain = pd.concat([train, Brand, Fuel, Seller, Owner], axis=1)\n",
        "ftrain = ftrain.drop(5537)\n",
        "# ftrain = ftrain.drop_duplicates()\n",
        "ftrain.head()"
      ],
      "metadata": {
        "colab": {
          "base_uri": "https://localhost:8080/",
          "height": 206
        },
        "id": "FfMFHADXiewi",
        "outputId": "1db68d5e-a6b4-47ae-bebe-2e130b4b7fb1"
      },
      "execution_count": 364,
      "outputs": [
        {
          "output_type": "execute_result",
          "data": {
            "text/html": [
              "<div>\n",
              "<style scoped>\n",
              "    .dataframe tbody tr th:only-of-type {\n",
              "        vertical-align: middle;\n",
              "    }\n",
              "\n",
              "    .dataframe tbody tr th {\n",
              "        vertical-align: top;\n",
              "    }\n",
              "\n",
              "    .dataframe thead th {\n",
              "        text-align: right;\n",
              "    }\n",
              "</style>\n",
              "<table border=\"1\" class=\"dataframe\">\n",
              "  <thead>\n",
              "    <tr style=\"text-align: right;\">\n",
              "      <th></th>\n",
              "      <th>year</th>\n",
              "      <th>selling_price</th>\n",
              "      <th>max_power</th>\n",
              "      <th>seats</th>\n",
              "      <th>brand_Euro</th>\n",
              "      <th>fuel_Petrol</th>\n",
              "      <th>seller_type_Individual</th>\n",
              "      <th>owner_Others</th>\n",
              "      <th>owner_Second Owner</th>\n",
              "    </tr>\n",
              "  </thead>\n",
              "  <tbody>\n",
              "    <tr>\n",
              "      <th>0</th>\n",
              "      <td>2018</td>\n",
              "      <td>850000</td>\n",
              "      <td>108.50</td>\n",
              "      <td>5.0</td>\n",
              "      <td>0</td>\n",
              "      <td>0</td>\n",
              "      <td>1</td>\n",
              "      <td>0</td>\n",
              "      <td>0</td>\n",
              "    </tr>\n",
              "    <tr>\n",
              "      <th>1</th>\n",
              "      <td>2018</td>\n",
              "      <td>750000</td>\n",
              "      <td>88.76</td>\n",
              "      <td>5.0</td>\n",
              "      <td>0</td>\n",
              "      <td>0</td>\n",
              "      <td>1</td>\n",
              "      <td>0</td>\n",
              "      <td>0</td>\n",
              "    </tr>\n",
              "    <tr>\n",
              "      <th>2</th>\n",
              "      <td>2015</td>\n",
              "      <td>1500000</td>\n",
              "      <td>168.50</td>\n",
              "      <td>7.0</td>\n",
              "      <td>0</td>\n",
              "      <td>0</td>\n",
              "      <td>1</td>\n",
              "      <td>0</td>\n",
              "      <td>1</td>\n",
              "    </tr>\n",
              "    <tr>\n",
              "      <th>3</th>\n",
              "      <td>2015</td>\n",
              "      <td>795000</td>\n",
              "      <td>121.30</td>\n",
              "      <td>5.0</td>\n",
              "      <td>0</td>\n",
              "      <td>1</td>\n",
              "      <td>1</td>\n",
              "      <td>0</td>\n",
              "      <td>0</td>\n",
              "    </tr>\n",
              "    <tr>\n",
              "      <th>4</th>\n",
              "      <td>2019</td>\n",
              "      <td>3800000</td>\n",
              "      <td>190.00</td>\n",
              "      <td>5.0</td>\n",
              "      <td>1</td>\n",
              "      <td>0</td>\n",
              "      <td>1</td>\n",
              "      <td>0</td>\n",
              "      <td>0</td>\n",
              "    </tr>\n",
              "  </tbody>\n",
              "</table>\n",
              "</div>"
            ],
            "text/plain": [
              "   year  selling_price  ...  owner_Others  owner_Second Owner\n",
              "0  2018         850000  ...             0                   0\n",
              "1  2018         750000  ...             0                   0\n",
              "2  2015        1500000  ...             0                   1\n",
              "3  2015         795000  ...             0                   0\n",
              "4  2019        3800000  ...             0                   0\n",
              "\n",
              "[5 rows x 9 columns]"
            ]
          },
          "metadata": {},
          "execution_count": 364
        }
      ]
    },
    {
      "cell_type": "code",
      "source": [
        "ftrain.info()"
      ],
      "metadata": {
        "colab": {
          "base_uri": "https://localhost:8080/"
        },
        "id": "qz6HmUPrt9j2",
        "outputId": "76bdc7d8-dea0-4644-b967-b044ed368e87"
      },
      "execution_count": 365,
      "outputs": [
        {
          "output_type": "stream",
          "name": "stdout",
          "text": [
            "<class 'pandas.core.frame.DataFrame'>\n",
            "Int64Index: 5999 entries, 0 to 5999\n",
            "Data columns (total 9 columns):\n",
            " #   Column                  Non-Null Count  Dtype  \n",
            "---  ------                  --------------  -----  \n",
            " 0   year                    5999 non-null   int64  \n",
            " 1   selling_price           5999 non-null   int64  \n",
            " 2   max_power               5999 non-null   float64\n",
            " 3   seats                   5999 non-null   float64\n",
            " 4   brand_Euro              5999 non-null   uint8  \n",
            " 5   fuel_Petrol             5999 non-null   uint8  \n",
            " 6   seller_type_Individual  5999 non-null   uint8  \n",
            " 7   owner_Others            5999 non-null   uint8  \n",
            " 8   owner_Second Owner      5999 non-null   uint8  \n",
            "dtypes: float64(2), int64(2), uint8(5)\n",
            "memory usage: 263.6 KB\n"
          ]
        }
      ]
    },
    {
      "cell_type": "code",
      "source": [
        "fig, ax = plt.subplots(figsize=(11, 9))\n",
        "sns.heatmap(ftrain.corr(), annot=True)"
      ],
      "metadata": {
        "colab": {
          "base_uri": "https://localhost:8080/",
          "height": 647
        },
        "id": "DdeDM2bUtL30",
        "outputId": "88ba4a37-609a-4c41-cf65-166e4900a71e"
      },
      "execution_count": 366,
      "outputs": [
        {
          "output_type": "execute_result",
          "data": {
            "text/plain": [
              "<matplotlib.axes._subplots.AxesSubplot at 0x7f45bb840150>"
            ]
          },
          "metadata": {},
          "execution_count": 366
        },
        {
          "output_type": "display_data",
          "data": {
            "image/png": "[encoded data removed]",
            "text/plain": [
              "<Figure size 792x648 with 2 Axes>"
            ]
          },
          "metadata": {}
        }
      ]
    },
    {
      "cell_type": "markdown",
      "source": [
        "# Build Model"
      ],
      "metadata": {
        "id": "zlAXEB6YjDcM"
      }
    },
    {
      "cell_type": "code",
      "source": [
        "from sklearn.model_selection import train_test_split\n",
        "from sklearn.ensemble import RandomForestRegressor\n",
        "from sklearn import metrics\n",
        "from sklearn.pipeline import make_pipeline\n",
        "from sklearn.preprocessing import StandardScaler\n",
        "from sklearn.model_selection import GridSearchCV\n",
        "from sklearn.ensemble import GradientBoostingRegressor"
      ],
      "metadata": {
        "id": "xI3AJ79ljdG_"
      },
      "execution_count": 367,
      "outputs": []
    },
    {
      "cell_type": "code",
      "source": [
        "X = ftrain.drop(columns='selling_price')\n",
        "y = ftrain['selling_price']\n",
        "\n",
        "X_train, X_test, y_train, y_test = train_test_split(X, y, test_size=0.2, random_state=42)\n"
      ],
      "metadata": {
        "id": "gEtQv57fjGdS"
      },
      "execution_count": 368,
      "outputs": []
    },
    {
      "cell_type": "code",
      "source": [
        "X.info()"
      ],
      "metadata": {
        "colab": {
          "base_uri": "https://localhost:8080/"
        },
        "id": "Z5lsK1efkMBJ",
        "outputId": "35002477-53a8-4340-98fb-edf2e2715920"
      },
      "execution_count": 369,
      "outputs": [
        {
          "output_type": "stream",
          "name": "stdout",
          "text": [
            "<class 'pandas.core.frame.DataFrame'>\n",
            "Int64Index: 5999 entries, 0 to 5999\n",
            "Data columns (total 8 columns):\n",
            " #   Column                  Non-Null Count  Dtype  \n",
            "---  ------                  --------------  -----  \n",
            " 0   year                    5999 non-null   int64  \n",
            " 1   max_power               5999 non-null   float64\n",
            " 2   seats                   5999 non-null   float64\n",
            " 3   brand_Euro              5999 non-null   uint8  \n",
            " 4   fuel_Petrol             5999 non-null   uint8  \n",
            " 5   seller_type_Individual  5999 non-null   uint8  \n",
            " 6   owner_Others            5999 non-null   uint8  \n",
            " 7   owner_Second Owner      5999 non-null   uint8  \n",
            "dtypes: float64(2), int64(1), uint8(5)\n",
            "memory usage: 216.8 KB\n"
          ]
        }
      ]
    },
    {
      "cell_type": "code",
      "source": [
        "lgbt = LGBMRegressor()\n",
        "param = {'num_leaves': (10, 20, 30, 50), 'n_estimators': (500, 600, 800), 'criterion': ['rmse'], \n",
        "         'learning_rate': (0.01, 0.05, 0.1), 'num_leaves': (20, 30, 50), 'max_depth': (7, 9, 11, 15)}\n",
        "reg_test = GridSearchCV(lgbt, param)\n",
        "reg_test.fit(X_train, y_train)\n",
        "reg_test.best_estimator_"
      ],
      "metadata": {
        "colab": {
          "base_uri": "https://localhost:8080/"
        },
        "id": "CPbepEp6DspT",
        "outputId": "febb14fb-4d43-4ee1-c4b0-6a2739d9fddb"
      },
      "execution_count": 371,
      "outputs": [
        {
          "output_type": "execute_result",
          "data": {
            "text/plain": [
              "LGBMRegressor(criterion='rmse', learning_rate=0.05, max_depth=15,\n",
              "              n_estimators=600, num_leaves=50)"
            ]
          },
          "metadata": {},
          "execution_count": 371
        }
      ]
    },
    {
      "cell_type": "code",
      "source": [
        "y_pred = reg_test.predict(X_test)\n",
        "\n",
        "print('MSE:', str(metrics.mean_squared_error(y_true=y_test, y_pred=y_pred)))\n",
        "print('RMSE:', str(metrics.mean_squared_error(y_true=y_test, y_pred=y_pred, squared=False)))\n",
        "print('R-squared:', str(reg_test.score(X_test, y_test)))"
      ],
      "metadata": {
        "colab": {
          "base_uri": "https://localhost:8080/"
        },
        "id": "s9JjBcFN6apW",
        "outputId": "aca25332-e050-424d-96b1-8cd63bdcc10c"
      },
      "execution_count": 222,
      "outputs": [
        {
          "output_type": "execute_result",
          "data": {
            "text/plain": [
              "0.9814226386632399"
            ]
          },
          "metadata": {},
          "execution_count": 222
        }
      ]
    },
    {
      "cell_type": "code",
      "source": [
        "reg = LGBMRegressor(criterion='rmse', learning_rate=0.05, max_depth=90,\n",
        "              n_estimators=600, num_leaves=150)\n",
        "\n",
        "reg.fit(X_train, y_train)\n",
        "\n",
        "y_pred = reg.predict(X_test)\n",
        "\n",
        "print('MSE:', str(metrics.mean_squared_error(y_true=y_test, y_pred=y_pred)))\n",
        "print('RMSE:', str(metrics.mean_squared_error(y_true=y_test, y_pred=y_pred, squared=False)))\n",
        "print('R-squared:', str(reg.score(X_test, y_test)))"
      ],
      "metadata": {
        "colab": {
          "base_uri": "https://localhost:8080/"
        },
        "id": "v25po9zNFlD8",
        "outputId": "e146283b-a38e-4010-852e-59f21ed82c7b"
      },
      "execution_count": 380,
      "outputs": [
        {
          "output_type": "stream",
          "name": "stdout",
          "text": [
            "MSE: 25871733845.744194\n",
            "RMSE: 160846.92675256246\n",
            "R-squared: 0.9622822686634941\n"
          ]
        }
      ]
    },
    {
      "cell_type": "markdown",
      "source": [
        "# Test model on the test set"
      ],
      "metadata": {
        "id": "44aUkd0lmXvC"
      }
    },
    {
      "cell_type": "code",
      "source": [
        "test = pd.read_csv('/content/drive/MyDrive/Colab Notebooks/data/car test.csv', sep=';')"
      ],
      "metadata": {
        "id": "X6EcDqtk5OZZ"
      },
      "execution_count": 109,
      "outputs": []
    },
    {
      "cell_type": "code",
      "source": [
        "test.head()"
      ],
      "metadata": {
        "colab": {
          "base_uri": "https://localhost:8080/",
          "height": 293
        },
        "id": "MZhaJI6d6Cdk",
        "outputId": "e0258c5c-8f72-44c3-c565-160dcffb0967"
      },
      "execution_count": 110,
      "outputs": [
        {
          "output_type": "execute_result",
          "data": {
            "text/html": [
              "<div>\n",
              "<style scoped>\n",
              "    .dataframe tbody tr th:only-of-type {\n",
              "        vertical-align: middle;\n",
              "    }\n",
              "\n",
              "    .dataframe tbody tr th {\n",
              "        vertical-align: top;\n",
              "    }\n",
              "\n",
              "    .dataframe thead th {\n",
              "        text-align: right;\n",
              "    }\n",
              "</style>\n",
              "<table border=\"1\" class=\"dataframe\">\n",
              "  <thead>\n",
              "    <tr style=\"text-align: right;\">\n",
              "      <th></th>\n",
              "      <th>Id</th>\n",
              "      <th>name</th>\n",
              "      <th>year</th>\n",
              "      <th>km_driven</th>\n",
              "      <th>fuel</th>\n",
              "      <th>seller_type</th>\n",
              "      <th>transmission</th>\n",
              "      <th>owner</th>\n",
              "      <th>mileage</th>\n",
              "      <th>engine</th>\n",
              "      <th>max_power</th>\n",
              "      <th>torque</th>\n",
              "      <th>seats</th>\n",
              "    </tr>\n",
              "  </thead>\n",
              "  <tbody>\n",
              "    <tr>\n",
              "      <th>0</th>\n",
              "      <td>1</td>\n",
              "      <td>Skoda Rapid 1.6 MPI AT Elegance</td>\n",
              "      <td>2016</td>\n",
              "      <td>11000</td>\n",
              "      <td>Petrol</td>\n",
              "      <td>Dealer</td>\n",
              "      <td>Automatic</td>\n",
              "      <td>First Owner</td>\n",
              "      <td>14.3 kmpl</td>\n",
              "      <td>1598 CC</td>\n",
              "      <td>103.5 bhp</td>\n",
              "      <td>153Nm@ 3800rpm</td>\n",
              "      <td>5.0</td>\n",
              "    </tr>\n",
              "    <tr>\n",
              "      <th>1</th>\n",
              "      <td>2</td>\n",
              "      <td>Honda City i VTEC V</td>\n",
              "      <td>2017</td>\n",
              "      <td>35000</td>\n",
              "      <td>Petrol</td>\n",
              "      <td>Individual</td>\n",
              "      <td>Manual</td>\n",
              "      <td>First Owner</td>\n",
              "      <td>17.8 kmpl</td>\n",
              "      <td>1497 CC</td>\n",
              "      <td>117.3 bhp</td>\n",
              "      <td>145Nm@ 4600rpm</td>\n",
              "      <td>5.0</td>\n",
              "    </tr>\n",
              "    <tr>\n",
              "      <th>2</th>\n",
              "      <td>3</td>\n",
              "      <td>Hyundai Xcent 1.2 Kappa SX Option</td>\n",
              "      <td>2014</td>\n",
              "      <td>80000</td>\n",
              "      <td>Petrol</td>\n",
              "      <td>Individual</td>\n",
              "      <td>Manual</td>\n",
              "      <td>First Owner</td>\n",
              "      <td>19.1 kmpl</td>\n",
              "      <td>1197 CC</td>\n",
              "      <td>82 bhp</td>\n",
              "      <td>114Nm@ 4000rpm</td>\n",
              "      <td>5.0</td>\n",
              "    </tr>\n",
              "    <tr>\n",
              "      <th>3</th>\n",
              "      <td>4</td>\n",
              "      <td>Mahindra Scorpio 2009-2014 SLE 7S BSIII</td>\n",
              "      <td>2014</td>\n",
              "      <td>145241</td>\n",
              "      <td>Diesel</td>\n",
              "      <td>Individual</td>\n",
              "      <td>Manual</td>\n",
              "      <td>First Owner</td>\n",
              "      <td>12.05 kmpl</td>\n",
              "      <td>2179 CC</td>\n",
              "      <td>120 bhp</td>\n",
              "      <td>290Nm@ 1800-2800rpm</td>\n",
              "      <td>7.0</td>\n",
              "    </tr>\n",
              "    <tr>\n",
              "      <th>4</th>\n",
              "      <td>5</td>\n",
              "      <td>Ford Ecosport 1.5 Diesel Titanium</td>\n",
              "      <td>2015</td>\n",
              "      <td>92651</td>\n",
              "      <td>Diesel</td>\n",
              "      <td>Dealer</td>\n",
              "      <td>Manual</td>\n",
              "      <td>First Owner</td>\n",
              "      <td>21.7 kmpl</td>\n",
              "      <td>1498 CC</td>\n",
              "      <td>98.96 bhp</td>\n",
              "      <td>215Nm@ 1750-2500rpm</td>\n",
              "      <td>5.0</td>\n",
              "    </tr>\n",
              "  </tbody>\n",
              "</table>\n",
              "</div>"
            ],
            "text/plain": [
              "   Id                                     name  ...               torque  seats\n",
              "0   1          Skoda Rapid 1.6 MPI AT Elegance  ...       153Nm@ 3800rpm    5.0\n",
              "1   2                      Honda City i VTEC V  ...       145Nm@ 4600rpm    5.0\n",
              "2   3        Hyundai Xcent 1.2 Kappa SX Option  ...       114Nm@ 4000rpm    5.0\n",
              "3   4  Mahindra Scorpio 2009-2014 SLE 7S BSIII  ...  290Nm@ 1800-2800rpm    7.0\n",
              "4   5        Ford Ecosport 1.5 Diesel Titanium  ...  215Nm@ 1750-2500rpm    5.0\n",
              "\n",
              "[5 rows x 13 columns]"
            ]
          },
          "metadata": {},
          "execution_count": 110
        }
      ]
    },
    {
      "cell_type": "code",
      "source": [
        "test.info()"
      ],
      "metadata": {
        "colab": {
          "base_uri": "https://localhost:8080/"
        },
        "id": "GVZIJYtfzwU7",
        "outputId": "33d24ec5-f8ed-46f8-ca74-135840a4d348"
      },
      "execution_count": 111,
      "outputs": [
        {
          "output_type": "stream",
          "name": "stdout",
          "text": [
            "<class 'pandas.core.frame.DataFrame'>\n",
            "RangeIndex: 2128 entries, 0 to 2127\n",
            "Data columns (total 13 columns):\n",
            " #   Column        Non-Null Count  Dtype  \n",
            "---  ------        --------------  -----  \n",
            " 0   Id            2128 non-null   int64  \n",
            " 1   name          2128 non-null   object \n",
            " 2   year          2128 non-null   int64  \n",
            " 3   km_driven     2128 non-null   int64  \n",
            " 4   fuel          2128 non-null   object \n",
            " 5   seller_type   2128 non-null   object \n",
            " 6   transmission  2128 non-null   object \n",
            " 7   owner         2128 non-null   object \n",
            " 8   mileage       2066 non-null   object \n",
            " 9   engine        2066 non-null   object \n",
            " 10  max_power     2067 non-null   object \n",
            " 11  torque        2066 non-null   object \n",
            " 12  seats         2066 non-null   float64\n",
            "dtypes: float64(1), int64(3), object(9)\n",
            "memory usage: 216.2+ KB\n"
          ]
        }
      ]
    },
    {
      "cell_type": "code",
      "source": [
        "df = test.copy()\n",
        "df = df.dropna()\n",
        "\n",
        "# Fuel\n",
        "test['fuel'] = test['fuel'].replace(['CNG', 'LPG'], 'Petrol')\n",
        "\n",
        "Fuel2 = test[['fuel']]\n",
        "Fuel2 = pd.get_dummies(Fuel2, drop_first=True)\n",
        "\n",
        "# Brand\n",
        "test['brand'] = test['name'].apply(lambda x: x.split()[0])\n",
        "\n",
        "asia_car = ['Maruti', 'Hyundai', 'Toyota', 'Tata', 'Honda', 'Nissan', 'Datsun', \n",
        "            'Mitsubishi', 'Isuzu', 'Kia', 'Daewoo']\n",
        "test['brand'] = test['name'].apply(lambda x: 'Asia' if x.split()[0] in asia_car else 'Euro')\n",
        "\n",
        "Brand2 = test[['brand']]\n",
        "Brand2 = pd.get_dummies(Brand2, drop_first=True)\n",
        "\n",
        "# Year\n",
        "test['class_year'] = test['year'].apply(lambda x: 'before_2015' if x <= 2015 else 'after_2015')\n",
        "\n",
        "Year2 = test[['class_year']]\n",
        "Year2 = pd.get_dummies(Year2, drop_first=True)\n",
        "\n",
        "# Seller Type\n",
        "test['seller_type'].replace({'Trustmark Dealer': 'Dealer'}, inplace=True)\n",
        "\n",
        "Seller2 = test[['seller_type']]\n",
        "Seller2 = pd.get_dummies(Seller2, drop_first=True)\n",
        "\n",
        "# Owner\n",
        "test['owner'].replace(['Fourth & Above Owner', 'Test Drive Car', 'Third Owner'], 'Others', inplace=True)\n",
        "\n",
        "Owner2 = test[['owner']]\n",
        "Owner2 = pd.get_dummies(Owner2, drop_first=True)\n",
        "\n",
        "# Mileage\n",
        "df['mileage'] = df['mileage'].apply(lambda x: float(x.split()[0]) if str(x).endswith('kmpl') else float(x.split()[0]) * 1.4) \n",
        "mean_mil = np.mean(df.mileage)\n",
        "\n",
        "test.mileage = test.mileage.fillna('0 kmpl')\n",
        "test['mileage'] = test['mileage'].apply(lambda x: float(x.split()[0]) if str(x).endswith('kmpl') else float(x.split()[0]) * 1.4) \n",
        "test.mileage = test.mileage.replace(0, mean_mil)\n",
        "\n",
        "# Transmission\n",
        "Trans2 = test[['transmission']]\n",
        "Trans2 = pd.get_dummies(Trans2, drop_first=True)\n",
        "\n",
        "# Engine\n",
        "df['engine'] = df['engine'].apply(lambda x: float(x.split()[0])) \n",
        "mean_en = np.mean(df.engine)\n",
        "\n",
        "test.engine = test.engine.fillna('0 CC')\n",
        "test['engine'] = test['engine'].apply(lambda x: float(x.split()[0]))\n",
        "test.engine = test.engine.replace(0, mean_en)\n",
        "\n",
        "# Max Power\n",
        "df['max_power'] = df['max_power'].apply(lambda x: float(x.split()[0])) \n",
        "mean_mp = np.mean(df.max_power)\n",
        "\n",
        "test.max_power = test.max_power.fillna('0')\n",
        "test.max_power = test.max_power.apply(lambda x: float(x.split()[0]))\n",
        "test.max_power = test.max_power.replace(0, mean_mp)\n",
        "\n",
        "# Seats\n",
        "test.seats = test.seats.fillna(np.random.random_integers(10))\n",
        "\n",
        "# Torque\n",
        "import re\n",
        "\n",
        "test.torque = test.torque.fillna('0')\n",
        "\n",
        "test['torque'] = test['torque'].str.replace(',','.')\n",
        "for i in range(test.shape[0]):\n",
        "    torque, rpm = torque_processing(test['torque'].iloc[i])\n",
        "    test.at[i, 'torque'] = torque\n",
        "    test.at[i, 'rpm'] = rpm\n",
        "\n",
        "test.torque = test.torque.apply(lambda x: float(x))\n",
        "df = test.copy()\n",
        "mean_torque = df[df.torque!=0].torque.mean()\n",
        "test.torque = test.torque.replace(0, mean_torque)\n",
        "\n",
        "# Final test dataset\n",
        "test.drop(columns={'Id', 'name', 'fuel', 'seller_type', 'transmission', 'owner', 'brand', 'class_year', 'rpm'}, inplace=True)\n",
        "ftest = pd.concat([test, Brand2, Fuel2, Seller2, Owner2], axis=1)\n",
        "\n",
        "ftest.head()"
      ],
      "metadata": {
        "colab": {
          "base_uri": "https://localhost:8080/",
          "height": 261
        },
        "id": "0XpIDkiEmcAI",
        "outputId": "b4fd289f-fa61-4a9e-9f4f-311c3daeb00d"
      },
      "execution_count": 112,
      "outputs": [
        {
          "output_type": "stream",
          "name": "stderr",
          "text": [
            "/usr/local/lib/python3.7/dist-packages/ipykernel_launcher.py:67: DeprecationWarning: This function is deprecated. Please call randint(1, 10 + 1) instead\n"
          ]
        },
        {
          "output_type": "execute_result",
          "data": {
            "text/html": [
              "<div>\n",
              "<style scoped>\n",
              "    .dataframe tbody tr th:only-of-type {\n",
              "        vertical-align: middle;\n",
              "    }\n",
              "\n",
              "    .dataframe tbody tr th {\n",
              "        vertical-align: top;\n",
              "    }\n",
              "\n",
              "    .dataframe thead th {\n",
              "        text-align: right;\n",
              "    }\n",
              "</style>\n",
              "<table border=\"1\" class=\"dataframe\">\n",
              "  <thead>\n",
              "    <tr style=\"text-align: right;\">\n",
              "      <th></th>\n",
              "      <th>year</th>\n",
              "      <th>km_driven</th>\n",
              "      <th>mileage</th>\n",
              "      <th>engine</th>\n",
              "      <th>max_power</th>\n",
              "      <th>torque</th>\n",
              "      <th>seats</th>\n",
              "      <th>brand_Euro</th>\n",
              "      <th>fuel_Petrol</th>\n",
              "      <th>seller_type_Individual</th>\n",
              "      <th>owner_Others</th>\n",
              "      <th>owner_Second Owner</th>\n",
              "    </tr>\n",
              "  </thead>\n",
              "  <tbody>\n",
              "    <tr>\n",
              "      <th>0</th>\n",
              "      <td>2016</td>\n",
              "      <td>11000</td>\n",
              "      <td>14.30</td>\n",
              "      <td>1598.0</td>\n",
              "      <td>103.50</td>\n",
              "      <td>153.0</td>\n",
              "      <td>5.0</td>\n",
              "      <td>1</td>\n",
              "      <td>1</td>\n",
              "      <td>0</td>\n",
              "      <td>0</td>\n",
              "      <td>0</td>\n",
              "    </tr>\n",
              "    <tr>\n",
              "      <th>1</th>\n",
              "      <td>2017</td>\n",
              "      <td>35000</td>\n",
              "      <td>17.80</td>\n",
              "      <td>1497.0</td>\n",
              "      <td>117.30</td>\n",
              "      <td>145.0</td>\n",
              "      <td>5.0</td>\n",
              "      <td>0</td>\n",
              "      <td>1</td>\n",
              "      <td>1</td>\n",
              "      <td>0</td>\n",
              "      <td>0</td>\n",
              "    </tr>\n",
              "    <tr>\n",
              "      <th>2</th>\n",
              "      <td>2014</td>\n",
              "      <td>80000</td>\n",
              "      <td>19.10</td>\n",
              "      <td>1197.0</td>\n",
              "      <td>82.00</td>\n",
              "      <td>114.0</td>\n",
              "      <td>5.0</td>\n",
              "      <td>0</td>\n",
              "      <td>1</td>\n",
              "      <td>1</td>\n",
              "      <td>0</td>\n",
              "      <td>0</td>\n",
              "    </tr>\n",
              "    <tr>\n",
              "      <th>3</th>\n",
              "      <td>2014</td>\n",
              "      <td>145241</td>\n",
              "      <td>12.05</td>\n",
              "      <td>2179.0</td>\n",
              "      <td>120.00</td>\n",
              "      <td>290.0</td>\n",
              "      <td>7.0</td>\n",
              "      <td>1</td>\n",
              "      <td>0</td>\n",
              "      <td>1</td>\n",
              "      <td>0</td>\n",
              "      <td>0</td>\n",
              "    </tr>\n",
              "    <tr>\n",
              "      <th>4</th>\n",
              "      <td>2015</td>\n",
              "      <td>92651</td>\n",
              "      <td>21.70</td>\n",
              "      <td>1498.0</td>\n",
              "      <td>98.96</td>\n",
              "      <td>215.0</td>\n",
              "      <td>5.0</td>\n",
              "      <td>1</td>\n",
              "      <td>0</td>\n",
              "      <td>0</td>\n",
              "      <td>0</td>\n",
              "      <td>0</td>\n",
              "    </tr>\n",
              "  </tbody>\n",
              "</table>\n",
              "</div>"
            ],
            "text/plain": [
              "   year  km_driven  ...  owner_Others  owner_Second Owner\n",
              "0  2016      11000  ...             0                   0\n",
              "1  2017      35000  ...             0                   0\n",
              "2  2014      80000  ...             0                   0\n",
              "3  2014     145241  ...             0                   0\n",
              "4  2015      92651  ...             0                   0\n",
              "\n",
              "[5 rows x 12 columns]"
            ]
          },
          "metadata": {},
          "execution_count": 112
        }
      ]
    },
    {
      "cell_type": "code",
      "source": [
        "ftest.info()"
      ],
      "metadata": {
        "colab": {
          "base_uri": "https://localhost:8080/"
        },
        "id": "DvkpFtyz6cvr",
        "outputId": "6c3a4c4a-c078-4d63-bc90-c43d1b8e8402"
      },
      "execution_count": 113,
      "outputs": [
        {
          "output_type": "stream",
          "name": "stdout",
          "text": [
            "<class 'pandas.core.frame.DataFrame'>\n",
            "RangeIndex: 2128 entries, 0 to 2127\n",
            "Data columns (total 12 columns):\n",
            " #   Column                  Non-Null Count  Dtype  \n",
            "---  ------                  --------------  -----  \n",
            " 0   year                    2128 non-null   int64  \n",
            " 1   km_driven               2128 non-null   int64  \n",
            " 2   mileage                 2128 non-null   float64\n",
            " 3   engine                  2128 non-null   float64\n",
            " 4   max_power               2128 non-null   float64\n",
            " 5   torque                  2128 non-null   float64\n",
            " 6   seats                   2128 non-null   float64\n",
            " 7   brand_Euro              2128 non-null   uint8  \n",
            " 8   fuel_Petrol             2128 non-null   uint8  \n",
            " 9   seller_type_Individual  2128 non-null   uint8  \n",
            " 10  owner_Others            2128 non-null   uint8  \n",
            " 11  owner_Second Owner      2128 non-null   uint8  \n",
            "dtypes: float64(5), int64(2), uint8(5)\n",
            "memory usage: 126.9 KB\n"
          ]
        }
      ]
    },
    {
      "cell_type": "code",
      "source": [
        "predicted = reg.predict(ftest)\n",
        "Sample = pd.DataFrame(data={'Id': np.arange(1, ftest.shape[0]+1), 'Predicted': predicted})\n",
        "\n",
        "Sample.head()"
      ],
      "metadata": {
        "colab": {
          "base_uri": "https://localhost:8080/",
          "height": 206
        },
        "id": "8nW898pwsj5V",
        "outputId": "f058cfea-b830-41e5-debe-2cce956e88b1"
      },
      "execution_count": 114,
      "outputs": [
        {
          "output_type": "execute_result",
          "data": {
            "text/html": [
              "<div>\n",
              "<style scoped>\n",
              "    .dataframe tbody tr th:only-of-type {\n",
              "        vertical-align: middle;\n",
              "    }\n",
              "\n",
              "    .dataframe tbody tr th {\n",
              "        vertical-align: top;\n",
              "    }\n",
              "\n",
              "    .dataframe thead th {\n",
              "        text-align: right;\n",
              "    }\n",
              "</style>\n",
              "<table border=\"1\" class=\"dataframe\">\n",
              "  <thead>\n",
              "    <tr style=\"text-align: right;\">\n",
              "      <th></th>\n",
              "      <th>Id</th>\n",
              "      <th>Predicted</th>\n",
              "    </tr>\n",
              "  </thead>\n",
              "  <tbody>\n",
              "    <tr>\n",
              "      <th>0</th>\n",
              "      <td>1</td>\n",
              "      <td>645082.558495</td>\n",
              "    </tr>\n",
              "    <tr>\n",
              "      <th>1</th>\n",
              "      <td>2</td>\n",
              "      <td>790366.296219</td>\n",
              "    </tr>\n",
              "    <tr>\n",
              "      <th>2</th>\n",
              "      <td>3</td>\n",
              "      <td>404599.814677</td>\n",
              "    </tr>\n",
              "    <tr>\n",
              "      <th>3</th>\n",
              "      <td>4</td>\n",
              "      <td>579568.034103</td>\n",
              "    </tr>\n",
              "    <tr>\n",
              "      <th>4</th>\n",
              "      <td>5</td>\n",
              "      <td>636976.906765</td>\n",
              "    </tr>\n",
              "  </tbody>\n",
              "</table>\n",
              "</div>"
            ],
            "text/plain": [
              "   Id      Predicted\n",
              "0   1  645082.558495\n",
              "1   2  790366.296219\n",
              "2   3  404599.814677\n",
              "3   4  579568.034103\n",
              "4   5  636976.906765"
            ]
          },
          "metadata": {},
          "execution_count": 114
        }
      ]
    },
    {
      "cell_type": "code",
      "source": [
        "# Sample.to_csv('/content/drive/MyDrive/Colab Notebooks/Data Preparation/Kieu_Son_Tung_11195614_LGBM', index=False)"
      ],
      "metadata": {
        "id": "UG041R4St_MW"
      },
      "execution_count": 115,
      "outputs": []
    }
  ]
}