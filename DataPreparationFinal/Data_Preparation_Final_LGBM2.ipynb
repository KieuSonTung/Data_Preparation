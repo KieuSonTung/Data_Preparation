{
  "cells": [
    {
      "cell_type": "markdown",
      "metadata": {
        "id": "view-in-github",
        "colab_type": "text"
      },
      "source": [
        "<a href=\"https://colab.research.google.com/github/KieuSonTung/Data_Preparation/blob/main/DataPreparationFinal/Data_Preparation_Final_LGBM2.ipynb\" target=\"_parent\"><img src=\"https://colab.research.google.com/assets/colab-badge.svg\" alt=\"Open In Colab\"/></a>"
      ]
    },
    {
      "cell_type": "code",
      "execution_count": null,
      "metadata": {
        "colab": {
          "base_uri": "https://localhost:8080/"
        },
        "id": "dhAuL180TlEq",
        "outputId": "8c95ee91-05a0-45e1-96c3-b3d07ecad4e8"
      },
      "outputs": [
        {
          "output_type": "stream",
          "name": "stdout",
          "text": [
            "Drive already mounted at /content/drive; to attempt to forcibly remount, call drive.mount(\"/content/drive\", force_remount=True).\n"
          ]
        }
      ],
      "source": [
        "from google.colab import drive\n",
        "drive.mount('/content/drive')"
      ]
    },
    {
      "cell_type": "code",
      "execution_count": null,
      "metadata": {
        "colab": {
          "base_uri": "https://localhost:8080/"
        },
        "id": "64VUZvEVBqjX",
        "outputId": "7633271c-0cfb-405e-fa89-b020239fc8ac"
      },
      "outputs": [
        {
          "output_type": "stream",
          "name": "stdout",
          "text": [
            "/usr/local/lib/python3.7/dist-packages/pip/_internal/commands/install.py:232: UserWarning: Disabling all use of wheels due to the use of --build-option / --global-option / --install-option.\n",
            "  cmdoptions.check_install_build_global(options)\n",
            "Requirement already satisfied: lightgbm in /usr/local/lib/python3.7/dist-packages (2.2.3)\n",
            "Requirement already satisfied: scipy in /usr/local/lib/python3.7/dist-packages (from lightgbm) (1.4.1)\n",
            "Requirement already satisfied: numpy in /usr/local/lib/python3.7/dist-packages (from lightgbm) (1.19.5)\n",
            "Requirement already satisfied: scikit-learn in /usr/local/lib/python3.7/dist-packages (from lightgbm) (1.0.1)\n",
            "Requirement already satisfied: joblib>=0.11 in /usr/local/lib/python3.7/dist-packages (from scikit-learn->lightgbm) (1.1.0)\n",
            "Requirement already satisfied: threadpoolctl>=2.0.0 in /usr/local/lib/python3.7/dist-packages (from scikit-learn->lightgbm) (3.0.0)\n"
          ]
        }
      ],
      "source": [
        "!pip install lightgbm --install-option=--gpu"
      ]
    },
    {
      "cell_type": "code",
      "execution_count": null,
      "metadata": {
        "id": "Q0y22NuYUEL7"
      },
      "outputs": [],
      "source": [
        "import pandas as pd\n",
        "import numpy as np\n",
        "import matplotlib.pyplot as plt\n",
        "import seaborn as sns\n",
        "from lightgbm import LGBMRegressor\n",
        "import plotly.express as px\n",
        "sns.set()"
      ]
    },
    {
      "cell_type": "code",
      "execution_count": null,
      "metadata": {
        "id": "9Yrov0Q5UUFe"
      },
      "outputs": [],
      "source": [
        "plt.style.use('seaborn')"
      ]
    },
    {
      "cell_type": "markdown",
      "metadata": {
        "id": "e7iKaBe9ZMyc"
      },
      "source": [
        "## Load the dateset"
      ]
    },
    {
      "cell_type": "code",
      "execution_count": null,
      "metadata": {
        "colab": {
          "base_uri": "https://localhost:8080/",
          "height": 458
        },
        "id": "7_eekvQ2X3Ey",
        "outputId": "e211bd18-eca6-40ba-8bb2-200986a0f964"
      },
      "outputs": [
        {
          "output_type": "execute_result",
          "data": {
            "text/html": [
              "\n",
              "  <div id=\"df-790680ab-66a9-4b56-8d99-7c9abc358983\">\n",
              "    <div class=\"colab-df-container\">\n",
              "      <div>\n",
              "<style scoped>\n",
              "    .dataframe tbody tr th:only-of-type {\n",
              "        vertical-align: middle;\n",
              "    }\n",
              "\n",
              "    .dataframe tbody tr th {\n",
              "        vertical-align: top;\n",
              "    }\n",
              "\n",
              "    .dataframe thead th {\n",
              "        text-align: right;\n",
              "    }\n",
              "</style>\n",
              "<table border=\"1\" class=\"dataframe\">\n",
              "  <thead>\n",
              "    <tr style=\"text-align: right;\">\n",
              "      <th></th>\n",
              "      <th>name</th>\n",
              "      <th>year</th>\n",
              "      <th>selling_price</th>\n",
              "      <th>km_driven</th>\n",
              "      <th>fuel</th>\n",
              "      <th>seller_type</th>\n",
              "      <th>transmission</th>\n",
              "      <th>owner</th>\n",
              "      <th>mileage</th>\n",
              "      <th>engine</th>\n",
              "      <th>max_power</th>\n",
              "      <th>torque</th>\n",
              "      <th>seats</th>\n",
              "    </tr>\n",
              "  </thead>\n",
              "  <tbody>\n",
              "    <tr>\n",
              "      <th>0</th>\n",
              "      <td>Tata Nexon 1.5 Revotorq XM</td>\n",
              "      <td>2018</td>\n",
              "      <td>850000</td>\n",
              "      <td>9500</td>\n",
              "      <td>Diesel</td>\n",
              "      <td>Individual</td>\n",
              "      <td>Manual</td>\n",
              "      <td>First Owner</td>\n",
              "      <td>21.5 kmpl</td>\n",
              "      <td>1497 CC</td>\n",
              "      <td>108.5 bhp</td>\n",
              "      <td>260Nm@ 1500-2750rpm</td>\n",
              "      <td>5.0</td>\n",
              "    </tr>\n",
              "    <tr>\n",
              "      <th>1</th>\n",
              "      <td>Hyundai i20 Active SX Diesel</td>\n",
              "      <td>2018</td>\n",
              "      <td>750000</td>\n",
              "      <td>30000</td>\n",
              "      <td>Diesel</td>\n",
              "      <td>Individual</td>\n",
              "      <td>Manual</td>\n",
              "      <td>First Owner</td>\n",
              "      <td>21.19 kmpl</td>\n",
              "      <td>1396 CC</td>\n",
              "      <td>88.76 bhp</td>\n",
              "      <td>219.66nm@ 1500-2750rpm</td>\n",
              "      <td>5.0</td>\n",
              "    </tr>\n",
              "    <tr>\n",
              "      <th>2</th>\n",
              "      <td>Toyota Fortuner 4x2 AT</td>\n",
              "      <td>2015</td>\n",
              "      <td>1500000</td>\n",
              "      <td>80000</td>\n",
              "      <td>Diesel</td>\n",
              "      <td>Individual</td>\n",
              "      <td>Automatic</td>\n",
              "      <td>Second Owner</td>\n",
              "      <td>12.55 kmpl</td>\n",
              "      <td>2982 CC</td>\n",
              "      <td>168.5 bhp</td>\n",
              "      <td>360Nm@ 1400-3200rpm</td>\n",
              "      <td>7.0</td>\n",
              "    </tr>\n",
              "    <tr>\n",
              "      <th>3</th>\n",
              "      <td>Hyundai Verna 1.6 VTVT SX</td>\n",
              "      <td>2015</td>\n",
              "      <td>795000</td>\n",
              "      <td>35000</td>\n",
              "      <td>Petrol</td>\n",
              "      <td>Individual</td>\n",
              "      <td>Manual</td>\n",
              "      <td>First Owner</td>\n",
              "      <td>17.01 kmpl</td>\n",
              "      <td>1591 CC</td>\n",
              "      <td>121.3 bhp</td>\n",
              "      <td>154.9Nm@ 4200rpm</td>\n",
              "      <td>5.0</td>\n",
              "    </tr>\n",
              "    <tr>\n",
              "      <th>4</th>\n",
              "      <td>Volvo XC40 D4 Inscription BSIV</td>\n",
              "      <td>2019</td>\n",
              "      <td>3800000</td>\n",
              "      <td>20000</td>\n",
              "      <td>Diesel</td>\n",
              "      <td>Individual</td>\n",
              "      <td>Automatic</td>\n",
              "      <td>First Owner</td>\n",
              "      <td>18.0 kmpl</td>\n",
              "      <td>1969 CC</td>\n",
              "      <td>190 bhp</td>\n",
              "      <td>400Nm</td>\n",
              "      <td>5.0</td>\n",
              "    </tr>\n",
              "  </tbody>\n",
              "</table>\n",
              "</div>\n",
              "      <button class=\"colab-df-convert\" onclick=\"convertToInteractive('df-790680ab-66a9-4b56-8d99-7c9abc358983')\"\n",
              "              title=\"Convert this dataframe to an interactive table.\"\n",
              "              style=\"display:none;\">\n",
              "        \n",
              "  <svg xmlns=\"http://www.w3.org/2000/svg\" height=\"24px\"viewBox=\"0 0 24 24\"\n",
              "       width=\"24px\">\n",
              "    <path d=\"M0 0h24v24H0V0z\" fill=\"none\"/>\n",
              "    <path d=\"M18.56 5.44l.94 2.06.94-2.06 2.06-.94-2.06-.94-.94-2.06-.94 2.06-2.06.94zm-11 1L8.5 8.5l.94-2.06 2.06-.94-2.06-.94L8.5 2.5l-.94 2.06-2.06.94zm10 10l.94 2.06.94-2.06 2.06-.94-2.06-.94-.94-2.06-.94 2.06-2.06.94z\"/><path d=\"M17.41 7.96l-1.37-1.37c-.4-.4-.92-.59-1.43-.59-.52 0-1.04.2-1.43.59L10.3 9.45l-7.72 7.72c-.78.78-.78 2.05 0 2.83L4 21.41c.39.39.9.59 1.41.59.51 0 1.02-.2 1.41-.59l7.78-7.78 2.81-2.81c.8-.78.8-2.07 0-2.86zM5.41 20L4 18.59l7.72-7.72 1.47 1.35L5.41 20z\"/>\n",
              "  </svg>\n",
              "      </button>\n",
              "      \n",
              "  <style>\n",
              "    .colab-df-container {\n",
              "      display:flex;\n",
              "      flex-wrap:wrap;\n",
              "      gap: 12px;\n",
              "    }\n",
              "\n",
              "    .colab-df-convert {\n",
              "      background-color: #E8F0FE;\n",
              "      border: none;\n",
              "      border-radius: 50%;\n",
              "      cursor: pointer;\n",
              "      display: none;\n",
              "      fill: #1967D2;\n",
              "      height: 32px;\n",
              "      padding: 0 0 0 0;\n",
              "      width: 32px;\n",
              "    }\n",
              "\n",
              "    .colab-df-convert:hover {\n",
              "      background-color: #E2EBFA;\n",
              "      box-shadow: 0px 1px 2px rgba(60, 64, 67, 0.3), 0px 1px 3px 1px rgba(60, 64, 67, 0.15);\n",
              "      fill: #174EA6;\n",
              "    }\n",
              "\n",
              "    [theme=dark] .colab-df-convert {\n",
              "      background-color: #3B4455;\n",
              "      fill: #D2E3FC;\n",
              "    }\n",
              "\n",
              "    [theme=dark] .colab-df-convert:hover {\n",
              "      background-color: #434B5C;\n",
              "      box-shadow: 0px 1px 3px 1px rgba(0, 0, 0, 0.15);\n",
              "      filter: drop-shadow(0px 1px 2px rgba(0, 0, 0, 0.3));\n",
              "      fill: #FFFFFF;\n",
              "    }\n",
              "  </style>\n",
              "\n",
              "      <script>\n",
              "        const buttonEl =\n",
              "          document.querySelector('#df-790680ab-66a9-4b56-8d99-7c9abc358983 button.colab-df-convert');\n",
              "        buttonEl.style.display =\n",
              "          google.colab.kernel.accessAllowed ? 'block' : 'none';\n",
              "\n",
              "        async function convertToInteractive(key) {\n",
              "          const element = document.querySelector('#df-790680ab-66a9-4b56-8d99-7c9abc358983');\n",
              "          const dataTable =\n",
              "            await google.colab.kernel.invokeFunction('convertToInteractive',\n",
              "                                                     [key], {});\n",
              "          if (!dataTable) return;\n",
              "\n",
              "          const docLinkHtml = 'Like what you see? Visit the ' +\n",
              "            '<a target=\"_blank\" href=https://colab.research.google.com/notebooks/data_table.ipynb>data table notebook</a>'\n",
              "            + ' to learn more about interactive tables.';\n",
              "          element.innerHTML = '';\n",
              "          dataTable['output_type'] = 'display_data';\n",
              "          await google.colab.output.renderOutput(dataTable, element);\n",
              "          const docLink = document.createElement('div');\n",
              "          docLink.innerHTML = docLinkHtml;\n",
              "          element.appendChild(docLink);\n",
              "        }\n",
              "      </script>\n",
              "    </div>\n",
              "  </div>\n",
              "  "
            ],
            "text/plain": [
              "                             name  year  ...                  torque  seats\n",
              "0      Tata Nexon 1.5 Revotorq XM  2018  ...     260Nm@ 1500-2750rpm    5.0\n",
              "1    Hyundai i20 Active SX Diesel  2018  ...  219.66nm@ 1500-2750rpm    5.0\n",
              "2          Toyota Fortuner 4x2 AT  2015  ...     360Nm@ 1400-3200rpm    7.0\n",
              "3       Hyundai Verna 1.6 VTVT SX  2015  ...        154.9Nm@ 4200rpm    5.0\n",
              "4  Volvo XC40 D4 Inscription BSIV  2019  ...                   400Nm    5.0\n",
              "\n",
              "[5 rows x 13 columns]"
            ]
          },
          "metadata": {},
          "execution_count": 245
        }
      ],
      "source": [
        "train = pd.read_csv('/content/drive/MyDrive/Colab Notebooks/data/car train.csv', sep=';')\n",
        "train.head()"
      ]
    },
    {
      "cell_type": "code",
      "execution_count": null,
      "metadata": {
        "id": "62c1XL1Wobrn"
      },
      "outputs": [],
      "source": [
        "df = train.copy()\n",
        "df = df.dropna()\n",
        "df = df.reset_index(drop=True)"
      ]
    },
    {
      "cell_type": "markdown",
      "metadata": {
        "id": "1RMLCHi4ZU18"
      },
      "source": [
        "## Overview"
      ]
    },
    {
      "cell_type": "code",
      "execution_count": null,
      "metadata": {
        "colab": {
          "base_uri": "https://localhost:8080/"
        },
        "id": "M_eRciWZZXEa",
        "outputId": "0ffd5716-5aa6-429e-d62d-5d8705e11e2a"
      },
      "outputs": [
        {
          "output_type": "stream",
          "name": "stdout",
          "text": [
            "<class 'pandas.core.frame.DataFrame'>\n",
            "RangeIndex: 6000 entries, 0 to 5999\n",
            "Data columns (total 13 columns):\n",
            " #   Column         Non-Null Count  Dtype  \n",
            "---  ------         --------------  -----  \n",
            " 0   name           6000 non-null   object \n",
            " 1   year           6000 non-null   int64  \n",
            " 2   selling_price  6000 non-null   int64  \n",
            " 3   km_driven      6000 non-null   int64  \n",
            " 4   fuel           6000 non-null   object \n",
            " 5   seller_type    6000 non-null   object \n",
            " 6   transmission   6000 non-null   object \n",
            " 7   owner          6000 non-null   object \n",
            " 8   mileage        5841 non-null   object \n",
            " 9   engine         5841 non-null   object \n",
            " 10  max_power      5846 non-null   object \n",
            " 11  torque         5840 non-null   object \n",
            " 12  seats          5841 non-null   float64\n",
            "dtypes: float64(1), int64(3), object(9)\n",
            "memory usage: 609.5+ KB\n"
          ]
        }
      ],
      "source": [
        "train.info()"
      ]
    },
    {
      "cell_type": "markdown",
      "metadata": {
        "id": "50x21ZDgbWNq"
      },
      "source": [
        "We are modifying some fields "
      ]
    },
    {
      "cell_type": "markdown",
      "metadata": {
        "id": "J4guxhOpweHV"
      },
      "source": [
        "## Fuel\n"
      ]
    },
    {
      "cell_type": "code",
      "execution_count": null,
      "metadata": {
        "colab": {
          "base_uri": "https://localhost:8080/"
        },
        "id": "euKLczc9wiLt",
        "outputId": "880a609c-583e-4770-c6a8-51e8f7daa47d"
      },
      "outputs": [
        {
          "output_type": "execute_result",
          "data": {
            "text/plain": [
              "Diesel    3265\n",
              "Petrol    2664\n",
              "CNG         44\n",
              "LPG         27\n",
              "Name: fuel, dtype: int64"
            ]
          },
          "metadata": {},
          "execution_count": 248
        }
      ],
      "source": [
        "train['fuel'].value_counts()"
      ]
    },
    {
      "cell_type": "markdown",
      "metadata": {
        "id": "xpu7WcnP3CqR"
      },
      "source": [
        "We are going to replace CNG and LPG with Petrol since the number of their observations is too little"
      ]
    },
    {
      "cell_type": "code",
      "execution_count": null,
      "metadata": {
        "colab": {
          "base_uri": "https://localhost:8080/"
        },
        "id": "0GVrdDqa9bMO",
        "outputId": "cbd63e9e-63e8-4b2c-880a-7f28a62d4726"
      },
      "outputs": [
        {
          "output_type": "execute_result",
          "data": {
            "text/plain": [
              "Diesel    3265\n",
              "Petrol    2735\n",
              "Name: fuel, dtype: int64"
            ]
          },
          "metadata": {},
          "execution_count": 249
        }
      ],
      "source": [
        "train['fuel'] = train['fuel'].replace(['CNG', 'LPG'], 'Petrol')\n",
        "train.fuel.value_counts()"
      ]
    },
    {
      "cell_type": "code",
      "execution_count": null,
      "metadata": {
        "colab": {
          "base_uri": "https://localhost:8080/",
          "height": 206
        },
        "id": "xry9ZgeA99vd",
        "outputId": "2be3f34f-ea4d-422e-d58f-52517fb0f906"
      },
      "outputs": [
        {
          "output_type": "execute_result",
          "data": {
            "text/html": [
              "\n",
              "  <div id=\"df-f710ee3f-1619-4472-9640-0f51840b6af7\">\n",
              "    <div class=\"colab-df-container\">\n",
              "      <div>\n",
              "<style scoped>\n",
              "    .dataframe tbody tr th:only-of-type {\n",
              "        vertical-align: middle;\n",
              "    }\n",
              "\n",
              "    .dataframe tbody tr th {\n",
              "        vertical-align: top;\n",
              "    }\n",
              "\n",
              "    .dataframe thead th {\n",
              "        text-align: right;\n",
              "    }\n",
              "</style>\n",
              "<table border=\"1\" class=\"dataframe\">\n",
              "  <thead>\n",
              "    <tr style=\"text-align: right;\">\n",
              "      <th></th>\n",
              "      <th>fuel_Petrol</th>\n",
              "    </tr>\n",
              "  </thead>\n",
              "  <tbody>\n",
              "    <tr>\n",
              "      <th>0</th>\n",
              "      <td>0</td>\n",
              "    </tr>\n",
              "    <tr>\n",
              "      <th>1</th>\n",
              "      <td>0</td>\n",
              "    </tr>\n",
              "    <tr>\n",
              "      <th>2</th>\n",
              "      <td>0</td>\n",
              "    </tr>\n",
              "    <tr>\n",
              "      <th>3</th>\n",
              "      <td>1</td>\n",
              "    </tr>\n",
              "    <tr>\n",
              "      <th>4</th>\n",
              "      <td>0</td>\n",
              "    </tr>\n",
              "  </tbody>\n",
              "</table>\n",
              "</div>\n",
              "      <button class=\"colab-df-convert\" onclick=\"convertToInteractive('df-f710ee3f-1619-4472-9640-0f51840b6af7')\"\n",
              "              title=\"Convert this dataframe to an interactive table.\"\n",
              "              style=\"display:none;\">\n",
              "        \n",
              "  <svg xmlns=\"http://www.w3.org/2000/svg\" height=\"24px\"viewBox=\"0 0 24 24\"\n",
              "       width=\"24px\">\n",
              "    <path d=\"M0 0h24v24H0V0z\" fill=\"none\"/>\n",
              "    <path d=\"M18.56 5.44l.94 2.06.94-2.06 2.06-.94-2.06-.94-.94-2.06-.94 2.06-2.06.94zm-11 1L8.5 8.5l.94-2.06 2.06-.94-2.06-.94L8.5 2.5l-.94 2.06-2.06.94zm10 10l.94 2.06.94-2.06 2.06-.94-2.06-.94-.94-2.06-.94 2.06-2.06.94z\"/><path d=\"M17.41 7.96l-1.37-1.37c-.4-.4-.92-.59-1.43-.59-.52 0-1.04.2-1.43.59L10.3 9.45l-7.72 7.72c-.78.78-.78 2.05 0 2.83L4 21.41c.39.39.9.59 1.41.59.51 0 1.02-.2 1.41-.59l7.78-7.78 2.81-2.81c.8-.78.8-2.07 0-2.86zM5.41 20L4 18.59l7.72-7.72 1.47 1.35L5.41 20z\"/>\n",
              "  </svg>\n",
              "      </button>\n",
              "      \n",
              "  <style>\n",
              "    .colab-df-container {\n",
              "      display:flex;\n",
              "      flex-wrap:wrap;\n",
              "      gap: 12px;\n",
              "    }\n",
              "\n",
              "    .colab-df-convert {\n",
              "      background-color: #E8F0FE;\n",
              "      border: none;\n",
              "      border-radius: 50%;\n",
              "      cursor: pointer;\n",
              "      display: none;\n",
              "      fill: #1967D2;\n",
              "      height: 32px;\n",
              "      padding: 0 0 0 0;\n",
              "      width: 32px;\n",
              "    }\n",
              "\n",
              "    .colab-df-convert:hover {\n",
              "      background-color: #E2EBFA;\n",
              "      box-shadow: 0px 1px 2px rgba(60, 64, 67, 0.3), 0px 1px 3px 1px rgba(60, 64, 67, 0.15);\n",
              "      fill: #174EA6;\n",
              "    }\n",
              "\n",
              "    [theme=dark] .colab-df-convert {\n",
              "      background-color: #3B4455;\n",
              "      fill: #D2E3FC;\n",
              "    }\n",
              "\n",
              "    [theme=dark] .colab-df-convert:hover {\n",
              "      background-color: #434B5C;\n",
              "      box-shadow: 0px 1px 3px 1px rgba(0, 0, 0, 0.15);\n",
              "      filter: drop-shadow(0px 1px 2px rgba(0, 0, 0, 0.3));\n",
              "      fill: #FFFFFF;\n",
              "    }\n",
              "  </style>\n",
              "\n",
              "      <script>\n",
              "        const buttonEl =\n",
              "          document.querySelector('#df-f710ee3f-1619-4472-9640-0f51840b6af7 button.colab-df-convert');\n",
              "        buttonEl.style.display =\n",
              "          google.colab.kernel.accessAllowed ? 'block' : 'none';\n",
              "\n",
              "        async function convertToInteractive(key) {\n",
              "          const element = document.querySelector('#df-f710ee3f-1619-4472-9640-0f51840b6af7');\n",
              "          const dataTable =\n",
              "            await google.colab.kernel.invokeFunction('convertToInteractive',\n",
              "                                                     [key], {});\n",
              "          if (!dataTable) return;\n",
              "\n",
              "          const docLinkHtml = 'Like what you see? Visit the ' +\n",
              "            '<a target=\"_blank\" href=https://colab.research.google.com/notebooks/data_table.ipynb>data table notebook</a>'\n",
              "            + ' to learn more about interactive tables.';\n",
              "          element.innerHTML = '';\n",
              "          dataTable['output_type'] = 'display_data';\n",
              "          await google.colab.output.renderOutput(dataTable, element);\n",
              "          const docLink = document.createElement('div');\n",
              "          docLink.innerHTML = docLinkHtml;\n",
              "          element.appendChild(docLink);\n",
              "        }\n",
              "      </script>\n",
              "    </div>\n",
              "  </div>\n",
              "  "
            ],
            "text/plain": [
              "   fuel_Petrol\n",
              "0            0\n",
              "1            0\n",
              "2            0\n",
              "3            1\n",
              "4            0"
            ]
          },
          "metadata": {},
          "execution_count": 250
        }
      ],
      "source": [
        "Fuel = train[['fuel']]\n",
        "Fuel = pd.get_dummies(Fuel, drop_first=True)\n",
        "Fuel.head()"
      ]
    },
    {
      "cell_type": "markdown",
      "source": [
        "Let's take a look at the **selling_price** distribution of each **fuel** type"
      ],
      "metadata": {
        "id": "rYDiRoKDeli2"
      }
    },
    {
      "cell_type": "code",
      "execution_count": null,
      "metadata": {
        "colab": {
          "base_uri": "https://localhost:8080/",
          "height": 596
        },
        "id": "hffPd6Mn35tw",
        "outputId": "c97bb439-862f-4c59-b49d-be49d51c5224"
      },
      "outputs": [
        {
          "output_type": "display_data",
          "data": {
            "image/png": "[encoded data removed]",
            "text/plain": [
              "<Figure size 1440x720 with 1 Axes>"
            ]
          },
          "metadata": {}
        }
      ],
      "source": [
        "fig, ax = plt.subplots(figsize=(20, 10))\n",
        "ax = sns.boxplot(x='fuel', y='selling_price', data=train)\n",
        "locs, labels = plt.xticks()\n",
        "plt.setp(labels, rotation=45)\n",
        "plt.show()"
      ]
    },
    {
      "cell_type": "markdown",
      "source": [
        "We can see that there is an outlier, its price is more than 10 million so we are going to remove it"
      ],
      "metadata": {
        "id": "RqX_KoOmfW0b"
      }
    },
    {
      "cell_type": "markdown",
      "metadata": {
        "id": "OHZ0wPoQ3GvN"
      },
      "source": [
        "## Brand"
      ]
    },
    {
      "cell_type": "code",
      "execution_count": null,
      "metadata": {
        "colab": {
          "base_uri": "https://localhost:8080/"
        },
        "id": "P1kGUHs63IvT",
        "outputId": "bfb603b5-514a-4df6-e7f2-743e34885e35"
      },
      "outputs": [
        {
          "output_type": "execute_result",
          "data": {
            "text/plain": [
              "Maruti           1792\n",
              "Hyundai          1034\n",
              "Mahindra          595\n",
              "Tata              546\n",
              "Toyota            366\n",
              "Honda             335\n",
              "Ford              288\n",
              "Chevrolet         170\n",
              "Renault           164\n",
              "Volkswagen        136\n",
              "BMW                83\n",
              "Skoda              77\n",
              "Nissan             60\n",
              "Jaguar             52\n",
              "Volvo              50\n",
              "Datsun             49\n",
              "Mercedes-Benz      44\n",
              "Fiat               38\n",
              "Audi               30\n",
              "Lexus              27\n",
              "Jeep               23\n",
              "Mitsubishi         12\n",
              "Land                6\n",
              "Isuzu               5\n",
              "Force               5\n",
              "Kia                 4\n",
              "Ambassador          3\n",
              "Daewoo              2\n",
              "Opel                1\n",
              "Ashok               1\n",
              "MG                  1\n",
              "Peugeot             1\n",
              "Name: brand, dtype: int64"
            ]
          },
          "metadata": {},
          "execution_count": 252
        }
      ],
      "source": [
        "train['brand'] = train['name'].apply(lambda x: x.split()[0])\n",
        "train.brand.value_counts()"
      ]
    },
    {
      "cell_type": "markdown",
      "metadata": {
        "id": "SGXBTAtG7PnQ"
      },
      "source": [
        "Since there are a lor of brands, we are going to devide those brands into two categories: Asia car and Euro car"
      ]
    },
    {
      "cell_type": "code",
      "execution_count": null,
      "metadata": {
        "colab": {
          "base_uri": "https://localhost:8080/"
        },
        "id": "MNk6cMmU3qnm",
        "outputId": "69c42c8b-7f96-4c31-d888-7ffd8358df9a"
      },
      "outputs": [
        {
          "output_type": "execute_result",
          "data": {
            "text/plain": [
              "Asia    4205\n",
              "Euro    1795\n",
              "Name: brand, dtype: int64"
            ]
          },
          "metadata": {},
          "execution_count": 253
        }
      ],
      "source": [
        "asia_car = ['Maruti', 'Hyundai', 'Toyota', 'Tata', 'Honda', 'Nissan', 'Datsun', \n",
        "            'Mitsubishi', 'Isuzu', 'Kia', 'Daewoo']\n",
        "train['brand'] = train['name'].apply(lambda x: 'Asia' if x.split()[0] in asia_car else 'Euro')\n",
        "'''\n",
        "1: Asia brand\n",
        "2: Euro brand\n",
        "'''\n",
        "train.brand.value_counts()"
      ]
    },
    {
      "cell_type": "code",
      "execution_count": null,
      "metadata": {
        "colab": {
          "base_uri": "https://localhost:8080/",
          "height": 206
        },
        "id": "92-gUMG75VVx",
        "outputId": "f82a9682-1561-4d24-ea44-ca2283988ed2"
      },
      "outputs": [
        {
          "output_type": "execute_result",
          "data": {
            "text/html": [
              "\n",
              "  <div id=\"df-0ef3b212-40fa-45f0-ae7b-66669cb84504\">\n",
              "    <div class=\"colab-df-container\">\n",
              "      <div>\n",
              "<style scoped>\n",
              "    .dataframe tbody tr th:only-of-type {\n",
              "        vertical-align: middle;\n",
              "    }\n",
              "\n",
              "    .dataframe tbody tr th {\n",
              "        vertical-align: top;\n",
              "    }\n",
              "\n",
              "    .dataframe thead th {\n",
              "        text-align: right;\n",
              "    }\n",
              "</style>\n",
              "<table border=\"1\" class=\"dataframe\">\n",
              "  <thead>\n",
              "    <tr style=\"text-align: right;\">\n",
              "      <th></th>\n",
              "      <th>brand_Euro</th>\n",
              "    </tr>\n",
              "  </thead>\n",
              "  <tbody>\n",
              "    <tr>\n",
              "      <th>0</th>\n",
              "      <td>0</td>\n",
              "    </tr>\n",
              "    <tr>\n",
              "      <th>1</th>\n",
              "      <td>0</td>\n",
              "    </tr>\n",
              "    <tr>\n",
              "      <th>2</th>\n",
              "      <td>0</td>\n",
              "    </tr>\n",
              "    <tr>\n",
              "      <th>3</th>\n",
              "      <td>0</td>\n",
              "    </tr>\n",
              "    <tr>\n",
              "      <th>4</th>\n",
              "      <td>1</td>\n",
              "    </tr>\n",
              "  </tbody>\n",
              "</table>\n",
              "</div>\n",
              "      <button class=\"colab-df-convert\" onclick=\"convertToInteractive('df-0ef3b212-40fa-45f0-ae7b-66669cb84504')\"\n",
              "              title=\"Convert this dataframe to an interactive table.\"\n",
              "              style=\"display:none;\">\n",
              "        \n",
              "  <svg xmlns=\"http://www.w3.org/2000/svg\" height=\"24px\"viewBox=\"0 0 24 24\"\n",
              "       width=\"24px\">\n",
              "    <path d=\"M0 0h24v24H0V0z\" fill=\"none\"/>\n",
              "    <path d=\"M18.56 5.44l.94 2.06.94-2.06 2.06-.94-2.06-.94-.94-2.06-.94 2.06-2.06.94zm-11 1L8.5 8.5l.94-2.06 2.06-.94-2.06-.94L8.5 2.5l-.94 2.06-2.06.94zm10 10l.94 2.06.94-2.06 2.06-.94-2.06-.94-.94-2.06-.94 2.06-2.06.94z\"/><path d=\"M17.41 7.96l-1.37-1.37c-.4-.4-.92-.59-1.43-.59-.52 0-1.04.2-1.43.59L10.3 9.45l-7.72 7.72c-.78.78-.78 2.05 0 2.83L4 21.41c.39.39.9.59 1.41.59.51 0 1.02-.2 1.41-.59l7.78-7.78 2.81-2.81c.8-.78.8-2.07 0-2.86zM5.41 20L4 18.59l7.72-7.72 1.47 1.35L5.41 20z\"/>\n",
              "  </svg>\n",
              "      </button>\n",
              "      \n",
              "  <style>\n",
              "    .colab-df-container {\n",
              "      display:flex;\n",
              "      flex-wrap:wrap;\n",
              "      gap: 12px;\n",
              "    }\n",
              "\n",
              "    .colab-df-convert {\n",
              "      background-color: #E8F0FE;\n",
              "      border: none;\n",
              "      border-radius: 50%;\n",
              "      cursor: pointer;\n",
              "      display: none;\n",
              "      fill: #1967D2;\n",
              "      height: 32px;\n",
              "      padding: 0 0 0 0;\n",
              "      width: 32px;\n",
              "    }\n",
              "\n",
              "    .colab-df-convert:hover {\n",
              "      background-color: #E2EBFA;\n",
              "      box-shadow: 0px 1px 2px rgba(60, 64, 67, 0.3), 0px 1px 3px 1px rgba(60, 64, 67, 0.15);\n",
              "      fill: #174EA6;\n",
              "    }\n",
              "\n",
              "    [theme=dark] .colab-df-convert {\n",
              "      background-color: #3B4455;\n",
              "      fill: #D2E3FC;\n",
              "    }\n",
              "\n",
              "    [theme=dark] .colab-df-convert:hover {\n",
              "      background-color: #434B5C;\n",
              "      box-shadow: 0px 1px 3px 1px rgba(0, 0, 0, 0.15);\n",
              "      filter: drop-shadow(0px 1px 2px rgba(0, 0, 0, 0.3));\n",
              "      fill: #FFFFFF;\n",
              "    }\n",
              "  </style>\n",
              "\n",
              "      <script>\n",
              "        const buttonEl =\n",
              "          document.querySelector('#df-0ef3b212-40fa-45f0-ae7b-66669cb84504 button.colab-df-convert');\n",
              "        buttonEl.style.display =\n",
              "          google.colab.kernel.accessAllowed ? 'block' : 'none';\n",
              "\n",
              "        async function convertToInteractive(key) {\n",
              "          const element = document.querySelector('#df-0ef3b212-40fa-45f0-ae7b-66669cb84504');\n",
              "          const dataTable =\n",
              "            await google.colab.kernel.invokeFunction('convertToInteractive',\n",
              "                                                     [key], {});\n",
              "          if (!dataTable) return;\n",
              "\n",
              "          const docLinkHtml = 'Like what you see? Visit the ' +\n",
              "            '<a target=\"_blank\" href=https://colab.research.google.com/notebooks/data_table.ipynb>data table notebook</a>'\n",
              "            + ' to learn more about interactive tables.';\n",
              "          element.innerHTML = '';\n",
              "          dataTable['output_type'] = 'display_data';\n",
              "          await google.colab.output.renderOutput(dataTable, element);\n",
              "          const docLink = document.createElement('div');\n",
              "          docLink.innerHTML = docLinkHtml;\n",
              "          element.appendChild(docLink);\n",
              "        }\n",
              "      </script>\n",
              "    </div>\n",
              "  </div>\n",
              "  "
            ],
            "text/plain": [
              "   brand_Euro\n",
              "0           0\n",
              "1           0\n",
              "2           0\n",
              "3           0\n",
              "4           1"
            ]
          },
          "metadata": {},
          "execution_count": 254
        }
      ],
      "source": [
        "Brand = train[['brand']]\n",
        "Brand = pd.get_dummies(Brand, drop_first=True)\n",
        "Brand.head()"
      ]
    },
    {
      "cell_type": "code",
      "execution_count": null,
      "metadata": {
        "colab": {
          "base_uri": "https://localhost:8080/",
          "height": 591
        },
        "id": "DV1FDfXC6kiD",
        "outputId": "8716b0ab-d33e-4e70-9c3b-1f09acc39161"
      },
      "outputs": [
        {
          "output_type": "display_data",
          "data": {
            "image/png": "[encoded data removed]",
            "text/plain": [
              "<Figure size 1440x720 with 1 Axes>"
            ]
          },
          "metadata": {}
        }
      ],
      "source": [
        "fig, ax = plt.subplots(figsize=(20, 10))\n",
        "ax = sns.boxplot(x='brand', y='selling_price', data=train)\n",
        "locs, labels = plt.xticks()\n",
        "plt.setp(labels, rotation=45)\n",
        "plt.show()"
      ]
    },
    {
      "cell_type": "markdown",
      "source": [
        "We can see that the price range of the European car tend to be wider than Asian car"
      ],
      "metadata": {
        "id": "EEZQMEnxe9Iy"
      }
    },
    {
      "cell_type": "markdown",
      "metadata": {
        "id": "gxxw--adh3Hi"
      },
      "source": [
        "## Year"
      ]
    },
    {
      "cell_type": "code",
      "execution_count": null,
      "metadata": {
        "colab": {
          "base_uri": "https://localhost:8080/"
        },
        "id": "LM4sSbjwnmzW",
        "outputId": "a5492499-969d-4196-f3e9-936bdd9c3380"
      },
      "outputs": [
        {
          "output_type": "execute_result",
          "data": {
            "text/plain": [
              "1983      1\n",
              "1994      1\n",
              "1995      2\n",
              "1996      2\n",
              "1997     10\n",
              "1998      7\n",
              "1999     11\n",
              "2000     14\n",
              "2001      8\n",
              "2002     24\n",
              "2003     39\n",
              "2004     46\n",
              "2005     73\n",
              "2006     86\n",
              "2007    130\n",
              "2008    159\n",
              "2009    165\n",
              "2010    290\n",
              "2011    448\n",
              "2012    485\n",
              "2013    493\n",
              "2014    470\n",
              "2015    572\n",
              "2016    630\n",
              "2017    752\n",
              "2018    608\n",
              "2019    425\n",
              "2020     49\n",
              "Name: year, dtype: int64"
            ]
          },
          "metadata": {},
          "execution_count": 256
        }
      ],
      "source": [
        "train['year'].value_counts().sort_index()"
      ]
    },
    {
      "cell_type": "markdown",
      "metadata": {
        "id": "qMA1Wvjy_uMU"
      },
      "source": [
        "Since most of the cars in the dataset are quite new (mostly around 2016, 2017), we are going to devide the **year** column into two categories: Before 2015 and After 2015"
      ]
    },
    {
      "cell_type": "code",
      "execution_count": null,
      "metadata": {
        "colab": {
          "base_uri": "https://localhost:8080/"
        },
        "id": "2MS_Y9T4oFZh",
        "outputId": "8dd7465f-8950-458d-894e-8a63eac591d6"
      },
      "outputs": [
        {
          "output_type": "execute_result",
          "data": {
            "text/plain": [
              "before_2015    3536\n",
              "after_2015     2464\n",
              "Name: class_year, dtype: int64"
            ]
          },
          "metadata": {},
          "execution_count": 257
        }
      ],
      "source": [
        "train['class_year'] = train['year'].apply(lambda x: 'before_2015' if x <= 2015 else 'after_2015')\n",
        "train['class_year'].value_counts()"
      ]
    },
    {
      "cell_type": "code",
      "execution_count": null,
      "metadata": {
        "colab": {
          "base_uri": "https://localhost:8080/",
          "height": 580
        },
        "id": "F8OTiHKKvTPA",
        "outputId": "5d3ded9c-8b9c-40c8-cc60-65d6dd568db9"
      },
      "outputs": [
        {
          "output_type": "display_data",
          "data": {
            "image/png": "[encoded data removed]",
            "text/plain": [
              "<Figure size 1440x720 with 1 Axes>"
            ]
          },
          "metadata": {}
        }
      ],
      "source": [
        "# Year/ Price\n",
        "\n",
        "fig, ax = plt.subplots(figsize=(20, 10))\n",
        "ax = sns.boxplot(x='class_year', y='selling_price', data=train)\n",
        "locs, labels = plt.xticks()\n",
        "plt.show()"
      ]
    },
    {
      "cell_type": "markdown",
      "metadata": {
        "id": "bSyLY4lo-yq8"
      },
      "source": [
        "## Seller Type"
      ]
    },
    {
      "cell_type": "code",
      "execution_count": null,
      "metadata": {
        "colab": {
          "base_uri": "https://localhost:8080/"
        },
        "id": "hC3iFMiZ-1aF",
        "outputId": "20ce1628-85dc-42be-f6f9-b79db7af70fb"
      },
      "outputs": [
        {
          "output_type": "execute_result",
          "data": {
            "text/plain": [
              "Individual          5006\n",
              "Dealer               820\n",
              "Trustmark Dealer     174\n",
              "Name: seller_type, dtype: int64"
            ]
          },
          "metadata": {},
          "execution_count": 259
        }
      ],
      "source": [
        "train.seller_type.value_counts()"
      ]
    },
    {
      "cell_type": "code",
      "execution_count": null,
      "metadata": {
        "id": "eR8VLZaq_cmI"
      },
      "outputs": [],
      "source": [
        "train['seller_type'].replace({'Trustmark Dealer': 'Dealer'}, inplace=True)"
      ]
    },
    {
      "cell_type": "code",
      "execution_count": null,
      "metadata": {
        "colab": {
          "base_uri": "https://localhost:8080/",
          "height": 206
        },
        "id": "JB6dl0ltI4v4",
        "outputId": "565eddf6-e158-40bf-d862-817e66cdc357"
      },
      "outputs": [
        {
          "output_type": "execute_result",
          "data": {
            "text/html": [
              "\n",
              "  <div id=\"df-ff4653cb-45b4-4c0f-86b1-b1143397a182\">\n",
              "    <div class=\"colab-df-container\">\n",
              "      <div>\n",
              "<style scoped>\n",
              "    .dataframe tbody tr th:only-of-type {\n",
              "        vertical-align: middle;\n",
              "    }\n",
              "\n",
              "    .dataframe tbody tr th {\n",
              "        vertical-align: top;\n",
              "    }\n",
              "\n",
              "    .dataframe thead th {\n",
              "        text-align: right;\n",
              "    }\n",
              "</style>\n",
              "<table border=\"1\" class=\"dataframe\">\n",
              "  <thead>\n",
              "    <tr style=\"text-align: right;\">\n",
              "      <th></th>\n",
              "      <th>seller_type_Individual</th>\n",
              "    </tr>\n",
              "  </thead>\n",
              "  <tbody>\n",
              "    <tr>\n",
              "      <th>0</th>\n",
              "      <td>1</td>\n",
              "    </tr>\n",
              "    <tr>\n",
              "      <th>1</th>\n",
              "      <td>1</td>\n",
              "    </tr>\n",
              "    <tr>\n",
              "      <th>2</th>\n",
              "      <td>1</td>\n",
              "    </tr>\n",
              "    <tr>\n",
              "      <th>3</th>\n",
              "      <td>1</td>\n",
              "    </tr>\n",
              "    <tr>\n",
              "      <th>4</th>\n",
              "      <td>1</td>\n",
              "    </tr>\n",
              "  </tbody>\n",
              "</table>\n",
              "</div>\n",
              "      <button class=\"colab-df-convert\" onclick=\"convertToInteractive('df-ff4653cb-45b4-4c0f-86b1-b1143397a182')\"\n",
              "              title=\"Convert this dataframe to an interactive table.\"\n",
              "              style=\"display:none;\">\n",
              "        \n",
              "  <svg xmlns=\"http://www.w3.org/2000/svg\" height=\"24px\"viewBox=\"0 0 24 24\"\n",
              "       width=\"24px\">\n",
              "    <path d=\"M0 0h24v24H0V0z\" fill=\"none\"/>\n",
              "    <path d=\"M18.56 5.44l.94 2.06.94-2.06 2.06-.94-2.06-.94-.94-2.06-.94 2.06-2.06.94zm-11 1L8.5 8.5l.94-2.06 2.06-.94-2.06-.94L8.5 2.5l-.94 2.06-2.06.94zm10 10l.94 2.06.94-2.06 2.06-.94-2.06-.94-.94-2.06-.94 2.06-2.06.94z\"/><path d=\"M17.41 7.96l-1.37-1.37c-.4-.4-.92-.59-1.43-.59-.52 0-1.04.2-1.43.59L10.3 9.45l-7.72 7.72c-.78.78-.78 2.05 0 2.83L4 21.41c.39.39.9.59 1.41.59.51 0 1.02-.2 1.41-.59l7.78-7.78 2.81-2.81c.8-.78.8-2.07 0-2.86zM5.41 20L4 18.59l7.72-7.72 1.47 1.35L5.41 20z\"/>\n",
              "  </svg>\n",
              "      </button>\n",
              "      \n",
              "  <style>\n",
              "    .colab-df-container {\n",
              "      display:flex;\n",
              "      flex-wrap:wrap;\n",
              "      gap: 12px;\n",
              "    }\n",
              "\n",
              "    .colab-df-convert {\n",
              "      background-color: #E8F0FE;\n",
              "      border: none;\n",
              "      border-radius: 50%;\n",
              "      cursor: pointer;\n",
              "      display: none;\n",
              "      fill: #1967D2;\n",
              "      height: 32px;\n",
              "      padding: 0 0 0 0;\n",
              "      width: 32px;\n",
              "    }\n",
              "\n",
              "    .colab-df-convert:hover {\n",
              "      background-color: #E2EBFA;\n",
              "      box-shadow: 0px 1px 2px rgba(60, 64, 67, 0.3), 0px 1px 3px 1px rgba(60, 64, 67, 0.15);\n",
              "      fill: #174EA6;\n",
              "    }\n",
              "\n",
              "    [theme=dark] .colab-df-convert {\n",
              "      background-color: #3B4455;\n",
              "      fill: #D2E3FC;\n",
              "    }\n",
              "\n",
              "    [theme=dark] .colab-df-convert:hover {\n",
              "      background-color: #434B5C;\n",
              "      box-shadow: 0px 1px 3px 1px rgba(0, 0, 0, 0.15);\n",
              "      filter: drop-shadow(0px 1px 2px rgba(0, 0, 0, 0.3));\n",
              "      fill: #FFFFFF;\n",
              "    }\n",
              "  </style>\n",
              "\n",
              "      <script>\n",
              "        const buttonEl =\n",
              "          document.querySelector('#df-ff4653cb-45b4-4c0f-86b1-b1143397a182 button.colab-df-convert');\n",
              "        buttonEl.style.display =\n",
              "          google.colab.kernel.accessAllowed ? 'block' : 'none';\n",
              "\n",
              "        async function convertToInteractive(key) {\n",
              "          const element = document.querySelector('#df-ff4653cb-45b4-4c0f-86b1-b1143397a182');\n",
              "          const dataTable =\n",
              "            await google.colab.kernel.invokeFunction('convertToInteractive',\n",
              "                                                     [key], {});\n",
              "          if (!dataTable) return;\n",
              "\n",
              "          const docLinkHtml = 'Like what you see? Visit the ' +\n",
              "            '<a target=\"_blank\" href=https://colab.research.google.com/notebooks/data_table.ipynb>data table notebook</a>'\n",
              "            + ' to learn more about interactive tables.';\n",
              "          element.innerHTML = '';\n",
              "          dataTable['output_type'] = 'display_data';\n",
              "          await google.colab.output.renderOutput(dataTable, element);\n",
              "          const docLink = document.createElement('div');\n",
              "          docLink.innerHTML = docLinkHtml;\n",
              "          element.appendChild(docLink);\n",
              "        }\n",
              "      </script>\n",
              "    </div>\n",
              "  </div>\n",
              "  "
            ],
            "text/plain": [
              "   seller_type_Individual\n",
              "0                       1\n",
              "1                       1\n",
              "2                       1\n",
              "3                       1\n",
              "4                       1"
            ]
          },
          "metadata": {},
          "execution_count": 261
        }
      ],
      "source": [
        "Seller = train[['seller_type']]\n",
        "Seller = pd.get_dummies(Seller, drop_first=True)\n",
        "Seller.head()"
      ]
    },
    {
      "cell_type": "markdown",
      "metadata": {
        "id": "7jPE_09EJkgJ"
      },
      "source": [
        "## Owner"
      ]
    },
    {
      "cell_type": "code",
      "execution_count": null,
      "metadata": {
        "colab": {
          "base_uri": "https://localhost:8080/"
        },
        "id": "QcWFcgjBXCy2",
        "outputId": "8694e779-3ffa-47c6-d35c-8575554c9ae5"
      },
      "outputs": [
        {
          "output_type": "execute_result",
          "data": {
            "text/plain": [
              "First Owner             3904\n",
              "Second Owner            1558\n",
              "Third Owner              414\n",
              "Fourth & Above Owner     119\n",
              "Test Drive Car             5\n",
              "Name: owner, dtype: int64"
            ]
          },
          "metadata": {},
          "execution_count": 262
        }
      ],
      "source": [
        "train['owner'].value_counts()"
      ]
    },
    {
      "cell_type": "code",
      "execution_count": null,
      "metadata": {
        "id": "J3PxqztcXh7q"
      },
      "outputs": [],
      "source": [
        "train['owner'].replace(['Fourth & Above Owner', 'Test Drive Car', 'Third Owner', 'Second Owner'], 'Second & Others', inplace=True)"
      ]
    },
    {
      "cell_type": "code",
      "execution_count": null,
      "metadata": {
        "colab": {
          "base_uri": "https://localhost:8080/"
        },
        "id": "lNKR-iQNYCmr",
        "outputId": "2102f6eb-796a-4e2a-95ac-cd06fed516c3"
      },
      "outputs": [
        {
          "output_type": "execute_result",
          "data": {
            "text/plain": [
              "First Owner        3904\n",
              "Second & Others    2096\n",
              "Name: owner, dtype: int64"
            ]
          },
          "metadata": {},
          "execution_count": 264
        }
      ],
      "source": [
        "train['owner'].value_counts()"
      ]
    },
    {
      "cell_type": "code",
      "execution_count": null,
      "metadata": {
        "colab": {
          "base_uri": "https://localhost:8080/",
          "height": 206
        },
        "id": "gxB1-WXAYMIZ",
        "outputId": "8d9f0a7b-2196-4e0c-cf63-424c4efe494d"
      },
      "outputs": [
        {
          "output_type": "execute_result",
          "data": {
            "text/html": [
              "\n",
              "  <div id=\"df-0a147651-31dc-4ffa-98e0-50d9dd4e16f8\">\n",
              "    <div class=\"colab-df-container\">\n",
              "      <div>\n",
              "<style scoped>\n",
              "    .dataframe tbody tr th:only-of-type {\n",
              "        vertical-align: middle;\n",
              "    }\n",
              "\n",
              "    .dataframe tbody tr th {\n",
              "        vertical-align: top;\n",
              "    }\n",
              "\n",
              "    .dataframe thead th {\n",
              "        text-align: right;\n",
              "    }\n",
              "</style>\n",
              "<table border=\"1\" class=\"dataframe\">\n",
              "  <thead>\n",
              "    <tr style=\"text-align: right;\">\n",
              "      <th></th>\n",
              "      <th>owner_Second &amp; Others</th>\n",
              "    </tr>\n",
              "  </thead>\n",
              "  <tbody>\n",
              "    <tr>\n",
              "      <th>0</th>\n",
              "      <td>0</td>\n",
              "    </tr>\n",
              "    <tr>\n",
              "      <th>1</th>\n",
              "      <td>0</td>\n",
              "    </tr>\n",
              "    <tr>\n",
              "      <th>2</th>\n",
              "      <td>1</td>\n",
              "    </tr>\n",
              "    <tr>\n",
              "      <th>3</th>\n",
              "      <td>0</td>\n",
              "    </tr>\n",
              "    <tr>\n",
              "      <th>4</th>\n",
              "      <td>0</td>\n",
              "    </tr>\n",
              "  </tbody>\n",
              "</table>\n",
              "</div>\n",
              "      <button class=\"colab-df-convert\" onclick=\"convertToInteractive('df-0a147651-31dc-4ffa-98e0-50d9dd4e16f8')\"\n",
              "              title=\"Convert this dataframe to an interactive table.\"\n",
              "              style=\"display:none;\">\n",
              "        \n",
              "  <svg xmlns=\"http://www.w3.org/2000/svg\" height=\"24px\"viewBox=\"0 0 24 24\"\n",
              "       width=\"24px\">\n",
              "    <path d=\"M0 0h24v24H0V0z\" fill=\"none\"/>\n",
              "    <path d=\"M18.56 5.44l.94 2.06.94-2.06 2.06-.94-2.06-.94-.94-2.06-.94 2.06-2.06.94zm-11 1L8.5 8.5l.94-2.06 2.06-.94-2.06-.94L8.5 2.5l-.94 2.06-2.06.94zm10 10l.94 2.06.94-2.06 2.06-.94-2.06-.94-.94-2.06-.94 2.06-2.06.94z\"/><path d=\"M17.41 7.96l-1.37-1.37c-.4-.4-.92-.59-1.43-.59-.52 0-1.04.2-1.43.59L10.3 9.45l-7.72 7.72c-.78.78-.78 2.05 0 2.83L4 21.41c.39.39.9.59 1.41.59.51 0 1.02-.2 1.41-.59l7.78-7.78 2.81-2.81c.8-.78.8-2.07 0-2.86zM5.41 20L4 18.59l7.72-7.72 1.47 1.35L5.41 20z\"/>\n",
              "  </svg>\n",
              "      </button>\n",
              "      \n",
              "  <style>\n",
              "    .colab-df-container {\n",
              "      display:flex;\n",
              "      flex-wrap:wrap;\n",
              "      gap: 12px;\n",
              "    }\n",
              "\n",
              "    .colab-df-convert {\n",
              "      background-color: #E8F0FE;\n",
              "      border: none;\n",
              "      border-radius: 50%;\n",
              "      cursor: pointer;\n",
              "      display: none;\n",
              "      fill: #1967D2;\n",
              "      height: 32px;\n",
              "      padding: 0 0 0 0;\n",
              "      width: 32px;\n",
              "    }\n",
              "\n",
              "    .colab-df-convert:hover {\n",
              "      background-color: #E2EBFA;\n",
              "      box-shadow: 0px 1px 2px rgba(60, 64, 67, 0.3), 0px 1px 3px 1px rgba(60, 64, 67, 0.15);\n",
              "      fill: #174EA6;\n",
              "    }\n",
              "\n",
              "    [theme=dark] .colab-df-convert {\n",
              "      background-color: #3B4455;\n",
              "      fill: #D2E3FC;\n",
              "    }\n",
              "\n",
              "    [theme=dark] .colab-df-convert:hover {\n",
              "      background-color: #434B5C;\n",
              "      box-shadow: 0px 1px 3px 1px rgba(0, 0, 0, 0.15);\n",
              "      filter: drop-shadow(0px 1px 2px rgba(0, 0, 0, 0.3));\n",
              "      fill: #FFFFFF;\n",
              "    }\n",
              "  </style>\n",
              "\n",
              "      <script>\n",
              "        const buttonEl =\n",
              "          document.querySelector('#df-0a147651-31dc-4ffa-98e0-50d9dd4e16f8 button.colab-df-convert');\n",
              "        buttonEl.style.display =\n",
              "          google.colab.kernel.accessAllowed ? 'block' : 'none';\n",
              "\n",
              "        async function convertToInteractive(key) {\n",
              "          const element = document.querySelector('#df-0a147651-31dc-4ffa-98e0-50d9dd4e16f8');\n",
              "          const dataTable =\n",
              "            await google.colab.kernel.invokeFunction('convertToInteractive',\n",
              "                                                     [key], {});\n",
              "          if (!dataTable) return;\n",
              "\n",
              "          const docLinkHtml = 'Like what you see? Visit the ' +\n",
              "            '<a target=\"_blank\" href=https://colab.research.google.com/notebooks/data_table.ipynb>data table notebook</a>'\n",
              "            + ' to learn more about interactive tables.';\n",
              "          element.innerHTML = '';\n",
              "          dataTable['output_type'] = 'display_data';\n",
              "          await google.colab.output.renderOutput(dataTable, element);\n",
              "          const docLink = document.createElement('div');\n",
              "          docLink.innerHTML = docLinkHtml;\n",
              "          element.appendChild(docLink);\n",
              "        }\n",
              "      </script>\n",
              "    </div>\n",
              "  </div>\n",
              "  "
            ],
            "text/plain": [
              "   owner_Second & Others\n",
              "0                      0\n",
              "1                      0\n",
              "2                      1\n",
              "3                      0\n",
              "4                      0"
            ]
          },
          "metadata": {},
          "execution_count": 265
        }
      ],
      "source": [
        "Owner = train[['owner']]\n",
        "Owner = pd.get_dummies(Owner, drop_first=True)\n",
        "Owner.head()"
      ]
    },
    {
      "cell_type": "markdown",
      "metadata": {
        "id": "iUQc_hADdQ39"
      },
      "source": [
        "## Mileage"
      ]
    },
    {
      "cell_type": "code",
      "execution_count": null,
      "metadata": {
        "colab": {
          "base_uri": "https://localhost:8080/",
          "height": 478
        },
        "id": "S20hBUMdbccs",
        "outputId": "1b2521b3-0598-43ff-c45d-9f24b54aeac5"
      },
      "outputs": [
        {
          "output_type": "execute_result",
          "data": {
            "text/html": [
              "\n",
              "  <div id=\"df-322a81dc-58ab-4181-855a-a8a848194e90\">\n",
              "    <div class=\"colab-df-container\">\n",
              "      <div>\n",
              "<style scoped>\n",
              "    .dataframe tbody tr th:only-of-type {\n",
              "        vertical-align: middle;\n",
              "    }\n",
              "\n",
              "    .dataframe tbody tr th {\n",
              "        vertical-align: top;\n",
              "    }\n",
              "\n",
              "    .dataframe thead th {\n",
              "        text-align: right;\n",
              "    }\n",
              "</style>\n",
              "<table border=\"1\" class=\"dataframe\">\n",
              "  <thead>\n",
              "    <tr style=\"text-align: right;\">\n",
              "      <th></th>\n",
              "      <th>name</th>\n",
              "      <th>year</th>\n",
              "      <th>selling_price</th>\n",
              "      <th>km_driven</th>\n",
              "      <th>fuel</th>\n",
              "      <th>seller_type</th>\n",
              "      <th>transmission</th>\n",
              "      <th>owner</th>\n",
              "      <th>mileage</th>\n",
              "      <th>engine</th>\n",
              "      <th>max_power</th>\n",
              "      <th>torque</th>\n",
              "      <th>seats</th>\n",
              "      <th>brand</th>\n",
              "      <th>class_year</th>\n",
              "    </tr>\n",
              "  </thead>\n",
              "  <tbody>\n",
              "    <tr>\n",
              "      <th>0</th>\n",
              "      <td>Tata Nexon 1.5 Revotorq XM</td>\n",
              "      <td>2018</td>\n",
              "      <td>850000</td>\n",
              "      <td>9500</td>\n",
              "      <td>Diesel</td>\n",
              "      <td>Individual</td>\n",
              "      <td>Manual</td>\n",
              "      <td>First Owner</td>\n",
              "      <td>21.50</td>\n",
              "      <td>1497 CC</td>\n",
              "      <td>108.5 bhp</td>\n",
              "      <td>260Nm@ 1500-2750rpm</td>\n",
              "      <td>5.0</td>\n",
              "      <td>Asia</td>\n",
              "      <td>after_2015</td>\n",
              "    </tr>\n",
              "    <tr>\n",
              "      <th>1</th>\n",
              "      <td>Hyundai i20 Active SX Diesel</td>\n",
              "      <td>2018</td>\n",
              "      <td>750000</td>\n",
              "      <td>30000</td>\n",
              "      <td>Diesel</td>\n",
              "      <td>Individual</td>\n",
              "      <td>Manual</td>\n",
              "      <td>First Owner</td>\n",
              "      <td>21.19</td>\n",
              "      <td>1396 CC</td>\n",
              "      <td>88.76 bhp</td>\n",
              "      <td>219.66nm@ 1500-2750rpm</td>\n",
              "      <td>5.0</td>\n",
              "      <td>Asia</td>\n",
              "      <td>after_2015</td>\n",
              "    </tr>\n",
              "    <tr>\n",
              "      <th>2</th>\n",
              "      <td>Toyota Fortuner 4x2 AT</td>\n",
              "      <td>2015</td>\n",
              "      <td>1500000</td>\n",
              "      <td>80000</td>\n",
              "      <td>Diesel</td>\n",
              "      <td>Individual</td>\n",
              "      <td>Automatic</td>\n",
              "      <td>Second &amp; Others</td>\n",
              "      <td>12.55</td>\n",
              "      <td>2982 CC</td>\n",
              "      <td>168.5 bhp</td>\n",
              "      <td>360Nm@ 1400-3200rpm</td>\n",
              "      <td>7.0</td>\n",
              "      <td>Asia</td>\n",
              "      <td>before_2015</td>\n",
              "    </tr>\n",
              "    <tr>\n",
              "      <th>3</th>\n",
              "      <td>Hyundai Verna 1.6 VTVT SX</td>\n",
              "      <td>2015</td>\n",
              "      <td>795000</td>\n",
              "      <td>35000</td>\n",
              "      <td>Petrol</td>\n",
              "      <td>Individual</td>\n",
              "      <td>Manual</td>\n",
              "      <td>First Owner</td>\n",
              "      <td>17.01</td>\n",
              "      <td>1591 CC</td>\n",
              "      <td>121.3 bhp</td>\n",
              "      <td>154.9Nm@ 4200rpm</td>\n",
              "      <td>5.0</td>\n",
              "      <td>Asia</td>\n",
              "      <td>before_2015</td>\n",
              "    </tr>\n",
              "    <tr>\n",
              "      <th>4</th>\n",
              "      <td>Volvo XC40 D4 Inscription BSIV</td>\n",
              "      <td>2019</td>\n",
              "      <td>3800000</td>\n",
              "      <td>20000</td>\n",
              "      <td>Diesel</td>\n",
              "      <td>Individual</td>\n",
              "      <td>Automatic</td>\n",
              "      <td>First Owner</td>\n",
              "      <td>18.00</td>\n",
              "      <td>1969 CC</td>\n",
              "      <td>190 bhp</td>\n",
              "      <td>400Nm</td>\n",
              "      <td>5.0</td>\n",
              "      <td>Euro</td>\n",
              "      <td>after_2015</td>\n",
              "    </tr>\n",
              "  </tbody>\n",
              "</table>\n",
              "</div>\n",
              "      <button class=\"colab-df-convert\" onclick=\"convertToInteractive('df-322a81dc-58ab-4181-855a-a8a848194e90')\"\n",
              "              title=\"Convert this dataframe to an interactive table.\"\n",
              "              style=\"display:none;\">\n",
              "        \n",
              "  <svg xmlns=\"http://www.w3.org/2000/svg\" height=\"24px\"viewBox=\"0 0 24 24\"\n",
              "       width=\"24px\">\n",
              "    <path d=\"M0 0h24v24H0V0z\" fill=\"none\"/>\n",
              "    <path d=\"M18.56 5.44l.94 2.06.94-2.06 2.06-.94-2.06-.94-.94-2.06-.94 2.06-2.06.94zm-11 1L8.5 8.5l.94-2.06 2.06-.94-2.06-.94L8.5 2.5l-.94 2.06-2.06.94zm10 10l.94 2.06.94-2.06 2.06-.94-2.06-.94-.94-2.06-.94 2.06-2.06.94z\"/><path d=\"M17.41 7.96l-1.37-1.37c-.4-.4-.92-.59-1.43-.59-.52 0-1.04.2-1.43.59L10.3 9.45l-7.72 7.72c-.78.78-.78 2.05 0 2.83L4 21.41c.39.39.9.59 1.41.59.51 0 1.02-.2 1.41-.59l7.78-7.78 2.81-2.81c.8-.78.8-2.07 0-2.86zM5.41 20L4 18.59l7.72-7.72 1.47 1.35L5.41 20z\"/>\n",
              "  </svg>\n",
              "      </button>\n",
              "      \n",
              "  <style>\n",
              "    .colab-df-container {\n",
              "      display:flex;\n",
              "      flex-wrap:wrap;\n",
              "      gap: 12px;\n",
              "    }\n",
              "\n",
              "    .colab-df-convert {\n",
              "      background-color: #E8F0FE;\n",
              "      border: none;\n",
              "      border-radius: 50%;\n",
              "      cursor: pointer;\n",
              "      display: none;\n",
              "      fill: #1967D2;\n",
              "      height: 32px;\n",
              "      padding: 0 0 0 0;\n",
              "      width: 32px;\n",
              "    }\n",
              "\n",
              "    .colab-df-convert:hover {\n",
              "      background-color: #E2EBFA;\n",
              "      box-shadow: 0px 1px 2px rgba(60, 64, 67, 0.3), 0px 1px 3px 1px rgba(60, 64, 67, 0.15);\n",
              "      fill: #174EA6;\n",
              "    }\n",
              "\n",
              "    [theme=dark] .colab-df-convert {\n",
              "      background-color: #3B4455;\n",
              "      fill: #D2E3FC;\n",
              "    }\n",
              "\n",
              "    [theme=dark] .colab-df-convert:hover {\n",
              "      background-color: #434B5C;\n",
              "      box-shadow: 0px 1px 3px 1px rgba(0, 0, 0, 0.15);\n",
              "      filter: drop-shadow(0px 1px 2px rgba(0, 0, 0, 0.3));\n",
              "      fill: #FFFFFF;\n",
              "    }\n",
              "  </style>\n",
              "\n",
              "      <script>\n",
              "        const buttonEl =\n",
              "          document.querySelector('#df-322a81dc-58ab-4181-855a-a8a848194e90 button.colab-df-convert');\n",
              "        buttonEl.style.display =\n",
              "          google.colab.kernel.accessAllowed ? 'block' : 'none';\n",
              "\n",
              "        async function convertToInteractive(key) {\n",
              "          const element = document.querySelector('#df-322a81dc-58ab-4181-855a-a8a848194e90');\n",
              "          const dataTable =\n",
              "            await google.colab.kernel.invokeFunction('convertToInteractive',\n",
              "                                                     [key], {});\n",
              "          if (!dataTable) return;\n",
              "\n",
              "          const docLinkHtml = 'Like what you see? Visit the ' +\n",
              "            '<a target=\"_blank\" href=https://colab.research.google.com/notebooks/data_table.ipynb>data table notebook</a>'\n",
              "            + ' to learn more about interactive tables.';\n",
              "          element.innerHTML = '';\n",
              "          dataTable['output_type'] = 'display_data';\n",
              "          await google.colab.output.renderOutput(dataTable, element);\n",
              "          const docLink = document.createElement('div');\n",
              "          docLink.innerHTML = docLinkHtml;\n",
              "          element.appendChild(docLink);\n",
              "        }\n",
              "      </script>\n",
              "    </div>\n",
              "  </div>\n",
              "  "
            ],
            "text/plain": [
              "                             name  year  ...  brand   class_year\n",
              "0      Tata Nexon 1.5 Revotorq XM  2018  ...   Asia   after_2015\n",
              "1    Hyundai i20 Active SX Diesel  2018  ...   Asia   after_2015\n",
              "2          Toyota Fortuner 4x2 AT  2015  ...   Asia  before_2015\n",
              "3       Hyundai Verna 1.6 VTVT SX  2015  ...   Asia  before_2015\n",
              "4  Volvo XC40 D4 Inscription BSIV  2019  ...   Euro   after_2015\n",
              "\n",
              "[5 rows x 15 columns]"
            ]
          },
          "metadata": {},
          "execution_count": 266
        }
      ],
      "source": [
        "df['mileage'] = df['mileage'].apply(lambda x: float(x.split()[0]) if str(x).endswith('kmpl') else float(x.split()[0]) * 1.4) \n",
        "mean_mil = np.mean(df.mileage)\n",
        "\n",
        "train.mileage = train.mileage.fillna('0')\n",
        "train['mileage'] = train['mileage'].apply(lambda x: float(x.split()[0]) if str(x).endswith('kmpl') else float(x.split()[0]) * 1.4) \n",
        "train.mileage = train.mileage.replace(0, mean_mil)\n",
        "train.head()"
      ]
    },
    {
      "cell_type": "markdown",
      "metadata": {
        "id": "AquJt__gdVu9"
      },
      "source": [
        "We can see that some observations have different measuring units, so we have to convert them "
      ]
    },
    {
      "cell_type": "markdown",
      "metadata": {
        "id": "7BKzERPdcPQC"
      },
      "source": [
        "## Transmission"
      ]
    },
    {
      "cell_type": "code",
      "execution_count": null,
      "metadata": {
        "colab": {
          "base_uri": "https://localhost:8080/"
        },
        "id": "-lchjTI4cTG_",
        "outputId": "990617f8-48b8-4156-93fa-4f151e6e0956"
      },
      "outputs": [
        {
          "output_type": "execute_result",
          "data": {
            "text/plain": [
              "Manual       5228\n",
              "Automatic     772\n",
              "Name: transmission, dtype: int64"
            ]
          },
          "metadata": {},
          "execution_count": 267
        }
      ],
      "source": [
        "train.transmission.value_counts()"
      ]
    },
    {
      "cell_type": "code",
      "execution_count": null,
      "metadata": {
        "colab": {
          "base_uri": "https://localhost:8080/",
          "height": 206
        },
        "id": "Vywecja_eEvB",
        "outputId": "47baf7fd-3049-469d-9064-b223d52824d4"
      },
      "outputs": [
        {
          "output_type": "execute_result",
          "data": {
            "text/html": [
              "\n",
              "  <div id=\"df-f390286a-de37-44f1-978e-5eb412c6d4ae\">\n",
              "    <div class=\"colab-df-container\">\n",
              "      <div>\n",
              "<style scoped>\n",
              "    .dataframe tbody tr th:only-of-type {\n",
              "        vertical-align: middle;\n",
              "    }\n",
              "\n",
              "    .dataframe tbody tr th {\n",
              "        vertical-align: top;\n",
              "    }\n",
              "\n",
              "    .dataframe thead th {\n",
              "        text-align: right;\n",
              "    }\n",
              "</style>\n",
              "<table border=\"1\" class=\"dataframe\">\n",
              "  <thead>\n",
              "    <tr style=\"text-align: right;\">\n",
              "      <th></th>\n",
              "      <th>transmission_Manual</th>\n",
              "    </tr>\n",
              "  </thead>\n",
              "  <tbody>\n",
              "    <tr>\n",
              "      <th>0</th>\n",
              "      <td>1</td>\n",
              "    </tr>\n",
              "    <tr>\n",
              "      <th>1</th>\n",
              "      <td>1</td>\n",
              "    </tr>\n",
              "    <tr>\n",
              "      <th>2</th>\n",
              "      <td>0</td>\n",
              "    </tr>\n",
              "    <tr>\n",
              "      <th>3</th>\n",
              "      <td>1</td>\n",
              "    </tr>\n",
              "    <tr>\n",
              "      <th>4</th>\n",
              "      <td>0</td>\n",
              "    </tr>\n",
              "  </tbody>\n",
              "</table>\n",
              "</div>\n",
              "      <button class=\"colab-df-convert\" onclick=\"convertToInteractive('df-f390286a-de37-44f1-978e-5eb412c6d4ae')\"\n",
              "              title=\"Convert this dataframe to an interactive table.\"\n",
              "              style=\"display:none;\">\n",
              "        \n",
              "  <svg xmlns=\"http://www.w3.org/2000/svg\" height=\"24px\"viewBox=\"0 0 24 24\"\n",
              "       width=\"24px\">\n",
              "    <path d=\"M0 0h24v24H0V0z\" fill=\"none\"/>\n",
              "    <path d=\"M18.56 5.44l.94 2.06.94-2.06 2.06-.94-2.06-.94-.94-2.06-.94 2.06-2.06.94zm-11 1L8.5 8.5l.94-2.06 2.06-.94-2.06-.94L8.5 2.5l-.94 2.06-2.06.94zm10 10l.94 2.06.94-2.06 2.06-.94-2.06-.94-.94-2.06-.94 2.06-2.06.94z\"/><path d=\"M17.41 7.96l-1.37-1.37c-.4-.4-.92-.59-1.43-.59-.52 0-1.04.2-1.43.59L10.3 9.45l-7.72 7.72c-.78.78-.78 2.05 0 2.83L4 21.41c.39.39.9.59 1.41.59.51 0 1.02-.2 1.41-.59l7.78-7.78 2.81-2.81c.8-.78.8-2.07 0-2.86zM5.41 20L4 18.59l7.72-7.72 1.47 1.35L5.41 20z\"/>\n",
              "  </svg>\n",
              "      </button>\n",
              "      \n",
              "  <style>\n",
              "    .colab-df-container {\n",
              "      display:flex;\n",
              "      flex-wrap:wrap;\n",
              "      gap: 12px;\n",
              "    }\n",
              "\n",
              "    .colab-df-convert {\n",
              "      background-color: #E8F0FE;\n",
              "      border: none;\n",
              "      border-radius: 50%;\n",
              "      cursor: pointer;\n",
              "      display: none;\n",
              "      fill: #1967D2;\n",
              "      height: 32px;\n",
              "      padding: 0 0 0 0;\n",
              "      width: 32px;\n",
              "    }\n",
              "\n",
              "    .colab-df-convert:hover {\n",
              "      background-color: #E2EBFA;\n",
              "      box-shadow: 0px 1px 2px rgba(60, 64, 67, 0.3), 0px 1px 3px 1px rgba(60, 64, 67, 0.15);\n",
              "      fill: #174EA6;\n",
              "    }\n",
              "\n",
              "    [theme=dark] .colab-df-convert {\n",
              "      background-color: #3B4455;\n",
              "      fill: #D2E3FC;\n",
              "    }\n",
              "\n",
              "    [theme=dark] .colab-df-convert:hover {\n",
              "      background-color: #434B5C;\n",
              "      box-shadow: 0px 1px 3px 1px rgba(0, 0, 0, 0.15);\n",
              "      filter: drop-shadow(0px 1px 2px rgba(0, 0, 0, 0.3));\n",
              "      fill: #FFFFFF;\n",
              "    }\n",
              "  </style>\n",
              "\n",
              "      <script>\n",
              "        const buttonEl =\n",
              "          document.querySelector('#df-f390286a-de37-44f1-978e-5eb412c6d4ae button.colab-df-convert');\n",
              "        buttonEl.style.display =\n",
              "          google.colab.kernel.accessAllowed ? 'block' : 'none';\n",
              "\n",
              "        async function convertToInteractive(key) {\n",
              "          const element = document.querySelector('#df-f390286a-de37-44f1-978e-5eb412c6d4ae');\n",
              "          const dataTable =\n",
              "            await google.colab.kernel.invokeFunction('convertToInteractive',\n",
              "                                                     [key], {});\n",
              "          if (!dataTable) return;\n",
              "\n",
              "          const docLinkHtml = 'Like what you see? Visit the ' +\n",
              "            '<a target=\"_blank\" href=https://colab.research.google.com/notebooks/data_table.ipynb>data table notebook</a>'\n",
              "            + ' to learn more about interactive tables.';\n",
              "          element.innerHTML = '';\n",
              "          dataTable['output_type'] = 'display_data';\n",
              "          await google.colab.output.renderOutput(dataTable, element);\n",
              "          const docLink = document.createElement('div');\n",
              "          docLink.innerHTML = docLinkHtml;\n",
              "          element.appendChild(docLink);\n",
              "        }\n",
              "      </script>\n",
              "    </div>\n",
              "  </div>\n",
              "  "
            ],
            "text/plain": [
              "   transmission_Manual\n",
              "0                    1\n",
              "1                    1\n",
              "2                    0\n",
              "3                    1\n",
              "4                    0"
            ]
          },
          "metadata": {},
          "execution_count": 268
        }
      ],
      "source": [
        "Trans = train[['transmission']]\n",
        "Trans = pd.get_dummies(Trans, drop_first=True)\n",
        "Trans.head()"
      ]
    },
    {
      "cell_type": "markdown",
      "metadata": {
        "id": "RSTEQslQfUN1"
      },
      "source": [
        "## Engine"
      ]
    },
    {
      "cell_type": "code",
      "execution_count": null,
      "metadata": {
        "colab": {
          "base_uri": "https://localhost:8080/",
          "height": 478
        },
        "id": "ljfvjZTigBuR",
        "outputId": "bfd9391e-5ff8-41a4-e48d-5b565951f180"
      },
      "outputs": [
        {
          "output_type": "execute_result",
          "data": {
            "text/html": [
              "\n",
              "  <div id=\"df-c21bcc66-d94c-488c-8dd8-9d32c7e76d44\">\n",
              "    <div class=\"colab-df-container\">\n",
              "      <div>\n",
              "<style scoped>\n",
              "    .dataframe tbody tr th:only-of-type {\n",
              "        vertical-align: middle;\n",
              "    }\n",
              "\n",
              "    .dataframe tbody tr th {\n",
              "        vertical-align: top;\n",
              "    }\n",
              "\n",
              "    .dataframe thead th {\n",
              "        text-align: right;\n",
              "    }\n",
              "</style>\n",
              "<table border=\"1\" class=\"dataframe\">\n",
              "  <thead>\n",
              "    <tr style=\"text-align: right;\">\n",
              "      <th></th>\n",
              "      <th>name</th>\n",
              "      <th>year</th>\n",
              "      <th>selling_price</th>\n",
              "      <th>km_driven</th>\n",
              "      <th>fuel</th>\n",
              "      <th>seller_type</th>\n",
              "      <th>transmission</th>\n",
              "      <th>owner</th>\n",
              "      <th>mileage</th>\n",
              "      <th>engine</th>\n",
              "      <th>max_power</th>\n",
              "      <th>torque</th>\n",
              "      <th>seats</th>\n",
              "      <th>brand</th>\n",
              "      <th>class_year</th>\n",
              "    </tr>\n",
              "  </thead>\n",
              "  <tbody>\n",
              "    <tr>\n",
              "      <th>0</th>\n",
              "      <td>Tata Nexon 1.5 Revotorq XM</td>\n",
              "      <td>2018</td>\n",
              "      <td>850000</td>\n",
              "      <td>9500</td>\n",
              "      <td>Diesel</td>\n",
              "      <td>Individual</td>\n",
              "      <td>Manual</td>\n",
              "      <td>First Owner</td>\n",
              "      <td>21.50</td>\n",
              "      <td>1497.0</td>\n",
              "      <td>108.5 bhp</td>\n",
              "      <td>260Nm@ 1500-2750rpm</td>\n",
              "      <td>5.0</td>\n",
              "      <td>Asia</td>\n",
              "      <td>after_2015</td>\n",
              "    </tr>\n",
              "    <tr>\n",
              "      <th>1</th>\n",
              "      <td>Hyundai i20 Active SX Diesel</td>\n",
              "      <td>2018</td>\n",
              "      <td>750000</td>\n",
              "      <td>30000</td>\n",
              "      <td>Diesel</td>\n",
              "      <td>Individual</td>\n",
              "      <td>Manual</td>\n",
              "      <td>First Owner</td>\n",
              "      <td>21.19</td>\n",
              "      <td>1396.0</td>\n",
              "      <td>88.76 bhp</td>\n",
              "      <td>219.66nm@ 1500-2750rpm</td>\n",
              "      <td>5.0</td>\n",
              "      <td>Asia</td>\n",
              "      <td>after_2015</td>\n",
              "    </tr>\n",
              "    <tr>\n",
              "      <th>2</th>\n",
              "      <td>Toyota Fortuner 4x2 AT</td>\n",
              "      <td>2015</td>\n",
              "      <td>1500000</td>\n",
              "      <td>80000</td>\n",
              "      <td>Diesel</td>\n",
              "      <td>Individual</td>\n",
              "      <td>Automatic</td>\n",
              "      <td>Second &amp; Others</td>\n",
              "      <td>12.55</td>\n",
              "      <td>2982.0</td>\n",
              "      <td>168.5 bhp</td>\n",
              "      <td>360Nm@ 1400-3200rpm</td>\n",
              "      <td>7.0</td>\n",
              "      <td>Asia</td>\n",
              "      <td>before_2015</td>\n",
              "    </tr>\n",
              "    <tr>\n",
              "      <th>3</th>\n",
              "      <td>Hyundai Verna 1.6 VTVT SX</td>\n",
              "      <td>2015</td>\n",
              "      <td>795000</td>\n",
              "      <td>35000</td>\n",
              "      <td>Petrol</td>\n",
              "      <td>Individual</td>\n",
              "      <td>Manual</td>\n",
              "      <td>First Owner</td>\n",
              "      <td>17.01</td>\n",
              "      <td>1591.0</td>\n",
              "      <td>121.3 bhp</td>\n",
              "      <td>154.9Nm@ 4200rpm</td>\n",
              "      <td>5.0</td>\n",
              "      <td>Asia</td>\n",
              "      <td>before_2015</td>\n",
              "    </tr>\n",
              "    <tr>\n",
              "      <th>4</th>\n",
              "      <td>Volvo XC40 D4 Inscription BSIV</td>\n",
              "      <td>2019</td>\n",
              "      <td>3800000</td>\n",
              "      <td>20000</td>\n",
              "      <td>Diesel</td>\n",
              "      <td>Individual</td>\n",
              "      <td>Automatic</td>\n",
              "      <td>First Owner</td>\n",
              "      <td>18.00</td>\n",
              "      <td>1969.0</td>\n",
              "      <td>190 bhp</td>\n",
              "      <td>400Nm</td>\n",
              "      <td>5.0</td>\n",
              "      <td>Euro</td>\n",
              "      <td>after_2015</td>\n",
              "    </tr>\n",
              "  </tbody>\n",
              "</table>\n",
              "</div>\n",
              "      <button class=\"colab-df-convert\" onclick=\"convertToInteractive('df-c21bcc66-d94c-488c-8dd8-9d32c7e76d44')\"\n",
              "              title=\"Convert this dataframe to an interactive table.\"\n",
              "              style=\"display:none;\">\n",
              "        \n",
              "  <svg xmlns=\"http://www.w3.org/2000/svg\" height=\"24px\"viewBox=\"0 0 24 24\"\n",
              "       width=\"24px\">\n",
              "    <path d=\"M0 0h24v24H0V0z\" fill=\"none\"/>\n",
              "    <path d=\"M18.56 5.44l.94 2.06.94-2.06 2.06-.94-2.06-.94-.94-2.06-.94 2.06-2.06.94zm-11 1L8.5 8.5l.94-2.06 2.06-.94-2.06-.94L8.5 2.5l-.94 2.06-2.06.94zm10 10l.94 2.06.94-2.06 2.06-.94-2.06-.94-.94-2.06-.94 2.06-2.06.94z\"/><path d=\"M17.41 7.96l-1.37-1.37c-.4-.4-.92-.59-1.43-.59-.52 0-1.04.2-1.43.59L10.3 9.45l-7.72 7.72c-.78.78-.78 2.05 0 2.83L4 21.41c.39.39.9.59 1.41.59.51 0 1.02-.2 1.41-.59l7.78-7.78 2.81-2.81c.8-.78.8-2.07 0-2.86zM5.41 20L4 18.59l7.72-7.72 1.47 1.35L5.41 20z\"/>\n",
              "  </svg>\n",
              "      </button>\n",
              "      \n",
              "  <style>\n",
              "    .colab-df-container {\n",
              "      display:flex;\n",
              "      flex-wrap:wrap;\n",
              "      gap: 12px;\n",
              "    }\n",
              "\n",
              "    .colab-df-convert {\n",
              "      background-color: #E8F0FE;\n",
              "      border: none;\n",
              "      border-radius: 50%;\n",
              "      cursor: pointer;\n",
              "      display: none;\n",
              "      fill: #1967D2;\n",
              "      height: 32px;\n",
              "      padding: 0 0 0 0;\n",
              "      width: 32px;\n",
              "    }\n",
              "\n",
              "    .colab-df-convert:hover {\n",
              "      background-color: #E2EBFA;\n",
              "      box-shadow: 0px 1px 2px rgba(60, 64, 67, 0.3), 0px 1px 3px 1px rgba(60, 64, 67, 0.15);\n",
              "      fill: #174EA6;\n",
              "    }\n",
              "\n",
              "    [theme=dark] .colab-df-convert {\n",
              "      background-color: #3B4455;\n",
              "      fill: #D2E3FC;\n",
              "    }\n",
              "\n",
              "    [theme=dark] .colab-df-convert:hover {\n",
              "      background-color: #434B5C;\n",
              "      box-shadow: 0px 1px 3px 1px rgba(0, 0, 0, 0.15);\n",
              "      filter: drop-shadow(0px 1px 2px rgba(0, 0, 0, 0.3));\n",
              "      fill: #FFFFFF;\n",
              "    }\n",
              "  </style>\n",
              "\n",
              "      <script>\n",
              "        const buttonEl =\n",
              "          document.querySelector('#df-c21bcc66-d94c-488c-8dd8-9d32c7e76d44 button.colab-df-convert');\n",
              "        buttonEl.style.display =\n",
              "          google.colab.kernel.accessAllowed ? 'block' : 'none';\n",
              "\n",
              "        async function convertToInteractive(key) {\n",
              "          const element = document.querySelector('#df-c21bcc66-d94c-488c-8dd8-9d32c7e76d44');\n",
              "          const dataTable =\n",
              "            await google.colab.kernel.invokeFunction('convertToInteractive',\n",
              "                                                     [key], {});\n",
              "          if (!dataTable) return;\n",
              "\n",
              "          const docLinkHtml = 'Like what you see? Visit the ' +\n",
              "            '<a target=\"_blank\" href=https://colab.research.google.com/notebooks/data_table.ipynb>data table notebook</a>'\n",
              "            + ' to learn more about interactive tables.';\n",
              "          element.innerHTML = '';\n",
              "          dataTable['output_type'] = 'display_data';\n",
              "          await google.colab.output.renderOutput(dataTable, element);\n",
              "          const docLink = document.createElement('div');\n",
              "          docLink.innerHTML = docLinkHtml;\n",
              "          element.appendChild(docLink);\n",
              "        }\n",
              "      </script>\n",
              "    </div>\n",
              "  </div>\n",
              "  "
            ],
            "text/plain": [
              "                             name  year  ...  brand   class_year\n",
              "0      Tata Nexon 1.5 Revotorq XM  2018  ...   Asia   after_2015\n",
              "1    Hyundai i20 Active SX Diesel  2018  ...   Asia   after_2015\n",
              "2          Toyota Fortuner 4x2 AT  2015  ...   Asia  before_2015\n",
              "3       Hyundai Verna 1.6 VTVT SX  2015  ...   Asia  before_2015\n",
              "4  Volvo XC40 D4 Inscription BSIV  2019  ...   Euro   after_2015\n",
              "\n",
              "[5 rows x 15 columns]"
            ]
          },
          "metadata": {},
          "execution_count": 269
        }
      ],
      "source": [
        "df['engine'] = df['engine'].apply(lambda x: float(x.split()[0])) \n",
        "mean_en = np.mean(df.engine)\n",
        "\n",
        "train.engine = train.engine.fillna('0')\n",
        "train['engine'] = train['engine'].apply(lambda x: float(x.split()[0]))\n",
        "train.engine = train.engine.replace(0, mean_en)\n",
        "train.head()"
      ]
    },
    {
      "cell_type": "markdown",
      "metadata": {
        "id": "C8uPdllCgKJk"
      },
      "source": [
        "## Max Power"
      ]
    },
    {
      "cell_type": "code",
      "execution_count": null,
      "metadata": {
        "colab": {
          "base_uri": "https://localhost:8080/",
          "height": 478
        },
        "id": "QBNig6FggwuV",
        "outputId": "02805658-4a7c-4e3f-f10a-1b6402024266"
      },
      "outputs": [
        {
          "output_type": "execute_result",
          "data": {
            "text/html": [
              "\n",
              "  <div id=\"df-a06ada9b-8e34-47b3-8652-1b686803c3b8\">\n",
              "    <div class=\"colab-df-container\">\n",
              "      <div>\n",
              "<style scoped>\n",
              "    .dataframe tbody tr th:only-of-type {\n",
              "        vertical-align: middle;\n",
              "    }\n",
              "\n",
              "    .dataframe tbody tr th {\n",
              "        vertical-align: top;\n",
              "    }\n",
              "\n",
              "    .dataframe thead th {\n",
              "        text-align: right;\n",
              "    }\n",
              "</style>\n",
              "<table border=\"1\" class=\"dataframe\">\n",
              "  <thead>\n",
              "    <tr style=\"text-align: right;\">\n",
              "      <th></th>\n",
              "      <th>name</th>\n",
              "      <th>year</th>\n",
              "      <th>selling_price</th>\n",
              "      <th>km_driven</th>\n",
              "      <th>fuel</th>\n",
              "      <th>seller_type</th>\n",
              "      <th>transmission</th>\n",
              "      <th>owner</th>\n",
              "      <th>mileage</th>\n",
              "      <th>engine</th>\n",
              "      <th>max_power</th>\n",
              "      <th>torque</th>\n",
              "      <th>seats</th>\n",
              "      <th>brand</th>\n",
              "      <th>class_year</th>\n",
              "    </tr>\n",
              "  </thead>\n",
              "  <tbody>\n",
              "    <tr>\n",
              "      <th>0</th>\n",
              "      <td>Tata Nexon 1.5 Revotorq XM</td>\n",
              "      <td>2018</td>\n",
              "      <td>850000</td>\n",
              "      <td>9500</td>\n",
              "      <td>Diesel</td>\n",
              "      <td>Individual</td>\n",
              "      <td>Manual</td>\n",
              "      <td>First Owner</td>\n",
              "      <td>21.50</td>\n",
              "      <td>1497.0</td>\n",
              "      <td>108.50</td>\n",
              "      <td>260Nm@ 1500-2750rpm</td>\n",
              "      <td>5.0</td>\n",
              "      <td>Asia</td>\n",
              "      <td>after_2015</td>\n",
              "    </tr>\n",
              "    <tr>\n",
              "      <th>1</th>\n",
              "      <td>Hyundai i20 Active SX Diesel</td>\n",
              "      <td>2018</td>\n",
              "      <td>750000</td>\n",
              "      <td>30000</td>\n",
              "      <td>Diesel</td>\n",
              "      <td>Individual</td>\n",
              "      <td>Manual</td>\n",
              "      <td>First Owner</td>\n",
              "      <td>21.19</td>\n",
              "      <td>1396.0</td>\n",
              "      <td>88.76</td>\n",
              "      <td>219.66nm@ 1500-2750rpm</td>\n",
              "      <td>5.0</td>\n",
              "      <td>Asia</td>\n",
              "      <td>after_2015</td>\n",
              "    </tr>\n",
              "    <tr>\n",
              "      <th>2</th>\n",
              "      <td>Toyota Fortuner 4x2 AT</td>\n",
              "      <td>2015</td>\n",
              "      <td>1500000</td>\n",
              "      <td>80000</td>\n",
              "      <td>Diesel</td>\n",
              "      <td>Individual</td>\n",
              "      <td>Automatic</td>\n",
              "      <td>Second &amp; Others</td>\n",
              "      <td>12.55</td>\n",
              "      <td>2982.0</td>\n",
              "      <td>168.50</td>\n",
              "      <td>360Nm@ 1400-3200rpm</td>\n",
              "      <td>7.0</td>\n",
              "      <td>Asia</td>\n",
              "      <td>before_2015</td>\n",
              "    </tr>\n",
              "    <tr>\n",
              "      <th>3</th>\n",
              "      <td>Hyundai Verna 1.6 VTVT SX</td>\n",
              "      <td>2015</td>\n",
              "      <td>795000</td>\n",
              "      <td>35000</td>\n",
              "      <td>Petrol</td>\n",
              "      <td>Individual</td>\n",
              "      <td>Manual</td>\n",
              "      <td>First Owner</td>\n",
              "      <td>17.01</td>\n",
              "      <td>1591.0</td>\n",
              "      <td>121.30</td>\n",
              "      <td>154.9Nm@ 4200rpm</td>\n",
              "      <td>5.0</td>\n",
              "      <td>Asia</td>\n",
              "      <td>before_2015</td>\n",
              "    </tr>\n",
              "    <tr>\n",
              "      <th>4</th>\n",
              "      <td>Volvo XC40 D4 Inscription BSIV</td>\n",
              "      <td>2019</td>\n",
              "      <td>3800000</td>\n",
              "      <td>20000</td>\n",
              "      <td>Diesel</td>\n",
              "      <td>Individual</td>\n",
              "      <td>Automatic</td>\n",
              "      <td>First Owner</td>\n",
              "      <td>18.00</td>\n",
              "      <td>1969.0</td>\n",
              "      <td>190.00</td>\n",
              "      <td>400Nm</td>\n",
              "      <td>5.0</td>\n",
              "      <td>Euro</td>\n",
              "      <td>after_2015</td>\n",
              "    </tr>\n",
              "  </tbody>\n",
              "</table>\n",
              "</div>\n",
              "      <button class=\"colab-df-convert\" onclick=\"convertToInteractive('df-a06ada9b-8e34-47b3-8652-1b686803c3b8')\"\n",
              "              title=\"Convert this dataframe to an interactive table.\"\n",
              "              style=\"display:none;\">\n",
              "        \n",
              "  <svg xmlns=\"http://www.w3.org/2000/svg\" height=\"24px\"viewBox=\"0 0 24 24\"\n",
              "       width=\"24px\">\n",
              "    <path d=\"M0 0h24v24H0V0z\" fill=\"none\"/>\n",
              "    <path d=\"M18.56 5.44l.94 2.06.94-2.06 2.06-.94-2.06-.94-.94-2.06-.94 2.06-2.06.94zm-11 1L8.5 8.5l.94-2.06 2.06-.94-2.06-.94L8.5 2.5l-.94 2.06-2.06.94zm10 10l.94 2.06.94-2.06 2.06-.94-2.06-.94-.94-2.06-.94 2.06-2.06.94z\"/><path d=\"M17.41 7.96l-1.37-1.37c-.4-.4-.92-.59-1.43-.59-.52 0-1.04.2-1.43.59L10.3 9.45l-7.72 7.72c-.78.78-.78 2.05 0 2.83L4 21.41c.39.39.9.59 1.41.59.51 0 1.02-.2 1.41-.59l7.78-7.78 2.81-2.81c.8-.78.8-2.07 0-2.86zM5.41 20L4 18.59l7.72-7.72 1.47 1.35L5.41 20z\"/>\n",
              "  </svg>\n",
              "      </button>\n",
              "      \n",
              "  <style>\n",
              "    .colab-df-container {\n",
              "      display:flex;\n",
              "      flex-wrap:wrap;\n",
              "      gap: 12px;\n",
              "    }\n",
              "\n",
              "    .colab-df-convert {\n",
              "      background-color: #E8F0FE;\n",
              "      border: none;\n",
              "      border-radius: 50%;\n",
              "      cursor: pointer;\n",
              "      display: none;\n",
              "      fill: #1967D2;\n",
              "      height: 32px;\n",
              "      padding: 0 0 0 0;\n",
              "      width: 32px;\n",
              "    }\n",
              "\n",
              "    .colab-df-convert:hover {\n",
              "      background-color: #E2EBFA;\n",
              "      box-shadow: 0px 1px 2px rgba(60, 64, 67, 0.3), 0px 1px 3px 1px rgba(60, 64, 67, 0.15);\n",
              "      fill: #174EA6;\n",
              "    }\n",
              "\n",
              "    [theme=dark] .colab-df-convert {\n",
              "      background-color: #3B4455;\n",
              "      fill: #D2E3FC;\n",
              "    }\n",
              "\n",
              "    [theme=dark] .colab-df-convert:hover {\n",
              "      background-color: #434B5C;\n",
              "      box-shadow: 0px 1px 3px 1px rgba(0, 0, 0, 0.15);\n",
              "      filter: drop-shadow(0px 1px 2px rgba(0, 0, 0, 0.3));\n",
              "      fill: #FFFFFF;\n",
              "    }\n",
              "  </style>\n",
              "\n",
              "      <script>\n",
              "        const buttonEl =\n",
              "          document.querySelector('#df-a06ada9b-8e34-47b3-8652-1b686803c3b8 button.colab-df-convert');\n",
              "        buttonEl.style.display =\n",
              "          google.colab.kernel.accessAllowed ? 'block' : 'none';\n",
              "\n",
              "        async function convertToInteractive(key) {\n",
              "          const element = document.querySelector('#df-a06ada9b-8e34-47b3-8652-1b686803c3b8');\n",
              "          const dataTable =\n",
              "            await google.colab.kernel.invokeFunction('convertToInteractive',\n",
              "                                                     [key], {});\n",
              "          if (!dataTable) return;\n",
              "\n",
              "          const docLinkHtml = 'Like what you see? Visit the ' +\n",
              "            '<a target=\"_blank\" href=https://colab.research.google.com/notebooks/data_table.ipynb>data table notebook</a>'\n",
              "            + ' to learn more about interactive tables.';\n",
              "          element.innerHTML = '';\n",
              "          dataTable['output_type'] = 'display_data';\n",
              "          await google.colab.output.renderOutput(dataTable, element);\n",
              "          const docLink = document.createElement('div');\n",
              "          docLink.innerHTML = docLinkHtml;\n",
              "          element.appendChild(docLink);\n",
              "        }\n",
              "      </script>\n",
              "    </div>\n",
              "  </div>\n",
              "  "
            ],
            "text/plain": [
              "                             name  year  ...  brand   class_year\n",
              "0      Tata Nexon 1.5 Revotorq XM  2018  ...   Asia   after_2015\n",
              "1    Hyundai i20 Active SX Diesel  2018  ...   Asia   after_2015\n",
              "2          Toyota Fortuner 4x2 AT  2015  ...   Asia  before_2015\n",
              "3       Hyundai Verna 1.6 VTVT SX  2015  ...   Asia  before_2015\n",
              "4  Volvo XC40 D4 Inscription BSIV  2019  ...   Euro   after_2015\n",
              "\n",
              "[5 rows x 15 columns]"
            ]
          },
          "metadata": {},
          "execution_count": 270
        }
      ],
      "source": [
        "df['max_power'] = df['max_power'].apply(lambda x: float(x.split()[0])) \n",
        "mean_mp = np.mean(df.max_power)\n",
        "\n",
        "train.max_power = train.max_power.fillna('0')\n",
        "train.max_power = train.max_power.apply(lambda x: x.split()[0])\n",
        "train.max_power = train.max_power.replace('bhp', '0')\n",
        "train.max_power = train.max_power.apply(lambda x: float(x))\n",
        "train.max_power = train.max_power.replace(0, mean_mp)\n",
        "train.head()\n"
      ]
    },
    {
      "cell_type": "markdown",
      "metadata": {
        "id": "fp53KB8VuBZL"
      },
      "source": [
        "## Seats"
      ]
    },
    {
      "cell_type": "code",
      "execution_count": null,
      "metadata": {
        "id": "nfQUmD73uCti"
      },
      "outputs": [],
      "source": [
        "train.seats = train.seats.fillna(train.seats.mode())"
      ]
    },
    {
      "cell_type": "markdown",
      "metadata": {
        "id": "BKYybr2uiM6T"
      },
      "source": [
        "## Torque"
      ]
    },
    {
      "cell_type": "code",
      "execution_count": null,
      "metadata": {
        "colab": {
          "base_uri": "https://localhost:8080/",
          "height": 478
        },
        "id": "h2BAEjYZiVGi",
        "outputId": "5d6fa46a-c249-4094-f97b-5ea1a43d86ba"
      },
      "outputs": [
        {
          "output_type": "execute_result",
          "data": {
            "text/html": [
              "\n",
              "  <div id=\"df-b43f6960-bb97-48a2-bc54-5bf09ea8ec0f\">\n",
              "    <div class=\"colab-df-container\">\n",
              "      <div>\n",
              "<style scoped>\n",
              "    .dataframe tbody tr th:only-of-type {\n",
              "        vertical-align: middle;\n",
              "    }\n",
              "\n",
              "    .dataframe tbody tr th {\n",
              "        vertical-align: top;\n",
              "    }\n",
              "\n",
              "    .dataframe thead th {\n",
              "        text-align: right;\n",
              "    }\n",
              "</style>\n",
              "<table border=\"1\" class=\"dataframe\">\n",
              "  <thead>\n",
              "    <tr style=\"text-align: right;\">\n",
              "      <th></th>\n",
              "      <th>name</th>\n",
              "      <th>year</th>\n",
              "      <th>selling_price</th>\n",
              "      <th>km_driven</th>\n",
              "      <th>fuel</th>\n",
              "      <th>seller_type</th>\n",
              "      <th>transmission</th>\n",
              "      <th>owner</th>\n",
              "      <th>mileage</th>\n",
              "      <th>engine</th>\n",
              "      <th>max_power</th>\n",
              "      <th>torque</th>\n",
              "      <th>seats</th>\n",
              "      <th>brand</th>\n",
              "      <th>class_year</th>\n",
              "    </tr>\n",
              "  </thead>\n",
              "  <tbody>\n",
              "    <tr>\n",
              "      <th>0</th>\n",
              "      <td>Tata Nexon 1.5 Revotorq XM</td>\n",
              "      <td>2018</td>\n",
              "      <td>850000</td>\n",
              "      <td>9500</td>\n",
              "      <td>Diesel</td>\n",
              "      <td>Individual</td>\n",
              "      <td>Manual</td>\n",
              "      <td>First Owner</td>\n",
              "      <td>21.50</td>\n",
              "      <td>1497.0</td>\n",
              "      <td>108.50</td>\n",
              "      <td>260Nm@ 1500-2750rpm</td>\n",
              "      <td>5.0</td>\n",
              "      <td>Asia</td>\n",
              "      <td>after_2015</td>\n",
              "    </tr>\n",
              "    <tr>\n",
              "      <th>1</th>\n",
              "      <td>Hyundai i20 Active SX Diesel</td>\n",
              "      <td>2018</td>\n",
              "      <td>750000</td>\n",
              "      <td>30000</td>\n",
              "      <td>Diesel</td>\n",
              "      <td>Individual</td>\n",
              "      <td>Manual</td>\n",
              "      <td>First Owner</td>\n",
              "      <td>21.19</td>\n",
              "      <td>1396.0</td>\n",
              "      <td>88.76</td>\n",
              "      <td>219.66nm@ 1500-2750rpm</td>\n",
              "      <td>5.0</td>\n",
              "      <td>Asia</td>\n",
              "      <td>after_2015</td>\n",
              "    </tr>\n",
              "    <tr>\n",
              "      <th>2</th>\n",
              "      <td>Toyota Fortuner 4x2 AT</td>\n",
              "      <td>2015</td>\n",
              "      <td>1500000</td>\n",
              "      <td>80000</td>\n",
              "      <td>Diesel</td>\n",
              "      <td>Individual</td>\n",
              "      <td>Automatic</td>\n",
              "      <td>Second &amp; Others</td>\n",
              "      <td>12.55</td>\n",
              "      <td>2982.0</td>\n",
              "      <td>168.50</td>\n",
              "      <td>360Nm@ 1400-3200rpm</td>\n",
              "      <td>7.0</td>\n",
              "      <td>Asia</td>\n",
              "      <td>before_2015</td>\n",
              "    </tr>\n",
              "    <tr>\n",
              "      <th>3</th>\n",
              "      <td>Hyundai Verna 1.6 VTVT SX</td>\n",
              "      <td>2015</td>\n",
              "      <td>795000</td>\n",
              "      <td>35000</td>\n",
              "      <td>Petrol</td>\n",
              "      <td>Individual</td>\n",
              "      <td>Manual</td>\n",
              "      <td>First Owner</td>\n",
              "      <td>17.01</td>\n",
              "      <td>1591.0</td>\n",
              "      <td>121.30</td>\n",
              "      <td>154.9Nm@ 4200rpm</td>\n",
              "      <td>5.0</td>\n",
              "      <td>Asia</td>\n",
              "      <td>before_2015</td>\n",
              "    </tr>\n",
              "    <tr>\n",
              "      <th>4</th>\n",
              "      <td>Volvo XC40 D4 Inscription BSIV</td>\n",
              "      <td>2019</td>\n",
              "      <td>3800000</td>\n",
              "      <td>20000</td>\n",
              "      <td>Diesel</td>\n",
              "      <td>Individual</td>\n",
              "      <td>Automatic</td>\n",
              "      <td>First Owner</td>\n",
              "      <td>18.00</td>\n",
              "      <td>1969.0</td>\n",
              "      <td>190.00</td>\n",
              "      <td>400Nm</td>\n",
              "      <td>5.0</td>\n",
              "      <td>Euro</td>\n",
              "      <td>after_2015</td>\n",
              "    </tr>\n",
              "  </tbody>\n",
              "</table>\n",
              "</div>\n",
              "      <button class=\"colab-df-convert\" onclick=\"convertToInteractive('df-b43f6960-bb97-48a2-bc54-5bf09ea8ec0f')\"\n",
              "              title=\"Convert this dataframe to an interactive table.\"\n",
              "              style=\"display:none;\">\n",
              "        \n",
              "  <svg xmlns=\"http://www.w3.org/2000/svg\" height=\"24px\"viewBox=\"0 0 24 24\"\n",
              "       width=\"24px\">\n",
              "    <path d=\"M0 0h24v24H0V0z\" fill=\"none\"/>\n",
              "    <path d=\"M18.56 5.44l.94 2.06.94-2.06 2.06-.94-2.06-.94-.94-2.06-.94 2.06-2.06.94zm-11 1L8.5 8.5l.94-2.06 2.06-.94-2.06-.94L8.5 2.5l-.94 2.06-2.06.94zm10 10l.94 2.06.94-2.06 2.06-.94-2.06-.94-.94-2.06-.94 2.06-2.06.94z\"/><path d=\"M17.41 7.96l-1.37-1.37c-.4-.4-.92-.59-1.43-.59-.52 0-1.04.2-1.43.59L10.3 9.45l-7.72 7.72c-.78.78-.78 2.05 0 2.83L4 21.41c.39.39.9.59 1.41.59.51 0 1.02-.2 1.41-.59l7.78-7.78 2.81-2.81c.8-.78.8-2.07 0-2.86zM5.41 20L4 18.59l7.72-7.72 1.47 1.35L5.41 20z\"/>\n",
              "  </svg>\n",
              "      </button>\n",
              "      \n",
              "  <style>\n",
              "    .colab-df-container {\n",
              "      display:flex;\n",
              "      flex-wrap:wrap;\n",
              "      gap: 12px;\n",
              "    }\n",
              "\n",
              "    .colab-df-convert {\n",
              "      background-color: #E8F0FE;\n",
              "      border: none;\n",
              "      border-radius: 50%;\n",
              "      cursor: pointer;\n",
              "      display: none;\n",
              "      fill: #1967D2;\n",
              "      height: 32px;\n",
              "      padding: 0 0 0 0;\n",
              "      width: 32px;\n",
              "    }\n",
              "\n",
              "    .colab-df-convert:hover {\n",
              "      background-color: #E2EBFA;\n",
              "      box-shadow: 0px 1px 2px rgba(60, 64, 67, 0.3), 0px 1px 3px 1px rgba(60, 64, 67, 0.15);\n",
              "      fill: #174EA6;\n",
              "    }\n",
              "\n",
              "    [theme=dark] .colab-df-convert {\n",
              "      background-color: #3B4455;\n",
              "      fill: #D2E3FC;\n",
              "    }\n",
              "\n",
              "    [theme=dark] .colab-df-convert:hover {\n",
              "      background-color: #434B5C;\n",
              "      box-shadow: 0px 1px 3px 1px rgba(0, 0, 0, 0.15);\n",
              "      filter: drop-shadow(0px 1px 2px rgba(0, 0, 0, 0.3));\n",
              "      fill: #FFFFFF;\n",
              "    }\n",
              "  </style>\n",
              "\n",
              "      <script>\n",
              "        const buttonEl =\n",
              "          document.querySelector('#df-b43f6960-bb97-48a2-bc54-5bf09ea8ec0f button.colab-df-convert');\n",
              "        buttonEl.style.display =\n",
              "          google.colab.kernel.accessAllowed ? 'block' : 'none';\n",
              "\n",
              "        async function convertToInteractive(key) {\n",
              "          const element = document.querySelector('#df-b43f6960-bb97-48a2-bc54-5bf09ea8ec0f');\n",
              "          const dataTable =\n",
              "            await google.colab.kernel.invokeFunction('convertToInteractive',\n",
              "                                                     [key], {});\n",
              "          if (!dataTable) return;\n",
              "\n",
              "          const docLinkHtml = 'Like what you see? Visit the ' +\n",
              "            '<a target=\"_blank\" href=https://colab.research.google.com/notebooks/data_table.ipynb>data table notebook</a>'\n",
              "            + ' to learn more about interactive tables.';\n",
              "          element.innerHTML = '';\n",
              "          dataTable['output_type'] = 'display_data';\n",
              "          await google.colab.output.renderOutput(dataTable, element);\n",
              "          const docLink = document.createElement('div');\n",
              "          docLink.innerHTML = docLinkHtml;\n",
              "          element.appendChild(docLink);\n",
              "        }\n",
              "      </script>\n",
              "    </div>\n",
              "  </div>\n",
              "  "
            ],
            "text/plain": [
              "                             name  year  ...  brand   class_year\n",
              "0      Tata Nexon 1.5 Revotorq XM  2018  ...   Asia   after_2015\n",
              "1    Hyundai i20 Active SX Diesel  2018  ...   Asia   after_2015\n",
              "2          Toyota Fortuner 4x2 AT  2015  ...   Asia  before_2015\n",
              "3       Hyundai Verna 1.6 VTVT SX  2015  ...   Asia  before_2015\n",
              "4  Volvo XC40 D4 Inscription BSIV  2019  ...   Euro   after_2015\n",
              "\n",
              "[5 rows x 15 columns]"
            ]
          },
          "metadata": {},
          "execution_count": 272
        }
      ],
      "source": [
        "train.head()"
      ]
    },
    {
      "cell_type": "code",
      "execution_count": null,
      "metadata": {
        "colab": {
          "base_uri": "https://localhost:8080/"
        },
        "id": "o3kHDaQYiPck",
        "outputId": "1c6c7602-b7e8-4cda-c85f-89573d3d7c46"
      },
      "outputs": [
        {
          "output_type": "execute_result",
          "data": {
            "text/plain": [
              "0         260\n",
              "1       219.7\n",
              "2         360\n",
              "3       154.9\n",
              "4         400\n",
              "        ...  \n",
              "5995       90\n",
              "5996       77\n",
              "5997      114\n",
              "5998      180\n",
              "5999      200\n",
              "Name: torque, Length: 6000, dtype: object"
            ]
          },
          "metadata": {},
          "execution_count": 273
        }
      ],
      "source": [
        "import re\n",
        "\n",
        "def torque_processing(torque):\n",
        "#     fix here if error\n",
        "    if type(torque) == int and torque == 0:\n",
        "        return 0,0\n",
        "#     -----------\n",
        "    element = torque.split()\n",
        "    power = []\n",
        "    for e in element:\n",
        "        tor = re.findall(\"(?:\\d+(?:\\.\\d*)?|\\.\\d+)(?:[eE][+-]?\\d+)?\", e)\n",
        "        power.append(tor)\n",
        "    power = [tor for tor in power if tor]\n",
        "    if 'kgm@' in torque:\n",
        "        # 1kgm@ = 10nm\n",
        "        power[0] = round(float(power[0][0]) * 10, 1)\n",
        "    else:\n",
        "        power[0] = round(float(power[0][0]), 1)\n",
        "    if len(power) == 2:\n",
        "        if len(power[1]) == 2:\n",
        "            power[1] = round(np.mean([float(i) for i in power[1]]), 1)\n",
        "        else:\n",
        "            power[1] = round(float(power[1][0]), 1)\n",
        "    if len(power) == 1:\n",
        "        power.append(0)\n",
        "    if power[1] < 1000:\n",
        "    # print('SMALLER THAN 1000',power[1])\n",
        "        power[1] = round(power[1] * 1000, 1)\n",
        "    return power[0], power[1]\n",
        "\n",
        "train.torque = train.torque.fillna('0')\n",
        "\n",
        "train['torque'] = train['torque'].str.replace(',','.')\n",
        "for i in range(train.shape[0]):\n",
        "    torque, rpm = torque_processing(train['torque'].iloc[i])\n",
        "    train.at[i, 'torque'] = torque\n",
        "    train.at[i, 'rpm'] = rpm\n",
        "    \n",
        "train.torque"
      ]
    },
    {
      "cell_type": "code",
      "execution_count": null,
      "metadata": {
        "id": "7ig5JY4--rke"
      },
      "outputs": [],
      "source": [
        "train.torque = train.torque.apply(lambda x: float(x))"
      ]
    },
    {
      "cell_type": "code",
      "execution_count": null,
      "metadata": {
        "id": "4br2gszRAhGy"
      },
      "outputs": [],
      "source": [
        "df = train.copy()\n",
        "mean_torque = df[df.torque!=0].torque.mean()\n",
        "train.torque = train.torque.replace(0, mean_torque)"
      ]
    },
    {
      "cell_type": "code",
      "execution_count": null,
      "metadata": {
        "colab": {
          "base_uri": "https://localhost:8080/"
        },
        "id": "TLI0UIVi-keh",
        "outputId": "6f72c80a-3771-4093-c38f-a575fac3d1b7"
      },
      "outputs": [
        {
          "output_type": "stream",
          "name": "stdout",
          "text": [
            "<class 'pandas.core.frame.DataFrame'>\n",
            "RangeIndex: 6000 entries, 0 to 5999\n",
            "Data columns (total 15 columns):\n",
            " #   Column         Non-Null Count  Dtype  \n",
            "---  ------         --------------  -----  \n",
            " 0   name           6000 non-null   object \n",
            " 1   year           6000 non-null   int64  \n",
            " 2   selling_price  6000 non-null   int64  \n",
            " 3   km_driven      6000 non-null   int64  \n",
            " 4   fuel           6000 non-null   object \n",
            " 5   seller_type    6000 non-null   object \n",
            " 6   transmission   6000 non-null   object \n",
            " 7   owner          6000 non-null   object \n",
            " 8   mileage        6000 non-null   float64\n",
            " 9   engine         6000 non-null   float64\n",
            " 10  max_power      6000 non-null   float64\n",
            " 11  torque         6000 non-null   float64\n",
            " 12  seats          5841 non-null   float64\n",
            " 13  brand          6000 non-null   object \n",
            " 14  class_year     6000 non-null   object \n",
            "dtypes: float64(5), int64(3), object(7)\n",
            "memory usage: 703.2+ KB\n"
          ]
        }
      ],
      "source": [
        "train.drop(columns='rpm', inplace=True)\n",
        "train.info()"
      ]
    },
    {
      "cell_type": "markdown",
      "metadata": {
        "id": "3OknasSxh5ej"
      },
      "source": [
        "## Final Dataset\n"
      ]
    },
    {
      "cell_type": "code",
      "source": [
        "yprop = 'selling_price'\n",
        "xprop = 'engine'\n",
        "h= 'transmission'\n",
        "px.scatter(train, x=xprop, y=yprop, color=h, marginal_y=\"violin\", marginal_x=\"box\", trendline=\"ols\", template=\"simple_white\")\n"
      ],
      "metadata": {
        "colab": {
          "base_uri": "https://localhost:8080/",
          "height": 542
        },
        "id": "9RGybO1w0da4",
        "outputId": "017349b3-2f09-41f5-e593-0102895acdb7"
      },
      "execution_count": null,
      "outputs": [
        {
          "output_type": "display_data",
          "data": {
            "text/html": [
              "<html>\n",
              "<head><meta charset=\"utf-8\" /></head>\n",
              "<body>\n",
              "    <div>\n",
              "            <script src=\"https://cdnjs.cloudflare.com/ajax/libs/mathjax/2.7.5/MathJax.js?config=TeX-AMS-MML_SVG\"></script><script type=\"text/javascript\">if (window.MathJax) {MathJax.Hub.Config({SVG: {font: \"STIX-Web\"}});}</script>\n",
              "                <script type=\"text/javascript\">window.PlotlyConfig = {MathJaxConfig: 'local'};</script>\n",
              "        <script src=\"https://cdn.plot.ly/plotly-latest.min.js\"></script>    \n",
              "            <div id=\"5851f7de-7ef5-4128-8788-2b3c8454818b\" class=\"plotly-graph-div\" style=\"height:525px; width:100%;\"></div>\n",
              "            <script type=\"text/javascript\">\n",
              "                \n",
              "                    window.PLOTLYENV=window.PLOTLYENV || {};\n",
              "                    \n",
              "                if (document.getElementById(\"5851f7de-7ef5-4128-8788-2b3c8454818b\")) {\n",
              "                    Plotly.newPlot(\n",
              "                        '5851f7de-7ef5-4128-8788-2b3c8454818b',\n",
              "                        [{\"hoverlabel\": {\"namelength\": 0}, \"hovertemplate\": \"transmission=Manual<br>engine=%{x}<br>selling_price=%{y}\", \"legendgroup\": \"transmission=Manual\", \"marker\": {\"color\": \"#1F77B4\", \"symbol\": \"circle\"}, \"mode\": \"markers\", \"name\": \"transmission=Manual\", \"showlegend\": true, \"type\": \"scattergl\", \"x\": [1497.0, 1396.0, 1591.0, 1248.0, 1197.0, 814.0, 1461.0, 1197.0, 1199.0, 1248.0, 1197.0, 1464.471404109589, 1498.0, 1197.0, 814.0, 1248.0, 1493.0, 1248.0, 1150.0, 1248.0, 1248.0, 1193.0, 1373.0, 1199.0, 2179.0, 2179.0, 2523.0, 1248.0, 1598.0, 2523.0, 1496.0, 1197.0, 1248.0, 1498.0, 1399.0, 2609.0, 936.0, 1341.0, 2179.0, 1591.0, 1461.0, 1298.0, 1197.0, 1248.0, 1461.0, 2489.0, 1498.0, 2523.0, 1498.0, 1248.0, 998.0, 1582.0, 2523.0, 2179.0, 2499.0, 1248.0, 1586.0, 1396.0, 1396.0, 1047.0, 998.0, 998.0, 2494.0, 1197.0, 1341.0, 799.0, 1461.0, 1497.0, 1896.0, 2982.0, 1498.0, 796.0, 796.0, 1493.0, 1248.0, 998.0, 1248.0, 1956.0, 1493.0, 1248.0, 1197.0, 2523.0, 2494.0, 2179.0, 796.0, 1596.0, 796.0, 1798.0, 2179.0, 1464.471404109589, 796.0, 814.0, 1248.0, 1399.0, 1464.471404109589, 998.0, 1497.0, 1197.0, 1248.0, 1396.0, 2494.0, 1582.0, 1197.0, 1248.0, 796.0, 1498.0, 796.0, 624.0, 1199.0, 1497.0, 1248.0, 1498.0, 2523.0, 1193.0, 1248.0, 2499.0, 1493.0, 1198.0, 1198.0, 909.0, 1464.471404109589, 796.0, 1248.0, 1197.0, 1198.0, 2494.0, 1086.0, 1464.471404109589, 1248.0, 1197.0, 814.0, 1994.0, 1199.0, 1399.0, 2499.0, 796.0, 1396.0, 1248.0, 1497.0, 1193.0, 1373.0, 814.0, 796.0, 1248.0, 796.0, 2956.0, 1061.0, 2498.0, 2494.0, 1196.0, 796.0, 799.0, 1248.0, 2523.0, 814.0, 1498.0, 1193.0, 1498.0, 796.0, 1493.0, 1498.0, 1248.0, 1198.0, 1086.0, 1461.0, 624.0, 1399.0, 1248.0, 799.0, 1248.0, 999.0, 1405.0, 1197.0, 1197.0, 1248.0, 799.0, 1364.0, 796.0, 1598.0, 1497.0, 999.0, 998.0, 1197.0, 1496.0, 998.0, 1197.0, 1591.0, 1248.0, 1197.0, 1248.0, 1794.0, 1198.0, 1396.0, 1248.0, 1388.0, 1086.0, 1464.471404109589, 1193.0, 1396.0, 1248.0, 1405.0, 1248.0, 2494.0, 1498.0, 1186.0, 1464.471404109589, 1248.0, 1498.0, 796.0, 1461.0, 796.0, 1493.0, 1497.0, 1248.0, 1061.0, 1396.0, 1248.0, 1396.0, 799.0, 2494.0, 1995.0, 1388.0, 1198.0, 998.0, 1464.471404109589, 1199.0, 814.0, 624.0, 1197.0, 1197.0, 1298.0, 2494.0, 998.0, 1464.471404109589, 1199.0, 1997.0, 1198.0, 1498.0, 1396.0, 1248.0, 1464.471404109589, 998.0, 1396.0, 1368.0, 1461.0, 998.0, 1120.0, 1248.0, 796.0, 1248.0, 1399.0, 2523.0, 1498.0, 998.0, 796.0, 1248.0, 2393.0, 1248.0, 1197.0, 1248.0, 2523.0, 1197.0, 1199.0, 1086.0, 1248.0, 2523.0, 1197.0, 796.0, 1248.0, 814.0, 1956.0, 796.0, 1061.0, 1396.0, 2179.0, 2179.0, 2523.0, 2523.0, 796.0, 1199.0, 814.0, 1248.0, 1597.0, 1197.0, 2179.0, 1248.0, 1464.471404109589, 1197.0, 1198.0, 1199.0, 1248.0, 1061.0, 799.0, 1248.0, 2523.0, 998.0, 2499.0, 1405.0, 1248.0, 2494.0, 1498.0, 1248.0, 1197.0, 1197.0, 1061.0, 1086.0, 1396.0, 1373.0, 1582.0, 1248.0, 1498.0, 998.0, 1197.0, 1464.471404109589, 2523.0, 1461.0, 1364.0, 993.0, 814.0, 1396.0, 1248.0, 796.0, 1461.0, 1248.0, 1248.0, 1364.0, 1248.0, 1198.0, 1498.0, 814.0, 1086.0, 1120.0, 1405.0, 1197.0, 1399.0, 993.0, 2179.0, 1197.0, 1498.0, 1498.0, 1248.0, 2494.0, 1248.0, 2499.0, 1396.0, 1464.471404109589, 1396.0, 1498.0, 796.0, 1991.0, 1248.0, 1197.0, 1086.0, 1364.0, 1388.0, 1197.0, 1496.0, 1991.0, 2231.0, 998.0, 1086.0, 1493.0, 1199.0, 1197.0, 998.0, 1248.0, 993.0, 2179.0, 1199.0, 2494.0, 1248.0, 796.0, 1198.0, 1461.0, 1498.0, 796.0, 2494.0, 1199.0, 1582.0, 1086.0, 796.0, 2499.0, 998.0, 1198.0, 1496.0, 998.0, 1598.0, 1497.0, 1396.0, 1196.0, 995.0, 1197.0, 796.0, 995.0, 1497.0, 2179.0, 1196.0, 1186.0, 1248.0, 1248.0, 1047.0, 998.0, 1498.0, 2489.0, 1396.0, 2179.0, 998.0, 1498.0, 1396.0, 993.0, 1198.0, 1896.0, 1248.0, 1199.0, 1197.0, 2956.0, 1498.0, 1495.0, 1197.0, 1197.0, 1120.0, 1497.0, 1150.0, 1399.0, 2393.0, 1197.0, 1405.0, 624.0, 1197.0, 1498.0, 2609.0, 1582.0, 1498.0, 1493.0, 1497.0, 1186.0, 1248.0, 2494.0, 796.0, 814.0, 1598.0, 1498.0, 1197.0, 814.0, 799.0, 814.0, 1298.0, 796.0, 2523.0, 998.0, 796.0, 1248.0, 1086.0, 796.0, 2489.0, 1248.0, 796.0, 1582.0, 1461.0, 796.0, 1582.0, 796.0, 1248.0, 1248.0, 1198.0, 1248.0, 1493.0, 1248.0, 998.0, 1248.0, 1198.0, 1493.0, 1248.0, 2494.0, 1399.0, 1248.0, 1248.0, 1464.471404109589, 1461.0, 2179.0, 1493.0, 1498.0, 998.0, 999.0, 1197.0, 2499.0, 998.0, 998.0, 1464.471404109589, 1186.0, 1248.0, 1198.0, 1197.0, 1582.0, 1086.0, 2393.0, 1199.0, 1498.0, 1197.0, 998.0, 1248.0, 1198.0, 1197.0, 1582.0, 1498.0, 1493.0, 1248.0, 1193.0, 1198.0, 796.0, 1948.0, 1248.0, 1496.0, 1197.0, 1493.0, 1248.0, 1198.0, 2523.0, 1461.0, 1498.0, 1396.0, 1396.0, 1196.0, 1197.0, 1464.471404109589, 1248.0, 1461.0, 1399.0, 936.0, 1248.0, 1461.0, 998.0, 1248.0, 2179.0, 799.0, 814.0, 1198.0, 1464.471404109589, 1248.0, 1248.0, 796.0, 2498.0, 1186.0, 2354.0, 2179.0, 2498.0, 2494.0, 1498.0, 1582.0, 1498.0, 998.0, 1405.0, 1498.0, 2179.0, 1198.0, 796.0, 1248.0, 1197.0, 1464.471404109589, 1464.471404109589, 1991.0, 2523.0, 1399.0, 1248.0, 2179.0, 1462.0, 1497.0, 1086.0, 796.0, 998.0, 1498.0, 1248.0, 2179.0, 1461.0, 1493.0, 998.0, 999.0, 1197.0, 1582.0, 1461.0, 1248.0, 1396.0, 1493.0, 1248.0, 998.0, 1248.0, 1248.0, 2494.0, 1248.0, 1956.0, 1405.0, 1248.0, 1248.0, 1248.0, 1396.0, 1498.0, 1461.0, 1498.0, 1399.0, 1582.0, 1461.0, 796.0, 1461.0, 1399.0, 796.0, 1248.0, 1497.0, 1086.0, 1198.0, 2498.0, 1197.0, 1248.0, 1198.0, 1248.0, 1197.0, 799.0, 1248.0, 799.0, 999.0, 1497.0, 1496.0, 2499.0, 796.0, 1461.0, 1248.0, 998.0, 2494.0, 2499.0, 2179.0, 1493.0, 1197.0, 2494.0, 1196.0, 1461.0, 1197.0, 2494.0, 814.0, 1248.0, 1396.0, 1591.0, 998.0, 1493.0, 1498.0, 1597.0, 1461.0, 1248.0, 998.0, 1598.0, 999.0, 796.0, 1399.0, 1498.0, 1086.0, 1248.0, 1248.0, 998.0, 1582.0, 1197.0, 1248.0, 796.0, 2179.0, 1498.0, 1364.0, 1248.0, 1248.0, 2179.0, 1248.0, 1396.0, 1599.0, 999.0, 1248.0, 1196.0, 814.0, 1997.0, 1498.0, 2179.0, 1248.0, 1248.0, 1248.0, 796.0, 2179.0, 1399.0, 1120.0, 1396.0, 1498.0, 1498.0, 1405.0, 1120.0, 1248.0, 1598.0, 1956.0, 1248.0, 1582.0, 1248.0, 1199.0, 1498.0, 1498.0, 998.0, 1396.0, 936.0, 995.0, 1396.0, 1368.0, 1197.0, 1493.0, 998.0, 1299.0, 1599.0, 1461.0, 2179.0, 1405.0, 1396.0, 1493.0, 2359.0, 2982.0, 1464.471404109589, 998.0, 1461.0, 1464.471404109589, 1197.0, 1086.0, 796.0, 1186.0, 1086.0, 1498.0, 2179.0, 1248.0, 1248.0, 1248.0, 2179.0, 1461.0, 1598.0, 998.0, 2179.0, 998.0, 1248.0, 1248.0, 1461.0, 1497.0, 2523.0, 1199.0, 796.0, 1493.0, 1399.0, 1396.0, 1461.0, 998.0, 2755.0, 2523.0, 2179.0, 796.0, 1248.0, 2179.0, 998.0, 1197.0, 1248.0, 1248.0, 1197.0, 2200.0, 1086.0, 998.0, 1197.0, 1497.0, 1582.0, 1582.0, 1199.0, 796.0, 1582.0, 1496.0, 1461.0, 1197.0, 1396.0, 1591.0, 995.0, 2494.0, 1197.0, 1248.0, 1461.0, 1086.0, 1464.471404109589, 1199.0, 1248.0, 1248.0, 1464.471404109589, 2523.0, 1464.471404109589, 1461.0, 1396.0, 796.0, 1193.0, 1248.0, 995.0, 796.0, 999.0, 2179.0, 1464.471404109589, 998.0, 799.0, 1364.0, 998.0, 998.0, 1396.0, 1464.471404109589, 1197.0, 796.0, 1498.0, 1086.0, 1197.0, 1248.0, 1197.0, 1997.0, 2179.0, 1498.0, 814.0, 1248.0, 1248.0, 1396.0, 1120.0, 1497.0, 1396.0, 1396.0, 1248.0, 1498.0, 1373.0, 799.0, 796.0, 2523.0, 2179.0, 1197.0, 1120.0, 2179.0, 1405.0, 1198.0, 1998.0, 1497.0, 1464.471404109589, 1461.0, 1197.0, 1197.0, 2494.0, 2179.0, 1197.0, 1197.0, 1197.0, 1997.0, 1461.0, 1086.0, 1199.0, 1405.0, 998.0, 1464.471404109589, 1248.0, 1461.0, 1497.0, 1248.0, 1396.0, 1399.0, 1582.0, 796.0, 1199.0, 936.0, 998.0, 998.0, 1199.0, 2523.0, 1405.0, 1197.0, 1464.471404109589, 1464.471404109589, 995.0, 993.0, 1396.0, 1196.0, 1199.0, 1399.0, 1248.0, 1493.0, 1598.0, 1248.0, 1399.0, 796.0, 2523.0, 1194.0, 2362.0, 1598.0, 2179.0, 1364.0, 1047.0, 1498.0, 1120.0, 1596.0, 799.0, 2354.0, 1998.0, 1186.0, 1197.0, 2179.0, 1797.0, 1497.0, 796.0, 1196.0, 1197.0, 1422.0, 1198.0, 796.0, 1598.0, 998.0, 1248.0, 998.0, 2523.0, 995.0, 1086.0, 1120.0, 998.0, 796.0, 998.0, 1493.0, 1997.0, 1197.0, 2179.0, 1399.0, 1248.0, 1197.0, 1248.0, 2523.0, 1498.0, 1596.0, 1497.0, 2494.0, 1396.0, 1199.0, 2755.0, 1405.0, 1405.0, 799.0, 1582.0, 1197.0, 1198.0, 1061.0, 1248.0, 1461.0, 2498.0, 1197.0, 796.0, 1197.0, 1498.0, 1948.0, 1061.0, 793.0, 1248.0, 1405.0, 2982.0, 1186.0, 998.0, 2179.0, 1997.0, 796.0, 1197.0, 1197.0, 1248.0, 998.0, 1498.0, 796.0, 2179.0, 796.0, 1248.0, 2609.0, 1248.0, 796.0, 998.0, 1248.0, 1248.0, 1248.0, 998.0, 1197.0, 1248.0, 2523.0, 1248.0, 1198.0, 799.0, 1197.0, 1586.0, 1582.0, 1197.0, 2179.0, 2393.0, 2523.0, 1582.0, 1364.0, 796.0, 796.0, 796.0, 2494.0, 1464.471404109589, 1493.0, 2498.0, 1497.0, 1248.0, 1956.0, 1598.0, 796.0, 814.0, 2477.0, 796.0, 1396.0, 799.0, 1396.0, 1399.0, 1197.0, 1364.0, 1598.0, 1248.0, 1248.0, 2179.0, 1248.0, 1248.0, 814.0, 1248.0, 1197.0, 2092.0, 796.0, 799.0, 1498.0, 796.0, 1396.0, 1896.0, 2179.0, 1498.0, 1497.0, 1299.0, 1248.0, 1498.0, 796.0, 1248.0, 1464.471404109589, 1248.0, 1047.0, 2494.0, 1498.0, 1248.0, 1527.0, 1150.0, 999.0, 1464.471404109589, 1461.0, 2179.0, 1498.0, 1582.0, 1197.0, 1248.0, 1582.0, 2523.0, 2179.0, 1499.0, 2494.0, 1399.0, 1991.0, 1498.0, 998.0, 796.0, 2179.0, 1396.0, 1198.0, 2179.0, 796.0, 1464.471404109589, 1197.0, 998.0, 796.0, 1373.0, 999.0, 998.0, 1396.0, 2179.0, 1396.0, 1197.0, 1991.0, 1396.0, 1948.0, 1582.0, 1399.0, 1196.0, 2494.0, 1498.0, 1193.0, 1396.0, 1399.0, 1248.0, 1248.0, 1248.0, 1086.0, 1998.0, 624.0, 1172.0, 1197.0, 1461.0, 1948.0, 2179.0, 1197.0, 1193.0, 1198.0, 2494.0, 1497.0, 1248.0, 1598.0, 1498.0, 1197.0, 1799.0, 1248.0, 1396.0, 998.0, 1186.0, 1248.0, 2523.0, 1197.0, 1399.0, 1172.0, 999.0, 998.0, 995.0, 796.0, 1199.0, 1194.0, 1496.0, 1373.0, 2956.0, 1591.0, 1399.0, 1464.471404109589, 2494.0, 796.0, 814.0, 1373.0, 1197.0, 1498.0, 1464.471404109589, 1399.0, 1198.0, 1396.0, 1464.471404109589, 1498.0, 1197.0, 1248.0, 2179.0, 1150.0, 1194.0, 1194.0, 2523.0, 1399.0, 1199.0, 1498.0, 1405.0, 1799.0, 1599.0, 1496.0, 1248.0, 998.0, 1405.0, 799.0, 995.0, 2179.0, 1399.0, 2494.0, 1464.471404109589, 1396.0, 796.0, 998.0, 998.0, 2523.0, 1248.0, 2179.0, 1199.0, 1464.471404109589, 1196.0, 1248.0, 796.0, 1591.0, 1248.0, 1493.0, 2523.0, 1248.0, 1198.0, 2523.0, 1364.0, 2982.0, 995.0, 1248.0, 2498.0, 796.0, 1196.0, 2523.0, 2835.0, 1248.0, 1794.0, 2179.0, 1248.0, 796.0, 2179.0, 1497.0, 1186.0, 1498.0, 1498.0, 796.0, 799.0, 1197.0, 799.0, 1498.0, 1199.0, 1248.0, 1493.0, 2499.0, 1198.0, 1197.0, 1186.0, 1196.0, 799.0, 1493.0, 1086.0, 1197.0, 2498.0, 2179.0, 1197.0, 1399.0, 1248.0, 1197.0, 1461.0, 1497.0, 1248.0, 1199.0, 2494.0, 1197.0, 1498.0, 1248.0, 1464.471404109589, 1461.0, 995.0, 2179.0, 1120.0, 1199.0, 1197.0, 1248.0, 1248.0, 796.0, 1197.0, 1248.0, 796.0, 1248.0, 1461.0, 1396.0, 2523.0, 1405.0, 1498.0, 2489.0, 1086.0, 1396.0, 1496.0, 1461.0, 2179.0, 2179.0, 1248.0, 1086.0, 1120.0, 1373.0, 1061.0, 1197.0, 1599.0, 1197.0, 1991.0, 1396.0, 1464.471404109589, 1248.0, 1498.0, 1399.0, 1498.0, 2523.0, 999.0, 1193.0, 998.0, 1248.0, 1248.0, 1197.0, 1197.0, 2179.0, 1399.0, 1196.0, 1248.0, 1197.0, 1248.0, 2179.0, 2179.0, 1582.0, 1248.0, 796.0, 2179.0, 1498.0, 796.0, 998.0, 1248.0, 1248.0, 1248.0, 1582.0, 799.0, 1120.0, 1498.0, 2523.0, 1197.0, 1498.0, 2523.0, 796.0, 1248.0, 1248.0, 796.0, 1248.0, 1198.0, 1493.0, 1248.0, 998.0, 1196.0, 999.0, 1461.0, 1197.0, 1248.0, 1598.0, 1396.0, 1461.0, 1498.0, 1120.0, 2523.0, 1197.0, 2523.0, 2393.0, 1248.0, 1498.0, 1464.471404109589, 1248.0, 1582.0, 1461.0, 998.0, 998.0, 1186.0, 1582.0, 2179.0, 998.0, 1248.0, 2523.0, 1120.0, 1461.0, 1197.0, 814.0, 999.0, 1199.0, 1199.0, 1248.0, 1248.0, 1248.0, 1061.0, 1197.0, 1197.0, 2956.0, 1248.0, 2494.0, 1498.0, 1172.0, 1498.0, 1493.0, 1198.0, 1582.0, 999.0, 1364.0, 1199.0, 1496.0, 1061.0, 1197.0, 936.0, 2523.0, 2523.0, 1582.0, 2956.0, 1197.0, 1197.0, 1198.0, 1248.0, 1196.0, 1396.0, 2494.0, 2609.0, 998.0, 1196.0, 814.0, 2494.0, 1396.0, 1498.0, 1199.0, 1248.0, 998.0, 1186.0, 814.0, 998.0, 1464.471404109589, 1298.0, 1461.0, 1197.0, 1086.0, 998.0, 1998.0, 2179.0, 1198.0, 1198.0, 2494.0, 1364.0, 814.0, 1496.0, 998.0, 998.0, 1461.0, 1496.0, 1197.0, 998.0, 1120.0, 1197.0, 1248.0, 1197.0, 2179.0, 1298.0, 796.0, 1493.0, 2179.0, 2956.0, 1498.0, 1461.0, 1197.0, 796.0, 936.0, 2499.0, 1586.0, 1498.0, 1493.0, 1461.0, 1198.0, 1248.0, 1197.0, 998.0, 1497.0, 1197.0, 1248.0, 1198.0, 1248.0, 1591.0, 1248.0, 814.0, 1197.0, 796.0, 1405.0, 1461.0, 998.0, 1495.0, 1197.0, 1248.0, 1582.0, 1493.0, 799.0, 1373.0, 1497.0, 1248.0, 1582.0, 1197.0, 2179.0, 995.0, 1496.0, 1197.0, 1461.0, 1373.0, 2179.0, 1495.0, 1248.0, 1498.0, 2494.0, 1396.0, 1582.0, 1197.0, 1498.0, 814.0, 2179.0, 998.0, 1248.0, 2523.0, 796.0, 1496.0, 796.0, 1248.0, 1086.0, 814.0, 1364.0, 1086.0, 796.0, 796.0, 1498.0, 1197.0, 998.0, 1248.0, 1798.0, 1193.0, 1197.0, 2982.0, 998.0, 2179.0, 1464.471404109589, 998.0, 1396.0, 1248.0, 1496.0, 1582.0, 1199.0, 2494.0, 1248.0, 1248.0, 1248.0, 1496.0, 2494.0, 1586.0, 814.0, 1199.0, 1399.0, 1248.0, 1197.0, 1493.0, 1998.0, 1399.0, 2523.0, 1599.0, 814.0, 1298.0, 1582.0, 1248.0, 1461.0, 814.0, 1197.0, 1396.0, 796.0, 1086.0, 796.0, 1248.0, 999.0, 1399.0, 1464.471404109589, 1199.0, 1197.0, 993.0, 998.0, 1497.0, 1248.0, 1199.0, 2494.0, 1496.0, 1199.0, 1086.0, 1498.0, 1197.0, 1197.0, 2523.0, 1396.0, 1197.0, 2179.0, 1461.0, 998.0, 624.0, 1196.0, 2179.0, 1498.0, 1582.0, 2179.0, 1497.0, 1120.0, 1464.471404109589, 1199.0, 1493.0, 1498.0, 1186.0, 2179.0, 1197.0, 1248.0, 936.0, 796.0, 1405.0, 1396.0, 1248.0, 1248.0, 1248.0, 1197.0, 1464.471404109589, 1197.0, 2179.0, 1991.0, 1197.0, 796.0, 1120.0, 2494.0, 998.0, 1248.0, 998.0, 796.0, 1498.0, 998.0, 1498.0, 999.0, 1405.0, 1248.0, 2498.0, 1582.0, 2179.0, 1461.0, 1120.0, 998.0, 2494.0, 1248.0, 1582.0, 999.0, 2179.0, 998.0, 796.0, 796.0, 1493.0, 796.0, 1956.0, 2179.0, 814.0, 1396.0, 1197.0, 1248.0, 2498.0, 1464.471404109589, 1197.0, 998.0, 796.0, 1193.0, 1248.0, 1498.0, 814.0, 1497.0, 2523.0, 2179.0, 998.0, 1197.0, 799.0, 1496.0, 1464.471404109589, 998.0, 1493.0, 1186.0, 1061.0, 1197.0, 1498.0, 998.0, 796.0, 998.0, 1197.0, 1598.0, 1498.0, 1197.0, 1197.0, 1248.0, 1196.0, 2179.0, 1197.0, 2179.0, 1197.0, 799.0, 1198.0, 1248.0, 1196.0, 1582.0, 1464.471404109589, 1498.0, 1248.0, 796.0, 1248.0, 1197.0, 1493.0, 796.0, 1248.0, 1197.0, 2179.0, 1197.0, 2197.0, 2446.0, 1461.0, 2179.0, 995.0, 1197.0, 1498.0, 2494.0, 1197.0, 1196.0, 1198.0, 1582.0, 1248.0, 1248.0, 1199.0, 998.0, 1498.0, 1199.0, 1396.0, 2523.0, 1396.0, 1461.0, 1399.0, 1248.0, 998.0, 2179.0, 1493.0, 796.0, 1061.0, 1464.471404109589, 2179.0, 2494.0, 2494.0, 1399.0, 796.0, 1405.0, 1198.0, 1061.0, 814.0, 1461.0, 2179.0, 1197.0, 1405.0, 1498.0, 1248.0, 1405.0, 1497.0, 1248.0, 1464.471404109589, 1194.0, 1997.0, 1196.0, 1197.0, 796.0, 1196.0, 1248.0, 1248.0, 1248.0, 1193.0, 1497.0, 1498.0, 1248.0, 1197.0, 1186.0, 624.0, 2494.0, 1197.0, 1248.0, 1498.0, 796.0, 1198.0, 1086.0, 1405.0, 1197.0, 1248.0, 1248.0, 2523.0, 998.0, 1086.0, 1248.0, 1461.0, 2494.0, 1199.0, 2523.0, 1373.0, 2523.0, 2494.0, 1399.0, 796.0, 1198.0, 1464.471404109589, 1248.0, 796.0, 1198.0, 1497.0, 1399.0, 1199.0, 1497.0, 999.0, 2956.0, 998.0, 1086.0, 796.0, 1198.0, 1197.0, 998.0, 1298.0, 1172.0, 814.0, 2179.0, 998.0, 1248.0, 1248.0, 1197.0, 1199.0, 1197.0, 1396.0, 1248.0, 998.0, 1248.0, 1248.0, 796.0, 796.0, 2755.0, 2956.0, 1948.0, 1405.0, 1248.0, 2179.0, 1199.0, 2523.0, 1086.0, 796.0, 1396.0, 2523.0, 2523.0, 1197.0, 1248.0, 2498.0, 2179.0, 1186.0, 998.0, 1248.0, 1198.0, 998.0, 1248.0, 1396.0, 1586.0, 1248.0, 1248.0, 2494.0, 2523.0, 998.0, 1598.0, 796.0, 998.0, 2523.0, 1498.0, 1248.0, 1464.471404109589, 1086.0, 624.0, 1498.0, 814.0, 1197.0, 1373.0, 1493.0, 1198.0, 1196.0, 999.0, 1197.0, 1120.0, 1248.0, 1197.0, 1396.0, 2179.0, 799.0, 1197.0, 1368.0, 814.0, 1498.0, 2956.0, 1197.0, 796.0, 1186.0, 1399.0, 1199.0, 993.0, 2499.0, 1799.0, 1461.0, 2523.0, 796.0, 1497.0, 1373.0, 1995.0, 1248.0, 1197.0, 2179.0, 999.0, 1120.0, 1991.0, 1197.0, 1199.0, 998.0, 1197.0, 993.0, 1197.0, 1896.0, 2179.0, 1498.0, 2523.0, 1199.0, 796.0, 1498.0, 2523.0, 796.0, 1197.0, 1493.0, 1248.0, 796.0, 2523.0, 1991.0, 1464.471404109589, 1197.0, 814.0, 1248.0, 2523.0, 1461.0, 2179.0, 796.0, 995.0, 1197.0, 1248.0, 1196.0, 2494.0, 1464.471404109589, 2523.0, 1086.0, 1498.0, 1373.0, 1405.0, 1186.0, 936.0, 1497.0, 2179.0, 1248.0, 2498.0, 1197.0, 796.0, 1197.0, 2179.0, 1399.0, 796.0, 814.0, 793.0, 2393.0, 2494.0, 1199.0, 1582.0, 1498.0, 998.0, 1197.0, 1248.0, 814.0, 796.0, 1197.0, 998.0, 1086.0, 2494.0, 1199.0, 2179.0, 1396.0, 1197.0, 2609.0, 2179.0, 1498.0, 1582.0, 998.0, 999.0, 814.0, 1120.0, 1197.0, 1396.0, 2499.0, 1493.0, 1047.0, 1364.0, 1199.0, 998.0, 1582.0, 2179.0, 998.0, 2494.0, 1248.0, 814.0, 796.0, 993.0, 1198.0, 1364.0, 1248.0, 1198.0, 1248.0, 1582.0, 998.0, 1495.0, 2494.0, 1496.0, 2179.0, 1248.0, 1248.0, 1495.0, 1499.0, 1498.0, 2179.0, 1598.0, 2499.0, 1497.0, 1396.0, 799.0, 814.0, 1197.0, 1493.0, 2179.0, 2179.0, 1248.0, 1464.471404109589, 1373.0, 1197.0, 1197.0, 1248.0, 1496.0, 814.0, 1396.0, 1493.0, 799.0, 1197.0, 1197.0, 1396.0, 796.0, 1497.0, 2179.0, 1197.0, 1248.0, 1120.0, 2179.0, 1198.0, 1248.0, 796.0, 1396.0, 1997.0, 2393.0, 1197.0, 2477.0, 1461.0, 998.0, 1248.0, 1197.0, 1582.0, 1086.0, 1061.0, 796.0, 1186.0, 2523.0, 2179.0, 1396.0, 995.0, 796.0, 1396.0, 1364.0, 1498.0, 1497.0, 1464.471404109589, 1196.0, 1364.0, 1388.0, 1364.0, 2494.0, 1197.0, 2393.0, 1248.0, 1582.0, 1086.0, 1497.0, 1198.0, 1248.0, 1498.0, 796.0, 1461.0, 814.0, 1197.0, 998.0, 1464.471404109589, 998.0, 2179.0, 998.0, 796.0, 1198.0, 1199.0, 796.0, 1248.0, 2179.0, 1199.0, 1197.0, 1396.0, 1464.471404109589, 995.0, 796.0, 1248.0, 1464.471404109589, 1197.0, 1248.0, 814.0, 1396.0, 1186.0, 1248.0, 2956.0, 1527.0, 1248.0, 1197.0, 993.0, 1199.0, 1248.0, 2494.0, 1298.0, 2982.0, 1199.0, 1582.0, 998.0, 1298.0, 796.0, 1086.0, 1461.0, 814.0, 1199.0, 998.0, 1197.0, 993.0, 1497.0, 1396.0, 2179.0, 1582.0, 796.0, 1248.0, 1396.0, 1248.0, 1086.0, 1197.0, 796.0, 1199.0, 1086.0, 1493.0, 796.0, 796.0, 1197.0, 1197.0, 1405.0, 1197.0, 999.0, 1373.0, 1461.0, 796.0, 1461.0, 1248.0, 796.0, 1396.0, 1197.0, 1496.0, 1248.0, 998.0, 1199.0, 1461.0, 1498.0, 2494.0, 1197.0, 1498.0, 2523.0, 998.0, 998.0, 1364.0, 1248.0, 2494.0, 1086.0, 1582.0, 1199.0, 1968.0, 799.0, 1248.0, 1396.0, 1956.0, 1464.471404109589, 1461.0, 1197.0, 1462.0, 796.0, 1197.0, 1396.0, 1396.0, 1497.0, 1197.0, 1496.0, 1186.0, 796.0, 1493.0, 1197.0, 1396.0, 1498.0, 1086.0, 1598.0, 1493.0, 1598.0, 2179.0, 796.0, 1172.0, 1298.0, 1199.0, 1197.0, 1461.0, 998.0, 1497.0, 1199.0, 2179.0, 1197.0, 2489.0, 1396.0, 1248.0, 1497.0, 998.0, 1498.0, 998.0, 1199.0, 1405.0, 1248.0, 1248.0, 2489.0, 1248.0, 1197.0, 1199.0, 2523.0, 1498.0, 1248.0, 1196.0, 1498.0, 1197.0, 1061.0, 1197.0, 1248.0, 1364.0, 2523.0, 1493.0, 1464.471404109589, 796.0, 1364.0, 2179.0, 995.0, 1248.0, 1396.0, 2982.0, 1498.0, 1373.0, 1396.0, 998.0, 1399.0, 1396.0, 1497.0, 1199.0, 1197.0, 1991.0, 1248.0, 1399.0, 1197.0, 1120.0, 1186.0, 796.0, 2494.0, 1199.0, 1198.0, 796.0, 1498.0, 1493.0, 1198.0, 796.0, 2498.0, 1197.0, 1498.0, 1198.0, 1464.471404109589, 2523.0, 1298.0, 1948.0, 1399.0, 1498.0, 1196.0, 1197.0, 1086.0, 1498.0, 1497.0, 2179.0, 814.0, 1498.0, 1248.0, 2523.0, 2179.0, 796.0, 1248.0, 1497.0, 999.0, 1086.0, 1248.0, 1497.0, 1396.0, 1464.471404109589, 1248.0, 998.0, 1197.0, 796.0, 1498.0, 1197.0, 1120.0, 1047.0, 1197.0, 1464.471404109589, 1498.0, 814.0, 1399.0, 1198.0, 2523.0, 1396.0, 1464.471404109589, 1193.0, 796.0, 1248.0, 998.0, 796.0, 1197.0, 796.0, 1586.0, 1396.0, 1399.0, 2494.0, 2523.0, 1197.0, 1248.0, 1248.0, 1364.0, 1464.471404109589, 814.0, 1120.0, 1396.0, 1599.0, 1399.0, 799.0, 1248.0, 1248.0, 1196.0, 1198.0, 1248.0, 1197.0, 796.0, 1497.0, 1120.0, 2179.0, 2179.0, 1991.0, 1596.0, 995.0, 999.0, 2499.0, 998.0, 1493.0, 2179.0, 998.0, 2179.0, 1197.0, 1248.0, 999.0, 1364.0, 998.0, 2494.0, 2179.0, 1248.0, 1198.0, 2179.0, 1197.0, 1197.0, 1399.0, 814.0, 2498.0, 1461.0, 998.0, 998.0, 998.0, 1120.0, 1396.0, 1956.0, 1061.0, 1248.0, 2179.0, 1197.0, 998.0, 1591.0, 1197.0, 1498.0, 1461.0, 2498.0, 1248.0, 1896.0, 1461.0, 1172.0, 1582.0, 796.0, 1956.0, 999.0, 998.0, 1464.471404109589, 1196.0, 793.0, 998.0, 1399.0, 1197.0, 796.0, 1198.0, 2489.0, 998.0, 1396.0, 1396.0, 1248.0, 2494.0, 1197.0, 998.0, 998.0, 624.0, 1493.0, 1586.0, 1199.0, 1198.0, 2179.0, 1582.0, 1197.0, 1197.0, 1396.0, 936.0, 1248.0, 1198.0, 1461.0, 1197.0, 1197.0, 1586.0, 1497.0, 1199.0, 1582.0, 2179.0, 2523.0, 796.0, 796.0, 998.0, 1197.0, 1248.0, 1248.0, 2179.0, 1248.0, 998.0, 1197.0, 2489.0, 2179.0, 2179.0, 814.0, 2494.0, 2179.0, 1968.0, 1086.0, 1197.0, 2199.0, 1194.0, 1197.0, 1461.0, 2179.0, 2179.0, 1461.0, 1495.0, 1248.0, 1197.0, 1197.0, 796.0, 796.0, 796.0, 1582.0, 1248.0, 1388.0, 1248.0, 2499.0, 1248.0, 1498.0, 2982.0, 1461.0, 1248.0, 2498.0, 2523.0, 998.0, 2494.0, 1248.0, 1396.0, 1464.471404109589, 1498.0, 2494.0, 2523.0, 1396.0, 998.0, 1198.0, 1598.0, 2523.0, 1298.0, 1197.0, 1497.0, 1405.0, 1047.0, 1248.0, 1405.0, 1186.0, 1582.0, 1997.0, 796.0, 1396.0, 1197.0, 1197.0, 1197.0, 1399.0, 1498.0, 2498.0, 1196.0, 1499.0, 814.0, 2489.0, 1464.471404109589, 1248.0, 2179.0, 998.0, 1464.471404109589, 1086.0, 1061.0, 1248.0, 799.0, 998.0, 1197.0, 1364.0, 1199.0, 1396.0, 1198.0, 1396.0, 796.0, 1599.0, 1496.0, 1405.0, 1248.0, 2523.0, 796.0, 1120.0, 2494.0, 1498.0, 2494.0, 1396.0, 1405.0, 1248.0, 1599.0, 1373.0, 1196.0, 1248.0, 1248.0, 1498.0, 1248.0, 1499.0, 1197.0, 1396.0, 1248.0, 1498.0, 2148.0, 1199.0, 1248.0, 814.0, 1199.0, 1582.0, 1248.0, 2523.0, 1186.0, 1396.0, 1248.0, 624.0, 2179.0, 1248.0, 1498.0, 1197.0, 1464.471404109589, 1061.0, 2523.0, 1396.0, 1461.0, 1248.0, 1248.0, 1197.0, 1248.0, 1199.0, 1199.0, 1196.0, 1199.0, 796.0, 1461.0, 1396.0, 1197.0, 1196.0, 2179.0, 1248.0, 1196.0, 2393.0, 1498.0, 1464.471404109589, 2499.0, 1248.0, 1248.0, 2494.0, 1464.471404109589, 1199.0, 1595.0, 1396.0, 1248.0, 2494.0, 1464.471404109589, 2494.0, 998.0, 1197.0, 1497.0, 1248.0, 1248.0, 2179.0, 1197.0, 1396.0, 1248.0, 796.0, 1248.0, 1086.0, 2523.0, 1396.0, 2179.0, 1498.0, 1248.0, 2498.0, 796.0, 1248.0, 1197.0, 2179.0, 1464.471404109589, 2179.0, 2200.0, 1197.0, 1461.0, 995.0, 1582.0, 2179.0, 2494.0, 998.0, 2179.0, 1399.0, 2179.0, 796.0, 2523.0, 1248.0, 1396.0, 1120.0, 1186.0, 799.0, 814.0, 1248.0, 1396.0, 1464.471404109589, 2494.0, 1396.0, 999.0, 2523.0, 1498.0, 1186.0, 1464.471404109589, 1248.0, 1086.0, 1582.0, 1373.0, 1120.0, 2179.0, 2523.0, 1061.0, 1497.0, 1199.0, 2179.0, 1196.0, 1248.0, 1198.0, 1498.0, 1464.471404109589, 1582.0, 1248.0, 1498.0, 1197.0, 1197.0, 1464.471404109589, 1248.0, 1248.0, 1197.0, 796.0, 1497.0, 1197.0, 1498.0, 998.0, 998.0, 1591.0, 2523.0, 998.0, 814.0, 2494.0, 998.0, 796.0, 1199.0, 1248.0, 1198.0, 1197.0, 796.0, 1248.0, 2523.0, 796.0, 1396.0, 999.0, 1396.0, 2523.0, 1396.0, 1199.0, 796.0, 1197.0, 1198.0, 1248.0, 1948.0, 2523.0, 2498.0, 995.0, 1248.0, 1248.0, 796.0, 1248.0, 2499.0, 1197.0, 1997.0, 1197.0, 793.0, 1464.471404109589, 1461.0, 1199.0, 1498.0, 1248.0, 1496.0, 1499.0, 1197.0, 796.0, 936.0, 2179.0, 1197.0, 796.0, 998.0, 999.0, 2523.0, 1197.0, 998.0, 1197.0, 1461.0, 1197.0, 1399.0, 1498.0, 2523.0, 1198.0, 1497.0, 1086.0, 2179.0, 1461.0, 2179.0, 796.0, 1199.0, 2179.0, 998.0, 1248.0, 2494.0, 1248.0, 1464.471404109589, 1364.0, 1199.0, 1199.0, 1194.0, 1248.0, 796.0, 2179.0, 1248.0, 1364.0, 1197.0, 1298.0, 814.0, 1248.0, 1586.0, 1248.0, 1248.0, 2179.0, 1248.0, 1405.0, 1461.0, 1198.0, 814.0, 796.0, 1582.0, 2179.0, 1396.0, 1461.0, 1196.0, 1956.0, 1196.0, 1498.0, 1197.0, 1086.0, 1997.0, 1196.0, 1198.0, 1405.0, 1591.0, 1464.471404109589, 1248.0, 1248.0, 1086.0, 1498.0, 796.0, 1399.0, 2179.0, 1198.0, 1248.0, 1997.0, 1248.0, 2494.0, 1396.0, 1582.0, 799.0, 1047.0, 799.0, 1582.0, 1498.0, 1396.0, 1498.0, 1197.0, 1199.0, 1396.0, 998.0, 1948.0, 1497.0, 2494.0, 998.0, 2498.0, 2498.0, 1248.0, 1497.0, 1248.0, 1498.0, 1464.471404109589, 1197.0, 1496.0, 1493.0, 1248.0, 1248.0, 1396.0, 1248.0, 1798.0, 1197.0, 1799.0, 2179.0, 1498.0, 1373.0, 1396.0, 1464.471404109589, 1248.0, 998.0, 1396.0, 1197.0, 814.0, 1186.0, 1086.0, 1086.0, 1598.0, 1498.0, 796.0, 1464.471404109589, 2179.0, 2489.0, 1186.0, 1248.0, 999.0, 1396.0, 1248.0, 2523.0, 1493.0, 1405.0, 1396.0, 998.0, 2179.0, 1396.0, 2523.0, 1248.0, 1597.0, 1461.0, 814.0, 1461.0, 1197.0, 1396.0, 1086.0, 2179.0, 1399.0, 1493.0, 796.0, 1198.0, 998.0, 796.0, 1248.0, 1248.0, 1196.0, 2494.0, 1598.0, 1248.0, 1248.0, 1405.0, 1493.0, 1373.0, 1496.0, 1197.0, 1198.0, 1464.471404109589, 1197.0, 1248.0, 1248.0, 1186.0, 1197.0, 1498.0, 1248.0, 1248.0, 796.0, 998.0, 2494.0, 1461.0, 1396.0, 1399.0, 1248.0, 998.0, 1248.0, 1197.0, 1591.0, 814.0, 1405.0, 1461.0, 796.0, 1248.0, 1086.0, 1396.0, 2179.0, 1498.0, 1489.0, 796.0, 1582.0, 796.0, 1197.0, 1248.0, 1396.0, 1248.0, 2523.0, 1248.0, 1499.0, 796.0, 1405.0, 1599.0, 814.0, 1248.0, 1199.0, 1498.0, 2494.0, 1198.0, 1086.0, 1461.0, 1493.0, 1396.0, 1499.0, 1498.0, 1582.0, 1248.0, 998.0, 2499.0, 1248.0, 1461.0, 1248.0, 1197.0, 998.0, 1497.0, 796.0, 1399.0, 796.0, 1196.0, 1120.0, 1461.0, 2523.0, 1498.0, 1498.0, 1599.0, 1582.0, 2523.0, 1498.0, 1248.0, 1198.0, 796.0, 814.0, 998.0, 1061.0, 2179.0, 1248.0, 2523.0, 1186.0, 2523.0, 1197.0, 998.0, 1197.0, 1248.0, 1248.0, 1248.0, 1248.0, 2494.0, 1197.0, 1199.0, 1493.0, 1461.0, 1498.0, 1197.0, 998.0, 2179.0, 1797.0, 2498.0, 1186.0, 2494.0, 1396.0, 2494.0, 1461.0, 1248.0, 796.0, 1399.0, 796.0, 814.0, 1186.0, 1248.0, 1373.0, 1396.0, 2499.0, 814.0, 2523.0, 796.0, 796.0, 998.0, 1248.0, 2494.0, 998.0, 1197.0, 1248.0, 1199.0, 1396.0, 1497.0, 1396.0, 1248.0, 1197.0, 1497.0, 1582.0, 1198.0, 1497.0, 2523.0, 1396.0, 2179.0, 2982.0, 1197.0, 2179.0, 1396.0, 2494.0, 2494.0, 1086.0, 1198.0, 1464.471404109589, 1464.471404109589, 2200.0, 1248.0, 998.0, 1198.0, 2494.0, 1198.0, 1396.0, 2650.0, 1248.0, 1364.0, 2179.0, 999.0, 2523.0, 2489.0, 1248.0, 1248.0, 998.0, 1399.0, 1248.0, 1405.0, 796.0, 796.0, 1396.0, 1591.0, 1047.0, 1798.0, 1498.0, 1364.0, 1199.0, 998.0, 2477.0, 1497.0, 2596.0, 1956.0, 1197.0, 1248.0, 1598.0, 1248.0, 1248.0, 796.0, 1197.0, 796.0, 2523.0, 1248.0, 1956.0, 1197.0, 1464.471404109589, 1197.0, 1197.0, 1498.0, 796.0, 1199.0, 1197.0, 1364.0, 1461.0, 1462.0, 1464.471404109589, 2523.0, 1197.0, 1248.0, 796.0, 1598.0, 1498.0, 1086.0, 1248.0, 1405.0, 1498.0, 1197.0, 1199.0, 2494.0, 2489.0, 2498.0, 995.0, 1248.0, 1598.0, 799.0, 2523.0, 1197.0, 1498.0, 1299.0, 1598.0, 1396.0, 1086.0, 2179.0, 1464.471404109589, 1248.0, 1196.0, 999.0, 799.0, 2523.0, 796.0, 1781.0, 1399.0, 2179.0, 1248.0, 1493.0, 1248.0, 1197.0, 2477.0, 1248.0, 1248.0, 2179.0, 2523.0, 2498.0, 1248.0, 1197.0, 1198.0, 1399.0, 1373.0, 1298.0, 1199.0, 1493.0, 796.0, 998.0, 1061.0, 1248.0, 1248.0, 1599.0, 1248.0, 1248.0, 998.0, 1086.0, 1197.0, 1405.0, 1198.0, 1198.0, 999.0, 1197.0, 999.0, 1464.471404109589, 1061.0, 1396.0, 1498.0, 2523.0, 2179.0, 1197.0, 1248.0, 2179.0, 936.0, 1248.0, 936.0, 1248.0, 1199.0, 2494.0, 998.0, 1198.0, 2179.0, 1496.0, 1498.0, 1248.0, 2179.0, 796.0, 2179.0, 1373.0, 1498.0, 2494.0, 1197.0, 2179.0, 1498.0, 1199.0, 998.0, 2179.0, 936.0, 1498.0, 796.0, 1248.0, 1461.0, 1405.0, 796.0, 1461.0, 1197.0, 796.0, 796.0, 1193.0, 998.0, 1197.0, 1061.0, 1464.471404109589, 1991.0, 1197.0, 1405.0, 796.0, 1248.0, 2179.0, 1196.0, 998.0, 1086.0, 1396.0, 999.0, 998.0, 1498.0, 2179.0, 1396.0, 1248.0, 1399.0, 1498.0, 1498.0, 1047.0, 2179.0, 1199.0, 1396.0, 1197.0, 1497.0, 1194.0, 2489.0, 1405.0, 814.0, 1197.0, 1196.0, 1194.0, 1598.0, 1298.0, 1196.0, 1497.0, 796.0, 1396.0, 1399.0, 1368.0, 998.0, 1464.471404109589, 1198.0, 1248.0, 998.0, 1248.0, 1582.0, 1248.0, 796.0, 998.0, 796.0, 1956.0, 1373.0, 1462.0, 2179.0, 1196.0, 2179.0, 1497.0, 1493.0, 1248.0, 1497.0, 998.0, 1248.0, 1248.0, 1896.0, 1582.0, 1186.0, 1199.0, 796.0, 2523.0, 1498.0, 998.0, 998.0, 1197.0, 1197.0, 1086.0, 2179.0, 1248.0, 796.0, 1197.0, 1248.0, 2179.0, 1248.0, 1194.0, 1464.471404109589, 1498.0, 1298.0, 1248.0, 2494.0, 2523.0, 1248.0, 1405.0, 2982.0, 2523.0, 1198.0, 2179.0, 1464.471404109589, 1197.0, 998.0, 1086.0, 1198.0, 1248.0, 1248.0, 1396.0, 1197.0, 2179.0, 1598.0, 1498.0, 1196.0, 1248.0, 1464.471404109589, 998.0, 2523.0, 1197.0, 1464.471404109589, 2179.0, 1461.0, 1495.0, 1464.471404109589, 2523.0, 1199.0, 2494.0, 1997.0, 814.0, 2523.0, 1248.0, 1197.0, 1086.0, 1198.0, 1499.0, 998.0, 796.0, 2393.0, 2498.0, 1248.0, 2494.0, 1196.0, 2393.0, 1198.0, 1591.0, 1197.0, 1197.0, 2609.0, 1405.0, 796.0, 2179.0, 1198.0, 814.0, 1497.0, 2498.0, 1497.0, 1047.0, 2523.0, 1120.0, 998.0, 1399.0, 1497.0, 1582.0, 998.0, 1197.0, 2179.0, 1498.0, 1493.0, 1341.0, 796.0, 1198.0, 2179.0, 2179.0, 1086.0, 1998.0, 796.0, 1197.0, 814.0, 796.0, 1248.0, 1248.0, 1248.0, 1497.0, 2179.0, 814.0, 796.0, 998.0, 1248.0, 1197.0, 1198.0, 1405.0, 1956.0, 2494.0, 1498.0, 1364.0, 1197.0, 1199.0, 1248.0, 1497.0, 1199.0, 2179.0, 1368.0, 1998.0, 1248.0, 2179.0, 1197.0, 1498.0, 1248.0, 1582.0, 1493.0, 1497.0, 1405.0, 1461.0, 1248.0, 2499.0, 1248.0, 1120.0, 2179.0, 1493.0, 1298.0, 1497.0, 814.0, 1196.0, 2179.0, 1396.0, 1248.0, 1248.0, 1197.0, 1196.0, 1248.0, 1248.0, 1061.0, 1991.0, 2494.0, 1794.0, 1498.0, 1396.0, 1198.0, 1199.0, 1248.0, 998.0, 998.0, 1248.0, 998.0, 998.0, 1498.0, 1248.0, 1956.0, 814.0, 1498.0, 1193.0, 1497.0, 1197.0, 796.0, 1248.0, 1496.0, 1493.0, 814.0, 1368.0, 2498.0, 1086.0, 998.0, 1198.0, 1497.0, 2179.0, 796.0, 998.0, 1598.0, 2494.0, 1582.0, 1086.0, 814.0, 1405.0, 1197.0, 1197.0, 1199.0, 1061.0, 796.0, 1582.0, 1495.0, 1497.0, 1396.0, 1197.0, 1248.0, 1464.471404109589, 1199.0, 1405.0, 1248.0, 796.0, 1197.0, 1498.0, 1498.0, 1197.0, 995.0, 1464.471404109589, 1248.0, 1248.0, 1396.0, 1498.0, 1198.0, 1248.0, 1405.0, 1086.0, 2179.0, 1198.0, 1497.0, 1197.0, 2523.0, 998.0, 1493.0, 1197.0, 1968.0, 624.0, 1598.0, 1998.0, 1798.0, 993.0, 1493.0, 1197.0, 1197.0, 1497.0, 1248.0, 1196.0, 1399.0, 1464.471404109589, 1199.0, 998.0, 1197.0, 1461.0, 796.0, 1198.0, 796.0, 1197.0, 998.0, 1498.0, 998.0, 1199.0, 1197.0, 1248.0, 1248.0, 1248.0, 1197.0, 1086.0, 2179.0, 1199.0, 995.0, 1373.0, 1197.0, 1197.0, 1120.0, 1197.0, 1298.0, 995.0, 1464.471404109589, 1368.0, 1364.0, 1498.0, 1150.0, 1086.0, 1364.0, 2179.0, 998.0, 1498.0, 1248.0, 1464.471404109589, 1199.0, 1086.0, 1086.0, 1464.471404109589, 1461.0, 2179.0, 2494.0, 998.0, 993.0, 2523.0, 1197.0, 998.0, 796.0, 1248.0, 1186.0, 1172.0, 1248.0, 2179.0, 1197.0, 1199.0, 1405.0, 1497.0, 998.0, 1248.0, 2523.0, 796.0, 1196.0, 1248.0, 1968.0, 2523.0, 936.0, 1498.0, 1197.0, 1799.0, 1464.471404109589, 1193.0, 1498.0, 1086.0, 1497.0, 2498.0, 1186.0, 2494.0, 1197.0, 1497.0, 1582.0, 1248.0, 2179.0, 1464.471404109589, 1396.0, 1199.0, 1248.0, 1248.0, 1086.0, 1248.0, 1956.0, 2523.0, 1197.0, 1197.0, 1248.0, 998.0, 796.0, 998.0, 2179.0, 1248.0, 796.0, 998.0, 2494.0, 1199.0, 1199.0, 1396.0, 1493.0, 1248.0, 1197.0, 1396.0, 1198.0, 1061.0, 2179.0, 1497.0, 1396.0, 1248.0, 1120.0, 1199.0, 998.0, 1396.0, 2179.0, 1399.0, 1120.0, 1248.0, 1368.0, 1197.0, 1498.0, 1405.0, 1405.0, 1461.0, 1248.0, 1086.0, 2609.0, 1464.471404109589, 1497.0, 2179.0, 796.0, 1396.0, 1364.0, 1968.0, 995.0, 1399.0, 1248.0, 1396.0, 1197.0, 1498.0, 1199.0, 1498.0, 1197.0, 624.0, 1248.0, 1197.0, 1172.0, 796.0, 1197.0, 1399.0, 796.0, 2494.0, 2494.0, 1196.0, 998.0, 1197.0, 796.0, 1997.0, 1497.0, 1496.0, 1464.471404109589, 1582.0, 1498.0, 1498.0, 1396.0, 936.0, 1199.0, 1396.0, 1396.0, 1405.0, 2393.0, 1396.0, 995.0, 1197.0, 1197.0, 936.0, 1497.0, 998.0, 1405.0, 1461.0, 1598.0, 796.0, 1248.0, 1582.0, 1197.0, 998.0, 993.0, 1464.471404109589, 1248.0, 1248.0, 796.0, 793.0, 999.0, 1396.0, 1493.0, 1396.0, 1197.0, 796.0, 799.0, 1186.0, 2354.0, 2523.0, 1199.0, 796.0, 1461.0, 1461.0, 1197.0, 1199.0, 2179.0, 796.0, 1396.0, 1461.0, 1498.0, 1464.471404109589, 1198.0, 1461.0, 2179.0, 796.0, 1399.0, 1396.0, 1396.0, 799.0, 2179.0, 1086.0, 1461.0, 1582.0, 1464.471404109589, 1498.0, 2494.0, 1495.0, 1248.0, 1248.0, 796.0, 1248.0, 1396.0, 1197.0, 796.0, 2494.0, 1582.0, 1248.0, 1199.0, 2179.0, 999.0, 1248.0, 1464.471404109589, 1461.0, 1497.0, 1197.0, 1956.0, 796.0, 1991.0, 1197.0, 1493.0, 1196.0, 1197.0, 2179.0, 1364.0, 1198.0, 2523.0, 1199.0, 1493.0, 1248.0, 1197.0, 1396.0, 1197.0, 1461.0, 1197.0, 2179.0, 1498.0, 796.0, 1197.0, 1198.0, 1396.0, 998.0, 2477.0, 1194.0, 1464.471404109589, 1462.0, 796.0, 998.0, 2494.0, 998.0, 1197.0, 1794.0, 1248.0, 1498.0, 1199.0, 1086.0, 1396.0, 1248.0, 1493.0, 1197.0, 1591.0, 1193.0, 1582.0, 1464.471404109589, 796.0, 1405.0, 1198.0, 1497.0, 624.0, 1248.0, 1396.0, 1461.0, 1248.0, 2498.0, 2498.0, 936.0, 2179.0, 998.0, 1197.0, 1248.0, 1186.0, 1498.0, 799.0, 796.0, 2179.0, 1248.0, 1396.0, 796.0, 2494.0, 999.0, 1493.0, 1248.0, 1197.0, 1198.0, 1248.0, 1196.0, 2179.0, 1496.0, 2498.0, 1498.0, 1198.0, 1086.0, 2523.0, 1493.0, 814.0, 1396.0, 1120.0, 1582.0, 1248.0, 2982.0, 796.0, 1498.0, 1896.0, 2179.0, 1396.0, 1461.0, 936.0, 1197.0, 1497.0, 1598.0, 1248.0, 2609.0, 2179.0, 1493.0, 1197.0, 796.0, 2179.0, 1495.0, 1461.0, 796.0, 2982.0, 2179.0, 999.0, 1582.0, 1582.0, 796.0, 1248.0, 1061.0, 1199.0, 2498.0, 1199.0, 2523.0, 1405.0, 936.0, 2179.0, 1997.0, 1599.0, 1061.0, 999.0, 796.0, 1248.0, 1405.0, 1948.0, 1498.0, 1248.0, 1248.0, 2499.0, 1197.0, 1248.0, 2179.0, 1461.0, 1047.0, 1186.0, 2179.0, 796.0, 2494.0, 1198.0, 1197.0, 2494.0, 1396.0, 796.0, 1248.0, 1496.0, 998.0, 1248.0, 1196.0, 1248.0, 998.0, 2494.0, 1582.0, 796.0, 793.0, 1194.0, 1396.0, 1298.0, 1497.0, 1086.0, 1248.0, 993.0, 814.0, 998.0, 2179.0, 1086.0, 1248.0, 2523.0, 1248.0, 799.0, 2523.0, 1086.0, 1197.0, 1405.0, 1396.0, 993.0, 1197.0, 1461.0, 1498.0, 1461.0, 1248.0, 1198.0, 1493.0, 1248.0, 799.0, 998.0, 1498.0, 1248.0, 1493.0, 1197.0, 998.0, 2494.0, 1197.0, 1198.0, 1390.0, 2179.0, 2494.0, 1591.0, 1368.0, 796.0, 1496.0, 2523.0, 1396.0, 1364.0, 1197.0, 1464.471404109589, 1197.0, 1197.0, 1582.0, 1197.0, 1199.0, 1248.0, 1248.0, 1248.0, 1199.0, 1496.0, 1197.0, 2489.0, 1396.0, 2494.0, 1399.0, 1248.0, 796.0, 1196.0, 1493.0, 1464.471404109589, 1197.0, 1396.0, 796.0, 998.0, 796.0, 1582.0, 1461.0, 1582.0, 1298.0, 1948.0, 1248.0, 1582.0, 998.0, 2523.0, 1199.0, 1493.0, 1248.0, 1968.0, 998.0, 1396.0, 1464.471404109589, 1343.0, 796.0, 1197.0, 998.0, 1396.0, 2179.0, 998.0, 1598.0, 1248.0, 1196.0, 1497.0, 1797.0, 2179.0, 998.0, 796.0, 1396.0, 1596.0, 1464.471404109589, 993.0, 1341.0, 1248.0, 1248.0, 814.0, 1497.0, 2494.0, 1197.0, 1956.0, 1396.0, 1405.0, 1464.471404109589, 2494.0, 1795.0, 1498.0, 1248.0, 1405.0, 2179.0, 1498.0, 1197.0, 1197.0, 1197.0, 1493.0, 1248.0, 1497.0, 2523.0, 796.0, 1493.0, 2494.0, 1461.0, 1248.0, 796.0, 1198.0, 796.0, 1248.0, 1493.0, 1248.0, 814.0, 1199.0, 796.0, 909.0, 1994.0, 1199.0, 1248.0, 796.0, 1248.0, 1197.0, 1199.0, 1248.0, 1198.0, 796.0, 998.0, 1373.0, 1464.471404109589, 1248.0, 1193.0, 1197.0, 1997.0, 1193.0, 1396.0, 1199.0, 998.0, 1197.0, 1493.0, 936.0, 1197.0, 998.0, 1248.0, 1498.0, 998.0, 1493.0, 1399.0, 1248.0, 2179.0, 1591.0, 998.0, 1197.0, 1197.0, 1461.0, 1120.0, 1399.0, 2498.0, 1596.0, 2494.0, 1495.0, 998.0, 1248.0, 1248.0, 814.0, 1120.0, 1248.0, 1120.0, 1086.0, 1248.0, 2179.0, 1586.0, 1493.0, 1248.0, 1197.0, 999.0, 2179.0, 2179.0, 2179.0, 1464.471404109589, 995.0, 936.0, 1464.471404109589, 2494.0, 998.0, 1405.0, 2494.0, 1198.0, 998.0, 1248.0, 999.0, 1248.0, 1197.0, 1248.0, 2179.0, 998.0, 1498.0, 1582.0, 1498.0, 1582.0, 1598.0, 796.0, 1248.0, 1497.0, 1396.0, 1399.0, 1498.0, 1198.0, 2179.0, 2179.0, 1198.0, 1493.0, 1086.0, 1498.0, 1248.0, 1493.0, 1498.0, 1896.0, 1248.0, 1396.0, 2179.0, 2982.0, 1497.0, 1598.0, 799.0, 1248.0, 1399.0, 1599.0, 796.0, 1150.0, 1498.0, 998.0, 1399.0, 1248.0, 1199.0, 1497.0, 1797.0, 1464.471404109589, 814.0, 1197.0, 1199.0, 998.0, 1499.0, 999.0, 796.0, 2393.0, 1493.0, 999.0, 1248.0, 1248.0, 796.0, 1373.0, 1396.0, 1248.0, 1598.0, 999.0, 1197.0, 998.0, 1497.0, 2499.0, 1197.0, 1199.0, 2956.0, 2523.0, 1086.0, 1197.0, 2179.0, 1196.0, 1461.0, 1198.0, 2523.0, 2179.0, 2494.0, 1582.0, 1197.0, 1991.0, 796.0, 1248.0, 1186.0, 1197.0, 1464.471404109589, 1405.0, 1498.0, 1197.0, 1196.0, 1199.0, 1248.0, 1248.0, 998.0, 1497.0, 1396.0, 1991.0, 2179.0, 1461.0, 1061.0, 1298.0, 1248.0, 1199.0, 1198.0, 2179.0, 796.0, 1198.0, 2179.0, 1598.0, 998.0, 1498.0, 2523.0, 1248.0, 2494.0, 2494.0, 1198.0, 1248.0, 796.0, 1399.0, 1197.0, 1197.0, 1461.0, 1298.0, 1464.471404109589, 1498.0, 1582.0, 1498.0, 799.0, 796.0, 1399.0, 1590.0, 1248.0, 1197.0, 1197.0, 814.0, 1248.0, 1248.0, 1197.0, 1197.0, 1498.0, 998.0, 1248.0, 1248.0, 2179.0, 1248.0, 1186.0, 2494.0, 1248.0, 796.0, 1373.0, 1197.0, 1462.0, 1464.471404109589, 1498.0, 1498.0, 2523.0, 2489.0, 1197.0, 1197.0, 1498.0, 1396.0, 1197.0, 1248.0, 814.0, 1598.0, 1172.0, 1248.0, 998.0, 1405.0, 1086.0, 1498.0, 1248.0, 1248.0, 998.0, 1248.0, 1405.0, 1248.0, 1193.0, 1997.0, 1186.0, 1591.0, 1248.0, 796.0, 998.0, 1598.0, 1197.0, 799.0, 796.0, 1396.0, 1388.0, 1498.0, 1248.0, 998.0, 998.0, 796.0, 1248.0, 796.0, 1248.0, 2494.0, 1298.0, 1248.0, 1582.0, 1498.0, 1461.0, 1197.0, 2179.0, 1582.0, 1591.0, 2609.0, 1199.0, 1199.0, 796.0, 1248.0, 1399.0, 796.0, 1196.0, 1396.0, 1364.0, 998.0, 2179.0, 1199.0, 1248.0, 1197.0, 2609.0, 1086.0, 1493.0, 1493.0, 1497.0, 796.0, 1197.0, 1196.0, 1196.0, 1794.0, 2494.0, 1197.0, 1405.0, 1464.471404109589, 2179.0, 1396.0, 1199.0, 1248.0, 1598.0, 796.0, 1464.471404109589, 796.0, 1464.471404109589, 2179.0, 624.0, 1186.0, 1493.0, 1586.0, 1199.0, 1197.0, 1248.0, 1199.0, 1198.0, 1495.0, 1582.0, 1248.0, 1248.0, 1198.0, 799.0, 1197.0, 1248.0, 1248.0, 1248.0, 1197.0, 1396.0, 1197.0, 1061.0, 1086.0, 796.0, 1498.0, 1497.0, 1399.0, 2523.0, 1464.471404109589, 1496.0, 799.0, 1997.0, 1248.0, 2179.0, 1248.0, 1193.0, 2982.0, 1298.0, 796.0, 1582.0, 1248.0, 796.0, 1061.0, 1405.0, 1598.0, 1248.0, 1396.0, 1396.0, 799.0, 1498.0, 1086.0, 998.0, 1388.0, 2609.0, 1364.0, 796.0, 995.0, 998.0, 1298.0, 1197.0, 1595.0, 1197.0, 1493.0, 1248.0, 1197.0, 2179.0, 1396.0, 814.0, 1248.0, 1248.0, 998.0, 1464.471404109589, 1199.0, 1399.0, 1248.0, 1498.0, 796.0, 995.0, 1248.0, 2179.0, 998.0, 1248.0, 1461.0, 796.0, 1248.0, 1948.0, 1248.0, 1464.471404109589, 1586.0, 993.0, 1199.0, 799.0, 1248.0, 1798.0, 1493.0, 1197.0, 2498.0, 1396.0, 1061.0, 1498.0, 1197.0, 998.0, 1086.0, 998.0, 2179.0, 1298.0, 796.0, 1248.0, 796.0, 1498.0, 1582.0, 2523.0, 1198.0, 796.0, 1197.0, 998.0, 1464.471404109589, 998.0, 2494.0, 998.0, 1496.0, 796.0, 796.0, 1396.0, 2179.0, 1405.0, 1497.0, 1248.0, 1396.0, 1248.0, 1199.0, 2609.0, 2179.0, 1248.0, 2982.0, 814.0, 1464.471404109589, 1399.0, 1464.471404109589, 1248.0, 1086.0, 1248.0, 998.0, 796.0, 998.0, 1197.0, 1464.471404109589, 1405.0, 1248.0, 2179.0, 1248.0, 1586.0, 1248.0, 1248.0, 2523.0, 1399.0, 1248.0, 1396.0, 2494.0, 1248.0, 2494.0, 1461.0, 1461.0, 1248.0, 1396.0, 1197.0, 796.0, 796.0, 1193.0, 1498.0, 2179.0, 1341.0, 2494.0, 799.0, 1197.0, 2494.0, 1248.0, 1061.0, 1197.0, 1405.0, 1498.0, 814.0, 1405.0, 2179.0, 1464.471404109589, 1198.0, 1396.0, 1197.0, 1497.0, 1591.0, 814.0, 2179.0, 2956.0, 799.0, 2179.0, 1197.0, 1396.0, 1798.0, 1199.0, 1198.0, 1464.471404109589, 1197.0, 1248.0, 995.0, 1196.0, 1582.0, 1197.0, 1298.0, 1196.0, 1461.0, 1396.0, 1197.0, 998.0, 1248.0, 1193.0, 998.0, 796.0, 1248.0, 1197.0, 1086.0, 998.0, 1197.0, 1197.0, 1061.0, 1582.0, 2494.0, 1896.0, 1194.0, 1464.471404109589, 1396.0, 2179.0, 1248.0, 796.0, 936.0, 2179.0, 1599.0, 2393.0, 2523.0, 998.0, 814.0, 1197.0, 1197.0, 993.0, 1248.0, 1248.0, 1498.0, 1197.0, 2179.0, 1498.0, 1461.0, 998.0, 1061.0, 2359.0, 1197.0, 1197.0, 1197.0, 1197.0, 1498.0, 1493.0, 2498.0, 1086.0, 2489.0, 1464.471404109589, 1498.0, 1248.0, 1405.0, 1493.0, 814.0, 2179.0, 1597.0, 2494.0, 1495.0, 1198.0, 2523.0, 1197.0, 2179.0, 1197.0, 796.0, 2179.0, 1197.0, 1248.0, 1405.0, 796.0, 796.0, 1248.0, 1396.0, 1497.0, 1405.0, 2494.0, 796.0, 1598.0, 624.0, 998.0, 1197.0, 1464.471404109589, 2494.0, 1199.0, 1399.0, 1991.0, 796.0, 1497.0, 1197.0, 796.0, 1193.0, 1396.0, 1248.0, 1086.0, 1248.0, 1396.0, 1341.0, 1248.0, 1248.0, 1197.0, 2523.0, 2179.0, 1248.0, 1248.0, 1498.0, 998.0, 1298.0, 1199.0, 2523.0, 796.0, 2499.0, 1798.0, 1197.0, 1197.0, 1248.0, 1197.0, 2494.0, 1248.0, 796.0, 1197.0, 1396.0, 1598.0, 998.0, 1991.0, 2179.0, 1956.0, 796.0, 1496.0, 2179.0, 1248.0, 799.0, 799.0, 1497.0, 1197.0, 796.0, 1498.0, 1498.0, 993.0, 1248.0, 1198.0, 2179.0, 2494.0, 1396.0, 2393.0, 995.0, 1399.0, 1796.0, 1086.0, 1498.0, 1248.0, 1248.0, 998.0, 1197.0, 1248.0, 814.0, 796.0, 1248.0, 1498.0, 1086.0, 1399.0, 1497.0, 1186.0, 998.0, 1498.0, 1464.471404109589, 1464.471404109589, 2489.0, 2179.0, 1498.0, 2179.0, 995.0, 1186.0, 814.0, 1120.0, 1464.471404109589, 1495.0, 2179.0, 998.0, 1591.0, 998.0, 796.0, 1197.0, 1396.0, 1248.0, 1598.0, 1464.471404109589, 1198.0, 1197.0, 799.0, 1464.471404109589, 2179.0, 1196.0, 1341.0, 1197.0, 1364.0, 1248.0, 1598.0, 1248.0, 2179.0, 1197.0, 1591.0, 1248.0, 1396.0, 796.0, 1248.0, 1248.0, 1497.0, 814.0, 999.0, 1248.0, 998.0, 2494.0, 1248.0, 1493.0, 1498.0, 1464.471404109589, 2494.0, 1197.0, 998.0, 1061.0, 1399.0, 796.0, 2179.0, 1197.0, 1193.0, 1199.0, 1248.0, 1248.0, 1197.0, 1248.0, 1396.0, 1461.0, 1196.0, 1198.0, 1197.0, 2499.0, 1399.0, 1591.0, 1498.0, 1598.0, 1197.0, 796.0, 1086.0, 2523.0, 1199.0, 1497.0, 1461.0, 1396.0, 1368.0, 998.0, 1197.0, 796.0, 1197.0, 1248.0, 2956.0, 1197.0, 814.0, 1086.0, 1405.0, 2179.0, 998.0, 1399.0, 1248.0, 998.0, 2956.0, 1086.0, 2489.0, 2179.0, 1461.0, 1248.0, 796.0, 998.0, 1248.0, 796.0, 1248.0, 1248.0, 1197.0, 1197.0, 2523.0, 1248.0, 998.0, 1199.0, 1582.0, 2523.0, 2523.0, 1197.0, 1405.0, 1493.0, 1464.471404109589, 1198.0, 1199.0, 1399.0, 1197.0, 1396.0, 796.0, 1248.0, 999.0, 1498.0, 998.0, 2494.0, 1197.0, 1248.0, 936.0, 1199.0, 2179.0, 998.0, 1399.0, 1197.0, 796.0, 1197.0, 1248.0, 2523.0, 2179.0, 1396.0, 998.0, 1493.0, 2494.0, 998.0, 2494.0, 1997.0, 1197.0, 2523.0, 1405.0, 1396.0, 1364.0, 1248.0, 1248.0, 1598.0, 1197.0, 1199.0, 1198.0, 1248.0, 998.0, 999.0, 2609.0, 1248.0, 1956.0, 2696.0, 1596.0, 998.0, 1493.0, 1498.0, 2523.0, 1582.0, 1248.0, 1248.0, 1527.0, 1197.0, 936.0, 1248.0, 1498.0, 1498.0, 1186.0, 1197.0, 1194.0, 1248.0, 2494.0, 1248.0, 1199.0, 1196.0, 998.0, 2179.0, 1396.0, 1396.0, 1248.0, 1086.0, 1248.0, 1248.0, 1496.0, 1196.0, 1396.0, 1248.0, 1399.0, 2523.0, 998.0, 998.0, 1199.0, 1461.0, 1498.0, 2523.0, 1464.471404109589, 1199.0, 796.0, 1197.0, 1399.0, 2956.0, 998.0, 1198.0, 1248.0, 796.0, 2609.0, 998.0, 1997.0, 1373.0, 1493.0, 1497.0, 1396.0, 1498.0, 1582.0, 1373.0, 1248.0, 796.0, 1298.0, 796.0, 1498.0, 936.0, 1405.0, 1197.0, 1493.0, 2494.0, 1493.0, 1248.0, 1598.0, 1197.0, 1248.0, 1197.0, 1582.0, 796.0, 1248.0, 1197.0, 1248.0, 1405.0, 2494.0, 1197.0, 1197.0, 1527.0, 1248.0, 1193.0, 1582.0, 999.0, 1248.0, 796.0, 796.0, 1497.0, 2523.0, 1199.0, 814.0, 1197.0, 814.0, 1464.471404109589, 1199.0, 796.0, 1498.0, 796.0, 1197.0, 796.0, 1498.0, 1248.0, 2523.0, 1248.0, 1799.0, 936.0, 1086.0, 1196.0, 1248.0, 1464.471404109589, 796.0, 1298.0, 2179.0, 1248.0, 1998.0, 1086.0, 1396.0, 1464.471404109589, 1197.0, 1248.0, 998.0, 1193.0, 1248.0, 1047.0, 1086.0, 1196.0, 1198.0, 2494.0, 1186.0, 1197.0, 1498.0, 936.0, 1405.0, 1461.0, 1197.0, 1248.0, 1461.0, 1086.0, 1248.0, 1498.0, 1248.0, 1197.0, 2494.0, 1598.0, 998.0, 1598.0, 1199.0, 2179.0, 2523.0, 1197.0, 1197.0, 1396.0, 1198.0, 1197.0, 1199.0, 799.0, 1248.0, 2179.0, 1248.0, 1364.0, 796.0, 1493.0, 2179.0, 1399.0, 2499.0, 1197.0, 1399.0, 1248.0, 1493.0, 998.0, 1405.0, 1186.0, 1498.0, 998.0, 1197.0, 1364.0, 1194.0, 2179.0, 1396.0, 1462.0, 1598.0, 1199.0, 1197.0, 1582.0, 1248.0, 1199.0, 1248.0, 1461.0, 1396.0, 1248.0, 1298.0, 998.0, 1599.0, 796.0, 1498.0, 998.0, 998.0, 1199.0, 2523.0, 1498.0], \"xaxis\": \"x\", \"y\": [850000, 750000, 795000, 500000, 325000, 270000, 174000, 270000, 560000, 550000, 580000, 85000, 900000, 300000, 270000, 229999, 650000, 450000, 148000, 180000, 889000, 620000, 700000, 550000, 475000, 370000, 450000, 520000, 350000, 480000, 375000, 700000, 650000, 940000, 190000, 400000, 220000, 150000, 715000, 1175000, 400000, 250000, 650000, 740000, 600000, 280000, 750000, 600000, 450000, 725000, 400000, 850000, 145000, 320000, 454000, 350000, 285000, 575000, 175000, 450000, 135000, 484999, 950000, 320000, 130000, 290000, 575000, 165000, 210000, 1888000, 800000, 130000, 85000, 75000, 740000, 250000, 525000, 1650000, 135000, 750000, 550000, 540000, 910000, 725000, 115999, 250000, 196000, 350000, 420000, 60000, 114999, 180000, 350000, 150000, 350000, 300000, 550000, 550000, 434999, 215000, 1100000, 900000, 600000, 740000, 120000, 325000, 300000, 95000, 610000, 525000, 650000, 500000, 310000, 350000, 175000, 434000, 170000, 110000, 327000, 400000, 275000, 235000, 605000, 650000, 430000, 425000, 120000, 200000, 300000, 500000, 380000, 409999, 325000, 300000, 600000, 145000, 650000, 631000, 700000, 210000, 810000, 195000, 128000, 270000, 125000, 445000, 200000, 350000, 700000, 160000, 50000, 320000, 650000, 450000, 222000, 550000, 250000, 370000, 150000, 530000, 450000, 1050000, 390000, 180000, 750000, 60000, 220000, 180000, 265000, 325000, 580000, 350000, 320000, 300000, 450000, 340000, 300000, 300000, 250000, 450000, 600000, 200000, 667000, 300000, 339000, 509999, 900000, 700000, 560000, 420000, 150000, 650000, 350000, 520000, 140000, 310000, 120000, 75000, 225000, 450000, 140000, 170000, 750000, 530000, 620000, 525000, 740000, 377000, 135000, 750000, 130000, 750000, 749000, 375000, 100000, 575000, 350000, 99000, 210000, 300000, 99000, 142000, 300000, 580000, 217000, 371000, 280000, 70000, 260000, 400000, 500000, 750000, 360000, 190000, 450000, 1300000, 325000, 1000000, 525000, 360000, 325000, 375000, 825000, 150000, 200000, 400000, 300000, 320000, 55599, 430000, 330000, 550000, 810000, 750000, 310000, 300000, 1850000, 740000, 580000, 185000, 420000, 190000, 200000, 351000, 745000, 550000, 500000, 260000, 305000, 280000, 1550000, 310000, 125000, 325000, 150000, 151000, 900000, 400000, 195000, 250000, 220000, 250000, 150000, 350000, 1050000, 649000, 290000, 721000, 400000, 400000, 791000, 180000, 200000, 450000, 679000, 335000, 620000, 130000, 825000, 800000, 800000, 590000, 210000, 140000, 150000, 200000, 200000, 610000, 850000, 650000, 500000, 480000, 371000, 250000, 600000, 360000, 278000, 50000, 190000, 650000, 610000, 40000, 880000, 550000, 839000, 480000, 250000, 595000, 325000, 250000, 210000, 400000, 250000, 525000, 190000, 58000, 450000, 650000, 615000, 250000, 670000, 800000, 620000, 600000, 525000, 315000, 150000, 900000, 125000, 300000, 250000, 420000, 150000, 409999, 240000, 199000, 625000, 290000, 667000, 400000, 220000, 220000, 245000, 450000, 210000, 310000, 55000, 400000, 438999, 850000, 250000, 270000, 265000, 750000, 670000, 300000, 1100000, 580000, 400000, 165000, 315000, 400000, 225000, 790000, 625000, 430000, 385000, 330000, 290000, 330000, 80000, 540000, 130000, 150000, 840000, 1147000, 570000, 450000, 575000, 675000, 400000, 225000, 320000, 250000, 450000, 850000, 170000, 600000, 135000, 150000, 459999, 110000, 500000, 550000, 500000, 500000, 560000, 165000, 440000, 570000, 480000, 180000, 125000, 220000, 1600000, 411000, 120000, 80000, 270000, 670000, 350000, 1050000, 560000, 620000, 700000, 700000, 490000, 400000, 40000, 300000, 700000, 950000, 235000, 195000, 360000, 260000, 215000, 170000, 290000, 225000, 75000, 275000, 140000, 190000, 200000, 434999, 260000, 1100000, 229999, 200000, 350000, 50000, 685000, 415000, 411000, 740000, 660000, 380000, 125000, 525000, 340000, 625000, 311000, 550000, 330000, 750000, 500000, 78000, 650000, 503000, 680000, 906000, 400000, 786000, 455999, 1250000, 300000, 300000, 130000, 625000, 590000, 200000, 595000, 1000000, 140000, 1925000, 200000, 700000, 315000, 459999, 700000, 450000, 450000, 450000, 280000, 725000, 625000, 520000, 275000, 100000, 130000, 675000, 625000, 450000, 700000, 356000, 400000, 500000, 525000, 515000, 140000, 350000, 409999, 490000, 175000, 580000, 600000, 275000, 125000, 520000, 450000, 400000, 600000, 503000, 290000, 290000, 811000, 400000, 752000, 640000, 150000, 630000, 450000, 600000, 1350000, 229999, 730000, 611000, 500000, 695000, 430000, 45000, 570000, 950000, 455000, 170000, 660000, 500000, 60000, 170000, 415000, 500000, 292000, 525000, 1251000, 850000, 560000, 135000, 100000, 310000, 425000, 800000, 430000, 480000, 630000, 225000, 420000, 625000, 730000, 220000, 455000, 535000, 500000, 320000, 330000, 509999, 750000, 1000000, 660000, 1700000, 210000, 305000, 409999, 800000, 800000, 600000, 550000, 934000, 300000, 360000, 400000, 55000, 600000, 310000, 75000, 740000, 725000, 120000, 690000, 150000, 520000, 790000, 330000, 275000, 550000, 300000, 170000, 310000, 240000, 170000, 625000, 509999, 65000, 475000, 615000, 350000, 750000, 650000, 503000, 340000, 480000, 530000, 450000, 350000, 525000, 800000, 170000, 720000, 850000, 700000, 300000, 185000, 1350000, 100000, 600000, 360000, 380000, 350000, 560000, 250000, 400000, 850000, 250000, 280000, 400000, 135000, 590000, 700000, 459999, 150000, 300000, 550000, 525000, 640000, 600000, 750000, 450000, 110000, 400000, 270000, 925000, 160000, 180000, 1400000, 650000, 1100000, 800000, 1025000, 450000, 275000, 503000, 140000, 375000, 500000, 950000, 700000, 150000, 550000, 470000, 300000, 1550000, 755000, 400000, 750000, 610000, 1250000, 875000, 246000, 246000, 180000, 72000, 290000, 150000, 562000, 750000, 300000, 120000, 320000, 260000, 975000, 450000, 825000, 660000, 500000, 1500000, 400000, 250000, 900000, 220000, 450000, 275000, 45000, 700000, 229999, 670000, 1525000, 680000, 750000, 694000, 1500000, 400000, 330000, 320000, 1625000, 300000, 495000, 675000, 530000, 725000, 650000, 300000, 54000, 600000, 225000, 150000, 480000, 250000, 1500000, 550000, 650000, 157000, 575000, 490000, 400000, 412000, 300000, 265000, 500000, 1050000, 434999, 150000, 445000, 925000, 450000, 1150000, 550000, 235000, 850000, 625000, 250000, 550000, 650000, 875000, 45000, 370000, 600000, 795000, 125000, 160000, 75000, 580000, 185000, 484999, 85000, 320000, 55000, 540000, 270000, 125000, 370000, 575000, 114999, 110000, 400000, 800000, 589000, 180000, 350000, 475000, 160000, 270000, 625000, 150000, 434999, 270000, 700000, 150000, 650000, 550000, 801000, 670000, 650000, 620000, 275000, 770000, 580000, 350000, 400000, 575000, 620000, 400000, 220000, 484999, 650000, 315000, 330000, 250000, 503000, 240000, 380000, 541000, 200000, 310000, 150000, 350000, 135000, 245000, 590000, 400000, 750000, 675000, 525000, 500000, 170000, 1250000, 515000, 65000, 325000, 80000, 225000, 56000, 700000, 490000, 1180000, 740000, 88000, 300000, 600000, 300000, 550000, 165000, 270000, 250000, 550000, 700000, 229999, 600000, 130000, 198000, 90000, 92000, 320000, 390000, 150000, 200000, 307000, 819999, 450000, 650000, 144000, 100000, 515000, 720000, 250000, 375000, 440000, 670000, 490000, 420000, 480000, 285000, 285000, 200000, 160000, 520000, 409000, 400000, 550000, 600000, 130000, 245000, 270000, 140000, 475000, 165000, 340000, 235000, 750000, 220000, 450000, 140000, 140000, 395000, 250000, 114999, 325000, 600000, 1000000, 1090000, 1200000, 250000, 430000, 490000, 470000, 600000, 630000, 256000, 900000, 1050000, 650000, 450000, 3000000, 100000, 70000, 300000, 819999, 700000, 325000, 150000, 1000000, 750000, 300000, 570000, 65000, 615000, 400000, 150000, 142000, 375000, 470000, 200000, 1750000, 680000, 440000, 300000, 1165000, 60000, 610000, 375000, 720000, 165000, 450000, 160000, 950000, 270000, 600000, 375000, 561000, 55599, 298000, 400000, 380000, 240000, 380000, 250000, 475000, 509999, 950000, 650000, 250000, 550000, 125000, 1150000, 700000, 450000, 1700000, 500000, 850000, 500000, 165000, 250000, 128000, 1019999, 415000, 245000, 390000, 540000, 465000, 2150000, 375000, 160000, 244000, 1090000, 240000, 345000, 300000, 250000, 200000, 570000, 420000, 225000, 500000, 175000, 1025000, 650000, 105000, 219000, 316000, 450000, 300000, 160000, 220000, 445000, 300000, 65000, 275000, 850000, 475000, 1450000, 110000, 501000, 430000, 125000, 530000, 300000, 180000, 900000, 750000, 650000, 229999, 80000, 80000, 565000, 95000, 350000, 300000, 650000, 850000, 335000, 350000, 965000, 421000, 1100000, 670000, 900000, 240000, 290000, 700000, 160000, 215000, 800000, 700000, 490000, 185000, 45000, 200000, 378000, 440000, 270000, 750000, 380000, 195000, 210000, 950000, 90000, 275000, 210000, 350000, 95000, 900000, 300000, 358000, 750000, 725000, 500000, 229999, 225000, 240000, 740000, 800000, 180000, 150000, 45000, 135000, 600000, 225000, 150000, 600000, 470000, 415000, 339000, 750000, 1200000, 899000, 280000, 500000, 490000, 240000, 235000, 70000, 340000, 450000, 490000, 325000, 710000, 200000, 350000, 350000, 320000, 90000, 220000, 550000, 700000, 625000, 765000, 280000, 950000, 155000, 325000, 730000, 45000, 299000, 720000, 440000, 515000, 300000, 280000, 350000, 600000, 160000, 900000, 570000, 290000, 890000, 65000, 620000, 620000, 500000, 210000, 430000, 793000, 225000, 121000, 110000, 625000, 650000, 300000, 250000, 229999, 130000, 503000, 180000, 525000, 280000, 100000, 300000, 275000, 70000, 600000, 720000, 1200000, 550000, 210000, 512000, 500000, 45000, 400000, 341000, 250000, 625000, 325000, 229999, 380000, 450000, 1380000, 200000, 500000, 229999, 100000, 600000, 750000, 625000, 955000, 150000, 503000, 360000, 149000, 270000, 220000, 450000, 515000, 484999, 180000, 325000, 600000, 290000, 610000, 819999, 535000, 660000, 350000, 210000, 600000, 450000, 370000, 270000, 735000, 270000, 650000, 875000, 575000, 480000, 150000, 210000, 348000, 400000, 869999, 775000, 550000, 800000, 225000, 430000, 480000, 256999, 840000, 90000, 950000, 665000, 254999, 215000, 400000, 225000, 200000, 625000, 500000, 130000, 355000, 650000, 651000, 370000, 229999, 500000, 310000, 287000, 155000, 625000, 620000, 120000, 500000, 200000, 165000, 270000, 660000, 120000, 620000, 160000, 574000, 272000, 200000, 400000, 200000, 700000, 320000, 600000, 340000, 290000, 450000, 300000, 350000, 800000, 385000, 480000, 500000, 300000, 320000, 600000, 520000, 650000, 1475000, 503000, 800000, 650000, 85000, 1225000, 650000, 250000, 700000, 725000, 600000, 470000, 535000, 254999, 500000, 880000, 570000, 490000, 350000, 170000, 320000, 160000, 250000, 265000, 625000, 400000, 81000, 455000, 160000, 550000, 395000, 300000, 370000, 340000, 380000, 600000, 250000, 445000, 509999, 430000, 445000, 550000, 1750000, 320000, 540000, 475000, 975000, 545000, 450000, 366000, 200000, 450000, 950000, 400000, 300000, 280000, 310000, 455000, 520000, 730000, 195000, 700000, 819999, 430000, 600000, 925000, 600000, 235000, 375000, 220000, 250000, 625000, 400000, 445000, 100000, 409999, 185000, 245000, 899000, 650000, 400000, 150000, 599000, 150000, 434999, 170000, 800000, 760000, 950000, 450000, 434999, 565000, 640000, 813000, 190000, 370000, 750000, 250000, 390000, 229999, 280000, 600000, 1050000, 900000, 430000, 650000, 221000, 500000, 280000, 390000, 250000, 300000, 210000, 524000, 275000, 225000, 165000, 525000, 260000, 300000, 404000, 350000, 165000, 345000, 204999, 175000, 550000, 625000, 600000, 350000, 550000, 350000, 350000, 280000, 800000, 335000, 260000, 300000, 290000, 275000, 975000, 695000, 459999, 285000, 190000, 425000, 111000, 400000, 375000, 600000, 426000, 630000, 700000, 395000, 750000, 300000, 730000, 385000, 180000, 850000, 425000, 225000, 650000, 250000, 100000, 320000, 483000, 275000, 409999, 530000, 500000, 100000, 275000, 850000, 450000, 950000, 400000, 320000, 450000, 60000, 625000, 480000, 175000, 600000, 1100000, 110000, 630000, 650000, 2000000, 280000, 800000, 495000, 550000, 220000, 550000, 400000, 380000, 570000, 180000, 625000, 70000, 300000, 187000, 250000, 415000, 225000, 290000, 81000, 950000, 380000, 421000, 600000, 1100000, 300000, 550000, 1200000, 200000, 500000, 110000, 252000, 270000, 450000, 625000, 1200000, 240000, 850000, 450000, 320000, 470000, 360000, 1300000, 190000, 265000, 490000, 240000, 470000, 200000, 120000, 150000, 225000, 631000, 340000, 200000, 325000, 750000, 470000, 200000, 200000, 630000, 150000, 40000, 185000, 110000, 520000, 220000, 130000, 240000, 220000, 570000, 120000, 350000, 425000, 250000, 493000, 515000, 625000, 120000, 160000, 560000, 195000, 625000, 450000, 270000, 650000, 650000, 520000, 430000, 60000, 400000, 1250000, 850000, 450000, 1150000, 860000, 375000, 95000, 550000, 890000, 445000, 450000, 550000, 585000, 725000, 135000, 101000, 135000, 800000, 600000, 650000, 335000, 291000, 500000, 575000, 880000, 270000, 459999, 55000, 420000, 245000, 240000, 600000, 225000, 225000, 695000, 130000, 475000, 220000, 200000, 200000, 585000, 420000, 850000, 1200000, 380000, 260000, 1365000, 250000, 850000, 235000, 1175000, 65000, 60000, 110000, 220000, 100000, 1511000, 300000, 210000, 600000, 600000, 409999, 250000, 70000, 550000, 300000, 100000, 299000, 650000, 550000, 280000, 325000, 600000, 590000, 400000, 600000, 315000, 1000000, 72000, 265000, 625000, 710000, 170000, 1090000, 700000, 350000, 290000, 420000, 600000, 535000, 484999, 630000, 229999, 811000, 260000, 235000, 556000, 484999, 470000, 395000, 450000, 350000, 275000, 615000, 90000, 650000, 819999, 60000, 650000, 575000, 660000, 160000, 558000, 515000, 944999, 570000, 450000, 229999, 670000, 503000, 170000, 550000, 675000, 350000, 470000, 399000, 335000, 545000, 725000, 425000, 450000, 135000, 681000, 150000, 651000, 390000, 280000, 350000, 170000, 550000, 210000, 1350000, 198000, 50000, 110000, 160000, 466000, 750000, 450000, 302000, 90000, 100000, 300000, 150000, 325000, 580000, 800000, 380000, 221000, 650000, 500000, 125000, 830000, 740000, 90000, 575000, 800000, 260000, 265000, 130000, 330000, 600000, 375000, 470000, 500000, 950000, 350000, 380000, 499000, 450000, 46000, 1000000, 434999, 740000, 350000, 220000, 430000, 425000, 175000, 540000, 325000, 650000, 400000, 385000, 430000, 270000, 650000, 1400000, 550000, 370000, 535000, 320000, 700000, 350000, 150000, 700000, 70000, 325000, 114999, 329000, 977000, 160000, 110000, 270000, 300000, 400000, 351000, 110000, 80000, 475000, 500000, 150000, 240000, 140000, 300000, 850000, 175000, 950000, 900000, 520000, 550000, 610000, 440000, 385000, 65000, 680000, 690000, 165000, 95000, 2900000, 320000, 150000, 370000, 780000, 290000, 550000, 450000, 200000, 300000, 500000, 560000, 475000, 760000, 316000, 351000, 220000, 570000, 229999, 900000, 690000, 300000, 360000, 259000, 150000, 750000, 430000, 680000, 270000, 440000, 325000, 245000, 300000, 150000, 725000, 700000, 254999, 190000, 130000, 650000, 320000, 320000, 650000, 770000, 585000, 380000, 675000, 350000, 425000, 455000, 400000, 715000, 900000, 320000, 210000, 169000, 350000, 1000000, 434999, 685000, 118000, 450000, 425000, 388000, 65000, 270000, 245000, 690000, 160000, 178000, 1075000, 560000, 200000, 445000, 515000, 1100000, 300000, 400000, 409999, 142000, 141000, 235000, 700000, 30000, 405000, 250000, 725000, 700000, 585000, 250000, 320000, 425000, 340000, 85000, 650000, 750000, 775000, 300000, 700000, 300000, 160000, 200000, 215000, 300000, 375000, 900000, 503000, 140000, 150000, 550000, 800000, 400000, 700000, 204999, 550000, 300000, 925000, 600000, 275000, 450000, 220000, 450000, 503000, 360000, 270000, 500000, 100000, 666000, 503000, 225000, 112999, 350000, 400000, 1650000, 735000, 125000, 522000, 990000, 380000, 625000, 530000, 190000, 45000, 275000, 430000, 120000, 750000, 252999, 800000, 204999, 320000, 365000, 450000, 600000, 415000, 350000, 350000, 198000, 409999, 650000, 575000, 700000, 400000, 400000, 400000, 325000, 275000, 1110000, 1150000, 290000, 910000, 600000, 200000, 220000, 120000, 690000, 509999, 700000, 350000, 425000, 500000, 185000, 170000, 750000, 625000, 459999, 700000, 325000, 80000, 500000, 475000, 503000, 450000, 600000, 240000, 59259, 261000, 290000, 630000, 600000, 600000, 750000, 400000, 270000, 700000, 500000, 640000, 1000000, 625000, 180000, 189000, 690000, 356000, 488000, 1000000, 800000, 280000, 450000, 720000, 560000, 310000, 330000, 503000, 200000, 350000, 325000, 720000, 1050000, 1800000, 450000, 1250000, 425000, 85000, 540000, 425000, 450000, 300000, 140000, 220000, 530000, 655000, 680000, 250000, 75000, 122000, 350000, 409999, 445000, 1460000, 315000, 408000, 387000, 200000, 450000, 800000, 275000, 1680000, 450000, 1000000, 300000, 1200000, 850000, 565000, 950000, 120000, 335000, 190000, 320000, 225000, 140000, 165000, 532000, 360000, 150000, 625000, 520000, 140000, 320000, 250000, 145000, 515000, 250000, 105000, 160000, 110000, 295000, 130000, 650000, 740000, 190000, 957000, 450000, 375000, 445000, 70000, 409999, 170000, 58000, 320000, 310000, 819999, 93000, 900000, 700000, 1300000, 200000, 250000, 85000, 180000, 434999, 250000, 390000, 225000, 550000, 60000, 158000, 380000, 850000, 1000000, 170000, 760000, 800000, 570000, 156000, 550000, 175000, 300000, 200000, 740000, 330000, 220000, 550000, 550000, 200000, 280000, 330000, 550000, 475000, 130000, 245000, 754000, 229999, 1100000, 315000, 625000, 750000, 409999, 550000, 200000, 869999, 960000, 600000, 834000, 530000, 225000, 315000, 665000, 371000, 465000, 150000, 625000, 180000, 950000, 350000, 780000, 340000, 1600000, 95000, 180000, 730000, 700000, 155000, 350000, 300000, 350000, 150000, 350000, 300000, 450000, 195000, 710000, 470000, 180000, 860000, 160000, 725000, 550000, 330000, 540000, 210000, 210000, 350000, 550000, 655000, 140000, 285000, 200000, 190000, 1500000, 550000, 320000, 950000, 730000, 500000, 229999, 900000, 300000, 400000, 120000, 720000, 250000, 400000, 347000, 579000, 250000, 650000, 590000, 350000, 395000, 1200000, 550000, 100000, 475000, 360000, 451000, 500000, 190000, 120000, 185000, 632000, 550000, 190000, 740000, 511000, 750000, 600000, 764000, 500000, 70000, 190000, 780000, 575000, 720000, 411000, 500000, 850000, 312000, 235000, 480000, 550000, 220000, 1050000, 550000, 690000, 295000, 350000, 797000, 790000, 200000, 780000, 650000, 350000, 275000, 204999, 670000, 135000, 200000, 225000, 650000, 400000, 630000, 458000, 900000, 480000, 550000, 250000, 509999, 300000, 300000, 850000, 130000, 320000, 1450000, 570000, 155000, 950000, 250000, 580000, 160000, 650000, 110000, 600000, 94500, 600000, 470000, 425000, 420000, 300000, 180000, 650000, 210000, 220000, 690000, 484999, 160000, 80000, 400000, 140000, 110000, 265000, 275000, 562000, 100000, 200000, 575000, 229999, 480000, 509999, 350000, 400000, 1000000, 476999, 85000, 290000, 395000, 90000, 114999, 170000, 300000, 740000, 325000, 180000, 300000, 285000, 700000, 118000, 540000, 450000, 503000, 404000, 250000, 450000, 90000, 390000, 950000, 475000, 550000, 530000, 350000, 650000, 700000, 530000, 278000, 570000, 325000, 650000, 132000, 620000, 750000, 380000, 290000, 700000, 229999, 170000, 700000, 570000, 350000, 409999, 225000, 590000, 150000, 1650000, 250000, 440000, 575000, 650000, 220000, 795000, 400000, 310000, 580000, 525000, 450000, 400000, 950000, 150000, 860000, 80000, 1689999, 678000, 225000, 600000, 250000, 340000, 265000, 200000, 610000, 160000, 290000, 180000, 430000, 834000, 330000, 750000, 869999, 310000, 240000, 250000, 45000, 100000, 295000, 675000, 225000, 500000, 1050000, 530000, 500000, 65000, 175000, 620000, 150000, 180000, 400000, 500000, 350000, 345000, 450000, 475000, 250000, 215000, 315000, 120000, 229999, 500000, 100000, 740000, 575000, 320000, 235000, 525000, 300000, 1125000, 500000, 220000, 350000, 459999, 420000, 180000, 300000, 1100000, 690000, 360000, 1050000, 900000, 1500000, 900000, 120000, 725000, 575000, 675000, 241000, 166000, 135000, 1150000, 950000, 136000, 751000, 850000, 300000, 520000, 975000, 150000, 350000, 900000, 720000, 150000, 730000, 120000, 290000, 130000, 850000, 626000, 340000, 100000, 483000, 400000, 400000, 722000, 240000, 730000, 925000, 170000, 670000, 285000, 210000, 530000, 1150000, 1400000, 270000, 220000, 500000, 570000, 750000, 325000, 900000, 850000, 220000, 555000, 250000, 121000, 240000, 580000, 480000, 250000, 120000, 450000, 150000, 775000, 229999, 225000, 280000, 780000, 120000, 700000, 600000, 380000, 130000, 80000, 625000, 450000, 200000, 600000, 90000, 320000, 550000, 800000, 625000, 946000, 70000, 375000, 275000, 610000, 550000, 210000, 275000, 800000, 590000, 650000, 550000, 710000, 149000, 425000, 2950000, 550000, 430000, 179000, 700000, 750000, 190000, 475000, 450000, 320000, 400000, 110000, 750000, 780000, 900000, 386000, 50000, 120000, 455000, 300000, 325000, 800000, 420000, 300000, 470000, 330000, 550000, 450000, 550000, 260000, 500000, 735000, 509999, 362000, 500000, 800000, 300000, 1938000, 685000, 70000, 580000, 200000, 450000, 750000, 240000, 140000, 225000, 200000, 400000, 450000, 190000, 1350000, 231000, 430000, 415000, 242000, 700000, 650000, 150000, 451000, 605000, 275000, 450000, 180000, 245000, 50000, 825000, 750000, 570000, 700000, 81000, 320000, 530000, 1500000, 75000, 1530000, 1050000, 551000, 229999, 95000, 850000, 800000, 290000, 385000, 503000, 155000, 480000, 45000, 800000, 200000, 158000, 391000, 600000, 395000, 180000, 600000, 550000, 150000, 310000, 360000, 300000, 675000, 1100000, 620000, 170000, 780000, 206000, 530000, 450000, 509999, 520000, 450000, 150000, 150000, 250000, 390000, 370000, 370000, 700000, 750000, 35000, 500000, 240000, 620000, 550000, 550000, 70000, 525000, 892000, 295000, 120000, 290000, 350000, 495000, 350000, 280000, 1150000, 710000, 465000, 300000, 750000, 145000, 35000, 300000, 275000, 300000, 409999, 254999, 260000, 499000, 275000, 350000, 500000, 400000, 451000, 700000, 670000, 235000, 420000, 690000, 860000, 200000, 500000, 409999, 150000, 350000, 756000, 45000, 500000, 900000, 330000, 750000, 1132000, 250000, 200000, 140000, 500000, 850000, 750000, 350000, 650000, 200000, 260000, 215000, 430000, 220000, 125000, 229999, 310000, 610000, 262000, 225000, 475000, 204999, 200000, 320000, 550000, 670000, 370000, 860000, 245000, 484999, 600000, 1325000, 45000, 400000, 503000, 320000, 350000, 451999, 950000, 70000, 425000, 459999, 450000, 675000, 900000, 50000, 229999, 635000, 450000, 515000, 240000, 340000, 225000, 250000, 265000, 375000, 525000, 300000, 152000, 645000, 265000, 300000, 65000, 400000, 450000, 65000, 380000, 330000, 1550000, 420000, 600000, 575000, 300000, 450000, 409999, 150000, 140000, 750000, 93000, 625000, 290000, 120000, 350000, 350000, 260000, 240000, 430000, 650000, 875000, 425000, 950000, 540000, 1100000, 390000, 450000, 250000, 375000, 600000, 227999, 950000, 450000, 560000, 1050000, 225000, 150000, 969999, 830000, 240000, 850000, 320000, 740000, 350000, 459999, 650000, 450000, 500000, 300000, 655000, 509999, 890000, 850000, 254999, 700000, 530000, 220000, 525000, 885000, 700000, 260000, 70000, 459999, 225000, 725000, 250000, 215000, 450000, 191000, 120000, 409999, 1050000, 45957, 80000, 1100000, 445000, 700000, 155000, 500000, 160000, 695000, 370000, 260000, 400000, 80000, 145000, 150000, 616000, 600000, 620000, 2125000, 275000, 190000, 800000, 275000, 90000, 195000, 1050000, 195000, 775000, 120000, 550000, 160000, 45000, 600000, 610000, 392000, 1100000, 295000, 780000, 88000, 185000, 650000, 775000, 625000, 375000, 480000, 150000, 340000, 320000, 280000, 409999, 350000, 434999, 573000, 240000, 70000, 425000, 1200000, 650000, 615000, 160000, 869999, 254999, 395000, 400000, 1149000, 229999, 85000, 210000, 42000, 850000, 170000, 475000, 500000, 490000, 75000, 60000, 755000, 185000, 480000, 375000, 65000, 757000, 430000, 635000, 800000, 114999, 248000, 114999, 250000, 111000, 600000, 1300000, 750000, 500000, 385000, 350000, 180000, 660000, 325000, 650000, 803999, 190000, 190000, 575000, 640000, 555000, 500000, 540000, 369000, 565000, 150000, 450000, 120000, 250000, 350000, 450000, 445000, 725000, 640000, 380000, 650000, 580000, 459999, 650000, 450000, 310000, 250000, 432000, 180000, 425000, 775000, 710000, 455000, 120000, 450000, 459999, 190000, 589000, 450000, 484999, 1200000, 626000, 415000, 550000, 730000, 500000, 925000, 170000, 484999, 600000, 805000, 265000, 450000, 650000, 725000, 900000, 600000, 290000, 150000, 350000, 125000, 200000, 450000, 220000, 560000, 750000, 620000, 250000, 720000, 100000, 90000, 98000, 420000, 1030000, 260000, 320000, 900000, 600000, 285000, 285000, 650000, 600000, 425000, 360000, 520000, 210000, 229999, 509999, 595000, 925000, 1150000, 570000, 1465000, 900000, 310000, 750000, 210000, 400000, 525000, 600000, 555000, 246000, 110000, 360000, 1400000, 385000, 215000, 850000, 630000, 409999, 1050000, 275000, 440000, 200000, 509999, 382000, 350000, 55000, 650000, 130000, 295000, 350000, 450000, 1220000, 550000, 1400000, 560000, 1594000, 350000, 490000, 950000, 250000, 910000, 1515000, 250000, 610000, 390000, 595000, 250000, 120000, 380000, 160000, 240000, 465000, 1650000, 525000, 200000, 530000, 370000, 433000, 31504, 500000, 325000, 1050000, 375000, 650000, 200000, 280000, 600000, 711000, 40000, 300000, 560000, 200000, 550000, 390000, 480000, 570000, 671000, 730000, 250000, 900000, 145000, 220000, 300000, 270000, 450000, 200000, 525000, 150000, 430000, 585000, 290000, 1550000, 68000, 630000, 300000, 300000, 235000, 500000, 125000, 100000, 200000, 600000, 660000, 170000, 700000, 490000, 1700000, 800000, 650000, 200000, 240000, 240000, 940000, 330000, 811000, 300000, 700000, 215000, 500000, 310000, 250000, 55000, 100000, 525000, 585000, 110000, 810000, 699000, 210000, 540000, 550000, 210000, 400000, 590000, 678000, 490000, 350000, 200000, 200000, 550000, 500000, 550000, 1325000, 520000, 560000, 535000, 150000, 459999, 175000, 800000, 395000, 800000, 240000, 430000, 350000, 625000, 800000, 990000, 503000, 180000, 950000, 500000, 700000, 550000, 420000, 450000, 600000, 550000, 415000, 520000, 170000, 700000, 270000, 305000, 320000, 85000, 310000, 480000, 290000, 175000, 150000, 150000, 196000, 445000, 200000, 375000, 282000, 530000, 90177, 80000, 370000, 503000, 180000, 195000, 200000, 220000, 350000, 191000, 350000, 337000, 310000, 250000, 300000, 500000, 1000000, 380000, 229999, 450000, 335000, 487000, 889000, 700000, 160000, 275000, 200000, 775000, 204999, 700000, 395000, 300000, 530000, 428000, 210000, 610000, 250000, 225000, 390000, 595000, 850000, 360000, 225000, 620000, 390000, 185000, 50000, 220000, 236000, 1850000, 599000, 1040000, 400000, 675000, 900000, 185000, 775000, 409999, 830000, 313000, 300000, 700000, 250000, 978999, 450000, 600000, 240000, 370000, 550000, 360000, 275000, 570000, 495000, 300000, 999000, 745000, 200000, 535000, 340000, 325000, 735000, 800000, 120000, 950000, 355000, 190000, 750000, 160000, 560000, 110000, 1680000, 465000, 375000, 600000, 105000, 600000, 395000, 225000, 570000, 125000, 600000, 83000, 380000, 400000, 280000, 700000, 565000, 775000, 250000, 225000, 540000, 509999, 105000, 500000, 525000, 225000, 200000, 500000, 380000, 1200000, 950000, 250000, 425000, 670000, 425000, 250000, 650000, 680000, 320000, 275000, 1650000, 700000, 475000, 900000, 315000, 1385000, 550000, 700000, 600000, 375000, 200000, 80000, 190000, 750000, 360000, 129000, 465000, 950000, 421000, 360000, 525000, 550000, 340000, 180000, 800000, 1250000, 400000, 509999, 229999, 900000, 625000, 65000, 206000, 300000, 475000, 900000, 187000, 495000, 140000, 345000, 275000, 160000, 800000, 320000, 175000, 155000, 503000, 270000, 65000, 130000, 300000, 600000, 530000, 300000, 1675000, 1200000, 551000, 790000, 540000, 199000, 550000, 910000, 459999, 550000, 200000, 550000, 260000, 1000000, 235000, 670000, 745000, 390000, 150000, 300000, 135000, 620000, 875000, 280000, 350000, 350000, 550000, 108000, 170000, 675000, 300000, 145000, 550000, 250000, 590000, 545000, 500000, 300000, 450000, 850000, 135000, 270000, 750000, 135000, 950000, 850000, 450000, 120000, 675000, 120000, 400000, 375000, 351000, 780000, 500000, 800000, 1550000, 254999, 950000, 550000, 850000, 590000, 40000, 775000, 625000, 509999, 270000, 150000, 150000, 165000, 250000, 425000, 649000, 950000, 155000, 355000, 360000, 750000, 700000, 180000, 170000, 50000, 270000, 500000, 300000, 150000, 120000, 975000, 114999, 950000, 170000, 620000, 580000, 120000, 229999, 175000, 800000, 215000, 600000, 580000, 750000, 434999, 165000, 210000, 220000, 725000, 800000, 390000, 235000, 250000, 185000, 540000, 200000, 350000, 350000, 630000, 305000, 270000, 300000, 500000, 425000, 64000, 370000, 155000, 300000, 60000, 700000, 700000, 400000, 434999, 380000, 359000, 250000, 370000, 350000, 225000, 577000, 260000, 100000, 200000, 245000, 328000, 165000, 975000, 305000, 140000, 585000, 225000, 459999, 310000, 580000, 425000, 250000, 450000, 65000, 450000, 400000, 511000, 350000, 142000, 220000, 150000, 30000, 140000, 780000, 250000, 100000, 165000, 270000, 810000, 350000, 372000, 250000, 311000, 450000, 238000, 130000, 75000, 700000, 1225000, 830000, 290000, 120000, 611000, 351000, 300000, 285000, 300000, 540000, 150000, 190000, 1575000, 570000, 220000, 150000, 540000, 330000, 335000, 250000, 245000, 500000, 215000, 900000, 890000, 165000, 416000, 600000, 375000, 400000, 340000, 600000, 265000, 890000, 310000, 550000, 500000, 575000, 800000, 822000, 535000, 600000, 320000, 200000, 220000, 710000, 280000, 105000, 550000, 1675000, 850000, 585000, 516000, 655000, 175000, 150000, 370000, 525000, 250000, 150000, 325000, 950000, 210000, 300000, 150000, 725000, 740000, 470000, 345000, 449000, 150000, 850000, 1180000, 800000, 600000, 350000, 275000, 390000, 200000, 675000, 250000, 490000, 320000, 125000, 750000, 650000, 150000, 150000, 450000, 800000, 150000, 320000, 57000, 150000, 540000, 245000, 350000, 600000, 270000, 130000, 280000, 710000, 780000, 400000, 445000, 480000, 950000, 350000, 65000, 200000, 520000, 130000, 90000, 400000, 225000, 45000, 700000, 325000, 300000, 250000, 440000, 100000, 741000, 215000, 625000, 150000, 645000, 560000, 600000, 811000, 200000, 680000, 200000, 611000, 200000, 1670000, 780000, 160000, 500000, 700000, 140000, 1225000, 290000, 90000, 220000, 365000, 220000, 260000, 375000, 578000, 352000, 50000, 565000, 520000, 300000, 40000, 400000, 300000, 500000, 740000, 451999, 740000, 305000, 340000, 450000, 300000, 320000, 450000, 40000, 1000000, 335000, 525000, 440000, 300000, 310000, 385000, 500000, 600000, 350000, 380000, 819999, 625000, 160000, 135000, 459999, 350000, 350000, 550000, 187000, 300000, 900000, 320000, 300000, 750000, 160000, 380000, 600000, 50000, 725000, 650000, 277000, 100000, 610000, 850000, 910000, 550000, 1100000, 320000, 700000, 130000, 472000, 350000, 675000, 1630000, 60000, 500000, 480000, 660000, 260000, 525000, 503000, 730000, 335000, 260000, 535000, 250000, 260000, 450000, 750000, 625000, 345000, 330000, 525000, 825000, 200000, 700000, 300000, 321000, 140000, 1250000, 500000, 340000, 1000000, 100000, 225000, 750000, 330000, 550000, 145000, 300000, 550000, 425000, 220000, 350000, 405000, 750000, 500000, 625000, 75000, 432000, 125000, 310000, 295000, 500000, 825000, 70000, 700000, 1210000, 560000, 600000, 320000, 245000, 221000, 250000, 33351, 500000, 450000, 450000, 325000, 260000, 240000, 750000, 260000, 670000, 155000, 969999, 675000, 700000, 630000, 459999, 400000, 755000, 620000, 700000, 625000, 200000, 570000, 390000, 110000, 680000, 320000, 350000, 670000, 401000, 445000, 235000, 1050000, 150000, 391000, 280000, 750000, 950000, 220000, 300000, 645000, 210000, 315000, 850000, 250000, 880000, 700000, 600000, 129000, 750000, 172000, 500000, 45000, 2000000, 1300000, 390000, 600000, 395000, 90000, 550000, 150000, 425000, 550000, 550000, 450000, 119000, 140000, 850000, 950000, 190000, 200000, 300000, 250000, 760000, 152000, 235000, 350000, 190000, 800000, 295000, 459999, 780000, 999000, 880000, 597000, 450000, 300000, 160000, 750000, 329000, 267000, 1050000, 720000, 100000, 420000, 625000, 148000, 100000, 550000, 610000, 260000, 1151000, 450000, 110000, 285000, 690000, 200000, 285000, 200000, 420000, 525000, 55000, 340000, 400000, 550000, 175000, 800000, 480000, 740000, 315000, 509999, 135000, 675000, 140000, 270000, 70000, 250000, 455999, 650000, 580000, 260000, 445000, 300000, 900000, 200000, 335000, 525000, 525000, 403000, 590000, 350000, 750000, 630000, 450000, 200000, 250000, 650000, 1000000, 225000, 80000, 625000, 400000, 250000, 550000, 254999, 300000, 640000, 500000, 300000, 500000, 350000, 370000, 1030000, 200000, 409999, 285000, 450000, 465000, 380000, 500000, 210000, 310000, 80000, 370000, 660000, 400000, 300000, 680000, 225000, 350000, 300000, 500000, 690000, 360000, 220000, 225000, 600000, 440000, 225000, 720000, 440000, 250000, 400000, 1100000, 350000, 350000, 300000, 135000, 120000, 210000, 100000, 420000, 1250000, 215000, 260000, 760000, 530000, 480000, 550000, 350000, 425000, 220000, 220000, 350000, 105000, 100000, 95000, 600000, 370000, 215000, 680000, 1050000, 500000, 1325000, 200000, 210000, 95000, 950000, 175000, 860000, 409999, 350000, 600000, 515000, 486000, 400000, 345000, 509999, 395000, 500000, 500000, 250000, 145000, 700000, 484999, 550000, 308000, 550000, 170000, 455000, 600000, 600000, 250000, 300000, 200000, 500000, 409999, 325000, 700000, 180000, 290000, 730000, 400000, 150000, 350000, 130000, 240000, 750000, 405000, 775000, 500000, 550000, 650000, 400000, 850000, 350000, 254999, 550000, 660000, 185000, 215000, 150000, 755000, 275000, 320000, 750000, 250000, 850000, 250000, 800000, 300000, 590000, 140000, 500000, 320000, 310000, 974000, 350000, 910000, 80500, 215000, 545000, 380000, 235000, 360000, 229999, 430000, 300000, 330000, 520000, 300000, 643000, 459999, 570000, 429000, 420000, 1000000, 1400000, 70000, 130000, 150000, 350000, 911000, 160000, 280000, 1325000, 450000, 350000, 325000, 350000, 950000, 380000, 775000, 750000, 475000, 465000, 459999, 800000, 575000, 350000, 50000, 409999, 665000, 960000, 245000, 550000, 346000, 650000, 1500000, 650000, 120000, 434999, 780000, 280000, 300000, 660000, 250000, 711000, 100000, 350000, 800000, 600000, 68000, 250000, 520000, 140000, 220000, 310000, 150000, 445000, 225000, 300000, 415000, 650000, 773000, 805000, 295000, 250000, 484999, 700000, 240000, 700000, 220000, 160000, 1576000, 700000, 320000, 600000, 630000, 50000, 600000, 1000000, 246000, 400000, 325000, 655000, 150000, 280000, 600000, 215000, 515000, 450000, 150000, 170000, 215000, 503000, 400000, 1265000, 335000, 400000, 540000, 525000, 425000, 482000, 300000, 180000, 375000, 650000, 555000, 285000, 170000, 530000, 700000, 325000, 600000, 480000, 295000, 199000, 229999, 290000, 360000, 980000, 254999, 80000, 130000, 545000, 280000, 415000, 1575000, 250000, 500000, 310000, 500000, 200000, 700000, 300000, 700000, 600000, 330000, 280000, 570000, 130000, 340000, 509999, 600000, 425000, 130000, 35000, 555000, 525000, 550000, 300000, 310000, 150000, 50000, 350000, 749000, 150000, 310000, 375000, 700000, 795000, 550000, 819999, 330000, 180000, 300000, 535000, 690000, 530000, 425000, 459999, 316000, 764000, 400000, 1000000, 40000, 459999, 550000, 400000, 250000, 500000, 550000, 420000, 600000, 180000, 300000, 165000, 400000, 265000, 690000, 350000, 150000, 399000, 600000, 300000, 620000, 350000, 571000, 409999, 330000, 350000, 800000, 450000, 1405000, 770000, 190000, 221000, 295000, 450000, 310000, 40000, 780000, 350000, 950000, 225000, 310000, 420000, 40000, 620000, 295000, 280000, 1050000, 275000, 750000, 800000, 1145000, 499000, 350000, 1050000, 700000, 700000, 450000, 340000, 484999, 35000, 550000, 229999, 315000, 270000, 215000, 780000, 225000, 450000, 390000, 725000, 550000, 125000, 245000, 700000, 212000, 925000, 155000, 350000, 415000, 350000, 170000, 270000, 229999, 85000, 175000, 503000, 250000, 526000, 270000, 280000, 175000, 589000, 185000, 110000, 1575000, 70000, 450000, 220000, 300000, 346000, 525000, 430000, 550000, 919999, 180000, 425000, 310000, 480000, 480000, 240000, 611000, 420000, 250000, 680000, 450000, 227999, 445000, 96000, 150000, 280000, 850000, 850000, 320000, 360000, 200000, 345000, 270000, 745000, 425000, 1150000, 754000, 110000, 1380000, 170000, 55000, 360000, 550000, 220000, 120000, 200000, 300000, 650000, 204999, 340000, 290000, 1035000, 310000, 290000, 300000, 441000, 415000, 75000, 114999, 160000, 190000, 595000, 225000, 275000, 730000, 130000, 210000, 503000, 85000, 250999, 220000, 190000, 340000, 210000, 780000, 200000, 450000, 600000, 310000, 130000, 715000, 550000, 360000, 409999, 550000, 370000, 370000, 235000, 740000, 180000, 150000, 70000, 409999, 240000, 225000, 1100000, 198000, 500000, 770000, 750000, 85000, 675000, 650000, 310000, 142000, 265000, 1525000, 350000, 200000, 550000, 90000, 630000, 730000, 459999, 350000, 130000, 525000, 390000, 270000, 220000, 750000, 221000, 625000, 60000, 70000, 140000, 470000, 250000, 830000, 340000, 459999, 275000, 200000, 459999, 1350000, 425000, 900000, 180000, 210000, 250000, 180000, 600000, 425000, 265000, 225000, 150000, 300000, 470000, 2150000, 200000, 800000, 380000, 535000, 250000, 660000, 740000, 550000, 229999, 800000, 570000, 430000, 650000, 750000, 850000, 250000, 250000, 360000, 340000, 135000, 190000, 500000, 450000, 1575000, 110000, 1050000, 335000, 400000, 1019999, 802999, 200000, 610000, 300000, 600000, 225000, 55000, 1350000, 130000, 400000, 390000, 450000, 550000, 1100000, 280000, 819999, 570000, 325000, 925000, 320000, 700000, 300000, 675000, 290000, 100000, 165000, 810000, 150000, 300000, 869999, 390000, 350000, 375000, 545000, 395000, 730000, 285000, 250000, 110000, 190000, 260000, 409999, 550000, 184000, 65000, 610000, 700000, 105000, 600000, 720000, 100000, 620000, 60000, 220000, 1250000, 229999, 185000, 375000, 605000, 170000, 1475000, 500000, 300000, 180000, 690000, 300000, 45000, 300000, 250000, 750000, 350000, 503000, 850000, 484999, 350000, 194000, 550000, 620000, 509999, 434999, 350000, 560000, 730000, 450000, 160000, 650000, 200000, 635000, 350000, 110000, 600000, 335000, 480000, 2125000, 869999, 80000, 225000, 515000, 660000, 1200000, 480000, 120000, 479000, 360000, 1000000, 175000, 180000, 260000, 810000, 650000, 980000, 175000, 750000, 120000, 380000, 55000, 250000, 350000, 300000, 800000, 350000, 200000, 300000, 145000, 1075000, 500000, 45957, 380000, 320000, 735000, 200000, 325000, 610000, 90000, 300000, 400000, 200000, 500000, 885000, 480000, 680000, 880000, 350000, 160000, 484999, 1000000, 170000, 285000, 1400000, 524000, 450000, 490000, 693000, 750000, 390000, 40000, 200000, 500000, 225000, 200000, 260000, 630000, 1800000, 150000, 1000000, 780000, 625000, 350000, 290000, 750000, 610000, 100000, 850000, 650000, 75000, 605000, 450000, 560000, 610000, 90000, 1490000, 100000, 90000, 650000, 475000, 600000, 725000, 550000, 250000, 500000, 625000, 275000, 310000, 671000, 280000, 420000, 250000, 415000, 600000, 200000, 520000, 270000, 215000, 395000, 850000, 675000, 680000, 80000, 450000, 240000, 400000, 60000, 55000, 1350000, 120000, 800000, 351000, 42000, 300000, 465000, 200000, 575000, 52000, 400000, 450000, 330000, 200000, 700000, 310000, 120000, 450000, 550000, 825000, 380000, 445000, 575000, 630000, 1200000, 245000, 680000, 190000, 600000, 280000, 630000, 310000, 300000, 950000, 65000, 750000, 539000, 700000, 500000, 280000, 850000, 470000, 350000, 148000, 160000, 270000, 1350000, 450000, 400000, 350000, 684000, 765000, 655000, 650000, 140000, 650000, 370000, 335000, 290000, 480000, 204999, 1405000, 640000, 295000, 229999, 235000, 275000, 250000, 475000, 150000, 580000, 550000, 250000, 200000, 640000, 250000, 500000, 130000, 310000, 625000, 310000, 575000, 90000, 950000, 325000, 180000, 300000, 400000, 350000, 114999, 300000, 1200000, 800000, 800000, 240000, 385000, 370000, 105000, 495000, 450000, 445000, 470000, 525000, 875000, 330000, 409999, 700000, 550000, 440000, 650000, 100000, 645000, 80000, 225000, 340000, 325000, 425000, 210000, 120000, 415000, 260000, 590000, 469000, 500000, 570000, 550000, 175000, 475000, 500000, 375000, 200000, 511000, 95000, 200000, 700000, 320000, 1525000, 300000, 459999, 640000, 600000, 70000, 370000, 1100000, 795000, 350000, 440000, 200000, 365000, 430000, 750000, 275000, 470000, 328000, 500000, 425000, 300000, 560000, 229999, 500000, 1650000, 900000, 250000, 225000, 240000, 500000, 450000, 465000, 600000, 480000, 85000, 340000, 200000, 495000, 1050000, 425000, 750000, 515000, 681000, 530000, 700000, 200000, 120000, 290000, 120000, 1250000, 710000, 650000, 700000, 225000, 650000, 630000, 1000000, 380000, 475000, 844999, 180000, 600000, 120000, 300000, 350000, 600000, 365000, 210000, 229999, 310000, 180000, 630000, 325000, 96000, 340000, 500000, 750000, 185000, 375000, 225000, 630000, 545000, 250000, 160000, 715000, 300000, 450000, 700000, 740000, 132000, 750000, 262000, 550000, 200000, 140000, 525000, 620000, 600000, 890000, 750000, 240000, 550000, 470000, 434999, 1200000, 160000, 200000, 455999, 200000, 300000, 900000, 300000, 400000, 120000, 975000, 170000, 1000000, 325000, 835000, 170000, 270000, 200000, 380000, 550000, 180000, 710000, 250000, 140000, 650000, 300000, 580000, 250999, 455000, 350000, 591000, 625000, 550000, 221000, 375000, 160000, 180000, 370000, 800000, 50000, 200000, 280000, 295000, 869999, 495000, 360000, 95000, 40000, 450000, 400000, 459999, 325000, 250000, 540000, 350000, 450000, 750000, 650000, 450000, 400000, 350000, 225000, 160000, 399000, 375000, 711000, 265000, 509999, 180000, 670000, 370000, 415000, 750000, 300000, 330000, 455000, 124000, 525000, 700000, 480000, 528000, 200000, 579000, 500000, 250000, 340000, 650000, 195000, 325000, 450000, 170000, 750000, 503000, 300000, 500000, 576000, 175000, 500000, 800000, 65000, 175000, 455000, 570000, 200000, 650000, 480000, 700000, 1100000, 200000, 650000, 350000, 380000, 600000, 925000, 651000, 550000, 270000, 375000, 246000, 550000, 250000, 475000, 160000, 60000, 725000, 235000, 390000, 450000, 250000, 550000], \"yaxis\": \"y\"}, {\"alignmentgroup\": \"True\", \"hoverlabel\": {\"namelength\": 0}, \"hovertemplate\": \"transmission=Manual<br>engine=%{x}\", \"legendgroup\": \"transmission=Manual\", \"marker\": {\"color\": \"#1F77B4\", \"symbol\": \"circle\"}, \"name\": \"transmission=Manual\", \"notched\": true, \"offsetgroup\": \"transmission=Manual\", \"showlegend\": false, \"type\": \"box\", \"x\": [1497.0, 1396.0, 1591.0, 1248.0, 1197.0, 814.0, 1461.0, 1197.0, 1199.0, 1248.0, 1197.0, 1464.471404109589, 1498.0, 1197.0, 814.0, 1248.0, 1493.0, 1248.0, 1150.0, 1248.0, 1248.0, 1193.0, 1373.0, 1199.0, 2179.0, 2179.0, 2523.0, 1248.0, 1598.0, 2523.0, 1496.0, 1197.0, 1248.0, 1498.0, 1399.0, 2609.0, 936.0, 1341.0, 2179.0, 1591.0, 1461.0, 1298.0, 1197.0, 1248.0, 1461.0, 2489.0, 1498.0, 2523.0, 1498.0, 1248.0, 998.0, 1582.0, 2523.0, 2179.0, 2499.0, 1248.0, 1586.0, 1396.0, 1396.0, 1047.0, 998.0, 998.0, 2494.0, 1197.0, 1341.0, 799.0, 1461.0, 1497.0, 1896.0, 2982.0, 1498.0, 796.0, 796.0, 1493.0, 1248.0, 998.0, 1248.0, 1956.0, 1493.0, 1248.0, 1197.0, 2523.0, 2494.0, 2179.0, 796.0, 1596.0, 796.0, 1798.0, 2179.0, 1464.471404109589, 796.0, 814.0, 1248.0, 1399.0, 1464.471404109589, 998.0, 1497.0, 1197.0, 1248.0, 1396.0, 2494.0, 1582.0, 1197.0, 1248.0, 796.0, 1498.0, 796.0, 624.0, 1199.0, 1497.0, 1248.0, 1498.0, 2523.0, 1193.0, 1248.0, 2499.0, 1493.0, 1198.0, 1198.0, 909.0, 1464.471404109589, 796.0, 1248.0, 1197.0, 1198.0, 2494.0, 1086.0, 1464.471404109589, 1248.0, 1197.0, 814.0, 1994.0, 1199.0, 1399.0, 2499.0, 796.0, 1396.0, 1248.0, 1497.0, 1193.0, 1373.0, 814.0, 796.0, 1248.0, 796.0, 2956.0, 1061.0, 2498.0, 2494.0, 1196.0, 796.0, 799.0, 1248.0, 2523.0, 814.0, 1498.0, 1193.0, 1498.0, 796.0, 1493.0, 1498.0, 1248.0, 1198.0, 1086.0, 1461.0, 624.0, 1399.0, 1248.0, 799.0, 1248.0, 999.0, 1405.0, 1197.0, 1197.0, 1248.0, 799.0, 1364.0, 796.0, 1598.0, 1497.0, 999.0, 998.0, 1197.0, 1496.0, 998.0, 1197.0, 1591.0, 1248.0, 1197.0, 1248.0, 1794.0, 1198.0, 1396.0, 1248.0, 1388.0, 1086.0, 1464.471404109589, 1193.0, 1396.0, 1248.0, 1405.0, 1248.0, 2494.0, 1498.0, 1186.0, 1464.471404109589, 1248.0, 1498.0, 796.0, 1461.0, 796.0, 1493.0, 1497.0, 1248.0, 1061.0, 1396.0, 1248.0, 1396.0, 799.0, 2494.0, 1995.0, 1388.0, 1198.0, 998.0, 1464.471404109589, 1199.0, 814.0, 624.0, 1197.0, 1197.0, 1298.0, 2494.0, 998.0, 1464.471404109589, 1199.0, 1997.0, 1198.0, 1498.0, 1396.0, 1248.0, 1464.471404109589, 998.0, 1396.0, 1368.0, 1461.0, 998.0, 1120.0, 1248.0, 796.0, 1248.0, 1399.0, 2523.0, 1498.0, 998.0, 796.0, 1248.0, 2393.0, 1248.0, 1197.0, 1248.0, 2523.0, 1197.0, 1199.0, 1086.0, 1248.0, 2523.0, 1197.0, 796.0, 1248.0, 814.0, 1956.0, 796.0, 1061.0, 1396.0, 2179.0, 2179.0, 2523.0, 2523.0, 796.0, 1199.0, 814.0, 1248.0, 1597.0, 1197.0, 2179.0, 1248.0, 1464.471404109589, 1197.0, 1198.0, 1199.0, 1248.0, 1061.0, 799.0, 1248.0, 2523.0, 998.0, 2499.0, 1405.0, 1248.0, 2494.0, 1498.0, 1248.0, 1197.0, 1197.0, 1061.0, 1086.0, 1396.0, 1373.0, 1582.0, 1248.0, 1498.0, 998.0, 1197.0, 1464.471404109589, 2523.0, 1461.0, 1364.0, 993.0, 814.0, 1396.0, 1248.0, 796.0, 1461.0, 1248.0, 1248.0, 1364.0, 1248.0, 1198.0, 1498.0, 814.0, 1086.0, 1120.0, 1405.0, 1197.0, 1399.0, 993.0, 2179.0, 1197.0, 1498.0, 1498.0, 1248.0, 2494.0, 1248.0, 2499.0, 1396.0, 1464.471404109589, 1396.0, 1498.0, 796.0, 1991.0, 1248.0, 1197.0, 1086.0, 1364.0, 1388.0, 1197.0, 1496.0, 1991.0, 2231.0, 998.0, 1086.0, 1493.0, 1199.0, 1197.0, 998.0, 1248.0, 993.0, 2179.0, 1199.0, 2494.0, 1248.0, 796.0, 1198.0, 1461.0, 1498.0, 796.0, 2494.0, 1199.0, 1582.0, 1086.0, 796.0, 2499.0, 998.0, 1198.0, 1496.0, 998.0, 1598.0, 1497.0, 1396.0, 1196.0, 995.0, 1197.0, 796.0, 995.0, 1497.0, 2179.0, 1196.0, 1186.0, 1248.0, 1248.0, 1047.0, 998.0, 1498.0, 2489.0, 1396.0, 2179.0, 998.0, 1498.0, 1396.0, 993.0, 1198.0, 1896.0, 1248.0, 1199.0, 1197.0, 2956.0, 1498.0, 1495.0, 1197.0, 1197.0, 1120.0, 1497.0, 1150.0, 1399.0, 2393.0, 1197.0, 1405.0, 624.0, 1197.0, 1498.0, 2609.0, 1582.0, 1498.0, 1493.0, 1497.0, 1186.0, 1248.0, 2494.0, 796.0, 814.0, 1598.0, 1498.0, 1197.0, 814.0, 799.0, 814.0, 1298.0, 796.0, 2523.0, 998.0, 796.0, 1248.0, 1086.0, 796.0, 2489.0, 1248.0, 796.0, 1582.0, 1461.0, 796.0, 1582.0, 796.0, 1248.0, 1248.0, 1198.0, 1248.0, 1493.0, 1248.0, 998.0, 1248.0, 1198.0, 1493.0, 1248.0, 2494.0, 1399.0, 1248.0, 1248.0, 1464.471404109589, 1461.0, 2179.0, 1493.0, 1498.0, 998.0, 999.0, 1197.0, 2499.0, 998.0, 998.0, 1464.471404109589, 1186.0, 1248.0, 1198.0, 1197.0, 1582.0, 1086.0, 2393.0, 1199.0, 1498.0, 1197.0, 998.0, 1248.0, 1198.0, 1197.0, 1582.0, 1498.0, 1493.0, 1248.0, 1193.0, 1198.0, 796.0, 1948.0, 1248.0, 1496.0, 1197.0, 1493.0, 1248.0, 1198.0, 2523.0, 1461.0, 1498.0, 1396.0, 1396.0, 1196.0, 1197.0, 1464.471404109589, 1248.0, 1461.0, 1399.0, 936.0, 1248.0, 1461.0, 998.0, 1248.0, 2179.0, 799.0, 814.0, 1198.0, 1464.471404109589, 1248.0, 1248.0, 796.0, 2498.0, 1186.0, 2354.0, 2179.0, 2498.0, 2494.0, 1498.0, 1582.0, 1498.0, 998.0, 1405.0, 1498.0, 2179.0, 1198.0, 796.0, 1248.0, 1197.0, 1464.471404109589, 1464.471404109589, 1991.0, 2523.0, 1399.0, 1248.0, 2179.0, 1462.0, 1497.0, 1086.0, 796.0, 998.0, 1498.0, 1248.0, 2179.0, 1461.0, 1493.0, 998.0, 999.0, 1197.0, 1582.0, 1461.0, 1248.0, 1396.0, 1493.0, 1248.0, 998.0, 1248.0, 1248.0, 2494.0, 1248.0, 1956.0, 1405.0, 1248.0, 1248.0, 1248.0, 1396.0, 1498.0, 1461.0, 1498.0, 1399.0, 1582.0, 1461.0, 796.0, 1461.0, 1399.0, 796.0, 1248.0, 1497.0, 1086.0, 1198.0, 2498.0, 1197.0, 1248.0, 1198.0, 1248.0, 1197.0, 799.0, 1248.0, 799.0, 999.0, 1497.0, 1496.0, 2499.0, 796.0, 1461.0, 1248.0, 998.0, 2494.0, 2499.0, 2179.0, 1493.0, 1197.0, 2494.0, 1196.0, 1461.0, 1197.0, 2494.0, 814.0, 1248.0, 1396.0, 1591.0, 998.0, 1493.0, 1498.0, 1597.0, 1461.0, 1248.0, 998.0, 1598.0, 999.0, 796.0, 1399.0, 1498.0, 1086.0, 1248.0, 1248.0, 998.0, 1582.0, 1197.0, 1248.0, 796.0, 2179.0, 1498.0, 1364.0, 1248.0, 1248.0, 2179.0, 1248.0, 1396.0, 1599.0, 999.0, 1248.0, 1196.0, 814.0, 1997.0, 1498.0, 2179.0, 1248.0, 1248.0, 1248.0, 796.0, 2179.0, 1399.0, 1120.0, 1396.0, 1498.0, 1498.0, 1405.0, 1120.0, 1248.0, 1598.0, 1956.0, 1248.0, 1582.0, 1248.0, 1199.0, 1498.0, 1498.0, 998.0, 1396.0, 936.0, 995.0, 1396.0, 1368.0, 1197.0, 1493.0, 998.0, 1299.0, 1599.0, 1461.0, 2179.0, 1405.0, 1396.0, 1493.0, 2359.0, 2982.0, 1464.471404109589, 998.0, 1461.0, 1464.471404109589, 1197.0, 1086.0, 796.0, 1186.0, 1086.0, 1498.0, 2179.0, 1248.0, 1248.0, 1248.0, 2179.0, 1461.0, 1598.0, 998.0, 2179.0, 998.0, 1248.0, 1248.0, 1461.0, 1497.0, 2523.0, 1199.0, 796.0, 1493.0, 1399.0, 1396.0, 1461.0, 998.0, 2755.0, 2523.0, 2179.0, 796.0, 1248.0, 2179.0, 998.0, 1197.0, 1248.0, 1248.0, 1197.0, 2200.0, 1086.0, 998.0, 1197.0, 1497.0, 1582.0, 1582.0, 1199.0, 796.0, 1582.0, 1496.0, 1461.0, 1197.0, 1396.0, 1591.0, 995.0, 2494.0, 1197.0, 1248.0, 1461.0, 1086.0, 1464.471404109589, 1199.0, 1248.0, 1248.0, 1464.471404109589, 2523.0, 1464.471404109589, 1461.0, 1396.0, 796.0, 1193.0, 1248.0, 995.0, 796.0, 999.0, 2179.0, 1464.471404109589, 998.0, 799.0, 1364.0, 998.0, 998.0, 1396.0, 1464.471404109589, 1197.0, 796.0, 1498.0, 1086.0, 1197.0, 1248.0, 1197.0, 1997.0, 2179.0, 1498.0, 814.0, 1248.0, 1248.0, 1396.0, 1120.0, 1497.0, 1396.0, 1396.0, 1248.0, 1498.0, 1373.0, 799.0, 796.0, 2523.0, 2179.0, 1197.0, 1120.0, 2179.0, 1405.0, 1198.0, 1998.0, 1497.0, 1464.471404109589, 1461.0, 1197.0, 1197.0, 2494.0, 2179.0, 1197.0, 1197.0, 1197.0, 1997.0, 1461.0, 1086.0, 1199.0, 1405.0, 998.0, 1464.471404109589, 1248.0, 1461.0, 1497.0, 1248.0, 1396.0, 1399.0, 1582.0, 796.0, 1199.0, 936.0, 998.0, 998.0, 1199.0, 2523.0, 1405.0, 1197.0, 1464.471404109589, 1464.471404109589, 995.0, 993.0, 1396.0, 1196.0, 1199.0, 1399.0, 1248.0, 1493.0, 1598.0, 1248.0, 1399.0, 796.0, 2523.0, 1194.0, 2362.0, 1598.0, 2179.0, 1364.0, 1047.0, 1498.0, 1120.0, 1596.0, 799.0, 2354.0, 1998.0, 1186.0, 1197.0, 2179.0, 1797.0, 1497.0, 796.0, 1196.0, 1197.0, 1422.0, 1198.0, 796.0, 1598.0, 998.0, 1248.0, 998.0, 2523.0, 995.0, 1086.0, 1120.0, 998.0, 796.0, 998.0, 1493.0, 1997.0, 1197.0, 2179.0, 1399.0, 1248.0, 1197.0, 1248.0, 2523.0, 1498.0, 1596.0, 1497.0, 2494.0, 1396.0, 1199.0, 2755.0, 1405.0, 1405.0, 799.0, 1582.0, 1197.0, 1198.0, 1061.0, 1248.0, 1461.0, 2498.0, 1197.0, 796.0, 1197.0, 1498.0, 1948.0, 1061.0, 793.0, 1248.0, 1405.0, 2982.0, 1186.0, 998.0, 2179.0, 1997.0, 796.0, 1197.0, 1197.0, 1248.0, 998.0, 1498.0, 796.0, 2179.0, 796.0, 1248.0, 2609.0, 1248.0, 796.0, 998.0, 1248.0, 1248.0, 1248.0, 998.0, 1197.0, 1248.0, 2523.0, 1248.0, 1198.0, 799.0, 1197.0, 1586.0, 1582.0, 1197.0, 2179.0, 2393.0, 2523.0, 1582.0, 1364.0, 796.0, 796.0, 796.0, 2494.0, 1464.471404109589, 1493.0, 2498.0, 1497.0, 1248.0, 1956.0, 1598.0, 796.0, 814.0, 2477.0, 796.0, 1396.0, 799.0, 1396.0, 1399.0, 1197.0, 1364.0, 1598.0, 1248.0, 1248.0, 2179.0, 1248.0, 1248.0, 814.0, 1248.0, 1197.0, 2092.0, 796.0, 799.0, 1498.0, 796.0, 1396.0, 1896.0, 2179.0, 1498.0, 1497.0, 1299.0, 1248.0, 1498.0, 796.0, 1248.0, 1464.471404109589, 1248.0, 1047.0, 2494.0, 1498.0, 1248.0, 1527.0, 1150.0, 999.0, 1464.471404109589, 1461.0, 2179.0, 1498.0, 1582.0, 1197.0, 1248.0, 1582.0, 2523.0, 2179.0, 1499.0, 2494.0, 1399.0, 1991.0, 1498.0, 998.0, 796.0, 2179.0, 1396.0, 1198.0, 2179.0, 796.0, 1464.471404109589, 1197.0, 998.0, 796.0, 1373.0, 999.0, 998.0, 1396.0, 2179.0, 1396.0, 1197.0, 1991.0, 1396.0, 1948.0, 1582.0, 1399.0, 1196.0, 2494.0, 1498.0, 1193.0, 1396.0, 1399.0, 1248.0, 1248.0, 1248.0, 1086.0, 1998.0, 624.0, 1172.0, 1197.0, 1461.0, 1948.0, 2179.0, 1197.0, 1193.0, 1198.0, 2494.0, 1497.0, 1248.0, 1598.0, 1498.0, 1197.0, 1799.0, 1248.0, 1396.0, 998.0, 1186.0, 1248.0, 2523.0, 1197.0, 1399.0, 1172.0, 999.0, 998.0, 995.0, 796.0, 1199.0, 1194.0, 1496.0, 1373.0, 2956.0, 1591.0, 1399.0, 1464.471404109589, 2494.0, 796.0, 814.0, 1373.0, 1197.0, 1498.0, 1464.471404109589, 1399.0, 1198.0, 1396.0, 1464.471404109589, 1498.0, 1197.0, 1248.0, 2179.0, 1150.0, 1194.0, 1194.0, 2523.0, 1399.0, 1199.0, 1498.0, 1405.0, 1799.0, 1599.0, 1496.0, 1248.0, 998.0, 1405.0, 799.0, 995.0, 2179.0, 1399.0, 2494.0, 1464.471404109589, 1396.0, 796.0, 998.0, 998.0, 2523.0, 1248.0, 2179.0, 1199.0, 1464.471404109589, 1196.0, 1248.0, 796.0, 1591.0, 1248.0, 1493.0, 2523.0, 1248.0, 1198.0, 2523.0, 1364.0, 2982.0, 995.0, 1248.0, 2498.0, 796.0, 1196.0, 2523.0, 2835.0, 1248.0, 1794.0, 2179.0, 1248.0, 796.0, 2179.0, 1497.0, 1186.0, 1498.0, 1498.0, 796.0, 799.0, 1197.0, 799.0, 1498.0, 1199.0, 1248.0, 1493.0, 2499.0, 1198.0, 1197.0, 1186.0, 1196.0, 799.0, 1493.0, 1086.0, 1197.0, 2498.0, 2179.0, 1197.0, 1399.0, 1248.0, 1197.0, 1461.0, 1497.0, 1248.0, 1199.0, 2494.0, 1197.0, 1498.0, 1248.0, 1464.471404109589, 1461.0, 995.0, 2179.0, 1120.0, 1199.0, 1197.0, 1248.0, 1248.0, 796.0, 1197.0, 1248.0, 796.0, 1248.0, 1461.0, 1396.0, 2523.0, 1405.0, 1498.0, 2489.0, 1086.0, 1396.0, 1496.0, 1461.0, 2179.0, 2179.0, 1248.0, 1086.0, 1120.0, 1373.0, 1061.0, 1197.0, 1599.0, 1197.0, 1991.0, 1396.0, 1464.471404109589, 1248.0, 1498.0, 1399.0, 1498.0, 2523.0, 999.0, 1193.0, 998.0, 1248.0, 1248.0, 1197.0, 1197.0, 2179.0, 1399.0, 1196.0, 1248.0, 1197.0, 1248.0, 2179.0, 2179.0, 1582.0, 1248.0, 796.0, 2179.0, 1498.0, 796.0, 998.0, 1248.0, 1248.0, 1248.0, 1582.0, 799.0, 1120.0, 1498.0, 2523.0, 1197.0, 1498.0, 2523.0, 796.0, 1248.0, 1248.0, 796.0, 1248.0, 1198.0, 1493.0, 1248.0, 998.0, 1196.0, 999.0, 1461.0, 1197.0, 1248.0, 1598.0, 1396.0, 1461.0, 1498.0, 1120.0, 2523.0, 1197.0, 2523.0, 2393.0, 1248.0, 1498.0, 1464.471404109589, 1248.0, 1582.0, 1461.0, 998.0, 998.0, 1186.0, 1582.0, 2179.0, 998.0, 1248.0, 2523.0, 1120.0, 1461.0, 1197.0, 814.0, 999.0, 1199.0, 1199.0, 1248.0, 1248.0, 1248.0, 1061.0, 1197.0, 1197.0, 2956.0, 1248.0, 2494.0, 1498.0, 1172.0, 1498.0, 1493.0, 1198.0, 1582.0, 999.0, 1364.0, 1199.0, 1496.0, 1061.0, 1197.0, 936.0, 2523.0, 2523.0, 1582.0, 2956.0, 1197.0, 1197.0, 1198.0, 1248.0, 1196.0, 1396.0, 2494.0, 2609.0, 998.0, 1196.0, 814.0, 2494.0, 1396.0, 1498.0, 1199.0, 1248.0, 998.0, 1186.0, 814.0, 998.0, 1464.471404109589, 1298.0, 1461.0, 1197.0, 1086.0, 998.0, 1998.0, 2179.0, 1198.0, 1198.0, 2494.0, 1364.0, 814.0, 1496.0, 998.0, 998.0, 1461.0, 1496.0, 1197.0, 998.0, 1120.0, 1197.0, 1248.0, 1197.0, 2179.0, 1298.0, 796.0, 1493.0, 2179.0, 2956.0, 1498.0, 1461.0, 1197.0, 796.0, 936.0, 2499.0, 1586.0, 1498.0, 1493.0, 1461.0, 1198.0, 1248.0, 1197.0, 998.0, 1497.0, 1197.0, 1248.0, 1198.0, 1248.0, 1591.0, 1248.0, 814.0, 1197.0, 796.0, 1405.0, 1461.0, 998.0, 1495.0, 1197.0, 1248.0, 1582.0, 1493.0, 799.0, 1373.0, 1497.0, 1248.0, 1582.0, 1197.0, 2179.0, 995.0, 1496.0, 1197.0, 1461.0, 1373.0, 2179.0, 1495.0, 1248.0, 1498.0, 2494.0, 1396.0, 1582.0, 1197.0, 1498.0, 814.0, 2179.0, 998.0, 1248.0, 2523.0, 796.0, 1496.0, 796.0, 1248.0, 1086.0, 814.0, 1364.0, 1086.0, 796.0, 796.0, 1498.0, 1197.0, 998.0, 1248.0, 1798.0, 1193.0, 1197.0, 2982.0, 998.0, 2179.0, 1464.471404109589, 998.0, 1396.0, 1248.0, 1496.0, 1582.0, 1199.0, 2494.0, 1248.0, 1248.0, 1248.0, 1496.0, 2494.0, 1586.0, 814.0, 1199.0, 1399.0, 1248.0, 1197.0, 1493.0, 1998.0, 1399.0, 2523.0, 1599.0, 814.0, 1298.0, 1582.0, 1248.0, 1461.0, 814.0, 1197.0, 1396.0, 796.0, 1086.0, 796.0, 1248.0, 999.0, 1399.0, 1464.471404109589, 1199.0, 1197.0, 993.0, 998.0, 1497.0, 1248.0, 1199.0, 2494.0, 1496.0, 1199.0, 1086.0, 1498.0, 1197.0, 1197.0, 2523.0, 1396.0, 1197.0, 2179.0, 1461.0, 998.0, 624.0, 1196.0, 2179.0, 1498.0, 1582.0, 2179.0, 1497.0, 1120.0, 1464.471404109589, 1199.0, 1493.0, 1498.0, 1186.0, 2179.0, 1197.0, 1248.0, 936.0, 796.0, 1405.0, 1396.0, 1248.0, 1248.0, 1248.0, 1197.0, 1464.471404109589, 1197.0, 2179.0, 1991.0, 1197.0, 796.0, 1120.0, 2494.0, 998.0, 1248.0, 998.0, 796.0, 1498.0, 998.0, 1498.0, 999.0, 1405.0, 1248.0, 2498.0, 1582.0, 2179.0, 1461.0, 1120.0, 998.0, 2494.0, 1248.0, 1582.0, 999.0, 2179.0, 998.0, 796.0, 796.0, 1493.0, 796.0, 1956.0, 2179.0, 814.0, 1396.0, 1197.0, 1248.0, 2498.0, 1464.471404109589, 1197.0, 998.0, 796.0, 1193.0, 1248.0, 1498.0, 814.0, 1497.0, 2523.0, 2179.0, 998.0, 1197.0, 799.0, 1496.0, 1464.471404109589, 998.0, 1493.0, 1186.0, 1061.0, 1197.0, 1498.0, 998.0, 796.0, 998.0, 1197.0, 1598.0, 1498.0, 1197.0, 1197.0, 1248.0, 1196.0, 2179.0, 1197.0, 2179.0, 1197.0, 799.0, 1198.0, 1248.0, 1196.0, 1582.0, 1464.471404109589, 1498.0, 1248.0, 796.0, 1248.0, 1197.0, 1493.0, 796.0, 1248.0, 1197.0, 2179.0, 1197.0, 2197.0, 2446.0, 1461.0, 2179.0, 995.0, 1197.0, 1498.0, 2494.0, 1197.0, 1196.0, 1198.0, 1582.0, 1248.0, 1248.0, 1199.0, 998.0, 1498.0, 1199.0, 1396.0, 2523.0, 1396.0, 1461.0, 1399.0, 1248.0, 998.0, 2179.0, 1493.0, 796.0, 1061.0, 1464.471404109589, 2179.0, 2494.0, 2494.0, 1399.0, 796.0, 1405.0, 1198.0, 1061.0, 814.0, 1461.0, 2179.0, 1197.0, 1405.0, 1498.0, 1248.0, 1405.0, 1497.0, 1248.0, 1464.471404109589, 1194.0, 1997.0, 1196.0, 1197.0, 796.0, 1196.0, 1248.0, 1248.0, 1248.0, 1193.0, 1497.0, 1498.0, 1248.0, 1197.0, 1186.0, 624.0, 2494.0, 1197.0, 1248.0, 1498.0, 796.0, 1198.0, 1086.0, 1405.0, 1197.0, 1248.0, 1248.0, 2523.0, 998.0, 1086.0, 1248.0, 1461.0, 2494.0, 1199.0, 2523.0, 1373.0, 2523.0, 2494.0, 1399.0, 796.0, 1198.0, 1464.471404109589, 1248.0, 796.0, 1198.0, 1497.0, 1399.0, 1199.0, 1497.0, 999.0, 2956.0, 998.0, 1086.0, 796.0, 1198.0, 1197.0, 998.0, 1298.0, 1172.0, 814.0, 2179.0, 998.0, 1248.0, 1248.0, 1197.0, 1199.0, 1197.0, 1396.0, 1248.0, 998.0, 1248.0, 1248.0, 796.0, 796.0, 2755.0, 2956.0, 1948.0, 1405.0, 1248.0, 2179.0, 1199.0, 2523.0, 1086.0, 796.0, 1396.0, 2523.0, 2523.0, 1197.0, 1248.0, 2498.0, 2179.0, 1186.0, 998.0, 1248.0, 1198.0, 998.0, 1248.0, 1396.0, 1586.0, 1248.0, 1248.0, 2494.0, 2523.0, 998.0, 1598.0, 796.0, 998.0, 2523.0, 1498.0, 1248.0, 1464.471404109589, 1086.0, 624.0, 1498.0, 814.0, 1197.0, 1373.0, 1493.0, 1198.0, 1196.0, 999.0, 1197.0, 1120.0, 1248.0, 1197.0, 1396.0, 2179.0, 799.0, 1197.0, 1368.0, 814.0, 1498.0, 2956.0, 1197.0, 796.0, 1186.0, 1399.0, 1199.0, 993.0, 2499.0, 1799.0, 1461.0, 2523.0, 796.0, 1497.0, 1373.0, 1995.0, 1248.0, 1197.0, 2179.0, 999.0, 1120.0, 1991.0, 1197.0, 1199.0, 998.0, 1197.0, 993.0, 1197.0, 1896.0, 2179.0, 1498.0, 2523.0, 1199.0, 796.0, 1498.0, 2523.0, 796.0, 1197.0, 1493.0, 1248.0, 796.0, 2523.0, 1991.0, 1464.471404109589, 1197.0, 814.0, 1248.0, 2523.0, 1461.0, 2179.0, 796.0, 995.0, 1197.0, 1248.0, 1196.0, 2494.0, 1464.471404109589, 2523.0, 1086.0, 1498.0, 1373.0, 1405.0, 1186.0, 936.0, 1497.0, 2179.0, 1248.0, 2498.0, 1197.0, 796.0, 1197.0, 2179.0, 1399.0, 796.0, 814.0, 793.0, 2393.0, 2494.0, 1199.0, 1582.0, 1498.0, 998.0, 1197.0, 1248.0, 814.0, 796.0, 1197.0, 998.0, 1086.0, 2494.0, 1199.0, 2179.0, 1396.0, 1197.0, 2609.0, 2179.0, 1498.0, 1582.0, 998.0, 999.0, 814.0, 1120.0, 1197.0, 1396.0, 2499.0, 1493.0, 1047.0, 1364.0, 1199.0, 998.0, 1582.0, 2179.0, 998.0, 2494.0, 1248.0, 814.0, 796.0, 993.0, 1198.0, 1364.0, 1248.0, 1198.0, 1248.0, 1582.0, 998.0, 1495.0, 2494.0, 1496.0, 2179.0, 1248.0, 1248.0, 1495.0, 1499.0, 1498.0, 2179.0, 1598.0, 2499.0, 1497.0, 1396.0, 799.0, 814.0, 1197.0, 1493.0, 2179.0, 2179.0, 1248.0, 1464.471404109589, 1373.0, 1197.0, 1197.0, 1248.0, 1496.0, 814.0, 1396.0, 1493.0, 799.0, 1197.0, 1197.0, 1396.0, 796.0, 1497.0, 2179.0, 1197.0, 1248.0, 1120.0, 2179.0, 1198.0, 1248.0, 796.0, 1396.0, 1997.0, 2393.0, 1197.0, 2477.0, 1461.0, 998.0, 1248.0, 1197.0, 1582.0, 1086.0, 1061.0, 796.0, 1186.0, 2523.0, 2179.0, 1396.0, 995.0, 796.0, 1396.0, 1364.0, 1498.0, 1497.0, 1464.471404109589, 1196.0, 1364.0, 1388.0, 1364.0, 2494.0, 1197.0, 2393.0, 1248.0, 1582.0, 1086.0, 1497.0, 1198.0, 1248.0, 1498.0, 796.0, 1461.0, 814.0, 1197.0, 998.0, 1464.471404109589, 998.0, 2179.0, 998.0, 796.0, 1198.0, 1199.0, 796.0, 1248.0, 2179.0, 1199.0, 1197.0, 1396.0, 1464.471404109589, 995.0, 796.0, 1248.0, 1464.471404109589, 1197.0, 1248.0, 814.0, 1396.0, 1186.0, 1248.0, 2956.0, 1527.0, 1248.0, 1197.0, 993.0, 1199.0, 1248.0, 2494.0, 1298.0, 2982.0, 1199.0, 1582.0, 998.0, 1298.0, 796.0, 1086.0, 1461.0, 814.0, 1199.0, 998.0, 1197.0, 993.0, 1497.0, 1396.0, 2179.0, 1582.0, 796.0, 1248.0, 1396.0, 1248.0, 1086.0, 1197.0, 796.0, 1199.0, 1086.0, 1493.0, 796.0, 796.0, 1197.0, 1197.0, 1405.0, 1197.0, 999.0, 1373.0, 1461.0, 796.0, 1461.0, 1248.0, 796.0, 1396.0, 1197.0, 1496.0, 1248.0, 998.0, 1199.0, 1461.0, 1498.0, 2494.0, 1197.0, 1498.0, 2523.0, 998.0, 998.0, 1364.0, 1248.0, 2494.0, 1086.0, 1582.0, 1199.0, 1968.0, 799.0, 1248.0, 1396.0, 1956.0, 1464.471404109589, 1461.0, 1197.0, 1462.0, 796.0, 1197.0, 1396.0, 1396.0, 1497.0, 1197.0, 1496.0, 1186.0, 796.0, 1493.0, 1197.0, 1396.0, 1498.0, 1086.0, 1598.0, 1493.0, 1598.0, 2179.0, 796.0, 1172.0, 1298.0, 1199.0, 1197.0, 1461.0, 998.0, 1497.0, 1199.0, 2179.0, 1197.0, 2489.0, 1396.0, 1248.0, 1497.0, 998.0, 1498.0, 998.0, 1199.0, 1405.0, 1248.0, 1248.0, 2489.0, 1248.0, 1197.0, 1199.0, 2523.0, 1498.0, 1248.0, 1196.0, 1498.0, 1197.0, 1061.0, 1197.0, 1248.0, 1364.0, 2523.0, 1493.0, 1464.471404109589, 796.0, 1364.0, 2179.0, 995.0, 1248.0, 1396.0, 2982.0, 1498.0, 1373.0, 1396.0, 998.0, 1399.0, 1396.0, 1497.0, 1199.0, 1197.0, 1991.0, 1248.0, 1399.0, 1197.0, 1120.0, 1186.0, 796.0, 2494.0, 1199.0, 1198.0, 796.0, 1498.0, 1493.0, 1198.0, 796.0, 2498.0, 1197.0, 1498.0, 1198.0, 1464.471404109589, 2523.0, 1298.0, 1948.0, 1399.0, 1498.0, 1196.0, 1197.0, 1086.0, 1498.0, 1497.0, 2179.0, 814.0, 1498.0, 1248.0, 2523.0, 2179.0, 796.0, 1248.0, 1497.0, 999.0, 1086.0, 1248.0, 1497.0, 1396.0, 1464.471404109589, 1248.0, 998.0, 1197.0, 796.0, 1498.0, 1197.0, 1120.0, 1047.0, 1197.0, 1464.471404109589, 1498.0, 814.0, 1399.0, 1198.0, 2523.0, 1396.0, 1464.471404109589, 1193.0, 796.0, 1248.0, 998.0, 796.0, 1197.0, 796.0, 1586.0, 1396.0, 1399.0, 2494.0, 2523.0, 1197.0, 1248.0, 1248.0, 1364.0, 1464.471404109589, 814.0, 1120.0, 1396.0, 1599.0, 1399.0, 799.0, 1248.0, 1248.0, 1196.0, 1198.0, 1248.0, 1197.0, 796.0, 1497.0, 1120.0, 2179.0, 2179.0, 1991.0, 1596.0, 995.0, 999.0, 2499.0, 998.0, 1493.0, 2179.0, 998.0, 2179.0, 1197.0, 1248.0, 999.0, 1364.0, 998.0, 2494.0, 2179.0, 1248.0, 1198.0, 2179.0, 1197.0, 1197.0, 1399.0, 814.0, 2498.0, 1461.0, 998.0, 998.0, 998.0, 1120.0, 1396.0, 1956.0, 1061.0, 1248.0, 2179.0, 1197.0, 998.0, 1591.0, 1197.0, 1498.0, 1461.0, 2498.0, 1248.0, 1896.0, 1461.0, 1172.0, 1582.0, 796.0, 1956.0, 999.0, 998.0, 1464.471404109589, 1196.0, 793.0, 998.0, 1399.0, 1197.0, 796.0, 1198.0, 2489.0, 998.0, 1396.0, 1396.0, 1248.0, 2494.0, 1197.0, 998.0, 998.0, 624.0, 1493.0, 1586.0, 1199.0, 1198.0, 2179.0, 1582.0, 1197.0, 1197.0, 1396.0, 936.0, 1248.0, 1198.0, 1461.0, 1197.0, 1197.0, 1586.0, 1497.0, 1199.0, 1582.0, 2179.0, 2523.0, 796.0, 796.0, 998.0, 1197.0, 1248.0, 1248.0, 2179.0, 1248.0, 998.0, 1197.0, 2489.0, 2179.0, 2179.0, 814.0, 2494.0, 2179.0, 1968.0, 1086.0, 1197.0, 2199.0, 1194.0, 1197.0, 1461.0, 2179.0, 2179.0, 1461.0, 1495.0, 1248.0, 1197.0, 1197.0, 796.0, 796.0, 796.0, 1582.0, 1248.0, 1388.0, 1248.0, 2499.0, 1248.0, 1498.0, 2982.0, 1461.0, 1248.0, 2498.0, 2523.0, 998.0, 2494.0, 1248.0, 1396.0, 1464.471404109589, 1498.0, 2494.0, 2523.0, 1396.0, 998.0, 1198.0, 1598.0, 2523.0, 1298.0, 1197.0, 1497.0, 1405.0, 1047.0, 1248.0, 1405.0, 1186.0, 1582.0, 1997.0, 796.0, 1396.0, 1197.0, 1197.0, 1197.0, 1399.0, 1498.0, 2498.0, 1196.0, 1499.0, 814.0, 2489.0, 1464.471404109589, 1248.0, 2179.0, 998.0, 1464.471404109589, 1086.0, 1061.0, 1248.0, 799.0, 998.0, 1197.0, 1364.0, 1199.0, 1396.0, 1198.0, 1396.0, 796.0, 1599.0, 1496.0, 1405.0, 1248.0, 2523.0, 796.0, 1120.0, 2494.0, 1498.0, 2494.0, 1396.0, 1405.0, 1248.0, 1599.0, 1373.0, 1196.0, 1248.0, 1248.0, 1498.0, 1248.0, 1499.0, 1197.0, 1396.0, 1248.0, 1498.0, 2148.0, 1199.0, 1248.0, 814.0, 1199.0, 1582.0, 1248.0, 2523.0, 1186.0, 1396.0, 1248.0, 624.0, 2179.0, 1248.0, 1498.0, 1197.0, 1464.471404109589, 1061.0, 2523.0, 1396.0, 1461.0, 1248.0, 1248.0, 1197.0, 1248.0, 1199.0, 1199.0, 1196.0, 1199.0, 796.0, 1461.0, 1396.0, 1197.0, 1196.0, 2179.0, 1248.0, 1196.0, 2393.0, 1498.0, 1464.471404109589, 2499.0, 1248.0, 1248.0, 2494.0, 1464.471404109589, 1199.0, 1595.0, 1396.0, 1248.0, 2494.0, 1464.471404109589, 2494.0, 998.0, 1197.0, 1497.0, 1248.0, 1248.0, 2179.0, 1197.0, 1396.0, 1248.0, 796.0, 1248.0, 1086.0, 2523.0, 1396.0, 2179.0, 1498.0, 1248.0, 2498.0, 796.0, 1248.0, 1197.0, 2179.0, 1464.471404109589, 2179.0, 2200.0, 1197.0, 1461.0, 995.0, 1582.0, 2179.0, 2494.0, 998.0, 2179.0, 1399.0, 2179.0, 796.0, 2523.0, 1248.0, 1396.0, 1120.0, 1186.0, 799.0, 814.0, 1248.0, 1396.0, 1464.471404109589, 2494.0, 1396.0, 999.0, 2523.0, 1498.0, 1186.0, 1464.471404109589, 1248.0, 1086.0, 1582.0, 1373.0, 1120.0, 2179.0, 2523.0, 1061.0, 1497.0, 1199.0, 2179.0, 1196.0, 1248.0, 1198.0, 1498.0, 1464.471404109589, 1582.0, 1248.0, 1498.0, 1197.0, 1197.0, 1464.471404109589, 1248.0, 1248.0, 1197.0, 796.0, 1497.0, 1197.0, 1498.0, 998.0, 998.0, 1591.0, 2523.0, 998.0, 814.0, 2494.0, 998.0, 796.0, 1199.0, 1248.0, 1198.0, 1197.0, 796.0, 1248.0, 2523.0, 796.0, 1396.0, 999.0, 1396.0, 2523.0, 1396.0, 1199.0, 796.0, 1197.0, 1198.0, 1248.0, 1948.0, 2523.0, 2498.0, 995.0, 1248.0, 1248.0, 796.0, 1248.0, 2499.0, 1197.0, 1997.0, 1197.0, 793.0, 1464.471404109589, 1461.0, 1199.0, 1498.0, 1248.0, 1496.0, 1499.0, 1197.0, 796.0, 936.0, 2179.0, 1197.0, 796.0, 998.0, 999.0, 2523.0, 1197.0, 998.0, 1197.0, 1461.0, 1197.0, 1399.0, 1498.0, 2523.0, 1198.0, 1497.0, 1086.0, 2179.0, 1461.0, 2179.0, 796.0, 1199.0, 2179.0, 998.0, 1248.0, 2494.0, 1248.0, 1464.471404109589, 1364.0, 1199.0, 1199.0, 1194.0, 1248.0, 796.0, 2179.0, 1248.0, 1364.0, 1197.0, 1298.0, 814.0, 1248.0, 1586.0, 1248.0, 1248.0, 2179.0, 1248.0, 1405.0, 1461.0, 1198.0, 814.0, 796.0, 1582.0, 2179.0, 1396.0, 1461.0, 1196.0, 1956.0, 1196.0, 1498.0, 1197.0, 1086.0, 1997.0, 1196.0, 1198.0, 1405.0, 1591.0, 1464.471404109589, 1248.0, 1248.0, 1086.0, 1498.0, 796.0, 1399.0, 2179.0, 1198.0, 1248.0, 1997.0, 1248.0, 2494.0, 1396.0, 1582.0, 799.0, 1047.0, 799.0, 1582.0, 1498.0, 1396.0, 1498.0, 1197.0, 1199.0, 1396.0, 998.0, 1948.0, 1497.0, 2494.0, 998.0, 2498.0, 2498.0, 1248.0, 1497.0, 1248.0, 1498.0, 1464.471404109589, 1197.0, 1496.0, 1493.0, 1248.0, 1248.0, 1396.0, 1248.0, 1798.0, 1197.0, 1799.0, 2179.0, 1498.0, 1373.0, 1396.0, 1464.471404109589, 1248.0, 998.0, 1396.0, 1197.0, 814.0, 1186.0, 1086.0, 1086.0, 1598.0, 1498.0, 796.0, 1464.471404109589, 2179.0, 2489.0, 1186.0, 1248.0, 999.0, 1396.0, 1248.0, 2523.0, 1493.0, 1405.0, 1396.0, 998.0, 2179.0, 1396.0, 2523.0, 1248.0, 1597.0, 1461.0, 814.0, 1461.0, 1197.0, 1396.0, 1086.0, 2179.0, 1399.0, 1493.0, 796.0, 1198.0, 998.0, 796.0, 1248.0, 1248.0, 1196.0, 2494.0, 1598.0, 1248.0, 1248.0, 1405.0, 1493.0, 1373.0, 1496.0, 1197.0, 1198.0, 1464.471404109589, 1197.0, 1248.0, 1248.0, 1186.0, 1197.0, 1498.0, 1248.0, 1248.0, 796.0, 998.0, 2494.0, 1461.0, 1396.0, 1399.0, 1248.0, 998.0, 1248.0, 1197.0, 1591.0, 814.0, 1405.0, 1461.0, 796.0, 1248.0, 1086.0, 1396.0, 2179.0, 1498.0, 1489.0, 796.0, 1582.0, 796.0, 1197.0, 1248.0, 1396.0, 1248.0, 2523.0, 1248.0, 1499.0, 796.0, 1405.0, 1599.0, 814.0, 1248.0, 1199.0, 1498.0, 2494.0, 1198.0, 1086.0, 1461.0, 1493.0, 1396.0, 1499.0, 1498.0, 1582.0, 1248.0, 998.0, 2499.0, 1248.0, 1461.0, 1248.0, 1197.0, 998.0, 1497.0, 796.0, 1399.0, 796.0, 1196.0, 1120.0, 1461.0, 2523.0, 1498.0, 1498.0, 1599.0, 1582.0, 2523.0, 1498.0, 1248.0, 1198.0, 796.0, 814.0, 998.0, 1061.0, 2179.0, 1248.0, 2523.0, 1186.0, 2523.0, 1197.0, 998.0, 1197.0, 1248.0, 1248.0, 1248.0, 1248.0, 2494.0, 1197.0, 1199.0, 1493.0, 1461.0, 1498.0, 1197.0, 998.0, 2179.0, 1797.0, 2498.0, 1186.0, 2494.0, 1396.0, 2494.0, 1461.0, 1248.0, 796.0, 1399.0, 796.0, 814.0, 1186.0, 1248.0, 1373.0, 1396.0, 2499.0, 814.0, 2523.0, 796.0, 796.0, 998.0, 1248.0, 2494.0, 998.0, 1197.0, 1248.0, 1199.0, 1396.0, 1497.0, 1396.0, 1248.0, 1197.0, 1497.0, 1582.0, 1198.0, 1497.0, 2523.0, 1396.0, 2179.0, 2982.0, 1197.0, 2179.0, 1396.0, 2494.0, 2494.0, 1086.0, 1198.0, 1464.471404109589, 1464.471404109589, 2200.0, 1248.0, 998.0, 1198.0, 2494.0, 1198.0, 1396.0, 2650.0, 1248.0, 1364.0, 2179.0, 999.0, 2523.0, 2489.0, 1248.0, 1248.0, 998.0, 1399.0, 1248.0, 1405.0, 796.0, 796.0, 1396.0, 1591.0, 1047.0, 1798.0, 1498.0, 1364.0, 1199.0, 998.0, 2477.0, 1497.0, 2596.0, 1956.0, 1197.0, 1248.0, 1598.0, 1248.0, 1248.0, 796.0, 1197.0, 796.0, 2523.0, 1248.0, 1956.0, 1197.0, 1464.471404109589, 1197.0, 1197.0, 1498.0, 796.0, 1199.0, 1197.0, 1364.0, 1461.0, 1462.0, 1464.471404109589, 2523.0, 1197.0, 1248.0, 796.0, 1598.0, 1498.0, 1086.0, 1248.0, 1405.0, 1498.0, 1197.0, 1199.0, 2494.0, 2489.0, 2498.0, 995.0, 1248.0, 1598.0, 799.0, 2523.0, 1197.0, 1498.0, 1299.0, 1598.0, 1396.0, 1086.0, 2179.0, 1464.471404109589, 1248.0, 1196.0, 999.0, 799.0, 2523.0, 796.0, 1781.0, 1399.0, 2179.0, 1248.0, 1493.0, 1248.0, 1197.0, 2477.0, 1248.0, 1248.0, 2179.0, 2523.0, 2498.0, 1248.0, 1197.0, 1198.0, 1399.0, 1373.0, 1298.0, 1199.0, 1493.0, 796.0, 998.0, 1061.0, 1248.0, 1248.0, 1599.0, 1248.0, 1248.0, 998.0, 1086.0, 1197.0, 1405.0, 1198.0, 1198.0, 999.0, 1197.0, 999.0, 1464.471404109589, 1061.0, 1396.0, 1498.0, 2523.0, 2179.0, 1197.0, 1248.0, 2179.0, 936.0, 1248.0, 936.0, 1248.0, 1199.0, 2494.0, 998.0, 1198.0, 2179.0, 1496.0, 1498.0, 1248.0, 2179.0, 796.0, 2179.0, 1373.0, 1498.0, 2494.0, 1197.0, 2179.0, 1498.0, 1199.0, 998.0, 2179.0, 936.0, 1498.0, 796.0, 1248.0, 1461.0, 1405.0, 796.0, 1461.0, 1197.0, 796.0, 796.0, 1193.0, 998.0, 1197.0, 1061.0, 1464.471404109589, 1991.0, 1197.0, 1405.0, 796.0, 1248.0, 2179.0, 1196.0, 998.0, 1086.0, 1396.0, 999.0, 998.0, 1498.0, 2179.0, 1396.0, 1248.0, 1399.0, 1498.0, 1498.0, 1047.0, 2179.0, 1199.0, 1396.0, 1197.0, 1497.0, 1194.0, 2489.0, 1405.0, 814.0, 1197.0, 1196.0, 1194.0, 1598.0, 1298.0, 1196.0, 1497.0, 796.0, 1396.0, 1399.0, 1368.0, 998.0, 1464.471404109589, 1198.0, 1248.0, 998.0, 1248.0, 1582.0, 1248.0, 796.0, 998.0, 796.0, 1956.0, 1373.0, 1462.0, 2179.0, 1196.0, 2179.0, 1497.0, 1493.0, 1248.0, 1497.0, 998.0, 1248.0, 1248.0, 1896.0, 1582.0, 1186.0, 1199.0, 796.0, 2523.0, 1498.0, 998.0, 998.0, 1197.0, 1197.0, 1086.0, 2179.0, 1248.0, 796.0, 1197.0, 1248.0, 2179.0, 1248.0, 1194.0, 1464.471404109589, 1498.0, 1298.0, 1248.0, 2494.0, 2523.0, 1248.0, 1405.0, 2982.0, 2523.0, 1198.0, 2179.0, 1464.471404109589, 1197.0, 998.0, 1086.0, 1198.0, 1248.0, 1248.0, 1396.0, 1197.0, 2179.0, 1598.0, 1498.0, 1196.0, 1248.0, 1464.471404109589, 998.0, 2523.0, 1197.0, 1464.471404109589, 2179.0, 1461.0, 1495.0, 1464.471404109589, 2523.0, 1199.0, 2494.0, 1997.0, 814.0, 2523.0, 1248.0, 1197.0, 1086.0, 1198.0, 1499.0, 998.0, 796.0, 2393.0, 2498.0, 1248.0, 2494.0, 1196.0, 2393.0, 1198.0, 1591.0, 1197.0, 1197.0, 2609.0, 1405.0, 796.0, 2179.0, 1198.0, 814.0, 1497.0, 2498.0, 1497.0, 1047.0, 2523.0, 1120.0, 998.0, 1399.0, 1497.0, 1582.0, 998.0, 1197.0, 2179.0, 1498.0, 1493.0, 1341.0, 796.0, 1198.0, 2179.0, 2179.0, 1086.0, 1998.0, 796.0, 1197.0, 814.0, 796.0, 1248.0, 1248.0, 1248.0, 1497.0, 2179.0, 814.0, 796.0, 998.0, 1248.0, 1197.0, 1198.0, 1405.0, 1956.0, 2494.0, 1498.0, 1364.0, 1197.0, 1199.0, 1248.0, 1497.0, 1199.0, 2179.0, 1368.0, 1998.0, 1248.0, 2179.0, 1197.0, 1498.0, 1248.0, 1582.0, 1493.0, 1497.0, 1405.0, 1461.0, 1248.0, 2499.0, 1248.0, 1120.0, 2179.0, 1493.0, 1298.0, 1497.0, 814.0, 1196.0, 2179.0, 1396.0, 1248.0, 1248.0, 1197.0, 1196.0, 1248.0, 1248.0, 1061.0, 1991.0, 2494.0, 1794.0, 1498.0, 1396.0, 1198.0, 1199.0, 1248.0, 998.0, 998.0, 1248.0, 998.0, 998.0, 1498.0, 1248.0, 1956.0, 814.0, 1498.0, 1193.0, 1497.0, 1197.0, 796.0, 1248.0, 1496.0, 1493.0, 814.0, 1368.0, 2498.0, 1086.0, 998.0, 1198.0, 1497.0, 2179.0, 796.0, 998.0, 1598.0, 2494.0, 1582.0, 1086.0, 814.0, 1405.0, 1197.0, 1197.0, 1199.0, 1061.0, 796.0, 1582.0, 1495.0, 1497.0, 1396.0, 1197.0, 1248.0, 1464.471404109589, 1199.0, 1405.0, 1248.0, 796.0, 1197.0, 1498.0, 1498.0, 1197.0, 995.0, 1464.471404109589, 1248.0, 1248.0, 1396.0, 1498.0, 1198.0, 1248.0, 1405.0, 1086.0, 2179.0, 1198.0, 1497.0, 1197.0, 2523.0, 998.0, 1493.0, 1197.0, 1968.0, 624.0, 1598.0, 1998.0, 1798.0, 993.0, 1493.0, 1197.0, 1197.0, 1497.0, 1248.0, 1196.0, 1399.0, 1464.471404109589, 1199.0, 998.0, 1197.0, 1461.0, 796.0, 1198.0, 796.0, 1197.0, 998.0, 1498.0, 998.0, 1199.0, 1197.0, 1248.0, 1248.0, 1248.0, 1197.0, 1086.0, 2179.0, 1199.0, 995.0, 1373.0, 1197.0, 1197.0, 1120.0, 1197.0, 1298.0, 995.0, 1464.471404109589, 1368.0, 1364.0, 1498.0, 1150.0, 1086.0, 1364.0, 2179.0, 998.0, 1498.0, 1248.0, 1464.471404109589, 1199.0, 1086.0, 1086.0, 1464.471404109589, 1461.0, 2179.0, 2494.0, 998.0, 993.0, 2523.0, 1197.0, 998.0, 796.0, 1248.0, 1186.0, 1172.0, 1248.0, 2179.0, 1197.0, 1199.0, 1405.0, 1497.0, 998.0, 1248.0, 2523.0, 796.0, 1196.0, 1248.0, 1968.0, 2523.0, 936.0, 1498.0, 1197.0, 1799.0, 1464.471404109589, 1193.0, 1498.0, 1086.0, 1497.0, 2498.0, 1186.0, 2494.0, 1197.0, 1497.0, 1582.0, 1248.0, 2179.0, 1464.471404109589, 1396.0, 1199.0, 1248.0, 1248.0, 1086.0, 1248.0, 1956.0, 2523.0, 1197.0, 1197.0, 1248.0, 998.0, 796.0, 998.0, 2179.0, 1248.0, 796.0, 998.0, 2494.0, 1199.0, 1199.0, 1396.0, 1493.0, 1248.0, 1197.0, 1396.0, 1198.0, 1061.0, 2179.0, 1497.0, 1396.0, 1248.0, 1120.0, 1199.0, 998.0, 1396.0, 2179.0, 1399.0, 1120.0, 1248.0, 1368.0, 1197.0, 1498.0, 1405.0, 1405.0, 1461.0, 1248.0, 1086.0, 2609.0, 1464.471404109589, 1497.0, 2179.0, 796.0, 1396.0, 1364.0, 1968.0, 995.0, 1399.0, 1248.0, 1396.0, 1197.0, 1498.0, 1199.0, 1498.0, 1197.0, 624.0, 1248.0, 1197.0, 1172.0, 796.0, 1197.0, 1399.0, 796.0, 2494.0, 2494.0, 1196.0, 998.0, 1197.0, 796.0, 1997.0, 1497.0, 1496.0, 1464.471404109589, 1582.0, 1498.0, 1498.0, 1396.0, 936.0, 1199.0, 1396.0, 1396.0, 1405.0, 2393.0, 1396.0, 995.0, 1197.0, 1197.0, 936.0, 1497.0, 998.0, 1405.0, 1461.0, 1598.0, 796.0, 1248.0, 1582.0, 1197.0, 998.0, 993.0, 1464.471404109589, 1248.0, 1248.0, 796.0, 793.0, 999.0, 1396.0, 1493.0, 1396.0, 1197.0, 796.0, 799.0, 1186.0, 2354.0, 2523.0, 1199.0, 796.0, 1461.0, 1461.0, 1197.0, 1199.0, 2179.0, 796.0, 1396.0, 1461.0, 1498.0, 1464.471404109589, 1198.0, 1461.0, 2179.0, 796.0, 1399.0, 1396.0, 1396.0, 799.0, 2179.0, 1086.0, 1461.0, 1582.0, 1464.471404109589, 1498.0, 2494.0, 1495.0, 1248.0, 1248.0, 796.0, 1248.0, 1396.0, 1197.0, 796.0, 2494.0, 1582.0, 1248.0, 1199.0, 2179.0, 999.0, 1248.0, 1464.471404109589, 1461.0, 1497.0, 1197.0, 1956.0, 796.0, 1991.0, 1197.0, 1493.0, 1196.0, 1197.0, 2179.0, 1364.0, 1198.0, 2523.0, 1199.0, 1493.0, 1248.0, 1197.0, 1396.0, 1197.0, 1461.0, 1197.0, 2179.0, 1498.0, 796.0, 1197.0, 1198.0, 1396.0, 998.0, 2477.0, 1194.0, 1464.471404109589, 1462.0, 796.0, 998.0, 2494.0, 998.0, 1197.0, 1794.0, 1248.0, 1498.0, 1199.0, 1086.0, 1396.0, 1248.0, 1493.0, 1197.0, 1591.0, 1193.0, 1582.0, 1464.471404109589, 796.0, 1405.0, 1198.0, 1497.0, 624.0, 1248.0, 1396.0, 1461.0, 1248.0, 2498.0, 2498.0, 936.0, 2179.0, 998.0, 1197.0, 1248.0, 1186.0, 1498.0, 799.0, 796.0, 2179.0, 1248.0, 1396.0, 796.0, 2494.0, 999.0, 1493.0, 1248.0, 1197.0, 1198.0, 1248.0, 1196.0, 2179.0, 1496.0, 2498.0, 1498.0, 1198.0, 1086.0, 2523.0, 1493.0, 814.0, 1396.0, 1120.0, 1582.0, 1248.0, 2982.0, 796.0, 1498.0, 1896.0, 2179.0, 1396.0, 1461.0, 936.0, 1197.0, 1497.0, 1598.0, 1248.0, 2609.0, 2179.0, 1493.0, 1197.0, 796.0, 2179.0, 1495.0, 1461.0, 796.0, 2982.0, 2179.0, 999.0, 1582.0, 1582.0, 796.0, 1248.0, 1061.0, 1199.0, 2498.0, 1199.0, 2523.0, 1405.0, 936.0, 2179.0, 1997.0, 1599.0, 1061.0, 999.0, 796.0, 1248.0, 1405.0, 1948.0, 1498.0, 1248.0, 1248.0, 2499.0, 1197.0, 1248.0, 2179.0, 1461.0, 1047.0, 1186.0, 2179.0, 796.0, 2494.0, 1198.0, 1197.0, 2494.0, 1396.0, 796.0, 1248.0, 1496.0, 998.0, 1248.0, 1196.0, 1248.0, 998.0, 2494.0, 1582.0, 796.0, 793.0, 1194.0, 1396.0, 1298.0, 1497.0, 1086.0, 1248.0, 993.0, 814.0, 998.0, 2179.0, 1086.0, 1248.0, 2523.0, 1248.0, 799.0, 2523.0, 1086.0, 1197.0, 1405.0, 1396.0, 993.0, 1197.0, 1461.0, 1498.0, 1461.0, 1248.0, 1198.0, 1493.0, 1248.0, 799.0, 998.0, 1498.0, 1248.0, 1493.0, 1197.0, 998.0, 2494.0, 1197.0, 1198.0, 1390.0, 2179.0, 2494.0, 1591.0, 1368.0, 796.0, 1496.0, 2523.0, 1396.0, 1364.0, 1197.0, 1464.471404109589, 1197.0, 1197.0, 1582.0, 1197.0, 1199.0, 1248.0, 1248.0, 1248.0, 1199.0, 1496.0, 1197.0, 2489.0, 1396.0, 2494.0, 1399.0, 1248.0, 796.0, 1196.0, 1493.0, 1464.471404109589, 1197.0, 1396.0, 796.0, 998.0, 796.0, 1582.0, 1461.0, 1582.0, 1298.0, 1948.0, 1248.0, 1582.0, 998.0, 2523.0, 1199.0, 1493.0, 1248.0, 1968.0, 998.0, 1396.0, 1464.471404109589, 1343.0, 796.0, 1197.0, 998.0, 1396.0, 2179.0, 998.0, 1598.0, 1248.0, 1196.0, 1497.0, 1797.0, 2179.0, 998.0, 796.0, 1396.0, 1596.0, 1464.471404109589, 993.0, 1341.0, 1248.0, 1248.0, 814.0, 1497.0, 2494.0, 1197.0, 1956.0, 1396.0, 1405.0, 1464.471404109589, 2494.0, 1795.0, 1498.0, 1248.0, 1405.0, 2179.0, 1498.0, 1197.0, 1197.0, 1197.0, 1493.0, 1248.0, 1497.0, 2523.0, 796.0, 1493.0, 2494.0, 1461.0, 1248.0, 796.0, 1198.0, 796.0, 1248.0, 1493.0, 1248.0, 814.0, 1199.0, 796.0, 909.0, 1994.0, 1199.0, 1248.0, 796.0, 1248.0, 1197.0, 1199.0, 1248.0, 1198.0, 796.0, 998.0, 1373.0, 1464.471404109589, 1248.0, 1193.0, 1197.0, 1997.0, 1193.0, 1396.0, 1199.0, 998.0, 1197.0, 1493.0, 936.0, 1197.0, 998.0, 1248.0, 1498.0, 998.0, 1493.0, 1399.0, 1248.0, 2179.0, 1591.0, 998.0, 1197.0, 1197.0, 1461.0, 1120.0, 1399.0, 2498.0, 1596.0, 2494.0, 1495.0, 998.0, 1248.0, 1248.0, 814.0, 1120.0, 1248.0, 1120.0, 1086.0, 1248.0, 2179.0, 1586.0, 1493.0, 1248.0, 1197.0, 999.0, 2179.0, 2179.0, 2179.0, 1464.471404109589, 995.0, 936.0, 1464.471404109589, 2494.0, 998.0, 1405.0, 2494.0, 1198.0, 998.0, 1248.0, 999.0, 1248.0, 1197.0, 1248.0, 2179.0, 998.0, 1498.0, 1582.0, 1498.0, 1582.0, 1598.0, 796.0, 1248.0, 1497.0, 1396.0, 1399.0, 1498.0, 1198.0, 2179.0, 2179.0, 1198.0, 1493.0, 1086.0, 1498.0, 1248.0, 1493.0, 1498.0, 1896.0, 1248.0, 1396.0, 2179.0, 2982.0, 1497.0, 1598.0, 799.0, 1248.0, 1399.0, 1599.0, 796.0, 1150.0, 1498.0, 998.0, 1399.0, 1248.0, 1199.0, 1497.0, 1797.0, 1464.471404109589, 814.0, 1197.0, 1199.0, 998.0, 1499.0, 999.0, 796.0, 2393.0, 1493.0, 999.0, 1248.0, 1248.0, 796.0, 1373.0, 1396.0, 1248.0, 1598.0, 999.0, 1197.0, 998.0, 1497.0, 2499.0, 1197.0, 1199.0, 2956.0, 2523.0, 1086.0, 1197.0, 2179.0, 1196.0, 1461.0, 1198.0, 2523.0, 2179.0, 2494.0, 1582.0, 1197.0, 1991.0, 796.0, 1248.0, 1186.0, 1197.0, 1464.471404109589, 1405.0, 1498.0, 1197.0, 1196.0, 1199.0, 1248.0, 1248.0, 998.0, 1497.0, 1396.0, 1991.0, 2179.0, 1461.0, 1061.0, 1298.0, 1248.0, 1199.0, 1198.0, 2179.0, 796.0, 1198.0, 2179.0, 1598.0, 998.0, 1498.0, 2523.0, 1248.0, 2494.0, 2494.0, 1198.0, 1248.0, 796.0, 1399.0, 1197.0, 1197.0, 1461.0, 1298.0, 1464.471404109589, 1498.0, 1582.0, 1498.0, 799.0, 796.0, 1399.0, 1590.0, 1248.0, 1197.0, 1197.0, 814.0, 1248.0, 1248.0, 1197.0, 1197.0, 1498.0, 998.0, 1248.0, 1248.0, 2179.0, 1248.0, 1186.0, 2494.0, 1248.0, 796.0, 1373.0, 1197.0, 1462.0, 1464.471404109589, 1498.0, 1498.0, 2523.0, 2489.0, 1197.0, 1197.0, 1498.0, 1396.0, 1197.0, 1248.0, 814.0, 1598.0, 1172.0, 1248.0, 998.0, 1405.0, 1086.0, 1498.0, 1248.0, 1248.0, 998.0, 1248.0, 1405.0, 1248.0, 1193.0, 1997.0, 1186.0, 1591.0, 1248.0, 796.0, 998.0, 1598.0, 1197.0, 799.0, 796.0, 1396.0, 1388.0, 1498.0, 1248.0, 998.0, 998.0, 796.0, 1248.0, 796.0, 1248.0, 2494.0, 1298.0, 1248.0, 1582.0, 1498.0, 1461.0, 1197.0, 2179.0, 1582.0, 1591.0, 2609.0, 1199.0, 1199.0, 796.0, 1248.0, 1399.0, 796.0, 1196.0, 1396.0, 1364.0, 998.0, 2179.0, 1199.0, 1248.0, 1197.0, 2609.0, 1086.0, 1493.0, 1493.0, 1497.0, 796.0, 1197.0, 1196.0, 1196.0, 1794.0, 2494.0, 1197.0, 1405.0, 1464.471404109589, 2179.0, 1396.0, 1199.0, 1248.0, 1598.0, 796.0, 1464.471404109589, 796.0, 1464.471404109589, 2179.0, 624.0, 1186.0, 1493.0, 1586.0, 1199.0, 1197.0, 1248.0, 1199.0, 1198.0, 1495.0, 1582.0, 1248.0, 1248.0, 1198.0, 799.0, 1197.0, 1248.0, 1248.0, 1248.0, 1197.0, 1396.0, 1197.0, 1061.0, 1086.0, 796.0, 1498.0, 1497.0, 1399.0, 2523.0, 1464.471404109589, 1496.0, 799.0, 1997.0, 1248.0, 2179.0, 1248.0, 1193.0, 2982.0, 1298.0, 796.0, 1582.0, 1248.0, 796.0, 1061.0, 1405.0, 1598.0, 1248.0, 1396.0, 1396.0, 799.0, 1498.0, 1086.0, 998.0, 1388.0, 2609.0, 1364.0, 796.0, 995.0, 998.0, 1298.0, 1197.0, 1595.0, 1197.0, 1493.0, 1248.0, 1197.0, 2179.0, 1396.0, 814.0, 1248.0, 1248.0, 998.0, 1464.471404109589, 1199.0, 1399.0, 1248.0, 1498.0, 796.0, 995.0, 1248.0, 2179.0, 998.0, 1248.0, 1461.0, 796.0, 1248.0, 1948.0, 1248.0, 1464.471404109589, 1586.0, 993.0, 1199.0, 799.0, 1248.0, 1798.0, 1493.0, 1197.0, 2498.0, 1396.0, 1061.0, 1498.0, 1197.0, 998.0, 1086.0, 998.0, 2179.0, 1298.0, 796.0, 1248.0, 796.0, 1498.0, 1582.0, 2523.0, 1198.0, 796.0, 1197.0, 998.0, 1464.471404109589, 998.0, 2494.0, 998.0, 1496.0, 796.0, 796.0, 1396.0, 2179.0, 1405.0, 1497.0, 1248.0, 1396.0, 1248.0, 1199.0, 2609.0, 2179.0, 1248.0, 2982.0, 814.0, 1464.471404109589, 1399.0, 1464.471404109589, 1248.0, 1086.0, 1248.0, 998.0, 796.0, 998.0, 1197.0, 1464.471404109589, 1405.0, 1248.0, 2179.0, 1248.0, 1586.0, 1248.0, 1248.0, 2523.0, 1399.0, 1248.0, 1396.0, 2494.0, 1248.0, 2494.0, 1461.0, 1461.0, 1248.0, 1396.0, 1197.0, 796.0, 796.0, 1193.0, 1498.0, 2179.0, 1341.0, 2494.0, 799.0, 1197.0, 2494.0, 1248.0, 1061.0, 1197.0, 1405.0, 1498.0, 814.0, 1405.0, 2179.0, 1464.471404109589, 1198.0, 1396.0, 1197.0, 1497.0, 1591.0, 814.0, 2179.0, 2956.0, 799.0, 2179.0, 1197.0, 1396.0, 1798.0, 1199.0, 1198.0, 1464.471404109589, 1197.0, 1248.0, 995.0, 1196.0, 1582.0, 1197.0, 1298.0, 1196.0, 1461.0, 1396.0, 1197.0, 998.0, 1248.0, 1193.0, 998.0, 796.0, 1248.0, 1197.0, 1086.0, 998.0, 1197.0, 1197.0, 1061.0, 1582.0, 2494.0, 1896.0, 1194.0, 1464.471404109589, 1396.0, 2179.0, 1248.0, 796.0, 936.0, 2179.0, 1599.0, 2393.0, 2523.0, 998.0, 814.0, 1197.0, 1197.0, 993.0, 1248.0, 1248.0, 1498.0, 1197.0, 2179.0, 1498.0, 1461.0, 998.0, 1061.0, 2359.0, 1197.0, 1197.0, 1197.0, 1197.0, 1498.0, 1493.0, 2498.0, 1086.0, 2489.0, 1464.471404109589, 1498.0, 1248.0, 1405.0, 1493.0, 814.0, 2179.0, 1597.0, 2494.0, 1495.0, 1198.0, 2523.0, 1197.0, 2179.0, 1197.0, 796.0, 2179.0, 1197.0, 1248.0, 1405.0, 796.0, 796.0, 1248.0, 1396.0, 1497.0, 1405.0, 2494.0, 796.0, 1598.0, 624.0, 998.0, 1197.0, 1464.471404109589, 2494.0, 1199.0, 1399.0, 1991.0, 796.0, 1497.0, 1197.0, 796.0, 1193.0, 1396.0, 1248.0, 1086.0, 1248.0, 1396.0, 1341.0, 1248.0, 1248.0, 1197.0, 2523.0, 2179.0, 1248.0, 1248.0, 1498.0, 998.0, 1298.0, 1199.0, 2523.0, 796.0, 2499.0, 1798.0, 1197.0, 1197.0, 1248.0, 1197.0, 2494.0, 1248.0, 796.0, 1197.0, 1396.0, 1598.0, 998.0, 1991.0, 2179.0, 1956.0, 796.0, 1496.0, 2179.0, 1248.0, 799.0, 799.0, 1497.0, 1197.0, 796.0, 1498.0, 1498.0, 993.0, 1248.0, 1198.0, 2179.0, 2494.0, 1396.0, 2393.0, 995.0, 1399.0, 1796.0, 1086.0, 1498.0, 1248.0, 1248.0, 998.0, 1197.0, 1248.0, 814.0, 796.0, 1248.0, 1498.0, 1086.0, 1399.0, 1497.0, 1186.0, 998.0, 1498.0, 1464.471404109589, 1464.471404109589, 2489.0, 2179.0, 1498.0, 2179.0, 995.0, 1186.0, 814.0, 1120.0, 1464.471404109589, 1495.0, 2179.0, 998.0, 1591.0, 998.0, 796.0, 1197.0, 1396.0, 1248.0, 1598.0, 1464.471404109589, 1198.0, 1197.0, 799.0, 1464.471404109589, 2179.0, 1196.0, 1341.0, 1197.0, 1364.0, 1248.0, 1598.0, 1248.0, 2179.0, 1197.0, 1591.0, 1248.0, 1396.0, 796.0, 1248.0, 1248.0, 1497.0, 814.0, 999.0, 1248.0, 998.0, 2494.0, 1248.0, 1493.0, 1498.0, 1464.471404109589, 2494.0, 1197.0, 998.0, 1061.0, 1399.0, 796.0, 2179.0, 1197.0, 1193.0, 1199.0, 1248.0, 1248.0, 1197.0, 1248.0, 1396.0, 1461.0, 1196.0, 1198.0, 1197.0, 2499.0, 1399.0, 1591.0, 1498.0, 1598.0, 1197.0, 796.0, 1086.0, 2523.0, 1199.0, 1497.0, 1461.0, 1396.0, 1368.0, 998.0, 1197.0, 796.0, 1197.0, 1248.0, 2956.0, 1197.0, 814.0, 1086.0, 1405.0, 2179.0, 998.0, 1399.0, 1248.0, 998.0, 2956.0, 1086.0, 2489.0, 2179.0, 1461.0, 1248.0, 796.0, 998.0, 1248.0, 796.0, 1248.0, 1248.0, 1197.0, 1197.0, 2523.0, 1248.0, 998.0, 1199.0, 1582.0, 2523.0, 2523.0, 1197.0, 1405.0, 1493.0, 1464.471404109589, 1198.0, 1199.0, 1399.0, 1197.0, 1396.0, 796.0, 1248.0, 999.0, 1498.0, 998.0, 2494.0, 1197.0, 1248.0, 936.0, 1199.0, 2179.0, 998.0, 1399.0, 1197.0, 796.0, 1197.0, 1248.0, 2523.0, 2179.0, 1396.0, 998.0, 1493.0, 2494.0, 998.0, 2494.0, 1997.0, 1197.0, 2523.0, 1405.0, 1396.0, 1364.0, 1248.0, 1248.0, 1598.0, 1197.0, 1199.0, 1198.0, 1248.0, 998.0, 999.0, 2609.0, 1248.0, 1956.0, 2696.0, 1596.0, 998.0, 1493.0, 1498.0, 2523.0, 1582.0, 1248.0, 1248.0, 1527.0, 1197.0, 936.0, 1248.0, 1498.0, 1498.0, 1186.0, 1197.0, 1194.0, 1248.0, 2494.0, 1248.0, 1199.0, 1196.0, 998.0, 2179.0, 1396.0, 1396.0, 1248.0, 1086.0, 1248.0, 1248.0, 1496.0, 1196.0, 1396.0, 1248.0, 1399.0, 2523.0, 998.0, 998.0, 1199.0, 1461.0, 1498.0, 2523.0, 1464.471404109589, 1199.0, 796.0, 1197.0, 1399.0, 2956.0, 998.0, 1198.0, 1248.0, 796.0, 2609.0, 998.0, 1997.0, 1373.0, 1493.0, 1497.0, 1396.0, 1498.0, 1582.0, 1373.0, 1248.0, 796.0, 1298.0, 796.0, 1498.0, 936.0, 1405.0, 1197.0, 1493.0, 2494.0, 1493.0, 1248.0, 1598.0, 1197.0, 1248.0, 1197.0, 1582.0, 796.0, 1248.0, 1197.0, 1248.0, 1405.0, 2494.0, 1197.0, 1197.0, 1527.0, 1248.0, 1193.0, 1582.0, 999.0, 1248.0, 796.0, 796.0, 1497.0, 2523.0, 1199.0, 814.0, 1197.0, 814.0, 1464.471404109589, 1199.0, 796.0, 1498.0, 796.0, 1197.0, 796.0, 1498.0, 1248.0, 2523.0, 1248.0, 1799.0, 936.0, 1086.0, 1196.0, 1248.0, 1464.471404109589, 796.0, 1298.0, 2179.0, 1248.0, 1998.0, 1086.0, 1396.0, 1464.471404109589, 1197.0, 1248.0, 998.0, 1193.0, 1248.0, 1047.0, 1086.0, 1196.0, 1198.0, 2494.0, 1186.0, 1197.0, 1498.0, 936.0, 1405.0, 1461.0, 1197.0, 1248.0, 1461.0, 1086.0, 1248.0, 1498.0, 1248.0, 1197.0, 2494.0, 1598.0, 998.0, 1598.0, 1199.0, 2179.0, 2523.0, 1197.0, 1197.0, 1396.0, 1198.0, 1197.0, 1199.0, 799.0, 1248.0, 2179.0, 1248.0, 1364.0, 796.0, 1493.0, 2179.0, 1399.0, 2499.0, 1197.0, 1399.0, 1248.0, 1493.0, 998.0, 1405.0, 1186.0, 1498.0, 998.0, 1197.0, 1364.0, 1194.0, 2179.0, 1396.0, 1462.0, 1598.0, 1199.0, 1197.0, 1582.0, 1248.0, 1199.0, 1248.0, 1461.0, 1396.0, 1248.0, 1298.0, 998.0, 1599.0, 796.0, 1498.0, 998.0, 998.0, 1199.0, 2523.0, 1498.0], \"xaxis\": \"x3\", \"yaxis\": \"y3\"}, {\"alignmentgroup\": \"True\", \"hoverlabel\": {\"namelength\": 0}, \"hovertemplate\": \"transmission=Manual<br>selling_price=%{y}\", \"legendgroup\": \"transmission=Manual\", \"marker\": {\"color\": \"#1F77B4\", \"symbol\": \"circle\"}, \"name\": \"transmission=Manual\", \"offsetgroup\": \"transmission=Manual\", \"scalegroup\": \"y\", \"showlegend\": false, \"type\": \"violin\", \"xaxis\": \"x2\", \"y\": [850000, 750000, 795000, 500000, 325000, 270000, 174000, 270000, 560000, 550000, 580000, 85000, 900000, 300000, 270000, 229999, 650000, 450000, 148000, 180000, 889000, 620000, 700000, 550000, 475000, 370000, 450000, 520000, 350000, 480000, 375000, 700000, 650000, 940000, 190000, 400000, 220000, 150000, 715000, 1175000, 400000, 250000, 650000, 740000, 600000, 280000, 750000, 600000, 450000, 725000, 400000, 850000, 145000, 320000, 454000, 350000, 285000, 575000, 175000, 450000, 135000, 484999, 950000, 320000, 130000, 290000, 575000, 165000, 210000, 1888000, 800000, 130000, 85000, 75000, 740000, 250000, 525000, 1650000, 135000, 750000, 550000, 540000, 910000, 725000, 115999, 250000, 196000, 350000, 420000, 60000, 114999, 180000, 350000, 150000, 350000, 300000, 550000, 550000, 434999, 215000, 1100000, 900000, 600000, 740000, 120000, 325000, 300000, 95000, 610000, 525000, 650000, 500000, 310000, 350000, 175000, 434000, 170000, 110000, 327000, 400000, 275000, 235000, 605000, 650000, 430000, 425000, 120000, 200000, 300000, 500000, 380000, 409999, 325000, 300000, 600000, 145000, 650000, 631000, 700000, 210000, 810000, 195000, 128000, 270000, 125000, 445000, 200000, 350000, 700000, 160000, 50000, 320000, 650000, 450000, 222000, 550000, 250000, 370000, 150000, 530000, 450000, 1050000, 390000, 180000, 750000, 60000, 220000, 180000, 265000, 325000, 580000, 350000, 320000, 300000, 450000, 340000, 300000, 300000, 250000, 450000, 600000, 200000, 667000, 300000, 339000, 509999, 900000, 700000, 560000, 420000, 150000, 650000, 350000, 520000, 140000, 310000, 120000, 75000, 225000, 450000, 140000, 170000, 750000, 530000, 620000, 525000, 740000, 377000, 135000, 750000, 130000, 750000, 749000, 375000, 100000, 575000, 350000, 99000, 210000, 300000, 99000, 142000, 300000, 580000, 217000, 371000, 280000, 70000, 260000, 400000, 500000, 750000, 360000, 190000, 450000, 1300000, 325000, 1000000, 525000, 360000, 325000, 375000, 825000, 150000, 200000, 400000, 300000, 320000, 55599, 430000, 330000, 550000, 810000, 750000, 310000, 300000, 1850000, 740000, 580000, 185000, 420000, 190000, 200000, 351000, 745000, 550000, 500000, 260000, 305000, 280000, 1550000, 310000, 125000, 325000, 150000, 151000, 900000, 400000, 195000, 250000, 220000, 250000, 150000, 350000, 1050000, 649000, 290000, 721000, 400000, 400000, 791000, 180000, 200000, 450000, 679000, 335000, 620000, 130000, 825000, 800000, 800000, 590000, 210000, 140000, 150000, 200000, 200000, 610000, 850000, 650000, 500000, 480000, 371000, 250000, 600000, 360000, 278000, 50000, 190000, 650000, 610000, 40000, 880000, 550000, 839000, 480000, 250000, 595000, 325000, 250000, 210000, 400000, 250000, 525000, 190000, 58000, 450000, 650000, 615000, 250000, 670000, 800000, 620000, 600000, 525000, 315000, 150000, 900000, 125000, 300000, 250000, 420000, 150000, 409999, 240000, 199000, 625000, 290000, 667000, 400000, 220000, 220000, 245000, 450000, 210000, 310000, 55000, 400000, 438999, 850000, 250000, 270000, 265000, 750000, 670000, 300000, 1100000, 580000, 400000, 165000, 315000, 400000, 225000, 790000, 625000, 430000, 385000, 330000, 290000, 330000, 80000, 540000, 130000, 150000, 840000, 1147000, 570000, 450000, 575000, 675000, 400000, 225000, 320000, 250000, 450000, 850000, 170000, 600000, 135000, 150000, 459999, 110000, 500000, 550000, 500000, 500000, 560000, 165000, 440000, 570000, 480000, 180000, 125000, 220000, 1600000, 411000, 120000, 80000, 270000, 670000, 350000, 1050000, 560000, 620000, 700000, 700000, 490000, 400000, 40000, 300000, 700000, 950000, 235000, 195000, 360000, 260000, 215000, 170000, 290000, 225000, 75000, 275000, 140000, 190000, 200000, 434999, 260000, 1100000, 229999, 200000, 350000, 50000, 685000, 415000, 411000, 740000, 660000, 380000, 125000, 525000, 340000, 625000, 311000, 550000, 330000, 750000, 500000, 78000, 650000, 503000, 680000, 906000, 400000, 786000, 455999, 1250000, 300000, 300000, 130000, 625000, 590000, 200000, 595000, 1000000, 140000, 1925000, 200000, 700000, 315000, 459999, 700000, 450000, 450000, 450000, 280000, 725000, 625000, 520000, 275000, 100000, 130000, 675000, 625000, 450000, 700000, 356000, 400000, 500000, 525000, 515000, 140000, 350000, 409999, 490000, 175000, 580000, 600000, 275000, 125000, 520000, 450000, 400000, 600000, 503000, 290000, 290000, 811000, 400000, 752000, 640000, 150000, 630000, 450000, 600000, 1350000, 229999, 730000, 611000, 500000, 695000, 430000, 45000, 570000, 950000, 455000, 170000, 660000, 500000, 60000, 170000, 415000, 500000, 292000, 525000, 1251000, 850000, 560000, 135000, 100000, 310000, 425000, 800000, 430000, 480000, 630000, 225000, 420000, 625000, 730000, 220000, 455000, 535000, 500000, 320000, 330000, 509999, 750000, 1000000, 660000, 1700000, 210000, 305000, 409999, 800000, 800000, 600000, 550000, 934000, 300000, 360000, 400000, 55000, 600000, 310000, 75000, 740000, 725000, 120000, 690000, 150000, 520000, 790000, 330000, 275000, 550000, 300000, 170000, 310000, 240000, 170000, 625000, 509999, 65000, 475000, 615000, 350000, 750000, 650000, 503000, 340000, 480000, 530000, 450000, 350000, 525000, 800000, 170000, 720000, 850000, 700000, 300000, 185000, 1350000, 100000, 600000, 360000, 380000, 350000, 560000, 250000, 400000, 850000, 250000, 280000, 400000, 135000, 590000, 700000, 459999, 150000, 300000, 550000, 525000, 640000, 600000, 750000, 450000, 110000, 400000, 270000, 925000, 160000, 180000, 1400000, 650000, 1100000, 800000, 1025000, 450000, 275000, 503000, 140000, 375000, 500000, 950000, 700000, 150000, 550000, 470000, 300000, 1550000, 755000, 400000, 750000, 610000, 1250000, 875000, 246000, 246000, 180000, 72000, 290000, 150000, 562000, 750000, 300000, 120000, 320000, 260000, 975000, 450000, 825000, 660000, 500000, 1500000, 400000, 250000, 900000, 220000, 450000, 275000, 45000, 700000, 229999, 670000, 1525000, 680000, 750000, 694000, 1500000, 400000, 330000, 320000, 1625000, 300000, 495000, 675000, 530000, 725000, 650000, 300000, 54000, 600000, 225000, 150000, 480000, 250000, 1500000, 550000, 650000, 157000, 575000, 490000, 400000, 412000, 300000, 265000, 500000, 1050000, 434999, 150000, 445000, 925000, 450000, 1150000, 550000, 235000, 850000, 625000, 250000, 550000, 650000, 875000, 45000, 370000, 600000, 795000, 125000, 160000, 75000, 580000, 185000, 484999, 85000, 320000, 55000, 540000, 270000, 125000, 370000, 575000, 114999, 110000, 400000, 800000, 589000, 180000, 350000, 475000, 160000, 270000, 625000, 150000, 434999, 270000, 700000, 150000, 650000, 550000, 801000, 670000, 650000, 620000, 275000, 770000, 580000, 350000, 400000, 575000, 620000, 400000, 220000, 484999, 650000, 315000, 330000, 250000, 503000, 240000, 380000, 541000, 200000, 310000, 150000, 350000, 135000, 245000, 590000, 400000, 750000, 675000, 525000, 500000, 170000, 1250000, 515000, 65000, 325000, 80000, 225000, 56000, 700000, 490000, 1180000, 740000, 88000, 300000, 600000, 300000, 550000, 165000, 270000, 250000, 550000, 700000, 229999, 600000, 130000, 198000, 90000, 92000, 320000, 390000, 150000, 200000, 307000, 819999, 450000, 650000, 144000, 100000, 515000, 720000, 250000, 375000, 440000, 670000, 490000, 420000, 480000, 285000, 285000, 200000, 160000, 520000, 409000, 400000, 550000, 600000, 130000, 245000, 270000, 140000, 475000, 165000, 340000, 235000, 750000, 220000, 450000, 140000, 140000, 395000, 250000, 114999, 325000, 600000, 1000000, 1090000, 1200000, 250000, 430000, 490000, 470000, 600000, 630000, 256000, 900000, 1050000, 650000, 450000, 3000000, 100000, 70000, 300000, 819999, 700000, 325000, 150000, 1000000, 750000, 300000, 570000, 65000, 615000, 400000, 150000, 142000, 375000, 470000, 200000, 1750000, 680000, 440000, 300000, 1165000, 60000, 610000, 375000, 720000, 165000, 450000, 160000, 950000, 270000, 600000, 375000, 561000, 55599, 298000, 400000, 380000, 240000, 380000, 250000, 475000, 509999, 950000, 650000, 250000, 550000, 125000, 1150000, 700000, 450000, 1700000, 500000, 850000, 500000, 165000, 250000, 128000, 1019999, 415000, 245000, 390000, 540000, 465000, 2150000, 375000, 160000, 244000, 1090000, 240000, 345000, 300000, 250000, 200000, 570000, 420000, 225000, 500000, 175000, 1025000, 650000, 105000, 219000, 316000, 450000, 300000, 160000, 220000, 445000, 300000, 65000, 275000, 850000, 475000, 1450000, 110000, 501000, 430000, 125000, 530000, 300000, 180000, 900000, 750000, 650000, 229999, 80000, 80000, 565000, 95000, 350000, 300000, 650000, 850000, 335000, 350000, 965000, 421000, 1100000, 670000, 900000, 240000, 290000, 700000, 160000, 215000, 800000, 700000, 490000, 185000, 45000, 200000, 378000, 440000, 270000, 750000, 380000, 195000, 210000, 950000, 90000, 275000, 210000, 350000, 95000, 900000, 300000, 358000, 750000, 725000, 500000, 229999, 225000, 240000, 740000, 800000, 180000, 150000, 45000, 135000, 600000, 225000, 150000, 600000, 470000, 415000, 339000, 750000, 1200000, 899000, 280000, 500000, 490000, 240000, 235000, 70000, 340000, 450000, 490000, 325000, 710000, 200000, 350000, 350000, 320000, 90000, 220000, 550000, 700000, 625000, 765000, 280000, 950000, 155000, 325000, 730000, 45000, 299000, 720000, 440000, 515000, 300000, 280000, 350000, 600000, 160000, 900000, 570000, 290000, 890000, 65000, 620000, 620000, 500000, 210000, 430000, 793000, 225000, 121000, 110000, 625000, 650000, 300000, 250000, 229999, 130000, 503000, 180000, 525000, 280000, 100000, 300000, 275000, 70000, 600000, 720000, 1200000, 550000, 210000, 512000, 500000, 45000, 400000, 341000, 250000, 625000, 325000, 229999, 380000, 450000, 1380000, 200000, 500000, 229999, 100000, 600000, 750000, 625000, 955000, 150000, 503000, 360000, 149000, 270000, 220000, 450000, 515000, 484999, 180000, 325000, 600000, 290000, 610000, 819999, 535000, 660000, 350000, 210000, 600000, 450000, 370000, 270000, 735000, 270000, 650000, 875000, 575000, 480000, 150000, 210000, 348000, 400000, 869999, 775000, 550000, 800000, 225000, 430000, 480000, 256999, 840000, 90000, 950000, 665000, 254999, 215000, 400000, 225000, 200000, 625000, 500000, 130000, 355000, 650000, 651000, 370000, 229999, 500000, 310000, 287000, 155000, 625000, 620000, 120000, 500000, 200000, 165000, 270000, 660000, 120000, 620000, 160000, 574000, 272000, 200000, 400000, 200000, 700000, 320000, 600000, 340000, 290000, 450000, 300000, 350000, 800000, 385000, 480000, 500000, 300000, 320000, 600000, 520000, 650000, 1475000, 503000, 800000, 650000, 85000, 1225000, 650000, 250000, 700000, 725000, 600000, 470000, 535000, 254999, 500000, 880000, 570000, 490000, 350000, 170000, 320000, 160000, 250000, 265000, 625000, 400000, 81000, 455000, 160000, 550000, 395000, 300000, 370000, 340000, 380000, 600000, 250000, 445000, 509999, 430000, 445000, 550000, 1750000, 320000, 540000, 475000, 975000, 545000, 450000, 366000, 200000, 450000, 950000, 400000, 300000, 280000, 310000, 455000, 520000, 730000, 195000, 700000, 819999, 430000, 600000, 925000, 600000, 235000, 375000, 220000, 250000, 625000, 400000, 445000, 100000, 409999, 185000, 245000, 899000, 650000, 400000, 150000, 599000, 150000, 434999, 170000, 800000, 760000, 950000, 450000, 434999, 565000, 640000, 813000, 190000, 370000, 750000, 250000, 390000, 229999, 280000, 600000, 1050000, 900000, 430000, 650000, 221000, 500000, 280000, 390000, 250000, 300000, 210000, 524000, 275000, 225000, 165000, 525000, 260000, 300000, 404000, 350000, 165000, 345000, 204999, 175000, 550000, 625000, 600000, 350000, 550000, 350000, 350000, 280000, 800000, 335000, 260000, 300000, 290000, 275000, 975000, 695000, 459999, 285000, 190000, 425000, 111000, 400000, 375000, 600000, 426000, 630000, 700000, 395000, 750000, 300000, 730000, 385000, 180000, 850000, 425000, 225000, 650000, 250000, 100000, 320000, 483000, 275000, 409999, 530000, 500000, 100000, 275000, 850000, 450000, 950000, 400000, 320000, 450000, 60000, 625000, 480000, 175000, 600000, 1100000, 110000, 630000, 650000, 2000000, 280000, 800000, 495000, 550000, 220000, 550000, 400000, 380000, 570000, 180000, 625000, 70000, 300000, 187000, 250000, 415000, 225000, 290000, 81000, 950000, 380000, 421000, 600000, 1100000, 300000, 550000, 1200000, 200000, 500000, 110000, 252000, 270000, 450000, 625000, 1200000, 240000, 850000, 450000, 320000, 470000, 360000, 1300000, 190000, 265000, 490000, 240000, 470000, 200000, 120000, 150000, 225000, 631000, 340000, 200000, 325000, 750000, 470000, 200000, 200000, 630000, 150000, 40000, 185000, 110000, 520000, 220000, 130000, 240000, 220000, 570000, 120000, 350000, 425000, 250000, 493000, 515000, 625000, 120000, 160000, 560000, 195000, 625000, 450000, 270000, 650000, 650000, 520000, 430000, 60000, 400000, 1250000, 850000, 450000, 1150000, 860000, 375000, 95000, 550000, 890000, 445000, 450000, 550000, 585000, 725000, 135000, 101000, 135000, 800000, 600000, 650000, 335000, 291000, 500000, 575000, 880000, 270000, 459999, 55000, 420000, 245000, 240000, 600000, 225000, 225000, 695000, 130000, 475000, 220000, 200000, 200000, 585000, 420000, 850000, 1200000, 380000, 260000, 1365000, 250000, 850000, 235000, 1175000, 65000, 60000, 110000, 220000, 100000, 1511000, 300000, 210000, 600000, 600000, 409999, 250000, 70000, 550000, 300000, 100000, 299000, 650000, 550000, 280000, 325000, 600000, 590000, 400000, 600000, 315000, 1000000, 72000, 265000, 625000, 710000, 170000, 1090000, 700000, 350000, 290000, 420000, 600000, 535000, 484999, 630000, 229999, 811000, 260000, 235000, 556000, 484999, 470000, 395000, 450000, 350000, 275000, 615000, 90000, 650000, 819999, 60000, 650000, 575000, 660000, 160000, 558000, 515000, 944999, 570000, 450000, 229999, 670000, 503000, 170000, 550000, 675000, 350000, 470000, 399000, 335000, 545000, 725000, 425000, 450000, 135000, 681000, 150000, 651000, 390000, 280000, 350000, 170000, 550000, 210000, 1350000, 198000, 50000, 110000, 160000, 466000, 750000, 450000, 302000, 90000, 100000, 300000, 150000, 325000, 580000, 800000, 380000, 221000, 650000, 500000, 125000, 830000, 740000, 90000, 575000, 800000, 260000, 265000, 130000, 330000, 600000, 375000, 470000, 500000, 950000, 350000, 380000, 499000, 450000, 46000, 1000000, 434999, 740000, 350000, 220000, 430000, 425000, 175000, 540000, 325000, 650000, 400000, 385000, 430000, 270000, 650000, 1400000, 550000, 370000, 535000, 320000, 700000, 350000, 150000, 700000, 70000, 325000, 114999, 329000, 977000, 160000, 110000, 270000, 300000, 400000, 351000, 110000, 80000, 475000, 500000, 150000, 240000, 140000, 300000, 850000, 175000, 950000, 900000, 520000, 550000, 610000, 440000, 385000, 65000, 680000, 690000, 165000, 95000, 2900000, 320000, 150000, 370000, 780000, 290000, 550000, 450000, 200000, 300000, 500000, 560000, 475000, 760000, 316000, 351000, 220000, 570000, 229999, 900000, 690000, 300000, 360000, 259000, 150000, 750000, 430000, 680000, 270000, 440000, 325000, 245000, 300000, 150000, 725000, 700000, 254999, 190000, 130000, 650000, 320000, 320000, 650000, 770000, 585000, 380000, 675000, 350000, 425000, 455000, 400000, 715000, 900000, 320000, 210000, 169000, 350000, 1000000, 434999, 685000, 118000, 450000, 425000, 388000, 65000, 270000, 245000, 690000, 160000, 178000, 1075000, 560000, 200000, 445000, 515000, 1100000, 300000, 400000, 409999, 142000, 141000, 235000, 700000, 30000, 405000, 250000, 725000, 700000, 585000, 250000, 320000, 425000, 340000, 85000, 650000, 750000, 775000, 300000, 700000, 300000, 160000, 200000, 215000, 300000, 375000, 900000, 503000, 140000, 150000, 550000, 800000, 400000, 700000, 204999, 550000, 300000, 925000, 600000, 275000, 450000, 220000, 450000, 503000, 360000, 270000, 500000, 100000, 666000, 503000, 225000, 112999, 350000, 400000, 1650000, 735000, 125000, 522000, 990000, 380000, 625000, 530000, 190000, 45000, 275000, 430000, 120000, 750000, 252999, 800000, 204999, 320000, 365000, 450000, 600000, 415000, 350000, 350000, 198000, 409999, 650000, 575000, 700000, 400000, 400000, 400000, 325000, 275000, 1110000, 1150000, 290000, 910000, 600000, 200000, 220000, 120000, 690000, 509999, 700000, 350000, 425000, 500000, 185000, 170000, 750000, 625000, 459999, 700000, 325000, 80000, 500000, 475000, 503000, 450000, 600000, 240000, 59259, 261000, 290000, 630000, 600000, 600000, 750000, 400000, 270000, 700000, 500000, 640000, 1000000, 625000, 180000, 189000, 690000, 356000, 488000, 1000000, 800000, 280000, 450000, 720000, 560000, 310000, 330000, 503000, 200000, 350000, 325000, 720000, 1050000, 1800000, 450000, 1250000, 425000, 85000, 540000, 425000, 450000, 300000, 140000, 220000, 530000, 655000, 680000, 250000, 75000, 122000, 350000, 409999, 445000, 1460000, 315000, 408000, 387000, 200000, 450000, 800000, 275000, 1680000, 450000, 1000000, 300000, 1200000, 850000, 565000, 950000, 120000, 335000, 190000, 320000, 225000, 140000, 165000, 532000, 360000, 150000, 625000, 520000, 140000, 320000, 250000, 145000, 515000, 250000, 105000, 160000, 110000, 295000, 130000, 650000, 740000, 190000, 957000, 450000, 375000, 445000, 70000, 409999, 170000, 58000, 320000, 310000, 819999, 93000, 900000, 700000, 1300000, 200000, 250000, 85000, 180000, 434999, 250000, 390000, 225000, 550000, 60000, 158000, 380000, 850000, 1000000, 170000, 760000, 800000, 570000, 156000, 550000, 175000, 300000, 200000, 740000, 330000, 220000, 550000, 550000, 200000, 280000, 330000, 550000, 475000, 130000, 245000, 754000, 229999, 1100000, 315000, 625000, 750000, 409999, 550000, 200000, 869999, 960000, 600000, 834000, 530000, 225000, 315000, 665000, 371000, 465000, 150000, 625000, 180000, 950000, 350000, 780000, 340000, 1600000, 95000, 180000, 730000, 700000, 155000, 350000, 300000, 350000, 150000, 350000, 300000, 450000, 195000, 710000, 470000, 180000, 860000, 160000, 725000, 550000, 330000, 540000, 210000, 210000, 350000, 550000, 655000, 140000, 285000, 200000, 190000, 1500000, 550000, 320000, 950000, 730000, 500000, 229999, 900000, 300000, 400000, 120000, 720000, 250000, 400000, 347000, 579000, 250000, 650000, 590000, 350000, 395000, 1200000, 550000, 100000, 475000, 360000, 451000, 500000, 190000, 120000, 185000, 632000, 550000, 190000, 740000, 511000, 750000, 600000, 764000, 500000, 70000, 190000, 780000, 575000, 720000, 411000, 500000, 850000, 312000, 235000, 480000, 550000, 220000, 1050000, 550000, 690000, 295000, 350000, 797000, 790000, 200000, 780000, 650000, 350000, 275000, 204999, 670000, 135000, 200000, 225000, 650000, 400000, 630000, 458000, 900000, 480000, 550000, 250000, 509999, 300000, 300000, 850000, 130000, 320000, 1450000, 570000, 155000, 950000, 250000, 580000, 160000, 650000, 110000, 600000, 94500, 600000, 470000, 425000, 420000, 300000, 180000, 650000, 210000, 220000, 690000, 484999, 160000, 80000, 400000, 140000, 110000, 265000, 275000, 562000, 100000, 200000, 575000, 229999, 480000, 509999, 350000, 400000, 1000000, 476999, 85000, 290000, 395000, 90000, 114999, 170000, 300000, 740000, 325000, 180000, 300000, 285000, 700000, 118000, 540000, 450000, 503000, 404000, 250000, 450000, 90000, 390000, 950000, 475000, 550000, 530000, 350000, 650000, 700000, 530000, 278000, 570000, 325000, 650000, 132000, 620000, 750000, 380000, 290000, 700000, 229999, 170000, 700000, 570000, 350000, 409999, 225000, 590000, 150000, 1650000, 250000, 440000, 575000, 650000, 220000, 795000, 400000, 310000, 580000, 525000, 450000, 400000, 950000, 150000, 860000, 80000, 1689999, 678000, 225000, 600000, 250000, 340000, 265000, 200000, 610000, 160000, 290000, 180000, 430000, 834000, 330000, 750000, 869999, 310000, 240000, 250000, 45000, 100000, 295000, 675000, 225000, 500000, 1050000, 530000, 500000, 65000, 175000, 620000, 150000, 180000, 400000, 500000, 350000, 345000, 450000, 475000, 250000, 215000, 315000, 120000, 229999, 500000, 100000, 740000, 575000, 320000, 235000, 525000, 300000, 1125000, 500000, 220000, 350000, 459999, 420000, 180000, 300000, 1100000, 690000, 360000, 1050000, 900000, 1500000, 900000, 120000, 725000, 575000, 675000, 241000, 166000, 135000, 1150000, 950000, 136000, 751000, 850000, 300000, 520000, 975000, 150000, 350000, 900000, 720000, 150000, 730000, 120000, 290000, 130000, 850000, 626000, 340000, 100000, 483000, 400000, 400000, 722000, 240000, 730000, 925000, 170000, 670000, 285000, 210000, 530000, 1150000, 1400000, 270000, 220000, 500000, 570000, 750000, 325000, 900000, 850000, 220000, 555000, 250000, 121000, 240000, 580000, 480000, 250000, 120000, 450000, 150000, 775000, 229999, 225000, 280000, 780000, 120000, 700000, 600000, 380000, 130000, 80000, 625000, 450000, 200000, 600000, 90000, 320000, 550000, 800000, 625000, 946000, 70000, 375000, 275000, 610000, 550000, 210000, 275000, 800000, 590000, 650000, 550000, 710000, 149000, 425000, 2950000, 550000, 430000, 179000, 700000, 750000, 190000, 475000, 450000, 320000, 400000, 110000, 750000, 780000, 900000, 386000, 50000, 120000, 455000, 300000, 325000, 800000, 420000, 300000, 470000, 330000, 550000, 450000, 550000, 260000, 500000, 735000, 509999, 362000, 500000, 800000, 300000, 1938000, 685000, 70000, 580000, 200000, 450000, 750000, 240000, 140000, 225000, 200000, 400000, 450000, 190000, 1350000, 231000, 430000, 415000, 242000, 700000, 650000, 150000, 451000, 605000, 275000, 450000, 180000, 245000, 50000, 825000, 750000, 570000, 700000, 81000, 320000, 530000, 1500000, 75000, 1530000, 1050000, 551000, 229999, 95000, 850000, 800000, 290000, 385000, 503000, 155000, 480000, 45000, 800000, 200000, 158000, 391000, 600000, 395000, 180000, 600000, 550000, 150000, 310000, 360000, 300000, 675000, 1100000, 620000, 170000, 780000, 206000, 530000, 450000, 509999, 520000, 450000, 150000, 150000, 250000, 390000, 370000, 370000, 700000, 750000, 35000, 500000, 240000, 620000, 550000, 550000, 70000, 525000, 892000, 295000, 120000, 290000, 350000, 495000, 350000, 280000, 1150000, 710000, 465000, 300000, 750000, 145000, 35000, 300000, 275000, 300000, 409999, 254999, 260000, 499000, 275000, 350000, 500000, 400000, 451000, 700000, 670000, 235000, 420000, 690000, 860000, 200000, 500000, 409999, 150000, 350000, 756000, 45000, 500000, 900000, 330000, 750000, 1132000, 250000, 200000, 140000, 500000, 850000, 750000, 350000, 650000, 200000, 260000, 215000, 430000, 220000, 125000, 229999, 310000, 610000, 262000, 225000, 475000, 204999, 200000, 320000, 550000, 670000, 370000, 860000, 245000, 484999, 600000, 1325000, 45000, 400000, 503000, 320000, 350000, 451999, 950000, 70000, 425000, 459999, 450000, 675000, 900000, 50000, 229999, 635000, 450000, 515000, 240000, 340000, 225000, 250000, 265000, 375000, 525000, 300000, 152000, 645000, 265000, 300000, 65000, 400000, 450000, 65000, 380000, 330000, 1550000, 420000, 600000, 575000, 300000, 450000, 409999, 150000, 140000, 750000, 93000, 625000, 290000, 120000, 350000, 350000, 260000, 240000, 430000, 650000, 875000, 425000, 950000, 540000, 1100000, 390000, 450000, 250000, 375000, 600000, 227999, 950000, 450000, 560000, 1050000, 225000, 150000, 969999, 830000, 240000, 850000, 320000, 740000, 350000, 459999, 650000, 450000, 500000, 300000, 655000, 509999, 890000, 850000, 254999, 700000, 530000, 220000, 525000, 885000, 700000, 260000, 70000, 459999, 225000, 725000, 250000, 215000, 450000, 191000, 120000, 409999, 1050000, 45957, 80000, 1100000, 445000, 700000, 155000, 500000, 160000, 695000, 370000, 260000, 400000, 80000, 145000, 150000, 616000, 600000, 620000, 2125000, 275000, 190000, 800000, 275000, 90000, 195000, 1050000, 195000, 775000, 120000, 550000, 160000, 45000, 600000, 610000, 392000, 1100000, 295000, 780000, 88000, 185000, 650000, 775000, 625000, 375000, 480000, 150000, 340000, 320000, 280000, 409999, 350000, 434999, 573000, 240000, 70000, 425000, 1200000, 650000, 615000, 160000, 869999, 254999, 395000, 400000, 1149000, 229999, 85000, 210000, 42000, 850000, 170000, 475000, 500000, 490000, 75000, 60000, 755000, 185000, 480000, 375000, 65000, 757000, 430000, 635000, 800000, 114999, 248000, 114999, 250000, 111000, 600000, 1300000, 750000, 500000, 385000, 350000, 180000, 660000, 325000, 650000, 803999, 190000, 190000, 575000, 640000, 555000, 500000, 540000, 369000, 565000, 150000, 450000, 120000, 250000, 350000, 450000, 445000, 725000, 640000, 380000, 650000, 580000, 459999, 650000, 450000, 310000, 250000, 432000, 180000, 425000, 775000, 710000, 455000, 120000, 450000, 459999, 190000, 589000, 450000, 484999, 1200000, 626000, 415000, 550000, 730000, 500000, 925000, 170000, 484999, 600000, 805000, 265000, 450000, 650000, 725000, 900000, 600000, 290000, 150000, 350000, 125000, 200000, 450000, 220000, 560000, 750000, 620000, 250000, 720000, 100000, 90000, 98000, 420000, 1030000, 260000, 320000, 900000, 600000, 285000, 285000, 650000, 600000, 425000, 360000, 520000, 210000, 229999, 509999, 595000, 925000, 1150000, 570000, 1465000, 900000, 310000, 750000, 210000, 400000, 525000, 600000, 555000, 246000, 110000, 360000, 1400000, 385000, 215000, 850000, 630000, 409999, 1050000, 275000, 440000, 200000, 509999, 382000, 350000, 55000, 650000, 130000, 295000, 350000, 450000, 1220000, 550000, 1400000, 560000, 1594000, 350000, 490000, 950000, 250000, 910000, 1515000, 250000, 610000, 390000, 595000, 250000, 120000, 380000, 160000, 240000, 465000, 1650000, 525000, 200000, 530000, 370000, 433000, 31504, 500000, 325000, 1050000, 375000, 650000, 200000, 280000, 600000, 711000, 40000, 300000, 560000, 200000, 550000, 390000, 480000, 570000, 671000, 730000, 250000, 900000, 145000, 220000, 300000, 270000, 450000, 200000, 525000, 150000, 430000, 585000, 290000, 1550000, 68000, 630000, 300000, 300000, 235000, 500000, 125000, 100000, 200000, 600000, 660000, 170000, 700000, 490000, 1700000, 800000, 650000, 200000, 240000, 240000, 940000, 330000, 811000, 300000, 700000, 215000, 500000, 310000, 250000, 55000, 100000, 525000, 585000, 110000, 810000, 699000, 210000, 540000, 550000, 210000, 400000, 590000, 678000, 490000, 350000, 200000, 200000, 550000, 500000, 550000, 1325000, 520000, 560000, 535000, 150000, 459999, 175000, 800000, 395000, 800000, 240000, 430000, 350000, 625000, 800000, 990000, 503000, 180000, 950000, 500000, 700000, 550000, 420000, 450000, 600000, 550000, 415000, 520000, 170000, 700000, 270000, 305000, 320000, 85000, 310000, 480000, 290000, 175000, 150000, 150000, 196000, 445000, 200000, 375000, 282000, 530000, 90177, 80000, 370000, 503000, 180000, 195000, 200000, 220000, 350000, 191000, 350000, 337000, 310000, 250000, 300000, 500000, 1000000, 380000, 229999, 450000, 335000, 487000, 889000, 700000, 160000, 275000, 200000, 775000, 204999, 700000, 395000, 300000, 530000, 428000, 210000, 610000, 250000, 225000, 390000, 595000, 850000, 360000, 225000, 620000, 390000, 185000, 50000, 220000, 236000, 1850000, 599000, 1040000, 400000, 675000, 900000, 185000, 775000, 409999, 830000, 313000, 300000, 700000, 250000, 978999, 450000, 600000, 240000, 370000, 550000, 360000, 275000, 570000, 495000, 300000, 999000, 745000, 200000, 535000, 340000, 325000, 735000, 800000, 120000, 950000, 355000, 190000, 750000, 160000, 560000, 110000, 1680000, 465000, 375000, 600000, 105000, 600000, 395000, 225000, 570000, 125000, 600000, 83000, 380000, 400000, 280000, 700000, 565000, 775000, 250000, 225000, 540000, 509999, 105000, 500000, 525000, 225000, 200000, 500000, 380000, 1200000, 950000, 250000, 425000, 670000, 425000, 250000, 650000, 680000, 320000, 275000, 1650000, 700000, 475000, 900000, 315000, 1385000, 550000, 700000, 600000, 375000, 200000, 80000, 190000, 750000, 360000, 129000, 465000, 950000, 421000, 360000, 525000, 550000, 340000, 180000, 800000, 1250000, 400000, 509999, 229999, 900000, 625000, 65000, 206000, 300000, 475000, 900000, 187000, 495000, 140000, 345000, 275000, 160000, 800000, 320000, 175000, 155000, 503000, 270000, 65000, 130000, 300000, 600000, 530000, 300000, 1675000, 1200000, 551000, 790000, 540000, 199000, 550000, 910000, 459999, 550000, 200000, 550000, 260000, 1000000, 235000, 670000, 745000, 390000, 150000, 300000, 135000, 620000, 875000, 280000, 350000, 350000, 550000, 108000, 170000, 675000, 300000, 145000, 550000, 250000, 590000, 545000, 500000, 300000, 450000, 850000, 135000, 270000, 750000, 135000, 950000, 850000, 450000, 120000, 675000, 120000, 400000, 375000, 351000, 780000, 500000, 800000, 1550000, 254999, 950000, 550000, 850000, 590000, 40000, 775000, 625000, 509999, 270000, 150000, 150000, 165000, 250000, 425000, 649000, 950000, 155000, 355000, 360000, 750000, 700000, 180000, 170000, 50000, 270000, 500000, 300000, 150000, 120000, 975000, 114999, 950000, 170000, 620000, 580000, 120000, 229999, 175000, 800000, 215000, 600000, 580000, 750000, 434999, 165000, 210000, 220000, 725000, 800000, 390000, 235000, 250000, 185000, 540000, 200000, 350000, 350000, 630000, 305000, 270000, 300000, 500000, 425000, 64000, 370000, 155000, 300000, 60000, 700000, 700000, 400000, 434999, 380000, 359000, 250000, 370000, 350000, 225000, 577000, 260000, 100000, 200000, 245000, 328000, 165000, 975000, 305000, 140000, 585000, 225000, 459999, 310000, 580000, 425000, 250000, 450000, 65000, 450000, 400000, 511000, 350000, 142000, 220000, 150000, 30000, 140000, 780000, 250000, 100000, 165000, 270000, 810000, 350000, 372000, 250000, 311000, 450000, 238000, 130000, 75000, 700000, 1225000, 830000, 290000, 120000, 611000, 351000, 300000, 285000, 300000, 540000, 150000, 190000, 1575000, 570000, 220000, 150000, 540000, 330000, 335000, 250000, 245000, 500000, 215000, 900000, 890000, 165000, 416000, 600000, 375000, 400000, 340000, 600000, 265000, 890000, 310000, 550000, 500000, 575000, 800000, 822000, 535000, 600000, 320000, 200000, 220000, 710000, 280000, 105000, 550000, 1675000, 850000, 585000, 516000, 655000, 175000, 150000, 370000, 525000, 250000, 150000, 325000, 950000, 210000, 300000, 150000, 725000, 740000, 470000, 345000, 449000, 150000, 850000, 1180000, 800000, 600000, 350000, 275000, 390000, 200000, 675000, 250000, 490000, 320000, 125000, 750000, 650000, 150000, 150000, 450000, 800000, 150000, 320000, 57000, 150000, 540000, 245000, 350000, 600000, 270000, 130000, 280000, 710000, 780000, 400000, 445000, 480000, 950000, 350000, 65000, 200000, 520000, 130000, 90000, 400000, 225000, 45000, 700000, 325000, 300000, 250000, 440000, 100000, 741000, 215000, 625000, 150000, 645000, 560000, 600000, 811000, 200000, 680000, 200000, 611000, 200000, 1670000, 780000, 160000, 500000, 700000, 140000, 1225000, 290000, 90000, 220000, 365000, 220000, 260000, 375000, 578000, 352000, 50000, 565000, 520000, 300000, 40000, 400000, 300000, 500000, 740000, 451999, 740000, 305000, 340000, 450000, 300000, 320000, 450000, 40000, 1000000, 335000, 525000, 440000, 300000, 310000, 385000, 500000, 600000, 350000, 380000, 819999, 625000, 160000, 135000, 459999, 350000, 350000, 550000, 187000, 300000, 900000, 320000, 300000, 750000, 160000, 380000, 600000, 50000, 725000, 650000, 277000, 100000, 610000, 850000, 910000, 550000, 1100000, 320000, 700000, 130000, 472000, 350000, 675000, 1630000, 60000, 500000, 480000, 660000, 260000, 525000, 503000, 730000, 335000, 260000, 535000, 250000, 260000, 450000, 750000, 625000, 345000, 330000, 525000, 825000, 200000, 700000, 300000, 321000, 140000, 1250000, 500000, 340000, 1000000, 100000, 225000, 750000, 330000, 550000, 145000, 300000, 550000, 425000, 220000, 350000, 405000, 750000, 500000, 625000, 75000, 432000, 125000, 310000, 295000, 500000, 825000, 70000, 700000, 1210000, 560000, 600000, 320000, 245000, 221000, 250000, 33351, 500000, 450000, 450000, 325000, 260000, 240000, 750000, 260000, 670000, 155000, 969999, 675000, 700000, 630000, 459999, 400000, 755000, 620000, 700000, 625000, 200000, 570000, 390000, 110000, 680000, 320000, 350000, 670000, 401000, 445000, 235000, 1050000, 150000, 391000, 280000, 750000, 950000, 220000, 300000, 645000, 210000, 315000, 850000, 250000, 880000, 700000, 600000, 129000, 750000, 172000, 500000, 45000, 2000000, 1300000, 390000, 600000, 395000, 90000, 550000, 150000, 425000, 550000, 550000, 450000, 119000, 140000, 850000, 950000, 190000, 200000, 300000, 250000, 760000, 152000, 235000, 350000, 190000, 800000, 295000, 459999, 780000, 999000, 880000, 597000, 450000, 300000, 160000, 750000, 329000, 267000, 1050000, 720000, 100000, 420000, 625000, 148000, 100000, 550000, 610000, 260000, 1151000, 450000, 110000, 285000, 690000, 200000, 285000, 200000, 420000, 525000, 55000, 340000, 400000, 550000, 175000, 800000, 480000, 740000, 315000, 509999, 135000, 675000, 140000, 270000, 70000, 250000, 455999, 650000, 580000, 260000, 445000, 300000, 900000, 200000, 335000, 525000, 525000, 403000, 590000, 350000, 750000, 630000, 450000, 200000, 250000, 650000, 1000000, 225000, 80000, 625000, 400000, 250000, 550000, 254999, 300000, 640000, 500000, 300000, 500000, 350000, 370000, 1030000, 200000, 409999, 285000, 450000, 465000, 380000, 500000, 210000, 310000, 80000, 370000, 660000, 400000, 300000, 680000, 225000, 350000, 300000, 500000, 690000, 360000, 220000, 225000, 600000, 440000, 225000, 720000, 440000, 250000, 400000, 1100000, 350000, 350000, 300000, 135000, 120000, 210000, 100000, 420000, 1250000, 215000, 260000, 760000, 530000, 480000, 550000, 350000, 425000, 220000, 220000, 350000, 105000, 100000, 95000, 600000, 370000, 215000, 680000, 1050000, 500000, 1325000, 200000, 210000, 95000, 950000, 175000, 860000, 409999, 350000, 600000, 515000, 486000, 400000, 345000, 509999, 395000, 500000, 500000, 250000, 145000, 700000, 484999, 550000, 308000, 550000, 170000, 455000, 600000, 600000, 250000, 300000, 200000, 500000, 409999, 325000, 700000, 180000, 290000, 730000, 400000, 150000, 350000, 130000, 240000, 750000, 405000, 775000, 500000, 550000, 650000, 400000, 850000, 350000, 254999, 550000, 660000, 185000, 215000, 150000, 755000, 275000, 320000, 750000, 250000, 850000, 250000, 800000, 300000, 590000, 140000, 500000, 320000, 310000, 974000, 350000, 910000, 80500, 215000, 545000, 380000, 235000, 360000, 229999, 430000, 300000, 330000, 520000, 300000, 643000, 459999, 570000, 429000, 420000, 1000000, 1400000, 70000, 130000, 150000, 350000, 911000, 160000, 280000, 1325000, 450000, 350000, 325000, 350000, 950000, 380000, 775000, 750000, 475000, 465000, 459999, 800000, 575000, 350000, 50000, 409999, 665000, 960000, 245000, 550000, 346000, 650000, 1500000, 650000, 120000, 434999, 780000, 280000, 300000, 660000, 250000, 711000, 100000, 350000, 800000, 600000, 68000, 250000, 520000, 140000, 220000, 310000, 150000, 445000, 225000, 300000, 415000, 650000, 773000, 805000, 295000, 250000, 484999, 700000, 240000, 700000, 220000, 160000, 1576000, 700000, 320000, 600000, 630000, 50000, 600000, 1000000, 246000, 400000, 325000, 655000, 150000, 280000, 600000, 215000, 515000, 450000, 150000, 170000, 215000, 503000, 400000, 1265000, 335000, 400000, 540000, 525000, 425000, 482000, 300000, 180000, 375000, 650000, 555000, 285000, 170000, 530000, 700000, 325000, 600000, 480000, 295000, 199000, 229999, 290000, 360000, 980000, 254999, 80000, 130000, 545000, 280000, 415000, 1575000, 250000, 500000, 310000, 500000, 200000, 700000, 300000, 700000, 600000, 330000, 280000, 570000, 130000, 340000, 509999, 600000, 425000, 130000, 35000, 555000, 525000, 550000, 300000, 310000, 150000, 50000, 350000, 749000, 150000, 310000, 375000, 700000, 795000, 550000, 819999, 330000, 180000, 300000, 535000, 690000, 530000, 425000, 459999, 316000, 764000, 400000, 1000000, 40000, 459999, 550000, 400000, 250000, 500000, 550000, 420000, 600000, 180000, 300000, 165000, 400000, 265000, 690000, 350000, 150000, 399000, 600000, 300000, 620000, 350000, 571000, 409999, 330000, 350000, 800000, 450000, 1405000, 770000, 190000, 221000, 295000, 450000, 310000, 40000, 780000, 350000, 950000, 225000, 310000, 420000, 40000, 620000, 295000, 280000, 1050000, 275000, 750000, 800000, 1145000, 499000, 350000, 1050000, 700000, 700000, 450000, 340000, 484999, 35000, 550000, 229999, 315000, 270000, 215000, 780000, 225000, 450000, 390000, 725000, 550000, 125000, 245000, 700000, 212000, 925000, 155000, 350000, 415000, 350000, 170000, 270000, 229999, 85000, 175000, 503000, 250000, 526000, 270000, 280000, 175000, 589000, 185000, 110000, 1575000, 70000, 450000, 220000, 300000, 346000, 525000, 430000, 550000, 919999, 180000, 425000, 310000, 480000, 480000, 240000, 611000, 420000, 250000, 680000, 450000, 227999, 445000, 96000, 150000, 280000, 850000, 850000, 320000, 360000, 200000, 345000, 270000, 745000, 425000, 1150000, 754000, 110000, 1380000, 170000, 55000, 360000, 550000, 220000, 120000, 200000, 300000, 650000, 204999, 340000, 290000, 1035000, 310000, 290000, 300000, 441000, 415000, 75000, 114999, 160000, 190000, 595000, 225000, 275000, 730000, 130000, 210000, 503000, 85000, 250999, 220000, 190000, 340000, 210000, 780000, 200000, 450000, 600000, 310000, 130000, 715000, 550000, 360000, 409999, 550000, 370000, 370000, 235000, 740000, 180000, 150000, 70000, 409999, 240000, 225000, 1100000, 198000, 500000, 770000, 750000, 85000, 675000, 650000, 310000, 142000, 265000, 1525000, 350000, 200000, 550000, 90000, 630000, 730000, 459999, 350000, 130000, 525000, 390000, 270000, 220000, 750000, 221000, 625000, 60000, 70000, 140000, 470000, 250000, 830000, 340000, 459999, 275000, 200000, 459999, 1350000, 425000, 900000, 180000, 210000, 250000, 180000, 600000, 425000, 265000, 225000, 150000, 300000, 470000, 2150000, 200000, 800000, 380000, 535000, 250000, 660000, 740000, 550000, 229999, 800000, 570000, 430000, 650000, 750000, 850000, 250000, 250000, 360000, 340000, 135000, 190000, 500000, 450000, 1575000, 110000, 1050000, 335000, 400000, 1019999, 802999, 200000, 610000, 300000, 600000, 225000, 55000, 1350000, 130000, 400000, 390000, 450000, 550000, 1100000, 280000, 819999, 570000, 325000, 925000, 320000, 700000, 300000, 675000, 290000, 100000, 165000, 810000, 150000, 300000, 869999, 390000, 350000, 375000, 545000, 395000, 730000, 285000, 250000, 110000, 190000, 260000, 409999, 550000, 184000, 65000, 610000, 700000, 105000, 600000, 720000, 100000, 620000, 60000, 220000, 1250000, 229999, 185000, 375000, 605000, 170000, 1475000, 500000, 300000, 180000, 690000, 300000, 45000, 300000, 250000, 750000, 350000, 503000, 850000, 484999, 350000, 194000, 550000, 620000, 509999, 434999, 350000, 560000, 730000, 450000, 160000, 650000, 200000, 635000, 350000, 110000, 600000, 335000, 480000, 2125000, 869999, 80000, 225000, 515000, 660000, 1200000, 480000, 120000, 479000, 360000, 1000000, 175000, 180000, 260000, 810000, 650000, 980000, 175000, 750000, 120000, 380000, 55000, 250000, 350000, 300000, 800000, 350000, 200000, 300000, 145000, 1075000, 500000, 45957, 380000, 320000, 735000, 200000, 325000, 610000, 90000, 300000, 400000, 200000, 500000, 885000, 480000, 680000, 880000, 350000, 160000, 484999, 1000000, 170000, 285000, 1400000, 524000, 450000, 490000, 693000, 750000, 390000, 40000, 200000, 500000, 225000, 200000, 260000, 630000, 1800000, 150000, 1000000, 780000, 625000, 350000, 290000, 750000, 610000, 100000, 850000, 650000, 75000, 605000, 450000, 560000, 610000, 90000, 1490000, 100000, 90000, 650000, 475000, 600000, 725000, 550000, 250000, 500000, 625000, 275000, 310000, 671000, 280000, 420000, 250000, 415000, 600000, 200000, 520000, 270000, 215000, 395000, 850000, 675000, 680000, 80000, 450000, 240000, 400000, 60000, 55000, 1350000, 120000, 800000, 351000, 42000, 300000, 465000, 200000, 575000, 52000, 400000, 450000, 330000, 200000, 700000, 310000, 120000, 450000, 550000, 825000, 380000, 445000, 575000, 630000, 1200000, 245000, 680000, 190000, 600000, 280000, 630000, 310000, 300000, 950000, 65000, 750000, 539000, 700000, 500000, 280000, 850000, 470000, 350000, 148000, 160000, 270000, 1350000, 450000, 400000, 350000, 684000, 765000, 655000, 650000, 140000, 650000, 370000, 335000, 290000, 480000, 204999, 1405000, 640000, 295000, 229999, 235000, 275000, 250000, 475000, 150000, 580000, 550000, 250000, 200000, 640000, 250000, 500000, 130000, 310000, 625000, 310000, 575000, 90000, 950000, 325000, 180000, 300000, 400000, 350000, 114999, 300000, 1200000, 800000, 800000, 240000, 385000, 370000, 105000, 495000, 450000, 445000, 470000, 525000, 875000, 330000, 409999, 700000, 550000, 440000, 650000, 100000, 645000, 80000, 225000, 340000, 325000, 425000, 210000, 120000, 415000, 260000, 590000, 469000, 500000, 570000, 550000, 175000, 475000, 500000, 375000, 200000, 511000, 95000, 200000, 700000, 320000, 1525000, 300000, 459999, 640000, 600000, 70000, 370000, 1100000, 795000, 350000, 440000, 200000, 365000, 430000, 750000, 275000, 470000, 328000, 500000, 425000, 300000, 560000, 229999, 500000, 1650000, 900000, 250000, 225000, 240000, 500000, 450000, 465000, 600000, 480000, 85000, 340000, 200000, 495000, 1050000, 425000, 750000, 515000, 681000, 530000, 700000, 200000, 120000, 290000, 120000, 1250000, 710000, 650000, 700000, 225000, 650000, 630000, 1000000, 380000, 475000, 844999, 180000, 600000, 120000, 300000, 350000, 600000, 365000, 210000, 229999, 310000, 180000, 630000, 325000, 96000, 340000, 500000, 750000, 185000, 375000, 225000, 630000, 545000, 250000, 160000, 715000, 300000, 450000, 700000, 740000, 132000, 750000, 262000, 550000, 200000, 140000, 525000, 620000, 600000, 890000, 750000, 240000, 550000, 470000, 434999, 1200000, 160000, 200000, 455999, 200000, 300000, 900000, 300000, 400000, 120000, 975000, 170000, 1000000, 325000, 835000, 170000, 270000, 200000, 380000, 550000, 180000, 710000, 250000, 140000, 650000, 300000, 580000, 250999, 455000, 350000, 591000, 625000, 550000, 221000, 375000, 160000, 180000, 370000, 800000, 50000, 200000, 280000, 295000, 869999, 495000, 360000, 95000, 40000, 450000, 400000, 459999, 325000, 250000, 540000, 350000, 450000, 750000, 650000, 450000, 400000, 350000, 225000, 160000, 399000, 375000, 711000, 265000, 509999, 180000, 670000, 370000, 415000, 750000, 300000, 330000, 455000, 124000, 525000, 700000, 480000, 528000, 200000, 579000, 500000, 250000, 340000, 650000, 195000, 325000, 450000, 170000, 750000, 503000, 300000, 500000, 576000, 175000, 500000, 800000, 65000, 175000, 455000, 570000, 200000, 650000, 480000, 700000, 1100000, 200000, 650000, 350000, 380000, 600000, 925000, 651000, 550000, 270000, 375000, 246000, 550000, 250000, 475000, 160000, 60000, 725000, 235000, 390000, 450000, 250000, 550000], \"yaxis\": \"y2\"}, {\"hoverlabel\": {\"namelength\": 0}, \"hovertemplate\": \"<b>OLS trendline</b><br>selling_price = 263.836559 * engine + 82961.915704<br>R<sup>2</sup>=0.174423<br><br>transmission=Manual<br>engine=%{x}<br>selling_price=%{y} <b>(trend)</b>\", \"legendgroup\": \"transmission=Manual\", \"marker\": {\"color\": \"#1F77B4\", \"symbol\": \"circle\"}, \"mode\": \"lines\", \"name\": \"transmission=Manual\", \"showlegend\": false, \"type\": \"scattergl\", \"x\": [624.0, 624.0, 624.0, 624.0, 624.0, 624.0, 624.0, 624.0, 624.0, 624.0, 624.0, 624.0, 624.0, 624.0, 624.0, 793.0, 793.0, 793.0, 793.0, 793.0, 793.0, 796.0, 796.0, 796.0, 796.0, 796.0, 796.0, 796.0, 796.0, 796.0, 796.0, 796.0, 796.0, 796.0, 796.0, 796.0, 796.0, 796.0, 796.0, 796.0, 796.0, 796.0, 796.0, 796.0, 796.0, 796.0, 796.0, 796.0, 796.0, 796.0, 796.0, 796.0, 796.0, 796.0, 796.0, 796.0, 796.0, 796.0, 796.0, 796.0, 796.0, 796.0, 796.0, 796.0, 796.0, 796.0, 796.0, 796.0, 796.0, 796.0, 796.0, 796.0, 796.0, 796.0, 796.0, 796.0, 796.0, 796.0, 796.0, 796.0, 796.0, 796.0, 796.0, 796.0, 796.0, 796.0, 796.0, 796.0, 796.0, 796.0, 796.0, 796.0, 796.0, 796.0, 796.0, 796.0, 796.0, 796.0, 796.0, 796.0, 796.0, 796.0, 796.0, 796.0, 796.0, 796.0, 796.0, 796.0, 796.0, 796.0, 796.0, 796.0, 796.0, 796.0, 796.0, 796.0, 796.0, 796.0, 796.0, 796.0, 796.0, 796.0, 796.0, 796.0, 796.0, 796.0, 796.0, 796.0, 796.0, 796.0, 796.0, 796.0, 796.0, 796.0, 796.0, 796.0, 796.0, 796.0, 796.0, 796.0, 796.0, 796.0, 796.0, 796.0, 796.0, 796.0, 796.0, 796.0, 796.0, 796.0, 796.0, 796.0, 796.0, 796.0, 796.0, 796.0, 796.0, 796.0, 796.0, 796.0, 796.0, 796.0, 796.0, 796.0, 796.0, 796.0, 796.0, 796.0, 796.0, 796.0, 796.0, 796.0, 796.0, 796.0, 796.0, 796.0, 796.0, 796.0, 796.0, 796.0, 796.0, 796.0, 796.0, 796.0, 796.0, 796.0, 796.0, 796.0, 796.0, 796.0, 796.0, 796.0, 796.0, 796.0, 796.0, 796.0, 796.0, 796.0, 796.0, 796.0, 796.0, 796.0, 796.0, 796.0, 796.0, 796.0, 796.0, 796.0, 796.0, 796.0, 796.0, 796.0, 796.0, 796.0, 796.0, 796.0, 796.0, 796.0, 796.0, 796.0, 796.0, 796.0, 796.0, 796.0, 796.0, 796.0, 796.0, 796.0, 796.0, 796.0, 796.0, 796.0, 796.0, 796.0, 796.0, 796.0, 796.0, 796.0, 796.0, 796.0, 796.0, 796.0, 796.0, 796.0, 796.0, 796.0, 796.0, 796.0, 796.0, 796.0, 796.0, 796.0, 796.0, 796.0, 796.0, 796.0, 796.0, 796.0, 796.0, 796.0, 796.0, 796.0, 796.0, 796.0, 796.0, 796.0, 796.0, 796.0, 796.0, 796.0, 796.0, 796.0, 796.0, 796.0, 796.0, 796.0, 796.0, 796.0, 796.0, 796.0, 796.0, 796.0, 796.0, 796.0, 796.0, 796.0, 796.0, 796.0, 796.0, 796.0, 796.0, 796.0, 796.0, 796.0, 796.0, 796.0, 796.0, 796.0, 796.0, 796.0, 796.0, 796.0, 796.0, 796.0, 796.0, 796.0, 796.0, 796.0, 796.0, 796.0, 796.0, 796.0, 796.0, 796.0, 796.0, 796.0, 796.0, 796.0, 796.0, 796.0, 796.0, 796.0, 796.0, 796.0, 796.0, 796.0, 796.0, 796.0, 796.0, 796.0, 796.0, 796.0, 796.0, 796.0, 796.0, 796.0, 796.0, 796.0, 796.0, 796.0, 796.0, 796.0, 796.0, 796.0, 796.0, 796.0, 796.0, 796.0, 796.0, 796.0, 796.0, 796.0, 796.0, 796.0, 796.0, 796.0, 799.0, 799.0, 799.0, 799.0, 799.0, 799.0, 799.0, 799.0, 799.0, 799.0, 799.0, 799.0, 799.0, 799.0, 799.0, 799.0, 799.0, 799.0, 799.0, 799.0, 799.0, 799.0, 799.0, 799.0, 799.0, 799.0, 799.0, 799.0, 799.0, 799.0, 799.0, 799.0, 799.0, 799.0, 799.0, 799.0, 799.0, 799.0, 799.0, 799.0, 799.0, 799.0, 799.0, 799.0, 799.0, 799.0, 799.0, 799.0, 799.0, 799.0, 799.0, 799.0, 799.0, 799.0, 814.0, 814.0, 814.0, 814.0, 814.0, 814.0, 814.0, 814.0, 814.0, 814.0, 814.0, 814.0, 814.0, 814.0, 814.0, 814.0, 814.0, 814.0, 814.0, 814.0, 814.0, 814.0, 814.0, 814.0, 814.0, 814.0, 814.0, 814.0, 814.0, 814.0, 814.0, 814.0, 814.0, 814.0, 814.0, 814.0, 814.0, 814.0, 814.0, 814.0, 814.0, 814.0, 814.0, 814.0, 814.0, 814.0, 814.0, 814.0, 814.0, 814.0, 814.0, 814.0, 814.0, 814.0, 814.0, 814.0, 814.0, 814.0, 814.0, 814.0, 814.0, 814.0, 814.0, 814.0, 814.0, 814.0, 814.0, 814.0, 814.0, 814.0, 814.0, 814.0, 814.0, 814.0, 814.0, 814.0, 814.0, 814.0, 814.0, 814.0, 814.0, 814.0, 814.0, 814.0, 814.0, 814.0, 814.0, 814.0, 814.0, 814.0, 814.0, 814.0, 814.0, 814.0, 909.0, 909.0, 936.0, 936.0, 936.0, 936.0, 936.0, 936.0, 936.0, 936.0, 936.0, 936.0, 936.0, 936.0, 936.0, 936.0, 936.0, 936.0, 936.0, 936.0, 936.0, 936.0, 936.0, 936.0, 936.0, 936.0, 936.0, 936.0, 936.0, 993.0, 993.0, 993.0, 993.0, 993.0, 993.0, 993.0, 993.0, 993.0, 993.0, 993.0, 993.0, 993.0, 993.0, 993.0, 993.0, 993.0, 993.0, 993.0, 993.0, 995.0, 995.0, 995.0, 995.0, 995.0, 995.0, 995.0, 995.0, 995.0, 995.0, 995.0, 995.0, 995.0, 995.0, 995.0, 995.0, 995.0, 995.0, 995.0, 995.0, 995.0, 995.0, 995.0, 995.0, 995.0, 995.0, 995.0, 995.0, 995.0, 995.0, 995.0, 995.0, 998.0, 998.0, 998.0, 998.0, 998.0, 998.0, 998.0, 998.0, 998.0, 998.0, 998.0, 998.0, 998.0, 998.0, 998.0, 998.0, 998.0, 998.0, 998.0, 998.0, 998.0, 998.0, 998.0, 998.0, 998.0, 998.0, 998.0, 998.0, 998.0, 998.0, 998.0, 998.0, 998.0, 998.0, 998.0, 998.0, 998.0, 998.0, 998.0, 998.0, 998.0, 998.0, 998.0, 998.0, 998.0, 998.0, 998.0, 998.0, 998.0, 998.0, 998.0, 998.0, 998.0, 998.0, 998.0, 998.0, 998.0, 998.0, 998.0, 998.0, 998.0, 998.0, 998.0, 998.0, 998.0, 998.0, 998.0, 998.0, 998.0, 998.0, 998.0, 998.0, 998.0, 998.0, 998.0, 998.0, 998.0, 998.0, 998.0, 998.0, 998.0, 998.0, 998.0, 998.0, 998.0, 998.0, 998.0, 998.0, 998.0, 998.0, 998.0, 998.0, 998.0, 998.0, 998.0, 998.0, 998.0, 998.0, 998.0, 998.0, 998.0, 998.0, 998.0, 998.0, 998.0, 998.0, 998.0, 998.0, 998.0, 998.0, 998.0, 998.0, 998.0, 998.0, 998.0, 998.0, 998.0, 998.0, 998.0, 998.0, 998.0, 998.0, 998.0, 998.0, 998.0, 998.0, 998.0, 998.0, 998.0, 998.0, 998.0, 998.0, 998.0, 998.0, 998.0, 998.0, 998.0, 998.0, 998.0, 998.0, 998.0, 998.0, 998.0, 998.0, 998.0, 998.0, 998.0, 998.0, 998.0, 998.0, 998.0, 998.0, 998.0, 998.0, 998.0, 998.0, 998.0, 998.0, 998.0, 998.0, 998.0, 998.0, 998.0, 998.0, 998.0, 998.0, 998.0, 998.0, 998.0, 998.0, 998.0, 998.0, 998.0, 998.0, 998.0, 998.0, 998.0, 998.0, 998.0, 998.0, 998.0, 998.0, 998.0, 998.0, 998.0, 998.0, 998.0, 998.0, 998.0, 998.0, 998.0, 998.0, 998.0, 998.0, 998.0, 998.0, 998.0, 998.0, 998.0, 998.0, 998.0, 998.0, 998.0, 998.0, 998.0, 998.0, 998.0, 998.0, 998.0, 998.0, 998.0, 998.0, 998.0, 998.0, 998.0, 998.0, 998.0, 998.0, 998.0, 998.0, 998.0, 998.0, 998.0, 998.0, 998.0, 998.0, 998.0, 998.0, 998.0, 998.0, 998.0, 998.0, 998.0, 998.0, 998.0, 998.0, 998.0, 998.0, 998.0, 998.0, 998.0, 998.0, 998.0, 998.0, 998.0, 998.0, 998.0, 998.0, 998.0, 998.0, 998.0, 998.0, 998.0, 998.0, 998.0, 998.0, 998.0, 998.0, 998.0, 998.0, 998.0, 998.0, 998.0, 998.0, 998.0, 998.0, 998.0, 998.0, 998.0, 998.0, 998.0, 998.0, 998.0, 998.0, 998.0, 998.0, 998.0, 998.0, 998.0, 998.0, 998.0, 998.0, 998.0, 998.0, 998.0, 998.0, 998.0, 998.0, 998.0, 998.0, 998.0, 998.0, 998.0, 998.0, 998.0, 998.0, 998.0, 999.0, 999.0, 999.0, 999.0, 999.0, 999.0, 999.0, 999.0, 999.0, 999.0, 999.0, 999.0, 999.0, 999.0, 999.0, 999.0, 999.0, 999.0, 999.0, 999.0, 999.0, 999.0, 999.0, 999.0, 999.0, 999.0, 999.0, 999.0, 999.0, 999.0, 999.0, 999.0, 999.0, 999.0, 999.0, 999.0, 999.0, 999.0, 999.0, 999.0, 999.0, 999.0, 999.0, 999.0, 999.0, 999.0, 999.0, 999.0, 999.0, 999.0, 1047.0, 1047.0, 1047.0, 1047.0, 1047.0, 1047.0, 1047.0, 1047.0, 1047.0, 1047.0, 1047.0, 1047.0, 1047.0, 1061.0, 1061.0, 1061.0, 1061.0, 1061.0, 1061.0, 1061.0, 1061.0, 1061.0, 1061.0, 1061.0, 1061.0, 1061.0, 1061.0, 1061.0, 1061.0, 1061.0, 1061.0, 1061.0, 1061.0, 1061.0, 1061.0, 1061.0, 1061.0, 1061.0, 1061.0, 1061.0, 1061.0, 1061.0, 1061.0, 1061.0, 1061.0, 1061.0, 1061.0, 1061.0, 1061.0, 1086.0, 1086.0, 1086.0, 1086.0, 1086.0, 1086.0, 1086.0, 1086.0, 1086.0, 1086.0, 1086.0, 1086.0, 1086.0, 1086.0, 1086.0, 1086.0, 1086.0, 1086.0, 1086.0, 1086.0, 1086.0, 1086.0, 1086.0, 1086.0, 1086.0, 1086.0, 1086.0, 1086.0, 1086.0, 1086.0, 1086.0, 1086.0, 1086.0, 1086.0, 1086.0, 1086.0, 1086.0, 1086.0, 1086.0, 1086.0, 1086.0, 1086.0, 1086.0, 1086.0, 1086.0, 1086.0, 1086.0, 1086.0, 1086.0, 1086.0, 1086.0, 1086.0, 1086.0, 1086.0, 1086.0, 1086.0, 1086.0, 1086.0, 1086.0, 1086.0, 1086.0, 1086.0, 1086.0, 1086.0, 1086.0, 1086.0, 1086.0, 1086.0, 1086.0, 1086.0, 1086.0, 1086.0, 1086.0, 1086.0, 1086.0, 1086.0, 1086.0, 1086.0, 1086.0, 1086.0, 1086.0, 1086.0, 1086.0, 1086.0, 1086.0, 1086.0, 1086.0, 1086.0, 1086.0, 1086.0, 1086.0, 1086.0, 1086.0, 1086.0, 1086.0, 1086.0, 1086.0, 1086.0, 1086.0, 1086.0, 1086.0, 1086.0, 1086.0, 1086.0, 1086.0, 1120.0, 1120.0, 1120.0, 1120.0, 1120.0, 1120.0, 1120.0, 1120.0, 1120.0, 1120.0, 1120.0, 1120.0, 1120.0, 1120.0, 1120.0, 1120.0, 1120.0, 1120.0, 1120.0, 1120.0, 1120.0, 1120.0, 1120.0, 1120.0, 1120.0, 1120.0, 1120.0, 1120.0, 1120.0, 1120.0, 1120.0, 1120.0, 1120.0, 1120.0, 1120.0, 1120.0, 1120.0, 1120.0, 1120.0, 1120.0, 1120.0, 1150.0, 1150.0, 1150.0, 1150.0, 1150.0, 1150.0, 1172.0, 1172.0, 1172.0, 1172.0, 1172.0, 1172.0, 1172.0, 1172.0, 1172.0, 1186.0, 1186.0, 1186.0, 1186.0, 1186.0, 1186.0, 1186.0, 1186.0, 1186.0, 1186.0, 1186.0, 1186.0, 1186.0, 1186.0, 1186.0, 1186.0, 1186.0, 1186.0, 1186.0, 1186.0, 1186.0, 1186.0, 1186.0, 1186.0, 1186.0, 1186.0, 1186.0, 1186.0, 1186.0, 1186.0, 1186.0, 1186.0, 1186.0, 1186.0, 1186.0, 1186.0, 1186.0, 1186.0, 1186.0, 1186.0, 1186.0, 1186.0, 1186.0, 1186.0, 1186.0, 1186.0, 1186.0, 1186.0, 1193.0, 1193.0, 1193.0, 1193.0, 1193.0, 1193.0, 1193.0, 1193.0, 1193.0, 1193.0, 1193.0, 1193.0, 1193.0, 1193.0, 1193.0, 1193.0, 1193.0, 1193.0, 1193.0, 1193.0, 1193.0, 1193.0, 1193.0, 1193.0, 1193.0, 1193.0, 1193.0, 1193.0, 1194.0, 1194.0, 1194.0, 1194.0, 1194.0, 1194.0, 1194.0, 1194.0, 1194.0, 1194.0, 1194.0, 1194.0, 1194.0, 1194.0, 1194.0, 1196.0, 1196.0, 1196.0, 1196.0, 1196.0, 1196.0, 1196.0, 1196.0, 1196.0, 1196.0, 1196.0, 1196.0, 1196.0, 1196.0, 1196.0, 1196.0, 1196.0, 1196.0, 1196.0, 1196.0, 1196.0, 1196.0, 1196.0, 1196.0, 1196.0, 1196.0, 1196.0, 1196.0, 1196.0, 1196.0, 1196.0, 1196.0, 1196.0, 1196.0, 1196.0, 1196.0, 1196.0, 1196.0, 1196.0, 1196.0, 1196.0, 1196.0, 1196.0, 1196.0, 1196.0, 1196.0, 1196.0, 1196.0, 1196.0, 1196.0, 1196.0, 1196.0, 1196.0, 1196.0, 1196.0, 1196.0, 1196.0, 1196.0, 1196.0, 1196.0, 1196.0, 1196.0, 1196.0, 1196.0, 1196.0, 1196.0, 1196.0, 1196.0, 1196.0, 1196.0, 1197.0, 1197.0, 1197.0, 1197.0, 1197.0, 1197.0, 1197.0, 1197.0, 1197.0, 1197.0, 1197.0, 1197.0, 1197.0, 1197.0, 1197.0, 1197.0, 1197.0, 1197.0, 1197.0, 1197.0, 1197.0, 1197.0, 1197.0, 1197.0, 1197.0, 1197.0, 1197.0, 1197.0, 1197.0, 1197.0, 1197.0, 1197.0, 1197.0, 1197.0, 1197.0, 1197.0, 1197.0, 1197.0, 1197.0, 1197.0, 1197.0, 1197.0, 1197.0, 1197.0, 1197.0, 1197.0, 1197.0, 1197.0, 1197.0, 1197.0, 1197.0, 1197.0, 1197.0, 1197.0, 1197.0, 1197.0, 1197.0, 1197.0, 1197.0, 1197.0, 1197.0, 1197.0, 1197.0, 1197.0, 1197.0, 1197.0, 1197.0, 1197.0, 1197.0, 1197.0, 1197.0, 1197.0, 1197.0, 1197.0, 1197.0, 1197.0, 1197.0, 1197.0, 1197.0, 1197.0, 1197.0, 1197.0, 1197.0, 1197.0, 1197.0, 1197.0, 1197.0, 1197.0, 1197.0, 1197.0, 1197.0, 1197.0, 1197.0, 1197.0, 1197.0, 1197.0, 1197.0, 1197.0, 1197.0, 1197.0, 1197.0, 1197.0, 1197.0, 1197.0, 1197.0, 1197.0, 1197.0, 1197.0, 1197.0, 1197.0, 1197.0, 1197.0, 1197.0, 1197.0, 1197.0, 1197.0, 1197.0, 1197.0, 1197.0, 1197.0, 1197.0, 1197.0, 1197.0, 1197.0, 1197.0, 1197.0, 1197.0, 1197.0, 1197.0, 1197.0, 1197.0, 1197.0, 1197.0, 1197.0, 1197.0, 1197.0, 1197.0, 1197.0, 1197.0, 1197.0, 1197.0, 1197.0, 1197.0, 1197.0, 1197.0, 1197.0, 1197.0, 1197.0, 1197.0, 1197.0, 1197.0, 1197.0, 1197.0, 1197.0, 1197.0, 1197.0, 1197.0, 1197.0, 1197.0, 1197.0, 1197.0, 1197.0, 1197.0, 1197.0, 1197.0, 1197.0, 1197.0, 1197.0, 1197.0, 1197.0, 1197.0, 1197.0, 1197.0, 1197.0, 1197.0, 1197.0, 1197.0, 1197.0, 1197.0, 1197.0, 1197.0, 1197.0, 1197.0, 1197.0, 1197.0, 1197.0, 1197.0, 1197.0, 1197.0, 1197.0, 1197.0, 1197.0, 1197.0, 1197.0, 1197.0, 1197.0, 1197.0, 1197.0, 1197.0, 1197.0, 1197.0, 1197.0, 1197.0, 1197.0, 1197.0, 1197.0, 1197.0, 1197.0, 1197.0, 1197.0, 1197.0, 1197.0, 1197.0, 1197.0, 1197.0, 1197.0, 1197.0, 1197.0, 1197.0, 1197.0, 1197.0, 1197.0, 1197.0, 1197.0, 1197.0, 1197.0, 1197.0, 1197.0, 1197.0, 1197.0, 1197.0, 1197.0, 1197.0, 1197.0, 1197.0, 1197.0, 1197.0, 1197.0, 1197.0, 1197.0, 1197.0, 1197.0, 1197.0, 1197.0, 1197.0, 1197.0, 1197.0, 1197.0, 1197.0, 1197.0, 1197.0, 1197.0, 1197.0, 1197.0, 1197.0, 1197.0, 1197.0, 1197.0, 1197.0, 1197.0, 1197.0, 1197.0, 1197.0, 1197.0, 1197.0, 1197.0, 1197.0, 1197.0, 1197.0, 1197.0, 1197.0, 1197.0, 1197.0, 1197.0, 1197.0, 1197.0, 1197.0, 1197.0, 1197.0, 1197.0, 1197.0, 1197.0, 1197.0, 1197.0, 1197.0, 1197.0, 1197.0, 1197.0, 1197.0, 1197.0, 1197.0, 1197.0, 1197.0, 1197.0, 1197.0, 1197.0, 1197.0, 1197.0, 1197.0, 1197.0, 1197.0, 1197.0, 1197.0, 1197.0, 1197.0, 1197.0, 1197.0, 1197.0, 1197.0, 1197.0, 1197.0, 1197.0, 1197.0, 1197.0, 1197.0, 1197.0, 1197.0, 1197.0, 1197.0, 1197.0, 1197.0, 1197.0, 1197.0, 1197.0, 1197.0, 1197.0, 1197.0, 1197.0, 1197.0, 1197.0, 1197.0, 1197.0, 1197.0, 1197.0, 1197.0, 1197.0, 1197.0, 1197.0, 1197.0, 1197.0, 1197.0, 1197.0, 1197.0, 1197.0, 1197.0, 1197.0, 1197.0, 1197.0, 1197.0, 1197.0, 1197.0, 1197.0, 1197.0, 1197.0, 1197.0, 1197.0, 1197.0, 1197.0, 1197.0, 1197.0, 1197.0, 1197.0, 1197.0, 1197.0, 1197.0, 1197.0, 1197.0, 1197.0, 1197.0, 1197.0, 1197.0, 1197.0, 1197.0, 1197.0, 1197.0, 1197.0, 1197.0, 1197.0, 1197.0, 1197.0, 1197.0, 1197.0, 1197.0, 1197.0, 1197.0, 1197.0, 1197.0, 1197.0, 1197.0, 1197.0, 1197.0, 1197.0, 1197.0, 1197.0, 1197.0, 1197.0, 1197.0, 1197.0, 1197.0, 1197.0, 1197.0, 1197.0, 1197.0, 1197.0, 1197.0, 1197.0, 1197.0, 1197.0, 1197.0, 1197.0, 1197.0, 1197.0, 1197.0, 1197.0, 1197.0, 1197.0, 1197.0, 1197.0, 1197.0, 1197.0, 1197.0, 1197.0, 1197.0, 1197.0, 1197.0, 1197.0, 1197.0, 1197.0, 1197.0, 1197.0, 1197.0, 1197.0, 1197.0, 1197.0, 1197.0, 1197.0, 1197.0, 1197.0, 1197.0, 1197.0, 1197.0, 1197.0, 1197.0, 1197.0, 1197.0, 1197.0, 1197.0, 1197.0, 1197.0, 1197.0, 1197.0, 1197.0, 1197.0, 1197.0, 1197.0, 1197.0, 1197.0, 1197.0, 1197.0, 1197.0, 1197.0, 1197.0, 1197.0, 1197.0, 1197.0, 1197.0, 1197.0, 1197.0, 1197.0, 1197.0, 1197.0, 1197.0, 1197.0, 1197.0, 1197.0, 1197.0, 1197.0, 1197.0, 1197.0, 1197.0, 1197.0, 1197.0, 1197.0, 1197.0, 1197.0, 1197.0, 1197.0, 1197.0, 1197.0, 1197.0, 1197.0, 1197.0, 1197.0, 1197.0, 1197.0, 1198.0, 1198.0, 1198.0, 1198.0, 1198.0, 1198.0, 1198.0, 1198.0, 1198.0, 1198.0, 1198.0, 1198.0, 1198.0, 1198.0, 1198.0, 1198.0, 1198.0, 1198.0, 1198.0, 1198.0, 1198.0, 1198.0, 1198.0, 1198.0, 1198.0, 1198.0, 1198.0, 1198.0, 1198.0, 1198.0, 1198.0, 1198.0, 1198.0, 1198.0, 1198.0, 1198.0, 1198.0, 1198.0, 1198.0, 1198.0, 1198.0, 1198.0, 1198.0, 1198.0, 1198.0, 1198.0, 1198.0, 1198.0, 1198.0, 1198.0, 1198.0, 1198.0, 1198.0, 1198.0, 1198.0, 1198.0, 1198.0, 1198.0, 1198.0, 1198.0, 1198.0, 1198.0, 1198.0, 1198.0, 1198.0, 1198.0, 1198.0, 1198.0, 1198.0, 1198.0, 1198.0, 1198.0, 1198.0, 1198.0, 1198.0, 1198.0, 1198.0, 1198.0, 1198.0, 1198.0, 1198.0, 1198.0, 1198.0, 1198.0, 1198.0, 1198.0, 1198.0, 1198.0, 1198.0, 1198.0, 1198.0, 1198.0, 1198.0, 1198.0, 1198.0, 1198.0, 1198.0, 1198.0, 1198.0, 1198.0, 1198.0, 1198.0, 1198.0, 1198.0, 1198.0, 1198.0, 1198.0, 1198.0, 1198.0, 1198.0, 1198.0, 1198.0, 1198.0, 1198.0, 1198.0, 1198.0, 1198.0, 1198.0, 1198.0, 1198.0, 1198.0, 1198.0, 1198.0, 1198.0, 1198.0, 1198.0, 1198.0, 1198.0, 1199.0, 1199.0, 1199.0, 1199.0, 1199.0, 1199.0, 1199.0, 1199.0, 1199.0, 1199.0, 1199.0, 1199.0, 1199.0, 1199.0, 1199.0, 1199.0, 1199.0, 1199.0, 1199.0, 1199.0, 1199.0, 1199.0, 1199.0, 1199.0, 1199.0, 1199.0, 1199.0, 1199.0, 1199.0, 1199.0, 1199.0, 1199.0, 1199.0, 1199.0, 1199.0, 1199.0, 1199.0, 1199.0, 1199.0, 1199.0, 1199.0, 1199.0, 1199.0, 1199.0, 1199.0, 1199.0, 1199.0, 1199.0, 1199.0, 1199.0, 1199.0, 1199.0, 1199.0, 1199.0, 1199.0, 1199.0, 1199.0, 1199.0, 1199.0, 1199.0, 1199.0, 1199.0, 1199.0, 1199.0, 1199.0, 1199.0, 1199.0, 1199.0, 1199.0, 1199.0, 1199.0, 1199.0, 1199.0, 1199.0, 1199.0, 1199.0, 1199.0, 1199.0, 1199.0, 1199.0, 1199.0, 1199.0, 1199.0, 1199.0, 1199.0, 1199.0, 1199.0, 1199.0, 1199.0, 1199.0, 1199.0, 1199.0, 1199.0, 1199.0, 1199.0, 1199.0, 1199.0, 1199.0, 1199.0, 1199.0, 1199.0, 1199.0, 1199.0, 1199.0, 1199.0, 1199.0, 1199.0, 1199.0, 1199.0, 1199.0, 1199.0, 1199.0, 1199.0, 1199.0, 1199.0, 1199.0, 1199.0, 1199.0, 1199.0, 1199.0, 1199.0, 1199.0, 1199.0, 1199.0, 1199.0, 1199.0, 1199.0, 1199.0, 1199.0, 1199.0, 1199.0, 1199.0, 1199.0, 1199.0, 1199.0, 1199.0, 1199.0, 1199.0, 1199.0, 1199.0, 1199.0, 1199.0, 1199.0, 1199.0, 1199.0, 1199.0, 1199.0, 1199.0, 1199.0, 1199.0, 1199.0, 1199.0, 1199.0, 1199.0, 1199.0, 1199.0, 1199.0, 1248.0, 1248.0, 1248.0, 1248.0, 1248.0, 1248.0, 1248.0, 1248.0, 1248.0, 1248.0, 1248.0, 1248.0, 1248.0, 1248.0, 1248.0, 1248.0, 1248.0, 1248.0, 1248.0, 1248.0, 1248.0, 1248.0, 1248.0, 1248.0, 1248.0, 1248.0, 1248.0, 1248.0, 1248.0, 1248.0, 1248.0, 1248.0, 1248.0, 1248.0, 1248.0, 1248.0, 1248.0, 1248.0, 1248.0, 1248.0, 1248.0, 1248.0, 1248.0, 1248.0, 1248.0, 1248.0, 1248.0, 1248.0, 1248.0, 1248.0, 1248.0, 1248.0, 1248.0, 1248.0, 1248.0, 1248.0, 1248.0, 1248.0, 1248.0, 1248.0, 1248.0, 1248.0, 1248.0, 1248.0, 1248.0, 1248.0, 1248.0, 1248.0, 1248.0, 1248.0, 1248.0, 1248.0, 1248.0, 1248.0, 1248.0, 1248.0, 1248.0, 1248.0, 1248.0, 1248.0, 1248.0, 1248.0, 1248.0, 1248.0, 1248.0, 1248.0, 1248.0, 1248.0, 1248.0, 1248.0, 1248.0, 1248.0, 1248.0, 1248.0, 1248.0, 1248.0, 1248.0, 1248.0, 1248.0, 1248.0, 1248.0, 1248.0, 1248.0, 1248.0, 1248.0, 1248.0, 1248.0, 1248.0, 1248.0, 1248.0, 1248.0, 1248.0, 1248.0, 1248.0, 1248.0, 1248.0, 1248.0, 1248.0, 1248.0, 1248.0, 1248.0, 1248.0, 1248.0, 1248.0, 1248.0, 1248.0, 1248.0, 1248.0, 1248.0, 1248.0, 1248.0, 1248.0, 1248.0, 1248.0, 1248.0, 1248.0, 1248.0, 1248.0, 1248.0, 1248.0, 1248.0, 1248.0, 1248.0, 1248.0, 1248.0, 1248.0, 1248.0, 1248.0, 1248.0, 1248.0, 1248.0, 1248.0, 1248.0, 1248.0, 1248.0, 1248.0, 1248.0, 1248.0, 1248.0, 1248.0, 1248.0, 1248.0, 1248.0, 1248.0, 1248.0, 1248.0, 1248.0, 1248.0, 1248.0, 1248.0, 1248.0, 1248.0, 1248.0, 1248.0, 1248.0, 1248.0, 1248.0, 1248.0, 1248.0, 1248.0, 1248.0, 1248.0, 1248.0, 1248.0, 1248.0, 1248.0, 1248.0, 1248.0, 1248.0, 1248.0, 1248.0, 1248.0, 1248.0, 1248.0, 1248.0, 1248.0, 1248.0, 1248.0, 1248.0, 1248.0, 1248.0, 1248.0, 1248.0, 1248.0, 1248.0, 1248.0, 1248.0, 1248.0, 1248.0, 1248.0, 1248.0, 1248.0, 1248.0, 1248.0, 1248.0, 1248.0, 1248.0, 1248.0, 1248.0, 1248.0, 1248.0, 1248.0, 1248.0, 1248.0, 1248.0, 1248.0, 1248.0, 1248.0, 1248.0, 1248.0, 1248.0, 1248.0, 1248.0, 1248.0, 1248.0, 1248.0, 1248.0, 1248.0, 1248.0, 1248.0, 1248.0, 1248.0, 1248.0, 1248.0, 1248.0, 1248.0, 1248.0, 1248.0, 1248.0, 1248.0, 1248.0, 1248.0, 1248.0, 1248.0, 1248.0, 1248.0, 1248.0, 1248.0, 1248.0, 1248.0, 1248.0, 1248.0, 1248.0, 1248.0, 1248.0, 1248.0, 1248.0, 1248.0, 1248.0, 1248.0, 1248.0, 1248.0, 1248.0, 1248.0, 1248.0, 1248.0, 1248.0, 1248.0, 1248.0, 1248.0, 1248.0, 1248.0, 1248.0, 1248.0, 1248.0, 1248.0, 1248.0, 1248.0, 1248.0, 1248.0, 1248.0, 1248.0, 1248.0, 1248.0, 1248.0, 1248.0, 1248.0, 1248.0, 1248.0, 1248.0, 1248.0, 1248.0, 1248.0, 1248.0, 1248.0, 1248.0, 1248.0, 1248.0, 1248.0, 1248.0, 1248.0, 1248.0, 1248.0, 1248.0, 1248.0, 1248.0, 1248.0, 1248.0, 1248.0, 1248.0, 1248.0, 1248.0, 1248.0, 1248.0, 1248.0, 1248.0, 1248.0, 1248.0, 1248.0, 1248.0, 1248.0, 1248.0, 1248.0, 1248.0, 1248.0, 1248.0, 1248.0, 1248.0, 1248.0, 1248.0, 1248.0, 1248.0, 1248.0, 1248.0, 1248.0, 1248.0, 1248.0, 1248.0, 1248.0, 1248.0, 1248.0, 1248.0, 1248.0, 1248.0, 1248.0, 1248.0, 1248.0, 1248.0, 1248.0, 1248.0, 1248.0, 1248.0, 1248.0, 1248.0, 1248.0, 1248.0, 1248.0, 1248.0, 1248.0, 1248.0, 1248.0, 1248.0, 1248.0, 1248.0, 1248.0, 1248.0, 1248.0, 1248.0, 1248.0, 1248.0, 1248.0, 1248.0, 1248.0, 1248.0, 1248.0, 1248.0, 1248.0, 1248.0, 1248.0, 1248.0, 1248.0, 1248.0, 1248.0, 1248.0, 1248.0, 1248.0, 1248.0, 1248.0, 1248.0, 1248.0, 1248.0, 1248.0, 1248.0, 1248.0, 1248.0, 1248.0, 1248.0, 1248.0, 1248.0, 1248.0, 1248.0, 1248.0, 1248.0, 1248.0, 1248.0, 1248.0, 1248.0, 1248.0, 1248.0, 1248.0, 1248.0, 1248.0, 1248.0, 1248.0, 1248.0, 1248.0, 1248.0, 1248.0, 1248.0, 1248.0, 1248.0, 1248.0, 1248.0, 1248.0, 1248.0, 1248.0, 1248.0, 1248.0, 1248.0, 1248.0, 1248.0, 1248.0, 1248.0, 1248.0, 1248.0, 1248.0, 1248.0, 1248.0, 1248.0, 1248.0, 1248.0, 1248.0, 1248.0, 1248.0, 1248.0, 1248.0, 1248.0, 1248.0, 1248.0, 1248.0, 1248.0, 1248.0, 1248.0, 1248.0, 1248.0, 1248.0, 1248.0, 1248.0, 1248.0, 1248.0, 1248.0, 1248.0, 1248.0, 1248.0, 1248.0, 1248.0, 1248.0, 1248.0, 1248.0, 1248.0, 1248.0, 1248.0, 1248.0, 1248.0, 1248.0, 1248.0, 1248.0, 1248.0, 1248.0, 1248.0, 1248.0, 1248.0, 1248.0, 1248.0, 1248.0, 1248.0, 1248.0, 1248.0, 1248.0, 1248.0, 1248.0, 1248.0, 1248.0, 1248.0, 1248.0, 1248.0, 1248.0, 1248.0, 1248.0, 1248.0, 1248.0, 1248.0, 1248.0, 1248.0, 1248.0, 1248.0, 1248.0, 1248.0, 1248.0, 1248.0, 1248.0, 1248.0, 1248.0, 1248.0, 1248.0, 1248.0, 1248.0, 1248.0, 1248.0, 1248.0, 1248.0, 1248.0, 1248.0, 1248.0, 1248.0, 1248.0, 1248.0, 1248.0, 1248.0, 1248.0, 1248.0, 1248.0, 1248.0, 1248.0, 1248.0, 1248.0, 1248.0, 1248.0, 1248.0, 1248.0, 1248.0, 1248.0, 1248.0, 1248.0, 1248.0, 1248.0, 1248.0, 1248.0, 1248.0, 1248.0, 1248.0, 1248.0, 1248.0, 1248.0, 1248.0, 1248.0, 1248.0, 1248.0, 1248.0, 1248.0, 1248.0, 1248.0, 1248.0, 1248.0, 1248.0, 1248.0, 1248.0, 1248.0, 1248.0, 1248.0, 1248.0, 1248.0, 1248.0, 1248.0, 1248.0, 1248.0, 1248.0, 1248.0, 1248.0, 1248.0, 1248.0, 1248.0, 1248.0, 1248.0, 1248.0, 1248.0, 1248.0, 1248.0, 1248.0, 1248.0, 1248.0, 1248.0, 1248.0, 1248.0, 1248.0, 1248.0, 1248.0, 1248.0, 1248.0, 1248.0, 1248.0, 1248.0, 1248.0, 1248.0, 1248.0, 1248.0, 1248.0, 1248.0, 1248.0, 1248.0, 1248.0, 1248.0, 1248.0, 1248.0, 1248.0, 1248.0, 1248.0, 1248.0, 1248.0, 1248.0, 1248.0, 1248.0, 1248.0, 1248.0, 1248.0, 1248.0, 1248.0, 1248.0, 1248.0, 1248.0, 1248.0, 1248.0, 1248.0, 1248.0, 1248.0, 1248.0, 1248.0, 1248.0, 1248.0, 1248.0, 1248.0, 1248.0, 1248.0, 1248.0, 1248.0, 1248.0, 1248.0, 1248.0, 1248.0, 1248.0, 1248.0, 1248.0, 1248.0, 1248.0, 1248.0, 1248.0, 1248.0, 1248.0, 1248.0, 1248.0, 1248.0, 1248.0, 1248.0, 1248.0, 1248.0, 1248.0, 1248.0, 1248.0, 1248.0, 1248.0, 1248.0, 1248.0, 1248.0, 1248.0, 1248.0, 1248.0, 1248.0, 1248.0, 1248.0, 1248.0, 1248.0, 1248.0, 1248.0, 1248.0, 1248.0, 1248.0, 1248.0, 1248.0, 1248.0, 1248.0, 1248.0, 1248.0, 1248.0, 1248.0, 1248.0, 1248.0, 1248.0, 1248.0, 1248.0, 1248.0, 1248.0, 1248.0, 1248.0, 1248.0, 1248.0, 1248.0, 1298.0, 1298.0, 1298.0, 1298.0, 1298.0, 1298.0, 1298.0, 1298.0, 1298.0, 1298.0, 1298.0, 1298.0, 1298.0, 1298.0, 1298.0, 1298.0, 1298.0, 1298.0, 1298.0, 1298.0, 1298.0, 1298.0, 1298.0, 1298.0, 1298.0, 1298.0, 1298.0, 1298.0, 1298.0, 1298.0, 1298.0, 1299.0, 1299.0, 1299.0, 1341.0, 1341.0, 1341.0, 1341.0, 1341.0, 1341.0, 1341.0, 1343.0, 1364.0, 1364.0, 1364.0, 1364.0, 1364.0, 1364.0, 1364.0, 1364.0, 1364.0, 1364.0, 1364.0, 1364.0, 1364.0, 1364.0, 1364.0, 1364.0, 1364.0, 1364.0, 1364.0, 1364.0, 1364.0, 1364.0, 1364.0, 1364.0, 1364.0, 1364.0, 1364.0, 1364.0, 1364.0, 1364.0, 1364.0, 1364.0, 1364.0, 1364.0, 1364.0, 1364.0, 1364.0, 1364.0, 1364.0, 1364.0, 1364.0, 1368.0, 1368.0, 1368.0, 1368.0, 1368.0, 1368.0, 1368.0, 1368.0, 1368.0, 1368.0, 1373.0, 1373.0, 1373.0, 1373.0, 1373.0, 1373.0, 1373.0, 1373.0, 1373.0, 1373.0, 1373.0, 1373.0, 1373.0, 1373.0, 1373.0, 1373.0, 1373.0, 1373.0, 1373.0, 1373.0, 1373.0, 1373.0, 1373.0, 1373.0, 1373.0, 1373.0, 1373.0, 1373.0, 1373.0, 1373.0, 1373.0, 1388.0, 1388.0, 1388.0, 1388.0, 1388.0, 1388.0, 1388.0, 1390.0, 1396.0, 1396.0, 1396.0, 1396.0, 1396.0, 1396.0, 1396.0, 1396.0, 1396.0, 1396.0, 1396.0, 1396.0, 1396.0, 1396.0, 1396.0, 1396.0, 1396.0, 1396.0, 1396.0, 1396.0, 1396.0, 1396.0, 1396.0, 1396.0, 1396.0, 1396.0, 1396.0, 1396.0, 1396.0, 1396.0, 1396.0, 1396.0, 1396.0, 1396.0, 1396.0, 1396.0, 1396.0, 1396.0, 1396.0, 1396.0, 1396.0, 1396.0, 1396.0, 1396.0, 1396.0, 1396.0, 1396.0, 1396.0, 1396.0, 1396.0, 1396.0, 1396.0, 1396.0, 1396.0, 1396.0, 1396.0, 1396.0, 1396.0, 1396.0, 1396.0, 1396.0, 1396.0, 1396.0, 1396.0, 1396.0, 1396.0, 1396.0, 1396.0, 1396.0, 1396.0, 1396.0, 1396.0, 1396.0, 1396.0, 1396.0, 1396.0, 1396.0, 1396.0, 1396.0, 1396.0, 1396.0, 1396.0, 1396.0, 1396.0, 1396.0, 1396.0, 1396.0, 1396.0, 1396.0, 1396.0, 1396.0, 1396.0, 1396.0, 1396.0, 1396.0, 1396.0, 1396.0, 1396.0, 1396.0, 1396.0, 1396.0, 1396.0, 1396.0, 1396.0, 1396.0, 1396.0, 1396.0, 1396.0, 1396.0, 1396.0, 1396.0, 1396.0, 1396.0, 1396.0, 1396.0, 1396.0, 1396.0, 1396.0, 1396.0, 1396.0, 1396.0, 1396.0, 1396.0, 1396.0, 1396.0, 1396.0, 1396.0, 1396.0, 1396.0, 1396.0, 1396.0, 1396.0, 1396.0, 1396.0, 1396.0, 1396.0, 1396.0, 1396.0, 1396.0, 1396.0, 1396.0, 1396.0, 1396.0, 1396.0, 1396.0, 1396.0, 1396.0, 1396.0, 1396.0, 1396.0, 1396.0, 1396.0, 1396.0, 1396.0, 1396.0, 1396.0, 1396.0, 1396.0, 1396.0, 1396.0, 1396.0, 1396.0, 1396.0, 1396.0, 1396.0, 1396.0, 1396.0, 1396.0, 1396.0, 1396.0, 1396.0, 1396.0, 1396.0, 1396.0, 1396.0, 1396.0, 1396.0, 1396.0, 1396.0, 1396.0, 1396.0, 1396.0, 1396.0, 1396.0, 1396.0, 1396.0, 1396.0, 1396.0, 1396.0, 1396.0, 1396.0, 1396.0, 1396.0, 1396.0, 1396.0, 1396.0, 1396.0, 1396.0, 1396.0, 1396.0, 1396.0, 1396.0, 1396.0, 1396.0, 1396.0, 1396.0, 1396.0, 1396.0, 1396.0, 1396.0, 1396.0, 1396.0, 1396.0, 1396.0, 1396.0, 1396.0, 1396.0, 1396.0, 1396.0, 1396.0, 1396.0, 1396.0, 1396.0, 1396.0, 1396.0, 1396.0, 1399.0, 1399.0, 1399.0, 1399.0, 1399.0, 1399.0, 1399.0, 1399.0, 1399.0, 1399.0, 1399.0, 1399.0, 1399.0, 1399.0, 1399.0, 1399.0, 1399.0, 1399.0, 1399.0, 1399.0, 1399.0, 1399.0, 1399.0, 1399.0, 1399.0, 1399.0, 1399.0, 1399.0, 1399.0, 1399.0, 1399.0, 1399.0, 1399.0, 1399.0, 1399.0, 1399.0, 1399.0, 1399.0, 1399.0, 1399.0, 1399.0, 1399.0, 1399.0, 1399.0, 1399.0, 1399.0, 1399.0, 1399.0, 1399.0, 1399.0, 1399.0, 1399.0, 1399.0, 1399.0, 1399.0, 1399.0, 1399.0, 1399.0, 1399.0, 1399.0, 1399.0, 1399.0, 1399.0, 1399.0, 1399.0, 1399.0, 1399.0, 1399.0, 1399.0, 1399.0, 1399.0, 1399.0, 1399.0, 1399.0, 1399.0, 1399.0, 1399.0, 1399.0, 1399.0, 1399.0, 1399.0, 1399.0, 1399.0, 1399.0, 1399.0, 1399.0, 1399.0, 1399.0, 1399.0, 1399.0, 1399.0, 1399.0, 1405.0, 1405.0, 1405.0, 1405.0, 1405.0, 1405.0, 1405.0, 1405.0, 1405.0, 1405.0, 1405.0, 1405.0, 1405.0, 1405.0, 1405.0, 1405.0, 1405.0, 1405.0, 1405.0, 1405.0, 1405.0, 1405.0, 1405.0, 1405.0, 1405.0, 1405.0, 1405.0, 1405.0, 1405.0, 1405.0, 1405.0, 1405.0, 1405.0, 1405.0, 1405.0, 1405.0, 1405.0, 1405.0, 1405.0, 1405.0, 1405.0, 1405.0, 1405.0, 1405.0, 1405.0, 1405.0, 1405.0, 1405.0, 1405.0, 1405.0, 1405.0, 1405.0, 1405.0, 1405.0, 1405.0, 1405.0, 1405.0, 1405.0, 1405.0, 1405.0, 1405.0, 1405.0, 1405.0, 1405.0, 1405.0, 1405.0, 1405.0, 1405.0, 1405.0, 1405.0, 1405.0, 1405.0, 1405.0, 1405.0, 1405.0, 1405.0, 1405.0, 1405.0, 1405.0, 1405.0, 1405.0, 1405.0, 1405.0, 1422.0, 1461.0, 1461.0, 1461.0, 1461.0, 1461.0, 1461.0, 1461.0, 1461.0, 1461.0, 1461.0, 1461.0, 1461.0, 1461.0, 1461.0, 1461.0, 1461.0, 1461.0, 1461.0, 1461.0, 1461.0, 1461.0, 1461.0, 1461.0, 1461.0, 1461.0, 1461.0, 1461.0, 1461.0, 1461.0, 1461.0, 1461.0, 1461.0, 1461.0, 1461.0, 1461.0, 1461.0, 1461.0, 1461.0, 1461.0, 1461.0, 1461.0, 1461.0, 1461.0, 1461.0, 1461.0, 1461.0, 1461.0, 1461.0, 1461.0, 1461.0, 1461.0, 1461.0, 1461.0, 1461.0, 1461.0, 1461.0, 1461.0, 1461.0, 1461.0, 1461.0, 1461.0, 1461.0, 1461.0, 1461.0, 1461.0, 1461.0, 1461.0, 1461.0, 1461.0, 1461.0, 1461.0, 1461.0, 1461.0, 1461.0, 1461.0, 1461.0, 1461.0, 1461.0, 1461.0, 1461.0, 1461.0, 1461.0, 1461.0, 1461.0, 1461.0, 1461.0, 1461.0, 1461.0, 1461.0, 1461.0, 1461.0, 1461.0, 1461.0, 1461.0, 1461.0, 1461.0, 1461.0, 1461.0, 1461.0, 1461.0, 1461.0, 1461.0, 1461.0, 1461.0, 1461.0, 1461.0, 1461.0, 1461.0, 1461.0, 1461.0, 1461.0, 1461.0, 1461.0, 1461.0, 1461.0, 1461.0, 1461.0, 1461.0, 1461.0, 1461.0, 1461.0, 1461.0, 1461.0, 1461.0, 1461.0, 1461.0, 1461.0, 1461.0, 1461.0, 1461.0, 1461.0, 1461.0, 1461.0, 1462.0, 1462.0, 1462.0, 1462.0, 1462.0, 1462.0, 1462.0, 1464.471404109589, 1464.471404109589, 1464.471404109589, 1464.471404109589, 1464.471404109589, 1464.471404109589, 1464.471404109589, 1464.471404109589, 1464.471404109589, 1464.471404109589, 1464.471404109589, 1464.471404109589, 1464.471404109589, 1464.471404109589, 1464.471404109589, 1464.471404109589, 1464.471404109589, 1464.471404109589, 1464.471404109589, 1464.471404109589, 1464.471404109589, 1464.471404109589, 1464.471404109589, 1464.471404109589, 1464.471404109589, 1464.471404109589, 1464.471404109589, 1464.471404109589, 1464.471404109589, 1464.471404109589, 1464.471404109589, 1464.471404109589, 1464.471404109589, 1464.471404109589, 1464.471404109589, 1464.471404109589, 1464.471404109589, 1464.471404109589, 1464.471404109589, 1464.471404109589, 1464.471404109589, 1464.471404109589, 1464.471404109589, 1464.471404109589, 1464.471404109589, 1464.471404109589, 1464.471404109589, 1464.471404109589, 1464.471404109589, 1464.471404109589, 1464.471404109589, 1464.471404109589, 1464.471404109589, 1464.471404109589, 1464.471404109589, 1464.471404109589, 1464.471404109589, 1464.471404109589, 1464.471404109589, 1464.471404109589, 1464.471404109589, 1464.471404109589, 1464.471404109589, 1464.471404109589, 1464.471404109589, 1464.471404109589, 1464.471404109589, 1464.471404109589, 1464.471404109589, 1464.471404109589, 1464.471404109589, 1464.471404109589, 1464.471404109589, 1464.471404109589, 1464.471404109589, 1464.471404109589, 1464.471404109589, 1464.471404109589, 1464.471404109589, 1464.471404109589, 1464.471404109589, 1464.471404109589, 1464.471404109589, 1464.471404109589, 1464.471404109589, 1464.471404109589, 1464.471404109589, 1464.471404109589, 1464.471404109589, 1464.471404109589, 1464.471404109589, 1464.471404109589, 1464.471404109589, 1464.471404109589, 1464.471404109589, 1464.471404109589, 1464.471404109589, 1464.471404109589, 1464.471404109589, 1464.471404109589, 1464.471404109589, 1464.471404109589, 1464.471404109589, 1464.471404109589, 1464.471404109589, 1464.471404109589, 1464.471404109589, 1464.471404109589, 1464.471404109589, 1464.471404109589, 1464.471404109589, 1464.471404109589, 1464.471404109589, 1464.471404109589, 1464.471404109589, 1464.471404109589, 1464.471404109589, 1464.471404109589, 1464.471404109589, 1464.471404109589, 1464.471404109589, 1464.471404109589, 1464.471404109589, 1464.471404109589, 1464.471404109589, 1464.471404109589, 1464.471404109589, 1464.471404109589, 1464.471404109589, 1464.471404109589, 1464.471404109589, 1464.471404109589, 1464.471404109589, 1464.471404109589, 1464.471404109589, 1464.471404109589, 1464.471404109589, 1464.471404109589, 1464.471404109589, 1464.471404109589, 1464.471404109589, 1464.471404109589, 1464.471404109589, 1464.471404109589, 1464.471404109589, 1464.471404109589, 1464.471404109589, 1464.471404109589, 1464.471404109589, 1464.471404109589, 1464.471404109589, 1464.471404109589, 1464.471404109589, 1464.471404109589, 1464.471404109589, 1489.0, 1493.0, 1493.0, 1493.0, 1493.0, 1493.0, 1493.0, 1493.0, 1493.0, 1493.0, 1493.0, 1493.0, 1493.0, 1493.0, 1493.0, 1493.0, 1493.0, 1493.0, 1493.0, 1493.0, 1493.0, 1493.0, 1493.0, 1493.0, 1493.0, 1493.0, 1493.0, 1493.0, 1493.0, 1493.0, 1493.0, 1493.0, 1493.0, 1493.0, 1493.0, 1493.0, 1493.0, 1493.0, 1493.0, 1493.0, 1493.0, 1493.0, 1493.0, 1493.0, 1493.0, 1493.0, 1493.0, 1493.0, 1493.0, 1493.0, 1493.0, 1493.0, 1493.0, 1493.0, 1493.0, 1493.0, 1493.0, 1493.0, 1493.0, 1493.0, 1493.0, 1493.0, 1493.0, 1493.0, 1493.0, 1493.0, 1493.0, 1493.0, 1493.0, 1493.0, 1493.0, 1493.0, 1493.0, 1493.0, 1493.0, 1493.0, 1493.0, 1493.0, 1493.0, 1493.0, 1493.0, 1493.0, 1493.0, 1493.0, 1493.0, 1493.0, 1493.0, 1493.0, 1493.0, 1493.0, 1493.0, 1493.0, 1493.0, 1493.0, 1493.0, 1493.0, 1493.0, 1493.0, 1493.0, 1493.0, 1493.0, 1493.0, 1495.0, 1495.0, 1495.0, 1495.0, 1495.0, 1495.0, 1495.0, 1495.0, 1495.0, 1495.0, 1495.0, 1495.0, 1495.0, 1495.0, 1496.0, 1496.0, 1496.0, 1496.0, 1496.0, 1496.0, 1496.0, 1496.0, 1496.0, 1496.0, 1496.0, 1496.0, 1496.0, 1496.0, 1496.0, 1496.0, 1496.0, 1496.0, 1496.0, 1496.0, 1496.0, 1496.0, 1496.0, 1496.0, 1496.0, 1496.0, 1496.0, 1496.0, 1496.0, 1496.0, 1496.0, 1496.0, 1496.0, 1496.0, 1496.0, 1496.0, 1496.0, 1496.0, 1497.0, 1497.0, 1497.0, 1497.0, 1497.0, 1497.0, 1497.0, 1497.0, 1497.0, 1497.0, 1497.0, 1497.0, 1497.0, 1497.0, 1497.0, 1497.0, 1497.0, 1497.0, 1497.0, 1497.0, 1497.0, 1497.0, 1497.0, 1497.0, 1497.0, 1497.0, 1497.0, 1497.0, 1497.0, 1497.0, 1497.0, 1497.0, 1497.0, 1497.0, 1497.0, 1497.0, 1497.0, 1497.0, 1497.0, 1497.0, 1497.0, 1497.0, 1497.0, 1497.0, 1497.0, 1497.0, 1497.0, 1497.0, 1497.0, 1497.0, 1497.0, 1497.0, 1497.0, 1497.0, 1497.0, 1497.0, 1497.0, 1497.0, 1497.0, 1497.0, 1497.0, 1497.0, 1497.0, 1497.0, 1497.0, 1497.0, 1497.0, 1497.0, 1497.0, 1497.0, 1497.0, 1497.0, 1497.0, 1497.0, 1497.0, 1497.0, 1497.0, 1497.0, 1497.0, 1497.0, 1497.0, 1497.0, 1497.0, 1497.0, 1497.0, 1497.0, 1497.0, 1497.0, 1497.0, 1497.0, 1497.0, 1497.0, 1497.0, 1497.0, 1497.0, 1497.0, 1497.0, 1497.0, 1497.0, 1497.0, 1497.0, 1497.0, 1497.0, 1497.0, 1497.0, 1497.0, 1497.0, 1497.0, 1497.0, 1497.0, 1498.0, 1498.0, 1498.0, 1498.0, 1498.0, 1498.0, 1498.0, 1498.0, 1498.0, 1498.0, 1498.0, 1498.0, 1498.0, 1498.0, 1498.0, 1498.0, 1498.0, 1498.0, 1498.0, 1498.0, 1498.0, 1498.0, 1498.0, 1498.0, 1498.0, 1498.0, 1498.0, 1498.0, 1498.0, 1498.0, 1498.0, 1498.0, 1498.0, 1498.0, 1498.0, 1498.0, 1498.0, 1498.0, 1498.0, 1498.0, 1498.0, 1498.0, 1498.0, 1498.0, 1498.0, 1498.0, 1498.0, 1498.0, 1498.0, 1498.0, 1498.0, 1498.0, 1498.0, 1498.0, 1498.0, 1498.0, 1498.0, 1498.0, 1498.0, 1498.0, 1498.0, 1498.0, 1498.0, 1498.0, 1498.0, 1498.0, 1498.0, 1498.0, 1498.0, 1498.0, 1498.0, 1498.0, 1498.0, 1498.0, 1498.0, 1498.0, 1498.0, 1498.0, 1498.0, 1498.0, 1498.0, 1498.0, 1498.0, 1498.0, 1498.0, 1498.0, 1498.0, 1498.0, 1498.0, 1498.0, 1498.0, 1498.0, 1498.0, 1498.0, 1498.0, 1498.0, 1498.0, 1498.0, 1498.0, 1498.0, 1498.0, 1498.0, 1498.0, 1498.0, 1498.0, 1498.0, 1498.0, 1498.0, 1498.0, 1498.0, 1498.0, 1498.0, 1498.0, 1498.0, 1498.0, 1498.0, 1498.0, 1498.0, 1498.0, 1498.0, 1498.0, 1498.0, 1498.0, 1498.0, 1498.0, 1498.0, 1498.0, 1498.0, 1498.0, 1498.0, 1498.0, 1498.0, 1498.0, 1498.0, 1498.0, 1498.0, 1498.0, 1498.0, 1498.0, 1498.0, 1498.0, 1498.0, 1498.0, 1498.0, 1498.0, 1498.0, 1498.0, 1498.0, 1498.0, 1498.0, 1498.0, 1498.0, 1498.0, 1498.0, 1498.0, 1498.0, 1498.0, 1498.0, 1498.0, 1498.0, 1498.0, 1498.0, 1498.0, 1498.0, 1498.0, 1498.0, 1498.0, 1498.0, 1498.0, 1498.0, 1498.0, 1498.0, 1498.0, 1498.0, 1498.0, 1498.0, 1498.0, 1498.0, 1498.0, 1498.0, 1498.0, 1498.0, 1498.0, 1498.0, 1498.0, 1498.0, 1498.0, 1498.0, 1498.0, 1498.0, 1498.0, 1498.0, 1498.0, 1498.0, 1498.0, 1498.0, 1498.0, 1498.0, 1498.0, 1498.0, 1498.0, 1498.0, 1498.0, 1498.0, 1498.0, 1498.0, 1498.0, 1498.0, 1498.0, 1498.0, 1498.0, 1498.0, 1498.0, 1498.0, 1498.0, 1498.0, 1498.0, 1498.0, 1498.0, 1498.0, 1498.0, 1498.0, 1498.0, 1498.0, 1498.0, 1498.0, 1498.0, 1498.0, 1498.0, 1498.0, 1498.0, 1498.0, 1498.0, 1498.0, 1498.0, 1498.0, 1498.0, 1498.0, 1498.0, 1498.0, 1498.0, 1498.0, 1498.0, 1498.0, 1498.0, 1498.0, 1498.0, 1498.0, 1498.0, 1498.0, 1498.0, 1498.0, 1498.0, 1499.0, 1499.0, 1499.0, 1499.0, 1499.0, 1499.0, 1499.0, 1499.0, 1499.0, 1527.0, 1527.0, 1527.0, 1527.0, 1582.0, 1582.0, 1582.0, 1582.0, 1582.0, 1582.0, 1582.0, 1582.0, 1582.0, 1582.0, 1582.0, 1582.0, 1582.0, 1582.0, 1582.0, 1582.0, 1582.0, 1582.0, 1582.0, 1582.0, 1582.0, 1582.0, 1582.0, 1582.0, 1582.0, 1582.0, 1582.0, 1582.0, 1582.0, 1582.0, 1582.0, 1582.0, 1582.0, 1582.0, 1582.0, 1582.0, 1582.0, 1582.0, 1582.0, 1582.0, 1582.0, 1582.0, 1582.0, 1582.0, 1582.0, 1582.0, 1582.0, 1582.0, 1582.0, 1582.0, 1582.0, 1582.0, 1582.0, 1582.0, 1582.0, 1582.0, 1582.0, 1582.0, 1582.0, 1582.0, 1582.0, 1582.0, 1582.0, 1582.0, 1582.0, 1582.0, 1582.0, 1582.0, 1582.0, 1582.0, 1582.0, 1582.0, 1582.0, 1582.0, 1582.0, 1582.0, 1582.0, 1582.0, 1582.0, 1582.0, 1582.0, 1582.0, 1582.0, 1582.0, 1582.0, 1582.0, 1582.0, 1582.0, 1582.0, 1582.0, 1582.0, 1582.0, 1582.0, 1582.0, 1582.0, 1582.0, 1582.0, 1582.0, 1582.0, 1582.0, 1582.0, 1582.0, 1586.0, 1586.0, 1586.0, 1586.0, 1586.0, 1586.0, 1586.0, 1586.0, 1586.0, 1586.0, 1586.0, 1586.0, 1586.0, 1590.0, 1591.0, 1591.0, 1591.0, 1591.0, 1591.0, 1591.0, 1591.0, 1591.0, 1591.0, 1591.0, 1591.0, 1591.0, 1591.0, 1591.0, 1591.0, 1591.0, 1591.0, 1591.0, 1591.0, 1591.0, 1591.0, 1591.0, 1591.0, 1595.0, 1595.0, 1596.0, 1596.0, 1596.0, 1596.0, 1596.0, 1596.0, 1596.0, 1597.0, 1597.0, 1597.0, 1597.0, 1598.0, 1598.0, 1598.0, 1598.0, 1598.0, 1598.0, 1598.0, 1598.0, 1598.0, 1598.0, 1598.0, 1598.0, 1598.0, 1598.0, 1598.0, 1598.0, 1598.0, 1598.0, 1598.0, 1598.0, 1598.0, 1598.0, 1598.0, 1598.0, 1598.0, 1598.0, 1598.0, 1598.0, 1598.0, 1598.0, 1598.0, 1598.0, 1598.0, 1598.0, 1598.0, 1598.0, 1598.0, 1598.0, 1598.0, 1598.0, 1598.0, 1598.0, 1598.0, 1598.0, 1598.0, 1598.0, 1598.0, 1598.0, 1598.0, 1598.0, 1598.0, 1599.0, 1599.0, 1599.0, 1599.0, 1599.0, 1599.0, 1599.0, 1599.0, 1599.0, 1599.0, 1599.0, 1599.0, 1599.0, 1599.0, 1599.0, 1781.0, 1794.0, 1794.0, 1794.0, 1794.0, 1794.0, 1795.0, 1796.0, 1797.0, 1797.0, 1797.0, 1797.0, 1798.0, 1798.0, 1798.0, 1798.0, 1798.0, 1798.0, 1798.0, 1798.0, 1799.0, 1799.0, 1799.0, 1799.0, 1799.0, 1799.0, 1896.0, 1896.0, 1896.0, 1896.0, 1896.0, 1896.0, 1896.0, 1896.0, 1896.0, 1948.0, 1948.0, 1948.0, 1948.0, 1948.0, 1948.0, 1948.0, 1948.0, 1948.0, 1948.0, 1948.0, 1956.0, 1956.0, 1956.0, 1956.0, 1956.0, 1956.0, 1956.0, 1956.0, 1956.0, 1956.0, 1956.0, 1956.0, 1956.0, 1956.0, 1956.0, 1956.0, 1956.0, 1956.0, 1956.0, 1956.0, 1968.0, 1968.0, 1968.0, 1968.0, 1968.0, 1968.0, 1991.0, 1991.0, 1991.0, 1991.0, 1991.0, 1991.0, 1991.0, 1991.0, 1991.0, 1991.0, 1991.0, 1991.0, 1991.0, 1991.0, 1991.0, 1991.0, 1991.0, 1991.0, 1994.0, 1994.0, 1995.0, 1995.0, 1997.0, 1997.0, 1997.0, 1997.0, 1997.0, 1997.0, 1997.0, 1997.0, 1997.0, 1997.0, 1997.0, 1997.0, 1997.0, 1997.0, 1997.0, 1997.0, 1997.0, 1997.0, 1997.0, 1997.0, 1998.0, 1998.0, 1998.0, 1998.0, 1998.0, 1998.0, 1998.0, 1998.0, 1998.0, 2092.0, 2148.0, 2179.0, 2179.0, 2179.0, 2179.0, 2179.0, 2179.0, 2179.0, 2179.0, 2179.0, 2179.0, 2179.0, 2179.0, 2179.0, 2179.0, 2179.0, 2179.0, 2179.0, 2179.0, 2179.0, 2179.0, 2179.0, 2179.0, 2179.0, 2179.0, 2179.0, 2179.0, 2179.0, 2179.0, 2179.0, 2179.0, 2179.0, 2179.0, 2179.0, 2179.0, 2179.0, 2179.0, 2179.0, 2179.0, 2179.0, 2179.0, 2179.0, 2179.0, 2179.0, 2179.0, 2179.0, 2179.0, 2179.0, 2179.0, 2179.0, 2179.0, 2179.0, 2179.0, 2179.0, 2179.0, 2179.0, 2179.0, 2179.0, 2179.0, 2179.0, 2179.0, 2179.0, 2179.0, 2179.0, 2179.0, 2179.0, 2179.0, 2179.0, 2179.0, 2179.0, 2179.0, 2179.0, 2179.0, 2179.0, 2179.0, 2179.0, 2179.0, 2179.0, 2179.0, 2179.0, 2179.0, 2179.0, 2179.0, 2179.0, 2179.0, 2179.0, 2179.0, 2179.0, 2179.0, 2179.0, 2179.0, 2179.0, 2179.0, 2179.0, 2179.0, 2179.0, 2179.0, 2179.0, 2179.0, 2179.0, 2179.0, 2179.0, 2179.0, 2179.0, 2179.0, 2179.0, 2179.0, 2179.0, 2179.0, 2179.0, 2179.0, 2179.0, 2179.0, 2179.0, 2179.0, 2179.0, 2179.0, 2179.0, 2179.0, 2179.0, 2179.0, 2179.0, 2179.0, 2179.0, 2179.0, 2179.0, 2179.0, 2179.0, 2179.0, 2179.0, 2179.0, 2179.0, 2179.0, 2179.0, 2179.0, 2179.0, 2179.0, 2179.0, 2179.0, 2179.0, 2179.0, 2179.0, 2179.0, 2179.0, 2179.0, 2179.0, 2179.0, 2179.0, 2179.0, 2179.0, 2179.0, 2179.0, 2179.0, 2179.0, 2179.0, 2179.0, 2179.0, 2179.0, 2179.0, 2179.0, 2179.0, 2179.0, 2179.0, 2179.0, 2179.0, 2179.0, 2179.0, 2179.0, 2179.0, 2179.0, 2179.0, 2179.0, 2179.0, 2179.0, 2179.0, 2179.0, 2179.0, 2179.0, 2179.0, 2179.0, 2179.0, 2179.0, 2179.0, 2179.0, 2179.0, 2179.0, 2179.0, 2179.0, 2179.0, 2179.0, 2179.0, 2179.0, 2179.0, 2179.0, 2179.0, 2179.0, 2179.0, 2179.0, 2179.0, 2179.0, 2179.0, 2179.0, 2179.0, 2179.0, 2179.0, 2179.0, 2179.0, 2179.0, 2179.0, 2179.0, 2179.0, 2179.0, 2179.0, 2179.0, 2179.0, 2179.0, 2179.0, 2179.0, 2179.0, 2179.0, 2179.0, 2179.0, 2179.0, 2179.0, 2179.0, 2179.0, 2179.0, 2179.0, 2179.0, 2179.0, 2179.0, 2179.0, 2179.0, 2179.0, 2179.0, 2179.0, 2179.0, 2179.0, 2179.0, 2179.0, 2179.0, 2179.0, 2179.0, 2179.0, 2179.0, 2179.0, 2179.0, 2179.0, 2179.0, 2179.0, 2179.0, 2179.0, 2179.0, 2179.0, 2179.0, 2179.0, 2179.0, 2179.0, 2179.0, 2179.0, 2179.0, 2179.0, 2179.0, 2179.0, 2179.0, 2179.0, 2179.0, 2179.0, 2179.0, 2179.0, 2179.0, 2179.0, 2179.0, 2179.0, 2179.0, 2179.0, 2197.0, 2199.0, 2200.0, 2200.0, 2200.0, 2231.0, 2354.0, 2354.0, 2354.0, 2359.0, 2359.0, 2362.0, 2393.0, 2393.0, 2393.0, 2393.0, 2393.0, 2393.0, 2393.0, 2393.0, 2393.0, 2393.0, 2393.0, 2393.0, 2393.0, 2393.0, 2393.0, 2446.0, 2477.0, 2477.0, 2477.0, 2477.0, 2477.0, 2489.0, 2489.0, 2489.0, 2489.0, 2489.0, 2489.0, 2489.0, 2489.0, 2489.0, 2489.0, 2489.0, 2489.0, 2489.0, 2489.0, 2489.0, 2489.0, 2489.0, 2489.0, 2494.0, 2494.0, 2494.0, 2494.0, 2494.0, 2494.0, 2494.0, 2494.0, 2494.0, 2494.0, 2494.0, 2494.0, 2494.0, 2494.0, 2494.0, 2494.0, 2494.0, 2494.0, 2494.0, 2494.0, 2494.0, 2494.0, 2494.0, 2494.0, 2494.0, 2494.0, 2494.0, 2494.0, 2494.0, 2494.0, 2494.0, 2494.0, 2494.0, 2494.0, 2494.0, 2494.0, 2494.0, 2494.0, 2494.0, 2494.0, 2494.0, 2494.0, 2494.0, 2494.0, 2494.0, 2494.0, 2494.0, 2494.0, 2494.0, 2494.0, 2494.0, 2494.0, 2494.0, 2494.0, 2494.0, 2494.0, 2494.0, 2494.0, 2494.0, 2494.0, 2494.0, 2494.0, 2494.0, 2494.0, 2494.0, 2494.0, 2494.0, 2494.0, 2494.0, 2494.0, 2494.0, 2494.0, 2494.0, 2494.0, 2494.0, 2494.0, 2494.0, 2494.0, 2494.0, 2494.0, 2494.0, 2494.0, 2494.0, 2494.0, 2494.0, 2494.0, 2494.0, 2494.0, 2494.0, 2494.0, 2494.0, 2494.0, 2494.0, 2494.0, 2494.0, 2494.0, 2494.0, 2494.0, 2494.0, 2494.0, 2494.0, 2494.0, 2494.0, 2494.0, 2494.0, 2494.0, 2494.0, 2494.0, 2494.0, 2494.0, 2494.0, 2494.0, 2494.0, 2494.0, 2494.0, 2494.0, 2494.0, 2494.0, 2494.0, 2494.0, 2494.0, 2494.0, 2494.0, 2494.0, 2494.0, 2494.0, 2494.0, 2494.0, 2494.0, 2494.0, 2494.0, 2494.0, 2494.0, 2494.0, 2494.0, 2494.0, 2494.0, 2494.0, 2494.0, 2494.0, 2494.0, 2498.0, 2498.0, 2498.0, 2498.0, 2498.0, 2498.0, 2498.0, 2498.0, 2498.0, 2498.0, 2498.0, 2498.0, 2498.0, 2498.0, 2498.0, 2498.0, 2498.0, 2498.0, 2498.0, 2498.0, 2498.0, 2498.0, 2498.0, 2498.0, 2498.0, 2498.0, 2498.0, 2498.0, 2498.0, 2498.0, 2498.0, 2498.0, 2498.0, 2498.0, 2498.0, 2499.0, 2499.0, 2499.0, 2499.0, 2499.0, 2499.0, 2499.0, 2499.0, 2499.0, 2499.0, 2499.0, 2499.0, 2499.0, 2499.0, 2499.0, 2499.0, 2499.0, 2499.0, 2499.0, 2499.0, 2499.0, 2499.0, 2499.0, 2499.0, 2499.0, 2499.0, 2523.0, 2523.0, 2523.0, 2523.0, 2523.0, 2523.0, 2523.0, 2523.0, 2523.0, 2523.0, 2523.0, 2523.0, 2523.0, 2523.0, 2523.0, 2523.0, 2523.0, 2523.0, 2523.0, 2523.0, 2523.0, 2523.0, 2523.0, 2523.0, 2523.0, 2523.0, 2523.0, 2523.0, 2523.0, 2523.0, 2523.0, 2523.0, 2523.0, 2523.0, 2523.0, 2523.0, 2523.0, 2523.0, 2523.0, 2523.0, 2523.0, 2523.0, 2523.0, 2523.0, 2523.0, 2523.0, 2523.0, 2523.0, 2523.0, 2523.0, 2523.0, 2523.0, 2523.0, 2523.0, 2523.0, 2523.0, 2523.0, 2523.0, 2523.0, 2523.0, 2523.0, 2523.0, 2523.0, 2523.0, 2523.0, 2523.0, 2523.0, 2523.0, 2523.0, 2523.0, 2523.0, 2523.0, 2523.0, 2523.0, 2523.0, 2523.0, 2523.0, 2523.0, 2523.0, 2523.0, 2523.0, 2523.0, 2523.0, 2523.0, 2523.0, 2523.0, 2523.0, 2523.0, 2523.0, 2523.0, 2523.0, 2523.0, 2523.0, 2523.0, 2523.0, 2523.0, 2523.0, 2523.0, 2523.0, 2523.0, 2523.0, 2523.0, 2523.0, 2523.0, 2523.0, 2523.0, 2523.0, 2523.0, 2523.0, 2523.0, 2523.0, 2523.0, 2523.0, 2523.0, 2523.0, 2523.0, 2523.0, 2523.0, 2523.0, 2523.0, 2523.0, 2523.0, 2523.0, 2523.0, 2523.0, 2523.0, 2523.0, 2523.0, 2523.0, 2523.0, 2523.0, 2523.0, 2523.0, 2523.0, 2523.0, 2523.0, 2523.0, 2523.0, 2523.0, 2523.0, 2523.0, 2523.0, 2523.0, 2523.0, 2523.0, 2523.0, 2523.0, 2523.0, 2596.0, 2609.0, 2609.0, 2609.0, 2609.0, 2609.0, 2609.0, 2609.0, 2609.0, 2609.0, 2609.0, 2609.0, 2609.0, 2609.0, 2609.0, 2650.0, 2696.0, 2755.0, 2755.0, 2755.0, 2835.0, 2956.0, 2956.0, 2956.0, 2956.0, 2956.0, 2956.0, 2956.0, 2956.0, 2956.0, 2956.0, 2956.0, 2956.0, 2956.0, 2956.0, 2956.0, 2982.0, 2982.0, 2982.0, 2982.0, 2982.0, 2982.0, 2982.0, 2982.0, 2982.0, 2982.0, 2982.0, 2982.0, 2982.0, 2982.0, 2982.0], \"xaxis\": \"x\", \"y\": [247595.92867322857, 247595.92867322857, 247595.92867322857, 247595.92867322857, 247595.92867322857, 247595.92867322857, 247595.92867322857, 247595.92867322857, 247595.92867322857, 247595.92867322857, 247595.92867322857, 247595.92867322857, 247595.92867322857, 247595.92867322857, 247595.92867322857, 292184.30718578753, 292184.30718578753, 292184.30718578753, 292184.30718578753, 292184.30718578753, 292184.30718578753, 292975.81686352525, 292975.81686352525, 292975.81686352525, 292975.81686352525, 292975.81686352525, 292975.81686352525, 292975.81686352525, 292975.81686352525, 292975.81686352525, 292975.81686352525, 292975.81686352525, 292975.81686352525, 292975.81686352525, 292975.81686352525, 292975.81686352525, 292975.81686352525, 292975.81686352525, 292975.81686352525, 292975.81686352525, 292975.81686352525, 292975.81686352525, 292975.81686352525, 292975.81686352525, 292975.81686352525, 292975.81686352525, 292975.81686352525, 292975.81686352525, 292975.81686352525, 292975.81686352525, 292975.81686352525, 292975.81686352525, 292975.81686352525, 292975.81686352525, 292975.81686352525, 292975.81686352525, 292975.81686352525, 292975.81686352525, 292975.81686352525, 292975.81686352525, 292975.81686352525, 292975.81686352525, 292975.81686352525, 292975.81686352525, 292975.81686352525, 292975.81686352525, 292975.81686352525, 292975.81686352525, 292975.81686352525, 292975.81686352525, 292975.81686352525, 292975.81686352525, 292975.81686352525, 292975.81686352525, 292975.81686352525, 292975.81686352525, 292975.81686352525, 292975.81686352525, 292975.81686352525, 292975.81686352525, 292975.81686352525, 292975.81686352525, 292975.81686352525, 292975.81686352525, 292975.81686352525, 292975.81686352525, 292975.81686352525, 292975.81686352525, 292975.81686352525, 292975.81686352525, 292975.81686352525, 292975.81686352525, 292975.81686352525, 292975.81686352525, 292975.81686352525, 292975.81686352525, 292975.81686352525, 292975.81686352525, 292975.81686352525, 292975.81686352525, 292975.81686352525, 292975.81686352525, 292975.81686352525, 292975.81686352525, 292975.81686352525, 292975.81686352525, 292975.81686352525, 292975.81686352525, 292975.81686352525, 292975.81686352525, 292975.81686352525, 292975.81686352525, 292975.81686352525, 292975.81686352525, 292975.81686352525, 292975.81686352525, 292975.81686352525, 292975.81686352525, 292975.81686352525, 292975.81686352525, 292975.81686352525, 292975.81686352525, 292975.81686352525, 292975.81686352525, 292975.81686352525, 292975.81686352525, 292975.81686352525, 292975.81686352525, 292975.81686352525, 292975.81686352525, 292975.81686352525, 292975.81686352525, 292975.81686352525, 292975.81686352525, 292975.81686352525, 292975.81686352525, 292975.81686352525, 292975.81686352525, 292975.81686352525, 292975.81686352525, 292975.81686352525, 292975.81686352525, 292975.81686352525, 292975.81686352525, 292975.81686352525, 292975.81686352525, 292975.81686352525, 292975.81686352525, 292975.81686352525, 292975.81686352525, 292975.81686352525, 292975.81686352525, 292975.81686352525, 292975.81686352525, 292975.81686352525, 292975.81686352525, 292975.81686352525, 292975.81686352525, 292975.81686352525, 292975.81686352525, 292975.81686352525, 292975.81686352525, 292975.81686352525, 292975.81686352525, 292975.81686352525, 292975.81686352525, 292975.81686352525, 292975.81686352525, 292975.81686352525, 292975.81686352525, 292975.81686352525, 292975.81686352525, 292975.81686352525, 292975.81686352525, 292975.81686352525, 292975.81686352525, 292975.81686352525, 292975.81686352525, 292975.81686352525, 292975.81686352525, 292975.81686352525, 292975.81686352525, 292975.81686352525, 292975.81686352525, 292975.81686352525, 292975.81686352525, 292975.81686352525, 292975.81686352525, 292975.81686352525, 292975.81686352525, 292975.81686352525, 292975.81686352525, 292975.81686352525, 292975.81686352525, 292975.81686352525, 292975.81686352525, 292975.81686352525, 292975.81686352525, 292975.81686352525, 292975.81686352525, 292975.81686352525, 292975.81686352525, 292975.81686352525, 292975.81686352525, 292975.81686352525, 292975.81686352525, 292975.81686352525, 292975.81686352525, 292975.81686352525, 292975.81686352525, 292975.81686352525, 292975.81686352525, 292975.81686352525, 292975.81686352525, 292975.81686352525, 292975.81686352525, 292975.81686352525, 292975.81686352525, 292975.81686352525, 292975.81686352525, 292975.81686352525, 292975.81686352525, 292975.81686352525, 292975.81686352525, 292975.81686352525, 292975.81686352525, 292975.81686352525, 292975.81686352525, 292975.81686352525, 292975.81686352525, 292975.81686352525, 292975.81686352525, 292975.81686352525, 292975.81686352525, 292975.81686352525, 292975.81686352525, 292975.81686352525, 292975.81686352525, 292975.81686352525, 292975.81686352525, 292975.81686352525, 292975.81686352525, 292975.81686352525, 292975.81686352525, 292975.81686352525, 292975.81686352525, 292975.81686352525, 292975.81686352525, 292975.81686352525, 292975.81686352525, 292975.81686352525, 292975.81686352525, 292975.81686352525, 292975.81686352525, 292975.81686352525, 292975.81686352525, 292975.81686352525, 292975.81686352525, 292975.81686352525, 292975.81686352525, 292975.81686352525, 292975.81686352525, 292975.81686352525, 292975.81686352525, 292975.81686352525, 292975.81686352525, 292975.81686352525, 292975.81686352525, 292975.81686352525, 292975.81686352525, 292975.81686352525, 292975.81686352525, 292975.81686352525, 292975.81686352525, 292975.81686352525, 292975.81686352525, 292975.81686352525, 292975.81686352525, 292975.81686352525, 292975.81686352525, 292975.81686352525, 292975.81686352525, 292975.81686352525, 292975.81686352525, 292975.81686352525, 292975.81686352525, 292975.81686352525, 292975.81686352525, 292975.81686352525, 292975.81686352525, 292975.81686352525, 292975.81686352525, 292975.81686352525, 292975.81686352525, 292975.81686352525, 292975.81686352525, 292975.81686352525, 292975.81686352525, 292975.81686352525, 292975.81686352525, 292975.81686352525, 292975.81686352525, 292975.81686352525, 292975.81686352525, 292975.81686352525, 292975.81686352525, 292975.81686352525, 292975.81686352525, 292975.81686352525, 292975.81686352525, 292975.81686352525, 292975.81686352525, 292975.81686352525, 292975.81686352525, 292975.81686352525, 292975.81686352525, 292975.81686352525, 292975.81686352525, 292975.81686352525, 292975.81686352525, 292975.81686352525, 292975.81686352525, 292975.81686352525, 292975.81686352525, 292975.81686352525, 292975.81686352525, 292975.81686352525, 292975.81686352525, 292975.81686352525, 292975.81686352525, 292975.81686352525, 292975.81686352525, 292975.81686352525, 292975.81686352525, 292975.81686352525, 292975.81686352525, 292975.81686352525, 292975.81686352525, 292975.81686352525, 292975.81686352525, 292975.81686352525, 292975.81686352525, 292975.81686352525, 292975.81686352525, 292975.81686352525, 292975.81686352525, 292975.81686352525, 292975.81686352525, 292975.81686352525, 292975.81686352525, 292975.81686352525, 292975.81686352525, 292975.81686352525, 292975.81686352525, 292975.81686352525, 292975.81686352525, 293767.326541263, 293767.326541263, 293767.326541263, 293767.326541263, 293767.326541263, 293767.326541263, 293767.326541263, 293767.326541263, 293767.326541263, 293767.326541263, 293767.326541263, 293767.326541263, 293767.326541263, 293767.326541263, 293767.326541263, 293767.326541263, 293767.326541263, 293767.326541263, 293767.326541263, 293767.326541263, 293767.326541263, 293767.326541263, 293767.326541263, 293767.326541263, 293767.326541263, 293767.326541263, 293767.326541263, 293767.326541263, 293767.326541263, 293767.326541263, 293767.326541263, 293767.326541263, 293767.326541263, 293767.326541263, 293767.326541263, 293767.326541263, 293767.326541263, 293767.326541263, 293767.326541263, 293767.326541263, 293767.326541263, 293767.326541263, 293767.326541263, 293767.326541263, 293767.326541263, 293767.326541263, 293767.326541263, 293767.326541263, 293767.326541263, 293767.326541263, 293767.326541263, 293767.326541263, 293767.326541263, 293767.326541263, 297724.8749299516, 297724.8749299516, 297724.8749299516, 297724.8749299516, 297724.8749299516, 297724.8749299516, 297724.8749299516, 297724.8749299516, 297724.8749299516, 297724.8749299516, 297724.8749299516, 297724.8749299516, 297724.8749299516, 297724.8749299516, 297724.8749299516, 297724.8749299516, 297724.8749299516, 297724.8749299516, 297724.8749299516, 297724.8749299516, 297724.8749299516, 297724.8749299516, 297724.8749299516, 297724.8749299516, 297724.8749299516, 297724.8749299516, 297724.8749299516, 297724.8749299516, 297724.8749299516, 297724.8749299516, 297724.8749299516, 297724.8749299516, 297724.8749299516, 297724.8749299516, 297724.8749299516, 297724.8749299516, 297724.8749299516, 297724.8749299516, 297724.8749299516, 297724.8749299516, 297724.8749299516, 297724.8749299516, 297724.8749299516, 297724.8749299516, 297724.8749299516, 297724.8749299516, 297724.8749299516, 297724.8749299516, 297724.8749299516, 297724.8749299516, 297724.8749299516, 297724.8749299516, 297724.8749299516, 297724.8749299516, 297724.8749299516, 297724.8749299516, 297724.8749299516, 297724.8749299516, 297724.8749299516, 297724.8749299516, 297724.8749299516, 297724.8749299516, 297724.8749299516, 297724.8749299516, 297724.8749299516, 297724.8749299516, 297724.8749299516, 297724.8749299516, 297724.8749299516, 297724.8749299516, 297724.8749299516, 297724.8749299516, 297724.8749299516, 297724.8749299516, 297724.8749299516, 297724.8749299516, 297724.8749299516, 297724.8749299516, 297724.8749299516, 297724.8749299516, 297724.8749299516, 297724.8749299516, 297724.8749299516, 297724.8749299516, 297724.8749299516, 297724.8749299516, 297724.8749299516, 297724.8749299516, 297724.8749299516, 297724.8749299516, 297724.8749299516, 297724.8749299516, 297724.8749299516, 297724.8749299516, 322789.3480583132, 322789.3480583132, 329912.93515795283, 329912.93515795283, 329912.93515795283, 329912.93515795283, 329912.93515795283, 329912.93515795283, 329912.93515795283, 329912.93515795283, 329912.93515795283, 329912.93515795283, 329912.93515795283, 329912.93515795283, 329912.93515795283, 329912.93515795283, 329912.93515795283, 329912.93515795283, 329912.93515795283, 329912.93515795283, 329912.93515795283, 329912.93515795283, 329912.93515795283, 329912.93515795283, 329912.93515795283, 329912.93515795283, 329912.93515795283, 329912.93515795283, 329912.93515795283, 344951.6190349697, 344951.6190349697, 344951.6190349697, 344951.6190349697, 344951.6190349697, 344951.6190349697, 344951.6190349697, 344951.6190349697, 344951.6190349697, 344951.6190349697, 344951.6190349697, 344951.6190349697, 344951.6190349697, 344951.6190349697, 344951.6190349697, 344951.6190349697, 344951.6190349697, 344951.6190349697, 344951.6190349697, 344951.6190349697, 345479.29215346155, 345479.29215346155, 345479.29215346155, 345479.29215346155, 345479.29215346155, 345479.29215346155, 345479.29215346155, 345479.29215346155, 345479.29215346155, 345479.29215346155, 345479.29215346155, 345479.29215346155, 345479.29215346155, 345479.29215346155, 345479.29215346155, 345479.29215346155, 345479.29215346155, 345479.29215346155, 345479.29215346155, 345479.29215346155, 345479.29215346155, 345479.29215346155, 345479.29215346155, 345479.29215346155, 345479.29215346155, 345479.29215346155, 345479.29215346155, 345479.29215346155, 345479.29215346155, 345479.29215346155, 345479.29215346155, 345479.29215346155, 346270.80183119926, 346270.80183119926, 346270.80183119926, 346270.80183119926, 346270.80183119926, 346270.80183119926, 346270.80183119926, 346270.80183119926, 346270.80183119926, 346270.80183119926, 346270.80183119926, 346270.80183119926, 346270.80183119926, 346270.80183119926, 346270.80183119926, 346270.80183119926, 346270.80183119926, 346270.80183119926, 346270.80183119926, 346270.80183119926, 346270.80183119926, 346270.80183119926, 346270.80183119926, 346270.80183119926, 346270.80183119926, 346270.80183119926, 346270.80183119926, 346270.80183119926, 346270.80183119926, 346270.80183119926, 346270.80183119926, 346270.80183119926, 346270.80183119926, 346270.80183119926, 346270.80183119926, 346270.80183119926, 346270.80183119926, 346270.80183119926, 346270.80183119926, 346270.80183119926, 346270.80183119926, 346270.80183119926, 346270.80183119926, 346270.80183119926, 346270.80183119926, 346270.80183119926, 346270.80183119926, 346270.80183119926, 346270.80183119926, 346270.80183119926, 346270.80183119926, 346270.80183119926, 346270.80183119926, 346270.80183119926, 346270.80183119926, 346270.80183119926, 346270.80183119926, 346270.80183119926, 346270.80183119926, 346270.80183119926, 346270.80183119926, 346270.80183119926, 346270.80183119926, 346270.80183119926, 346270.80183119926, 346270.80183119926, 346270.80183119926, 346270.80183119926, 346270.80183119926, 346270.80183119926, 346270.80183119926, 346270.80183119926, 346270.80183119926, 346270.80183119926, 346270.80183119926, 346270.80183119926, 346270.80183119926, 346270.80183119926, 346270.80183119926, 346270.80183119926, 346270.80183119926, 346270.80183119926, 346270.80183119926, 346270.80183119926, 346270.80183119926, 346270.80183119926, 346270.80183119926, 346270.80183119926, 346270.80183119926, 346270.80183119926, 346270.80183119926, 346270.80183119926, 346270.80183119926, 346270.80183119926, 346270.80183119926, 346270.80183119926, 346270.80183119926, 346270.80183119926, 346270.80183119926, 346270.80183119926, 346270.80183119926, 346270.80183119926, 346270.80183119926, 346270.80183119926, 346270.80183119926, 346270.80183119926, 346270.80183119926, 346270.80183119926, 346270.80183119926, 346270.80183119926, 346270.80183119926, 346270.80183119926, 346270.80183119926, 346270.80183119926, 346270.80183119926, 346270.80183119926, 346270.80183119926, 346270.80183119926, 346270.80183119926, 346270.80183119926, 346270.80183119926, 346270.80183119926, 346270.80183119926, 346270.80183119926, 346270.80183119926, 346270.80183119926, 346270.80183119926, 346270.80183119926, 346270.80183119926, 346270.80183119926, 346270.80183119926, 346270.80183119926, 346270.80183119926, 346270.80183119926, 346270.80183119926, 346270.80183119926, 346270.80183119926, 346270.80183119926, 346270.80183119926, 346270.80183119926, 346270.80183119926, 346270.80183119926, 346270.80183119926, 346270.80183119926, 346270.80183119926, 346270.80183119926, 346270.80183119926, 346270.80183119926, 346270.80183119926, 346270.80183119926, 346270.80183119926, 346270.80183119926, 346270.80183119926, 346270.80183119926, 346270.80183119926, 346270.80183119926, 346270.80183119926, 346270.80183119926, 346270.80183119926, 346270.80183119926, 346270.80183119926, 346270.80183119926, 346270.80183119926, 346270.80183119926, 346270.80183119926, 346270.80183119926, 346270.80183119926, 346270.80183119926, 346270.80183119926, 346270.80183119926, 346270.80183119926, 346270.80183119926, 346270.80183119926, 346270.80183119926, 346270.80183119926, 346270.80183119926, 346270.80183119926, 346270.80183119926, 346270.80183119926, 346270.80183119926, 346270.80183119926, 346270.80183119926, 346270.80183119926, 346270.80183119926, 346270.80183119926, 346270.80183119926, 346270.80183119926, 346270.80183119926, 346270.80183119926, 346270.80183119926, 346270.80183119926, 346270.80183119926, 346270.80183119926, 346270.80183119926, 346270.80183119926, 346270.80183119926, 346270.80183119926, 346270.80183119926, 346270.80183119926, 346270.80183119926, 346270.80183119926, 346270.80183119926, 346270.80183119926, 346270.80183119926, 346270.80183119926, 346270.80183119926, 346270.80183119926, 346270.80183119926, 346270.80183119926, 346270.80183119926, 346270.80183119926, 346270.80183119926, 346270.80183119926, 346270.80183119926, 346270.80183119926, 346270.80183119926, 346270.80183119926, 346270.80183119926, 346270.80183119926, 346270.80183119926, 346270.80183119926, 346270.80183119926, 346270.80183119926, 346270.80183119926, 346270.80183119926, 346270.80183119926, 346270.80183119926, 346270.80183119926, 346270.80183119926, 346270.80183119926, 346270.80183119926, 346270.80183119926, 346270.80183119926, 346270.80183119926, 346270.80183119926, 346270.80183119926, 346270.80183119926, 346270.80183119926, 346270.80183119926, 346270.80183119926, 346270.80183119926, 346270.80183119926, 346270.80183119926, 346270.80183119926, 346270.80183119926, 346270.80183119926, 346270.80183119926, 346270.80183119926, 346270.80183119926, 346270.80183119926, 346270.80183119926, 346270.80183119926, 346270.80183119926, 346270.80183119926, 346270.80183119926, 346270.80183119926, 346270.80183119926, 346270.80183119926, 346270.80183119926, 346270.80183119926, 346270.80183119926, 346270.80183119926, 346270.80183119926, 346270.80183119926, 346270.80183119926, 346270.80183119926, 346270.80183119926, 346270.80183119926, 346270.80183119926, 346270.80183119926, 346270.80183119926, 346270.80183119926, 346270.80183119926, 346270.80183119926, 346270.80183119926, 346270.80183119926, 346270.80183119926, 346270.80183119926, 346270.80183119926, 346270.80183119926, 346270.80183119926, 346270.80183119926, 346270.80183119926, 346270.80183119926, 346270.80183119926, 346270.80183119926, 346270.80183119926, 346270.80183119926, 346270.80183119926, 346270.80183119926, 346270.80183119926, 346270.80183119926, 346270.80183119926, 346270.80183119926, 346270.80183119926, 346270.80183119926, 346270.80183119926, 346534.6383904452, 346534.6383904452, 346534.6383904452, 346534.6383904452, 346534.6383904452, 346534.6383904452, 346534.6383904452, 346534.6383904452, 346534.6383904452, 346534.6383904452, 346534.6383904452, 346534.6383904452, 346534.6383904452, 346534.6383904452, 346534.6383904452, 346534.6383904452, 346534.6383904452, 346534.6383904452, 346534.6383904452, 346534.6383904452, 346534.6383904452, 346534.6383904452, 346534.6383904452, 346534.6383904452, 346534.6383904452, 346534.6383904452, 346534.6383904452, 346534.6383904452, 346534.6383904452, 346534.6383904452, 346534.6383904452, 346534.6383904452, 346534.6383904452, 346534.6383904452, 346534.6383904452, 346534.6383904452, 346534.6383904452, 346534.6383904452, 346534.6383904452, 346534.6383904452, 346534.6383904452, 346534.6383904452, 346534.6383904452, 346534.6383904452, 346534.6383904452, 346534.6383904452, 346534.6383904452, 346534.6383904452, 346534.6383904452, 346534.6383904452, 359198.79323424894, 359198.79323424894, 359198.79323424894, 359198.79323424894, 359198.79323424894, 359198.79323424894, 359198.79323424894, 359198.79323424894, 359198.79323424894, 359198.79323424894, 359198.79323424894, 359198.79323424894, 359198.79323424894, 362892.50506369164, 362892.50506369164, 362892.50506369164, 362892.50506369164, 362892.50506369164, 362892.50506369164, 362892.50506369164, 362892.50506369164, 362892.50506369164, 362892.50506369164, 362892.50506369164, 362892.50506369164, 362892.50506369164, 362892.50506369164, 362892.50506369164, 362892.50506369164, 362892.50506369164, 362892.50506369164, 362892.50506369164, 362892.50506369164, 362892.50506369164, 362892.50506369164, 362892.50506369164, 362892.50506369164, 362892.50506369164, 362892.50506369164, 362892.50506369164, 362892.50506369164, 362892.50506369164, 362892.50506369164, 362892.50506369164, 362892.50506369164, 362892.50506369164, 362892.50506369164, 362892.50506369164, 362892.50506369164, 369488.41904483945, 369488.41904483945, 369488.41904483945, 369488.41904483945, 369488.41904483945, 369488.41904483945, 369488.41904483945, 369488.41904483945, 369488.41904483945, 369488.41904483945, 369488.41904483945, 369488.41904483945, 369488.41904483945, 369488.41904483945, 369488.41904483945, 369488.41904483945, 369488.41904483945, 369488.41904483945, 369488.41904483945, 369488.41904483945, 369488.41904483945, 369488.41904483945, 369488.41904483945, 369488.41904483945, 369488.41904483945, 369488.41904483945, 369488.41904483945, 369488.41904483945, 369488.41904483945, 369488.41904483945, 369488.41904483945, 369488.41904483945, 369488.41904483945, 369488.41904483945, 369488.41904483945, 369488.41904483945, 369488.41904483945, 369488.41904483945, 369488.41904483945, 369488.41904483945, 369488.41904483945, 369488.41904483945, 369488.41904483945, 369488.41904483945, 369488.41904483945, 369488.41904483945, 369488.41904483945, 369488.41904483945, 369488.41904483945, 369488.41904483945, 369488.41904483945, 369488.41904483945, 369488.41904483945, 369488.41904483945, 369488.41904483945, 369488.41904483945, 369488.41904483945, 369488.41904483945, 369488.41904483945, 369488.41904483945, 369488.41904483945, 369488.41904483945, 369488.41904483945, 369488.41904483945, 369488.41904483945, 369488.41904483945, 369488.41904483945, 369488.41904483945, 369488.41904483945, 369488.41904483945, 369488.41904483945, 369488.41904483945, 369488.41904483945, 369488.41904483945, 369488.41904483945, 369488.41904483945, 369488.41904483945, 369488.41904483945, 369488.41904483945, 369488.41904483945, 369488.41904483945, 369488.41904483945, 369488.41904483945, 369488.41904483945, 369488.41904483945, 369488.41904483945, 369488.41904483945, 369488.41904483945, 369488.41904483945, 369488.41904483945, 369488.41904483945, 369488.41904483945, 369488.41904483945, 369488.41904483945, 369488.41904483945, 369488.41904483945, 369488.41904483945, 369488.41904483945, 369488.41904483945, 369488.41904483945, 369488.41904483945, 369488.41904483945, 369488.41904483945, 369488.41904483945, 369488.41904483945, 378458.8620592004, 378458.8620592004, 378458.8620592004, 378458.8620592004, 378458.8620592004, 378458.8620592004, 378458.8620592004, 378458.8620592004, 378458.8620592004, 378458.8620592004, 378458.8620592004, 378458.8620592004, 378458.8620592004, 378458.8620592004, 378458.8620592004, 378458.8620592004, 378458.8620592004, 378458.8620592004, 378458.8620592004, 378458.8620592004, 378458.8620592004, 378458.8620592004, 378458.8620592004, 378458.8620592004, 378458.8620592004, 378458.8620592004, 378458.8620592004, 378458.8620592004, 378458.8620592004, 378458.8620592004, 378458.8620592004, 378458.8620592004, 378458.8620592004, 378458.8620592004, 378458.8620592004, 378458.8620592004, 378458.8620592004, 378458.8620592004, 378458.8620592004, 378458.8620592004, 378458.8620592004, 386373.9588365777, 386373.9588365777, 386373.9588365777, 386373.9588365777, 386373.9588365777, 386373.9588365777, 392178.3631399878, 392178.3631399878, 392178.3631399878, 392178.3631399878, 392178.3631399878, 392178.3631399878, 392178.3631399878, 392178.3631399878, 392178.3631399878, 395872.0749694305, 395872.0749694305, 395872.0749694305, 395872.0749694305, 395872.0749694305, 395872.0749694305, 395872.0749694305, 395872.0749694305, 395872.0749694305, 395872.0749694305, 395872.0749694305, 395872.0749694305, 395872.0749694305, 395872.0749694305, 395872.0749694305, 395872.0749694305, 395872.0749694305, 395872.0749694305, 395872.0749694305, 395872.0749694305, 395872.0749694305, 395872.0749694305, 395872.0749694305, 395872.0749694305, 395872.0749694305, 395872.0749694305, 395872.0749694305, 395872.0749694305, 395872.0749694305, 395872.0749694305, 395872.0749694305, 395872.0749694305, 395872.0749694305, 395872.0749694305, 395872.0749694305, 395872.0749694305, 395872.0749694305, 395872.0749694305, 395872.0749694305, 395872.0749694305, 395872.0749694305, 395872.0749694305, 395872.0749694305, 395872.0749694305, 395872.0749694305, 395872.0749694305, 395872.0749694305, 395872.0749694305, 397718.9308841519, 397718.9308841519, 397718.9308841519, 397718.9308841519, 397718.9308841519, 397718.9308841519, 397718.9308841519, 397718.9308841519, 397718.9308841519, 397718.9308841519, 397718.9308841519, 397718.9308841519, 397718.9308841519, 397718.9308841519, 397718.9308841519, 397718.9308841519, 397718.9308841519, 397718.9308841519, 397718.9308841519, 397718.9308841519, 397718.9308841519, 397718.9308841519, 397718.9308841519, 397718.9308841519, 397718.9308841519, 397718.9308841519, 397718.9308841519, 397718.9308841519, 397982.76744339784, 397982.76744339784, 397982.76744339784, 397982.76744339784, 397982.76744339784, 397982.76744339784, 397982.76744339784, 397982.76744339784, 397982.76744339784, 397982.76744339784, 397982.76744339784, 397982.76744339784, 397982.76744339784, 397982.76744339784, 397982.76744339784, 398510.44056188967, 398510.44056188967, 398510.44056188967, 398510.44056188967, 398510.44056188967, 398510.44056188967, 398510.44056188967, 398510.44056188967, 398510.44056188967, 398510.44056188967, 398510.44056188967, 398510.44056188967, 398510.44056188967, 398510.44056188967, 398510.44056188967, 398510.44056188967, 398510.44056188967, 398510.44056188967, 398510.44056188967, 398510.44056188967, 398510.44056188967, 398510.44056188967, 398510.44056188967, 398510.44056188967, 398510.44056188967, 398510.44056188967, 398510.44056188967, 398510.44056188967, 398510.44056188967, 398510.44056188967, 398510.44056188967, 398510.44056188967, 398510.44056188967, 398510.44056188967, 398510.44056188967, 398510.44056188967, 398510.44056188967, 398510.44056188967, 398510.44056188967, 398510.44056188967, 398510.44056188967, 398510.44056188967, 398510.44056188967, 398510.44056188967, 398510.44056188967, 398510.44056188967, 398510.44056188967, 398510.44056188967, 398510.44056188967, 398510.44056188967, 398510.44056188967, 398510.44056188967, 398510.44056188967, 398510.44056188967, 398510.44056188967, 398510.44056188967, 398510.44056188967, 398510.44056188967, 398510.44056188967, 398510.44056188967, 398510.44056188967, 398510.44056188967, 398510.44056188967, 398510.44056188967, 398510.44056188967, 398510.44056188967, 398510.44056188967, 398510.44056188967, 398510.44056188967, 398510.44056188967, 398774.27712113556, 398774.27712113556, 398774.27712113556, 398774.27712113556, 398774.27712113556, 398774.27712113556, 398774.27712113556, 398774.27712113556, 398774.27712113556, 398774.27712113556, 398774.27712113556, 398774.27712113556, 398774.27712113556, 398774.27712113556, 398774.27712113556, 398774.27712113556, 398774.27712113556, 398774.27712113556, 398774.27712113556, 398774.27712113556, 398774.27712113556, 398774.27712113556, 398774.27712113556, 398774.27712113556, 398774.27712113556, 398774.27712113556, 398774.27712113556, 398774.27712113556, 398774.27712113556, 398774.27712113556, 398774.27712113556, 398774.27712113556, 398774.27712113556, 398774.27712113556, 398774.27712113556, 398774.27712113556, 398774.27712113556, 398774.27712113556, 398774.27712113556, 398774.27712113556, 398774.27712113556, 398774.27712113556, 398774.27712113556, 398774.27712113556, 398774.27712113556, 398774.27712113556, 398774.27712113556, 398774.27712113556, 398774.27712113556, 398774.27712113556, 398774.27712113556, 398774.27712113556, 398774.27712113556, 398774.27712113556, 398774.27712113556, 398774.27712113556, 398774.27712113556, 398774.27712113556, 398774.27712113556, 398774.27712113556, 398774.27712113556, 398774.27712113556, 398774.27712113556, 398774.27712113556, 398774.27712113556, 398774.27712113556, 398774.27712113556, 398774.27712113556, 398774.27712113556, 398774.27712113556, 398774.27712113556, 398774.27712113556, 398774.27712113556, 398774.27712113556, 398774.27712113556, 398774.27712113556, 398774.27712113556, 398774.27712113556, 398774.27712113556, 398774.27712113556, 398774.27712113556, 398774.27712113556, 398774.27712113556, 398774.27712113556, 398774.27712113556, 398774.27712113556, 398774.27712113556, 398774.27712113556, 398774.27712113556, 398774.27712113556, 398774.27712113556, 398774.27712113556, 398774.27712113556, 398774.27712113556, 398774.27712113556, 398774.27712113556, 398774.27712113556, 398774.27712113556, 398774.27712113556, 398774.27712113556, 398774.27712113556, 398774.27712113556, 398774.27712113556, 398774.27712113556, 398774.27712113556, 398774.27712113556, 398774.27712113556, 398774.27712113556, 398774.27712113556, 398774.27712113556, 398774.27712113556, 398774.27712113556, 398774.27712113556, 398774.27712113556, 398774.27712113556, 398774.27712113556, 398774.27712113556, 398774.27712113556, 398774.27712113556, 398774.27712113556, 398774.27712113556, 398774.27712113556, 398774.27712113556, 398774.27712113556, 398774.27712113556, 398774.27712113556, 398774.27712113556, 398774.27712113556, 398774.27712113556, 398774.27712113556, 398774.27712113556, 398774.27712113556, 398774.27712113556, 398774.27712113556, 398774.27712113556, 398774.27712113556, 398774.27712113556, 398774.27712113556, 398774.27712113556, 398774.27712113556, 398774.27712113556, 398774.27712113556, 398774.27712113556, 398774.27712113556, 398774.27712113556, 398774.27712113556, 398774.27712113556, 398774.27712113556, 398774.27712113556, 398774.27712113556, 398774.27712113556, 398774.27712113556, 398774.27712113556, 398774.27712113556, 398774.27712113556, 398774.27712113556, 398774.27712113556, 398774.27712113556, 398774.27712113556, 398774.27712113556, 398774.27712113556, 398774.27712113556, 398774.27712113556, 398774.27712113556, 398774.27712113556, 398774.27712113556, 398774.27712113556, 398774.27712113556, 398774.27712113556, 398774.27712113556, 398774.27712113556, 398774.27712113556, 398774.27712113556, 398774.27712113556, 398774.27712113556, 398774.27712113556, 398774.27712113556, 398774.27712113556, 398774.27712113556, 398774.27712113556, 398774.27712113556, 398774.27712113556, 398774.27712113556, 398774.27712113556, 398774.27712113556, 398774.27712113556, 398774.27712113556, 398774.27712113556, 398774.27712113556, 398774.27712113556, 398774.27712113556, 398774.27712113556, 398774.27712113556, 398774.27712113556, 398774.27712113556, 398774.27712113556, 398774.27712113556, 398774.27712113556, 398774.27712113556, 398774.27712113556, 398774.27712113556, 398774.27712113556, 398774.27712113556, 398774.27712113556, 398774.27712113556, 398774.27712113556, 398774.27712113556, 398774.27712113556, 398774.27712113556, 398774.27712113556, 398774.27712113556, 398774.27712113556, 398774.27712113556, 398774.27712113556, 398774.27712113556, 398774.27712113556, 398774.27712113556, 398774.27712113556, 398774.27712113556, 398774.27712113556, 398774.27712113556, 398774.27712113556, 398774.27712113556, 398774.27712113556, 398774.27712113556, 398774.27712113556, 398774.27712113556, 398774.27712113556, 398774.27712113556, 398774.27712113556, 398774.27712113556, 398774.27712113556, 398774.27712113556, 398774.27712113556, 398774.27712113556, 398774.27712113556, 398774.27712113556, 398774.27712113556, 398774.27712113556, 398774.27712113556, 398774.27712113556, 398774.27712113556, 398774.27712113556, 398774.27712113556, 398774.27712113556, 398774.27712113556, 398774.27712113556, 398774.27712113556, 398774.27712113556, 398774.27712113556, 398774.27712113556, 398774.27712113556, 398774.27712113556, 398774.27712113556, 398774.27712113556, 398774.27712113556, 398774.27712113556, 398774.27712113556, 398774.27712113556, 398774.27712113556, 398774.27712113556, 398774.27712113556, 398774.27712113556, 398774.27712113556, 398774.27712113556, 398774.27712113556, 398774.27712113556, 398774.27712113556, 398774.27712113556, 398774.27712113556, 398774.27712113556, 398774.27712113556, 398774.27712113556, 398774.27712113556, 398774.27712113556, 398774.27712113556, 398774.27712113556, 398774.27712113556, 398774.27712113556, 398774.27712113556, 398774.27712113556, 398774.27712113556, 398774.27712113556, 398774.27712113556, 398774.27712113556, 398774.27712113556, 398774.27712113556, 398774.27712113556, 398774.27712113556, 398774.27712113556, 398774.27712113556, 398774.27712113556, 398774.27712113556, 398774.27712113556, 398774.27712113556, 398774.27712113556, 398774.27712113556, 398774.27712113556, 398774.27712113556, 398774.27712113556, 398774.27712113556, 398774.27712113556, 398774.27712113556, 398774.27712113556, 398774.27712113556, 398774.27712113556, 398774.27712113556, 398774.27712113556, 398774.27712113556, 398774.27712113556, 398774.27712113556, 398774.27712113556, 398774.27712113556, 398774.27712113556, 398774.27712113556, 398774.27712113556, 398774.27712113556, 398774.27712113556, 398774.27712113556, 398774.27712113556, 398774.27712113556, 398774.27712113556, 398774.27712113556, 398774.27712113556, 398774.27712113556, 398774.27712113556, 398774.27712113556, 398774.27712113556, 398774.27712113556, 398774.27712113556, 398774.27712113556, 398774.27712113556, 398774.27712113556, 398774.27712113556, 398774.27712113556, 398774.27712113556, 398774.27712113556, 398774.27712113556, 398774.27712113556, 398774.27712113556, 398774.27712113556, 398774.27712113556, 398774.27712113556, 398774.27712113556, 398774.27712113556, 398774.27712113556, 398774.27712113556, 398774.27712113556, 398774.27712113556, 398774.27712113556, 398774.27712113556, 398774.27712113556, 398774.27712113556, 398774.27712113556, 398774.27712113556, 398774.27712113556, 398774.27712113556, 398774.27712113556, 398774.27712113556, 398774.27712113556, 398774.27712113556, 398774.27712113556, 398774.27712113556, 398774.27712113556, 398774.27712113556, 398774.27712113556, 398774.27712113556, 398774.27712113556, 398774.27712113556, 398774.27712113556, 398774.27712113556, 398774.27712113556, 398774.27712113556, 398774.27712113556, 398774.27712113556, 398774.27712113556, 398774.27712113556, 398774.27712113556, 398774.27712113556, 398774.27712113556, 398774.27712113556, 398774.27712113556, 398774.27712113556, 398774.27712113556, 398774.27712113556, 398774.27712113556, 398774.27712113556, 398774.27712113556, 398774.27712113556, 398774.27712113556, 398774.27712113556, 398774.27712113556, 398774.27712113556, 398774.27712113556, 398774.27712113556, 398774.27712113556, 398774.27712113556, 398774.27712113556, 398774.27712113556, 398774.27712113556, 398774.27712113556, 398774.27712113556, 398774.27712113556, 398774.27712113556, 398774.27712113556, 398774.27712113556, 398774.27712113556, 398774.27712113556, 398774.27712113556, 398774.27712113556, 398774.27712113556, 398774.27712113556, 398774.27712113556, 398774.27712113556, 398774.27712113556, 398774.27712113556, 398774.27712113556, 398774.27712113556, 398774.27712113556, 398774.27712113556, 398774.27712113556, 398774.27712113556, 398774.27712113556, 398774.27712113556, 398774.27712113556, 398774.27712113556, 398774.27712113556, 398774.27712113556, 398774.27712113556, 398774.27712113556, 398774.27712113556, 398774.27712113556, 398774.27712113556, 398774.27712113556, 398774.27712113556, 398774.27712113556, 398774.27712113556, 398774.27712113556, 398774.27712113556, 398774.27712113556, 398774.27712113556, 398774.27712113556, 398774.27712113556, 398774.27712113556, 398774.27712113556, 398774.27712113556, 398774.27712113556, 398774.27712113556, 398774.27712113556, 398774.27712113556, 398774.27712113556, 398774.27712113556, 398774.27712113556, 398774.27712113556, 398774.27712113556, 398774.27712113556, 398774.27712113556, 398774.27712113556, 398774.27712113556, 398774.27712113556, 398774.27712113556, 398774.27712113556, 398774.27712113556, 398774.27712113556, 398774.27712113556, 398774.27712113556, 398774.27712113556, 398774.27712113556, 398774.27712113556, 398774.27712113556, 398774.27712113556, 398774.27712113556, 398774.27712113556, 398774.27712113556, 398774.27712113556, 398774.27712113556, 398774.27712113556, 398774.27712113556, 398774.27712113556, 398774.27712113556, 398774.27712113556, 398774.27712113556, 398774.27712113556, 398774.27712113556, 398774.27712113556, 398774.27712113556, 398774.27712113556, 398774.27712113556, 398774.27712113556, 398774.27712113556, 398774.27712113556, 398774.27712113556, 398774.27712113556, 398774.27712113556, 398774.27712113556, 399038.11368038144, 399038.11368038144, 399038.11368038144, 399038.11368038144, 399038.11368038144, 399038.11368038144, 399038.11368038144, 399038.11368038144, 399038.11368038144, 399038.11368038144, 399038.11368038144, 399038.11368038144, 399038.11368038144, 399038.11368038144, 399038.11368038144, 399038.11368038144, 399038.11368038144, 399038.11368038144, 399038.11368038144, 399038.11368038144, 399038.11368038144, 399038.11368038144, 399038.11368038144, 399038.11368038144, 399038.11368038144, 399038.11368038144, 399038.11368038144, 399038.11368038144, 399038.11368038144, 399038.11368038144, 399038.11368038144, 399038.11368038144, 399038.11368038144, 399038.11368038144, 399038.11368038144, 399038.11368038144, 399038.11368038144, 399038.11368038144, 399038.11368038144, 399038.11368038144, 399038.11368038144, 399038.11368038144, 399038.11368038144, 399038.11368038144, 399038.11368038144, 399038.11368038144, 399038.11368038144, 399038.11368038144, 399038.11368038144, 399038.11368038144, 399038.11368038144, 399038.11368038144, 399038.11368038144, 399038.11368038144, 399038.11368038144, 399038.11368038144, 399038.11368038144, 399038.11368038144, 399038.11368038144, 399038.11368038144, 399038.11368038144, 399038.11368038144, 399038.11368038144, 399038.11368038144, 399038.11368038144, 399038.11368038144, 399038.11368038144, 399038.11368038144, 399038.11368038144, 399038.11368038144, 399038.11368038144, 399038.11368038144, 399038.11368038144, 399038.11368038144, 399038.11368038144, 399038.11368038144, 399038.11368038144, 399038.11368038144, 399038.11368038144, 399038.11368038144, 399038.11368038144, 399038.11368038144, 399038.11368038144, 399038.11368038144, 399038.11368038144, 399038.11368038144, 399038.11368038144, 399038.11368038144, 399038.11368038144, 399038.11368038144, 399038.11368038144, 399038.11368038144, 399038.11368038144, 399038.11368038144, 399038.11368038144, 399038.11368038144, 399038.11368038144, 399038.11368038144, 399038.11368038144, 399038.11368038144, 399038.11368038144, 399038.11368038144, 399038.11368038144, 399038.11368038144, 399038.11368038144, 399038.11368038144, 399038.11368038144, 399038.11368038144, 399038.11368038144, 399038.11368038144, 399038.11368038144, 399038.11368038144, 399038.11368038144, 399038.11368038144, 399038.11368038144, 399038.11368038144, 399038.11368038144, 399038.11368038144, 399038.11368038144, 399038.11368038144, 399038.11368038144, 399038.11368038144, 399038.11368038144, 399038.11368038144, 399038.11368038144, 399038.11368038144, 399038.11368038144, 399038.11368038144, 399301.9502396274, 399301.9502396274, 399301.9502396274, 399301.9502396274, 399301.9502396274, 399301.9502396274, 399301.9502396274, 399301.9502396274, 399301.9502396274, 399301.9502396274, 399301.9502396274, 399301.9502396274, 399301.9502396274, 399301.9502396274, 399301.9502396274, 399301.9502396274, 399301.9502396274, 399301.9502396274, 399301.9502396274, 399301.9502396274, 399301.9502396274, 399301.9502396274, 399301.9502396274, 399301.9502396274, 399301.9502396274, 399301.9502396274, 399301.9502396274, 399301.9502396274, 399301.9502396274, 399301.9502396274, 399301.9502396274, 399301.9502396274, 399301.9502396274, 399301.9502396274, 399301.9502396274, 399301.9502396274, 399301.9502396274, 399301.9502396274, 399301.9502396274, 399301.9502396274, 399301.9502396274, 399301.9502396274, 399301.9502396274, 399301.9502396274, 399301.9502396274, 399301.9502396274, 399301.9502396274, 399301.9502396274, 399301.9502396274, 399301.9502396274, 399301.9502396274, 399301.9502396274, 399301.9502396274, 399301.9502396274, 399301.9502396274, 399301.9502396274, 399301.9502396274, 399301.9502396274, 399301.9502396274, 399301.9502396274, 399301.9502396274, 399301.9502396274, 399301.9502396274, 399301.9502396274, 399301.9502396274, 399301.9502396274, 399301.9502396274, 399301.9502396274, 399301.9502396274, 399301.9502396274, 399301.9502396274, 399301.9502396274, 399301.9502396274, 399301.9502396274, 399301.9502396274, 399301.9502396274, 399301.9502396274, 399301.9502396274, 399301.9502396274, 399301.9502396274, 399301.9502396274, 399301.9502396274, 399301.9502396274, 399301.9502396274, 399301.9502396274, 399301.9502396274, 399301.9502396274, 399301.9502396274, 399301.9502396274, 399301.9502396274, 399301.9502396274, 399301.9502396274, 399301.9502396274, 399301.9502396274, 399301.9502396274, 399301.9502396274, 399301.9502396274, 399301.9502396274, 399301.9502396274, 399301.9502396274, 399301.9502396274, 399301.9502396274, 399301.9502396274, 399301.9502396274, 399301.9502396274, 399301.9502396274, 399301.9502396274, 399301.9502396274, 399301.9502396274, 399301.9502396274, 399301.9502396274, 399301.9502396274, 399301.9502396274, 399301.9502396274, 399301.9502396274, 399301.9502396274, 399301.9502396274, 399301.9502396274, 399301.9502396274, 399301.9502396274, 399301.9502396274, 399301.9502396274, 399301.9502396274, 399301.9502396274, 399301.9502396274, 399301.9502396274, 399301.9502396274, 399301.9502396274, 399301.9502396274, 399301.9502396274, 399301.9502396274, 399301.9502396274, 399301.9502396274, 399301.9502396274, 399301.9502396274, 399301.9502396274, 399301.9502396274, 399301.9502396274, 399301.9502396274, 399301.9502396274, 399301.9502396274, 399301.9502396274, 399301.9502396274, 399301.9502396274, 399301.9502396274, 399301.9502396274, 399301.9502396274, 399301.9502396274, 399301.9502396274, 399301.9502396274, 399301.9502396274, 399301.9502396274, 399301.9502396274, 399301.9502396274, 399301.9502396274, 399301.9502396274, 399301.9502396274, 412229.941642677, 412229.941642677, 412229.941642677, 412229.941642677, 412229.941642677, 412229.941642677, 412229.941642677, 412229.941642677, 412229.941642677, 412229.941642677, 412229.941642677, 412229.941642677, 412229.941642677, 412229.941642677, 412229.941642677, 412229.941642677, 412229.941642677, 412229.941642677, 412229.941642677, 412229.941642677, 412229.941642677, 412229.941642677, 412229.941642677, 412229.941642677, 412229.941642677, 412229.941642677, 412229.941642677, 412229.941642677, 412229.941642677, 412229.941642677, 412229.941642677, 412229.941642677, 412229.941642677, 412229.941642677, 412229.941642677, 412229.941642677, 412229.941642677, 412229.941642677, 412229.941642677, 412229.941642677, 412229.941642677, 412229.941642677, 412229.941642677, 412229.941642677, 412229.941642677, 412229.941642677, 412229.941642677, 412229.941642677, 412229.941642677, 412229.941642677, 412229.941642677, 412229.941642677, 412229.941642677, 412229.941642677, 412229.941642677, 412229.941642677, 412229.941642677, 412229.941642677, 412229.941642677, 412229.941642677, 412229.941642677, 412229.941642677, 412229.941642677, 412229.941642677, 412229.941642677, 412229.941642677, 412229.941642677, 412229.941642677, 412229.941642677, 412229.941642677, 412229.941642677, 412229.941642677, 412229.941642677, 412229.941642677, 412229.941642677, 412229.941642677, 412229.941642677, 412229.941642677, 412229.941642677, 412229.941642677, 412229.941642677, 412229.941642677, 412229.941642677, 412229.941642677, 412229.941642677, 412229.941642677, 412229.941642677, 412229.941642677, 412229.941642677, 412229.941642677, 412229.941642677, 412229.941642677, 412229.941642677, 412229.941642677, 412229.941642677, 412229.941642677, 412229.941642677, 412229.941642677, 412229.941642677, 412229.941642677, 412229.941642677, 412229.941642677, 412229.941642677, 412229.941642677, 412229.941642677, 412229.941642677, 412229.941642677, 412229.941642677, 412229.941642677, 412229.941642677, 412229.941642677, 412229.941642677, 412229.941642677, 412229.941642677, 412229.941642677, 412229.941642677, 412229.941642677, 412229.941642677, 412229.941642677, 412229.941642677, 412229.941642677, 412229.941642677, 412229.941642677, 412229.941642677, 412229.941642677, 412229.941642677, 412229.941642677, 412229.941642677, 412229.941642677, 412229.941642677, 412229.941642677, 412229.941642677, 412229.941642677, 412229.941642677, 412229.941642677, 412229.941642677, 412229.941642677, 412229.941642677, 412229.941642677, 412229.941642677, 412229.941642677, 412229.941642677, 412229.941642677, 412229.941642677, 412229.941642677, 412229.941642677, 412229.941642677, 412229.941642677, 412229.941642677, 412229.941642677, 412229.941642677, 412229.941642677, 412229.941642677, 412229.941642677, 412229.941642677, 412229.941642677, 412229.941642677, 412229.941642677, 412229.941642677, 412229.941642677, 412229.941642677, 412229.941642677, 412229.941642677, 412229.941642677, 412229.941642677, 412229.941642677, 412229.941642677, 412229.941642677, 412229.941642677, 412229.941642677, 412229.941642677, 412229.941642677, 412229.941642677, 412229.941642677, 412229.941642677, 412229.941642677, 412229.941642677, 412229.941642677, 412229.941642677, 412229.941642677, 412229.941642677, 412229.941642677, 412229.941642677, 412229.941642677, 412229.941642677, 412229.941642677, 412229.941642677, 412229.941642677, 412229.941642677, 412229.941642677, 412229.941642677, 412229.941642677, 412229.941642677, 412229.941642677, 412229.941642677, 412229.941642677, 412229.941642677, 412229.941642677, 412229.941642677, 412229.941642677, 412229.941642677, 412229.941642677, 412229.941642677, 412229.941642677, 412229.941642677, 412229.941642677, 412229.941642677, 412229.941642677, 412229.941642677, 412229.941642677, 412229.941642677, 412229.941642677, 412229.941642677, 412229.941642677, 412229.941642677, 412229.941642677, 412229.941642677, 412229.941642677, 412229.941642677, 412229.941642677, 412229.941642677, 412229.941642677, 412229.941642677, 412229.941642677, 412229.941642677, 412229.941642677, 412229.941642677, 412229.941642677, 412229.941642677, 412229.941642677, 412229.941642677, 412229.941642677, 412229.941642677, 412229.941642677, 412229.941642677, 412229.941642677, 412229.941642677, 412229.941642677, 412229.941642677, 412229.941642677, 412229.941642677, 412229.941642677, 412229.941642677, 412229.941642677, 412229.941642677, 412229.941642677, 412229.941642677, 412229.941642677, 412229.941642677, 412229.941642677, 412229.941642677, 412229.941642677, 412229.941642677, 412229.941642677, 412229.941642677, 412229.941642677, 412229.941642677, 412229.941642677, 412229.941642677, 412229.941642677, 412229.941642677, 412229.941642677, 412229.941642677, 412229.941642677, 412229.941642677, 412229.941642677, 412229.941642677, 412229.941642677, 412229.941642677, 412229.941642677, 412229.941642677, 412229.941642677, 412229.941642677, 412229.941642677, 412229.941642677, 412229.941642677, 412229.941642677, 412229.941642677, 412229.941642677, 412229.941642677, 412229.941642677, 412229.941642677, 412229.941642677, 412229.941642677, 412229.941642677, 412229.941642677, 412229.941642677, 412229.941642677, 412229.941642677, 412229.941642677, 412229.941642677, 412229.941642677, 412229.941642677, 412229.941642677, 412229.941642677, 412229.941642677, 412229.941642677, 412229.941642677, 412229.941642677, 412229.941642677, 412229.941642677, 412229.941642677, 412229.941642677, 412229.941642677, 412229.941642677, 412229.941642677, 412229.941642677, 412229.941642677, 412229.941642677, 412229.941642677, 412229.941642677, 412229.941642677, 412229.941642677, 412229.941642677, 412229.941642677, 412229.941642677, 412229.941642677, 412229.941642677, 412229.941642677, 412229.941642677, 412229.941642677, 412229.941642677, 412229.941642677, 412229.941642677, 412229.941642677, 412229.941642677, 412229.941642677, 412229.941642677, 412229.941642677, 412229.941642677, 412229.941642677, 412229.941642677, 412229.941642677, 412229.941642677, 412229.941642677, 412229.941642677, 412229.941642677, 412229.941642677, 412229.941642677, 412229.941642677, 412229.941642677, 412229.941642677, 412229.941642677, 412229.941642677, 412229.941642677, 412229.941642677, 412229.941642677, 412229.941642677, 412229.941642677, 412229.941642677, 412229.941642677, 412229.941642677, 412229.941642677, 412229.941642677, 412229.941642677, 412229.941642677, 412229.941642677, 412229.941642677, 412229.941642677, 412229.941642677, 412229.941642677, 412229.941642677, 412229.941642677, 412229.941642677, 412229.941642677, 412229.941642677, 412229.941642677, 412229.941642677, 412229.941642677, 412229.941642677, 412229.941642677, 412229.941642677, 412229.941642677, 412229.941642677, 412229.941642677, 412229.941642677, 412229.941642677, 412229.941642677, 412229.941642677, 412229.941642677, 412229.941642677, 412229.941642677, 412229.941642677, 412229.941642677, 412229.941642677, 412229.941642677, 412229.941642677, 412229.941642677, 412229.941642677, 412229.941642677, 412229.941642677, 412229.941642677, 412229.941642677, 412229.941642677, 412229.941642677, 412229.941642677, 412229.941642677, 412229.941642677, 412229.941642677, 412229.941642677, 412229.941642677, 412229.941642677, 412229.941642677, 412229.941642677, 412229.941642677, 412229.941642677, 412229.941642677, 412229.941642677, 412229.941642677, 412229.941642677, 412229.941642677, 412229.941642677, 412229.941642677, 412229.941642677, 412229.941642677, 412229.941642677, 412229.941642677, 412229.941642677, 412229.941642677, 412229.941642677, 412229.941642677, 412229.941642677, 412229.941642677, 412229.941642677, 412229.941642677, 412229.941642677, 412229.941642677, 412229.941642677, 412229.941642677, 412229.941642677, 412229.941642677, 412229.941642677, 412229.941642677, 412229.941642677, 412229.941642677, 412229.941642677, 412229.941642677, 412229.941642677, 412229.941642677, 412229.941642677, 412229.941642677, 412229.941642677, 412229.941642677, 412229.941642677, 412229.941642677, 412229.941642677, 412229.941642677, 412229.941642677, 412229.941642677, 412229.941642677, 412229.941642677, 412229.941642677, 412229.941642677, 412229.941642677, 412229.941642677, 412229.941642677, 412229.941642677, 412229.941642677, 412229.941642677, 412229.941642677, 412229.941642677, 412229.941642677, 412229.941642677, 412229.941642677, 412229.941642677, 412229.941642677, 412229.941642677, 412229.941642677, 412229.941642677, 412229.941642677, 412229.941642677, 412229.941642677, 412229.941642677, 412229.941642677, 412229.941642677, 412229.941642677, 412229.941642677, 412229.941642677, 412229.941642677, 412229.941642677, 412229.941642677, 412229.941642677, 412229.941642677, 412229.941642677, 412229.941642677, 412229.941642677, 412229.941642677, 412229.941642677, 412229.941642677, 412229.941642677, 412229.941642677, 412229.941642677, 412229.941642677, 412229.941642677, 412229.941642677, 412229.941642677, 412229.941642677, 412229.941642677, 412229.941642677, 412229.941642677, 412229.941642677, 412229.941642677, 412229.941642677, 412229.941642677, 412229.941642677, 412229.941642677, 412229.941642677, 412229.941642677, 412229.941642677, 412229.941642677, 412229.941642677, 412229.941642677, 412229.941642677, 412229.941642677, 412229.941642677, 412229.941642677, 412229.941642677, 412229.941642677, 412229.941642677, 412229.941642677, 412229.941642677, 412229.941642677, 412229.941642677, 412229.941642677, 412229.941642677, 412229.941642677, 412229.941642677, 412229.941642677, 412229.941642677, 412229.941642677, 412229.941642677, 412229.941642677, 412229.941642677, 412229.941642677, 412229.941642677, 412229.941642677, 412229.941642677, 412229.941642677, 412229.941642677, 412229.941642677, 412229.941642677, 412229.941642677, 412229.941642677, 412229.941642677, 412229.941642677, 412229.941642677, 412229.941642677, 412229.941642677, 412229.941642677, 412229.941642677, 412229.941642677, 412229.941642677, 412229.941642677, 412229.941642677, 412229.941642677, 412229.941642677, 412229.941642677, 412229.941642677, 412229.941642677, 412229.941642677, 412229.941642677, 412229.941642677, 412229.941642677, 412229.941642677, 412229.941642677, 412229.941642677, 412229.941642677, 412229.941642677, 412229.941642677, 412229.941642677, 412229.941642677, 412229.941642677, 412229.941642677, 412229.941642677, 412229.941642677, 412229.941642677, 412229.941642677, 412229.941642677, 412229.941642677, 412229.941642677, 412229.941642677, 412229.941642677, 412229.941642677, 412229.941642677, 412229.941642677, 412229.941642677, 412229.941642677, 412229.941642677, 412229.941642677, 412229.941642677, 412229.941642677, 412229.941642677, 412229.941642677, 412229.941642677, 412229.941642677, 412229.941642677, 412229.941642677, 412229.941642677, 412229.941642677, 412229.941642677, 412229.941642677, 412229.941642677, 412229.941642677, 412229.941642677, 412229.941642677, 412229.941642677, 412229.941642677, 412229.941642677, 412229.941642677, 412229.941642677, 412229.941642677, 412229.941642677, 412229.941642677, 412229.941642677, 412229.941642677, 412229.941642677, 412229.941642677, 412229.941642677, 412229.941642677, 412229.941642677, 412229.941642677, 412229.941642677, 412229.941642677, 412229.941642677, 412229.941642677, 412229.941642677, 412229.941642677, 412229.941642677, 412229.941642677, 412229.941642677, 412229.941642677, 412229.941642677, 412229.941642677, 412229.941642677, 412229.941642677, 412229.941642677, 412229.941642677, 412229.941642677, 412229.941642677, 412229.941642677, 412229.941642677, 412229.941642677, 412229.941642677, 412229.941642677, 412229.941642677, 412229.941642677, 412229.941642677, 412229.941642677, 412229.941642677, 412229.941642677, 412229.941642677, 412229.941642677, 412229.941642677, 412229.941642677, 412229.941642677, 412229.941642677, 412229.941642677, 412229.941642677, 412229.941642677, 412229.941642677, 412229.941642677, 412229.941642677, 412229.941642677, 412229.941642677, 412229.941642677, 412229.941642677, 412229.941642677, 412229.941642677, 412229.941642677, 412229.941642677, 412229.941642677, 412229.941642677, 412229.941642677, 412229.941642677, 412229.941642677, 412229.941642677, 412229.941642677, 412229.941642677, 412229.941642677, 412229.941642677, 412229.941642677, 412229.941642677, 412229.941642677, 412229.941642677, 412229.941642677, 412229.941642677, 412229.941642677, 412229.941642677, 412229.941642677, 412229.941642677, 412229.941642677, 412229.941642677, 412229.941642677, 412229.941642677, 412229.941642677, 412229.941642677, 412229.941642677, 412229.941642677, 412229.941642677, 412229.941642677, 412229.941642677, 412229.941642677, 412229.941642677, 412229.941642677, 412229.941642677, 412229.941642677, 412229.941642677, 412229.941642677, 412229.941642677, 412229.941642677, 412229.941642677, 412229.941642677, 412229.941642677, 412229.941642677, 412229.941642677, 412229.941642677, 425421.76960497256, 425421.76960497256, 425421.76960497256, 425421.76960497256, 425421.76960497256, 425421.76960497256, 425421.76960497256, 425421.76960497256, 425421.76960497256, 425421.76960497256, 425421.76960497256, 425421.76960497256, 425421.76960497256, 425421.76960497256, 425421.76960497256, 425421.76960497256, 425421.76960497256, 425421.76960497256, 425421.76960497256, 425421.76960497256, 425421.76960497256, 425421.76960497256, 425421.76960497256, 425421.76960497256, 425421.76960497256, 425421.76960497256, 425421.76960497256, 425421.76960497256, 425421.76960497256, 425421.76960497256, 425421.76960497256, 425685.60616421845, 425685.60616421845, 425685.60616421845, 436766.74165254674, 436766.74165254674, 436766.74165254674, 436766.74165254674, 436766.74165254674, 436766.74165254674, 436766.74165254674, 437294.4147710386, 442834.98251520266, 442834.98251520266, 442834.98251520266, 442834.98251520266, 442834.98251520266, 442834.98251520266, 442834.98251520266, 442834.98251520266, 442834.98251520266, 442834.98251520266, 442834.98251520266, 442834.98251520266, 442834.98251520266, 442834.98251520266, 442834.98251520266, 442834.98251520266, 442834.98251520266, 442834.98251520266, 442834.98251520266, 442834.98251520266, 442834.98251520266, 442834.98251520266, 442834.98251520266, 442834.98251520266, 442834.98251520266, 442834.98251520266, 442834.98251520266, 442834.98251520266, 442834.98251520266, 442834.98251520266, 442834.98251520266, 442834.98251520266, 442834.98251520266, 442834.98251520266, 442834.98251520266, 442834.98251520266, 442834.98251520266, 442834.98251520266, 442834.98251520266, 442834.98251520266, 442834.98251520266, 443890.3287521863, 443890.3287521863, 443890.3287521863, 443890.3287521863, 443890.3287521863, 443890.3287521863, 443890.3287521863, 443890.3287521863, 443890.3287521863, 443890.3287521863, 445209.5115484159, 445209.5115484159, 445209.5115484159, 445209.5115484159, 445209.5115484159, 445209.5115484159, 445209.5115484159, 445209.5115484159, 445209.5115484159, 445209.5115484159, 445209.5115484159, 445209.5115484159, 445209.5115484159, 445209.5115484159, 445209.5115484159, 445209.5115484159, 445209.5115484159, 445209.5115484159, 445209.5115484159, 445209.5115484159, 445209.5115484159, 445209.5115484159, 445209.5115484159, 445209.5115484159, 445209.5115484159, 445209.5115484159, 445209.5115484159, 445209.5115484159, 445209.5115484159, 445209.5115484159, 445209.5115484159, 449167.0599371045, 449167.0599371045, 449167.0599371045, 449167.0599371045, 449167.0599371045, 449167.0599371045, 449167.0599371045, 449694.73305559636, 451277.75241107185, 451277.75241107185, 451277.75241107185, 451277.75241107185, 451277.75241107185, 451277.75241107185, 451277.75241107185, 451277.75241107185, 451277.75241107185, 451277.75241107185, 451277.75241107185, 451277.75241107185, 451277.75241107185, 451277.75241107185, 451277.75241107185, 451277.75241107185, 451277.75241107185, 451277.75241107185, 451277.75241107185, 451277.75241107185, 451277.75241107185, 451277.75241107185, 451277.75241107185, 451277.75241107185, 451277.75241107185, 451277.75241107185, 451277.75241107185, 451277.75241107185, 451277.75241107185, 451277.75241107185, 451277.75241107185, 451277.75241107185, 451277.75241107185, 451277.75241107185, 451277.75241107185, 451277.75241107185, 451277.75241107185, 451277.75241107185, 451277.75241107185, 451277.75241107185, 451277.75241107185, 451277.75241107185, 451277.75241107185, 451277.75241107185, 451277.75241107185, 451277.75241107185, 451277.75241107185, 451277.75241107185, 451277.75241107185, 451277.75241107185, 451277.75241107185, 451277.75241107185, 451277.75241107185, 451277.75241107185, 451277.75241107185, 451277.75241107185, 451277.75241107185, 451277.75241107185, 451277.75241107185, 451277.75241107185, 451277.75241107185, 451277.75241107185, 451277.75241107185, 451277.75241107185, 451277.75241107185, 451277.75241107185, 451277.75241107185, 451277.75241107185, 451277.75241107185, 451277.75241107185, 451277.75241107185, 451277.75241107185, 451277.75241107185, 451277.75241107185, 451277.75241107185, 451277.75241107185, 451277.75241107185, 451277.75241107185, 451277.75241107185, 451277.75241107185, 451277.75241107185, 451277.75241107185, 451277.75241107185, 451277.75241107185, 451277.75241107185, 451277.75241107185, 451277.75241107185, 451277.75241107185, 451277.75241107185, 451277.75241107185, 451277.75241107185, 451277.75241107185, 451277.75241107185, 451277.75241107185, 451277.75241107185, 451277.75241107185, 451277.75241107185, 451277.75241107185, 451277.75241107185, 451277.75241107185, 451277.75241107185, 451277.75241107185, 451277.75241107185, 451277.75241107185, 451277.75241107185, 451277.75241107185, 451277.75241107185, 451277.75241107185, 451277.75241107185, 451277.75241107185, 451277.75241107185, 451277.75241107185, 451277.75241107185, 451277.75241107185, 451277.75241107185, 451277.75241107185, 451277.75241107185, 451277.75241107185, 451277.75241107185, 451277.75241107185, 451277.75241107185, 451277.75241107185, 451277.75241107185, 451277.75241107185, 451277.75241107185, 451277.75241107185, 451277.75241107185, 451277.75241107185, 451277.75241107185, 451277.75241107185, 451277.75241107185, 451277.75241107185, 451277.75241107185, 451277.75241107185, 451277.75241107185, 451277.75241107185, 451277.75241107185, 451277.75241107185, 451277.75241107185, 451277.75241107185, 451277.75241107185, 451277.75241107185, 451277.75241107185, 451277.75241107185, 451277.75241107185, 451277.75241107185, 451277.75241107185, 451277.75241107185, 451277.75241107185, 451277.75241107185, 451277.75241107185, 451277.75241107185, 451277.75241107185, 451277.75241107185, 451277.75241107185, 451277.75241107185, 451277.75241107185, 451277.75241107185, 451277.75241107185, 451277.75241107185, 451277.75241107185, 451277.75241107185, 451277.75241107185, 451277.75241107185, 451277.75241107185, 451277.75241107185, 451277.75241107185, 451277.75241107185, 451277.75241107185, 451277.75241107185, 451277.75241107185, 451277.75241107185, 451277.75241107185, 451277.75241107185, 451277.75241107185, 451277.75241107185, 451277.75241107185, 451277.75241107185, 451277.75241107185, 451277.75241107185, 451277.75241107185, 451277.75241107185, 451277.75241107185, 451277.75241107185, 451277.75241107185, 451277.75241107185, 451277.75241107185, 451277.75241107185, 451277.75241107185, 451277.75241107185, 451277.75241107185, 451277.75241107185, 451277.75241107185, 451277.75241107185, 451277.75241107185, 451277.75241107185, 451277.75241107185, 451277.75241107185, 451277.75241107185, 451277.75241107185, 451277.75241107185, 451277.75241107185, 451277.75241107185, 451277.75241107185, 451277.75241107185, 451277.75241107185, 451277.75241107185, 451277.75241107185, 451277.75241107185, 451277.75241107185, 451277.75241107185, 451277.75241107185, 451277.75241107185, 451277.75241107185, 451277.75241107185, 451277.75241107185, 451277.75241107185, 451277.75241107185, 451277.75241107185, 451277.75241107185, 451277.75241107185, 451277.75241107185, 451277.75241107185, 451277.75241107185, 451277.75241107185, 451277.75241107185, 452069.26208880957, 452069.26208880957, 452069.26208880957, 452069.26208880957, 452069.26208880957, 452069.26208880957, 452069.26208880957, 452069.26208880957, 452069.26208880957, 452069.26208880957, 452069.26208880957, 452069.26208880957, 452069.26208880957, 452069.26208880957, 452069.26208880957, 452069.26208880957, 452069.26208880957, 452069.26208880957, 452069.26208880957, 452069.26208880957, 452069.26208880957, 452069.26208880957, 452069.26208880957, 452069.26208880957, 452069.26208880957, 452069.26208880957, 452069.26208880957, 452069.26208880957, 452069.26208880957, 452069.26208880957, 452069.26208880957, 452069.26208880957, 452069.26208880957, 452069.26208880957, 452069.26208880957, 452069.26208880957, 452069.26208880957, 452069.26208880957, 452069.26208880957, 452069.26208880957, 452069.26208880957, 452069.26208880957, 452069.26208880957, 452069.26208880957, 452069.26208880957, 452069.26208880957, 452069.26208880957, 452069.26208880957, 452069.26208880957, 452069.26208880957, 452069.26208880957, 452069.26208880957, 452069.26208880957, 452069.26208880957, 452069.26208880957, 452069.26208880957, 452069.26208880957, 452069.26208880957, 452069.26208880957, 452069.26208880957, 452069.26208880957, 452069.26208880957, 452069.26208880957, 452069.26208880957, 452069.26208880957, 452069.26208880957, 452069.26208880957, 452069.26208880957, 452069.26208880957, 452069.26208880957, 452069.26208880957, 452069.26208880957, 452069.26208880957, 452069.26208880957, 452069.26208880957, 452069.26208880957, 452069.26208880957, 452069.26208880957, 452069.26208880957, 452069.26208880957, 452069.26208880957, 452069.26208880957, 452069.26208880957, 452069.26208880957, 452069.26208880957, 452069.26208880957, 452069.26208880957, 452069.26208880957, 452069.26208880957, 452069.26208880957, 452069.26208880957, 452069.26208880957, 453652.28144428506, 453652.28144428506, 453652.28144428506, 453652.28144428506, 453652.28144428506, 453652.28144428506, 453652.28144428506, 453652.28144428506, 453652.28144428506, 453652.28144428506, 453652.28144428506, 453652.28144428506, 453652.28144428506, 453652.28144428506, 453652.28144428506, 453652.28144428506, 453652.28144428506, 453652.28144428506, 453652.28144428506, 453652.28144428506, 453652.28144428506, 453652.28144428506, 453652.28144428506, 453652.28144428506, 453652.28144428506, 453652.28144428506, 453652.28144428506, 453652.28144428506, 453652.28144428506, 453652.28144428506, 453652.28144428506, 453652.28144428506, 453652.28144428506, 453652.28144428506, 453652.28144428506, 453652.28144428506, 453652.28144428506, 453652.28144428506, 453652.28144428506, 453652.28144428506, 453652.28144428506, 453652.28144428506, 453652.28144428506, 453652.28144428506, 453652.28144428506, 453652.28144428506, 453652.28144428506, 453652.28144428506, 453652.28144428506, 453652.28144428506, 453652.28144428506, 453652.28144428506, 453652.28144428506, 453652.28144428506, 453652.28144428506, 453652.28144428506, 453652.28144428506, 453652.28144428506, 453652.28144428506, 453652.28144428506, 453652.28144428506, 453652.28144428506, 453652.28144428506, 453652.28144428506, 453652.28144428506, 453652.28144428506, 453652.28144428506, 453652.28144428506, 453652.28144428506, 453652.28144428506, 453652.28144428506, 453652.28144428506, 453652.28144428506, 453652.28144428506, 453652.28144428506, 453652.28144428506, 453652.28144428506, 453652.28144428506, 453652.28144428506, 453652.28144428506, 453652.28144428506, 453652.28144428506, 453652.28144428506, 458137.50295146555, 468427.12876205606, 468427.12876205606, 468427.12876205606, 468427.12876205606, 468427.12876205606, 468427.12876205606, 468427.12876205606, 468427.12876205606, 468427.12876205606, 468427.12876205606, 468427.12876205606, 468427.12876205606, 468427.12876205606, 468427.12876205606, 468427.12876205606, 468427.12876205606, 468427.12876205606, 468427.12876205606, 468427.12876205606, 468427.12876205606, 468427.12876205606, 468427.12876205606, 468427.12876205606, 468427.12876205606, 468427.12876205606, 468427.12876205606, 468427.12876205606, 468427.12876205606, 468427.12876205606, 468427.12876205606, 468427.12876205606, 468427.12876205606, 468427.12876205606, 468427.12876205606, 468427.12876205606, 468427.12876205606, 468427.12876205606, 468427.12876205606, 468427.12876205606, 468427.12876205606, 468427.12876205606, 468427.12876205606, 468427.12876205606, 468427.12876205606, 468427.12876205606, 468427.12876205606, 468427.12876205606, 468427.12876205606, 468427.12876205606, 468427.12876205606, 468427.12876205606, 468427.12876205606, 468427.12876205606, 468427.12876205606, 468427.12876205606, 468427.12876205606, 468427.12876205606, 468427.12876205606, 468427.12876205606, 468427.12876205606, 468427.12876205606, 468427.12876205606, 468427.12876205606, 468427.12876205606, 468427.12876205606, 468427.12876205606, 468427.12876205606, 468427.12876205606, 468427.12876205606, 468427.12876205606, 468427.12876205606, 468427.12876205606, 468427.12876205606, 468427.12876205606, 468427.12876205606, 468427.12876205606, 468427.12876205606, 468427.12876205606, 468427.12876205606, 468427.12876205606, 468427.12876205606, 468427.12876205606, 468427.12876205606, 468427.12876205606, 468427.12876205606, 468427.12876205606, 468427.12876205606, 468427.12876205606, 468427.12876205606, 468427.12876205606, 468427.12876205606, 468427.12876205606, 468427.12876205606, 468427.12876205606, 468427.12876205606, 468427.12876205606, 468427.12876205606, 468427.12876205606, 468427.12876205606, 468427.12876205606, 468427.12876205606, 468427.12876205606, 468427.12876205606, 468427.12876205606, 468427.12876205606, 468427.12876205606, 468427.12876205606, 468427.12876205606, 468427.12876205606, 468427.12876205606, 468427.12876205606, 468427.12876205606, 468427.12876205606, 468427.12876205606, 468427.12876205606, 468427.12876205606, 468427.12876205606, 468427.12876205606, 468427.12876205606, 468427.12876205606, 468427.12876205606, 468427.12876205606, 468427.12876205606, 468427.12876205606, 468427.12876205606, 468427.12876205606, 468427.12876205606, 468427.12876205606, 468427.12876205606, 468427.12876205606, 468427.12876205606, 468427.12876205606, 468427.12876205606, 468690.96532130195, 468690.96532130195, 468690.96532130195, 468690.96532130195, 468690.96532130195, 468690.96532130195, 468690.96532130195, 469343.01207808213, 469343.01207808213, 469343.01207808213, 469343.01207808213, 469343.01207808213, 469343.01207808213, 469343.01207808213, 469343.01207808213, 469343.01207808213, 469343.01207808213, 469343.01207808213, 469343.01207808213, 469343.01207808213, 469343.01207808213, 469343.01207808213, 469343.01207808213, 469343.01207808213, 469343.01207808213, 469343.01207808213, 469343.01207808213, 469343.01207808213, 469343.01207808213, 469343.01207808213, 469343.01207808213, 469343.01207808213, 469343.01207808213, 469343.01207808213, 469343.01207808213, 469343.01207808213, 469343.01207808213, 469343.01207808213, 469343.01207808213, 469343.01207808213, 469343.01207808213, 469343.01207808213, 469343.01207808213, 469343.01207808213, 469343.01207808213, 469343.01207808213, 469343.01207808213, 469343.01207808213, 469343.01207808213, 469343.01207808213, 469343.01207808213, 469343.01207808213, 469343.01207808213, 469343.01207808213, 469343.01207808213, 469343.01207808213, 469343.01207808213, 469343.01207808213, 469343.01207808213, 469343.01207808213, 469343.01207808213, 469343.01207808213, 469343.01207808213, 469343.01207808213, 469343.01207808213, 469343.01207808213, 469343.01207808213, 469343.01207808213, 469343.01207808213, 469343.01207808213, 469343.01207808213, 469343.01207808213, 469343.01207808213, 469343.01207808213, 469343.01207808213, 469343.01207808213, 469343.01207808213, 469343.01207808213, 469343.01207808213, 469343.01207808213, 469343.01207808213, 469343.01207808213, 469343.01207808213, 469343.01207808213, 469343.01207808213, 469343.01207808213, 469343.01207808213, 469343.01207808213, 469343.01207808213, 469343.01207808213, 469343.01207808213, 469343.01207808213, 469343.01207808213, 469343.01207808213, 469343.01207808213, 469343.01207808213, 469343.01207808213, 469343.01207808213, 469343.01207808213, 469343.01207808213, 469343.01207808213, 469343.01207808213, 469343.01207808213, 469343.01207808213, 469343.01207808213, 469343.01207808213, 469343.01207808213, 469343.01207808213, 469343.01207808213, 469343.01207808213, 469343.01207808213, 469343.01207808213, 469343.01207808213, 469343.01207808213, 469343.01207808213, 469343.01207808213, 469343.01207808213, 469343.01207808213, 469343.01207808213, 469343.01207808213, 469343.01207808213, 469343.01207808213, 469343.01207808213, 469343.01207808213, 469343.01207808213, 469343.01207808213, 469343.01207808213, 469343.01207808213, 469343.01207808213, 469343.01207808213, 469343.01207808213, 469343.01207808213, 469343.01207808213, 469343.01207808213, 469343.01207808213, 469343.01207808213, 469343.01207808213, 469343.01207808213, 469343.01207808213, 469343.01207808213, 469343.01207808213, 469343.01207808213, 469343.01207808213, 469343.01207808213, 469343.01207808213, 469343.01207808213, 469343.01207808213, 469343.01207808213, 469343.01207808213, 469343.01207808213, 469343.01207808213, 469343.01207808213, 469343.01207808213, 469343.01207808213, 469343.01207808213, 469343.01207808213, 469343.01207808213, 469343.01207808213, 469343.01207808213, 469343.01207808213, 469343.01207808213, 469343.01207808213, 475814.55242094153, 476869.8986579252, 476869.8986579252, 476869.8986579252, 476869.8986579252, 476869.8986579252, 476869.8986579252, 476869.8986579252, 476869.8986579252, 476869.8986579252, 476869.8986579252, 476869.8986579252, 476869.8986579252, 476869.8986579252, 476869.8986579252, 476869.8986579252, 476869.8986579252, 476869.8986579252, 476869.8986579252, 476869.8986579252, 476869.8986579252, 476869.8986579252, 476869.8986579252, 476869.8986579252, 476869.8986579252, 476869.8986579252, 476869.8986579252, 476869.8986579252, 476869.8986579252, 476869.8986579252, 476869.8986579252, 476869.8986579252, 476869.8986579252, 476869.8986579252, 476869.8986579252, 476869.8986579252, 476869.8986579252, 476869.8986579252, 476869.8986579252, 476869.8986579252, 476869.8986579252, 476869.8986579252, 476869.8986579252, 476869.8986579252, 476869.8986579252, 476869.8986579252, 476869.8986579252, 476869.8986579252, 476869.8986579252, 476869.8986579252, 476869.8986579252, 476869.8986579252, 476869.8986579252, 476869.8986579252, 476869.8986579252, 476869.8986579252, 476869.8986579252, 476869.8986579252, 476869.8986579252, 476869.8986579252, 476869.8986579252, 476869.8986579252, 476869.8986579252, 476869.8986579252, 476869.8986579252, 476869.8986579252, 476869.8986579252, 476869.8986579252, 476869.8986579252, 476869.8986579252, 476869.8986579252, 476869.8986579252, 476869.8986579252, 476869.8986579252, 476869.8986579252, 476869.8986579252, 476869.8986579252, 476869.8986579252, 476869.8986579252, 476869.8986579252, 476869.8986579252, 476869.8986579252, 476869.8986579252, 476869.8986579252, 476869.8986579252, 476869.8986579252, 476869.8986579252, 476869.8986579252, 476869.8986579252, 476869.8986579252, 476869.8986579252, 476869.8986579252, 476869.8986579252, 476869.8986579252, 476869.8986579252, 476869.8986579252, 476869.8986579252, 476869.8986579252, 476869.8986579252, 476869.8986579252, 476869.8986579252, 476869.8986579252, 477397.571776417, 477397.571776417, 477397.571776417, 477397.571776417, 477397.571776417, 477397.571776417, 477397.571776417, 477397.571776417, 477397.571776417, 477397.571776417, 477397.571776417, 477397.571776417, 477397.571776417, 477397.571776417, 477661.4083356629, 477661.4083356629, 477661.4083356629, 477661.4083356629, 477661.4083356629, 477661.4083356629, 477661.4083356629, 477661.4083356629, 477661.4083356629, 477661.4083356629, 477661.4083356629, 477661.4083356629, 477661.4083356629, 477661.4083356629, 477661.4083356629, 477661.4083356629, 477661.4083356629, 477661.4083356629, 477661.4083356629, 477661.4083356629, 477661.4083356629, 477661.4083356629, 477661.4083356629, 477661.4083356629, 477661.4083356629, 477661.4083356629, 477661.4083356629, 477661.4083356629, 477661.4083356629, 477661.4083356629, 477661.4083356629, 477661.4083356629, 477661.4083356629, 477661.4083356629, 477661.4083356629, 477661.4083356629, 477661.4083356629, 477661.4083356629, 477925.24489490886, 477925.24489490886, 477925.24489490886, 477925.24489490886, 477925.24489490886, 477925.24489490886, 477925.24489490886, 477925.24489490886, 477925.24489490886, 477925.24489490886, 477925.24489490886, 477925.24489490886, 477925.24489490886, 477925.24489490886, 477925.24489490886, 477925.24489490886, 477925.24489490886, 477925.24489490886, 477925.24489490886, 477925.24489490886, 477925.24489490886, 477925.24489490886, 477925.24489490886, 477925.24489490886, 477925.24489490886, 477925.24489490886, 477925.24489490886, 477925.24489490886, 477925.24489490886, 477925.24489490886, 477925.24489490886, 477925.24489490886, 477925.24489490886, 477925.24489490886, 477925.24489490886, 477925.24489490886, 477925.24489490886, 477925.24489490886, 477925.24489490886, 477925.24489490886, 477925.24489490886, 477925.24489490886, 477925.24489490886, 477925.24489490886, 477925.24489490886, 477925.24489490886, 477925.24489490886, 477925.24489490886, 477925.24489490886, 477925.24489490886, 477925.24489490886, 477925.24489490886, 477925.24489490886, 477925.24489490886, 477925.24489490886, 477925.24489490886, 477925.24489490886, 477925.24489490886, 477925.24489490886, 477925.24489490886, 477925.24489490886, 477925.24489490886, 477925.24489490886, 477925.24489490886, 477925.24489490886, 477925.24489490886, 477925.24489490886, 477925.24489490886, 477925.24489490886, 477925.24489490886, 477925.24489490886, 477925.24489490886, 477925.24489490886, 477925.24489490886, 477925.24489490886, 477925.24489490886, 477925.24489490886, 477925.24489490886, 477925.24489490886, 477925.24489490886, 477925.24489490886, 477925.24489490886, 477925.24489490886, 477925.24489490886, 477925.24489490886, 477925.24489490886, 477925.24489490886, 477925.24489490886, 477925.24489490886, 477925.24489490886, 477925.24489490886, 477925.24489490886, 477925.24489490886, 477925.24489490886, 477925.24489490886, 477925.24489490886, 477925.24489490886, 477925.24489490886, 477925.24489490886, 477925.24489490886, 477925.24489490886, 477925.24489490886, 477925.24489490886, 477925.24489490886, 477925.24489490886, 477925.24489490886, 477925.24489490886, 477925.24489490886, 477925.24489490886, 477925.24489490886, 478189.08145415474, 478189.08145415474, 478189.08145415474, 478189.08145415474, 478189.08145415474, 478189.08145415474, 478189.08145415474, 478189.08145415474, 478189.08145415474, 478189.08145415474, 478189.08145415474, 478189.08145415474, 478189.08145415474, 478189.08145415474, 478189.08145415474, 478189.08145415474, 478189.08145415474, 478189.08145415474, 478189.08145415474, 478189.08145415474, 478189.08145415474, 478189.08145415474, 478189.08145415474, 478189.08145415474, 478189.08145415474, 478189.08145415474, 478189.08145415474, 478189.08145415474, 478189.08145415474, 478189.08145415474, 478189.08145415474, 478189.08145415474, 478189.08145415474, 478189.08145415474, 478189.08145415474, 478189.08145415474, 478189.08145415474, 478189.08145415474, 478189.08145415474, 478189.08145415474, 478189.08145415474, 478189.08145415474, 478189.08145415474, 478189.08145415474, 478189.08145415474, 478189.08145415474, 478189.08145415474, 478189.08145415474, 478189.08145415474, 478189.08145415474, 478189.08145415474, 478189.08145415474, 478189.08145415474, 478189.08145415474, 478189.08145415474, 478189.08145415474, 478189.08145415474, 478189.08145415474, 478189.08145415474, 478189.08145415474, 478189.08145415474, 478189.08145415474, 478189.08145415474, 478189.08145415474, 478189.08145415474, 478189.08145415474, 478189.08145415474, 478189.08145415474, 478189.08145415474, 478189.08145415474, 478189.08145415474, 478189.08145415474, 478189.08145415474, 478189.08145415474, 478189.08145415474, 478189.08145415474, 478189.08145415474, 478189.08145415474, 478189.08145415474, 478189.08145415474, 478189.08145415474, 478189.08145415474, 478189.08145415474, 478189.08145415474, 478189.08145415474, 478189.08145415474, 478189.08145415474, 478189.08145415474, 478189.08145415474, 478189.08145415474, 478189.08145415474, 478189.08145415474, 478189.08145415474, 478189.08145415474, 478189.08145415474, 478189.08145415474, 478189.08145415474, 478189.08145415474, 478189.08145415474, 478189.08145415474, 478189.08145415474, 478189.08145415474, 478189.08145415474, 478189.08145415474, 478189.08145415474, 478189.08145415474, 478189.08145415474, 478189.08145415474, 478189.08145415474, 478189.08145415474, 478189.08145415474, 478189.08145415474, 478189.08145415474, 478189.08145415474, 478189.08145415474, 478189.08145415474, 478189.08145415474, 478189.08145415474, 478189.08145415474, 478189.08145415474, 478189.08145415474, 478189.08145415474, 478189.08145415474, 478189.08145415474, 478189.08145415474, 478189.08145415474, 478189.08145415474, 478189.08145415474, 478189.08145415474, 478189.08145415474, 478189.08145415474, 478189.08145415474, 478189.08145415474, 478189.08145415474, 478189.08145415474, 478189.08145415474, 478189.08145415474, 478189.08145415474, 478189.08145415474, 478189.08145415474, 478189.08145415474, 478189.08145415474, 478189.08145415474, 478189.08145415474, 478189.08145415474, 478189.08145415474, 478189.08145415474, 478189.08145415474, 478189.08145415474, 478189.08145415474, 478189.08145415474, 478189.08145415474, 478189.08145415474, 478189.08145415474, 478189.08145415474, 478189.08145415474, 478189.08145415474, 478189.08145415474, 478189.08145415474, 478189.08145415474, 478189.08145415474, 478189.08145415474, 478189.08145415474, 478189.08145415474, 478189.08145415474, 478189.08145415474, 478189.08145415474, 478189.08145415474, 478189.08145415474, 478189.08145415474, 478189.08145415474, 478189.08145415474, 478189.08145415474, 478189.08145415474, 478189.08145415474, 478189.08145415474, 478189.08145415474, 478189.08145415474, 478189.08145415474, 478189.08145415474, 478189.08145415474, 478189.08145415474, 478189.08145415474, 478189.08145415474, 478189.08145415474, 478189.08145415474, 478189.08145415474, 478189.08145415474, 478189.08145415474, 478189.08145415474, 478189.08145415474, 478189.08145415474, 478189.08145415474, 478189.08145415474, 478189.08145415474, 478189.08145415474, 478189.08145415474, 478189.08145415474, 478189.08145415474, 478189.08145415474, 478189.08145415474, 478189.08145415474, 478189.08145415474, 478189.08145415474, 478189.08145415474, 478189.08145415474, 478189.08145415474, 478189.08145415474, 478189.08145415474, 478189.08145415474, 478189.08145415474, 478189.08145415474, 478189.08145415474, 478189.08145415474, 478189.08145415474, 478189.08145415474, 478189.08145415474, 478189.08145415474, 478189.08145415474, 478189.08145415474, 478189.08145415474, 478189.08145415474, 478189.08145415474, 478189.08145415474, 478189.08145415474, 478189.08145415474, 478189.08145415474, 478189.08145415474, 478189.08145415474, 478189.08145415474, 478189.08145415474, 478189.08145415474, 478189.08145415474, 478189.08145415474, 478189.08145415474, 478189.08145415474, 478189.08145415474, 478189.08145415474, 478189.08145415474, 478189.08145415474, 478189.08145415474, 478189.08145415474, 478189.08145415474, 478189.08145415474, 478189.08145415474, 478189.08145415474, 478189.08145415474, 478189.08145415474, 478189.08145415474, 478189.08145415474, 478189.08145415474, 478189.08145415474, 478189.08145415474, 478452.9180134007, 478452.9180134007, 478452.9180134007, 478452.9180134007, 478452.9180134007, 478452.9180134007, 478452.9180134007, 478452.9180134007, 478452.9180134007, 485840.34167228616, 485840.34167228616, 485840.34167228616, 485840.34167228616, 500351.35243081127, 500351.35243081127, 500351.35243081127, 500351.35243081127, 500351.35243081127, 500351.35243081127, 500351.35243081127, 500351.35243081127, 500351.35243081127, 500351.35243081127, 500351.35243081127, 500351.35243081127, 500351.35243081127, 500351.35243081127, 500351.35243081127, 500351.35243081127, 500351.35243081127, 500351.35243081127, 500351.35243081127, 500351.35243081127, 500351.35243081127, 500351.35243081127, 500351.35243081127, 500351.35243081127, 500351.35243081127, 500351.35243081127, 500351.35243081127, 500351.35243081127, 500351.35243081127, 500351.35243081127, 500351.35243081127, 500351.35243081127, 500351.35243081127, 500351.35243081127, 500351.35243081127, 500351.35243081127, 500351.35243081127, 500351.35243081127, 500351.35243081127, 500351.35243081127, 500351.35243081127, 500351.35243081127, 500351.35243081127, 500351.35243081127, 500351.35243081127, 500351.35243081127, 500351.35243081127, 500351.35243081127, 500351.35243081127, 500351.35243081127, 500351.35243081127, 500351.35243081127, 500351.35243081127, 500351.35243081127, 500351.35243081127, 500351.35243081127, 500351.35243081127, 500351.35243081127, 500351.35243081127, 500351.35243081127, 500351.35243081127, 500351.35243081127, 500351.35243081127, 500351.35243081127, 500351.35243081127, 500351.35243081127, 500351.35243081127, 500351.35243081127, 500351.35243081127, 500351.35243081127, 500351.35243081127, 500351.35243081127, 500351.35243081127, 500351.35243081127, 500351.35243081127, 500351.35243081127, 500351.35243081127, 500351.35243081127, 500351.35243081127, 500351.35243081127, 500351.35243081127, 500351.35243081127, 500351.35243081127, 500351.35243081127, 500351.35243081127, 500351.35243081127, 500351.35243081127, 500351.35243081127, 500351.35243081127, 500351.35243081127, 500351.35243081127, 500351.35243081127, 500351.35243081127, 500351.35243081127, 500351.35243081127, 500351.35243081127, 500351.35243081127, 500351.35243081127, 500351.35243081127, 500351.35243081127, 500351.35243081127, 500351.35243081127, 501406.69866779493, 501406.69866779493, 501406.69866779493, 501406.69866779493, 501406.69866779493, 501406.69866779493, 501406.69866779493, 501406.69866779493, 501406.69866779493, 501406.69866779493, 501406.69866779493, 501406.69866779493, 501406.69866779493, 502462.04490477854, 502725.8814640245, 502725.8814640245, 502725.8814640245, 502725.8814640245, 502725.8814640245, 502725.8814640245, 502725.8814640245, 502725.8814640245, 502725.8814640245, 502725.8814640245, 502725.8814640245, 502725.8814640245, 502725.8814640245, 502725.8814640245, 502725.8814640245, 502725.8814640245, 502725.8814640245, 502725.8814640245, 502725.8814640245, 502725.8814640245, 502725.8814640245, 502725.8814640245, 502725.8814640245, 503781.22770100815, 503781.22770100815, 504045.06426025403, 504045.06426025403, 504045.06426025403, 504045.06426025403, 504045.06426025403, 504045.06426025403, 504045.06426025403, 504308.9008194999, 504308.9008194999, 504308.9008194999, 504308.9008194999, 504572.73737874586, 504572.73737874586, 504572.73737874586, 504572.73737874586, 504572.73737874586, 504572.73737874586, 504572.73737874586, 504572.73737874586, 504572.73737874586, 504572.73737874586, 504572.73737874586, 504572.73737874586, 504572.73737874586, 504572.73737874586, 504572.73737874586, 504572.73737874586, 504572.73737874586, 504572.73737874586, 504572.73737874586, 504572.73737874586, 504572.73737874586, 504572.73737874586, 504572.73737874586, 504572.73737874586, 504572.73737874586, 504572.73737874586, 504572.73737874586, 504572.73737874586, 504572.73737874586, 504572.73737874586, 504572.73737874586, 504572.73737874586, 504572.73737874586, 504572.73737874586, 504572.73737874586, 504572.73737874586, 504572.73737874586, 504572.73737874586, 504572.73737874586, 504572.73737874586, 504572.73737874586, 504572.73737874586, 504572.73737874586, 504572.73737874586, 504572.73737874586, 504572.73737874586, 504572.73737874586, 504572.73737874586, 504572.73737874586, 504572.73737874586, 504572.73737874586, 504836.57393799175, 504836.57393799175, 504836.57393799175, 504836.57393799175, 504836.57393799175, 504836.57393799175, 504836.57393799175, 504836.57393799175, 504836.57393799175, 504836.57393799175, 504836.57393799175, 504836.57393799175, 504836.57393799175, 504836.57393799175, 504836.57393799175, 552854.8277207476, 556284.7029909444, 556284.7029909444, 556284.7029909444, 556284.7029909444, 556284.7029909444, 556548.5395501903, 556812.3761094362, 557076.2126686822, 557076.2126686822, 557076.2126686822, 557076.2126686822, 557340.049227928, 557340.049227928, 557340.049227928, 557340.049227928, 557340.049227928, 557340.049227928, 557340.049227928, 557340.049227928, 557603.8857871739, 557603.8857871739, 557603.8857871739, 557603.8857871739, 557603.8857871739, 557603.8857871739, 583196.0320340274, 583196.0320340274, 583196.0320340274, 583196.0320340274, 583196.0320340274, 583196.0320340274, 583196.0320340274, 583196.0320340274, 583196.0320340274, 596915.5331148147, 596915.5331148147, 596915.5331148147, 596915.5331148147, 596915.5331148147, 596915.5331148147, 596915.5331148147, 596915.5331148147, 596915.5331148147, 596915.5331148147, 596915.5331148147, 599026.225588782, 599026.225588782, 599026.225588782, 599026.225588782, 599026.225588782, 599026.225588782, 599026.225588782, 599026.225588782, 599026.225588782, 599026.225588782, 599026.225588782, 599026.225588782, 599026.225588782, 599026.225588782, 599026.225588782, 599026.225588782, 599026.225588782, 599026.225588782, 599026.225588782, 599026.225588782, 602192.2642997329, 602192.2642997329, 602192.2642997329, 602192.2642997329, 602192.2642997329, 602192.2642997329, 608260.5051623889, 608260.5051623889, 608260.5051623889, 608260.5051623889, 608260.5051623889, 608260.5051623889, 608260.5051623889, 608260.5051623889, 608260.5051623889, 608260.5051623889, 608260.5051623889, 608260.5051623889, 608260.5051623889, 608260.5051623889, 608260.5051623889, 608260.5051623889, 608260.5051623889, 608260.5051623889, 609052.0148401266, 609052.0148401266, 609315.8513993724, 609315.8513993724, 609843.5245178643, 609843.5245178643, 609843.5245178643, 609843.5245178643, 609843.5245178643, 609843.5245178643, 609843.5245178643, 609843.5245178643, 609843.5245178643, 609843.5245178643, 609843.5245178643, 609843.5245178643, 609843.5245178643, 609843.5245178643, 609843.5245178643, 609843.5245178643, 609843.5245178643, 609843.5245178643, 609843.5245178643, 609843.5245178643, 610107.3610771103, 610107.3610771103, 610107.3610771103, 610107.3610771103, 610107.3610771103, 610107.3610771103, 610107.3610771103, 610107.3610771103, 610107.3610771103, 634907.9976462258, 649682.8449639969, 657861.7783006201, 657861.7783006201, 657861.7783006201, 657861.7783006201, 657861.7783006201, 657861.7783006201, 657861.7783006201, 657861.7783006201, 657861.7783006201, 657861.7783006201, 657861.7783006201, 657861.7783006201, 657861.7783006201, 657861.7783006201, 657861.7783006201, 657861.7783006201, 657861.7783006201, 657861.7783006201, 657861.7783006201, 657861.7783006201, 657861.7783006201, 657861.7783006201, 657861.7783006201, 657861.7783006201, 657861.7783006201, 657861.7783006201, 657861.7783006201, 657861.7783006201, 657861.7783006201, 657861.7783006201, 657861.7783006201, 657861.7783006201, 657861.7783006201, 657861.7783006201, 657861.7783006201, 657861.7783006201, 657861.7783006201, 657861.7783006201, 657861.7783006201, 657861.7783006201, 657861.7783006201, 657861.7783006201, 657861.7783006201, 657861.7783006201, 657861.7783006201, 657861.7783006201, 657861.7783006201, 657861.7783006201, 657861.7783006201, 657861.7783006201, 657861.7783006201, 657861.7783006201, 657861.7783006201, 657861.7783006201, 657861.7783006201, 657861.7783006201, 657861.7783006201, 657861.7783006201, 657861.7783006201, 657861.7783006201, 657861.7783006201, 657861.7783006201, 657861.7783006201, 657861.7783006201, 657861.7783006201, 657861.7783006201, 657861.7783006201, 657861.7783006201, 657861.7783006201, 657861.7783006201, 657861.7783006201, 657861.7783006201, 657861.7783006201, 657861.7783006201, 657861.7783006201, 657861.7783006201, 657861.7783006201, 657861.7783006201, 657861.7783006201, 657861.7783006201, 657861.7783006201, 657861.7783006201, 657861.7783006201, 657861.7783006201, 657861.7783006201, 657861.7783006201, 657861.7783006201, 657861.7783006201, 657861.7783006201, 657861.7783006201, 657861.7783006201, 657861.7783006201, 657861.7783006201, 657861.7783006201, 657861.7783006201, 657861.7783006201, 657861.7783006201, 657861.7783006201, 657861.7783006201, 657861.7783006201, 657861.7783006201, 657861.7783006201, 657861.7783006201, 657861.7783006201, 657861.7783006201, 657861.7783006201, 657861.7783006201, 657861.7783006201, 657861.7783006201, 657861.7783006201, 657861.7783006201, 657861.7783006201, 657861.7783006201, 657861.7783006201, 657861.7783006201, 657861.7783006201, 657861.7783006201, 657861.7783006201, 657861.7783006201, 657861.7783006201, 657861.7783006201, 657861.7783006201, 657861.7783006201, 657861.7783006201, 657861.7783006201, 657861.7783006201, 657861.7783006201, 657861.7783006201, 657861.7783006201, 657861.7783006201, 657861.7783006201, 657861.7783006201, 657861.7783006201, 657861.7783006201, 657861.7783006201, 657861.7783006201, 657861.7783006201, 657861.7783006201, 657861.7783006201, 657861.7783006201, 657861.7783006201, 657861.7783006201, 657861.7783006201, 657861.7783006201, 657861.7783006201, 657861.7783006201, 657861.7783006201, 657861.7783006201, 657861.7783006201, 657861.7783006201, 657861.7783006201, 657861.7783006201, 657861.7783006201, 657861.7783006201, 657861.7783006201, 657861.7783006201, 657861.7783006201, 657861.7783006201, 657861.7783006201, 657861.7783006201, 657861.7783006201, 657861.7783006201, 657861.7783006201, 657861.7783006201, 657861.7783006201, 657861.7783006201, 657861.7783006201, 657861.7783006201, 657861.7783006201, 657861.7783006201, 657861.7783006201, 657861.7783006201, 657861.7783006201, 657861.7783006201, 657861.7783006201, 657861.7783006201, 657861.7783006201, 657861.7783006201, 657861.7783006201, 657861.7783006201, 657861.7783006201, 657861.7783006201, 657861.7783006201, 657861.7783006201, 657861.7783006201, 657861.7783006201, 657861.7783006201, 657861.7783006201, 657861.7783006201, 657861.7783006201, 657861.7783006201, 657861.7783006201, 657861.7783006201, 657861.7783006201, 657861.7783006201, 657861.7783006201, 657861.7783006201, 657861.7783006201, 657861.7783006201, 657861.7783006201, 657861.7783006201, 657861.7783006201, 657861.7783006201, 657861.7783006201, 657861.7783006201, 657861.7783006201, 657861.7783006201, 657861.7783006201, 657861.7783006201, 657861.7783006201, 657861.7783006201, 657861.7783006201, 657861.7783006201, 657861.7783006201, 657861.7783006201, 657861.7783006201, 657861.7783006201, 657861.7783006201, 657861.7783006201, 657861.7783006201, 657861.7783006201, 657861.7783006201, 657861.7783006201, 657861.7783006201, 657861.7783006201, 657861.7783006201, 657861.7783006201, 657861.7783006201, 657861.7783006201, 657861.7783006201, 657861.7783006201, 657861.7783006201, 657861.7783006201, 657861.7783006201, 657861.7783006201, 657861.7783006201, 657861.7783006201, 657861.7783006201, 657861.7783006201, 657861.7783006201, 657861.7783006201, 657861.7783006201, 657861.7783006201, 657861.7783006201, 657861.7783006201, 657861.7783006201, 657861.7783006201, 657861.7783006201, 657861.7783006201, 657861.7783006201, 657861.7783006201, 657861.7783006201, 657861.7783006201, 657861.7783006201, 657861.7783006201, 657861.7783006201, 657861.7783006201, 657861.7783006201, 657861.7783006201, 657861.7783006201, 657861.7783006201, 657861.7783006201, 657861.7783006201, 657861.7783006201, 657861.7783006201, 657861.7783006201, 657861.7783006201, 657861.7783006201, 657861.7783006201, 657861.7783006201, 657861.7783006201, 657861.7783006201, 657861.7783006201, 657861.7783006201, 657861.7783006201, 662610.8363670465, 663138.5094855384, 663402.3460447843, 663402.3460447843, 663402.3460447843, 671581.2793814075, 704033.1761686546, 704033.1761686546, 704033.1761686546, 705352.3589648841, 705352.3589648841, 706143.8686426218, 714322.801979245, 714322.801979245, 714322.801979245, 714322.801979245, 714322.801979245, 714322.801979245, 714322.801979245, 714322.801979245, 714322.801979245, 714322.801979245, 714322.801979245, 714322.801979245, 714322.801979245, 714322.801979245, 714322.801979245, 728306.1396192784, 736485.0729559016, 736485.0729559016, 736485.0729559016, 736485.0729559016, 736485.0729559016, 739651.1116668525, 739651.1116668525, 739651.1116668525, 739651.1116668525, 739651.1116668525, 739651.1116668525, 739651.1116668525, 739651.1116668525, 739651.1116668525, 739651.1116668525, 739651.1116668525, 739651.1116668525, 739651.1116668525, 739651.1116668525, 739651.1116668525, 739651.1116668525, 739651.1116668525, 739651.1116668525, 740970.2944630821, 740970.2944630821, 740970.2944630821, 740970.2944630821, 740970.2944630821, 740970.2944630821, 740970.2944630821, 740970.2944630821, 740970.2944630821, 740970.2944630821, 740970.2944630821, 740970.2944630821, 740970.2944630821, 740970.2944630821, 740970.2944630821, 740970.2944630821, 740970.2944630821, 740970.2944630821, 740970.2944630821, 740970.2944630821, 740970.2944630821, 740970.2944630821, 740970.2944630821, 740970.2944630821, 740970.2944630821, 740970.2944630821, 740970.2944630821, 740970.2944630821, 740970.2944630821, 740970.2944630821, 740970.2944630821, 740970.2944630821, 740970.2944630821, 740970.2944630821, 740970.2944630821, 740970.2944630821, 740970.2944630821, 740970.2944630821, 740970.2944630821, 740970.2944630821, 740970.2944630821, 740970.2944630821, 740970.2944630821, 740970.2944630821, 740970.2944630821, 740970.2944630821, 740970.2944630821, 740970.2944630821, 740970.2944630821, 740970.2944630821, 740970.2944630821, 740970.2944630821, 740970.2944630821, 740970.2944630821, 740970.2944630821, 740970.2944630821, 740970.2944630821, 740970.2944630821, 740970.2944630821, 740970.2944630821, 740970.2944630821, 740970.2944630821, 740970.2944630821, 740970.2944630821, 740970.2944630821, 740970.2944630821, 740970.2944630821, 740970.2944630821, 740970.2944630821, 740970.2944630821, 740970.2944630821, 740970.2944630821, 740970.2944630821, 740970.2944630821, 740970.2944630821, 740970.2944630821, 740970.2944630821, 740970.2944630821, 740970.2944630821, 740970.2944630821, 740970.2944630821, 740970.2944630821, 740970.2944630821, 740970.2944630821, 740970.2944630821, 740970.2944630821, 740970.2944630821, 740970.2944630821, 740970.2944630821, 740970.2944630821, 740970.2944630821, 740970.2944630821, 740970.2944630821, 740970.2944630821, 740970.2944630821, 740970.2944630821, 740970.2944630821, 740970.2944630821, 740970.2944630821, 740970.2944630821, 740970.2944630821, 740970.2944630821, 740970.2944630821, 740970.2944630821, 740970.2944630821, 740970.2944630821, 740970.2944630821, 740970.2944630821, 740970.2944630821, 740970.2944630821, 740970.2944630821, 740970.2944630821, 740970.2944630821, 740970.2944630821, 740970.2944630821, 740970.2944630821, 740970.2944630821, 740970.2944630821, 740970.2944630821, 740970.2944630821, 740970.2944630821, 740970.2944630821, 740970.2944630821, 740970.2944630821, 740970.2944630821, 740970.2944630821, 740970.2944630821, 740970.2944630821, 740970.2944630821, 740970.2944630821, 740970.2944630821, 740970.2944630821, 740970.2944630821, 740970.2944630821, 740970.2944630821, 740970.2944630821, 740970.2944630821, 740970.2944630821, 740970.2944630821, 740970.2944630821, 740970.2944630821, 742025.6407000658, 742025.6407000658, 742025.6407000658, 742025.6407000658, 742025.6407000658, 742025.6407000658, 742025.6407000658, 742025.6407000658, 742025.6407000658, 742025.6407000658, 742025.6407000658, 742025.6407000658, 742025.6407000658, 742025.6407000658, 742025.6407000658, 742025.6407000658, 742025.6407000658, 742025.6407000658, 742025.6407000658, 742025.6407000658, 742025.6407000658, 742025.6407000658, 742025.6407000658, 742025.6407000658, 742025.6407000658, 742025.6407000658, 742025.6407000658, 742025.6407000658, 742025.6407000658, 742025.6407000658, 742025.6407000658, 742025.6407000658, 742025.6407000658, 742025.6407000658, 742025.6407000658, 742289.4772593116, 742289.4772593116, 742289.4772593116, 742289.4772593116, 742289.4772593116, 742289.4772593116, 742289.4772593116, 742289.4772593116, 742289.4772593116, 742289.4772593116, 742289.4772593116, 742289.4772593116, 742289.4772593116, 742289.4772593116, 742289.4772593116, 742289.4772593116, 742289.4772593116, 742289.4772593116, 742289.4772593116, 742289.4772593116, 742289.4772593116, 742289.4772593116, 742289.4772593116, 742289.4772593116, 742289.4772593116, 742289.4772593116, 748621.5546812135, 748621.5546812135, 748621.5546812135, 748621.5546812135, 748621.5546812135, 748621.5546812135, 748621.5546812135, 748621.5546812135, 748621.5546812135, 748621.5546812135, 748621.5546812135, 748621.5546812135, 748621.5546812135, 748621.5546812135, 748621.5546812135, 748621.5546812135, 748621.5546812135, 748621.5546812135, 748621.5546812135, 748621.5546812135, 748621.5546812135, 748621.5546812135, 748621.5546812135, 748621.5546812135, 748621.5546812135, 748621.5546812135, 748621.5546812135, 748621.5546812135, 748621.5546812135, 748621.5546812135, 748621.5546812135, 748621.5546812135, 748621.5546812135, 748621.5546812135, 748621.5546812135, 748621.5546812135, 748621.5546812135, 748621.5546812135, 748621.5546812135, 748621.5546812135, 748621.5546812135, 748621.5546812135, 748621.5546812135, 748621.5546812135, 748621.5546812135, 748621.5546812135, 748621.5546812135, 748621.5546812135, 748621.5546812135, 748621.5546812135, 748621.5546812135, 748621.5546812135, 748621.5546812135, 748621.5546812135, 748621.5546812135, 748621.5546812135, 748621.5546812135, 748621.5546812135, 748621.5546812135, 748621.5546812135, 748621.5546812135, 748621.5546812135, 748621.5546812135, 748621.5546812135, 748621.5546812135, 748621.5546812135, 748621.5546812135, 748621.5546812135, 748621.5546812135, 748621.5546812135, 748621.5546812135, 748621.5546812135, 748621.5546812135, 748621.5546812135, 748621.5546812135, 748621.5546812135, 748621.5546812135, 748621.5546812135, 748621.5546812135, 748621.5546812135, 748621.5546812135, 748621.5546812135, 748621.5546812135, 748621.5546812135, 748621.5546812135, 748621.5546812135, 748621.5546812135, 748621.5546812135, 748621.5546812135, 748621.5546812135, 748621.5546812135, 748621.5546812135, 748621.5546812135, 748621.5546812135, 748621.5546812135, 748621.5546812135, 748621.5546812135, 748621.5546812135, 748621.5546812135, 748621.5546812135, 748621.5546812135, 748621.5546812135, 748621.5546812135, 748621.5546812135, 748621.5546812135, 748621.5546812135, 748621.5546812135, 748621.5546812135, 748621.5546812135, 748621.5546812135, 748621.5546812135, 748621.5546812135, 748621.5546812135, 748621.5546812135, 748621.5546812135, 748621.5546812135, 748621.5546812135, 748621.5546812135, 748621.5546812135, 748621.5546812135, 748621.5546812135, 748621.5546812135, 748621.5546812135, 748621.5546812135, 748621.5546812135, 748621.5546812135, 748621.5546812135, 748621.5546812135, 748621.5546812135, 748621.5546812135, 748621.5546812135, 748621.5546812135, 748621.5546812135, 748621.5546812135, 748621.5546812135, 748621.5546812135, 748621.5546812135, 748621.5546812135, 748621.5546812135, 748621.5546812135, 748621.5546812135, 748621.5546812135, 748621.5546812135, 748621.5546812135, 748621.5546812135, 748621.5546812135, 748621.5546812135, 748621.5546812135, 767881.623506165, 771311.4987763618, 771311.4987763618, 771311.4987763618, 771311.4987763618, 771311.4987763618, 771311.4987763618, 771311.4987763618, 771311.4987763618, 771311.4987763618, 771311.4987763618, 771311.4987763618, 771311.4987763618, 771311.4987763618, 771311.4987763618, 782128.7977054442, 794265.2794307561, 809831.6364262649, 809831.6364262649, 809831.6364262649, 830938.5611659377, 862862.784834693, 862862.784834693, 862862.784834693, 862862.784834693, 862862.784834693, 862862.784834693, 862862.784834693, 862862.784834693, 862862.784834693, 862862.784834693, 862862.784834693, 862862.784834693, 862862.784834693, 862862.784834693, 862862.784834693, 869722.5353750866, 869722.5353750866, 869722.5353750866, 869722.5353750866, 869722.5353750866, 869722.5353750866, 869722.5353750866, 869722.5353750866, 869722.5353750866, 869722.5353750866, 869722.5353750866, 869722.5353750866, 869722.5353750866, 869722.5353750866, 869722.5353750866], \"yaxis\": \"y\"}, {\"hoverlabel\": {\"namelength\": 0}, \"hovertemplate\": \"transmission=Automatic<br>engine=%{x}<br>selling_price=%{y}\", \"legendgroup\": \"transmission=Automatic\", \"marker\": {\"color\": \"#FF7F0E\", \"symbol\": \"circle\"}, \"mode\": \"markers\", \"name\": \"transmission=Automatic\", \"showlegend\": true, \"type\": \"scattergl\", \"x\": [2982.0, 1969.0, 2993.0, 1999.0, 2993.0, 1197.0, 2982.0, 1995.0, 1995.0, 1197.0, 1598.0, 1995.0, 2494.0, 2993.0, 1794.0, 1197.0, 1598.0, 1995.0, 1999.0, 1197.0, 1197.0, 1799.0, 2967.0, 1199.0, 1197.0, 1984.0, 1582.0, 1995.0, 998.0, 1498.0, 1197.0, 1498.0, 1999.0, 1493.0, 1493.0, 1199.0, 1995.0, 2179.0, 3498.0, 1999.0, 1798.0, 2354.0, 1198.0, 1499.0, 2999.0, 1197.0, 1061.0, 2987.0, 2143.0, 2179.0, 2755.0, 1999.0, 1497.0, 1968.0, 1995.0, 998.0, 999.0, 2755.0, 1197.0, 1998.0, 1999.0, 1197.0, 1999.0, 1498.0, 1995.0, 2987.0, 1968.0, 1999.0, 2143.0, 2755.0, 2696.0, 2199.0, 2494.0, 1086.0, 1498.0, 1999.0, 1995.0, 1984.0, 1999.0, 2494.0, 1999.0, 1197.0, 2494.0, 1493.0, 1493.0, 2143.0, 1199.0, 1197.0, 1968.0, 2999.0, 1968.0, 2987.0, 1984.0, 2198.0, 1998.0, 1197.0, 624.0, 2755.0, 2143.0, 1998.0, 2755.0, 1999.0, 2494.0, 2487.0, 1995.0, 2982.0, 1999.0, 1497.0, 1999.0, 2993.0, 998.0, 1582.0, 1995.0, 1984.0, 1999.0, 1969.0, 1497.0, 3198.0, 2179.0, 2487.0, 1197.0, 1197.0, 1197.0, 2143.0, 2179.0, 1995.0, 1984.0, 1498.0, 2487.0, 1995.0, 1197.0, 1248.0, 1591.0, 1197.0, 1199.0, 1197.0, 1197.0, 2487.0, 1498.0, 1197.0, 1497.0, 1984.0, 998.0, 1598.0, 1984.0, 1968.0, 2755.0, 1995.0, 1197.0, 1995.0, 1199.0, 1794.0, 1995.0, 1598.0, 1197.0, 1199.0, 1798.0, 2487.0, 1497.0, 2987.0, 1197.0, 2982.0, 1199.0, 999.0, 1582.0, 1984.0, 2487.0, 1493.0, 998.0, 1591.0, 1969.0, 1781.0, 1999.0, 998.0, 1997.0, 1197.0, 3198.0, 1995.0, 2494.0, 998.0, 1197.0, 1968.0, 1199.0, 1451.0, 1999.0, 1995.0, 1197.0, 1969.0, 1199.0, 1995.0, 2953.0, 998.0, 1197.0, 1995.0, 2494.0, 1969.0, 3198.0, 2179.0, 1197.0, 1995.0, 998.0, 1991.0, 1197.0, 1086.0, 2494.0, 1995.0, 1199.0, 2359.0, 1199.0, 2143.0, 1794.0, 1995.0, 1493.0, 1498.0, 3604.0, 1197.0, 1999.0, 1462.0, 1969.0, 2487.0, 1598.0, 1984.0, 1248.0, 2143.0, 1497.0, 1995.0, 1197.0, 1197.0, 1969.0, 2993.0, 1582.0, 1598.0, 998.0, 1248.0, 1197.0, 2494.0, 1493.0, 1197.0, 1373.0, 1582.0, 2982.0, 2143.0, 1498.0, 1197.0, 1595.0, 1995.0, 1197.0, 1799.0, 2755.0, 2487.0, 1368.0, 2494.0, 2179.0, 1582.0, 1969.0, 1969.0, 2755.0, 1493.0, 1995.0, 2487.0, 2987.0, 1995.0, 2494.0, 1968.0, 1461.0, 2494.0, 998.0, 1984.0, 2755.0, 1464.471404109589, 1197.0, 2354.0, 2179.0, 2354.0, 1995.0, 1995.0, 1248.0, 1995.0, 1497.0, 1197.0, 1197.0, 2982.0, 2953.0, 998.0, 1995.0, 1798.0, 1995.0, 1598.0, 1969.0, 1968.0, 1199.0, 2982.0, 1497.0, 1968.0, 1197.0, 1197.0, 2494.0, 1498.0, 1498.0, 1248.0, 2993.0, 999.0, 1197.0, 1197.0, 1199.0, 2487.0, 1991.0, 1968.0, 2696.0, 998.0, 1199.0, 1197.0, 1197.0, 1497.0, 1598.0, 2755.0, 1498.0, 1199.0, 2393.0, 1995.0, 1197.0, 1968.0, 998.0, 1197.0, 1591.0, 1248.0, 1197.0, 2143.0, 998.0, 1999.0, 2997.0, 2179.0, 1197.0, 1199.0, 1199.0, 1999.0, 1582.0, 1999.0, 1598.0, 2993.0, 2987.0, 1598.0, 2494.0, 1199.0, 1798.0, 1197.0, 1969.0, 2179.0, 1298.0, 1999.0, 1199.0, 1995.0, 2143.0, 1999.0, 1197.0, 2179.0, 1968.0, 1197.0, 1591.0, 2179.0, 3198.0, 1499.0, 1999.0, 2696.0, 1199.0, 2967.0, 1999.0, 2487.0, 2143.0, 2494.0, 1197.0, 1984.0, 1968.0, 2987.0, 2487.0, 1498.0, 1199.0, 2179.0, 2143.0, 1197.0, 1968.0, 2487.0, 1997.0, 2354.0, 1061.0, 1586.0, 2354.0, 2953.0, 1199.0, 1197.0, 1995.0, 998.0, 998.0, 2487.0, 1991.0, 2987.0, 1999.0, 3198.0, 1598.0, 1995.0, 1598.0, 998.0, 1197.0, 2487.0, 1995.0, 1199.0, 1198.0, 1197.0, 1199.0, 1999.0, 2179.0, 1995.0, 1995.0, 1199.0, 1197.0, 1248.0, 1999.0, 1995.0, 1197.0, 1995.0, 1197.0, 1798.0, 1995.0, 1968.0, 1461.0, 1197.0, 1582.0, 1995.0, 1498.0, 1969.0, 2487.0, 1968.0, 1998.0, 2179.0, 1995.0, 2179.0, 1598.0, 1984.0, 2755.0, 2967.0, 2179.0, 1199.0, 1498.0, 1968.0, 1582.0, 1984.0, 1498.0, 1999.0, 1197.0, 2198.0, 1968.0, 1995.0, 1995.0, 1199.0, 1984.0, 1197.0, 1197.0, 2696.0, 1995.0, 1999.0, 2487.0, 2148.0, 1197.0, 1995.0, 1995.0, 1969.0, 2497.0, 998.0, 1999.0, 1197.0, 1968.0, 998.0, 1984.0, 2494.0, 1582.0, 1591.0, 2494.0, 1998.0, 2179.0, 1995.0, 2179.0, 2755.0, 1999.0, 2362.0, 2967.0, 1984.0, 1197.0, 1339.0, 1197.0, 998.0, 1598.0, 2694.0, 1995.0, 1999.0, 2999.0, 1497.0, 2755.0, 1197.0, 1999.0, 1197.0, 1197.0, 1995.0, 1995.0, 1248.0, 1968.0, 2993.0, 2143.0, 1794.0, 1995.0, 1197.0, 1498.0, 1497.0, 2497.0, 1497.0, 999.0, 1199.0, 1798.0, 1498.0, 2354.0, 2993.0, 1248.0, 1197.0, 1368.0, 2179.0, 1197.0, 1199.0, 1991.0, 1997.0, 1999.0, 1999.0, 2755.0, 1199.0, 1197.0, 1199.0, 1995.0, 1197.0, 1995.0, 998.0, 1591.0, 1968.0, 1199.0, 2494.0, 2494.0, 1598.0, 1493.0, 1999.0, 1598.0, 1969.0, 1497.0, 1197.0, 998.0, 1368.0, 2487.0, 1598.0, 2755.0, 1582.0, 1984.0, 2755.0, 796.0, 2143.0, 1197.0, 2487.0, 1999.0, 2179.0, 1968.0, 1462.0, 2143.0, 2755.0, 1464.471404109589, 1461.0, 1464.471404109589, 1968.0, 998.0, 1197.0, 1998.0, 2993.0, 1995.0, 2179.0, 1197.0, 1968.0, 1497.0, 1198.0, 2487.0, 1991.0, 1969.0, 1197.0, 1248.0, 1197.0, 1197.0, 2199.0, 1598.0, 2179.0, 2494.0, 1199.0, 1995.0, 1995.0, 1248.0, 1598.0, 1796.0, 2143.0, 1199.0, 1197.0, 1999.0, 2997.0, 1248.0, 1461.0, 2487.0, 1969.0, 1995.0, 1197.0, 1995.0, 624.0, 1995.0, 1999.0, 1969.0, 1969.0, 1984.0, 1582.0, 1598.0, 1795.0, 1991.0, 1999.0, 2487.0, 1969.0, 1999.0, 1968.0, 2179.0, 1496.0, 2494.0, 2179.0, 2755.0, 1248.0, 1197.0, 1197.0, 1999.0, 2487.0, 1498.0, 1984.0, 1799.0, 1984.0, 2487.0, 1984.0, 2143.0, 1798.0, 1499.0, 1197.0, 1995.0, 1248.0, 1197.0, 3604.0, 2354.0, 1197.0, 1197.0, 1582.0, 2143.0, 1197.0, 2993.0, 1984.0, 1999.0, 2179.0, 1197.0, 1798.0, 1199.0, 2967.0, 2967.0, 1598.0, 1197.0, 624.0, 1999.0, 998.0, 1197.0, 1498.0, 1199.0, 1368.0, 1197.0, 2755.0, 1998.0, 2987.0, 1995.0, 2494.0, 1197.0, 1498.0, 1999.0, 1794.0, 2179.0, 1248.0, 1796.0, 1197.0, 1969.0, 1197.0, 999.0, 1995.0, 2487.0, 2987.0, 2487.0, 1197.0, 1984.0, 1198.0, 1968.0, 2494.0, 1197.0, 1248.0, 1197.0, 2143.0, 1248.0, 1995.0, 1198.0, 2982.0, 2487.0, 1197.0, 1969.0, 1969.0, 1999.0, 1969.0, 1199.0, 1493.0, 1197.0, 1197.0, 1368.0, 999.0, 1497.0, 1248.0, 1582.0, 1999.0, 1984.0, 1464.471404109589, 1197.0, 1586.0, 1498.0, 3604.0, 1969.0, 1969.0, 1497.0, 1999.0, 1598.0, 1197.0, 1798.0, 2494.0, 1197.0, 2967.0, 1984.0, 1197.0, 1998.0, 1197.0, 1598.0, 1598.0, 2755.0, 2755.0, 1999.0, 1999.0, 1968.0, 1995.0, 1197.0, 1999.0, 1995.0, 2179.0, 1995.0, 2982.0, 1999.0, 1798.0, 2143.0, 1497.0, 1248.0, 1197.0, 2497.0, 1998.0, 1197.0, 1493.0, 1586.0, 2694.0, 1197.0, 1197.0], \"xaxis\": \"x\", \"y\": [1500000, 3800000, 750000, 3200000, 6000000, 453000, 3500000, 3790000, 5500000, 290000, 645000, 5400000, 2000000, 6000000, 1450000, 600000, 645000, 1300000, 3200000, 750000, 600000, 350000, 1850000, 779000, 585000, 2475000, 549000, 5400000, 430000, 1000000, 625000, 650000, 2711000, 750000, 1900000, 575000, 2150000, 2450000, 1000000, 2625000, 1600000, 750000, 560000, 625000, 2700000, 600000, 80000, 6000000, 4600000, 1445000, 1850000, 2711000, 750000, 2450000, 480000, 350000, 535000, 1465000, 445000, 750000, 3200000, 196000, 3200000, 1290000, 1000000, 3600000, 850000, 3200000, 1850000, 3100000, 850000, 900000, 2000000, 466000, 885000, 2711000, 5500000, 2475000, 2625000, 2000000, 3200000, 800000, 2000000, 110000, 650000, 1400000, 575000, 550000, 2600000, 2700000, 3251000, 6000000, 2475000, 2100000, 2500000, 600000, 220000, 3100000, 2700000, 1075000, 1825000, 3200000, 2000000, 5150000, 5400000, 1750000, 2711000, 795000, 2711000, 2000000, 1125000, 1000000, 5500000, 2475000, 2625000, 3800000, 875000, 3250000, 1650000, 5150000, 650000, 600000, 600000, 2600000, 625000, 3790000, 2475000, 650000, 5150000, 5400000, 258000, 730000, 1380000, 740000, 550000, 600000, 650000, 5150000, 900000, 540000, 1227000, 2475000, 380000, 645000, 2475000, 2375000, 1800000, 5500000, 890000, 5200000, 750000, 1450000, 5500000, 645000, 475000, 600000, 6523000, 5150000, 1100000, 5850000, 340000, 1225000, 779000, 400000, 1150000, 2475000, 5150000, 620000, 451999, 990000, 3800000, 730000, 2711000, 325000, 125000, 650000, 3200000, 5500000, 2000000, 434999, 570000, 2600000, 645000, 1900000, 4500000, 5500000, 650000, 3800000, 779000, 2150000, 1275000, 509999, 465000, 3200000, 2000000, 3400000, 3250000, 1050000, 695000, 4000000, 448000, 440000, 660000, 565000, 2000000, 1300000, 779000, 168000, 779000, 2199000, 400000, 5400000, 660000, 700000, 4100000, 265000, 3200000, 1025000, 3800000, 5150000, 645000, 2475000, 750000, 2051000, 635000, 5500000, 650000, 650000, 3800000, 5500000, 850000, 675000, 350000, 625000, 800000, 2000000, 245000, 655000, 685000, 910000, 1400000, 4600000, 651000, 550000, 1250000, 2600000, 800000, 175000, 1516000, 5150000, 700000, 2000000, 1500000, 875000, 3800000, 3800000, 3200000, 650000, 5400000, 5150000, 1700000, 5500000, 2000000, 3975000, 850000, 2000000, 400000, 2475000, 1800000, 80000, 775000, 1750000, 1380000, 580000, 1300000, 5400000, 1025000, 5500000, 950000, 575000, 675000, 1900000, 975000, 472000, 2950000, 5923000, 3200000, 645000, 3800000, 585000, 725000, 2750000, 321000, 1600000, 750000, 600000, 2000000, 411000, 400000, 700000, 5830000, 319000, 650000, 730000, 725000, 5150000, 2550000, 3975000, 800000, 450000, 779000, 550000, 600000, 1300000, 645000, 1925000, 900000, 779000, 2300000, 5400000, 531000, 3975000, 475000, 650000, 1350000, 698000, 650000, 1000000, 445000, 3200000, 285000, 600000, 625000, 779000, 779000, 2711000, 1050000, 2625000, 395000, 6000000, 4090000, 645000, 2000000, 779000, 625000, 600000, 3800000, 645000, 125000, 2625000, 525000, 5400000, 515000, 3200000, 490000, 1295000, 550000, 740000, 450000, 450000, 2100000, 416000, 2625000, 800000, 840000, 2650000, 2625000, 5150000, 1600000, 2000000, 465000, 2475000, 2825000, 3250000, 5150000, 860000, 779000, 600000, 2100000, 600000, 2200000, 5150000, 1350000, 400000, 100000, 200000, 1650000, 1075000, 779000, 700000, 5500000, 1125000, 75000, 5150000, 2700000, 6000000, 2711000, 2280000, 645000, 5400000, 645000, 420000, 525000, 5150000, 5500000, 779000, 450000, 685000, 779000, 3200000, 900000, 5400000, 5400000, 779000, 374000, 860000, 3200000, 5500000, 420000, 5500000, 600000, 625000, 3900000, 2000000, 850000, 610000, 1050000, 2950000, 625000, 3800000, 5150000, 1689999, 3350000, 509999, 5500000, 861999, 645000, 2475000, 3200000, 3000000, 1300000, 779000, 660000, 3000000, 1200000, 2475000, 411000, 2711000, 650000, 2400000, 1200000, 5500000, 1000000, 600000, 2475000, 654000, 830000, 1000000, 1950000, 3200000, 5150000, 1600000, 650000, 2850000, 5400000, 3800000, 1200000, 545000, 4500000, 600000, 3975000, 400000, 1200000, 1900000, 500000, 475000, 2000000, 925000, 2000000, 5400000, 1100000, 1525000, 3200000, 450000, 1850000, 1950000, 650000, 250000, 400000, 470000, 250000, 2100000, 5500000, 3200000, 1160000, 950000, 1850000, 745000, 3200000, 380000, 600000, 4000000, 5400000, 875000, 1500000, 2000000, 725000, 550000, 1800000, 600000, 650000, 950000, 1190000, 925000, 275000, 520000, 6223000, 675000, 325000, 2000000, 650000, 575000, 2100000, 1650000, 640000, 779000, 5200000, 975000, 2625000, 3200000, 2950000, 779000, 620000, 779000, 5500000, 894999, 1000000, 350000, 890000, 900000, 779000, 2000000, 2000000, 645000, 1900000, 3200000, 645000, 3800000, 1100000, 550000, 390000, 1450000, 5150000, 645000, 1745000, 509999, 2475000, 1800000, 80000, 2900000, 600000, 5150000, 3200000, 490000, 2900000, 737000, 2700000, 2900000, 250000, 850000, 890000, 2200000, 475000, 465000, 450000, 5830000, 1500000, 365000, 650000, 2800000, 1025000, 325000, 5150000, 5200000, 3800000, 600000, 833000, 650000, 700000, 1200000, 645000, 2450000, 2000000, 750000, 5500000, 1100000, 700000, 395000, 500000, 1850000, 779000, 830000, 3200000, 275000, 851000, 750000, 5150000, 3800000, 5400000, 650000, 5500000, 250000, 1000000, 3200000, 3800000, 3800000, 2475000, 1000000, 645000, 140000, 2700000, 1900000, 5150000, 3800000, 3200000, 1300000, 440000, 1100000, 2000000, 1100000, 1390000, 740000, 675000, 650000, 2711000, 5150000, 1000000, 2475000, 2000000, 2475000, 5150000, 2475000, 3000000, 500000, 550000, 894999, 5400000, 825000, 675000, 4100000, 500000, 650000, 600000, 1100000, 2900000, 272000, 2000000, 2475000, 2711000, 500000, 700000, 1864999, 779000, 1750000, 810000, 645000, 570000, 250000, 3200000, 1150000, 400000, 650000, 779000, 2100000, 600000, 3200000, 3350000, 800000, 1300000, 2000000, 650000, 350000, 2711000, 550000, 850000, 670000, 400000, 600000, 3800000, 650000, 375000, 5500000, 5150000, 1700000, 5150000, 680000, 2475000, 415000, 1350000, 2000000, 800000, 900000, 650000, 1425000, 911999, 5400000, 950000, 1900000, 5150000, 220000, 3800000, 3800000, 3200000, 10000000, 779000, 775000, 650000, 600000, 1450000, 450000, 1140000, 860000, 736000, 4500000, 2475000, 400000, 700000, 350000, 655000, 4100000, 3800000, 3800000, 950000, 2711000, 645000, 600000, 1864999, 2000000, 600000, 1025000, 2475000, 565000, 750000, 500000, 645000, 645000, 2175000, 1650000, 3200000, 4500000, 799000, 900000, 574000, 2711000, 5500000, 800000, 5500000, 2000000, 3200000, 1689999, 1550000, 800000, 790000, 650000, 975000, 1075000, 720000, 1575000, 260000, 1500000, 650000, 650000], \"yaxis\": \"y\"}, {\"alignmentgroup\": \"True\", \"hoverlabel\": {\"namelength\": 0}, \"hovertemplate\": \"transmission=Automatic<br>engine=%{x}\", \"legendgroup\": \"transmission=Automatic\", \"marker\": {\"color\": \"#FF7F0E\", \"symbol\": \"circle\"}, \"name\": \"transmission=Automatic\", \"notched\": true, \"offsetgroup\": \"transmission=Automatic\", \"showlegend\": false, \"type\": \"box\", \"x\": [2982.0, 1969.0, 2993.0, 1999.0, 2993.0, 1197.0, 2982.0, 1995.0, 1995.0, 1197.0, 1598.0, 1995.0, 2494.0, 2993.0, 1794.0, 1197.0, 1598.0, 1995.0, 1999.0, 1197.0, 1197.0, 1799.0, 2967.0, 1199.0, 1197.0, 1984.0, 1582.0, 1995.0, 998.0, 1498.0, 1197.0, 1498.0, 1999.0, 1493.0, 1493.0, 1199.0, 1995.0, 2179.0, 3498.0, 1999.0, 1798.0, 2354.0, 1198.0, 1499.0, 2999.0, 1197.0, 1061.0, 2987.0, 2143.0, 2179.0, 2755.0, 1999.0, 1497.0, 1968.0, 1995.0, 998.0, 999.0, 2755.0, 1197.0, 1998.0, 1999.0, 1197.0, 1999.0, 1498.0, 1995.0, 2987.0, 1968.0, 1999.0, 2143.0, 2755.0, 2696.0, 2199.0, 2494.0, 1086.0, 1498.0, 1999.0, 1995.0, 1984.0, 1999.0, 2494.0, 1999.0, 1197.0, 2494.0, 1493.0, 1493.0, 2143.0, 1199.0, 1197.0, 1968.0, 2999.0, 1968.0, 2987.0, 1984.0, 2198.0, 1998.0, 1197.0, 624.0, 2755.0, 2143.0, 1998.0, 2755.0, 1999.0, 2494.0, 2487.0, 1995.0, 2982.0, 1999.0, 1497.0, 1999.0, 2993.0, 998.0, 1582.0, 1995.0, 1984.0, 1999.0, 1969.0, 1497.0, 3198.0, 2179.0, 2487.0, 1197.0, 1197.0, 1197.0, 2143.0, 2179.0, 1995.0, 1984.0, 1498.0, 2487.0, 1995.0, 1197.0, 1248.0, 1591.0, 1197.0, 1199.0, 1197.0, 1197.0, 2487.0, 1498.0, 1197.0, 1497.0, 1984.0, 998.0, 1598.0, 1984.0, 1968.0, 2755.0, 1995.0, 1197.0, 1995.0, 1199.0, 1794.0, 1995.0, 1598.0, 1197.0, 1199.0, 1798.0, 2487.0, 1497.0, 2987.0, 1197.0, 2982.0, 1199.0, 999.0, 1582.0, 1984.0, 2487.0, 1493.0, 998.0, 1591.0, 1969.0, 1781.0, 1999.0, 998.0, 1997.0, 1197.0, 3198.0, 1995.0, 2494.0, 998.0, 1197.0, 1968.0, 1199.0, 1451.0, 1999.0, 1995.0, 1197.0, 1969.0, 1199.0, 1995.0, 2953.0, 998.0, 1197.0, 1995.0, 2494.0, 1969.0, 3198.0, 2179.0, 1197.0, 1995.0, 998.0, 1991.0, 1197.0, 1086.0, 2494.0, 1995.0, 1199.0, 2359.0, 1199.0, 2143.0, 1794.0, 1995.0, 1493.0, 1498.0, 3604.0, 1197.0, 1999.0, 1462.0, 1969.0, 2487.0, 1598.0, 1984.0, 1248.0, 2143.0, 1497.0, 1995.0, 1197.0, 1197.0, 1969.0, 2993.0, 1582.0, 1598.0, 998.0, 1248.0, 1197.0, 2494.0, 1493.0, 1197.0, 1373.0, 1582.0, 2982.0, 2143.0, 1498.0, 1197.0, 1595.0, 1995.0, 1197.0, 1799.0, 2755.0, 2487.0, 1368.0, 2494.0, 2179.0, 1582.0, 1969.0, 1969.0, 2755.0, 1493.0, 1995.0, 2487.0, 2987.0, 1995.0, 2494.0, 1968.0, 1461.0, 2494.0, 998.0, 1984.0, 2755.0, 1464.471404109589, 1197.0, 2354.0, 2179.0, 2354.0, 1995.0, 1995.0, 1248.0, 1995.0, 1497.0, 1197.0, 1197.0, 2982.0, 2953.0, 998.0, 1995.0, 1798.0, 1995.0, 1598.0, 1969.0, 1968.0, 1199.0, 2982.0, 1497.0, 1968.0, 1197.0, 1197.0, 2494.0, 1498.0, 1498.0, 1248.0, 2993.0, 999.0, 1197.0, 1197.0, 1199.0, 2487.0, 1991.0, 1968.0, 2696.0, 998.0, 1199.0, 1197.0, 1197.0, 1497.0, 1598.0, 2755.0, 1498.0, 1199.0, 2393.0, 1995.0, 1197.0, 1968.0, 998.0, 1197.0, 1591.0, 1248.0, 1197.0, 2143.0, 998.0, 1999.0, 2997.0, 2179.0, 1197.0, 1199.0, 1199.0, 1999.0, 1582.0, 1999.0, 1598.0, 2993.0, 2987.0, 1598.0, 2494.0, 1199.0, 1798.0, 1197.0, 1969.0, 2179.0, 1298.0, 1999.0, 1199.0, 1995.0, 2143.0, 1999.0, 1197.0, 2179.0, 1968.0, 1197.0, 1591.0, 2179.0, 3198.0, 1499.0, 1999.0, 2696.0, 1199.0, 2967.0, 1999.0, 2487.0, 2143.0, 2494.0, 1197.0, 1984.0, 1968.0, 2987.0, 2487.0, 1498.0, 1199.0, 2179.0, 2143.0, 1197.0, 1968.0, 2487.0, 1997.0, 2354.0, 1061.0, 1586.0, 2354.0, 2953.0, 1199.0, 1197.0, 1995.0, 998.0, 998.0, 2487.0, 1991.0, 2987.0, 1999.0, 3198.0, 1598.0, 1995.0, 1598.0, 998.0, 1197.0, 2487.0, 1995.0, 1199.0, 1198.0, 1197.0, 1199.0, 1999.0, 2179.0, 1995.0, 1995.0, 1199.0, 1197.0, 1248.0, 1999.0, 1995.0, 1197.0, 1995.0, 1197.0, 1798.0, 1995.0, 1968.0, 1461.0, 1197.0, 1582.0, 1995.0, 1498.0, 1969.0, 2487.0, 1968.0, 1998.0, 2179.0, 1995.0, 2179.0, 1598.0, 1984.0, 2755.0, 2967.0, 2179.0, 1199.0, 1498.0, 1968.0, 1582.0, 1984.0, 1498.0, 1999.0, 1197.0, 2198.0, 1968.0, 1995.0, 1995.0, 1199.0, 1984.0, 1197.0, 1197.0, 2696.0, 1995.0, 1999.0, 2487.0, 2148.0, 1197.0, 1995.0, 1995.0, 1969.0, 2497.0, 998.0, 1999.0, 1197.0, 1968.0, 998.0, 1984.0, 2494.0, 1582.0, 1591.0, 2494.0, 1998.0, 2179.0, 1995.0, 2179.0, 2755.0, 1999.0, 2362.0, 2967.0, 1984.0, 1197.0, 1339.0, 1197.0, 998.0, 1598.0, 2694.0, 1995.0, 1999.0, 2999.0, 1497.0, 2755.0, 1197.0, 1999.0, 1197.0, 1197.0, 1995.0, 1995.0, 1248.0, 1968.0, 2993.0, 2143.0, 1794.0, 1995.0, 1197.0, 1498.0, 1497.0, 2497.0, 1497.0, 999.0, 1199.0, 1798.0, 1498.0, 2354.0, 2993.0, 1248.0, 1197.0, 1368.0, 2179.0, 1197.0, 1199.0, 1991.0, 1997.0, 1999.0, 1999.0, 2755.0, 1199.0, 1197.0, 1199.0, 1995.0, 1197.0, 1995.0, 998.0, 1591.0, 1968.0, 1199.0, 2494.0, 2494.0, 1598.0, 1493.0, 1999.0, 1598.0, 1969.0, 1497.0, 1197.0, 998.0, 1368.0, 2487.0, 1598.0, 2755.0, 1582.0, 1984.0, 2755.0, 796.0, 2143.0, 1197.0, 2487.0, 1999.0, 2179.0, 1968.0, 1462.0, 2143.0, 2755.0, 1464.471404109589, 1461.0, 1464.471404109589, 1968.0, 998.0, 1197.0, 1998.0, 2993.0, 1995.0, 2179.0, 1197.0, 1968.0, 1497.0, 1198.0, 2487.0, 1991.0, 1969.0, 1197.0, 1248.0, 1197.0, 1197.0, 2199.0, 1598.0, 2179.0, 2494.0, 1199.0, 1995.0, 1995.0, 1248.0, 1598.0, 1796.0, 2143.0, 1199.0, 1197.0, 1999.0, 2997.0, 1248.0, 1461.0, 2487.0, 1969.0, 1995.0, 1197.0, 1995.0, 624.0, 1995.0, 1999.0, 1969.0, 1969.0, 1984.0, 1582.0, 1598.0, 1795.0, 1991.0, 1999.0, 2487.0, 1969.0, 1999.0, 1968.0, 2179.0, 1496.0, 2494.0, 2179.0, 2755.0, 1248.0, 1197.0, 1197.0, 1999.0, 2487.0, 1498.0, 1984.0, 1799.0, 1984.0, 2487.0, 1984.0, 2143.0, 1798.0, 1499.0, 1197.0, 1995.0, 1248.0, 1197.0, 3604.0, 2354.0, 1197.0, 1197.0, 1582.0, 2143.0, 1197.0, 2993.0, 1984.0, 1999.0, 2179.0, 1197.0, 1798.0, 1199.0, 2967.0, 2967.0, 1598.0, 1197.0, 624.0, 1999.0, 998.0, 1197.0, 1498.0, 1199.0, 1368.0, 1197.0, 2755.0, 1998.0, 2987.0, 1995.0, 2494.0, 1197.0, 1498.0, 1999.0, 1794.0, 2179.0, 1248.0, 1796.0, 1197.0, 1969.0, 1197.0, 999.0, 1995.0, 2487.0, 2987.0, 2487.0, 1197.0, 1984.0, 1198.0, 1968.0, 2494.0, 1197.0, 1248.0, 1197.0, 2143.0, 1248.0, 1995.0, 1198.0, 2982.0, 2487.0, 1197.0, 1969.0, 1969.0, 1999.0, 1969.0, 1199.0, 1493.0, 1197.0, 1197.0, 1368.0, 999.0, 1497.0, 1248.0, 1582.0, 1999.0, 1984.0, 1464.471404109589, 1197.0, 1586.0, 1498.0, 3604.0, 1969.0, 1969.0, 1497.0, 1999.0, 1598.0, 1197.0, 1798.0, 2494.0, 1197.0, 2967.0, 1984.0, 1197.0, 1998.0, 1197.0, 1598.0, 1598.0, 2755.0, 2755.0, 1999.0, 1999.0, 1968.0, 1995.0, 1197.0, 1999.0, 1995.0, 2179.0, 1995.0, 2982.0, 1999.0, 1798.0, 2143.0, 1497.0, 1248.0, 1197.0, 2497.0, 1998.0, 1197.0, 1493.0, 1586.0, 2694.0, 1197.0, 1197.0], \"xaxis\": \"x3\", \"yaxis\": \"y3\"}, {\"alignmentgroup\": \"True\", \"hoverlabel\": {\"namelength\": 0}, \"hovertemplate\": \"transmission=Automatic<br>selling_price=%{y}\", \"legendgroup\": \"transmission=Automatic\", \"marker\": {\"color\": \"#FF7F0E\", \"symbol\": \"circle\"}, \"name\": \"transmission=Automatic\", \"offsetgroup\": \"transmission=Automatic\", \"scalegroup\": \"y\", \"showlegend\": false, \"type\": \"violin\", \"xaxis\": \"x2\", \"y\": [1500000, 3800000, 750000, 3200000, 6000000, 453000, 3500000, 3790000, 5500000, 290000, 645000, 5400000, 2000000, 6000000, 1450000, 600000, 645000, 1300000, 3200000, 750000, 600000, 350000, 1850000, 779000, 585000, 2475000, 549000, 5400000, 430000, 1000000, 625000, 650000, 2711000, 750000, 1900000, 575000, 2150000, 2450000, 1000000, 2625000, 1600000, 750000, 560000, 625000, 2700000, 600000, 80000, 6000000, 4600000, 1445000, 1850000, 2711000, 750000, 2450000, 480000, 350000, 535000, 1465000, 445000, 750000, 3200000, 196000, 3200000, 1290000, 1000000, 3600000, 850000, 3200000, 1850000, 3100000, 850000, 900000, 2000000, 466000, 885000, 2711000, 5500000, 2475000, 2625000, 2000000, 3200000, 800000, 2000000, 110000, 650000, 1400000, 575000, 550000, 2600000, 2700000, 3251000, 6000000, 2475000, 2100000, 2500000, 600000, 220000, 3100000, 2700000, 1075000, 1825000, 3200000, 2000000, 5150000, 5400000, 1750000, 2711000, 795000, 2711000, 2000000, 1125000, 1000000, 5500000, 2475000, 2625000, 3800000, 875000, 3250000, 1650000, 5150000, 650000, 600000, 600000, 2600000, 625000, 3790000, 2475000, 650000, 5150000, 5400000, 258000, 730000, 1380000, 740000, 550000, 600000, 650000, 5150000, 900000, 540000, 1227000, 2475000, 380000, 645000, 2475000, 2375000, 1800000, 5500000, 890000, 5200000, 750000, 1450000, 5500000, 645000, 475000, 600000, 6523000, 5150000, 1100000, 5850000, 340000, 1225000, 779000, 400000, 1150000, 2475000, 5150000, 620000, 451999, 990000, 3800000, 730000, 2711000, 325000, 125000, 650000, 3200000, 5500000, 2000000, 434999, 570000, 2600000, 645000, 1900000, 4500000, 5500000, 650000, 3800000, 779000, 2150000, 1275000, 509999, 465000, 3200000, 2000000, 3400000, 3250000, 1050000, 695000, 4000000, 448000, 440000, 660000, 565000, 2000000, 1300000, 779000, 168000, 779000, 2199000, 400000, 5400000, 660000, 700000, 4100000, 265000, 3200000, 1025000, 3800000, 5150000, 645000, 2475000, 750000, 2051000, 635000, 5500000, 650000, 650000, 3800000, 5500000, 850000, 675000, 350000, 625000, 800000, 2000000, 245000, 655000, 685000, 910000, 1400000, 4600000, 651000, 550000, 1250000, 2600000, 800000, 175000, 1516000, 5150000, 700000, 2000000, 1500000, 875000, 3800000, 3800000, 3200000, 650000, 5400000, 5150000, 1700000, 5500000, 2000000, 3975000, 850000, 2000000, 400000, 2475000, 1800000, 80000, 775000, 1750000, 1380000, 580000, 1300000, 5400000, 1025000, 5500000, 950000, 575000, 675000, 1900000, 975000, 472000, 2950000, 5923000, 3200000, 645000, 3800000, 585000, 725000, 2750000, 321000, 1600000, 750000, 600000, 2000000, 411000, 400000, 700000, 5830000, 319000, 650000, 730000, 725000, 5150000, 2550000, 3975000, 800000, 450000, 779000, 550000, 600000, 1300000, 645000, 1925000, 900000, 779000, 2300000, 5400000, 531000, 3975000, 475000, 650000, 1350000, 698000, 650000, 1000000, 445000, 3200000, 285000, 600000, 625000, 779000, 779000, 2711000, 1050000, 2625000, 395000, 6000000, 4090000, 645000, 2000000, 779000, 625000, 600000, 3800000, 645000, 125000, 2625000, 525000, 5400000, 515000, 3200000, 490000, 1295000, 550000, 740000, 450000, 450000, 2100000, 416000, 2625000, 800000, 840000, 2650000, 2625000, 5150000, 1600000, 2000000, 465000, 2475000, 2825000, 3250000, 5150000, 860000, 779000, 600000, 2100000, 600000, 2200000, 5150000, 1350000, 400000, 100000, 200000, 1650000, 1075000, 779000, 700000, 5500000, 1125000, 75000, 5150000, 2700000, 6000000, 2711000, 2280000, 645000, 5400000, 645000, 420000, 525000, 5150000, 5500000, 779000, 450000, 685000, 779000, 3200000, 900000, 5400000, 5400000, 779000, 374000, 860000, 3200000, 5500000, 420000, 5500000, 600000, 625000, 3900000, 2000000, 850000, 610000, 1050000, 2950000, 625000, 3800000, 5150000, 1689999, 3350000, 509999, 5500000, 861999, 645000, 2475000, 3200000, 3000000, 1300000, 779000, 660000, 3000000, 1200000, 2475000, 411000, 2711000, 650000, 2400000, 1200000, 5500000, 1000000, 600000, 2475000, 654000, 830000, 1000000, 1950000, 3200000, 5150000, 1600000, 650000, 2850000, 5400000, 3800000, 1200000, 545000, 4500000, 600000, 3975000, 400000, 1200000, 1900000, 500000, 475000, 2000000, 925000, 2000000, 5400000, 1100000, 1525000, 3200000, 450000, 1850000, 1950000, 650000, 250000, 400000, 470000, 250000, 2100000, 5500000, 3200000, 1160000, 950000, 1850000, 745000, 3200000, 380000, 600000, 4000000, 5400000, 875000, 1500000, 2000000, 725000, 550000, 1800000, 600000, 650000, 950000, 1190000, 925000, 275000, 520000, 6223000, 675000, 325000, 2000000, 650000, 575000, 2100000, 1650000, 640000, 779000, 5200000, 975000, 2625000, 3200000, 2950000, 779000, 620000, 779000, 5500000, 894999, 1000000, 350000, 890000, 900000, 779000, 2000000, 2000000, 645000, 1900000, 3200000, 645000, 3800000, 1100000, 550000, 390000, 1450000, 5150000, 645000, 1745000, 509999, 2475000, 1800000, 80000, 2900000, 600000, 5150000, 3200000, 490000, 2900000, 737000, 2700000, 2900000, 250000, 850000, 890000, 2200000, 475000, 465000, 450000, 5830000, 1500000, 365000, 650000, 2800000, 1025000, 325000, 5150000, 5200000, 3800000, 600000, 833000, 650000, 700000, 1200000, 645000, 2450000, 2000000, 750000, 5500000, 1100000, 700000, 395000, 500000, 1850000, 779000, 830000, 3200000, 275000, 851000, 750000, 5150000, 3800000, 5400000, 650000, 5500000, 250000, 1000000, 3200000, 3800000, 3800000, 2475000, 1000000, 645000, 140000, 2700000, 1900000, 5150000, 3800000, 3200000, 1300000, 440000, 1100000, 2000000, 1100000, 1390000, 740000, 675000, 650000, 2711000, 5150000, 1000000, 2475000, 2000000, 2475000, 5150000, 2475000, 3000000, 500000, 550000, 894999, 5400000, 825000, 675000, 4100000, 500000, 650000, 600000, 1100000, 2900000, 272000, 2000000, 2475000, 2711000, 500000, 700000, 1864999, 779000, 1750000, 810000, 645000, 570000, 250000, 3200000, 1150000, 400000, 650000, 779000, 2100000, 600000, 3200000, 3350000, 800000, 1300000, 2000000, 650000, 350000, 2711000, 550000, 850000, 670000, 400000, 600000, 3800000, 650000, 375000, 5500000, 5150000, 1700000, 5150000, 680000, 2475000, 415000, 1350000, 2000000, 800000, 900000, 650000, 1425000, 911999, 5400000, 950000, 1900000, 5150000, 220000, 3800000, 3800000, 3200000, 10000000, 779000, 775000, 650000, 600000, 1450000, 450000, 1140000, 860000, 736000, 4500000, 2475000, 400000, 700000, 350000, 655000, 4100000, 3800000, 3800000, 950000, 2711000, 645000, 600000, 1864999, 2000000, 600000, 1025000, 2475000, 565000, 750000, 500000, 645000, 645000, 2175000, 1650000, 3200000, 4500000, 799000, 900000, 574000, 2711000, 5500000, 800000, 5500000, 2000000, 3200000, 1689999, 1550000, 800000, 790000, 650000, 975000, 1075000, 720000, 1575000, 260000, 1500000, 650000, 650000], \"yaxis\": \"y2\"}, {\"hoverlabel\": {\"namelength\": 0}, \"hovertemplate\": \"<b>OLS trendline</b><br>selling_price = 1524.777129 * engine + -909139.217760<br>R<sup>2</sup>=0.282439<br><br>transmission=Automatic<br>engine=%{x}<br>selling_price=%{y} <b>(trend)</b>\", \"legendgroup\": \"transmission=Automatic\", \"marker\": {\"color\": \"#FF7F0E\", \"symbol\": \"circle\"}, \"mode\": \"lines\", \"name\": \"transmission=Automatic\", \"showlegend\": false, \"type\": \"scattergl\", \"x\": [624.0, 624.0, 624.0, 796.0, 998.0, 998.0, 998.0, 998.0, 998.0, 998.0, 998.0, 998.0, 998.0, 998.0, 998.0, 998.0, 998.0, 998.0, 998.0, 998.0, 998.0, 998.0, 998.0, 998.0, 998.0, 998.0, 998.0, 998.0, 998.0, 999.0, 999.0, 999.0, 999.0, 999.0, 999.0, 1061.0, 1061.0, 1086.0, 1086.0, 1197.0, 1197.0, 1197.0, 1197.0, 1197.0, 1197.0, 1197.0, 1197.0, 1197.0, 1197.0, 1197.0, 1197.0, 1197.0, 1197.0, 1197.0, 1197.0, 1197.0, 1197.0, 1197.0, 1197.0, 1197.0, 1197.0, 1197.0, 1197.0, 1197.0, 1197.0, 1197.0, 1197.0, 1197.0, 1197.0, 1197.0, 1197.0, 1197.0, 1197.0, 1197.0, 1197.0, 1197.0, 1197.0, 1197.0, 1197.0, 1197.0, 1197.0, 1197.0, 1197.0, 1197.0, 1197.0, 1197.0, 1197.0, 1197.0, 1197.0, 1197.0, 1197.0, 1197.0, 1197.0, 1197.0, 1197.0, 1197.0, 1197.0, 1197.0, 1197.0, 1197.0, 1197.0, 1197.0, 1197.0, 1197.0, 1197.0, 1197.0, 1197.0, 1197.0, 1197.0, 1197.0, 1197.0, 1197.0, 1197.0, 1197.0, 1197.0, 1197.0, 1197.0, 1197.0, 1197.0, 1197.0, 1197.0, 1197.0, 1197.0, 1197.0, 1197.0, 1197.0, 1197.0, 1197.0, 1197.0, 1197.0, 1197.0, 1197.0, 1197.0, 1197.0, 1197.0, 1197.0, 1197.0, 1197.0, 1197.0, 1197.0, 1197.0, 1197.0, 1197.0, 1197.0, 1197.0, 1197.0, 1197.0, 1197.0, 1197.0, 1197.0, 1197.0, 1197.0, 1197.0, 1197.0, 1197.0, 1198.0, 1198.0, 1198.0, 1198.0, 1198.0, 1199.0, 1199.0, 1199.0, 1199.0, 1199.0, 1199.0, 1199.0, 1199.0, 1199.0, 1199.0, 1199.0, 1199.0, 1199.0, 1199.0, 1199.0, 1199.0, 1199.0, 1199.0, 1199.0, 1199.0, 1199.0, 1199.0, 1199.0, 1199.0, 1199.0, 1199.0, 1199.0, 1199.0, 1199.0, 1199.0, 1199.0, 1199.0, 1199.0, 1199.0, 1199.0, 1199.0, 1199.0, 1248.0, 1248.0, 1248.0, 1248.0, 1248.0, 1248.0, 1248.0, 1248.0, 1248.0, 1248.0, 1248.0, 1248.0, 1248.0, 1248.0, 1248.0, 1248.0, 1248.0, 1248.0, 1248.0, 1298.0, 1339.0, 1368.0, 1368.0, 1368.0, 1368.0, 1368.0, 1373.0, 1451.0, 1461.0, 1461.0, 1461.0, 1461.0, 1462.0, 1462.0, 1464.471404109589, 1464.471404109589, 1464.471404109589, 1464.471404109589, 1493.0, 1493.0, 1493.0, 1493.0, 1493.0, 1493.0, 1493.0, 1493.0, 1493.0, 1493.0, 1493.0, 1496.0, 1497.0, 1497.0, 1497.0, 1497.0, 1497.0, 1497.0, 1497.0, 1497.0, 1497.0, 1497.0, 1497.0, 1497.0, 1497.0, 1497.0, 1497.0, 1497.0, 1497.0, 1498.0, 1498.0, 1498.0, 1498.0, 1498.0, 1498.0, 1498.0, 1498.0, 1498.0, 1498.0, 1498.0, 1498.0, 1498.0, 1498.0, 1498.0, 1498.0, 1498.0, 1498.0, 1498.0, 1498.0, 1498.0, 1499.0, 1499.0, 1499.0, 1582.0, 1582.0, 1582.0, 1582.0, 1582.0, 1582.0, 1582.0, 1582.0, 1582.0, 1582.0, 1582.0, 1582.0, 1582.0, 1582.0, 1586.0, 1586.0, 1586.0, 1591.0, 1591.0, 1591.0, 1591.0, 1591.0, 1591.0, 1595.0, 1598.0, 1598.0, 1598.0, 1598.0, 1598.0, 1598.0, 1598.0, 1598.0, 1598.0, 1598.0, 1598.0, 1598.0, 1598.0, 1598.0, 1598.0, 1598.0, 1598.0, 1598.0, 1598.0, 1598.0, 1598.0, 1598.0, 1598.0, 1598.0, 1781.0, 1794.0, 1794.0, 1794.0, 1794.0, 1794.0, 1795.0, 1796.0, 1796.0, 1798.0, 1798.0, 1798.0, 1798.0, 1798.0, 1798.0, 1798.0, 1798.0, 1798.0, 1798.0, 1799.0, 1799.0, 1799.0, 1968.0, 1968.0, 1968.0, 1968.0, 1968.0, 1968.0, 1968.0, 1968.0, 1968.0, 1968.0, 1968.0, 1968.0, 1968.0, 1968.0, 1968.0, 1968.0, 1968.0, 1968.0, 1968.0, 1968.0, 1968.0, 1968.0, 1968.0, 1968.0, 1968.0, 1968.0, 1968.0, 1969.0, 1969.0, 1969.0, 1969.0, 1969.0, 1969.0, 1969.0, 1969.0, 1969.0, 1969.0, 1969.0, 1969.0, 1969.0, 1969.0, 1969.0, 1969.0, 1969.0, 1969.0, 1969.0, 1969.0, 1969.0, 1969.0, 1969.0, 1969.0, 1969.0, 1984.0, 1984.0, 1984.0, 1984.0, 1984.0, 1984.0, 1984.0, 1984.0, 1984.0, 1984.0, 1984.0, 1984.0, 1984.0, 1984.0, 1984.0, 1984.0, 1984.0, 1984.0, 1984.0, 1984.0, 1984.0, 1984.0, 1984.0, 1984.0, 1984.0, 1991.0, 1991.0, 1991.0, 1991.0, 1991.0, 1991.0, 1995.0, 1995.0, 1995.0, 1995.0, 1995.0, 1995.0, 1995.0, 1995.0, 1995.0, 1995.0, 1995.0, 1995.0, 1995.0, 1995.0, 1995.0, 1995.0, 1995.0, 1995.0, 1995.0, 1995.0, 1995.0, 1995.0, 1995.0, 1995.0, 1995.0, 1995.0, 1995.0, 1995.0, 1995.0, 1995.0, 1995.0, 1995.0, 1995.0, 1995.0, 1995.0, 1995.0, 1995.0, 1995.0, 1995.0, 1995.0, 1995.0, 1995.0, 1995.0, 1995.0, 1995.0, 1995.0, 1995.0, 1995.0, 1995.0, 1995.0, 1995.0, 1995.0, 1995.0, 1995.0, 1995.0, 1995.0, 1995.0, 1995.0, 1995.0, 1995.0, 1995.0, 1995.0, 1995.0, 1995.0, 1995.0, 1995.0, 1995.0, 1995.0, 1995.0, 1997.0, 1997.0, 1997.0, 1998.0, 1998.0, 1998.0, 1998.0, 1998.0, 1998.0, 1998.0, 1998.0, 1998.0, 1999.0, 1999.0, 1999.0, 1999.0, 1999.0, 1999.0, 1999.0, 1999.0, 1999.0, 1999.0, 1999.0, 1999.0, 1999.0, 1999.0, 1999.0, 1999.0, 1999.0, 1999.0, 1999.0, 1999.0, 1999.0, 1999.0, 1999.0, 1999.0, 1999.0, 1999.0, 1999.0, 1999.0, 1999.0, 1999.0, 1999.0, 1999.0, 1999.0, 1999.0, 1999.0, 1999.0, 1999.0, 1999.0, 1999.0, 1999.0, 1999.0, 1999.0, 1999.0, 1999.0, 1999.0, 1999.0, 1999.0, 1999.0, 1999.0, 1999.0, 1999.0, 1999.0, 1999.0, 2143.0, 2143.0, 2143.0, 2143.0, 2143.0, 2143.0, 2143.0, 2143.0, 2143.0, 2143.0, 2143.0, 2143.0, 2143.0, 2143.0, 2143.0, 2143.0, 2143.0, 2143.0, 2143.0, 2143.0, 2148.0, 2179.0, 2179.0, 2179.0, 2179.0, 2179.0, 2179.0, 2179.0, 2179.0, 2179.0, 2179.0, 2179.0, 2179.0, 2179.0, 2179.0, 2179.0, 2179.0, 2179.0, 2179.0, 2179.0, 2179.0, 2179.0, 2179.0, 2179.0, 2179.0, 2179.0, 2179.0, 2179.0, 2198.0, 2198.0, 2199.0, 2199.0, 2354.0, 2354.0, 2354.0, 2354.0, 2354.0, 2354.0, 2354.0, 2359.0, 2362.0, 2393.0, 2487.0, 2487.0, 2487.0, 2487.0, 2487.0, 2487.0, 2487.0, 2487.0, 2487.0, 2487.0, 2487.0, 2487.0, 2487.0, 2487.0, 2487.0, 2487.0, 2487.0, 2487.0, 2487.0, 2487.0, 2487.0, 2487.0, 2487.0, 2487.0, 2487.0, 2487.0, 2487.0, 2494.0, 2494.0, 2494.0, 2494.0, 2494.0, 2494.0, 2494.0, 2494.0, 2494.0, 2494.0, 2494.0, 2494.0, 2494.0, 2494.0, 2494.0, 2494.0, 2494.0, 2494.0, 2494.0, 2494.0, 2494.0, 2494.0, 2494.0, 2494.0, 2497.0, 2497.0, 2497.0, 2694.0, 2694.0, 2696.0, 2696.0, 2696.0, 2696.0, 2755.0, 2755.0, 2755.0, 2755.0, 2755.0, 2755.0, 2755.0, 2755.0, 2755.0, 2755.0, 2755.0, 2755.0, 2755.0, 2755.0, 2755.0, 2755.0, 2755.0, 2755.0, 2755.0, 2755.0, 2755.0, 2953.0, 2953.0, 2953.0, 2967.0, 2967.0, 2967.0, 2967.0, 2967.0, 2967.0, 2967.0, 2982.0, 2982.0, 2982.0, 2982.0, 2982.0, 2982.0, 2982.0, 2982.0, 2982.0, 2987.0, 2987.0, 2987.0, 2987.0, 2987.0, 2987.0, 2987.0, 2987.0, 2987.0, 2987.0, 2993.0, 2993.0, 2993.0, 2993.0, 2993.0, 2993.0, 2993.0, 2993.0, 2993.0, 2993.0, 2993.0, 2997.0, 2997.0, 2999.0, 2999.0, 2999.0, 3198.0, 3198.0, 3198.0, 3198.0, 3198.0, 3498.0, 3604.0, 3604.0, 3604.0], \"xaxis\": \"x\", \"y\": [42321.7110142631, 42321.7110142631, 42321.7110142631, 304583.37727905763, 612588.3574272469, 612588.3574272469, 612588.3574272469, 612588.3574272469, 612588.3574272469, 612588.3574272469, 612588.3574272469, 612588.3574272469, 612588.3574272469, 612588.3574272469, 612588.3574272469, 612588.3574272469, 612588.3574272469, 612588.3574272469, 612588.3574272469, 612588.3574272469, 612588.3574272469, 612588.3574272469, 612588.3574272469, 612588.3574272469, 612588.3574272469, 612588.3574272469, 612588.3574272469, 612588.3574272469, 612588.3574272469, 614113.1345566933, 614113.1345566933, 614113.1345566933, 614113.1345566933, 614113.1345566933, 614113.1345566933, 708649.3165823752, 708649.3165823752, 746768.744818537, 746768.744818537, 916019.0061870965, 916019.0061870965, 916019.0061870965, 916019.0061870965, 916019.0061870965, 916019.0061870965, 916019.0061870965, 916019.0061870965, 916019.0061870965, 916019.0061870965, 916019.0061870965, 916019.0061870965, 916019.0061870965, 916019.0061870965, 916019.0061870965, 916019.0061870965, 916019.0061870965, 916019.0061870965, 916019.0061870965, 916019.0061870965, 916019.0061870965, 916019.0061870965, 916019.0061870965, 916019.0061870965, 916019.0061870965, 916019.0061870965, 916019.0061870965, 916019.0061870965, 916019.0061870965, 916019.0061870965, 916019.0061870965, 916019.0061870965, 916019.0061870965, 916019.0061870965, 916019.0061870965, 916019.0061870965, 916019.0061870965, 916019.0061870965, 916019.0061870965, 916019.0061870965, 916019.0061870965, 916019.0061870965, 916019.0061870965, 916019.0061870965, 916019.0061870965, 916019.0061870965, 916019.0061870965, 916019.0061870965, 916019.0061870965, 916019.0061870965, 916019.0061870965, 916019.0061870965, 916019.0061870965, 916019.0061870965, 916019.0061870965, 916019.0061870965, 916019.0061870965, 916019.0061870965, 916019.0061870965, 916019.0061870965, 916019.0061870965, 916019.0061870965, 916019.0061870965, 916019.0061870965, 916019.0061870965, 916019.0061870965, 916019.0061870965, 916019.0061870965, 916019.0061870965, 916019.0061870965, 916019.0061870965, 916019.0061870965, 916019.0061870965, 916019.0061870965, 916019.0061870965, 916019.0061870965, 916019.0061870965, 916019.0061870965, 916019.0061870965, 916019.0061870965, 916019.0061870965, 916019.0061870965, 916019.0061870965, 916019.0061870965, 916019.0061870965, 916019.0061870965, 916019.0061870965, 916019.0061870965, 916019.0061870965, 916019.0061870965, 916019.0061870965, 916019.0061870965, 916019.0061870965, 916019.0061870965, 916019.0061870965, 916019.0061870965, 916019.0061870965, 916019.0061870965, 916019.0061870965, 916019.0061870965, 916019.0061870965, 916019.0061870965, 916019.0061870965, 916019.0061870965, 916019.0061870965, 916019.0061870965, 916019.0061870965, 916019.0061870965, 916019.0061870965, 916019.0061870965, 916019.0061870965, 916019.0061870965, 916019.0061870965, 916019.0061870965, 916019.0061870965, 916019.0061870965, 917543.7833165429, 917543.7833165429, 917543.7833165429, 917543.7833165429, 917543.7833165429, 919068.5604459895, 919068.5604459895, 919068.5604459895, 919068.5604459895, 919068.5604459895, 919068.5604459895, 919068.5604459895, 919068.5604459895, 919068.5604459895, 919068.5604459895, 919068.5604459895, 919068.5604459895, 919068.5604459895, 919068.5604459895, 919068.5604459895, 919068.5604459895, 919068.5604459895, 919068.5604459895, 919068.5604459895, 919068.5604459895, 919068.5604459895, 919068.5604459895, 919068.5604459895, 919068.5604459895, 919068.5604459895, 919068.5604459895, 919068.5604459895, 919068.5604459895, 919068.5604459895, 919068.5604459895, 919068.5604459895, 919068.5604459895, 919068.5604459895, 919068.5604459895, 919068.5604459895, 919068.5604459895, 919068.5604459895, 993782.639788867, 993782.639788867, 993782.639788867, 993782.639788867, 993782.639788867, 993782.639788867, 993782.639788867, 993782.639788867, 993782.639788867, 993782.639788867, 993782.639788867, 993782.639788867, 993782.639788867, 993782.639788867, 993782.639788867, 993782.639788867, 993782.639788867, 993782.639788867, 993782.639788867, 1070021.496261191, 1132537.3585684968, 1176755.8953224446, 1176755.8953224446, 1176755.8953224446, 1176755.8953224446, 1176755.8953224446, 1184379.780969677, 1303312.3970665024, 1318560.1683609672, 1318560.1683609672, 1318560.1683609672, 1318560.1683609672, 1320084.9454904138, 1320084.9454904138, 1323853.2859543352, 1323853.2859543352, 1323853.2859543352, 1323853.2859543352, 1367353.036503255, 1367353.036503255, 1367353.036503255, 1367353.036503255, 1367353.036503255, 1367353.036503255, 1367353.036503255, 1367353.036503255, 1367353.036503255, 1367353.036503255, 1367353.036503255, 1371927.3678915943, 1373452.1450210405, 1373452.1450210405, 1373452.1450210405, 1373452.1450210405, 1373452.1450210405, 1373452.1450210405, 1373452.1450210405, 1373452.1450210405, 1373452.1450210405, 1373452.1450210405, 1373452.1450210405, 1373452.1450210405, 1373452.1450210405, 1373452.1450210405, 1373452.1450210405, 1373452.1450210405, 1373452.1450210405, 1374976.922150487, 1374976.922150487, 1374976.922150487, 1374976.922150487, 1374976.922150487, 1374976.922150487, 1374976.922150487, 1374976.922150487, 1374976.922150487, 1374976.922150487, 1374976.922150487, 1374976.922150487, 1374976.922150487, 1374976.922150487, 1374976.922150487, 1374976.922150487, 1374976.922150487, 1374976.922150487, 1374976.922150487, 1374976.922150487, 1374976.922150487, 1376501.6992799337, 1376501.6992799337, 1376501.6992799337, 1503058.2010239917, 1503058.2010239917, 1503058.2010239917, 1503058.2010239917, 1503058.2010239917, 1503058.2010239917, 1503058.2010239917, 1503058.2010239917, 1503058.2010239917, 1503058.2010239917, 1503058.2010239917, 1503058.2010239917, 1503058.2010239917, 1503058.2010239917, 1509157.3095417772, 1509157.3095417772, 1509157.3095417772, 1516781.19518901, 1516781.19518901, 1516781.19518901, 1516781.19518901, 1516781.19518901, 1516781.19518901, 1522880.303706796, 1527454.6350951353, 1527454.6350951353, 1527454.6350951353, 1527454.6350951353, 1527454.6350951353, 1527454.6350951353, 1527454.6350951353, 1527454.6350951353, 1527454.6350951353, 1527454.6350951353, 1527454.6350951353, 1527454.6350951353, 1527454.6350951353, 1527454.6350951353, 1527454.6350951353, 1527454.6350951353, 1527454.6350951353, 1527454.6350951353, 1527454.6350951353, 1527454.6350951353, 1527454.6350951353, 1527454.6350951353, 1527454.6350951353, 1527454.6350951353, 1806488.849783841, 1826310.9524666453, 1826310.9524666453, 1826310.9524666453, 1826310.9524666453, 1826310.9524666453, 1827835.729596092, 1829360.5067255385, 1829360.5067255385, 1832410.0609844313, 1832410.0609844313, 1832410.0609844313, 1832410.0609844313, 1832410.0609844313, 1832410.0609844313, 1832410.0609844313, 1832410.0609844313, 1832410.0609844313, 1832410.0609844313, 1833934.838113878, 1833934.838113878, 1833934.838113878, 2091622.1729903328, 2091622.1729903328, 2091622.1729903328, 2091622.1729903328, 2091622.1729903328, 2091622.1729903328, 2091622.1729903328, 2091622.1729903328, 2091622.1729903328, 2091622.1729903328, 2091622.1729903328, 2091622.1729903328, 2091622.1729903328, 2091622.1729903328, 2091622.1729903328, 2091622.1729903328, 2091622.1729903328, 2091622.1729903328, 2091622.1729903328, 2091622.1729903328, 2091622.1729903328, 2091622.1729903328, 2091622.1729903328, 2091622.1729903328, 2091622.1729903328, 2091622.1729903328, 2091622.1729903328, 2093146.9501197794, 2093146.9501197794, 2093146.9501197794, 2093146.9501197794, 2093146.9501197794, 2093146.9501197794, 2093146.9501197794, 2093146.9501197794, 2093146.9501197794, 2093146.9501197794, 2093146.9501197794, 2093146.9501197794, 2093146.9501197794, 2093146.9501197794, 2093146.9501197794, 2093146.9501197794, 2093146.9501197794, 2093146.9501197794, 2093146.9501197794, 2093146.9501197794, 2093146.9501197794, 2093146.9501197794, 2093146.9501197794, 2093146.9501197794, 2093146.9501197794, 2116018.6070614764, 2116018.6070614764, 2116018.6070614764, 2116018.6070614764, 2116018.6070614764, 2116018.6070614764, 2116018.6070614764, 2116018.6070614764, 2116018.6070614764, 2116018.6070614764, 2116018.6070614764, 2116018.6070614764, 2116018.6070614764, 2116018.6070614764, 2116018.6070614764, 2116018.6070614764, 2116018.6070614764, 2116018.6070614764, 2116018.6070614764, 2116018.6070614764, 2116018.6070614764, 2116018.6070614764, 2116018.6070614764, 2116018.6070614764, 2116018.6070614764, 2126692.046967602, 2126692.046967602, 2126692.046967602, 2126692.046967602, 2126692.046967602, 2126692.046967602, 2132791.155485388, 2132791.155485388, 2132791.155485388, 2132791.155485388, 2132791.155485388, 2132791.155485388, 2132791.155485388, 2132791.155485388, 2132791.155485388, 2132791.155485388, 2132791.155485388, 2132791.155485388, 2132791.155485388, 2132791.155485388, 2132791.155485388, 2132791.155485388, 2132791.155485388, 2132791.155485388, 2132791.155485388, 2132791.155485388, 2132791.155485388, 2132791.155485388, 2132791.155485388, 2132791.155485388, 2132791.155485388, 2132791.155485388, 2132791.155485388, 2132791.155485388, 2132791.155485388, 2132791.155485388, 2132791.155485388, 2132791.155485388, 2132791.155485388, 2132791.155485388, 2132791.155485388, 2132791.155485388, 2132791.155485388, 2132791.155485388, 2132791.155485388, 2132791.155485388, 2132791.155485388, 2132791.155485388, 2132791.155485388, 2132791.155485388, 2132791.155485388, 2132791.155485388, 2132791.155485388, 2132791.155485388, 2132791.155485388, 2132791.155485388, 2132791.155485388, 2132791.155485388, 2132791.155485388, 2132791.155485388, 2132791.155485388, 2132791.155485388, 2132791.155485388, 2132791.155485388, 2132791.155485388, 2132791.155485388, 2132791.155485388, 2132791.155485388, 2132791.155485388, 2132791.155485388, 2132791.155485388, 2132791.155485388, 2132791.155485388, 2132791.155485388, 2132791.155485388, 2135840.7097442807, 2135840.7097442807, 2135840.7097442807, 2137365.4868737273, 2137365.4868737273, 2137365.4868737273, 2137365.4868737273, 2137365.4868737273, 2137365.4868737273, 2137365.4868737273, 2137365.4868737273, 2137365.4868737273, 2138890.264003174, 2138890.264003174, 2138890.264003174, 2138890.264003174, 2138890.264003174, 2138890.264003174, 2138890.264003174, 2138890.264003174, 2138890.264003174, 2138890.264003174, 2138890.264003174, 2138890.264003174, 2138890.264003174, 2138890.264003174, 2138890.264003174, 2138890.264003174, 2138890.264003174, 2138890.264003174, 2138890.264003174, 2138890.264003174, 2138890.264003174, 2138890.264003174, 2138890.264003174, 2138890.264003174, 2138890.264003174, 2138890.264003174, 2138890.264003174, 2138890.264003174, 2138890.264003174, 2138890.264003174, 2138890.264003174, 2138890.264003174, 2138890.264003174, 2138890.264003174, 2138890.264003174, 2138890.264003174, 2138890.264003174, 2138890.264003174, 2138890.264003174, 2138890.264003174, 2138890.264003174, 2138890.264003174, 2138890.264003174, 2138890.264003174, 2138890.264003174, 2138890.264003174, 2138890.264003174, 2138890.264003174, 2138890.264003174, 2138890.264003174, 2138890.264003174, 2138890.264003174, 2138890.264003174, 2358458.170643467, 2358458.170643467, 2358458.170643467, 2358458.170643467, 2358458.170643467, 2358458.170643467, 2358458.170643467, 2358458.170643467, 2358458.170643467, 2358458.170643467, 2358458.170643467, 2358458.170643467, 2358458.170643467, 2358458.170643467, 2358458.170643467, 2358458.170643467, 2358458.170643467, 2358458.170643467, 2358458.170643467, 2358458.170643467, 2366082.0562906996, 2413350.1473035403, 2413350.1473035403, 2413350.1473035403, 2413350.1473035403, 2413350.1473035403, 2413350.1473035403, 2413350.1473035403, 2413350.1473035403, 2413350.1473035403, 2413350.1473035403, 2413350.1473035403, 2413350.1473035403, 2413350.1473035403, 2413350.1473035403, 2413350.1473035403, 2413350.1473035403, 2413350.1473035403, 2413350.1473035403, 2413350.1473035403, 2413350.1473035403, 2413350.1473035403, 2413350.1473035403, 2413350.1473035403, 2413350.1473035403, 2413350.1473035403, 2413350.1473035403, 2413350.1473035403, 2442320.9127630233, 2442320.9127630233, 2443845.68989247, 2443845.68989247, 2680186.1449566744, 2680186.1449566744, 2680186.1449566744, 2680186.1449566744, 2680186.1449566744, 2680186.1449566744, 2680186.1449566744, 2687810.030603907, 2692384.3619922465, 2739652.453005087, 2882981.5031730565, 2882981.5031730565, 2882981.5031730565, 2882981.5031730565, 2882981.5031730565, 2882981.5031730565, 2882981.5031730565, 2882981.5031730565, 2882981.5031730565, 2882981.5031730565, 2882981.5031730565, 2882981.5031730565, 2882981.5031730565, 2882981.5031730565, 2882981.5031730565, 2882981.5031730565, 2882981.5031730565, 2882981.5031730565, 2882981.5031730565, 2882981.5031730565, 2882981.5031730565, 2882981.5031730565, 2882981.5031730565, 2882981.5031730565, 2882981.5031730565, 2882981.5031730565, 2882981.5031730565, 2893654.943079182, 2893654.943079182, 2893654.943079182, 2893654.943079182, 2893654.943079182, 2893654.943079182, 2893654.943079182, 2893654.943079182, 2893654.943079182, 2893654.943079182, 2893654.943079182, 2893654.943079182, 2893654.943079182, 2893654.943079182, 2893654.943079182, 2893654.943079182, 2893654.943079182, 2893654.943079182, 2893654.943079182, 2893654.943079182, 2893654.943079182, 2893654.943079182, 2893654.943079182, 2893654.943079182, 2898229.2744675213, 2898229.2744675213, 2898229.2744675213, 3198610.368968478, 3198610.368968478, 3201659.9232273707, 3201659.9232273707, 3201659.9232273707, 3201659.9232273707, 3291621.773864713, 3291621.773864713, 3291621.773864713, 3291621.773864713, 3291621.773864713, 3291621.773864713, 3291621.773864713, 3291621.773864713, 3291621.773864713, 3291621.773864713, 3291621.773864713, 3291621.773864713, 3291621.773864713, 3291621.773864713, 3291621.773864713, 3291621.773864713, 3291621.773864713, 3291621.773864713, 3291621.773864713, 3291621.773864713, 3291621.773864713, 3593527.6454951162, 3593527.6454951162, 3593527.6454951162, 3614874.525307367, 3614874.525307367, 3614874.525307367, 3614874.525307367, 3614874.525307367, 3614874.525307367, 3614874.525307367, 3637746.182249064, 3637746.182249064, 3637746.182249064, 3637746.182249064, 3637746.182249064, 3637746.182249064, 3637746.182249064, 3637746.182249064, 3637746.182249064, 3645370.0678962967, 3645370.0678962967, 3645370.0678962967, 3645370.0678962967, 3645370.0678962967, 3645370.0678962967, 3645370.0678962967, 3645370.0678962967, 3645370.0678962967, 3645370.0678962967, 3654518.7306729755, 3654518.7306729755, 3654518.7306729755, 3654518.7306729755, 3654518.7306729755, 3654518.7306729755, 3654518.7306729755, 3654518.7306729755, 3654518.7306729755, 3654518.7306729755, 3654518.7306729755, 3660617.839190761, 3660617.839190761, 3663667.3934496543, 3663667.3934496543, 3663667.3934496543, 3967098.0422095037, 3967098.0422095037, 3967098.0422095037, 3967098.0422095037, 3967098.0422095037, 4424531.181043448, 4586157.556764776, 4586157.556764776, 4586157.556764776], \"yaxis\": \"y\"}],\n",
              "                        {\"legend\": {\"tracegroupgap\": 0}, \"margin\": {\"t\": 60}, \"template\": {\"data\": {\"bar\": [{\"error_x\": {\"color\": \"rgb(36,36,36)\"}, \"error_y\": {\"color\": \"rgb(36,36,36)\"}, \"marker\": {\"line\": {\"color\": \"white\", \"width\": 0.5}}, \"type\": \"bar\"}], \"barpolar\": [{\"marker\": {\"line\": {\"color\": \"white\", \"width\": 0.5}}, \"type\": \"barpolar\"}], \"carpet\": [{\"aaxis\": {\"endlinecolor\": \"rgb(36,36,36)\", \"gridcolor\": \"white\", \"linecolor\": \"white\", \"minorgridcolor\": \"white\", \"startlinecolor\": \"rgb(36,36,36)\"}, \"baxis\": {\"endlinecolor\": \"rgb(36,36,36)\", \"gridcolor\": \"white\", \"linecolor\": \"white\", \"minorgridcolor\": \"white\", \"startlinecolor\": \"rgb(36,36,36)\"}, \"type\": \"carpet\"}], \"choropleth\": [{\"colorbar\": {\"outlinewidth\": 10, \"tickcolor\": \"rgb(36,36,36)\", \"ticklen\": 8, \"ticks\": \"outside\", \"tickwidth\": 2}, \"type\": \"choropleth\"}], \"contour\": [{\"colorbar\": {\"outlinewidth\": 10, \"tickcolor\": \"rgb(36,36,36)\", \"ticklen\": 8, \"ticks\": \"outside\", \"tickwidth\": 2}, \"colorscale\": [[0.0, \"#440154\"], [0.1111111111111111, \"#482878\"], [0.2222222222222222, \"#3e4989\"], [0.3333333333333333, \"#31688e\"], [0.4444444444444444, \"#26828e\"], [0.5555555555555556, \"#1f9e89\"], [0.6666666666666666, \"#35b779\"], [0.7777777777777778, \"#6ece58\"], [0.8888888888888888, \"#b5de2b\"], [1.0, \"#fde725\"]], \"type\": \"contour\"}], \"contourcarpet\": [{\"colorbar\": {\"outlinewidth\": 10, \"tickcolor\": \"rgb(36,36,36)\", \"ticklen\": 8, \"ticks\": \"outside\", \"tickwidth\": 2}, \"type\": \"contourcarpet\"}], \"heatmap\": [{\"colorbar\": {\"outlinewidth\": 10, \"tickcolor\": \"rgb(36,36,36)\", \"ticklen\": 8, \"ticks\": \"outside\", \"tickwidth\": 2}, \"colorscale\": [[0.0, \"#440154\"], [0.1111111111111111, \"#482878\"], [0.2222222222222222, \"#3e4989\"], [0.3333333333333333, \"#31688e\"], [0.4444444444444444, \"#26828e\"], [0.5555555555555556, \"#1f9e89\"], [0.6666666666666666, \"#35b779\"], [0.7777777777777778, \"#6ece58\"], [0.8888888888888888, \"#b5de2b\"], [1.0, \"#fde725\"]], \"type\": \"heatmap\"}], \"heatmapgl\": [{\"colorbar\": {\"outlinewidth\": 10, \"tickcolor\": \"rgb(36,36,36)\", \"ticklen\": 8, \"ticks\": \"outside\", \"tickwidth\": 2}, \"colorscale\": [[0.0, \"#440154\"], [0.1111111111111111, \"#482878\"], [0.2222222222222222, \"#3e4989\"], [0.3333333333333333, \"#31688e\"], [0.4444444444444444, \"#26828e\"], [0.5555555555555556, \"#1f9e89\"], [0.6666666666666666, \"#35b779\"], [0.7777777777777778, \"#6ece58\"], [0.8888888888888888, \"#b5de2b\"], [1.0, \"#fde725\"]], \"type\": \"heatmapgl\"}], \"histogram\": [{\"marker\": {\"line\": {\"color\": \"white\", \"width\": 0.6}}, \"type\": \"histogram\"}], \"histogram2d\": [{\"colorbar\": {\"outlinewidth\": 10, \"tickcolor\": \"rgb(36,36,36)\", \"ticklen\": 8, \"ticks\": \"outside\", \"tickwidth\": 2}, \"colorscale\": [[0.0, \"#440154\"], [0.1111111111111111, \"#482878\"], [0.2222222222222222, \"#3e4989\"], [0.3333333333333333, \"#31688e\"], [0.4444444444444444, \"#26828e\"], [0.5555555555555556, \"#1f9e89\"], [0.6666666666666666, \"#35b779\"], [0.7777777777777778, \"#6ece58\"], [0.8888888888888888, \"#b5de2b\"], [1.0, \"#fde725\"]], \"type\": \"histogram2d\"}], \"histogram2dcontour\": [{\"colorbar\": {\"outlinewidth\": 10, \"tickcolor\": \"rgb(36,36,36)\", \"ticklen\": 8, \"ticks\": \"outside\", \"tickwidth\": 2}, \"colorscale\": [[0.0, \"#440154\"], [0.1111111111111111, \"#482878\"], [0.2222222222222222, \"#3e4989\"], [0.3333333333333333, \"#31688e\"], [0.4444444444444444, \"#26828e\"], [0.5555555555555556, \"#1f9e89\"], [0.6666666666666666, \"#35b779\"], [0.7777777777777778, \"#6ece58\"], [0.8888888888888888, \"#b5de2b\"], [1.0, \"#fde725\"]], \"type\": \"histogram2dcontour\"}], \"mesh3d\": [{\"colorbar\": {\"outlinewidth\": 10, \"tickcolor\": \"rgb(36,36,36)\", \"ticklen\": 8, \"ticks\": \"outside\", \"tickwidth\": 2}, \"type\": \"mesh3d\"}], \"parcoords\": [{\"line\": {\"colorbar\": {\"outlinewidth\": 10, \"tickcolor\": \"rgb(36,36,36)\", \"ticklen\": 8, \"ticks\": \"outside\", \"tickwidth\": 2}}, \"type\": \"parcoords\"}], \"pie\": [{\"automargin\": true, \"type\": \"pie\"}], \"scatter\": [{\"marker\": {\"colorbar\": {\"outlinewidth\": 10, \"tickcolor\": \"rgb(36,36,36)\", \"ticklen\": 8, \"ticks\": \"outside\", \"tickwidth\": 2}}, \"type\": \"scatter\"}], \"scatter3d\": [{\"line\": {\"colorbar\": {\"outlinewidth\": 10, \"tickcolor\": \"rgb(36,36,36)\", \"ticklen\": 8, \"ticks\": \"outside\", \"tickwidth\": 2}}, \"marker\": {\"colorbar\": {\"outlinewidth\": 10, \"tickcolor\": \"rgb(36,36,36)\", \"ticklen\": 8, \"ticks\": \"outside\", \"tickwidth\": 2}}, \"type\": \"scatter3d\"}], \"scattercarpet\": [{\"marker\": {\"colorbar\": {\"outlinewidth\": 10, \"tickcolor\": \"rgb(36,36,36)\", \"ticklen\": 8, \"ticks\": \"outside\", \"tickwidth\": 2}}, \"type\": \"scattercarpet\"}], \"scattergeo\": [{\"marker\": {\"colorbar\": {\"outlinewidth\": 10, \"tickcolor\": \"rgb(36,36,36)\", \"ticklen\": 8, \"ticks\": \"outside\", \"tickwidth\": 2}}, \"type\": \"scattergeo\"}], \"scattergl\": [{\"marker\": {\"colorbar\": {\"outlinewidth\": 10, \"tickcolor\": \"rgb(36,36,36)\", \"ticklen\": 8, \"ticks\": \"outside\", \"tickwidth\": 2}}, \"type\": \"scattergl\"}], \"scattermapbox\": [{\"marker\": {\"colorbar\": {\"outlinewidth\": 10, \"tickcolor\": \"rgb(36,36,36)\", \"ticklen\": 8, \"ticks\": \"outside\", \"tickwidth\": 2}}, \"type\": \"scattermapbox\"}], \"scatterpolar\": [{\"marker\": {\"colorbar\": {\"outlinewidth\": 10, \"tickcolor\": \"rgb(36,36,36)\", \"ticklen\": 8, \"ticks\": \"outside\", \"tickwidth\": 2}}, \"type\": \"scatterpolar\"}], \"scatterpolargl\": [{\"marker\": {\"colorbar\": {\"outlinewidth\": 10, \"tickcolor\": \"rgb(36,36,36)\", \"ticklen\": 8, \"ticks\": \"outside\", \"tickwidth\": 2}}, \"type\": \"scatterpolargl\"}], \"scatterternary\": [{\"marker\": {\"colorbar\": {\"outlinewidth\": 10, \"tickcolor\": \"rgb(36,36,36)\", \"ticklen\": 8, \"ticks\": \"outside\", \"tickwidth\": 2}}, \"type\": \"scatterternary\"}], \"surface\": [{\"colorbar\": {\"outlinewidth\": 10, \"tickcolor\": \"rgb(36,36,36)\", \"ticklen\": 8, \"ticks\": \"outside\", \"tickwidth\": 2}, \"colorscale\": [[0.0, \"#440154\"], [0.1111111111111111, \"#482878\"], [0.2222222222222222, \"#3e4989\"], [0.3333333333333333, \"#31688e\"], [0.4444444444444444, \"#26828e\"], [0.5555555555555556, \"#1f9e89\"], [0.6666666666666666, \"#35b779\"], [0.7777777777777778, \"#6ece58\"], [0.8888888888888888, \"#b5de2b\"], [1.0, \"#fde725\"]], \"type\": \"surface\"}], \"table\": [{\"cells\": {\"fill\": {\"color\": \"rgb(237,237,237)\"}, \"line\": {\"color\": \"white\"}}, \"header\": {\"fill\": {\"color\": \"rgb(217,217,217)\"}, \"line\": {\"color\": \"white\"}}, \"type\": \"table\"}]}, \"layout\": {\"annotationdefaults\": {\"arrowhead\": 0, \"arrowwidth\": 1}, \"coloraxis\": {\"colorbar\": {\"outlinewidth\": 10, \"tickcolor\": \"rgb(36,36,36)\", \"ticklen\": 8, \"ticks\": \"outside\", \"tickwidth\": 2}}, \"colorscale\": {\"diverging\": [[0.0, \"rgb(103,0,31)\"], [0.1, \"rgb(178,24,43)\"], [0.2, \"rgb(214,96,77)\"], [0.3, \"rgb(244,165,130)\"], [0.4, \"rgb(253,219,199)\"], [0.5, \"rgb(247,247,247)\"], [0.6, \"rgb(209,229,240)\"], [0.7, \"rgb(146,197,222)\"], [0.8, \"rgb(67,147,195)\"], [0.9, \"rgb(33,102,172)\"], [1.0, \"rgb(5,48,97)\"]], \"sequential\": [[0.0, \"#440154\"], [0.1111111111111111, \"#482878\"], [0.2222222222222222, \"#3e4989\"], [0.3333333333333333, \"#31688e\"], [0.4444444444444444, \"#26828e\"], [0.5555555555555556, \"#1f9e89\"], [0.6666666666666666, \"#35b779\"], [0.7777777777777778, \"#6ece58\"], [0.8888888888888888, \"#b5de2b\"], [1.0, \"#fde725\"]], \"sequentialminus\": [[0.0, \"#440154\"], [0.1111111111111111, \"#482878\"], [0.2222222222222222, \"#3e4989\"], [0.3333333333333333, \"#31688e\"], [0.4444444444444444, \"#26828e\"], [0.5555555555555556, \"#1f9e89\"], [0.6666666666666666, \"#35b779\"], [0.7777777777777778, \"#6ece58\"], [0.8888888888888888, \"#b5de2b\"], [1.0, \"#fde725\"]]}, \"colorway\": [\"#1F77B4\", \"#FF7F0E\", \"#2CA02C\", \"#D62728\", \"#9467BD\", \"#8C564B\", \"#E377C2\", \"#7F7F7F\", \"#BCBD22\", \"#17BECF\"], \"font\": {\"color\": \"rgb(36,36,36)\"}, \"geo\": {\"bgcolor\": \"white\", \"lakecolor\": \"white\", \"landcolor\": \"white\", \"showlakes\": true, \"showland\": true, \"subunitcolor\": \"white\"}, \"hoverlabel\": {\"align\": \"left\"}, \"hovermode\": \"closest\", \"mapbox\": {\"style\": \"light\"}, \"paper_bgcolor\": \"white\", \"plot_bgcolor\": \"white\", \"polar\": {\"angularaxis\": {\"gridcolor\": \"rgb(232,232,232)\", \"linecolor\": \"rgb(36,36,36)\", \"showgrid\": false, \"showline\": true, \"ticks\": \"outside\"}, \"bgcolor\": \"white\", \"radialaxis\": {\"gridcolor\": \"rgb(232,232,232)\", \"linecolor\": \"rgb(36,36,36)\", \"showgrid\": false, \"showline\": true, \"ticks\": \"outside\"}}, \"scene\": {\"xaxis\": {\"backgroundcolor\": \"white\", \"gridcolor\": \"rgb(232,232,232)\", \"gridwidth\": 2, \"linecolor\": \"rgb(36,36,36)\", \"showbackground\": true, \"showgrid\": false, \"showline\": true, \"ticks\": \"outside\", \"zeroline\": false, \"zerolinecolor\": \"rgb(36,36,36)\"}, \"yaxis\": {\"backgroundcolor\": \"white\", \"gridcolor\": \"rgb(232,232,232)\", \"gridwidth\": 2, \"linecolor\": \"rgb(36,36,36)\", \"showbackground\": true, \"showgrid\": false, \"showline\": true, \"ticks\": \"outside\", \"zeroline\": false, \"zerolinecolor\": \"rgb(36,36,36)\"}, \"zaxis\": {\"backgroundcolor\": \"white\", \"gridcolor\": \"rgb(232,232,232)\", \"gridwidth\": 2, \"linecolor\": \"rgb(36,36,36)\", \"showbackground\": true, \"showgrid\": false, \"showline\": true, \"ticks\": \"outside\", \"zeroline\": false, \"zerolinecolor\": \"rgb(36,36,36)\"}}, \"shapedefaults\": {\"fillcolor\": \"black\", \"line\": {\"width\": 0}, \"opacity\": 0.3}, \"ternary\": {\"aaxis\": {\"gridcolor\": \"rgb(232,232,232)\", \"linecolor\": \"rgb(36,36,36)\", \"showgrid\": false, \"showline\": true, \"ticks\": \"outside\"}, \"baxis\": {\"gridcolor\": \"rgb(232,232,232)\", \"linecolor\": \"rgb(36,36,36)\", \"showgrid\": false, \"showline\": true, \"ticks\": \"outside\"}, \"bgcolor\": \"white\", \"caxis\": {\"gridcolor\": \"rgb(232,232,232)\", \"linecolor\": \"rgb(36,36,36)\", \"showgrid\": false, \"showline\": true, \"ticks\": \"outside\"}}, \"title\": {\"x\": 0.05}, \"xaxis\": {\"automargin\": true, \"gridcolor\": \"rgb(232,232,232)\", \"linecolor\": \"rgb(36,36,36)\", \"showgrid\": false, \"showline\": true, \"ticks\": \"outside\", \"title\": {\"standoff\": 15}, \"zeroline\": false, \"zerolinecolor\": \"rgb(36,36,36)\"}, \"yaxis\": {\"automargin\": true, \"gridcolor\": \"rgb(232,232,232)\", \"linecolor\": \"rgb(36,36,36)\", \"showgrid\": false, \"showline\": true, \"ticks\": \"outside\", \"title\": {\"standoff\": 15}, \"zeroline\": false, \"zerolinecolor\": \"rgb(36,36,36)\"}}}, \"xaxis\": {\"anchor\": \"y\", \"domain\": [0.0, 0.7363], \"title\": {\"text\": \"engine\"}}, \"xaxis2\": {\"anchor\": \"y2\", \"domain\": [0.7413, 1.0], \"matches\": \"x2\", \"showline\": false, \"showticklabels\": false, \"ticks\": \"\"}, \"xaxis3\": {\"anchor\": \"y3\", \"domain\": [0.0, 0.7363], \"matches\": \"x\", \"showticklabels\": false}, \"xaxis4\": {\"anchor\": \"y4\", \"domain\": [0.7413, 1.0], \"matches\": \"x2\", \"showline\": false, \"showticklabels\": false, \"ticks\": \"\"}, \"yaxis\": {\"anchor\": \"x\", \"domain\": [0.0, 0.7326], \"title\": {\"text\": \"selling_price\"}}, \"yaxis2\": {\"anchor\": \"x2\", \"domain\": [0.0, 0.7326], \"matches\": \"y\", \"showticklabels\": false}, \"yaxis3\": {\"anchor\": \"x3\", \"domain\": [0.7426, 1.0], \"matches\": \"y3\", \"showline\": false, \"showticklabels\": false, \"ticks\": \"\"}, \"yaxis4\": {\"anchor\": \"x4\", \"domain\": [0.7426, 1.0], \"matches\": \"y3\", \"showline\": false, \"showticklabels\": false, \"ticks\": \"\"}},\n",
              "                        {\"responsive\": true}\n",
              "                    ).then(function(){\n",
              "                            \n",
              "var gd = document.getElementById('5851f7de-7ef5-4128-8788-2b3c8454818b');\n",
              "var x = new MutationObserver(function (mutations, observer) {{\n",
              "        var display = window.getComputedStyle(gd).display;\n",
              "        if (!display || display === 'none') {{\n",
              "            console.log([gd, 'removed!']);\n",
              "            Plotly.purge(gd);\n",
              "            observer.disconnect();\n",
              "        }}\n",
              "}});\n",
              "\n",
              "// Listen for the removal of the full notebook cells\n",
              "var notebookContainer = gd.closest('#notebook-container');\n",
              "if (notebookContainer) {{\n",
              "    x.observe(notebookContainer, {childList: true});\n",
              "}}\n",
              "\n",
              "// Listen for the clearing of the current output cell\n",
              "var outputEl = gd.closest('.output');\n",
              "if (outputEl) {{\n",
              "    x.observe(outputEl, {childList: true});\n",
              "}}\n",
              "\n",
              "                        })\n",
              "                };\n",
              "                \n",
              "            </script>\n",
              "        </div>\n",
              "</body>\n",
              "</html>"
            ]
          },
          "metadata": {}
        }
      ]
    },
    {
      "cell_type": "code",
      "source": [
        "plt.figure(figsize=(15,10))\n",
        "xprop = 'year'\n",
        "yprop = 'selling_price'\n",
        "sns.boxplot(data=train, x=xprop, y=yprop, hue='transmission')\n",
        "plt.xlabel('{} range'.format(xprop), size=14)\n",
        "plt.ylabel('Number of {}'.format(yprop), size=14)\n",
        "plt.title('Boxplot of {}'.format(yprop), size=20)\n",
        "plt.show()"
      ],
      "metadata": {
        "colab": {
          "base_uri": "https://localhost:8080/",
          "height": 630
        },
        "id": "wm75cMHQ2msC",
        "outputId": "035e5f71-e20e-4c71-a01a-ca0a8305ec23"
      },
      "execution_count": null,
      "outputs": [
        {
          "output_type": "display_data",
          "data": {
            "image/png": "[encoded data removed]",
            "text/plain": [
              "<Figure size 1080x720 with 1 Axes>"
            ]
          },
          "metadata": {}
        }
      ]
    },
    {
      "cell_type": "markdown",
      "source": [
        "We can see that even though the number of **automatic** cars is less than **manual** but the price of **automatic** is more costly"
      ],
      "metadata": {
        "id": "g5kTHnpm2xwL"
      }
    },
    {
      "cell_type": "code",
      "execution_count": null,
      "metadata": {
        "colab": {
          "base_uri": "https://localhost:8080/",
          "height": 206
        },
        "id": "WiLBqd_Lh8Dv",
        "outputId": "8408ab0a-05a3-41fb-eb71-8312ad3e94fb"
      },
      "outputs": [
        {
          "output_type": "execute_result",
          "data": {
            "text/html": [
              "\n",
              "  <div id=\"df-0858d4fc-b1cc-455e-8629-ff3a1161de10\">\n",
              "    <div class=\"colab-df-container\">\n",
              "      <div>\n",
              "<style scoped>\n",
              "    .dataframe tbody tr th:only-of-type {\n",
              "        vertical-align: middle;\n",
              "    }\n",
              "\n",
              "    .dataframe tbody tr th {\n",
              "        vertical-align: top;\n",
              "    }\n",
              "\n",
              "    .dataframe thead th {\n",
              "        text-align: right;\n",
              "    }\n",
              "</style>\n",
              "<table border=\"1\" class=\"dataframe\">\n",
              "  <thead>\n",
              "    <tr style=\"text-align: right;\">\n",
              "      <th></th>\n",
              "      <th>year</th>\n",
              "      <th>selling_price</th>\n",
              "      <th>mileage</th>\n",
              "      <th>engine</th>\n",
              "      <th>max_power</th>\n",
              "      <th>torque</th>\n",
              "      <th>seats</th>\n",
              "    </tr>\n",
              "  </thead>\n",
              "  <tbody>\n",
              "    <tr>\n",
              "      <th>0</th>\n",
              "      <td>2018</td>\n",
              "      <td>850000</td>\n",
              "      <td>21.50</td>\n",
              "      <td>1497.0</td>\n",
              "      <td>108.50</td>\n",
              "      <td>260.0</td>\n",
              "      <td>5.0</td>\n",
              "    </tr>\n",
              "    <tr>\n",
              "      <th>1</th>\n",
              "      <td>2018</td>\n",
              "      <td>750000</td>\n",
              "      <td>21.19</td>\n",
              "      <td>1396.0</td>\n",
              "      <td>88.76</td>\n",
              "      <td>219.7</td>\n",
              "      <td>5.0</td>\n",
              "    </tr>\n",
              "    <tr>\n",
              "      <th>2</th>\n",
              "      <td>2015</td>\n",
              "      <td>1500000</td>\n",
              "      <td>12.55</td>\n",
              "      <td>2982.0</td>\n",
              "      <td>168.50</td>\n",
              "      <td>360.0</td>\n",
              "      <td>7.0</td>\n",
              "    </tr>\n",
              "    <tr>\n",
              "      <th>3</th>\n",
              "      <td>2015</td>\n",
              "      <td>795000</td>\n",
              "      <td>17.01</td>\n",
              "      <td>1591.0</td>\n",
              "      <td>121.30</td>\n",
              "      <td>154.9</td>\n",
              "      <td>5.0</td>\n",
              "    </tr>\n",
              "    <tr>\n",
              "      <th>4</th>\n",
              "      <td>2019</td>\n",
              "      <td>3800000</td>\n",
              "      <td>18.00</td>\n",
              "      <td>1969.0</td>\n",
              "      <td>190.00</td>\n",
              "      <td>400.0</td>\n",
              "      <td>5.0</td>\n",
              "    </tr>\n",
              "  </tbody>\n",
              "</table>\n",
              "</div>\n",
              "      <button class=\"colab-df-convert\" onclick=\"convertToInteractive('df-0858d4fc-b1cc-455e-8629-ff3a1161de10')\"\n",
              "              title=\"Convert this dataframe to an interactive table.\"\n",
              "              style=\"display:none;\">\n",
              "        \n",
              "  <svg xmlns=\"http://www.w3.org/2000/svg\" height=\"24px\"viewBox=\"0 0 24 24\"\n",
              "       width=\"24px\">\n",
              "    <path d=\"M0 0h24v24H0V0z\" fill=\"none\"/>\n",
              "    <path d=\"M18.56 5.44l.94 2.06.94-2.06 2.06-.94-2.06-.94-.94-2.06-.94 2.06-2.06.94zm-11 1L8.5 8.5l.94-2.06 2.06-.94-2.06-.94L8.5 2.5l-.94 2.06-2.06.94zm10 10l.94 2.06.94-2.06 2.06-.94-2.06-.94-.94-2.06-.94 2.06-2.06.94z\"/><path d=\"M17.41 7.96l-1.37-1.37c-.4-.4-.92-.59-1.43-.59-.52 0-1.04.2-1.43.59L10.3 9.45l-7.72 7.72c-.78.78-.78 2.05 0 2.83L4 21.41c.39.39.9.59 1.41.59.51 0 1.02-.2 1.41-.59l7.78-7.78 2.81-2.81c.8-.78.8-2.07 0-2.86zM5.41 20L4 18.59l7.72-7.72 1.47 1.35L5.41 20z\"/>\n",
              "  </svg>\n",
              "      </button>\n",
              "      \n",
              "  <style>\n",
              "    .colab-df-container {\n",
              "      display:flex;\n",
              "      flex-wrap:wrap;\n",
              "      gap: 12px;\n",
              "    }\n",
              "\n",
              "    .colab-df-convert {\n",
              "      background-color: #E8F0FE;\n",
              "      border: none;\n",
              "      border-radius: 50%;\n",
              "      cursor: pointer;\n",
              "      display: none;\n",
              "      fill: #1967D2;\n",
              "      height: 32px;\n",
              "      padding: 0 0 0 0;\n",
              "      width: 32px;\n",
              "    }\n",
              "\n",
              "    .colab-df-convert:hover {\n",
              "      background-color: #E2EBFA;\n",
              "      box-shadow: 0px 1px 2px rgba(60, 64, 67, 0.3), 0px 1px 3px 1px rgba(60, 64, 67, 0.15);\n",
              "      fill: #174EA6;\n",
              "    }\n",
              "\n",
              "    [theme=dark] .colab-df-convert {\n",
              "      background-color: #3B4455;\n",
              "      fill: #D2E3FC;\n",
              "    }\n",
              "\n",
              "    [theme=dark] .colab-df-convert:hover {\n",
              "      background-color: #434B5C;\n",
              "      box-shadow: 0px 1px 3px 1px rgba(0, 0, 0, 0.15);\n",
              "      filter: drop-shadow(0px 1px 2px rgba(0, 0, 0, 0.3));\n",
              "      fill: #FFFFFF;\n",
              "    }\n",
              "  </style>\n",
              "\n",
              "      <script>\n",
              "        const buttonEl =\n",
              "          document.querySelector('#df-0858d4fc-b1cc-455e-8629-ff3a1161de10 button.colab-df-convert');\n",
              "        buttonEl.style.display =\n",
              "          google.colab.kernel.accessAllowed ? 'block' : 'none';\n",
              "\n",
              "        async function convertToInteractive(key) {\n",
              "          const element = document.querySelector('#df-0858d4fc-b1cc-455e-8629-ff3a1161de10');\n",
              "          const dataTable =\n",
              "            await google.colab.kernel.invokeFunction('convertToInteractive',\n",
              "                                                     [key], {});\n",
              "          if (!dataTable) return;\n",
              "\n",
              "          const docLinkHtml = 'Like what you see? Visit the ' +\n",
              "            '<a target=\"_blank\" href=https://colab.research.google.com/notebooks/data_table.ipynb>data table notebook</a>'\n",
              "            + ' to learn more about interactive tables.';\n",
              "          element.innerHTML = '';\n",
              "          dataTable['output_type'] = 'display_data';\n",
              "          await google.colab.output.renderOutput(dataTable, element);\n",
              "          const docLink = document.createElement('div');\n",
              "          docLink.innerHTML = docLinkHtml;\n",
              "          element.appendChild(docLink);\n",
              "        }\n",
              "      </script>\n",
              "    </div>\n",
              "  </div>\n",
              "  "
            ],
            "text/plain": [
              "   year  selling_price  mileage  engine  max_power  torque  seats\n",
              "0  2018         850000    21.50  1497.0     108.50   260.0    5.0\n",
              "1  2018         750000    21.19  1396.0      88.76   219.7    5.0\n",
              "2  2015        1500000    12.55  2982.0     168.50   360.0    7.0\n",
              "3  2015         795000    17.01  1591.0     121.30   154.9    5.0\n",
              "4  2019        3800000    18.00  1969.0     190.00   400.0    5.0"
            ]
          },
          "metadata": {},
          "execution_count": 279
        }
      ],
      "source": [
        "train.drop(columns={'name', 'fuel', 'seller_type', 'transmission', 'owner', \n",
        "                    'brand', 'class_year', 'km_driven'}, inplace=True)\n",
        "train.head()"
      ]
    },
    {
      "cell_type": "code",
      "execution_count": null,
      "metadata": {
        "colab": {
          "base_uri": "https://localhost:8080/",
          "height": 268
        },
        "id": "FfMFHADXiewi",
        "outputId": "4b9eff3e-fa20-4f39-8683-02c975323de5"
      },
      "outputs": [
        {
          "output_type": "execute_result",
          "data": {
            "text/html": [
              "\n",
              "  <div id=\"df-170e0ccb-a869-43cf-8fb4-dfe59e4fdd06\">\n",
              "    <div class=\"colab-df-container\">\n",
              "      <div>\n",
              "<style scoped>\n",
              "    .dataframe tbody tr th:only-of-type {\n",
              "        vertical-align: middle;\n",
              "    }\n",
              "\n",
              "    .dataframe tbody tr th {\n",
              "        vertical-align: top;\n",
              "    }\n",
              "\n",
              "    .dataframe thead th {\n",
              "        text-align: right;\n",
              "    }\n",
              "</style>\n",
              "<table border=\"1\" class=\"dataframe\">\n",
              "  <thead>\n",
              "    <tr style=\"text-align: right;\">\n",
              "      <th></th>\n",
              "      <th>year</th>\n",
              "      <th>selling_price</th>\n",
              "      <th>mileage</th>\n",
              "      <th>engine</th>\n",
              "      <th>max_power</th>\n",
              "      <th>torque</th>\n",
              "      <th>seats</th>\n",
              "      <th>brand_Euro</th>\n",
              "      <th>fuel_Petrol</th>\n",
              "      <th>seller_type_Individual</th>\n",
              "      <th>owner_Second &amp; Others</th>\n",
              "    </tr>\n",
              "  </thead>\n",
              "  <tbody>\n",
              "    <tr>\n",
              "      <th>0</th>\n",
              "      <td>2018</td>\n",
              "      <td>850000</td>\n",
              "      <td>21.50</td>\n",
              "      <td>1497.0</td>\n",
              "      <td>108.50</td>\n",
              "      <td>260.0</td>\n",
              "      <td>5.0</td>\n",
              "      <td>0</td>\n",
              "      <td>0</td>\n",
              "      <td>1</td>\n",
              "      <td>0</td>\n",
              "    </tr>\n",
              "    <tr>\n",
              "      <th>1</th>\n",
              "      <td>2018</td>\n",
              "      <td>750000</td>\n",
              "      <td>21.19</td>\n",
              "      <td>1396.0</td>\n",
              "      <td>88.76</td>\n",
              "      <td>219.7</td>\n",
              "      <td>5.0</td>\n",
              "      <td>0</td>\n",
              "      <td>0</td>\n",
              "      <td>1</td>\n",
              "      <td>0</td>\n",
              "    </tr>\n",
              "    <tr>\n",
              "      <th>2</th>\n",
              "      <td>2015</td>\n",
              "      <td>1500000</td>\n",
              "      <td>12.55</td>\n",
              "      <td>2982.0</td>\n",
              "      <td>168.50</td>\n",
              "      <td>360.0</td>\n",
              "      <td>7.0</td>\n",
              "      <td>0</td>\n",
              "      <td>0</td>\n",
              "      <td>1</td>\n",
              "      <td>1</td>\n",
              "    </tr>\n",
              "    <tr>\n",
              "      <th>3</th>\n",
              "      <td>2015</td>\n",
              "      <td>795000</td>\n",
              "      <td>17.01</td>\n",
              "      <td>1591.0</td>\n",
              "      <td>121.30</td>\n",
              "      <td>154.9</td>\n",
              "      <td>5.0</td>\n",
              "      <td>0</td>\n",
              "      <td>1</td>\n",
              "      <td>1</td>\n",
              "      <td>0</td>\n",
              "    </tr>\n",
              "    <tr>\n",
              "      <th>4</th>\n",
              "      <td>2019</td>\n",
              "      <td>3800000</td>\n",
              "      <td>18.00</td>\n",
              "      <td>1969.0</td>\n",
              "      <td>190.00</td>\n",
              "      <td>400.0</td>\n",
              "      <td>5.0</td>\n",
              "      <td>1</td>\n",
              "      <td>0</td>\n",
              "      <td>1</td>\n",
              "      <td>0</td>\n",
              "    </tr>\n",
              "  </tbody>\n",
              "</table>\n",
              "</div>\n",
              "      <button class=\"colab-df-convert\" onclick=\"convertToInteractive('df-170e0ccb-a869-43cf-8fb4-dfe59e4fdd06')\"\n",
              "              title=\"Convert this dataframe to an interactive table.\"\n",
              "              style=\"display:none;\">\n",
              "        \n",
              "  <svg xmlns=\"http://www.w3.org/2000/svg\" height=\"24px\"viewBox=\"0 0 24 24\"\n",
              "       width=\"24px\">\n",
              "    <path d=\"M0 0h24v24H0V0z\" fill=\"none\"/>\n",
              "    <path d=\"M18.56 5.44l.94 2.06.94-2.06 2.06-.94-2.06-.94-.94-2.06-.94 2.06-2.06.94zm-11 1L8.5 8.5l.94-2.06 2.06-.94-2.06-.94L8.5 2.5l-.94 2.06-2.06.94zm10 10l.94 2.06.94-2.06 2.06-.94-2.06-.94-.94-2.06-.94 2.06-2.06.94z\"/><path d=\"M17.41 7.96l-1.37-1.37c-.4-.4-.92-.59-1.43-.59-.52 0-1.04.2-1.43.59L10.3 9.45l-7.72 7.72c-.78.78-.78 2.05 0 2.83L4 21.41c.39.39.9.59 1.41.59.51 0 1.02-.2 1.41-.59l7.78-7.78 2.81-2.81c.8-.78.8-2.07 0-2.86zM5.41 20L4 18.59l7.72-7.72 1.47 1.35L5.41 20z\"/>\n",
              "  </svg>\n",
              "      </button>\n",
              "      \n",
              "  <style>\n",
              "    .colab-df-container {\n",
              "      display:flex;\n",
              "      flex-wrap:wrap;\n",
              "      gap: 12px;\n",
              "    }\n",
              "\n",
              "    .colab-df-convert {\n",
              "      background-color: #E8F0FE;\n",
              "      border: none;\n",
              "      border-radius: 50%;\n",
              "      cursor: pointer;\n",
              "      display: none;\n",
              "      fill: #1967D2;\n",
              "      height: 32px;\n",
              "      padding: 0 0 0 0;\n",
              "      width: 32px;\n",
              "    }\n",
              "\n",
              "    .colab-df-convert:hover {\n",
              "      background-color: #E2EBFA;\n",
              "      box-shadow: 0px 1px 2px rgba(60, 64, 67, 0.3), 0px 1px 3px 1px rgba(60, 64, 67, 0.15);\n",
              "      fill: #174EA6;\n",
              "    }\n",
              "\n",
              "    [theme=dark] .colab-df-convert {\n",
              "      background-color: #3B4455;\n",
              "      fill: #D2E3FC;\n",
              "    }\n",
              "\n",
              "    [theme=dark] .colab-df-convert:hover {\n",
              "      background-color: #434B5C;\n",
              "      box-shadow: 0px 1px 3px 1px rgba(0, 0, 0, 0.15);\n",
              "      filter: drop-shadow(0px 1px 2px rgba(0, 0, 0, 0.3));\n",
              "      fill: #FFFFFF;\n",
              "    }\n",
              "  </style>\n",
              "\n",
              "      <script>\n",
              "        const buttonEl =\n",
              "          document.querySelector('#df-170e0ccb-a869-43cf-8fb4-dfe59e4fdd06 button.colab-df-convert');\n",
              "        buttonEl.style.display =\n",
              "          google.colab.kernel.accessAllowed ? 'block' : 'none';\n",
              "\n",
              "        async function convertToInteractive(key) {\n",
              "          const element = document.querySelector('#df-170e0ccb-a869-43cf-8fb4-dfe59e4fdd06');\n",
              "          const dataTable =\n",
              "            await google.colab.kernel.invokeFunction('convertToInteractive',\n",
              "                                                     [key], {});\n",
              "          if (!dataTable) return;\n",
              "\n",
              "          const docLinkHtml = 'Like what you see? Visit the ' +\n",
              "            '<a target=\"_blank\" href=https://colab.research.google.com/notebooks/data_table.ipynb>data table notebook</a>'\n",
              "            + ' to learn more about interactive tables.';\n",
              "          element.innerHTML = '';\n",
              "          dataTable['output_type'] = 'display_data';\n",
              "          await google.colab.output.renderOutput(dataTable, element);\n",
              "          const docLink = document.createElement('div');\n",
              "          docLink.innerHTML = docLinkHtml;\n",
              "          element.appendChild(docLink);\n",
              "        }\n",
              "      </script>\n",
              "    </div>\n",
              "  </div>\n",
              "  "
            ],
            "text/plain": [
              "   year  selling_price  ...  seller_type_Individual  owner_Second & Others\n",
              "0  2018         850000  ...                       1                      0\n",
              "1  2018         750000  ...                       1                      0\n",
              "2  2015        1500000  ...                       1                      1\n",
              "3  2015         795000  ...                       1                      0\n",
              "4  2019        3800000  ...                       1                      0\n",
              "\n",
              "[5 rows x 11 columns]"
            ]
          },
          "metadata": {},
          "execution_count": 280
        }
      ],
      "source": [
        "ftrain = pd.concat([train, Brand, Fuel, Seller, Owner], axis=1)\n",
        "ftrain = ftrain.drop(5537)\n",
        "# ftrain = ftrain.drop_duplicates()\n",
        "ftrain.head()"
      ]
    },
    {
      "cell_type": "code",
      "execution_count": null,
      "metadata": {
        "colab": {
          "base_uri": "https://localhost:8080/"
        },
        "id": "qz6HmUPrt9j2",
        "outputId": "ff033b1e-5e16-4527-c7c0-39719367e64a"
      },
      "outputs": [
        {
          "output_type": "stream",
          "name": "stdout",
          "text": [
            "<class 'pandas.core.frame.DataFrame'>\n",
            "Int64Index: 5999 entries, 0 to 5999\n",
            "Data columns (total 11 columns):\n",
            " #   Column                  Non-Null Count  Dtype  \n",
            "---  ------                  --------------  -----  \n",
            " 0   year                    5999 non-null   int64  \n",
            " 1   selling_price           5999 non-null   int64  \n",
            " 2   mileage                 5999 non-null   float64\n",
            " 3   engine                  5999 non-null   float64\n",
            " 4   max_power               5999 non-null   float64\n",
            " 5   torque                  5999 non-null   float64\n",
            " 6   seats                   5840 non-null   float64\n",
            " 7   brand_Euro              5999 non-null   uint8  \n",
            " 8   fuel_Petrol             5999 non-null   uint8  \n",
            " 9   seller_type_Individual  5999 non-null   uint8  \n",
            " 10  owner_Second & Others   5999 non-null   uint8  \n",
            "dtypes: float64(5), int64(2), uint8(4)\n",
            "memory usage: 398.4 KB\n"
          ]
        }
      ],
      "source": [
        "ftrain.info()"
      ]
    },
    {
      "cell_type": "code",
      "execution_count": null,
      "metadata": {
        "colab": {
          "base_uri": "https://localhost:8080/",
          "height": 657
        },
        "id": "DdeDM2bUtL30",
        "outputId": "c50c48bb-3e78-4221-dacf-28a9232a13b7"
      },
      "outputs": [
        {
          "output_type": "execute_result",
          "data": {
            "text/plain": [
              "<matplotlib.axes._subplots.AxesSubplot at 0x7f59ba10f650>"
            ]
          },
          "metadata": {},
          "execution_count": 282
        },
        {
          "output_type": "display_data",
          "data": {
            "image/png": "[encoded data removed]",
            "text/plain": [
              "<Figure size 792x648 with 2 Axes>"
            ]
          },
          "metadata": {}
        }
      ],
      "source": [
        "fig, ax = plt.subplots(figsize=(11, 9))\n",
        "sns.heatmap(ftrain.corr(), annot=True)"
      ]
    },
    {
      "cell_type": "markdown",
      "metadata": {
        "id": "o7yqE2N-GJst"
      },
      "source": [
        "We can see that column **km_driven** is negatively correlated with **selling_price** so we are dropping **km_driven**"
      ]
    },
    {
      "cell_type": "markdown",
      "source": [
        "# Build Model"
      ],
      "metadata": {
        "id": "zlAXEB6YjDcM"
      }
    },
    {
      "cell_type": "code",
      "source": [
        "from sklearn.model_selection import train_test_split\n",
        "from sklearn.ensemble import RandomForestRegressor\n",
        "from sklearn import metrics\n",
        "from sklearn.pipeline import make_pipeline\n",
        "from sklearn.preprocessing import StandardScaler\n",
        "from sklearn.model_selection import GridSearchCV\n",
        "from sklearn.ensemble import GradientBoostingRegressor"
      ],
      "metadata": {
        "id": "xI3AJ79ljdG_"
      },
      "execution_count": null,
      "outputs": []
    },
    {
      "cell_type": "code",
      "source": [
        "X = ftrain.drop(columns='selling_price')\n",
        "y = ftrain['selling_price']\n",
        "\n",
        "X_train, X_test, y_train, y_test = train_test_split(X, y, test_size=0.2, random_state=42)\n"
      ],
      "metadata": {
        "id": "gEtQv57fjGdS"
      },
      "execution_count": null,
      "outputs": []
    },
    {
      "cell_type": "code",
      "source": [
        "X.info()"
      ],
      "metadata": {
        "colab": {
          "base_uri": "https://localhost:8080/"
        },
        "id": "Z5lsK1efkMBJ",
        "outputId": "b590a850-a69b-49ed-fbd5-55be3fe19dd5"
      },
      "execution_count": null,
      "outputs": [
        {
          "output_type": "stream",
          "name": "stdout",
          "text": [
            "<class 'pandas.core.frame.DataFrame'>\n",
            "Int64Index: 5999 entries, 0 to 5999\n",
            "Data columns (total 10 columns):\n",
            " #   Column                  Non-Null Count  Dtype  \n",
            "---  ------                  --------------  -----  \n",
            " 0   year                    5999 non-null   int64  \n",
            " 1   mileage                 5999 non-null   float64\n",
            " 2   engine                  5999 non-null   float64\n",
            " 3   max_power               5999 non-null   float64\n",
            " 4   torque                  5999 non-null   float64\n",
            " 5   seats                   5840 non-null   float64\n",
            " 6   brand_Euro              5999 non-null   uint8  \n",
            " 7   fuel_Petrol             5999 non-null   uint8  \n",
            " 8   seller_type_Individual  5999 non-null   uint8  \n",
            " 9   owner_Second & Others   5999 non-null   uint8  \n",
            "dtypes: float64(5), int64(1), uint8(4)\n",
            "memory usage: 351.5 KB\n"
          ]
        }
      ]
    },
    {
      "cell_type": "code",
      "source": [
        "lgbt = LGBMRegressor()\n",
        "param = {'num_leaves': (20, 30, 50), 'n_estimators': (5000, 7000), 'criterion': ['rmse'], \n",
        "         'learning_rate': (0.01, 0.05), 'num_leaves': (20, 30), 'max_depth': (9, 11, 15),\n",
        "         'random_state': [42]}\n",
        "reg_test = GridSearchCV(lgbt, param)\n",
        "reg_test.fit(X_train, y_train)\n",
        "reg_test.best_estimator_"
      ],
      "metadata": {
        "colab": {
          "base_uri": "https://localhost:8080/"
        },
        "id": "CPbepEp6DspT",
        "outputId": "1df0cc57-7512-47a1-c4dc-64233275176d"
      },
      "execution_count": null,
      "outputs": [
        {
          "output_type": "execute_result",
          "data": {
            "text/plain": [
              "LGBMRegressor(criterion='rmse', learning_rate=0.01, max_depth=9,\n",
              "              n_estimators=7000, num_leaves=20, random_state=42)"
            ]
          },
          "metadata": {},
          "execution_count": 316
        }
      ]
    },
    {
      "cell_type": "code",
      "source": [
        "y_pred = reg_test.predict(X_test)\n",
        "\n",
        "print('MSE:', str(metrics.mean_squared_error(y_true=y_test, y_pred=y_pred)))\n",
        "print('RMSE:', str(metrics.mean_squared_error(y_true=y_test, y_pred=y_pred, squared=False)))\n",
        "print('R-squared:', str(reg_test.score(X_test, y_test)))"
      ],
      "metadata": {
        "colab": {
          "base_uri": "https://localhost:8080/"
        },
        "id": "s9JjBcFN6apW",
        "outputId": "6b808f80-a574-4617-a25e-0b75c0bbaa97"
      },
      "execution_count": null,
      "outputs": [
        {
          "output_type": "stream",
          "name": "stdout",
          "text": [
            "MSE: 12517168623.677168\n",
            "RMSE: 111880.15294804153\n",
            "R-squared: 0.9817515437482263\n"
          ]
        }
      ]
    },
    {
      "cell_type": "code",
      "source": [
        "reg1 = LGBMRegressor(criterion='rmse', max_depth=7, n_estimators=10000, num_leaves=40,\n",
        "                    randsom_state=42, learning_rate=0.015, reg_lambda=0)\n",
        "\n",
        "reg1.fit(X_train, y_train)\n",
        "\n",
        "y_pred = reg1.predict(X_test)\n",
        "\n",
        "print('MSE:', str(metrics.mean_squared_error(y_true=y_test, y_pred=y_pred)))\n",
        "print('RMSE:', str(metrics.mean_squared_error(y_true=y_test, y_pred=y_pred, squared=False)))\n",
        "print('R-squared:', str(reg1.score(X_test, y_test)))"
      ],
      "metadata": {
        "colab": {
          "base_uri": "https://localhost:8080/"
        },
        "id": "v25po9zNFlD8",
        "outputId": "2aaf889c-170c-4bb9-a496-b943d158a9ae"
      },
      "execution_count": null,
      "outputs": [
        {
          "output_type": "stream",
          "name": "stdout",
          "text": [
            "MSE: 11811498653.77726\n",
            "RMSE: 108680.71886851531\n",
            "R-squared: 0.9827803217379667\n"
          ]
        }
      ]
    },
    {
      "cell_type": "markdown",
      "metadata": {
        "id": "44aUkd0lmXvC"
      },
      "source": [
        "# Test model on the test set"
      ]
    },
    {
      "cell_type": "code",
      "execution_count": null,
      "metadata": {
        "id": "X6EcDqtk5OZZ"
      },
      "outputs": [],
      "source": [
        "test = pd.read_csv('/content/drive/MyDrive/Colab Notebooks/data/car test.csv', sep=';')"
      ]
    },
    {
      "cell_type": "code",
      "execution_count": null,
      "metadata": {
        "id": "MZhaJI6d6Cdk",
        "colab": {
          "base_uri": "https://localhost:8080/",
          "height": 354
        },
        "outputId": "98c6f518-321e-4005-ce79-6137a3dfdf0f"
      },
      "outputs": [
        {
          "output_type": "execute_result",
          "data": {
            "text/html": [
              "\n",
              "  <div id=\"df-705b2016-2885-466e-a9f0-fd3218c98eba\">\n",
              "    <div class=\"colab-df-container\">\n",
              "      <div>\n",
              "<style scoped>\n",
              "    .dataframe tbody tr th:only-of-type {\n",
              "        vertical-align: middle;\n",
              "    }\n",
              "\n",
              "    .dataframe tbody tr th {\n",
              "        vertical-align: top;\n",
              "    }\n",
              "\n",
              "    .dataframe thead th {\n",
              "        text-align: right;\n",
              "    }\n",
              "</style>\n",
              "<table border=\"1\" class=\"dataframe\">\n",
              "  <thead>\n",
              "    <tr style=\"text-align: right;\">\n",
              "      <th></th>\n",
              "      <th>Id</th>\n",
              "      <th>name</th>\n",
              "      <th>year</th>\n",
              "      <th>km_driven</th>\n",
              "      <th>fuel</th>\n",
              "      <th>seller_type</th>\n",
              "      <th>transmission</th>\n",
              "      <th>owner</th>\n",
              "      <th>mileage</th>\n",
              "      <th>engine</th>\n",
              "      <th>max_power</th>\n",
              "      <th>torque</th>\n",
              "      <th>seats</th>\n",
              "    </tr>\n",
              "  </thead>\n",
              "  <tbody>\n",
              "    <tr>\n",
              "      <th>0</th>\n",
              "      <td>1</td>\n",
              "      <td>Skoda Rapid 1.6 MPI AT Elegance</td>\n",
              "      <td>2016</td>\n",
              "      <td>11000</td>\n",
              "      <td>Petrol</td>\n",
              "      <td>Dealer</td>\n",
              "      <td>Automatic</td>\n",
              "      <td>First Owner</td>\n",
              "      <td>14.3 kmpl</td>\n",
              "      <td>1598 CC</td>\n",
              "      <td>103.5 bhp</td>\n",
              "      <td>153Nm@ 3800rpm</td>\n",
              "      <td>5.0</td>\n",
              "    </tr>\n",
              "    <tr>\n",
              "      <th>1</th>\n",
              "      <td>2</td>\n",
              "      <td>Honda City i VTEC V</td>\n",
              "      <td>2017</td>\n",
              "      <td>35000</td>\n",
              "      <td>Petrol</td>\n",
              "      <td>Individual</td>\n",
              "      <td>Manual</td>\n",
              "      <td>First Owner</td>\n",
              "      <td>17.8 kmpl</td>\n",
              "      <td>1497 CC</td>\n",
              "      <td>117.3 bhp</td>\n",
              "      <td>145Nm@ 4600rpm</td>\n",
              "      <td>5.0</td>\n",
              "    </tr>\n",
              "    <tr>\n",
              "      <th>2</th>\n",
              "      <td>3</td>\n",
              "      <td>Hyundai Xcent 1.2 Kappa SX Option</td>\n",
              "      <td>2014</td>\n",
              "      <td>80000</td>\n",
              "      <td>Petrol</td>\n",
              "      <td>Individual</td>\n",
              "      <td>Manual</td>\n",
              "      <td>First Owner</td>\n",
              "      <td>19.1 kmpl</td>\n",
              "      <td>1197 CC</td>\n",
              "      <td>82 bhp</td>\n",
              "      <td>114Nm@ 4000rpm</td>\n",
              "      <td>5.0</td>\n",
              "    </tr>\n",
              "    <tr>\n",
              "      <th>3</th>\n",
              "      <td>4</td>\n",
              "      <td>Mahindra Scorpio 2009-2014 SLE 7S BSIII</td>\n",
              "      <td>2014</td>\n",
              "      <td>145241</td>\n",
              "      <td>Diesel</td>\n",
              "      <td>Individual</td>\n",
              "      <td>Manual</td>\n",
              "      <td>First Owner</td>\n",
              "      <td>12.05 kmpl</td>\n",
              "      <td>2179 CC</td>\n",
              "      <td>120 bhp</td>\n",
              "      <td>290Nm@ 1800-2800rpm</td>\n",
              "      <td>7.0</td>\n",
              "    </tr>\n",
              "    <tr>\n",
              "      <th>4</th>\n",
              "      <td>5</td>\n",
              "      <td>Ford Ecosport 1.5 Diesel Titanium</td>\n",
              "      <td>2015</td>\n",
              "      <td>92651</td>\n",
              "      <td>Diesel</td>\n",
              "      <td>Dealer</td>\n",
              "      <td>Manual</td>\n",
              "      <td>First Owner</td>\n",
              "      <td>21.7 kmpl</td>\n",
              "      <td>1498 CC</td>\n",
              "      <td>98.96 bhp</td>\n",
              "      <td>215Nm@ 1750-2500rpm</td>\n",
              "      <td>5.0</td>\n",
              "    </tr>\n",
              "  </tbody>\n",
              "</table>\n",
              "</div>\n",
              "      <button class=\"colab-df-convert\" onclick=\"convertToInteractive('df-705b2016-2885-466e-a9f0-fd3218c98eba')\"\n",
              "              title=\"Convert this dataframe to an interactive table.\"\n",
              "              style=\"display:none;\">\n",
              "        \n",
              "  <svg xmlns=\"http://www.w3.org/2000/svg\" height=\"24px\"viewBox=\"0 0 24 24\"\n",
              "       width=\"24px\">\n",
              "    <path d=\"M0 0h24v24H0V0z\" fill=\"none\"/>\n",
              "    <path d=\"M18.56 5.44l.94 2.06.94-2.06 2.06-.94-2.06-.94-.94-2.06-.94 2.06-2.06.94zm-11 1L8.5 8.5l.94-2.06 2.06-.94-2.06-.94L8.5 2.5l-.94 2.06-2.06.94zm10 10l.94 2.06.94-2.06 2.06-.94-2.06-.94-.94-2.06-.94 2.06-2.06.94z\"/><path d=\"M17.41 7.96l-1.37-1.37c-.4-.4-.92-.59-1.43-.59-.52 0-1.04.2-1.43.59L10.3 9.45l-7.72 7.72c-.78.78-.78 2.05 0 2.83L4 21.41c.39.39.9.59 1.41.59.51 0 1.02-.2 1.41-.59l7.78-7.78 2.81-2.81c.8-.78.8-2.07 0-2.86zM5.41 20L4 18.59l7.72-7.72 1.47 1.35L5.41 20z\"/>\n",
              "  </svg>\n",
              "      </button>\n",
              "      \n",
              "  <style>\n",
              "    .colab-df-container {\n",
              "      display:flex;\n",
              "      flex-wrap:wrap;\n",
              "      gap: 12px;\n",
              "    }\n",
              "\n",
              "    .colab-df-convert {\n",
              "      background-color: #E8F0FE;\n",
              "      border: none;\n",
              "      border-radius: 50%;\n",
              "      cursor: pointer;\n",
              "      display: none;\n",
              "      fill: #1967D2;\n",
              "      height: 32px;\n",
              "      padding: 0 0 0 0;\n",
              "      width: 32px;\n",
              "    }\n",
              "\n",
              "    .colab-df-convert:hover {\n",
              "      background-color: #E2EBFA;\n",
              "      box-shadow: 0px 1px 2px rgba(60, 64, 67, 0.3), 0px 1px 3px 1px rgba(60, 64, 67, 0.15);\n",
              "      fill: #174EA6;\n",
              "    }\n",
              "\n",
              "    [theme=dark] .colab-df-convert {\n",
              "      background-color: #3B4455;\n",
              "      fill: #D2E3FC;\n",
              "    }\n",
              "\n",
              "    [theme=dark] .colab-df-convert:hover {\n",
              "      background-color: #434B5C;\n",
              "      box-shadow: 0px 1px 3px 1px rgba(0, 0, 0, 0.15);\n",
              "      filter: drop-shadow(0px 1px 2px rgba(0, 0, 0, 0.3));\n",
              "      fill: #FFFFFF;\n",
              "    }\n",
              "  </style>\n",
              "\n",
              "      <script>\n",
              "        const buttonEl =\n",
              "          document.querySelector('#df-705b2016-2885-466e-a9f0-fd3218c98eba button.colab-df-convert');\n",
              "        buttonEl.style.display =\n",
              "          google.colab.kernel.accessAllowed ? 'block' : 'none';\n",
              "\n",
              "        async function convertToInteractive(key) {\n",
              "          const element = document.querySelector('#df-705b2016-2885-466e-a9f0-fd3218c98eba');\n",
              "          const dataTable =\n",
              "            await google.colab.kernel.invokeFunction('convertToInteractive',\n",
              "                                                     [key], {});\n",
              "          if (!dataTable) return;\n",
              "\n",
              "          const docLinkHtml = 'Like what you see? Visit the ' +\n",
              "            '<a target=\"_blank\" href=https://colab.research.google.com/notebooks/data_table.ipynb>data table notebook</a>'\n",
              "            + ' to learn more about interactive tables.';\n",
              "          element.innerHTML = '';\n",
              "          dataTable['output_type'] = 'display_data';\n",
              "          await google.colab.output.renderOutput(dataTable, element);\n",
              "          const docLink = document.createElement('div');\n",
              "          docLink.innerHTML = docLinkHtml;\n",
              "          element.appendChild(docLink);\n",
              "        }\n",
              "      </script>\n",
              "    </div>\n",
              "  </div>\n",
              "  "
            ],
            "text/plain": [
              "   Id                                     name  ...               torque  seats\n",
              "0   1          Skoda Rapid 1.6 MPI AT Elegance  ...       153Nm@ 3800rpm    5.0\n",
              "1   2                      Honda City i VTEC V  ...       145Nm@ 4600rpm    5.0\n",
              "2   3        Hyundai Xcent 1.2 Kappa SX Option  ...       114Nm@ 4000rpm    5.0\n",
              "3   4  Mahindra Scorpio 2009-2014 SLE 7S BSIII  ...  290Nm@ 1800-2800rpm    7.0\n",
              "4   5        Ford Ecosport 1.5 Diesel Titanium  ...  215Nm@ 1750-2500rpm    5.0\n",
              "\n",
              "[5 rows x 13 columns]"
            ]
          },
          "metadata": {},
          "execution_count": 291
        }
      ],
      "source": [
        "test.head()"
      ]
    },
    {
      "cell_type": "code",
      "execution_count": null,
      "metadata": {
        "id": "GVZIJYtfzwU7",
        "colab": {
          "base_uri": "https://localhost:8080/"
        },
        "outputId": "5e16fcef-b0e3-462a-a867-badf25f099fc"
      },
      "outputs": [
        {
          "output_type": "stream",
          "name": "stdout",
          "text": [
            "<class 'pandas.core.frame.DataFrame'>\n",
            "RangeIndex: 2128 entries, 0 to 2127\n",
            "Data columns (total 13 columns):\n",
            " #   Column        Non-Null Count  Dtype  \n",
            "---  ------        --------------  -----  \n",
            " 0   Id            2128 non-null   int64  \n",
            " 1   name          2128 non-null   object \n",
            " 2   year          2128 non-null   int64  \n",
            " 3   km_driven     2128 non-null   int64  \n",
            " 4   fuel          2128 non-null   object \n",
            " 5   seller_type   2128 non-null   object \n",
            " 6   transmission  2128 non-null   object \n",
            " 7   owner         2128 non-null   object \n",
            " 8   mileage       2066 non-null   object \n",
            " 9   engine        2066 non-null   object \n",
            " 10  max_power     2067 non-null   object \n",
            " 11  torque        2066 non-null   object \n",
            " 12  seats         2066 non-null   float64\n",
            "dtypes: float64(1), int64(3), object(9)\n",
            "memory usage: 216.2+ KB\n"
          ]
        }
      ],
      "source": [
        "test.info()"
      ]
    },
    {
      "cell_type": "code",
      "execution_count": null,
      "metadata": {
        "id": "0XpIDkiEmcAI",
        "colab": {
          "base_uri": "https://localhost:8080/",
          "height": 345
        },
        "outputId": "9004a20e-8c6f-4ce6-c620-025b551f9970"
      },
      "outputs": [
        {
          "output_type": "stream",
          "name": "stderr",
          "text": [
            "/usr/local/lib/python3.7/dist-packages/ipykernel_launcher.py:51: UserWarning:\n",
            "\n",
            "Boolean Series key will be reindexed to match DataFrame index.\n",
            "\n",
            "/usr/local/lib/python3.7/dist-packages/ipykernel_launcher.py:64: DeprecationWarning:\n",
            "\n",
            "This function is deprecated. Please call randint(1, 10 + 1) instead\n",
            "\n"
          ]
        },
        {
          "output_type": "execute_result",
          "data": {
            "text/html": [
              "\n",
              "  <div id=\"df-8c6768ea-41bc-4313-8fb8-77932a400f53\">\n",
              "    <div class=\"colab-df-container\">\n",
              "      <div>\n",
              "<style scoped>\n",
              "    .dataframe tbody tr th:only-of-type {\n",
              "        vertical-align: middle;\n",
              "    }\n",
              "\n",
              "    .dataframe tbody tr th {\n",
              "        vertical-align: top;\n",
              "    }\n",
              "\n",
              "    .dataframe thead th {\n",
              "        text-align: right;\n",
              "    }\n",
              "</style>\n",
              "<table border=\"1\" class=\"dataframe\">\n",
              "  <thead>\n",
              "    <tr style=\"text-align: right;\">\n",
              "      <th></th>\n",
              "      <th>year</th>\n",
              "      <th>mileage</th>\n",
              "      <th>engine</th>\n",
              "      <th>max_power</th>\n",
              "      <th>torque</th>\n",
              "      <th>seats</th>\n",
              "      <th>brand_Euro</th>\n",
              "      <th>fuel_Petrol</th>\n",
              "      <th>seller_type_Individual</th>\n",
              "      <th>owner_Second &amp; Others</th>\n",
              "    </tr>\n",
              "  </thead>\n",
              "  <tbody>\n",
              "    <tr>\n",
              "      <th>0</th>\n",
              "      <td>2016</td>\n",
              "      <td>14.30</td>\n",
              "      <td>1598.0</td>\n",
              "      <td>103.50</td>\n",
              "      <td>153.0</td>\n",
              "      <td>5.0</td>\n",
              "      <td>1</td>\n",
              "      <td>1</td>\n",
              "      <td>0</td>\n",
              "      <td>0</td>\n",
              "    </tr>\n",
              "    <tr>\n",
              "      <th>1</th>\n",
              "      <td>2017</td>\n",
              "      <td>17.80</td>\n",
              "      <td>1497.0</td>\n",
              "      <td>117.30</td>\n",
              "      <td>145.0</td>\n",
              "      <td>5.0</td>\n",
              "      <td>0</td>\n",
              "      <td>1</td>\n",
              "      <td>1</td>\n",
              "      <td>0</td>\n",
              "    </tr>\n",
              "    <tr>\n",
              "      <th>2</th>\n",
              "      <td>2014</td>\n",
              "      <td>19.10</td>\n",
              "      <td>1197.0</td>\n",
              "      <td>82.00</td>\n",
              "      <td>114.0</td>\n",
              "      <td>5.0</td>\n",
              "      <td>0</td>\n",
              "      <td>1</td>\n",
              "      <td>1</td>\n",
              "      <td>0</td>\n",
              "    </tr>\n",
              "    <tr>\n",
              "      <th>3</th>\n",
              "      <td>2014</td>\n",
              "      <td>12.05</td>\n",
              "      <td>2179.0</td>\n",
              "      <td>120.00</td>\n",
              "      <td>290.0</td>\n",
              "      <td>7.0</td>\n",
              "      <td>1</td>\n",
              "      <td>0</td>\n",
              "      <td>1</td>\n",
              "      <td>0</td>\n",
              "    </tr>\n",
              "    <tr>\n",
              "      <th>4</th>\n",
              "      <td>2015</td>\n",
              "      <td>21.70</td>\n",
              "      <td>1498.0</td>\n",
              "      <td>98.96</td>\n",
              "      <td>215.0</td>\n",
              "      <td>5.0</td>\n",
              "      <td>1</td>\n",
              "      <td>0</td>\n",
              "      <td>0</td>\n",
              "      <td>0</td>\n",
              "    </tr>\n",
              "  </tbody>\n",
              "</table>\n",
              "</div>\n",
              "      <button class=\"colab-df-convert\" onclick=\"convertToInteractive('df-8c6768ea-41bc-4313-8fb8-77932a400f53')\"\n",
              "              title=\"Convert this dataframe to an interactive table.\"\n",
              "              style=\"display:none;\">\n",
              "        \n",
              "  <svg xmlns=\"http://www.w3.org/2000/svg\" height=\"24px\"viewBox=\"0 0 24 24\"\n",
              "       width=\"24px\">\n",
              "    <path d=\"M0 0h24v24H0V0z\" fill=\"none\"/>\n",
              "    <path d=\"M18.56 5.44l.94 2.06.94-2.06 2.06-.94-2.06-.94-.94-2.06-.94 2.06-2.06.94zm-11 1L8.5 8.5l.94-2.06 2.06-.94-2.06-.94L8.5 2.5l-.94 2.06-2.06.94zm10 10l.94 2.06.94-2.06 2.06-.94-2.06-.94-.94-2.06-.94 2.06-2.06.94z\"/><path d=\"M17.41 7.96l-1.37-1.37c-.4-.4-.92-.59-1.43-.59-.52 0-1.04.2-1.43.59L10.3 9.45l-7.72 7.72c-.78.78-.78 2.05 0 2.83L4 21.41c.39.39.9.59 1.41.59.51 0 1.02-.2 1.41-.59l7.78-7.78 2.81-2.81c.8-.78.8-2.07 0-2.86zM5.41 20L4 18.59l7.72-7.72 1.47 1.35L5.41 20z\"/>\n",
              "  </svg>\n",
              "      </button>\n",
              "      \n",
              "  <style>\n",
              "    .colab-df-container {\n",
              "      display:flex;\n",
              "      flex-wrap:wrap;\n",
              "      gap: 12px;\n",
              "    }\n",
              "\n",
              "    .colab-df-convert {\n",
              "      background-color: #E8F0FE;\n",
              "      border: none;\n",
              "      border-radius: 50%;\n",
              "      cursor: pointer;\n",
              "      display: none;\n",
              "      fill: #1967D2;\n",
              "      height: 32px;\n",
              "      padding: 0 0 0 0;\n",
              "      width: 32px;\n",
              "    }\n",
              "\n",
              "    .colab-df-convert:hover {\n",
              "      background-color: #E2EBFA;\n",
              "      box-shadow: 0px 1px 2px rgba(60, 64, 67, 0.3), 0px 1px 3px 1px rgba(60, 64, 67, 0.15);\n",
              "      fill: #174EA6;\n",
              "    }\n",
              "\n",
              "    [theme=dark] .colab-df-convert {\n",
              "      background-color: #3B4455;\n",
              "      fill: #D2E3FC;\n",
              "    }\n",
              "\n",
              "    [theme=dark] .colab-df-convert:hover {\n",
              "      background-color: #434B5C;\n",
              "      box-shadow: 0px 1px 3px 1px rgba(0, 0, 0, 0.15);\n",
              "      filter: drop-shadow(0px 1px 2px rgba(0, 0, 0, 0.3));\n",
              "      fill: #FFFFFF;\n",
              "    }\n",
              "  </style>\n",
              "\n",
              "      <script>\n",
              "        const buttonEl =\n",
              "          document.querySelector('#df-8c6768ea-41bc-4313-8fb8-77932a400f53 button.colab-df-convert');\n",
              "        buttonEl.style.display =\n",
              "          google.colab.kernel.accessAllowed ? 'block' : 'none';\n",
              "\n",
              "        async function convertToInteractive(key) {\n",
              "          const element = document.querySelector('#df-8c6768ea-41bc-4313-8fb8-77932a400f53');\n",
              "          const dataTable =\n",
              "            await google.colab.kernel.invokeFunction('convertToInteractive',\n",
              "                                                     [key], {});\n",
              "          if (!dataTable) return;\n",
              "\n",
              "          const docLinkHtml = 'Like what you see? Visit the ' +\n",
              "            '<a target=\"_blank\" href=https://colab.research.google.com/notebooks/data_table.ipynb>data table notebook</a>'\n",
              "            + ' to learn more about interactive tables.';\n",
              "          element.innerHTML = '';\n",
              "          dataTable['output_type'] = 'display_data';\n",
              "          await google.colab.output.renderOutput(dataTable, element);\n",
              "          const docLink = document.createElement('div');\n",
              "          docLink.innerHTML = docLinkHtml;\n",
              "          element.appendChild(docLink);\n",
              "        }\n",
              "      </script>\n",
              "    </div>\n",
              "  </div>\n",
              "  "
            ],
            "text/plain": [
              "   year  mileage  ...  seller_type_Individual  owner_Second & Others\n",
              "0  2016    14.30  ...                       0                      0\n",
              "1  2017    17.80  ...                       1                      0\n",
              "2  2014    19.10  ...                       1                      0\n",
              "3  2014    12.05  ...                       1                      0\n",
              "4  2015    21.70  ...                       0                      0\n",
              "\n",
              "[5 rows x 10 columns]"
            ]
          },
          "metadata": {},
          "execution_count": 293
        }
      ],
      "source": [
        "df = test.copy()\n",
        "df = df.dropna()\n",
        "\n",
        "# Fuel\n",
        "test['fuel'] = test['fuel'].replace(['CNG', 'LPG'], 'Petrol')\n",
        "\n",
        "Fuel2 = test[['fuel']]\n",
        "Fuel2 = pd.get_dummies(Fuel2, drop_first=True)\n",
        "\n",
        "# Brand\n",
        "test['brand'] = test['name'].apply(lambda x: x.split()[0])\n",
        "\n",
        "asia_car = ['Maruti', 'Hyundai', 'Toyota', 'Tata', 'Honda', 'Nissan', 'Datsun', \n",
        "            'Mitsubishi', 'Isuzu', 'Kia', 'Daewoo']\n",
        "test['brand'] = test['name'].apply(lambda x: 'Asia' if x.split()[0] in asia_car else 'Euro')\n",
        "\n",
        "Brand2 = test[['brand']]\n",
        "Brand2 = pd.get_dummies(Brand2, drop_first=True)\n",
        "\n",
        "\n",
        "# Seller Type\n",
        "test['seller_type'].replace({'Trustmark Dealer': 'Dealer'}, inplace=True)\n",
        "\n",
        "Seller2 = test[['seller_type']]\n",
        "Seller2 = pd.get_dummies(Seller2, drop_first=True)\n",
        "\n",
        "# Owner\n",
        "test['owner'].replace(['Fourth & Above Owner', 'Test Drive Car', 'Third Owner', 'Second Owner'], 'Second & Others', inplace=True)\n",
        "\n",
        "Owner2 = test[['owner']]\n",
        "Owner2 = pd.get_dummies(Owner2, drop_first=True)\n",
        "\n",
        "# Mileage\n",
        "df['mileage'] = df['mileage'].apply(lambda x: str(x))\n",
        "df['mileage'] = df['mileage'].apply(lambda x: float(x.split()[0]) if str(x).endswith('kmpl') else float(x.split()[0]) * 1.4) \n",
        "mean_mil = df[df.mileage!=0].mileage.mean()\n",
        "\n",
        "\n",
        "test.mileage = test.mileage.fillna('0')\n",
        "test['mileage'] = test['mileage'].apply(lambda x: float(x.split()[0]) if str(x).endswith('kmpl') else float(x.split()[0]) * 1.4) \n",
        "test.mileage = test.mileage.replace(0, mean_mil)\n",
        "test.head()\n",
        "\n",
        "# Transmission\n",
        "Trans2 = test[['transmission']]\n",
        "Trans2 = pd.get_dummies(Trans2, drop_first=True)\n",
        "\n",
        "# Engine\n",
        "\n",
        "test.engine = test.engine.apply(lambda x: str(x))\n",
        "test.engine = test[train.engine.notnull()].engine.apply(lambda x: x.split()[0]).astype('float64')\n",
        "mean_eng = test.engine.mean()\n",
        "test.engine.fillna(mean_eng, inplace=True)\n",
        "\n",
        "# Max Power\n",
        "df['max_power'] = df['max_power'].apply(lambda x: float(x.split()[0])) \n",
        "mean_mp = np.mean(df.max_power)\n",
        "\n",
        "test.max_power = test.max_power.fillna('0')\n",
        "test.max_power = test.max_power.apply(lambda x: float(x.split()[0]))\n",
        "test.max_power = test.max_power.replace(0, mean_mp)\n",
        "\n",
        "# Seats\n",
        "test.seats = test.seats.fillna(np.random.random_integers(10))\n",
        "\n",
        "# Torque\n",
        "import re\n",
        "\n",
        "test.torque = test.torque.fillna('0')\n",
        "\n",
        "test['torque'] = test['torque'].str.replace(',','.')\n",
        "for i in range(test.shape[0]):\n",
        "    torque, rpm = torque_processing(test['torque'].iloc[i])\n",
        "    test.at[i, 'torque'] = torque\n",
        "    test.at[i, 'rpm'] = rpm\n",
        "\n",
        "test.torque = test.torque.apply(lambda x: float(x))\n",
        "df = test.copy()\n",
        "mean_torque = df[df.torque!=0].torque.mean()\n",
        "test.torque = test.torque.replace(0, mean_torque)\n",
        "\n",
        "# Final test dataset\n",
        "test.drop(columns={'Id', 'name', 'fuel', 'seller_type', 'transmission', 'owner', 'brand', 'rpm', 'km_driven'}, inplace=True)\n",
        "ftest = pd.concat([test, Brand2, Fuel2, Seller2, Owner2], axis=1)\n",
        "\n",
        "ftest.head()"
      ]
    },
    {
      "cell_type": "code",
      "execution_count": null,
      "metadata": {
        "id": "DvkpFtyz6cvr",
        "colab": {
          "base_uri": "https://localhost:8080/"
        },
        "outputId": "67904b7d-850f-4ad2-b63c-7bd304309338"
      },
      "outputs": [
        {
          "output_type": "stream",
          "name": "stdout",
          "text": [
            "<class 'pandas.core.frame.DataFrame'>\n",
            "RangeIndex: 2128 entries, 0 to 2127\n",
            "Data columns (total 10 columns):\n",
            " #   Column                  Non-Null Count  Dtype  \n",
            "---  ------                  --------------  -----  \n",
            " 0   year                    2128 non-null   int64  \n",
            " 1   mileage                 2128 non-null   float64\n",
            " 2   engine                  2128 non-null   float64\n",
            " 3   max_power               2128 non-null   float64\n",
            " 4   torque                  2128 non-null   float64\n",
            " 5   seats                   2128 non-null   float64\n",
            " 6   brand_Euro              2128 non-null   uint8  \n",
            " 7   fuel_Petrol             2128 non-null   uint8  \n",
            " 8   seller_type_Individual  2128 non-null   uint8  \n",
            " 9   owner_Second & Others   2128 non-null   uint8  \n",
            "dtypes: float64(5), int64(1), uint8(4)\n",
            "memory usage: 108.2 KB\n"
          ]
        }
      ],
      "source": [
        "ftest.info()"
      ]
    },
    {
      "cell_type": "code",
      "execution_count": null,
      "metadata": {
        "id": "8nW898pwsj5V",
        "colab": {
          "base_uri": "https://localhost:8080/",
          "height": 206
        },
        "outputId": "1df515bb-4224-48a3-c972-795f1e29dc67"
      },
      "outputs": [
        {
          "output_type": "execute_result",
          "data": {
            "text/html": [
              "\n",
              "  <div id=\"df-0c65f1b9-548d-4334-abcd-f30d11ce3309\">\n",
              "    <div class=\"colab-df-container\">\n",
              "      <div>\n",
              "<style scoped>\n",
              "    .dataframe tbody tr th:only-of-type {\n",
              "        vertical-align: middle;\n",
              "    }\n",
              "\n",
              "    .dataframe tbody tr th {\n",
              "        vertical-align: top;\n",
              "    }\n",
              "\n",
              "    .dataframe thead th {\n",
              "        text-align: right;\n",
              "    }\n",
              "</style>\n",
              "<table border=\"1\" class=\"dataframe\">\n",
              "  <thead>\n",
              "    <tr style=\"text-align: right;\">\n",
              "      <th></th>\n",
              "      <th>Id</th>\n",
              "      <th>Predicted</th>\n",
              "    </tr>\n",
              "  </thead>\n",
              "  <tbody>\n",
              "    <tr>\n",
              "      <th>0</th>\n",
              "      <td>1</td>\n",
              "      <td>645810.180986</td>\n",
              "    </tr>\n",
              "    <tr>\n",
              "      <th>1</th>\n",
              "      <td>2</td>\n",
              "      <td>880820.265710</td>\n",
              "    </tr>\n",
              "    <tr>\n",
              "      <th>2</th>\n",
              "      <td>3</td>\n",
              "      <td>421973.234227</td>\n",
              "    </tr>\n",
              "    <tr>\n",
              "      <th>3</th>\n",
              "      <td>4</td>\n",
              "      <td>578681.751942</td>\n",
              "    </tr>\n",
              "    <tr>\n",
              "      <th>4</th>\n",
              "      <td>5</td>\n",
              "      <td>642490.004848</td>\n",
              "    </tr>\n",
              "  </tbody>\n",
              "</table>\n",
              "</div>\n",
              "      <button class=\"colab-df-convert\" onclick=\"convertToInteractive('df-0c65f1b9-548d-4334-abcd-f30d11ce3309')\"\n",
              "              title=\"Convert this dataframe to an interactive table.\"\n",
              "              style=\"display:none;\">\n",
              "        \n",
              "  <svg xmlns=\"http://www.w3.org/2000/svg\" height=\"24px\"viewBox=\"0 0 24 24\"\n",
              "       width=\"24px\">\n",
              "    <path d=\"M0 0h24v24H0V0z\" fill=\"none\"/>\n",
              "    <path d=\"M18.56 5.44l.94 2.06.94-2.06 2.06-.94-2.06-.94-.94-2.06-.94 2.06-2.06.94zm-11 1L8.5 8.5l.94-2.06 2.06-.94-2.06-.94L8.5 2.5l-.94 2.06-2.06.94zm10 10l.94 2.06.94-2.06 2.06-.94-2.06-.94-.94-2.06-.94 2.06-2.06.94z\"/><path d=\"M17.41 7.96l-1.37-1.37c-.4-.4-.92-.59-1.43-.59-.52 0-1.04.2-1.43.59L10.3 9.45l-7.72 7.72c-.78.78-.78 2.05 0 2.83L4 21.41c.39.39.9.59 1.41.59.51 0 1.02-.2 1.41-.59l7.78-7.78 2.81-2.81c.8-.78.8-2.07 0-2.86zM5.41 20L4 18.59l7.72-7.72 1.47 1.35L5.41 20z\"/>\n",
              "  </svg>\n",
              "      </button>\n",
              "      \n",
              "  <style>\n",
              "    .colab-df-container {\n",
              "      display:flex;\n",
              "      flex-wrap:wrap;\n",
              "      gap: 12px;\n",
              "    }\n",
              "\n",
              "    .colab-df-convert {\n",
              "      background-color: #E8F0FE;\n",
              "      border: none;\n",
              "      border-radius: 50%;\n",
              "      cursor: pointer;\n",
              "      display: none;\n",
              "      fill: #1967D2;\n",
              "      height: 32px;\n",
              "      padding: 0 0 0 0;\n",
              "      width: 32px;\n",
              "    }\n",
              "\n",
              "    .colab-df-convert:hover {\n",
              "      background-color: #E2EBFA;\n",
              "      box-shadow: 0px 1px 2px rgba(60, 64, 67, 0.3), 0px 1px 3px 1px rgba(60, 64, 67, 0.15);\n",
              "      fill: #174EA6;\n",
              "    }\n",
              "\n",
              "    [theme=dark] .colab-df-convert {\n",
              "      background-color: #3B4455;\n",
              "      fill: #D2E3FC;\n",
              "    }\n",
              "\n",
              "    [theme=dark] .colab-df-convert:hover {\n",
              "      background-color: #434B5C;\n",
              "      box-shadow: 0px 1px 3px 1px rgba(0, 0, 0, 0.15);\n",
              "      filter: drop-shadow(0px 1px 2px rgba(0, 0, 0, 0.3));\n",
              "      fill: #FFFFFF;\n",
              "    }\n",
              "  </style>\n",
              "\n",
              "      <script>\n",
              "        const buttonEl =\n",
              "          document.querySelector('#df-0c65f1b9-548d-4334-abcd-f30d11ce3309 button.colab-df-convert');\n",
              "        buttonEl.style.display =\n",
              "          google.colab.kernel.accessAllowed ? 'block' : 'none';\n",
              "\n",
              "        async function convertToInteractive(key) {\n",
              "          const element = document.querySelector('#df-0c65f1b9-548d-4334-abcd-f30d11ce3309');\n",
              "          const dataTable =\n",
              "            await google.colab.kernel.invokeFunction('convertToInteractive',\n",
              "                                                     [key], {});\n",
              "          if (!dataTable) return;\n",
              "\n",
              "          const docLinkHtml = 'Like what you see? Visit the ' +\n",
              "            '<a target=\"_blank\" href=https://colab.research.google.com/notebooks/data_table.ipynb>data table notebook</a>'\n",
              "            + ' to learn more about interactive tables.';\n",
              "          element.innerHTML = '';\n",
              "          dataTable['output_type'] = 'display_data';\n",
              "          await google.colab.output.renderOutput(dataTable, element);\n",
              "          const docLink = document.createElement('div');\n",
              "          docLink.innerHTML = docLinkHtml;\n",
              "          element.appendChild(docLink);\n",
              "        }\n",
              "      </script>\n",
              "    </div>\n",
              "  </div>\n",
              "  "
            ],
            "text/plain": [
              "   Id      Predicted\n",
              "0   1  645810.180986\n",
              "1   2  880820.265710\n",
              "2   3  421973.234227\n",
              "3   4  578681.751942\n",
              "4   5  642490.004848"
            ]
          },
          "metadata": {},
          "execution_count": 471
        }
      ],
      "source": [
        "predicted = reg1.predict(ftest)\n",
        "Sample = pd.DataFrame(data={'Id': np.arange(1, ftest.shape[0]+1), 'Predicted': predicted})\n",
        "\n",
        "Sample.head() "
      ]
    },
    {
      "cell_type": "code",
      "execution_count": null,
      "metadata": {
        "id": "sRlm1U66RL17",
        "colab": {
          "base_uri": "https://localhost:8080/"
        },
        "outputId": "661b819b-d31f-4447-a4fe-4edd4b79ba3c"
      },
      "outputs": [
        {
          "output_type": "stream",
          "name": "stdout",
          "text": [
            "RMSE: 132817.53293681418\n"
          ]
        }
      ],
      "source": [
        "target = pd.read_csv('/content/drive/MyDrive/Colab Notebooks/data/target1.csv')\n",
        "print('RMSE:', str(metrics.mean_squared_error(y_true=target.Predicted, y_pred=Sample.Predicted, squared=False)))"
      ]
    },
    {
      "cell_type": "code",
      "execution_count": null,
      "metadata": {
        "id": "UG041R4St_MW"
      },
      "outputs": [],
      "source": [
        "Sample.to_csv('/content/drive/MyDrive/Colab Notebooks/Data Preparation/Kieu_Son_Tung_11195614_LGBM2', index=False)"
      ]
    }
  ],
  "metadata": {
    "colab": {
      "collapsed_sections": [
        "C8uPdllCgKJk"
      ],
      "name": "Data Preparation Final_LGBM2.ipynb",
      "provenance": [],
      "toc_visible": true,
      "authorship_tag": "ABX9TyOcoUMaO33j+B3yHKNPnQXY",
      "include_colab_link": true
    },
    "kernelspec": {
      "display_name": "Python 3",
      "name": "python3"
    },
    "language_info": {
      "name": "python"
    }
  },
  "nbformat": 4,
  "nbformat_minor": 0
}