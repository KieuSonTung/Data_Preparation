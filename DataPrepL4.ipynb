{
  "nbformat": 4,
  "nbformat_minor": 0,
  "metadata": {
    "colab": {
      "name": "DataPrepL4.ipynb",
      "provenance": [],
      "authorship_tag": "ABX9TyMLR37l6N7uJ9ada+gypzok",
      "include_colab_link": true
    },
    "kernelspec": {
      "name": "python3",
      "display_name": "Python 3"
    },
    "language_info": {
      "name": "python"
    }
  },
  "cells": [
    {
      "cell_type": "markdown",
      "metadata": {
        "id": "view-in-github",
        "colab_type": "text"
      },
      "source": [
        "<a href=\"https://colab.research.google.com/github/KieuSonTung/Data_Preparation/blob/main/DataPrepL4.ipynb\" target=\"_parent\"><img src=\"https://colab.research.google.com/assets/colab-badge.svg\" alt=\"Open In Colab\"/></a>"
      ]
    },
    {
      "cell_type": "code",
      "metadata": {
        "id": "G8Hud1EO-KGo",
        "colab": {
          "base_uri": "https://localhost:8080/"
        },
        "outputId": "2e516456-ce47-46d9-dc12-ab037a5b8381"
      },
      "source": [
        "from google.colab import drive\n",
        "drive.mount('/content/drive/')"
      ],
      "execution_count": 1,
      "outputs": [
        {
          "output_type": "stream",
          "name": "stdout",
          "text": [
            "Mounted at /content/drive/\n"
          ]
        }
      ]
    },
    {
      "cell_type": "code",
      "metadata": {
        "id": "r8c1jzOQAqUp"
      },
      "source": [
        "import pandas as pd\n",
        "import numpy as np\n"
      ],
      "execution_count": 2,
      "outputs": []
    },
    {
      "cell_type": "code",
      "metadata": {
        "id": "0xI6XKnE_52a"
      },
      "source": [
        "Path = 'drive/MyDrive/ColabNotebooks/data/5.Numpy/'\n",
        "nyc_weather = pd.read_csv(Path+'nyc_weather_2018.csv')\n",
        "weather_station = pd.read_csv(Path+'weather_stations.csv')\n",
        "fb = pd.read_csv(Path+'fb_2018.csv')\n",
        "earthquake = pd.read_csv('drive/MyDrive/ColabNotebooks/data/earthquakes.csv')\n",
        "weather_by_station = pd.read_csv('/content/drive/MyDrive/ColabNotebooks/data/5.Numpy/weather_by_station.csv')"
      ],
      "execution_count": 4,
      "outputs": []
    },
    {
      "cell_type": "code",
      "metadata": {
        "colab": {
          "base_uri": "https://localhost:8080/"
        },
        "id": "yrlgveTXBelQ",
        "outputId": "e4888b22-ad22-4ff5-dc9c-d7b07043e3a9"
      },
      "source": [
        "nyc_weather.shape"
      ],
      "execution_count": 46,
      "outputs": [
        {
          "output_type": "execute_result",
          "data": {
            "text/plain": [
              "(78780, 5)"
            ]
          },
          "metadata": {},
          "execution_count": 46
        }
      ]
    },
    {
      "cell_type": "code",
      "metadata": {
        "colab": {
          "base_uri": "https://localhost:8080/",
          "height": 204
        },
        "id": "90-YAprESv4v",
        "outputId": "b0f1e3c4-b9c2-454c-b320-d50c97f84afa"
      },
      "source": [
        "nyc_weather.head()"
      ],
      "execution_count": 48,
      "outputs": [
        {
          "output_type": "execute_result",
          "data": {
            "text/html": [
              "<div>\n",
              "<style scoped>\n",
              "    .dataframe tbody tr th:only-of-type {\n",
              "        vertical-align: middle;\n",
              "    }\n",
              "\n",
              "    .dataframe tbody tr th {\n",
              "        vertical-align: top;\n",
              "    }\n",
              "\n",
              "    .dataframe thead th {\n",
              "        text-align: right;\n",
              "    }\n",
              "</style>\n",
              "<table border=\"1\" class=\"dataframe\">\n",
              "  <thead>\n",
              "    <tr style=\"text-align: right;\">\n",
              "      <th></th>\n",
              "      <th>date</th>\n",
              "      <th>datatype</th>\n",
              "      <th>station</th>\n",
              "      <th>attributes</th>\n",
              "      <th>value</th>\n",
              "    </tr>\n",
              "  </thead>\n",
              "  <tbody>\n",
              "    <tr>\n",
              "      <th>0</th>\n",
              "      <td>2018-01-01T00:00:00</td>\n",
              "      <td>PRCP</td>\n",
              "      <td>GHCND:US1CTFR0039</td>\n",
              "      <td>,,N,</td>\n",
              "      <td>0.0</td>\n",
              "    </tr>\n",
              "    <tr>\n",
              "      <th>1</th>\n",
              "      <td>2018-01-01T00:00:00</td>\n",
              "      <td>PRCP</td>\n",
              "      <td>GHCND:US1NJBG0015</td>\n",
              "      <td>,,N,</td>\n",
              "      <td>0.0</td>\n",
              "    </tr>\n",
              "    <tr>\n",
              "      <th>2</th>\n",
              "      <td>2018-01-01T00:00:00</td>\n",
              "      <td>SNOW</td>\n",
              "      <td>GHCND:US1NJBG0015</td>\n",
              "      <td>,,N,</td>\n",
              "      <td>0.0</td>\n",
              "    </tr>\n",
              "    <tr>\n",
              "      <th>3</th>\n",
              "      <td>2018-01-01T00:00:00</td>\n",
              "      <td>PRCP</td>\n",
              "      <td>GHCND:US1NJBG0017</td>\n",
              "      <td>,,N,</td>\n",
              "      <td>0.0</td>\n",
              "    </tr>\n",
              "    <tr>\n",
              "      <th>4</th>\n",
              "      <td>2018-01-01T00:00:00</td>\n",
              "      <td>SNOW</td>\n",
              "      <td>GHCND:US1NJBG0017</td>\n",
              "      <td>,,N,</td>\n",
              "      <td>0.0</td>\n",
              "    </tr>\n",
              "  </tbody>\n",
              "</table>\n",
              "</div>"
            ],
            "text/plain": [
              "                  date datatype            station attributes  value\n",
              "0  2018-01-01T00:00:00     PRCP  GHCND:US1CTFR0039       ,,N,    0.0\n",
              "1  2018-01-01T00:00:00     PRCP  GHCND:US1NJBG0015       ,,N,    0.0\n",
              "2  2018-01-01T00:00:00     SNOW  GHCND:US1NJBG0015       ,,N,    0.0\n",
              "3  2018-01-01T00:00:00     PRCP  GHCND:US1NJBG0017       ,,N,    0.0\n",
              "4  2018-01-01T00:00:00     SNOW  GHCND:US1NJBG0017       ,,N,    0.0"
            ]
          },
          "metadata": {},
          "execution_count": 48
        }
      ]
    },
    {
      "cell_type": "code",
      "metadata": {
        "colab": {
          "base_uri": "https://localhost:8080/"
        },
        "id": "w_YFGIaISV4V",
        "outputId": "2ab5c295-3884-49f3-b129-03fcf8845a09"
      },
      "source": [
        "weather_station.shape"
      ],
      "execution_count": 47,
      "outputs": [
        {
          "output_type": "execute_result",
          "data": {
            "text/plain": [
              "(279, 5)"
            ]
          },
          "metadata": {},
          "execution_count": 47
        }
      ]
    },
    {
      "cell_type": "code",
      "metadata": {
        "colab": {
          "base_uri": "https://localhost:8080/",
          "height": 204
        },
        "id": "melAJePKSzjm",
        "outputId": "78755a21-29c6-448f-e9d0-24ea79cda20e"
      },
      "source": [
        "weather_station.head()"
      ],
      "execution_count": 49,
      "outputs": [
        {
          "output_type": "execute_result",
          "data": {
            "text/html": [
              "<div>\n",
              "<style scoped>\n",
              "    .dataframe tbody tr th:only-of-type {\n",
              "        vertical-align: middle;\n",
              "    }\n",
              "\n",
              "    .dataframe tbody tr th {\n",
              "        vertical-align: top;\n",
              "    }\n",
              "\n",
              "    .dataframe thead th {\n",
              "        text-align: right;\n",
              "    }\n",
              "</style>\n",
              "<table border=\"1\" class=\"dataframe\">\n",
              "  <thead>\n",
              "    <tr style=\"text-align: right;\">\n",
              "      <th></th>\n",
              "      <th>id</th>\n",
              "      <th>name</th>\n",
              "      <th>latitude</th>\n",
              "      <th>longitude</th>\n",
              "      <th>elevation</th>\n",
              "    </tr>\n",
              "  </thead>\n",
              "  <tbody>\n",
              "    <tr>\n",
              "      <th>0</th>\n",
              "      <td>GHCND:US1CTFR0022</td>\n",
              "      <td>STAMFORD 2.6 SSW, CT US</td>\n",
              "      <td>41.064100</td>\n",
              "      <td>-73.577000</td>\n",
              "      <td>36.6</td>\n",
              "    </tr>\n",
              "    <tr>\n",
              "      <th>1</th>\n",
              "      <td>GHCND:US1CTFR0039</td>\n",
              "      <td>STAMFORD 4.2 S, CT US</td>\n",
              "      <td>41.037788</td>\n",
              "      <td>-73.568176</td>\n",
              "      <td>6.4</td>\n",
              "    </tr>\n",
              "    <tr>\n",
              "      <th>2</th>\n",
              "      <td>GHCND:US1NJBG0001</td>\n",
              "      <td>BERGENFIELD 0.3 SW, NJ US</td>\n",
              "      <td>40.921298</td>\n",
              "      <td>-74.001983</td>\n",
              "      <td>20.1</td>\n",
              "    </tr>\n",
              "    <tr>\n",
              "      <th>3</th>\n",
              "      <td>GHCND:US1NJBG0002</td>\n",
              "      <td>SADDLE BROOK TWP 0.6 E, NJ US</td>\n",
              "      <td>40.902694</td>\n",
              "      <td>-74.083358</td>\n",
              "      <td>16.8</td>\n",
              "    </tr>\n",
              "    <tr>\n",
              "      <th>4</th>\n",
              "      <td>GHCND:US1NJBG0003</td>\n",
              "      <td>TENAFLY 1.3 W, NJ US</td>\n",
              "      <td>40.914670</td>\n",
              "      <td>-73.977500</td>\n",
              "      <td>21.6</td>\n",
              "    </tr>\n",
              "  </tbody>\n",
              "</table>\n",
              "</div>"
            ],
            "text/plain": [
              "                  id                           name  ...  longitude  elevation\n",
              "0  GHCND:US1CTFR0022        STAMFORD 2.6 SSW, CT US  ... -73.577000       36.6\n",
              "1  GHCND:US1CTFR0039          STAMFORD 4.2 S, CT US  ... -73.568176        6.4\n",
              "2  GHCND:US1NJBG0001      BERGENFIELD 0.3 SW, NJ US  ... -74.001983       20.1\n",
              "3  GHCND:US1NJBG0002  SADDLE BROOK TWP 0.6 E, NJ US  ... -74.083358       16.8\n",
              "4  GHCND:US1NJBG0003           TENAFLY 1.3 W, NJ US  ... -73.977500       21.6\n",
              "\n",
              "[5 rows x 5 columns]"
            ]
          },
          "metadata": {},
          "execution_count": 49
        }
      ]
    },
    {
      "cell_type": "code",
      "metadata": {
        "colab": {
          "base_uri": "https://localhost:8080/",
          "height": 204
        },
        "id": "AvcL11GO_Oca",
        "outputId": "7e2f1bbe-e96d-4d3f-d7ad-f3d37b880749"
      },
      "source": [
        "nyc_weather.query('datatype == \"SNOW\" and value > 0 and station.str.contains(\"US1NY\").values').head()"
      ],
      "execution_count": 14,
      "outputs": [
        {
          "output_type": "execute_result",
          "data": {
            "text/html": [
              "<div>\n",
              "<style scoped>\n",
              "    .dataframe tbody tr th:only-of-type {\n",
              "        vertical-align: middle;\n",
              "    }\n",
              "\n",
              "    .dataframe tbody tr th {\n",
              "        vertical-align: top;\n",
              "    }\n",
              "\n",
              "    .dataframe thead th {\n",
              "        text-align: right;\n",
              "    }\n",
              "</style>\n",
              "<table border=\"1\" class=\"dataframe\">\n",
              "  <thead>\n",
              "    <tr style=\"text-align: right;\">\n",
              "      <th></th>\n",
              "      <th>date</th>\n",
              "      <th>datatype</th>\n",
              "      <th>station</th>\n",
              "      <th>attributes</th>\n",
              "      <th>value</th>\n",
              "    </tr>\n",
              "  </thead>\n",
              "  <tbody>\n",
              "    <tr>\n",
              "      <th>114</th>\n",
              "      <td>2018-01-01T00:00:00</td>\n",
              "      <td>SNOW</td>\n",
              "      <td>GHCND:US1NYWC0019</td>\n",
              "      <td>,,N,</td>\n",
              "      <td>25.0</td>\n",
              "    </tr>\n",
              "    <tr>\n",
              "      <th>789</th>\n",
              "      <td>2018-01-04T00:00:00</td>\n",
              "      <td>SNOW</td>\n",
              "      <td>GHCND:US1NYNS0007</td>\n",
              "      <td>,,N,</td>\n",
              "      <td>41.0</td>\n",
              "    </tr>\n",
              "    <tr>\n",
              "      <th>794</th>\n",
              "      <td>2018-01-04T00:00:00</td>\n",
              "      <td>SNOW</td>\n",
              "      <td>GHCND:US1NYNS0018</td>\n",
              "      <td>,,N,</td>\n",
              "      <td>10.0</td>\n",
              "    </tr>\n",
              "    <tr>\n",
              "      <th>798</th>\n",
              "      <td>2018-01-04T00:00:00</td>\n",
              "      <td>SNOW</td>\n",
              "      <td>GHCND:US1NYNS0024</td>\n",
              "      <td>,,N,</td>\n",
              "      <td>89.0</td>\n",
              "    </tr>\n",
              "    <tr>\n",
              "      <th>800</th>\n",
              "      <td>2018-01-04T00:00:00</td>\n",
              "      <td>SNOW</td>\n",
              "      <td>GHCND:US1NYNS0030</td>\n",
              "      <td>,,N,</td>\n",
              "      <td>102.0</td>\n",
              "    </tr>\n",
              "  </tbody>\n",
              "</table>\n",
              "</div>"
            ],
            "text/plain": [
              "                    date datatype            station attributes  value\n",
              "114  2018-01-01T00:00:00     SNOW  GHCND:US1NYWC0019       ,,N,   25.0\n",
              "789  2018-01-04T00:00:00     SNOW  GHCND:US1NYNS0007       ,,N,   41.0\n",
              "794  2018-01-04T00:00:00     SNOW  GHCND:US1NYNS0018       ,,N,   10.0\n",
              "798  2018-01-04T00:00:00     SNOW  GHCND:US1NYNS0024       ,,N,   89.0\n",
              "800  2018-01-04T00:00:00     SNOW  GHCND:US1NYNS0030       ,,N,  102.0"
            ]
          },
          "metadata": {},
          "execution_count": 14
        }
      ]
    },
    {
      "cell_type": "code",
      "metadata": {
        "colab": {
          "base_uri": "https://localhost:8080/",
          "height": 204
        },
        "id": "9wDiN8eFBF8B",
        "outputId": "2dfe9c42-577c-4ae2-8cb6-4bab7a048d6b"
      },
      "source": [
        "# df = nyc_weather.merge(weather_station, left_on='station', right_on='id', how='right').drop(columns='id')\n",
        "df = nyc_weather.merge(weather_station.rename(columns={'id':'station'}), on='station')\n",
        "df.head(5)\n"
      ],
      "execution_count": 16,
      "outputs": [
        {
          "output_type": "execute_result",
          "data": {
            "text/html": [
              "<div>\n",
              "<style scoped>\n",
              "    .dataframe tbody tr th:only-of-type {\n",
              "        vertical-align: middle;\n",
              "    }\n",
              "\n",
              "    .dataframe tbody tr th {\n",
              "        vertical-align: top;\n",
              "    }\n",
              "\n",
              "    .dataframe thead th {\n",
              "        text-align: right;\n",
              "    }\n",
              "</style>\n",
              "<table border=\"1\" class=\"dataframe\">\n",
              "  <thead>\n",
              "    <tr style=\"text-align: right;\">\n",
              "      <th></th>\n",
              "      <th>date</th>\n",
              "      <th>datatype</th>\n",
              "      <th>station</th>\n",
              "      <th>attributes</th>\n",
              "      <th>value</th>\n",
              "      <th>name</th>\n",
              "      <th>latitude</th>\n",
              "      <th>longitude</th>\n",
              "      <th>elevation</th>\n",
              "    </tr>\n",
              "  </thead>\n",
              "  <tbody>\n",
              "    <tr>\n",
              "      <th>0</th>\n",
              "      <td>2018-01-01T00:00:00</td>\n",
              "      <td>PRCP</td>\n",
              "      <td>GHCND:US1CTFR0039</td>\n",
              "      <td>,,N,</td>\n",
              "      <td>0.0</td>\n",
              "      <td>STAMFORD 4.2 S, CT US</td>\n",
              "      <td>41.037788</td>\n",
              "      <td>-73.568176</td>\n",
              "      <td>6.4</td>\n",
              "    </tr>\n",
              "    <tr>\n",
              "      <th>1</th>\n",
              "      <td>2018-01-02T00:00:00</td>\n",
              "      <td>PRCP</td>\n",
              "      <td>GHCND:US1CTFR0039</td>\n",
              "      <td>,,N,</td>\n",
              "      <td>0.0</td>\n",
              "      <td>STAMFORD 4.2 S, CT US</td>\n",
              "      <td>41.037788</td>\n",
              "      <td>-73.568176</td>\n",
              "      <td>6.4</td>\n",
              "    </tr>\n",
              "    <tr>\n",
              "      <th>2</th>\n",
              "      <td>2018-01-03T00:00:00</td>\n",
              "      <td>PRCP</td>\n",
              "      <td>GHCND:US1CTFR0039</td>\n",
              "      <td>,,N,</td>\n",
              "      <td>0.0</td>\n",
              "      <td>STAMFORD 4.2 S, CT US</td>\n",
              "      <td>41.037788</td>\n",
              "      <td>-73.568176</td>\n",
              "      <td>6.4</td>\n",
              "    </tr>\n",
              "    <tr>\n",
              "      <th>3</th>\n",
              "      <td>2018-01-05T00:00:00</td>\n",
              "      <td>DAPR</td>\n",
              "      <td>GHCND:US1CTFR0039</td>\n",
              "      <td>,,N,</td>\n",
              "      <td>2.0</td>\n",
              "      <td>STAMFORD 4.2 S, CT US</td>\n",
              "      <td>41.037788</td>\n",
              "      <td>-73.568176</td>\n",
              "      <td>6.4</td>\n",
              "    </tr>\n",
              "    <tr>\n",
              "      <th>4</th>\n",
              "      <td>2018-01-05T00:00:00</td>\n",
              "      <td>MDPR</td>\n",
              "      <td>GHCND:US1CTFR0039</td>\n",
              "      <td>,,N,</td>\n",
              "      <td>15.5</td>\n",
              "      <td>STAMFORD 4.2 S, CT US</td>\n",
              "      <td>41.037788</td>\n",
              "      <td>-73.568176</td>\n",
              "      <td>6.4</td>\n",
              "    </tr>\n",
              "  </tbody>\n",
              "</table>\n",
              "</div>"
            ],
            "text/plain": [
              "                  date datatype  ...  longitude elevation\n",
              "0  2018-01-01T00:00:00     PRCP  ... -73.568176       6.4\n",
              "1  2018-01-02T00:00:00     PRCP  ... -73.568176       6.4\n",
              "2  2018-01-03T00:00:00     PRCP  ... -73.568176       6.4\n",
              "3  2018-01-05T00:00:00     DAPR  ... -73.568176       6.4\n",
              "4  2018-01-05T00:00:00     MDPR  ... -73.568176       6.4\n",
              "\n",
              "[5 rows x 9 columns]"
            ]
          },
          "metadata": {},
          "execution_count": 16
        }
      ]
    },
    {
      "cell_type": "code",
      "metadata": {
        "colab": {
          "base_uri": "https://localhost:8080/",
          "height": 419
        },
        "id": "JnxXw_VdT9vA",
        "outputId": "6a3676a1-71e2-4b25-e401-d8f24b0f3130"
      },
      "source": [
        "nyc_weather.query('date==\"2018-01-03T00:00:00\"')"
      ],
      "execution_count": 54,
      "outputs": [
        {
          "output_type": "execute_result",
          "data": {
            "text/html": [
              "<div>\n",
              "<style scoped>\n",
              "    .dataframe tbody tr th:only-of-type {\n",
              "        vertical-align: middle;\n",
              "    }\n",
              "\n",
              "    .dataframe tbody tr th {\n",
              "        vertical-align: top;\n",
              "    }\n",
              "\n",
              "    .dataframe thead th {\n",
              "        text-align: right;\n",
              "    }\n",
              "</style>\n",
              "<table border=\"1\" class=\"dataframe\">\n",
              "  <thead>\n",
              "    <tr style=\"text-align: right;\">\n",
              "      <th></th>\n",
              "      <th>date</th>\n",
              "      <th>datatype</th>\n",
              "      <th>station</th>\n",
              "      <th>attributes</th>\n",
              "      <th>value</th>\n",
              "    </tr>\n",
              "  </thead>\n",
              "  <tbody>\n",
              "    <tr>\n",
              "      <th>461</th>\n",
              "      <td>2018-01-03T00:00:00</td>\n",
              "      <td>PRCP</td>\n",
              "      <td>GHCND:US1CTFR0039</td>\n",
              "      <td>,,N,</td>\n",
              "      <td>0.0</td>\n",
              "    </tr>\n",
              "    <tr>\n",
              "      <th>462</th>\n",
              "      <td>2018-01-03T00:00:00</td>\n",
              "      <td>PRCP</td>\n",
              "      <td>GHCND:US1NJBG0015</td>\n",
              "      <td>,,N,</td>\n",
              "      <td>0.0</td>\n",
              "    </tr>\n",
              "    <tr>\n",
              "      <th>463</th>\n",
              "      <td>2018-01-03T00:00:00</td>\n",
              "      <td>SNOW</td>\n",
              "      <td>GHCND:US1NJBG0015</td>\n",
              "      <td>,,N,</td>\n",
              "      <td>0.0</td>\n",
              "    </tr>\n",
              "    <tr>\n",
              "      <th>464</th>\n",
              "      <td>2018-01-03T00:00:00</td>\n",
              "      <td>PRCP</td>\n",
              "      <td>GHCND:US1NJBG0017</td>\n",
              "      <td>,,N,</td>\n",
              "      <td>0.0</td>\n",
              "    </tr>\n",
              "    <tr>\n",
              "      <th>465</th>\n",
              "      <td>2018-01-03T00:00:00</td>\n",
              "      <td>SNOW</td>\n",
              "      <td>GHCND:US1NJBG0017</td>\n",
              "      <td>,,N,</td>\n",
              "      <td>0.0</td>\n",
              "    </tr>\n",
              "    <tr>\n",
              "      <th>...</th>\n",
              "      <td>...</td>\n",
              "      <td>...</td>\n",
              "      <td>...</td>\n",
              "      <td>...</td>\n",
              "      <td>...</td>\n",
              "    </tr>\n",
              "    <tr>\n",
              "      <th>693</th>\n",
              "      <td>2018-01-03T00:00:00</td>\n",
              "      <td>TMIN</td>\n",
              "      <td>GHCND:USW00094789</td>\n",
              "      <td>,,W,2400</td>\n",
              "      <td>-11.0</td>\n",
              "    </tr>\n",
              "    <tr>\n",
              "      <th>694</th>\n",
              "      <td>2018-01-03T00:00:00</td>\n",
              "      <td>WDF2</td>\n",
              "      <td>GHCND:USW00094789</td>\n",
              "      <td>,,W,</td>\n",
              "      <td>260.0</td>\n",
              "    </tr>\n",
              "    <tr>\n",
              "      <th>695</th>\n",
              "      <td>2018-01-03T00:00:00</td>\n",
              "      <td>WDF5</td>\n",
              "      <td>GHCND:USW00094789</td>\n",
              "      <td>,,W,</td>\n",
              "      <td>270.0</td>\n",
              "    </tr>\n",
              "    <tr>\n",
              "      <th>696</th>\n",
              "      <td>2018-01-03T00:00:00</td>\n",
              "      <td>WSF2</td>\n",
              "      <td>GHCND:USW00094789</td>\n",
              "      <td>,,W,</td>\n",
              "      <td>8.9</td>\n",
              "    </tr>\n",
              "    <tr>\n",
              "      <th>697</th>\n",
              "      <td>2018-01-03T00:00:00</td>\n",
              "      <td>WSF5</td>\n",
              "      <td>GHCND:USW00094789</td>\n",
              "      <td>,,W,</td>\n",
              "      <td>10.3</td>\n",
              "    </tr>\n",
              "  </tbody>\n",
              "</table>\n",
              "<p>237 rows × 5 columns</p>\n",
              "</div>"
            ],
            "text/plain": [
              "                    date datatype            station attributes  value\n",
              "461  2018-01-03T00:00:00     PRCP  GHCND:US1CTFR0039       ,,N,    0.0\n",
              "462  2018-01-03T00:00:00     PRCP  GHCND:US1NJBG0015       ,,N,    0.0\n",
              "463  2018-01-03T00:00:00     SNOW  GHCND:US1NJBG0015       ,,N,    0.0\n",
              "464  2018-01-03T00:00:00     PRCP  GHCND:US1NJBG0017       ,,N,    0.0\n",
              "465  2018-01-03T00:00:00     SNOW  GHCND:US1NJBG0017       ,,N,    0.0\n",
              "..                   ...      ...                ...        ...    ...\n",
              "693  2018-01-03T00:00:00     TMIN  GHCND:USW00094789   ,,W,2400  -11.0\n",
              "694  2018-01-03T00:00:00     WDF2  GHCND:USW00094789       ,,W,  260.0\n",
              "695  2018-01-03T00:00:00     WDF5  GHCND:USW00094789       ,,W,  270.0\n",
              "696  2018-01-03T00:00:00     WSF2  GHCND:USW00094789       ,,W,    8.9\n",
              "697  2018-01-03T00:00:00     WSF5  GHCND:USW00094789       ,,W,   10.3\n",
              "\n",
              "[237 rows x 5 columns]"
            ]
          },
          "metadata": {},
          "execution_count": 54
        }
      ]
    },
    {
      "cell_type": "code",
      "metadata": {
        "colab": {
          "base_uri": "https://localhost:8080/"
        },
        "id": "Z6hKPAffG79L",
        "outputId": "fc6faa5e-b91b-46a4-b393-3dd8ddfa3b74"
      },
      "source": [
        "weather_station.id.unique().shape"
      ],
      "execution_count": 55,
      "outputs": [
        {
          "output_type": "execute_result",
          "data": {
            "text/plain": [
              "(279,)"
            ]
          },
          "metadata": {},
          "execution_count": 55
        }
      ]
    },
    {
      "cell_type": "code",
      "metadata": {
        "colab": {
          "base_uri": "https://localhost:8080/",
          "height": 419
        },
        "id": "g4Cp_t01OIxH",
        "outputId": "ef26a9b7-79a5-4514-ccac-c0c5cd70babd"
      },
      "source": [
        "df[(df.datatype.str.contains('SNOW')) & (df.name.str.contains('NJ US'))]"
      ],
      "execution_count": 25,
      "outputs": [
        {
          "output_type": "execute_result",
          "data": {
            "text/html": [
              "<div>\n",
              "<style scoped>\n",
              "    .dataframe tbody tr th:only-of-type {\n",
              "        vertical-align: middle;\n",
              "    }\n",
              "\n",
              "    .dataframe tbody tr th {\n",
              "        vertical-align: top;\n",
              "    }\n",
              "\n",
              "    .dataframe thead th {\n",
              "        text-align: right;\n",
              "    }\n",
              "</style>\n",
              "<table border=\"1\" class=\"dataframe\">\n",
              "  <thead>\n",
              "    <tr style=\"text-align: right;\">\n",
              "      <th></th>\n",
              "      <th>date</th>\n",
              "      <th>datatype</th>\n",
              "      <th>station</th>\n",
              "      <th>attributes</th>\n",
              "      <th>value</th>\n",
              "      <th>name</th>\n",
              "      <th>latitude</th>\n",
              "      <th>longitude</th>\n",
              "      <th>elevation</th>\n",
              "    </tr>\n",
              "  </thead>\n",
              "  <tbody>\n",
              "    <tr>\n",
              "      <th>344</th>\n",
              "      <td>2018-01-01T00:00:00</td>\n",
              "      <td>SNOW</td>\n",
              "      <td>GHCND:US1NJBG0015</td>\n",
              "      <td>,,N,</td>\n",
              "      <td>0.0</td>\n",
              "      <td>NORTH ARLINGTON 0.7 WNW, NJ US</td>\n",
              "      <td>40.791492</td>\n",
              "      <td>-74.13979</td>\n",
              "      <td>17.7</td>\n",
              "    </tr>\n",
              "    <tr>\n",
              "      <th>346</th>\n",
              "      <td>2018-01-02T00:00:00</td>\n",
              "      <td>SNOW</td>\n",
              "      <td>GHCND:US1NJBG0015</td>\n",
              "      <td>,,N,</td>\n",
              "      <td>0.0</td>\n",
              "      <td>NORTH ARLINGTON 0.7 WNW, NJ US</td>\n",
              "      <td>40.791492</td>\n",
              "      <td>-74.13979</td>\n",
              "      <td>17.7</td>\n",
              "    </tr>\n",
              "    <tr>\n",
              "      <th>348</th>\n",
              "      <td>2018-01-03T00:00:00</td>\n",
              "      <td>SNOW</td>\n",
              "      <td>GHCND:US1NJBG0015</td>\n",
              "      <td>,,N,</td>\n",
              "      <td>0.0</td>\n",
              "      <td>NORTH ARLINGTON 0.7 WNW, NJ US</td>\n",
              "      <td>40.791492</td>\n",
              "      <td>-74.13979</td>\n",
              "      <td>17.7</td>\n",
              "    </tr>\n",
              "    <tr>\n",
              "      <th>350</th>\n",
              "      <td>2018-01-04T00:00:00</td>\n",
              "      <td>SNOW</td>\n",
              "      <td>GHCND:US1NJBG0015</td>\n",
              "      <td>,,N,</td>\n",
              "      <td>229.0</td>\n",
              "      <td>NORTH ARLINGTON 0.7 WNW, NJ US</td>\n",
              "      <td>40.791492</td>\n",
              "      <td>-74.13979</td>\n",
              "      <td>17.7</td>\n",
              "    </tr>\n",
              "    <tr>\n",
              "      <th>354</th>\n",
              "      <td>2018-01-06T00:00:00</td>\n",
              "      <td>SNOW</td>\n",
              "      <td>GHCND:US1NJBG0015</td>\n",
              "      <td>,,N,</td>\n",
              "      <td>0.0</td>\n",
              "      <td>NORTH ARLINGTON 0.7 WNW, NJ US</td>\n",
              "      <td>40.791492</td>\n",
              "      <td>-74.13979</td>\n",
              "      <td>17.7</td>\n",
              "    </tr>\n",
              "    <tr>\n",
              "      <th>...</th>\n",
              "      <td>...</td>\n",
              "      <td>...</td>\n",
              "      <td>...</td>\n",
              "      <td>...</td>\n",
              "      <td>...</td>\n",
              "      <td>...</td>\n",
              "      <td>...</td>\n",
              "      <td>...</td>\n",
              "      <td>...</td>\n",
              "    </tr>\n",
              "    <tr>\n",
              "      <th>78736</th>\n",
              "      <td>2018-12-26T00:00:00</td>\n",
              "      <td>SNOW</td>\n",
              "      <td>GHCND:US1NJMD0088</td>\n",
              "      <td>,,N,</td>\n",
              "      <td>0.0</td>\n",
              "      <td>METUCHEN 3.3 N, NJ US</td>\n",
              "      <td>40.588840</td>\n",
              "      <td>-74.37212</td>\n",
              "      <td>27.4</td>\n",
              "    </tr>\n",
              "    <tr>\n",
              "      <th>78738</th>\n",
              "      <td>2018-12-27T00:00:00</td>\n",
              "      <td>SNOW</td>\n",
              "      <td>GHCND:US1NJMD0088</td>\n",
              "      <td>,,N,</td>\n",
              "      <td>0.0</td>\n",
              "      <td>METUCHEN 3.3 N, NJ US</td>\n",
              "      <td>40.588840</td>\n",
              "      <td>-74.37212</td>\n",
              "      <td>27.4</td>\n",
              "    </tr>\n",
              "    <tr>\n",
              "      <th>78742</th>\n",
              "      <td>2018-12-31T00:00:00</td>\n",
              "      <td>SNOW</td>\n",
              "      <td>GHCND:US1NJMD0088</td>\n",
              "      <td>,,N,</td>\n",
              "      <td>0.0</td>\n",
              "      <td>METUCHEN 3.3 N, NJ US</td>\n",
              "      <td>40.588840</td>\n",
              "      <td>-74.37212</td>\n",
              "      <td>27.4</td>\n",
              "    </tr>\n",
              "    <tr>\n",
              "      <th>78759</th>\n",
              "      <td>2018-12-24T00:00:00</td>\n",
              "      <td>SNOW</td>\n",
              "      <td>GHCND:US1NJES0040</td>\n",
              "      <td>T,,N,</td>\n",
              "      <td>0.0</td>\n",
              "      <td>VERONA TWP 0.8 W, NJ US</td>\n",
              "      <td>40.832600</td>\n",
              "      <td>-74.25830</td>\n",
              "      <td>161.2</td>\n",
              "    </tr>\n",
              "    <tr>\n",
              "      <th>78768</th>\n",
              "      <td>2018-12-30T00:00:00</td>\n",
              "      <td>SNOW</td>\n",
              "      <td>GHCND:US1NJES0040</td>\n",
              "      <td>T,,N,</td>\n",
              "      <td>0.0</td>\n",
              "      <td>VERONA TWP 0.8 W, NJ US</td>\n",
              "      <td>40.832600</td>\n",
              "      <td>-74.25830</td>\n",
              "      <td>161.2</td>\n",
              "    </tr>\n",
              "  </tbody>\n",
              "</table>\n",
              "<p>8347 rows × 9 columns</p>\n",
              "</div>"
            ],
            "text/plain": [
              "                      date datatype  ... longitude elevation\n",
              "344    2018-01-01T00:00:00     SNOW  ... -74.13979      17.7\n",
              "346    2018-01-02T00:00:00     SNOW  ... -74.13979      17.7\n",
              "348    2018-01-03T00:00:00     SNOW  ... -74.13979      17.7\n",
              "350    2018-01-04T00:00:00     SNOW  ... -74.13979      17.7\n",
              "354    2018-01-06T00:00:00     SNOW  ... -74.13979      17.7\n",
              "...                    ...      ...  ...       ...       ...\n",
              "78736  2018-12-26T00:00:00     SNOW  ... -74.37212      27.4\n",
              "78738  2018-12-27T00:00:00     SNOW  ... -74.37212      27.4\n",
              "78742  2018-12-31T00:00:00     SNOW  ... -74.37212      27.4\n",
              "78759  2018-12-24T00:00:00     SNOW  ... -74.25830     161.2\n",
              "78768  2018-12-30T00:00:00     SNOW  ... -74.25830     161.2\n",
              "\n",
              "[8347 rows x 9 columns]"
            ]
          },
          "metadata": {},
          "execution_count": 25
        }
      ]
    },
    {
      "cell_type": "code",
      "metadata": {
        "colab": {
          "base_uri": "https://localhost:8080/"
        },
        "id": "QZQjhzcyOSfF",
        "outputId": "7737b82d-4662-4eab-a789-d796ec6b05cc"
      },
      "source": [
        "nyc_weather[nyc_weather.datatype == 'SNOW'].station.unique().shape"
      ],
      "execution_count": null,
      "outputs": [
        {
          "output_type": "execute_result",
          "data": {
            "text/plain": [
              "(98,)"
            ]
          },
          "metadata": {},
          "execution_count": 57
        }
      ]
    },
    {
      "cell_type": "code",
      "metadata": {
        "colab": {
          "base_uri": "https://localhost:8080/"
        },
        "id": "Dqb3ptYSB24u",
        "outputId": "837725ae-b7a5-490b-de05-a949d9a141df"
      },
      "source": [
        "df[(df.datatype.str.contains('SNOW')) & (df.name.str.contains('NJ US'))].drop_duplicates(subset=['station', 'datatype']).elevation.mean()"
      ],
      "execution_count": null,
      "outputs": [
        {
          "output_type": "execute_result",
          "data": {
            "text/plain": [
              "58.348484848484865"
            ]
          },
          "metadata": {},
          "execution_count": 48
        }
      ]
    },
    {
      "cell_type": "code",
      "metadata": {
        "colab": {
          "base_uri": "https://localhost:8080/"
        },
        "id": "WA1MdDDpL19R",
        "outputId": "ec320ae8-2d62-45fa-acbd-1d0bfcd48e8b"
      },
      "source": [
        "df[(df.datatype.str.contains('SNOW')) & (df.name.str.contains('NJ US'))].drop_duplicates(subset=['station', 'datatype']).shape"
      ],
      "execution_count": null,
      "outputs": [
        {
          "output_type": "execute_result",
          "data": {
            "text/plain": [
              "(66, 9)"
            ]
          },
          "metadata": {},
          "execution_count": 49
        }
      ]
    },
    {
      "cell_type": "code",
      "metadata": {
        "colab": {
          "base_uri": "https://localhost:8080/",
          "height": 204
        },
        "id": "mskFSlkTQfpM",
        "outputId": "e11880ac-35d0-4003-8645-3e14b6b8fb87"
      },
      "source": [
        "fb.head(5)"
      ],
      "execution_count": 31,
      "outputs": [
        {
          "output_type": "execute_result",
          "data": {
            "text/html": [
              "<div>\n",
              "<style scoped>\n",
              "    .dataframe tbody tr th:only-of-type {\n",
              "        vertical-align: middle;\n",
              "    }\n",
              "\n",
              "    .dataframe tbody tr th {\n",
              "        vertical-align: top;\n",
              "    }\n",
              "\n",
              "    .dataframe thead th {\n",
              "        text-align: right;\n",
              "    }\n",
              "</style>\n",
              "<table border=\"1\" class=\"dataframe\">\n",
              "  <thead>\n",
              "    <tr style=\"text-align: right;\">\n",
              "      <th></th>\n",
              "      <th>date</th>\n",
              "      <th>open</th>\n",
              "      <th>high</th>\n",
              "      <th>low</th>\n",
              "      <th>close</th>\n",
              "      <th>volume</th>\n",
              "      <th>volmue_next_day</th>\n",
              "    </tr>\n",
              "  </thead>\n",
              "  <tbody>\n",
              "    <tr>\n",
              "      <th>0</th>\n",
              "      <td>2018-01-02</td>\n",
              "      <td>177.68</td>\n",
              "      <td>181.58</td>\n",
              "      <td>177.5500</td>\n",
              "      <td>181.42</td>\n",
              "      <td>18151903</td>\n",
              "      <td>NaN</td>\n",
              "    </tr>\n",
              "    <tr>\n",
              "      <th>1</th>\n",
              "      <td>2018-01-03</td>\n",
              "      <td>181.88</td>\n",
              "      <td>184.78</td>\n",
              "      <td>181.3300</td>\n",
              "      <td>184.67</td>\n",
              "      <td>16886563</td>\n",
              "      <td>18151903.0</td>\n",
              "    </tr>\n",
              "    <tr>\n",
              "      <th>2</th>\n",
              "      <td>2018-01-04</td>\n",
              "      <td>184.90</td>\n",
              "      <td>186.21</td>\n",
              "      <td>184.0996</td>\n",
              "      <td>184.33</td>\n",
              "      <td>13880896</td>\n",
              "      <td>16886563.0</td>\n",
              "    </tr>\n",
              "    <tr>\n",
              "      <th>3</th>\n",
              "      <td>2018-01-05</td>\n",
              "      <td>185.59</td>\n",
              "      <td>186.90</td>\n",
              "      <td>184.9300</td>\n",
              "      <td>186.85</td>\n",
              "      <td>13574535</td>\n",
              "      <td>13880896.0</td>\n",
              "    </tr>\n",
              "    <tr>\n",
              "      <th>4</th>\n",
              "      <td>2018-01-08</td>\n",
              "      <td>187.20</td>\n",
              "      <td>188.90</td>\n",
              "      <td>186.3300</td>\n",
              "      <td>188.28</td>\n",
              "      <td>17994726</td>\n",
              "      <td>13574535.0</td>\n",
              "    </tr>\n",
              "  </tbody>\n",
              "</table>\n",
              "</div>"
            ],
            "text/plain": [
              "         date    open    high       low   close    volume  volmue_next_day\n",
              "0  2018-01-02  177.68  181.58  177.5500  181.42  18151903              NaN\n",
              "1  2018-01-03  181.88  184.78  181.3300  184.67  16886563       18151903.0\n",
              "2  2018-01-04  184.90  186.21  184.0996  184.33  13880896       16886563.0\n",
              "3  2018-01-05  185.59  186.90  184.9300  186.85  13574535       13880896.0\n",
              "4  2018-01-08  187.20  188.90  186.3300  188.28  17994726       13574535.0"
            ]
          },
          "metadata": {},
          "execution_count": 31
        }
      ]
    },
    {
      "cell_type": "code",
      "metadata": {
        "id": "7WMRvve2Qm0e"
      },
      "source": [
        "fb.sort_values(by='date', inplace=True)"
      ],
      "execution_count": 27,
      "outputs": []
    },
    {
      "cell_type": "code",
      "metadata": {
        "colab": {
          "base_uri": "https://localhost:8080/",
          "height": 204
        },
        "id": "F0fQrCTwQGc0",
        "outputId": "f016a05c-25c9-4a24-80ff-d5209eabbf2e"
      },
      "source": [
        "fb.assign(pct_change=lambda x: x.volume.pct_change().abs()).sort_values(by='pct_change', ascending=False)[:5]"
      ],
      "execution_count": 28,
      "outputs": [
        {
          "output_type": "execute_result",
          "data": {
            "text/html": [
              "<div>\n",
              "<style scoped>\n",
              "    .dataframe tbody tr th:only-of-type {\n",
              "        vertical-align: middle;\n",
              "    }\n",
              "\n",
              "    .dataframe tbody tr th {\n",
              "        vertical-align: top;\n",
              "    }\n",
              "\n",
              "    .dataframe thead th {\n",
              "        text-align: right;\n",
              "    }\n",
              "</style>\n",
              "<table border=\"1\" class=\"dataframe\">\n",
              "  <thead>\n",
              "    <tr style=\"text-align: right;\">\n",
              "      <th></th>\n",
              "      <th>date</th>\n",
              "      <th>open</th>\n",
              "      <th>high</th>\n",
              "      <th>low</th>\n",
              "      <th>close</th>\n",
              "      <th>volume</th>\n",
              "      <th>pct_change</th>\n",
              "    </tr>\n",
              "  </thead>\n",
              "  <tbody>\n",
              "    <tr>\n",
              "      <th>8</th>\n",
              "      <td>2018-01-12</td>\n",
              "      <td>178.06</td>\n",
              "      <td>181.48</td>\n",
              "      <td>177.40</td>\n",
              "      <td>179.37</td>\n",
              "      <td>77551299</td>\n",
              "      <td>7.087876</td>\n",
              "    </tr>\n",
              "    <tr>\n",
              "      <th>52</th>\n",
              "      <td>2018-03-19</td>\n",
              "      <td>177.01</td>\n",
              "      <td>177.17</td>\n",
              "      <td>170.06</td>\n",
              "      <td>172.56</td>\n",
              "      <td>88140060</td>\n",
              "      <td>2.611789</td>\n",
              "    </tr>\n",
              "    <tr>\n",
              "      <th>142</th>\n",
              "      <td>2018-07-26</td>\n",
              "      <td>174.89</td>\n",
              "      <td>180.13</td>\n",
              "      <td>173.75</td>\n",
              "      <td>176.26</td>\n",
              "      <td>169803668</td>\n",
              "      <td>1.628841</td>\n",
              "    </tr>\n",
              "    <tr>\n",
              "      <th>182</th>\n",
              "      <td>2018-09-21</td>\n",
              "      <td>166.64</td>\n",
              "      <td>167.25</td>\n",
              "      <td>162.81</td>\n",
              "      <td>162.93</td>\n",
              "      <td>45994800</td>\n",
              "      <td>1.428956</td>\n",
              "    </tr>\n",
              "    <tr>\n",
              "      <th>57</th>\n",
              "      <td>2018-03-26</td>\n",
              "      <td>160.82</td>\n",
              "      <td>161.10</td>\n",
              "      <td>149.02</td>\n",
              "      <td>160.06</td>\n",
              "      <td>126116634</td>\n",
              "      <td>1.352496</td>\n",
              "    </tr>\n",
              "  </tbody>\n",
              "</table>\n",
              "</div>"
            ],
            "text/plain": [
              "           date    open    high     low   close     volume  pct_change\n",
              "8    2018-01-12  178.06  181.48  177.40  179.37   77551299    7.087876\n",
              "52   2018-03-19  177.01  177.17  170.06  172.56   88140060    2.611789\n",
              "142  2018-07-26  174.89  180.13  173.75  176.26  169803668    1.628841\n",
              "182  2018-09-21  166.64  167.25  162.81  162.93   45994800    1.428956\n",
              "57   2018-03-26  160.82  161.10  149.02  160.06  126116634    1.352496"
            ]
          },
          "metadata": {},
          "execution_count": 28
        }
      ]
    },
    {
      "cell_type": "code",
      "metadata": {
        "id": "8LjUfO0yQH45"
      },
      "source": [
        "fb['volume_prev_day'] = fb.volume.shift(periods=1)"
      ],
      "execution_count": 43,
      "outputs": []
    },
    {
      "cell_type": "markdown",
      "metadata": {
        "id": "ut7P0g-jQJsx"
      },
      "source": [
        ""
      ]
    },
    {
      "cell_type": "code",
      "metadata": {
        "colab": {
          "base_uri": "https://localhost:8080/",
          "height": 204
        },
        "id": "0PQLNP8hNfCc",
        "outputId": "aad3e641-ff55-4b83-8b5f-9dc48bbdb6f4"
      },
      "source": [
        "fb.assign(pct_change_2=lambda x: abs((x.volume - x.volume_prev_day)/x.volume_prev_day)).sort_values(by='pct_change_2', ascending=False)[:5]"
      ],
      "execution_count": 44,
      "outputs": [
        {
          "output_type": "execute_result",
          "data": {
            "text/html": [
              "<div>\n",
              "<style scoped>\n",
              "    .dataframe tbody tr th:only-of-type {\n",
              "        vertical-align: middle;\n",
              "    }\n",
              "\n",
              "    .dataframe tbody tr th {\n",
              "        vertical-align: top;\n",
              "    }\n",
              "\n",
              "    .dataframe thead th {\n",
              "        text-align: right;\n",
              "    }\n",
              "</style>\n",
              "<table border=\"1\" class=\"dataframe\">\n",
              "  <thead>\n",
              "    <tr style=\"text-align: right;\">\n",
              "      <th></th>\n",
              "      <th>date</th>\n",
              "      <th>open</th>\n",
              "      <th>high</th>\n",
              "      <th>low</th>\n",
              "      <th>close</th>\n",
              "      <th>volume</th>\n",
              "      <th>volmue_next_day</th>\n",
              "      <th>volume_next_day</th>\n",
              "      <th>volume_prev_day</th>\n",
              "      <th>pct_change_2</th>\n",
              "    </tr>\n",
              "  </thead>\n",
              "  <tbody>\n",
              "    <tr>\n",
              "      <th>8</th>\n",
              "      <td>2018-01-12</td>\n",
              "      <td>178.06</td>\n",
              "      <td>181.48</td>\n",
              "      <td>177.40</td>\n",
              "      <td>179.37</td>\n",
              "      <td>77551299</td>\n",
              "      <td>9588587.0</td>\n",
              "      <td>9588587.0</td>\n",
              "      <td>9588587.0</td>\n",
              "      <td>7.087876</td>\n",
              "    </tr>\n",
              "    <tr>\n",
              "      <th>52</th>\n",
              "      <td>2018-03-19</td>\n",
              "      <td>177.01</td>\n",
              "      <td>177.17</td>\n",
              "      <td>170.06</td>\n",
              "      <td>172.56</td>\n",
              "      <td>88140060</td>\n",
              "      <td>24403438.0</td>\n",
              "      <td>24403438.0</td>\n",
              "      <td>24403438.0</td>\n",
              "      <td>2.611789</td>\n",
              "    </tr>\n",
              "    <tr>\n",
              "      <th>142</th>\n",
              "      <td>2018-07-26</td>\n",
              "      <td>174.89</td>\n",
              "      <td>180.13</td>\n",
              "      <td>173.75</td>\n",
              "      <td>176.26</td>\n",
              "      <td>169803668</td>\n",
              "      <td>64592585.0</td>\n",
              "      <td>64592585.0</td>\n",
              "      <td>64592585.0</td>\n",
              "      <td>1.628841</td>\n",
              "    </tr>\n",
              "    <tr>\n",
              "      <th>182</th>\n",
              "      <td>2018-09-21</td>\n",
              "      <td>166.64</td>\n",
              "      <td>167.25</td>\n",
              "      <td>162.81</td>\n",
              "      <td>162.93</td>\n",
              "      <td>45994800</td>\n",
              "      <td>18936038.0</td>\n",
              "      <td>18936038.0</td>\n",
              "      <td>18936038.0</td>\n",
              "      <td>1.428956</td>\n",
              "    </tr>\n",
              "    <tr>\n",
              "      <th>57</th>\n",
              "      <td>2018-03-26</td>\n",
              "      <td>160.82</td>\n",
              "      <td>161.10</td>\n",
              "      <td>149.02</td>\n",
              "      <td>160.06</td>\n",
              "      <td>126116634</td>\n",
              "      <td>53609706.0</td>\n",
              "      <td>53609706.0</td>\n",
              "      <td>53609706.0</td>\n",
              "      <td>1.352496</td>\n",
              "    </tr>\n",
              "  </tbody>\n",
              "</table>\n",
              "</div>"
            ],
            "text/plain": [
              "           date    open    high  ...  volume_next_day  volume_prev_day  pct_change_2\n",
              "8    2018-01-12  178.06  181.48  ...        9588587.0        9588587.0      7.087876\n",
              "52   2018-03-19  177.01  177.17  ...       24403438.0       24403438.0      2.611789\n",
              "142  2018-07-26  174.89  180.13  ...       64592585.0       64592585.0      1.628841\n",
              "182  2018-09-21  166.64  167.25  ...       18936038.0       18936038.0      1.428956\n",
              "57   2018-03-26  160.82  161.10  ...       53609706.0       53609706.0      1.352496\n",
              "\n",
              "[5 rows x 10 columns]"
            ]
          },
          "metadata": {},
          "execution_count": 44
        }
      ]
    },
    {
      "cell_type": "code",
      "metadata": {
        "id": "nsKdzhttYIyd"
      },
      "source": [
        "earthquake.head()"
      ],
      "execution_count": null,
      "outputs": []
    },
    {
      "cell_type": "code",
      "metadata": {
        "id": "zHdBTPqkS-NR"
      },
      "source": [
        "labels = ['1', '2', '3', '4', '5']\n",
        "data = earthquake[earthquake.magType.str.contains('ml', na=False)]\n",
        "\n",
        "earthquake['bins'] = pd.cut(data['mag'], bins=5, labels=labels, include_lowest=True)\n",
        "data.head()"
      ],
      "execution_count": null,
      "outputs": []
    },
    {
      "cell_type": "code",
      "metadata": {
        "colab": {
          "base_uri": "https://localhost:8080/"
        },
        "id": "RndkgmdNaem6",
        "outputId": "b14064e7-93d6-4909-dd78-59e57d7ce967"
      },
      "source": [
        "data.bins.value_counts()"
      ],
      "execution_count": 60,
      "outputs": [
        {
          "output_type": "execute_result",
          "data": {
            "text/plain": [
              "2    2990\n",
              "3    2921\n",
              "1     509\n",
              "4     372\n",
              "5      11\n",
              "Name: bins, dtype: int64"
            ]
          },
          "metadata": {},
          "execution_count": 60
        }
      ]
    },
    {
      "cell_type": "code",
      "metadata": {
        "colab": {
          "base_uri": "https://localhost:8080/",
          "height": 204
        },
        "id": "nerS9f_mhWxz",
        "outputId": "34eaacc1-e7d0-4e89-b1d5-51a9c7268499"
      },
      "source": [
        "weather_by_station.head()\n"
      ],
      "execution_count": 86,
      "outputs": [
        {
          "output_type": "execute_result",
          "data": {
            "text/html": [
              "<div>\n",
              "<style scoped>\n",
              "    .dataframe tbody tr th:only-of-type {\n",
              "        vertical-align: middle;\n",
              "    }\n",
              "\n",
              "    .dataframe tbody tr th {\n",
              "        vertical-align: top;\n",
              "    }\n",
              "\n",
              "    .dataframe thead th {\n",
              "        text-align: right;\n",
              "    }\n",
              "</style>\n",
              "<table border=\"1\" class=\"dataframe\">\n",
              "  <thead>\n",
              "    <tr style=\"text-align: right;\">\n",
              "      <th></th>\n",
              "      <th>date</th>\n",
              "      <th>datatype</th>\n",
              "      <th>station</th>\n",
              "      <th>value</th>\n",
              "      <th>station_name</th>\n",
              "      <th>month</th>\n",
              "    </tr>\n",
              "  </thead>\n",
              "  <tbody>\n",
              "    <tr>\n",
              "      <th>0</th>\n",
              "      <td>2018-01-01</td>\n",
              "      <td>PRCP</td>\n",
              "      <td>GHCND:US1CTFR0039</td>\n",
              "      <td>0.0</td>\n",
              "      <td>STAMFORD 4.2 S, CT US</td>\n",
              "      <td>1</td>\n",
              "    </tr>\n",
              "    <tr>\n",
              "      <th>1</th>\n",
              "      <td>2018-01-01</td>\n",
              "      <td>PRCP</td>\n",
              "      <td>GHCND:US1NJBG0015</td>\n",
              "      <td>0.0</td>\n",
              "      <td>NORTH ARLINGTON 0.7 WNW, NJ US</td>\n",
              "      <td>1</td>\n",
              "    </tr>\n",
              "    <tr>\n",
              "      <th>2</th>\n",
              "      <td>2018-01-01</td>\n",
              "      <td>SNOW</td>\n",
              "      <td>GHCND:US1NJBG0015</td>\n",
              "      <td>0.0</td>\n",
              "      <td>NORTH ARLINGTON 0.7 WNW, NJ US</td>\n",
              "      <td>1</td>\n",
              "    </tr>\n",
              "    <tr>\n",
              "      <th>3</th>\n",
              "      <td>2018-01-01</td>\n",
              "      <td>PRCP</td>\n",
              "      <td>GHCND:US1NJBG0017</td>\n",
              "      <td>0.0</td>\n",
              "      <td>GLEN ROCK 0.7 SSE, NJ US</td>\n",
              "      <td>1</td>\n",
              "    </tr>\n",
              "    <tr>\n",
              "      <th>4</th>\n",
              "      <td>2018-01-01</td>\n",
              "      <td>SNOW</td>\n",
              "      <td>GHCND:US1NJBG0017</td>\n",
              "      <td>0.0</td>\n",
              "      <td>GLEN ROCK 0.7 SSE, NJ US</td>\n",
              "      <td>1</td>\n",
              "    </tr>\n",
              "  </tbody>\n",
              "</table>\n",
              "</div>"
            ],
            "text/plain": [
              "        date datatype  ...                    station_name  month\n",
              "0 2018-01-01     PRCP  ...           STAMFORD 4.2 S, CT US      1\n",
              "1 2018-01-01     PRCP  ...  NORTH ARLINGTON 0.7 WNW, NJ US      1\n",
              "2 2018-01-01     SNOW  ...  NORTH ARLINGTON 0.7 WNW, NJ US      1\n",
              "3 2018-01-01     PRCP  ...        GLEN ROCK 0.7 SSE, NJ US      1\n",
              "4 2018-01-01     SNOW  ...        GLEN ROCK 0.7 SSE, NJ US      1\n",
              "\n",
              "[5 rows x 6 columns]"
            ]
          },
          "metadata": {},
          "execution_count": 86
        }
      ]
    },
    {
      "cell_type": "code",
      "metadata": {
        "id": "PqegiE-Qf_36"
      },
      "source": [
        "weather_by_station.date_index = pd.DatetimeIndex(pd.to_datetime(weather_by_station.date, format='%y/%m/%d'))\n",
        "weather_by_station['month'] = weather_by_station.date_index.month"
      ],
      "execution_count": 82,
      "outputs": []
    },
    {
      "cell_type": "code",
      "metadata": {
        "colab": {
          "base_uri": "https://localhost:8080/"
        },
        "id": "mirrV39XnCZZ",
        "outputId": "cbee7153-6bef-477c-8f3a-91811c37b431"
      },
      "source": [
        "weather_by_station.groupby(['month', 'station']).value.mean()\n",
        "\n"
      ],
      "execution_count": 90,
      "outputs": [
        {
          "output_type": "execute_result",
          "data": {
            "text/plain": [
              "month  station          \n",
              "1      GHCND:US1CTFR0039      9.762857\n",
              "       GHCND:US1NJBG0003     14.255556\n",
              "       GHCND:US1NJBG0015      6.207692\n",
              "       GHCND:US1NJBG0017     11.339506\n",
              "       GHCND:US1NJBG0018     14.388889\n",
              "                               ...    \n",
              "12     GHCND:USW00054787    185.034708\n",
              "       GHCND:USW00094728      2.732143\n",
              "       GHCND:USW00094741    179.765398\n",
              "       GHCND:USW00094745    195.080069\n",
              "       GHCND:USW00094789     41.066298\n",
              "Name: value, Length: 1153, dtype: float64"
            ]
          },
          "metadata": {},
          "execution_count": 90
        }
      ]
    },
    {
      "cell_type": "code",
      "metadata": {
        "colab": {
          "base_uri": "https://localhost:8080/"
        },
        "id": "QBdZLFP1oVPo",
        "outputId": "fe2c78e4-70e2-4b2d-e054-f7b65f72d4ae"
      },
      "source": [
        "snow = weather_by_station[weather_by_station.datatype.str.contains('SNOW')]\n",
        "snow.groupby(['month', 'station']).station.value_counts()\n"
      ],
      "execution_count": 102,
      "outputs": [
        {
          "output_type": "execute_result",
          "data": {
            "text/plain": [
              "month  station            station          \n",
              "1      GHCND:US1CTFR0039  GHCND:US1CTFR0039     2\n",
              "       GHCND:US1NJBG0003  GHCND:US1NJBG0003     1\n",
              "       GHCND:US1NJBG0015  GHCND:US1NJBG0015    20\n",
              "       GHCND:US1NJBG0017  GHCND:US1NJBG0017    25\n",
              "       GHCND:US1NJBG0018  GHCND:US1NJBG0018    27\n",
              "                                               ..\n",
              "12     GHCND:USC00308577  GHCND:USC00308577    31\n",
              "       GHCND:USW00014732  GHCND:USW00014732    31\n",
              "       GHCND:USW00014734  GHCND:USW00014734    31\n",
              "       GHCND:USW00094728  GHCND:USW00094728    31\n",
              "       GHCND:USW00094789  GHCND:USW00094789    31\n",
              "Name: station, Length: 841, dtype: int64"
            ]
          },
          "metadata": {},
          "execution_count": 102
        }
      ]
    }
  ]
}