{
  "nbformat": 4,
  "nbformat_minor": 0,
  "metadata": {
    "colab": {
      "name": "ReviewPandas.ipynb",
      "provenance": [],
      "authorship_tag": "ABX9TyNGcOYZjtWrQiXISj8yhhqA",
      "include_colab_link": true
    },
    "kernelspec": {
      "name": "python3",
      "display_name": "Python 3"
    },
    "language_info": {
      "name": "python"
    }
  },
  "cells": [
    {
      "cell_type": "markdown",
      "metadata": {
        "id": "view-in-github",
        "colab_type": "text"
      },
      "source": [
        "<a href=\"https://colab.research.google.com/github/KieuSonTung/Data_Preparation/blob/main/ReviewPandas.ipynb\" target=\"_parent\"><img src=\"https://colab.research.google.com/assets/colab-badge.svg\" alt=\"Open In Colab\"/></a>"
      ]
    },
    {
      "cell_type": "code",
      "metadata": {
        "id": "ibvVOmXDhLrB"
      },
      "source": [
        "import pandas as pd\n",
        "import re"
      ],
      "execution_count": 11,
      "outputs": []
    },
    {
      "cell_type": "code",
      "metadata": {
        "colab": {
          "base_uri": "https://localhost:8080/"
        },
        "id": "wHZ_mwoIi-Ya",
        "outputId": "86b82340-c64e-436d-bb52-ec1c7283d189"
      },
      "source": [
        "from google.colab import drive\n",
        "drive.mount('/content/drive/')"
      ],
      "execution_count": 12,
      "outputs": [
        {
          "output_type": "stream",
          "name": "stdout",
          "text": [
            "Drive already mounted at /content/drive/; to attempt to forcibly remount, call drive.mount(\"/content/drive/\", force_remount=True).\n"
          ]
        }
      ]
    },
    {
      "cell_type": "code",
      "metadata": {
        "id": "pPxsl9AhlSTE"
      },
      "source": [
        "Path = 'drive/MyDrive/ColabNotebooks/data/'\n",
        "df = pd.read_csv(Path+'earthquakes.csv')"
      ],
      "execution_count": 153,
      "outputs": []
    },
    {
      "cell_type": "code",
      "metadata": {
        "colab": {
          "base_uri": "https://localhost:8080/",
          "height": 564
        },
        "id": "DelQ2hqoMftv",
        "outputId": "3fb9e702-a784-47bd-ac89-b76eb97c1b3c"
      },
      "source": [
        "df.head(5)"
      ],
      "execution_count": 32,
      "outputs": [
        {
          "output_type": "execute_result",
          "data": {
            "text/html": [
              "<div>\n",
              "<style scoped>\n",
              "    .dataframe tbody tr th:only-of-type {\n",
              "        vertical-align: middle;\n",
              "    }\n",
              "\n",
              "    .dataframe tbody tr th {\n",
              "        vertical-align: top;\n",
              "    }\n",
              "\n",
              "    .dataframe thead th {\n",
              "        text-align: right;\n",
              "    }\n",
              "</style>\n",
              "<table border=\"1\" class=\"dataframe\">\n",
              "  <thead>\n",
              "    <tr style=\"text-align: right;\">\n",
              "      <th></th>\n",
              "      <th>alert</th>\n",
              "      <th>cdi</th>\n",
              "      <th>code</th>\n",
              "      <th>detail</th>\n",
              "      <th>dmin</th>\n",
              "      <th>felt</th>\n",
              "      <th>gap</th>\n",
              "      <th>ids</th>\n",
              "      <th>mag</th>\n",
              "      <th>magType</th>\n",
              "      <th>mmi</th>\n",
              "      <th>net</th>\n",
              "      <th>nst</th>\n",
              "      <th>place</th>\n",
              "      <th>rms</th>\n",
              "      <th>sig</th>\n",
              "      <th>sources</th>\n",
              "      <th>status</th>\n",
              "      <th>time</th>\n",
              "      <th>title</th>\n",
              "      <th>tsunami</th>\n",
              "      <th>type</th>\n",
              "      <th>types</th>\n",
              "      <th>tz</th>\n",
              "      <th>updated</th>\n",
              "      <th>url</th>\n",
              "    </tr>\n",
              "  </thead>\n",
              "  <tbody>\n",
              "    <tr>\n",
              "      <th>0</th>\n",
              "      <td>NaN</td>\n",
              "      <td>NaN</td>\n",
              "      <td>37389218</td>\n",
              "      <td>https://earthquake.usgs.gov/fdsnws/event/1/que...</td>\n",
              "      <td>0.008693</td>\n",
              "      <td>NaN</td>\n",
              "      <td>85.0</td>\n",
              "      <td>,ci37389218,</td>\n",
              "      <td>1.35</td>\n",
              "      <td>ml</td>\n",
              "      <td>NaN</td>\n",
              "      <td>ci</td>\n",
              "      <td>26.0</td>\n",
              "      <td>9km NE of Aguanga, CA</td>\n",
              "      <td>0.19</td>\n",
              "      <td>28</td>\n",
              "      <td>,ci,</td>\n",
              "      <td>automatic</td>\n",
              "      <td>1539475168010</td>\n",
              "      <td>M 1.4 - 9km NE of Aguanga, CA</td>\n",
              "      <td>0</td>\n",
              "      <td>earthquake</td>\n",
              "      <td>,geoserve,nearby-cities,origin,phase-data,</td>\n",
              "      <td>-480.0</td>\n",
              "      <td>1539475395144</td>\n",
              "      <td>https://earthquake.usgs.gov/earthquakes/eventp...</td>\n",
              "    </tr>\n",
              "    <tr>\n",
              "      <th>1</th>\n",
              "      <td>NaN</td>\n",
              "      <td>NaN</td>\n",
              "      <td>37389202</td>\n",
              "      <td>https://earthquake.usgs.gov/fdsnws/event/1/que...</td>\n",
              "      <td>0.020030</td>\n",
              "      <td>NaN</td>\n",
              "      <td>79.0</td>\n",
              "      <td>,ci37389202,</td>\n",
              "      <td>1.29</td>\n",
              "      <td>ml</td>\n",
              "      <td>NaN</td>\n",
              "      <td>ci</td>\n",
              "      <td>20.0</td>\n",
              "      <td>9km NE of Aguanga, CA</td>\n",
              "      <td>0.29</td>\n",
              "      <td>26</td>\n",
              "      <td>,ci,</td>\n",
              "      <td>automatic</td>\n",
              "      <td>1539475129610</td>\n",
              "      <td>M 1.3 - 9km NE of Aguanga, CA</td>\n",
              "      <td>0</td>\n",
              "      <td>earthquake</td>\n",
              "      <td>,geoserve,nearby-cities,origin,phase-data,</td>\n",
              "      <td>-480.0</td>\n",
              "      <td>1539475253925</td>\n",
              "      <td>https://earthquake.usgs.gov/earthquakes/eventp...</td>\n",
              "    </tr>\n",
              "    <tr>\n",
              "      <th>2</th>\n",
              "      <td>NaN</td>\n",
              "      <td>4.4</td>\n",
              "      <td>37389194</td>\n",
              "      <td>https://earthquake.usgs.gov/fdsnws/event/1/que...</td>\n",
              "      <td>0.021370</td>\n",
              "      <td>28.0</td>\n",
              "      <td>21.0</td>\n",
              "      <td>,ci37389194,</td>\n",
              "      <td>3.42</td>\n",
              "      <td>ml</td>\n",
              "      <td>NaN</td>\n",
              "      <td>ci</td>\n",
              "      <td>111.0</td>\n",
              "      <td>8km NE of Aguanga, CA</td>\n",
              "      <td>0.22</td>\n",
              "      <td>192</td>\n",
              "      <td>,ci,</td>\n",
              "      <td>automatic</td>\n",
              "      <td>1539475062610</td>\n",
              "      <td>M 3.4 - 8km NE of Aguanga, CA</td>\n",
              "      <td>0</td>\n",
              "      <td>earthquake</td>\n",
              "      <td>,dyfi,focal-mechanism,geoserve,nearby-cities,o...</td>\n",
              "      <td>-480.0</td>\n",
              "      <td>1539536756176</td>\n",
              "      <td>https://earthquake.usgs.gov/earthquakes/eventp...</td>\n",
              "    </tr>\n",
              "    <tr>\n",
              "      <th>3</th>\n",
              "      <td>NaN</td>\n",
              "      <td>NaN</td>\n",
              "      <td>37389186</td>\n",
              "      <td>https://earthquake.usgs.gov/fdsnws/event/1/que...</td>\n",
              "      <td>0.026180</td>\n",
              "      <td>NaN</td>\n",
              "      <td>39.0</td>\n",
              "      <td>,ci37389186,</td>\n",
              "      <td>0.44</td>\n",
              "      <td>ml</td>\n",
              "      <td>NaN</td>\n",
              "      <td>ci</td>\n",
              "      <td>26.0</td>\n",
              "      <td>9km NE of Aguanga, CA</td>\n",
              "      <td>0.17</td>\n",
              "      <td>3</td>\n",
              "      <td>,ci,</td>\n",
              "      <td>automatic</td>\n",
              "      <td>1539474978070</td>\n",
              "      <td>M 0.4 - 9km NE of Aguanga, CA</td>\n",
              "      <td>0</td>\n",
              "      <td>earthquake</td>\n",
              "      <td>,geoserve,nearby-cities,origin,phase-data,</td>\n",
              "      <td>-480.0</td>\n",
              "      <td>1539475196167</td>\n",
              "      <td>https://earthquake.usgs.gov/earthquakes/eventp...</td>\n",
              "    </tr>\n",
              "    <tr>\n",
              "      <th>4</th>\n",
              "      <td>NaN</td>\n",
              "      <td>NaN</td>\n",
              "      <td>73096941</td>\n",
              "      <td>https://earthquake.usgs.gov/fdsnws/event/1/que...</td>\n",
              "      <td>0.077990</td>\n",
              "      <td>NaN</td>\n",
              "      <td>192.0</td>\n",
              "      <td>,nc73096941,</td>\n",
              "      <td>2.16</td>\n",
              "      <td>md</td>\n",
              "      <td>NaN</td>\n",
              "      <td>nc</td>\n",
              "      <td>18.0</td>\n",
              "      <td>10km NW of Avenal, CA</td>\n",
              "      <td>0.05</td>\n",
              "      <td>72</td>\n",
              "      <td>,nc,</td>\n",
              "      <td>automatic</td>\n",
              "      <td>1539474716050</td>\n",
              "      <td>M 2.2 - 10km NW of Avenal, CA</td>\n",
              "      <td>0</td>\n",
              "      <td>earthquake</td>\n",
              "      <td>,geoserve,nearby-cities,origin,phase-data,scit...</td>\n",
              "      <td>-480.0</td>\n",
              "      <td>1539477547926</td>\n",
              "      <td>https://earthquake.usgs.gov/earthquakes/eventp...</td>\n",
              "    </tr>\n",
              "  </tbody>\n",
              "</table>\n",
              "</div>"
            ],
            "text/plain": [
              "  alert  cdi  ...        updated                                                url\n",
              "0   NaN  NaN  ...  1539475395144  https://earthquake.usgs.gov/earthquakes/eventp...\n",
              "1   NaN  NaN  ...  1539475253925  https://earthquake.usgs.gov/earthquakes/eventp...\n",
              "2   NaN  4.4  ...  1539536756176  https://earthquake.usgs.gov/earthquakes/eventp...\n",
              "3   NaN  NaN  ...  1539475196167  https://earthquake.usgs.gov/earthquakes/eventp...\n",
              "4   NaN  NaN  ...  1539477547926  https://earthquake.usgs.gov/earthquakes/eventp...\n",
              "\n",
              "[5 rows x 26 columns]"
            ]
          },
          "metadata": {},
          "execution_count": 32
        }
      ]
    },
    {
      "cell_type": "code",
      "metadata": {
        "colab": {
          "base_uri": "https://localhost:8080/"
        },
        "id": "csC1l7ReJMKy",
        "outputId": "a9342733-dc3c-4a46-e753-99a73e74879a"
      },
      "source": [
        "df.shape"
      ],
      "execution_count": 15,
      "outputs": [
        {
          "output_type": "execute_result",
          "data": {
            "text/plain": [
              "(9332, 26)"
            ]
          },
          "metadata": {},
          "execution_count": 15
        }
      ]
    },
    {
      "cell_type": "code",
      "metadata": {
        "colab": {
          "base_uri": "https://localhost:8080/"
        },
        "id": "avhCSxAwmI-B",
        "outputId": "20a20481-3183-4a4e-9229-0ed6afbc6510"
      },
      "source": [
        "df.mag[(df.type =='explosion') & (df.magType =='ml')].count()"
      ],
      "execution_count": 144,
      "outputs": [
        {
          "output_type": "execute_result",
          "data": {
            "text/plain": [
              "79"
            ]
          },
          "metadata": {},
          "execution_count": 144
        }
      ]
    },
    {
      "cell_type": "code",
      "metadata": {
        "colab": {
          "base_uri": "https://localhost:8080/"
        },
        "id": "zOWMk5uaNzmB",
        "outputId": "e9b16e9c-bbe7-4453-bfe0-b9518ed500b2"
      },
      "source": [
        "ex2 = df.mag[(df.place.str.contains('Alaska', na=False)) &~ ((df.place.str.contains('\\d\\d\\d', na=False, regex=True)))].mean()\n",
        "ex2"
      ],
      "execution_count": 145,
      "outputs": [
        {
          "output_type": "execute_result",
          "data": {
            "text/plain": [
              "1.3744199088678577"
            ]
          },
          "metadata": {},
          "execution_count": 145
        }
      ]
    },
    {
      "cell_type": "code",
      "metadata": {
        "colab": {
          "base_uri": "https://localhost:8080/",
          "height": 307
        },
        "id": "Br3bPoOsQh1I",
        "outputId": "5b9c9290-7f2b-4a62-b6c8-16e96a8fabe8"
      },
      "source": [
        "df.place[pd.to_numeric(df.place[df.place.str.contains('\\d\\d', na=False, regex=True)].str.split(' ').str.get(0).str[:-2]) < 100]"
      ],
      "execution_count": 80,
      "outputs": [
        {
          "output_type": "error",
          "ename": "IndexingError",
          "evalue": "ignored",
          "traceback": [
            "\u001b[0;31m---------------------------------------------------------------------------\u001b[0m",
            "\u001b[0;31mIndexingError\u001b[0m                             Traceback (most recent call last)",
            "\u001b[0;32m<ipython-input-80-c3b546f69b5a>\u001b[0m in \u001b[0;36m<module>\u001b[0;34m()\u001b[0m\n\u001b[0;32m----> 1\u001b[0;31m \u001b[0mdf\u001b[0m\u001b[0;34m.\u001b[0m\u001b[0mplace\u001b[0m\u001b[0;34m[\u001b[0m\u001b[0mpd\u001b[0m\u001b[0;34m.\u001b[0m\u001b[0mto_numeric\u001b[0m\u001b[0;34m(\u001b[0m\u001b[0mdf\u001b[0m\u001b[0;34m.\u001b[0m\u001b[0mplace\u001b[0m\u001b[0;34m[\u001b[0m\u001b[0mdf\u001b[0m\u001b[0;34m.\u001b[0m\u001b[0mplace\u001b[0m\u001b[0;34m.\u001b[0m\u001b[0mstr\u001b[0m\u001b[0;34m.\u001b[0m\u001b[0mcontains\u001b[0m\u001b[0;34m(\u001b[0m\u001b[0;34m'\\d\\d'\u001b[0m\u001b[0;34m,\u001b[0m \u001b[0mna\u001b[0m\u001b[0;34m=\u001b[0m\u001b[0;32mFalse\u001b[0m\u001b[0;34m,\u001b[0m \u001b[0mregex\u001b[0m\u001b[0;34m=\u001b[0m\u001b[0;32mTrue\u001b[0m\u001b[0;34m)\u001b[0m\u001b[0;34m]\u001b[0m\u001b[0;34m.\u001b[0m\u001b[0mstr\u001b[0m\u001b[0;34m.\u001b[0m\u001b[0msplit\u001b[0m\u001b[0;34m(\u001b[0m\u001b[0;34m' '\u001b[0m\u001b[0;34m)\u001b[0m\u001b[0;34m.\u001b[0m\u001b[0mstr\u001b[0m\u001b[0;34m.\u001b[0m\u001b[0mget\u001b[0m\u001b[0;34m(\u001b[0m\u001b[0;36m0\u001b[0m\u001b[0;34m)\u001b[0m\u001b[0;34m.\u001b[0m\u001b[0mstr\u001b[0m\u001b[0;34m[\u001b[0m\u001b[0;34m:\u001b[0m\u001b[0;34m-\u001b[0m\u001b[0;36m2\u001b[0m\u001b[0;34m]\u001b[0m\u001b[0;34m)\u001b[0m \u001b[0;34m<\u001b[0m \u001b[0;36m100\u001b[0m\u001b[0;34m]\u001b[0m\u001b[0;34m\u001b[0m\u001b[0;34m\u001b[0m\u001b[0m\n\u001b[0m",
            "\u001b[0;32m/usr/local/lib/python3.7/dist-packages/pandas/core/series.py\u001b[0m in \u001b[0;36m__getitem__\u001b[0;34m(self, key)\u001b[0m\n\u001b[1;32m    900\u001b[0m \u001b[0;34m\u001b[0m\u001b[0m\n\u001b[1;32m    901\u001b[0m         \u001b[0;32mif\u001b[0m \u001b[0mcom\u001b[0m\u001b[0;34m.\u001b[0m\u001b[0mis_bool_indexer\u001b[0m\u001b[0;34m(\u001b[0m\u001b[0mkey\u001b[0m\u001b[0;34m)\u001b[0m\u001b[0;34m:\u001b[0m\u001b[0;34m\u001b[0m\u001b[0;34m\u001b[0m\u001b[0m\n\u001b[0;32m--> 902\u001b[0;31m             \u001b[0mkey\u001b[0m \u001b[0;34m=\u001b[0m \u001b[0mcheck_bool_indexer\u001b[0m\u001b[0;34m(\u001b[0m\u001b[0mself\u001b[0m\u001b[0;34m.\u001b[0m\u001b[0mindex\u001b[0m\u001b[0;34m,\u001b[0m \u001b[0mkey\u001b[0m\u001b[0;34m)\u001b[0m\u001b[0;34m\u001b[0m\u001b[0;34m\u001b[0m\u001b[0m\n\u001b[0m\u001b[1;32m    903\u001b[0m             \u001b[0mkey\u001b[0m \u001b[0;34m=\u001b[0m \u001b[0mnp\u001b[0m\u001b[0;34m.\u001b[0m\u001b[0masarray\u001b[0m\u001b[0;34m(\u001b[0m\u001b[0mkey\u001b[0m\u001b[0;34m,\u001b[0m \u001b[0mdtype\u001b[0m\u001b[0;34m=\u001b[0m\u001b[0mbool\u001b[0m\u001b[0;34m)\u001b[0m\u001b[0;34m\u001b[0m\u001b[0;34m\u001b[0m\u001b[0m\n\u001b[1;32m    904\u001b[0m             \u001b[0;32mreturn\u001b[0m \u001b[0mself\u001b[0m\u001b[0;34m.\u001b[0m\u001b[0m_get_values\u001b[0m\u001b[0;34m(\u001b[0m\u001b[0mkey\u001b[0m\u001b[0;34m)\u001b[0m\u001b[0;34m\u001b[0m\u001b[0;34m\u001b[0m\u001b[0m\n",
            "\u001b[0;32m/usr/local/lib/python3.7/dist-packages/pandas/core/indexing.py\u001b[0m in \u001b[0;36mcheck_bool_indexer\u001b[0;34m(index, key)\u001b[0m\n\u001b[1;32m   2181\u001b[0m         \u001b[0;32mif\u001b[0m \u001b[0mmask\u001b[0m\u001b[0;34m.\u001b[0m\u001b[0many\u001b[0m\u001b[0;34m(\u001b[0m\u001b[0;34m)\u001b[0m\u001b[0;34m:\u001b[0m\u001b[0;34m\u001b[0m\u001b[0;34m\u001b[0m\u001b[0m\n\u001b[1;32m   2182\u001b[0m             raise IndexingError(\n\u001b[0;32m-> 2183\u001b[0;31m                 \u001b[0;34m\"Unalignable boolean Series provided as \"\u001b[0m\u001b[0;34m\u001b[0m\u001b[0;34m\u001b[0m\u001b[0m\n\u001b[0m\u001b[1;32m   2184\u001b[0m                 \u001b[0;34m\"indexer (index of the boolean Series and of \"\u001b[0m\u001b[0;34m\u001b[0m\u001b[0;34m\u001b[0m\u001b[0m\n\u001b[1;32m   2185\u001b[0m                 \u001b[0;34m\"the indexed object do not match).\"\u001b[0m\u001b[0;34m\u001b[0m\u001b[0;34m\u001b[0m\u001b[0m\n",
            "\u001b[0;31mIndexingError\u001b[0m: Unalignable boolean Series provided as indexer (index of the boolean Series and of the indexed object do not match)."
          ]
        }
      ]
    },
    {
      "cell_type": "code",
      "metadata": {
        "id": "w_UO7Om-sDLd"
      },
      "source": [
        "df.time = pd.to_datetime(df.time.tolist(), dayfirst=True, utc=True, unit='ms', origin='unix')\n"
      ],
      "execution_count": 154,
      "outputs": []
    },
    {
      "cell_type": "code",
      "metadata": {
        "colab": {
          "base_uri": "https://localhost:8080/"
        },
        "id": "x1t9Uc1DsVv-",
        "outputId": "0264c8d0-eae5-499d-d1ea-e5f83a87fda6"
      },
      "source": [
        "df.time"
      ],
      "execution_count": 150,
      "outputs": [
        {
          "output_type": "execute_result",
          "data": {
            "text/plain": [
              "0      2018-10-13 23:59:28.010000+00:00\n",
              "1      2018-10-13 23:58:49.610000+00:00\n",
              "2      2018-10-13 23:57:42.610000+00:00\n",
              "3      2018-10-13 23:56:18.070000+00:00\n",
              "4      2018-10-13 23:51:56.050000+00:00\n",
              "                     ...               \n",
              "9327   2018-09-18 00:23:48.060000+00:00\n",
              "9328   2018-09-18 00:22:15.130000+00:00\n",
              "9329   2018-09-18 00:18:28.180000+00:00\n",
              "9330   2018-09-18 00:12:25.350000+00:00\n",
              "9331   2018-09-18 00:01:04.470000+00:00\n",
              "Name: time, Length: 9332, dtype: datetime64[ns, UTC]"
            ]
          },
          "metadata": {},
          "execution_count": 150
        }
      ]
    },
    {
      "cell_type": "code",
      "metadata": {
        "colab": {
          "base_uri": "https://localhost:8080/"
        },
        "id": "DyfNlAqKsb-x",
        "outputId": "d276987e-fc42-4374-8bb2-efcbd313f1db"
      },
      "source": [
        "pd.DatetimeIndex(df['time'])"
      ],
      "execution_count": 151,
      "outputs": [
        {
          "output_type": "execute_result",
          "data": {
            "text/plain": [
              "DatetimeIndex(['2018-10-13 23:59:28.010000+00:00',\n",
              "               '2018-10-13 23:58:49.610000+00:00',\n",
              "               '2018-10-13 23:57:42.610000+00:00',\n",
              "               '2018-10-13 23:56:18.070000+00:00',\n",
              "               '2018-10-13 23:51:56.050000+00:00',\n",
              "               '2018-10-13 23:34:46.440000+00:00',\n",
              "               '2018-10-13 23:26:16.017000+00:00',\n",
              "               '2018-10-13 23:24:20.280000+00:00',\n",
              "               '2018-10-13 23:24:02.310000+00:00',\n",
              "               '2018-10-13 23:20:14.760000+00:00',\n",
              "               ...\n",
              "               '2018-09-18 00:38:10.700000+00:00',\n",
              "               '2018-09-18 00:33:48.440000+00:00',\n",
              "               '2018-09-18 00:25:57.100000+00:00',\n",
              "               '2018-09-18 00:25:44.890000+00:00',\n",
              "               '2018-09-18 00:23:50.260000+00:00',\n",
              "               '2018-09-18 00:23:48.060000+00:00',\n",
              "               '2018-09-18 00:22:15.130000+00:00',\n",
              "               '2018-09-18 00:18:28.180000+00:00',\n",
              "               '2018-09-18 00:12:25.350000+00:00',\n",
              "               '2018-09-18 00:01:04.470000+00:00'],\n",
              "              dtype='datetime64[ns, UTC]', name='time', length=9332, freq=None)"
            ]
          },
          "metadata": {},
          "execution_count": 151
        }
      ]
    },
    {
      "cell_type": "code",
      "metadata": {
        "colab": {
          "base_uri": "https://localhost:8080/",
          "height": 283
        },
        "id": "fumaBOmmsl_E",
        "outputId": "28800c2b-858b-411c-e518-4fc684ff6174"
      },
      "source": [
        "m = df.mag[(df.time.month >= 1) & (df.time.month <= 3)].mean()"
      ],
      "execution_count": 155,
      "outputs": [
        {
          "output_type": "error",
          "ename": "AttributeError",
          "evalue": "ignored",
          "traceback": [
            "\u001b[0;31m---------------------------------------------------------------------------\u001b[0m",
            "\u001b[0;31mAttributeError\u001b[0m                            Traceback (most recent call last)",
            "\u001b[0;32m<ipython-input-155-f0582f740751>\u001b[0m in \u001b[0;36m<module>\u001b[0;34m()\u001b[0m\n\u001b[0;32m----> 1\u001b[0;31m \u001b[0mm\u001b[0m \u001b[0;34m=\u001b[0m \u001b[0mdf\u001b[0m\u001b[0;34m.\u001b[0m\u001b[0mmag\u001b[0m\u001b[0;34m[\u001b[0m\u001b[0;34m(\u001b[0m\u001b[0mdf\u001b[0m\u001b[0;34m.\u001b[0m\u001b[0mtime\u001b[0m\u001b[0;34m.\u001b[0m\u001b[0mmonth\u001b[0m \u001b[0;34m>=\u001b[0m \u001b[0;36m1\u001b[0m\u001b[0;34m)\u001b[0m \u001b[0;34m&\u001b[0m \u001b[0;34m(\u001b[0m\u001b[0mdf\u001b[0m\u001b[0;34m.\u001b[0m\u001b[0mtime\u001b[0m\u001b[0;34m.\u001b[0m\u001b[0mmonth\u001b[0m \u001b[0;34m<=\u001b[0m \u001b[0;36m3\u001b[0m\u001b[0;34m)\u001b[0m\u001b[0;34m]\u001b[0m\u001b[0;34m.\u001b[0m\u001b[0mmean\u001b[0m\u001b[0;34m(\u001b[0m\u001b[0;34m)\u001b[0m\u001b[0;34m\u001b[0m\u001b[0;34m\u001b[0m\u001b[0m\n\u001b[0m",
            "\u001b[0;32m/usr/local/lib/python3.7/dist-packages/pandas/core/generic.py\u001b[0m in \u001b[0;36m__getattr__\u001b[0;34m(self, name)\u001b[0m\n\u001b[1;32m   5139\u001b[0m             \u001b[0;32mif\u001b[0m \u001b[0mself\u001b[0m\u001b[0;34m.\u001b[0m\u001b[0m_info_axis\u001b[0m\u001b[0;34m.\u001b[0m\u001b[0m_can_hold_identifiers_and_holds_name\u001b[0m\u001b[0;34m(\u001b[0m\u001b[0mname\u001b[0m\u001b[0;34m)\u001b[0m\u001b[0;34m:\u001b[0m\u001b[0;34m\u001b[0m\u001b[0;34m\u001b[0m\u001b[0m\n\u001b[1;32m   5140\u001b[0m                 \u001b[0;32mreturn\u001b[0m \u001b[0mself\u001b[0m\u001b[0;34m[\u001b[0m\u001b[0mname\u001b[0m\u001b[0;34m]\u001b[0m\u001b[0;34m\u001b[0m\u001b[0;34m\u001b[0m\u001b[0m\n\u001b[0;32m-> 5141\u001b[0;31m             \u001b[0;32mreturn\u001b[0m \u001b[0mobject\u001b[0m\u001b[0;34m.\u001b[0m\u001b[0m__getattribute__\u001b[0m\u001b[0;34m(\u001b[0m\u001b[0mself\u001b[0m\u001b[0;34m,\u001b[0m \u001b[0mname\u001b[0m\u001b[0;34m)\u001b[0m\u001b[0;34m\u001b[0m\u001b[0;34m\u001b[0m\u001b[0m\n\u001b[0m\u001b[1;32m   5142\u001b[0m \u001b[0;34m\u001b[0m\u001b[0m\n\u001b[1;32m   5143\u001b[0m     \u001b[0;32mdef\u001b[0m \u001b[0m__setattr__\u001b[0m\u001b[0;34m(\u001b[0m\u001b[0mself\u001b[0m\u001b[0;34m,\u001b[0m \u001b[0mname\u001b[0m\u001b[0;34m:\u001b[0m \u001b[0mstr\u001b[0m\u001b[0;34m,\u001b[0m \u001b[0mvalue\u001b[0m\u001b[0;34m)\u001b[0m \u001b[0;34m->\u001b[0m \u001b[0;32mNone\u001b[0m\u001b[0;34m:\u001b[0m\u001b[0;34m\u001b[0m\u001b[0;34m\u001b[0m\u001b[0m\n",
            "\u001b[0;31mAttributeError\u001b[0m: 'Series' object has no attribute 'month'"
          ]
        }
      ]
    },
    {
      "cell_type": "code",
      "metadata": {
        "colab": {
          "base_uri": "https://localhost:8080/"
        },
        "id": "63hLpHIWiNQB",
        "outputId": "e83a2f65-9e43-4006-e59a-f1201578fc0d"
      },
      "source": [
        "mean_q1 = df.mag[(pd.DatetimeIndex(df['time']).month>=1) & (pd.DatetimeIndex(df['time']).month<=3)].mean()\n",
        "mean_q1"
      ],
      "execution_count": 102,
      "outputs": [
        {
          "output_type": "execute_result",
          "data": {
            "text/plain": [
              "1.4973454077805157"
            ]
          },
          "metadata": {},
          "execution_count": 102
        }
      ]
    },
    {
      "cell_type": "code",
      "metadata": {
        "colab": {
          "base_uri": "https://localhost:8080/"
        },
        "id": "yOsexIC4i19t",
        "outputId": "0b205e23-cbda-4437-fc93-1281a41f95b4"
      },
      "source": [
        "mean_q2 = df.mag[(pd.DatetimeIndex(df['time']).month>=4) & (pd.DatetimeIndex(df['time']).month<=6)].mean()\n",
        "mean_q2"
      ],
      "execution_count": 140,
      "outputs": [
        {
          "output_type": "execute_result",
          "data": {
            "text/plain": [
              "nan"
            ]
          },
          "metadata": {},
          "execution_count": 140
        }
      ]
    },
    {
      "cell_type": "code",
      "metadata": {
        "colab": {
          "base_uri": "https://localhost:8080/"
        },
        "id": "wfa9rib4jHRn",
        "outputId": "15c17ee9-cb52-49d5-a265-e251abcecaf6"
      },
      "source": [
        "mean_q3 = df.mag[(pd.DatetimeIndex(df['time']).month>=7) & (pd.DatetimeIndex(df['time']).month<=9)].mean()\n",
        "mean_q3\n"
      ],
      "execution_count": 139,
      "outputs": [
        {
          "output_type": "execute_result",
          "data": {
            "text/plain": [
              "1.466735124760082"
            ]
          },
          "metadata": {},
          "execution_count": 139
        }
      ]
    },
    {
      "cell_type": "code",
      "metadata": {
        "colab": {
          "base_uri": "https://localhost:8080/"
        },
        "id": "8dQX4N3zmCy3",
        "outputId": "719c8eba-381f-4220-9bd2-a23e70f7d8cd"
      },
      "source": [
        "mean_q4 = df.mag[(pd.DatetimeIndex(df['time']).month>=10) & (pd.DatetimeIndex(df['time']).month<=12)].mean()\n",
        "mean_q4"
      ],
      "execution_count": 141,
      "outputs": [
        {
          "output_type": "execute_result",
          "data": {
            "text/plain": [
              "1.5360446493569568"
            ]
          },
          "metadata": {},
          "execution_count": 141
        }
      ]
    },
    {
      "cell_type": "code",
      "metadata": {
        "colab": {
          "base_uri": "https://localhost:8080/"
        },
        "id": "-ax53czAmbAH",
        "outputId": "791d0122-070d-4597-ad6f-74b5413206b4"
      },
      "source": [
        "pd.DatetimeIndex(df['time'])"
      ],
      "execution_count": 127,
      "outputs": [
        {
          "output_type": "execute_result",
          "data": {
            "text/plain": [
              "DatetimeIndex(['1970-01-01 00:25:39.475168010',\n",
              "               '1970-01-01 00:25:39.475129610',\n",
              "               '1970-01-01 00:25:39.475062610',\n",
              "               '1970-01-01 00:25:39.474978070',\n",
              "               '1970-01-01 00:25:39.474716050',\n",
              "               '1970-01-01 00:25:39.473686440',\n",
              "               '1970-01-01 00:25:39.473176017',\n",
              "               '1970-01-01 00:25:39.473060280',\n",
              "               '1970-01-01 00:25:39.473042310',\n",
              "               '1970-01-01 00:25:39.472814760',\n",
              "               ...\n",
              "               '1970-01-01 00:25:37.231090700',\n",
              "               '1970-01-01 00:25:37.230828440',\n",
              "               '1970-01-01 00:25:37.230357100',\n",
              "               '1970-01-01 00:25:37.230344890',\n",
              "               '1970-01-01 00:25:37.230230260',\n",
              "               '1970-01-01 00:25:37.230228060',\n",
              "               '1970-01-01 00:25:37.230135130',\n",
              "               '1970-01-01 00:25:37.229908180',\n",
              "               '1970-01-01 00:25:37.229545350',\n",
              "               '1970-01-01 00:25:37.228864470'],\n",
              "              dtype='datetime64[ns]', name='time', length=9332, freq=None)"
            ]
          },
          "metadata": {},
          "execution_count": 127
        }
      ]
    },
    {
      "cell_type": "code",
      "metadata": {
        "colab": {
          "base_uri": "https://localhost:8080/"
        },
        "id": "qqbFBwKTnOws",
        "outputId": "30239c76-1fc4-430b-e85b-6945444a7452"
      },
      "source": [
        "pd.to_datetime(df.time.tolist(), unit='ms').month.unique()"
      ],
      "execution_count": 126,
      "outputs": [
        {
          "output_type": "execute_result",
          "data": {
            "text/plain": [
              "Int64Index([10, 9], dtype='int64')"
            ]
          },
          "metadata": {},
          "execution_count": 126
        }
      ]
    },
    {
      "cell_type": "code",
      "metadata": {
        "id": "65b_-BdupDEz"
      },
      "source": [
        ""
      ],
      "execution_count": 138,
      "outputs": []
    }
  ]
}