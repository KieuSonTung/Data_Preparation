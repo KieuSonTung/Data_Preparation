{
  "nbformat": 4,
  "nbformat_minor": 0,
  "metadata": {
    "colab": {
      "name": "ReviewPandas.ipynb",
      "provenance": [],
      "toc_visible": true,
      "authorship_tag": "ABX9TyNKjT3ImX4g9uP2HHKLBj0y",
      "include_colab_link": true
    },
    "kernelspec": {
      "name": "python3",
      "display_name": "Python 3"
    },
    "language_info": {
      "name": "python"
    }
  },
  "cells": [
    {
      "cell_type": "markdown",
      "metadata": {
        "id": "view-in-github",
        "colab_type": "text"
      },
      "source": [
        "<a href=\"https://colab.research.google.com/github/KieuSonTung/Data_Preparation/blob/main/ReviewPandas.ipynb\" target=\"_parent\"><img src=\"https://colab.research.google.com/assets/colab-badge.svg\" alt=\"Open In Colab\"/></a>"
      ]
    },
    {
      "cell_type": "code",
      "metadata": {
        "id": "ibvVOmXDhLrB"
      },
      "source": [
        "import pandas as pd\n",
        "import re"
      ],
      "execution_count": 20,
      "outputs": []
    },
    {
      "cell_type": "code",
      "metadata": {
        "colab": {
          "base_uri": "https://localhost:8080/"
        },
        "id": "wHZ_mwoIi-Ya",
        "outputId": "ac2c59c6-3e30-41bb-c3ec-566e80a21daa"
      },
      "source": [
        "from google.colab import drive\n",
        "drive.mount('/content/drive/')"
      ],
      "execution_count": 2,
      "outputs": [
        {
          "output_type": "stream",
          "name": "stdout",
          "text": [
            "Mounted at /content/drive/\n"
          ]
        }
      ]
    },
    {
      "cell_type": "code",
      "metadata": {
        "id": "pPxsl9AhlSTE"
      },
      "source": [
        "Path = 'drive/MyDrive/ColabNotebooks/data/'\n",
        "df = pd.read_csv(Path+'earthquakes.csv')"
      ],
      "execution_count": 5,
      "outputs": []
    },
    {
      "cell_type": "code",
      "metadata": {
        "id": "0EfuRqWGl-Os"
      },
      "source": [
        "df.head(5)"
      ],
      "execution_count": null,
      "outputs": []
    },
    {
      "cell_type": "code",
      "metadata": {
        "colab": {
          "base_uri": "https://localhost:8080/"
        },
        "id": "avhCSxAwmI-B",
        "outputId": "dd173535-7bda-40e5-d459-2cd072480c0d"
      },
      "source": [
        "df['type'][(df.magType == 'ml') & (df['type'] == 'explosion')].count()"
      ],
      "execution_count": 24,
      "outputs": [
        {
          "output_type": "execute_result",
          "data": {
            "text/plain": [
              "1"
            ]
          },
          "metadata": {},
          "execution_count": 24
        }
      ]
    },
    {
      "cell_type": "code",
      "metadata": {
        "colab": {
          "base_uri": "https://localhost:8080/"
        },
        "id": "mqLIopzanWIP",
        "outputId": "a5d1b2aa-6fb9-4761-f52d-d7d6f5969e26"
      },
      "source": [
        "in_Alaska = df[df.place.str.contains('Alaska', na=False)]\n",
        "in_Alaska_less_100km = in_Alaska[pd.to_numeric(in_Alaska.place.str.split(' ').str.get(0).str[:-2]) < 100]\n",
        "in_Alaska_less_100km['distance'] = pd.to_numeric(in_Alaska_less_100km.place.str.split(' ').str.get(0).str[:-2])\n",
        "in_Alaska_less_100km.mean().loc['mag']\n",
        "                                        "
      ],
      "execution_count": 66,
      "outputs": [
        {
          "output_type": "stream",
          "name": "stderr",
          "text": [
            "/usr/local/lib/python3.7/dist-packages/ipykernel_launcher.py:3: SettingWithCopyWarning: \n",
            "A value is trying to be set on a copy of a slice from a DataFrame.\n",
            "Try using .loc[row_indexer,col_indexer] = value instead\n",
            "\n",
            "See the caveats in the documentation: https://pandas.pydata.org/pandas-docs/stable/user_guide/indexing.html#returning-a-view-versus-a-copy\n",
            "  This is separate from the ipykernel package so we can avoid doing imports until\n"
          ]
        },
        {
          "output_type": "execute_result",
          "data": {
            "text/plain": [
              "1.624840425531916"
            ]
          },
          "metadata": {},
          "execution_count": 66
        }
      ]
    },
    {
      "cell_type": "code",
      "metadata": {
        "colab": {
          "base_uri": "https://localhost:8080/"
        },
        "id": "3di_bDOkotUv",
        "outputId": "e891ff8e-bdb8-47a1-c3fa-88fe52409bdd"
      },
      "source": [
        ""
      ],
      "execution_count": 72,
      "outputs": [
        {
          "output_type": "execute_result",
          "data": {
            "text/plain": [
              "6      False\n",
              "18     False\n",
              "21     False\n",
              "26     False\n",
              "27     False\n",
              "       ...  \n",
              "717    False\n",
              "722    False\n",
              "724    False\n",
              "726    False\n",
              "728    False\n",
              "Name: place, Length: 241, dtype: bool"
            ]
          },
          "metadata": {},
          "execution_count": 72
        }
      ]
    }
  ]
}